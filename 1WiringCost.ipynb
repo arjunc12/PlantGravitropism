{
 "cells": [
  {
   "cell_type": "code",
   "execution_count": 2,
   "id": "5ed251e9",
   "metadata": {},
   "outputs": [],
   "source": [
    "import matplotlib.pyplot as plt\n",
    "import numpy as np\n",
    "import pylab\n",
    "import scipy\n",
    "import plotly\n",
    "from plotly import graph_objs as go\n",
    "from plotly.offline import iplot, plot, init_notebook_mode"
   ]
  },
  {
   "cell_type": "code",
   "execution_count": 3,
   "id": "1c49b241",
   "metadata": {},
   "outputs": [],
   "source": [
    "def parseData(file):\n",
    "    import csv\n",
    "    Data =[]\n",
    "    with open(file) as csv_file:\n",
    "        csv_reader = csv.reader(csv_file, delimiter=',')\n",
    "        for lines in csv_reader:\n",
    "           Data.append(lines)\n",
    "        mainRootPoints =[]\n",
    "        c=1\n",
    "        while len(Data[c]) != 1:\n",
    "            point = [float(Data[c][0]),float(Data[c][1])]\n",
    "            mainRootPoints.append(point)\n",
    "            c= c+1\n",
    "        pqs =[]\n",
    "        pq=[]\n",
    "        c=c+1\n",
    "        while c < len(Data):\n",
    "            if len(Data[c]) ==1:\n",
    "                pqs.append(pq)\n",
    "                pq =[]\n",
    "            if len(Data[c]) ==2:\n",
    "                point = [float(Data[c][0]),float(Data[c][1])]\n",
    "                pq.append(point)\n",
    "            c = c+1\n",
    "        pqs.append(pq)\n",
    "    return (mainRootPoints, pqs)"
   ]
  },
  {
   "cell_type": "code",
   "execution_count": 32,
   "id": "51259f7d",
   "metadata": {},
   "outputs": [],
   "source": [
    "def readArborFile(fileName):\n",
    "    Array = parseData(fileName)\n",
    "    mainRootPoints = Array[0]\n",
    "    lateralRoots =Array[1]\n",
    "    Plant = nx.Graph()\n",
    "    #adding the mainroot base to graph\n",
    "    Plant.add_node(0)\n",
    "    Plant._node[0]['label']= 'main root base'\n",
    "    Plant._node[0]['coordinate'] = [mainRootPoints[0][0], mainRootPoints[0][1]]\n",
    "    Plant._node[0]['root number']= 0\n",
    "    #constructing the main root\n",
    "    for i in range(1, len(mainRootPoints)):\n",
    "        Plant.add_node(i)\n",
    "        Plant._node[i]['label']= 'main root'\n",
    "        Plant._node[i]['coordinate'] = (mainRootPoints[i][0], mainRootPoints[i][1])\n",
    "        Plant._node[i]['root number']=0\n",
    "        Plant.add_edge(i-1,i)\n",
    "        Plant[i-1][i]['label'] = 'main root'\n",
    "        Plant[i-1][i]['G'] = 0\n",
    "        Plant[i-1][i]['root number']=0\n",
    "    #this way we can have individual labels for points\n",
    "    count = len(mainRootPoints)\n",
    "    rootNumber =1\n",
    "    #constructing the lateral roots\n",
    "    for root in lateralRoots:\n",
    "        # constructing a lateral root\n",
    "        #making the first point\n",
    "        Plant.add_node(count)\n",
    "        Plant._node[count]['label'] = 'lateral root'\n",
    "        Plant._node[count]['coordinate'] = (root[0][0],root[0][1])\n",
    "        Plant._node[count]['root number'] = rootNumber\n",
    "        #making the inside points and edges\n",
    "        for i in range(1,len(root) -1):\n",
    "            c =count +i\n",
    "            Plant.add_node(c)\n",
    "            Plant._node[c]['label'] = 'lateral root'\n",
    "            Plant._node[c]['coordinate'] = (root[i][0],root[i][1])\n",
    "            Plant._node[c]['root number'] = rootNumber\n",
    "            Plant.add_edge(c-1,c)\n",
    "            Plant[c-1][c]['label'] = 'lateral root'\n",
    "            Plant[c-1][c]['G']=0\n",
    "            Plant[c-1][c]['root number'] = rootNumber\n",
    "        #making the root tip\n",
    "        count = count +len(root)-1\n",
    "        Plant.add_node(count)\n",
    "        Plant._node[count]['label'] = 'lateral root tip'\n",
    "        Plant._node[count]['coordinate'] = (root[-1][0],root[-1][1])\n",
    "        Plant._node[count]['root number'] = rootNumber\n",
    "        Plant.add_edge(count-1,count)\n",
    "        Plant[count-1][count]['label'] = 'lateral root'\n",
    "        Plant[count-1][count]['G'] =0\n",
    "        Plant[count-1][count]['root number'] = rootNumber\n",
    "        count = count+1\n",
    "        rootNumber = rootNumber+1\n",
    "    # return a networkX graph of the arbor\n",
    "    return Plant"
   ]
  },
  {
   "cell_type": "code",
   "execution_count": 33,
   "id": "cb38d879",
   "metadata": {},
   "outputs": [],
   "source": [
    "def optimalArbor(arbor, G, alpha):\n",
    "    MainRootPoints = []\n",
    "    pqs=[]\n",
    "    Plant = nx.Graph()\n",
    "    c=0\n",
    "    for node in arbor.nodes():\n",
    "        x, y = arbor.nodes[node]['coordinate']\n",
    "        if 'main root base' == arbor.nodes[node]['label']:\n",
    "            MainRootPoints.append([x,y])\n",
    "            Plant.add_node(c)\n",
    "            Plant._node[c]['label'] = arbor.nodes[node]['label']\n",
    "            Plant._node[c]['coordinate'] = arbor.nodes[node]['coordinate']\n",
    "            Plant._node[c]['root number'] =arbor.nodes[node]['root number']\n",
    "            c = c+1\n",
    "        elif 'main root' == arbor.nodes[node]['label']:\n",
    "            MainRootPoints.append([x,y])\n",
    "            Plant.add_node(c)\n",
    "            Plant._node[c]['label'] = arbor.nodes[node]['label']\n",
    "            Plant._node[c]['coordinate'] = arbor.nodes[node]['coordinate']\n",
    "            Plant.add_edge(c-1,c)\n",
    "            Plant[c-1][c]['label'] = 'main root'\n",
    "            Plant[c-1][c]['G'] =0\n",
    "            Plant[c-1][c]['root number'] =0\n",
    "            c = c+1\n",
    "        elif 'lateral root tip' == arbor.nodes[node]['label']:\n",
    "            pqs.append([x,y])\n",
    "            Plant.add_node(c)\n",
    "            Plant._node[c]['label'] = arbor.nodes[node]['label']\n",
    "            Plant._node[c]['coordinate'] = arbor.nodes[node]['coordinate']\n",
    "            c = c+1\n",
    "    rootNumber =1\n",
    "    for pq in pqs:\n",
    "        Array =findMostOptimal(MainRootPoints,G, alpha,pq) \n",
    "        txy =Array[0]\n",
    "        xs=Array[1]\n",
    "        ys=Array[2]\n",
    "        Plant.add_node(c)\n",
    "        Plant._node[c]['label']='optimal'\n",
    "        Plant._node[c]['root number'] = rootNumber\n",
    "        tx = txy[0][0]\n",
    "        ty = txy[1][0]\n",
    "        Plant._node[c]['coordinate'] = [tx,ty]\n",
    "        Plant._node[c]['pq'] = pq\n",
    "        for node in Plant.nodes():\n",
    "            if 'lateral root tip' == Plant.nodes[node]['label']:\n",
    "                if (pq[0],pq[1]) == Plant.nodes[node]['coordinate']:\n",
    "                    Plant.add_edge(c, node)\n",
    "                    Plant[c][node]['label'] ='lateral root'\n",
    "                    Plant[c][node]['root number'] = rootNumber\n",
    "                    Plant[c][node]['G'] = G\n",
    "                    Plant[c][node]['xs'] = xs\n",
    "                    Plant[c][node]['ys']= ys\n",
    "                    break\n",
    "        rootNumber = rootNumber +1\n",
    "        c=c+1\n",
    "    return Plant\n",
    "    # arbor is a networkx graph\n",
    "    # return a networkx graph representing optimal arbor"
   ]
  },
  {
   "cell_type": "code",
   "execution_count": 34,
   "id": "a6cb1d66",
   "metadata": {},
   "outputs": [],
   "source": [
    "def findMostOptimal(MainRootPoints,G, al,pq):\n",
    "    p = pq[0]\n",
    "    q = pq[1]\n",
    "    point1 = MainRootPoints[0]\n",
    "    point2 = MainRootPoints[1]\n",
    "    CD = 0\n",
    "    bestDAC = findOptimalInSegment(point1, point2,G,al,pq,CD) \n",
    "    #return length, txy, xs,ys\n",
    "    bestLength = bestDAC[0] \n",
    "    for i in range(2, len(MainRootPoints)):\n",
    "        length = findOptimalInSegment(point1, point2,G,al,pq,CD)[0]\n",
    "        if length < bestLength:\n",
    "            bestDAC = findOptimalInSegment(point1, point2,G,al,pq,CD)\n",
    "            #returns length, txy, xs, ys\n",
    "            bestLength = length\n",
    "        CD = CD +findOptimalInSegment(point1, point2,G,al,pq,CD)[4] \n",
    "        point1 = point2\n",
    "        point2 = MainRootPoints[i]\n",
    "    return (bestDAC[1:])\n",
    "    #returen [txy,xs,ys]"
   ]
  },
  {
   "cell_type": "code",
   "execution_count": 4,
   "id": "938e7dcb",
   "metadata": {},
   "outputs": [],
   "source": [
    "def findTheta (a,b,c,d):\n",
    "    theta = np.arctan((np.absolute(a-c))/(np.absolute(b-d)))\n",
    "    m = (b-d)/(a-c)\n",
    "    if m > 0:\n",
    "        theta =-theta\n",
    "    return theta\n",
    "def rotateLine(xs,ys,theta,a,b):\n",
    "    nx=[]\n",
    "    ny=[]\n",
    "    R = [[np.cos(theta), -np.sin(theta)],[np.sin(theta), np.cos(theta)]]\n",
    "    for i in range(0,len(xs)):\n",
    "        A =[xs[i]-a,ys[i]-b]\n",
    "        xy=np.array(np.matmul(A,R))\n",
    "        nx.append(xy[0])\n",
    "        ny.append(xy[1])\n",
    "    return(nx, ny)\n",
    "def findBest(Tmax,G,p,q,a):\n",
    "    t=0\n",
    "    Tmax = -Tmax\n",
    "    bestLength= 100000000000000000000.0\n",
    "    bestT = t\n",
    "    while t >= Tmax:\n",
    "        b = (q - G * (p**2) - t)/p\n",
    "        if p>0:\n",
    "            x =np.linspace(0, p, num=50)\n",
    "        elif p < 0:\n",
    "            x =np.linspace(p, 0, num=50)\n",
    "        lot = np.sqrt(1+(2*G*x + ((q-G*(p**2)-t)/p))**2)\n",
    "        y= a*(lot) +(1-a)*(lot - t)\n",
    "        length = scipy.integrate.trapezoid(y,x)\n",
    "        #print(length)\n",
    "        if length < bestLength:\n",
    "            #ploting(Tmax,p,q,bestT,G) #comparing possible lines\n",
    "            bestLength = length\n",
    "            bestT = t\n",
    "        t = t - 0.01 #last \n",
    "    #ploting(Tmax,p,q,bestT,G)\n",
    "    #print(\"length: \" + str(bestLength) +\" t= \" + str(bestT))\n",
    "    return(bestLength,bestT)\n",
    "def reAngle(xs, ys, theta, a,b):\n",
    "    nx =[]\n",
    "    ny=[]\n",
    "    R = [[np.cos(theta), -np.sin(theta)],[np.sin(theta), np.cos(theta)]]\n",
    "    inR = np.linalg.inv(R)\n",
    "    ab= [a,b]\n",
    "    for i in range(0, len(xs)):\n",
    "        Ap = [xs[i],ys[i]]\n",
    "        xy=np.array(np.add(np.matmul(Ap,inR),ab))\n",
    "        nx.append(xy[0])\n",
    "        ny.append(xy[1])\n",
    "    return(nx, ny)\n",
    "def deAngleCurve(G,al,p,q,theta,a,b,c,d):\n",
    "    pq = rotateLine([p],[q], theta, a,b)\n",
    "    pn = pq[0][0]\n",
    "    qn = pq[1][0]\n",
    "    tmax = rotateLine([c],[d], theta, a,b)\n",
    "    tmax = tmax[1][0]\n",
    "    best = findBest(tmax, G,pn,qn,al) #returns bestLength and bestT\n",
    "    dPlotA = plotDeAngle(tmax, G, pn ,qn,best[1])\n",
    "    dPlot = go.Scatter(x = dPlotA[0], y = dPlotA[1], mode= 'lines' , name = str(best[0]))\n",
    "    raPlotA = reAngle(dPlotA[0], dPlotA[1],theta,a,b)\n",
    "    raPlot = go.Scatter(x = raPlotA[0], y = raPlotA[1], mode = 'lines', name = str(best[0]))\n",
    "    txy = reAngle([0],[best[1]], theta,a,b)\n",
    "    return(best[0], txy, dPlot,raPlot)\n",
    "def plotDeAngle (tmax,G,p,q,t):\n",
    "    x = np.linspace(0,p)\n",
    "    if p <0:\n",
    "        x = np.linspace(p,0)\n",
    "    b=(q - G*(p**2) -t)/p\n",
    "    y=G * x**2 + b*x + t\n",
    "    return (x,y)"
   ]
  },
  {
   "cell_type": "code",
   "execution_count": 5,
   "id": "1c2a071d",
   "metadata": {},
   "outputs": [],
   "source": [
    "def findOptimalInSegment(point1, point2,G,al,pq):\n",
    "    a =point1[0]\n",
    "    b= point1[1]\n",
    "    c= point2[0]\n",
    "    d = point2[1]\n",
    "    p=pq[0]\n",
    "    q=pq[1]\n",
    "    theta = findTheta (a,b,c,d)\n",
    "    ArrayDAC = deAngleCurve(G,al,p,q,theta,a,b,c,d) #returns length, txy, dplot, raplot\n",
    "    return ArrayDAC"
   ]
  },
  {
   "cell_type": "code",
   "execution_count": 22,
   "id": "0bea45a1",
   "metadata": {},
   "outputs": [],
   "source": [
    "def findMostOptimal(main, G,al,pq):\n",
    "    p = pq[0]\n",
    "    q = pq[1]\n",
    "    point1 = main[0]\n",
    "    point2 = main[1]\n",
    "    bestDAC = findOptimalInSegment(point1, point2,G,al,pq)#returns length, txy, dplot, raplot\n",
    "    bestLength = bestDAC[0]\n",
    "    #print(bestLength)\n",
    "    point1 = point2\n",
    "    for i in range(2, len(main)):\n",
    "        point2 = main[i]\n",
    "        length = findOptimalInSegment(point1, point2,G,al,pq)[0]\n",
    "        if length < bestLength:\n",
    "            bestDAC = findOptimalInSegment(point1, point2,G,al,pq)\n",
    "        point1 = point2\n",
    "    return (bestDAC)"
   ]
  },
  {
   "cell_type": "code",
   "execution_count": 7,
   "id": "48d91763",
   "metadata": {},
   "outputs": [],
   "source": [
    "def plotPoints(points, name):\n",
    "    xs = []\n",
    "    ys=[]\n",
    "    for i in points:\n",
    "        xs.append(i[0])\n",
    "        ys.append(i[1])\n",
    "    trace1 = go.Scatter(x=xs, y = ys, name = name)\n",
    "    return (trace1)"
   ]
  },
  {
   "cell_type": "code",
   "execution_count": 8,
   "id": "1aa77110",
   "metadata": {},
   "outputs": [],
   "source": [
    "def plotData(array):\n",
    "    mainRootPoints = array[0]\n",
    "    pqs = array[1]\n",
    "    #print(pqs)\n",
    "    fig = go.Figure()\n",
    "    trace= plotPoints(mainRootPoints, \"main root\")\n",
    "    fig.add_trace(trace)\n",
    "    for pq in pqs:\n",
    "        trace = plotPoints(pq, \"lateral root\")\n",
    "        fig.add_trace(trace)\n",
    "    return (fig)"
   ]
  },
  {
   "cell_type": "code",
   "execution_count": 27,
   "id": "da5a2eaa",
   "metadata": {},
   "outputs": [
    {
     "data": {
      "application/vnd.plotly.v1+json": {
       "config": {
        "plotlyServerURL": "https://plot.ly"
       },
       "data": [
        {
         "name": "main root",
         "type": "scatter",
         "x": [
          7.014674,
          7.068931,
          7.097697,
          7.102405,
          7.096509,
          7.078003,
          7.057387,
          7.064473,
          7.056801,
          7.045027,
          7.03578,
          7.053914,
          7.058697,
          7.050602,
          7.021744
         ],
         "y": [
          4.083105,
          4.391064,
          4.580238,
          4.699361,
          4.817372,
          4.93411,
          5.050687,
          5.168109,
          5.286132,
          5.443573,
          5.623435,
          5.801408,
          5.991669,
          6.214376,
          6.799064
         ]
        },
        {
         "name": "lateral root",
         "type": "scatter",
         "x": [
          7.03248,
          6.921742,
          6.763005
         ],
         "y": [
          4.136673,
          4.219422,
          4.337383
         ]
        },
        {
         "name": "lateral root",
         "type": "scatter",
         "x": [
          7.065898,
          7.312281,
          7.439422
         ],
         "y": [
          4.198863,
          4.231294,
          4.27106
         ]
        },
        {
         "name": "lateral root",
         "type": "scatter",
         "x": [
          7.125593,
          7.182462,
          7.287631
         ],
         "y": [
          4.363359,
          4.368823,
          4.43411
         ]
        }
       ],
       "layout": {
        "template": {
         "data": {
          "bar": [
           {
            "error_x": {
             "color": "#2a3f5f"
            },
            "error_y": {
             "color": "#2a3f5f"
            },
            "marker": {
             "line": {
              "color": "#E5ECF6",
              "width": 0.5
             },
             "pattern": {
              "fillmode": "overlay",
              "size": 10,
              "solidity": 0.2
             }
            },
            "type": "bar"
           }
          ],
          "barpolar": [
           {
            "marker": {
             "line": {
              "color": "#E5ECF6",
              "width": 0.5
             },
             "pattern": {
              "fillmode": "overlay",
              "size": 10,
              "solidity": 0.2
             }
            },
            "type": "barpolar"
           }
          ],
          "carpet": [
           {
            "aaxis": {
             "endlinecolor": "#2a3f5f",
             "gridcolor": "white",
             "linecolor": "white",
             "minorgridcolor": "white",
             "startlinecolor": "#2a3f5f"
            },
            "baxis": {
             "endlinecolor": "#2a3f5f",
             "gridcolor": "white",
             "linecolor": "white",
             "minorgridcolor": "white",
             "startlinecolor": "#2a3f5f"
            },
            "type": "carpet"
           }
          ],
          "choropleth": [
           {
            "colorbar": {
             "outlinewidth": 0,
             "ticks": ""
            },
            "type": "choropleth"
           }
          ],
          "contour": [
           {
            "colorbar": {
             "outlinewidth": 0,
             "ticks": ""
            },
            "colorscale": [
             [
              0,
              "#0d0887"
             ],
             [
              0.1111111111111111,
              "#46039f"
             ],
             [
              0.2222222222222222,
              "#7201a8"
             ],
             [
              0.3333333333333333,
              "#9c179e"
             ],
             [
              0.4444444444444444,
              "#bd3786"
             ],
             [
              0.5555555555555556,
              "#d8576b"
             ],
             [
              0.6666666666666666,
              "#ed7953"
             ],
             [
              0.7777777777777778,
              "#fb9f3a"
             ],
             [
              0.8888888888888888,
              "#fdca26"
             ],
             [
              1,
              "#f0f921"
             ]
            ],
            "type": "contour"
           }
          ],
          "contourcarpet": [
           {
            "colorbar": {
             "outlinewidth": 0,
             "ticks": ""
            },
            "type": "contourcarpet"
           }
          ],
          "heatmap": [
           {
            "colorbar": {
             "outlinewidth": 0,
             "ticks": ""
            },
            "colorscale": [
             [
              0,
              "#0d0887"
             ],
             [
              0.1111111111111111,
              "#46039f"
             ],
             [
              0.2222222222222222,
              "#7201a8"
             ],
             [
              0.3333333333333333,
              "#9c179e"
             ],
             [
              0.4444444444444444,
              "#bd3786"
             ],
             [
              0.5555555555555556,
              "#d8576b"
             ],
             [
              0.6666666666666666,
              "#ed7953"
             ],
             [
              0.7777777777777778,
              "#fb9f3a"
             ],
             [
              0.8888888888888888,
              "#fdca26"
             ],
             [
              1,
              "#f0f921"
             ]
            ],
            "type": "heatmap"
           }
          ],
          "heatmapgl": [
           {
            "colorbar": {
             "outlinewidth": 0,
             "ticks": ""
            },
            "colorscale": [
             [
              0,
              "#0d0887"
             ],
             [
              0.1111111111111111,
              "#46039f"
             ],
             [
              0.2222222222222222,
              "#7201a8"
             ],
             [
              0.3333333333333333,
              "#9c179e"
             ],
             [
              0.4444444444444444,
              "#bd3786"
             ],
             [
              0.5555555555555556,
              "#d8576b"
             ],
             [
              0.6666666666666666,
              "#ed7953"
             ],
             [
              0.7777777777777778,
              "#fb9f3a"
             ],
             [
              0.8888888888888888,
              "#fdca26"
             ],
             [
              1,
              "#f0f921"
             ]
            ],
            "type": "heatmapgl"
           }
          ],
          "histogram": [
           {
            "marker": {
             "pattern": {
              "fillmode": "overlay",
              "size": 10,
              "solidity": 0.2
             }
            },
            "type": "histogram"
           }
          ],
          "histogram2d": [
           {
            "colorbar": {
             "outlinewidth": 0,
             "ticks": ""
            },
            "colorscale": [
             [
              0,
              "#0d0887"
             ],
             [
              0.1111111111111111,
              "#46039f"
             ],
             [
              0.2222222222222222,
              "#7201a8"
             ],
             [
              0.3333333333333333,
              "#9c179e"
             ],
             [
              0.4444444444444444,
              "#bd3786"
             ],
             [
              0.5555555555555556,
              "#d8576b"
             ],
             [
              0.6666666666666666,
              "#ed7953"
             ],
             [
              0.7777777777777778,
              "#fb9f3a"
             ],
             [
              0.8888888888888888,
              "#fdca26"
             ],
             [
              1,
              "#f0f921"
             ]
            ],
            "type": "histogram2d"
           }
          ],
          "histogram2dcontour": [
           {
            "colorbar": {
             "outlinewidth": 0,
             "ticks": ""
            },
            "colorscale": [
             [
              0,
              "#0d0887"
             ],
             [
              0.1111111111111111,
              "#46039f"
             ],
             [
              0.2222222222222222,
              "#7201a8"
             ],
             [
              0.3333333333333333,
              "#9c179e"
             ],
             [
              0.4444444444444444,
              "#bd3786"
             ],
             [
              0.5555555555555556,
              "#d8576b"
             ],
             [
              0.6666666666666666,
              "#ed7953"
             ],
             [
              0.7777777777777778,
              "#fb9f3a"
             ],
             [
              0.8888888888888888,
              "#fdca26"
             ],
             [
              1,
              "#f0f921"
             ]
            ],
            "type": "histogram2dcontour"
           }
          ],
          "mesh3d": [
           {
            "colorbar": {
             "outlinewidth": 0,
             "ticks": ""
            },
            "type": "mesh3d"
           }
          ],
          "parcoords": [
           {
            "line": {
             "colorbar": {
              "outlinewidth": 0,
              "ticks": ""
             }
            },
            "type": "parcoords"
           }
          ],
          "pie": [
           {
            "automargin": true,
            "type": "pie"
           }
          ],
          "scatter": [
           {
            "fillpattern": {
             "fillmode": "overlay",
             "size": 10,
             "solidity": 0.2
            },
            "type": "scatter"
           }
          ],
          "scatter3d": [
           {
            "line": {
             "colorbar": {
              "outlinewidth": 0,
              "ticks": ""
             }
            },
            "marker": {
             "colorbar": {
              "outlinewidth": 0,
              "ticks": ""
             }
            },
            "type": "scatter3d"
           }
          ],
          "scattercarpet": [
           {
            "marker": {
             "colorbar": {
              "outlinewidth": 0,
              "ticks": ""
             }
            },
            "type": "scattercarpet"
           }
          ],
          "scattergeo": [
           {
            "marker": {
             "colorbar": {
              "outlinewidth": 0,
              "ticks": ""
             }
            },
            "type": "scattergeo"
           }
          ],
          "scattergl": [
           {
            "marker": {
             "colorbar": {
              "outlinewidth": 0,
              "ticks": ""
             }
            },
            "type": "scattergl"
           }
          ],
          "scattermapbox": [
           {
            "marker": {
             "colorbar": {
              "outlinewidth": 0,
              "ticks": ""
             }
            },
            "type": "scattermapbox"
           }
          ],
          "scatterpolar": [
           {
            "marker": {
             "colorbar": {
              "outlinewidth": 0,
              "ticks": ""
             }
            },
            "type": "scatterpolar"
           }
          ],
          "scatterpolargl": [
           {
            "marker": {
             "colorbar": {
              "outlinewidth": 0,
              "ticks": ""
             }
            },
            "type": "scatterpolargl"
           }
          ],
          "scatterternary": [
           {
            "marker": {
             "colorbar": {
              "outlinewidth": 0,
              "ticks": ""
             }
            },
            "type": "scatterternary"
           }
          ],
          "surface": [
           {
            "colorbar": {
             "outlinewidth": 0,
             "ticks": ""
            },
            "colorscale": [
             [
              0,
              "#0d0887"
             ],
             [
              0.1111111111111111,
              "#46039f"
             ],
             [
              0.2222222222222222,
              "#7201a8"
             ],
             [
              0.3333333333333333,
              "#9c179e"
             ],
             [
              0.4444444444444444,
              "#bd3786"
             ],
             [
              0.5555555555555556,
              "#d8576b"
             ],
             [
              0.6666666666666666,
              "#ed7953"
             ],
             [
              0.7777777777777778,
              "#fb9f3a"
             ],
             [
              0.8888888888888888,
              "#fdca26"
             ],
             [
              1,
              "#f0f921"
             ]
            ],
            "type": "surface"
           }
          ],
          "table": [
           {
            "cells": {
             "fill": {
              "color": "#EBF0F8"
             },
             "line": {
              "color": "white"
             }
            },
            "header": {
             "fill": {
              "color": "#C8D4E3"
             },
             "line": {
              "color": "white"
             }
            },
            "type": "table"
           }
          ]
         },
         "layout": {
          "annotationdefaults": {
           "arrowcolor": "#2a3f5f",
           "arrowhead": 0,
           "arrowwidth": 1
          },
          "autotypenumbers": "strict",
          "coloraxis": {
           "colorbar": {
            "outlinewidth": 0,
            "ticks": ""
           }
          },
          "colorscale": {
           "diverging": [
            [
             0,
             "#8e0152"
            ],
            [
             0.1,
             "#c51b7d"
            ],
            [
             0.2,
             "#de77ae"
            ],
            [
             0.3,
             "#f1b6da"
            ],
            [
             0.4,
             "#fde0ef"
            ],
            [
             0.5,
             "#f7f7f7"
            ],
            [
             0.6,
             "#e6f5d0"
            ],
            [
             0.7,
             "#b8e186"
            ],
            [
             0.8,
             "#7fbc41"
            ],
            [
             0.9,
             "#4d9221"
            ],
            [
             1,
             "#276419"
            ]
           ],
           "sequential": [
            [
             0,
             "#0d0887"
            ],
            [
             0.1111111111111111,
             "#46039f"
            ],
            [
             0.2222222222222222,
             "#7201a8"
            ],
            [
             0.3333333333333333,
             "#9c179e"
            ],
            [
             0.4444444444444444,
             "#bd3786"
            ],
            [
             0.5555555555555556,
             "#d8576b"
            ],
            [
             0.6666666666666666,
             "#ed7953"
            ],
            [
             0.7777777777777778,
             "#fb9f3a"
            ],
            [
             0.8888888888888888,
             "#fdca26"
            ],
            [
             1,
             "#f0f921"
            ]
           ],
           "sequentialminus": [
            [
             0,
             "#0d0887"
            ],
            [
             0.1111111111111111,
             "#46039f"
            ],
            [
             0.2222222222222222,
             "#7201a8"
            ],
            [
             0.3333333333333333,
             "#9c179e"
            ],
            [
             0.4444444444444444,
             "#bd3786"
            ],
            [
             0.5555555555555556,
             "#d8576b"
            ],
            [
             0.6666666666666666,
             "#ed7953"
            ],
            [
             0.7777777777777778,
             "#fb9f3a"
            ],
            [
             0.8888888888888888,
             "#fdca26"
            ],
            [
             1,
             "#f0f921"
            ]
           ]
          },
          "colorway": [
           "#636efa",
           "#EF553B",
           "#00cc96",
           "#ab63fa",
           "#FFA15A",
           "#19d3f3",
           "#FF6692",
           "#B6E880",
           "#FF97FF",
           "#FECB52"
          ],
          "font": {
           "color": "#2a3f5f"
          },
          "geo": {
           "bgcolor": "white",
           "lakecolor": "white",
           "landcolor": "#E5ECF6",
           "showlakes": true,
           "showland": true,
           "subunitcolor": "white"
          },
          "hoverlabel": {
           "align": "left"
          },
          "hovermode": "closest",
          "mapbox": {
           "style": "light"
          },
          "paper_bgcolor": "white",
          "plot_bgcolor": "#E5ECF6",
          "polar": {
           "angularaxis": {
            "gridcolor": "white",
            "linecolor": "white",
            "ticks": ""
           },
           "bgcolor": "#E5ECF6",
           "radialaxis": {
            "gridcolor": "white",
            "linecolor": "white",
            "ticks": ""
           }
          },
          "scene": {
           "xaxis": {
            "backgroundcolor": "#E5ECF6",
            "gridcolor": "white",
            "gridwidth": 2,
            "linecolor": "white",
            "showbackground": true,
            "ticks": "",
            "zerolinecolor": "white"
           },
           "yaxis": {
            "backgroundcolor": "#E5ECF6",
            "gridcolor": "white",
            "gridwidth": 2,
            "linecolor": "white",
            "showbackground": true,
            "ticks": "",
            "zerolinecolor": "white"
           },
           "zaxis": {
            "backgroundcolor": "#E5ECF6",
            "gridcolor": "white",
            "gridwidth": 2,
            "linecolor": "white",
            "showbackground": true,
            "ticks": "",
            "zerolinecolor": "white"
           }
          },
          "shapedefaults": {
           "line": {
            "color": "#2a3f5f"
           }
          },
          "ternary": {
           "aaxis": {
            "gridcolor": "white",
            "linecolor": "white",
            "ticks": ""
           },
           "baxis": {
            "gridcolor": "white",
            "linecolor": "white",
            "ticks": ""
           },
           "bgcolor": "#E5ECF6",
           "caxis": {
            "gridcolor": "white",
            "linecolor": "white",
            "ticks": ""
           }
          },
          "title": {
           "x": 0.05
          },
          "xaxis": {
           "automargin": true,
           "gridcolor": "white",
           "linecolor": "white",
           "ticks": "",
           "title": {
            "standoff": 15
           },
           "zerolinecolor": "white",
           "zerolinewidth": 2
          },
          "yaxis": {
           "automargin": true,
           "gridcolor": "white",
           "linecolor": "white",
           "ticks": "",
           "title": {
            "standoff": 15
           },
           "zerolinecolor": "white",
           "zerolinewidth": 2
          }
         }
        }
       }
      },
      "text/html": [
       "<div>                            <div id=\"b1a86a56-588c-44f4-8fdb-5fa191c9a48c\" class=\"plotly-graph-div\" style=\"height:525px; width:100%;\"></div>            <script type=\"text/javascript\">                require([\"plotly\"], function(Plotly) {                    window.PLOTLYENV=window.PLOTLYENV || {};                                    if (document.getElementById(\"b1a86a56-588c-44f4-8fdb-5fa191c9a48c\")) {                    Plotly.newPlot(                        \"b1a86a56-588c-44f4-8fdb-5fa191c9a48c\",                        [{\"name\":\"main root\",\"x\":[7.014674,7.068931,7.097697,7.102405,7.096509,7.078003,7.057387,7.064473,7.056801,7.045027,7.03578,7.053914,7.058697,7.050602,7.021744],\"y\":[4.083105,4.391064,4.580238,4.699361,4.817372,4.93411,5.050687,5.168109,5.286132,5.443573,5.623435,5.801408,5.991669,6.214376,6.799064],\"type\":\"scatter\"},{\"name\":\"lateral root\",\"x\":[7.03248,6.921742,6.763005],\"y\":[4.136673,4.219422,4.337383],\"type\":\"scatter\"},{\"name\":\"lateral root\",\"x\":[7.065898,7.312281,7.439422],\"y\":[4.198863,4.231294,4.27106],\"type\":\"scatter\"},{\"name\":\"lateral root\",\"x\":[7.125593,7.182462,7.287631],\"y\":[4.363359,4.368823,4.43411],\"type\":\"scatter\"}],                        {\"template\":{\"data\":{\"histogram2dcontour\":[{\"type\":\"histogram2dcontour\",\"colorbar\":{\"outlinewidth\":0,\"ticks\":\"\"},\"colorscale\":[[0.0,\"#0d0887\"],[0.1111111111111111,\"#46039f\"],[0.2222222222222222,\"#7201a8\"],[0.3333333333333333,\"#9c179e\"],[0.4444444444444444,\"#bd3786\"],[0.5555555555555556,\"#d8576b\"],[0.6666666666666666,\"#ed7953\"],[0.7777777777777778,\"#fb9f3a\"],[0.8888888888888888,\"#fdca26\"],[1.0,\"#f0f921\"]]}],\"choropleth\":[{\"type\":\"choropleth\",\"colorbar\":{\"outlinewidth\":0,\"ticks\":\"\"}}],\"histogram2d\":[{\"type\":\"histogram2d\",\"colorbar\":{\"outlinewidth\":0,\"ticks\":\"\"},\"colorscale\":[[0.0,\"#0d0887\"],[0.1111111111111111,\"#46039f\"],[0.2222222222222222,\"#7201a8\"],[0.3333333333333333,\"#9c179e\"],[0.4444444444444444,\"#bd3786\"],[0.5555555555555556,\"#d8576b\"],[0.6666666666666666,\"#ed7953\"],[0.7777777777777778,\"#fb9f3a\"],[0.8888888888888888,\"#fdca26\"],[1.0,\"#f0f921\"]]}],\"heatmap\":[{\"type\":\"heatmap\",\"colorbar\":{\"outlinewidth\":0,\"ticks\":\"\"},\"colorscale\":[[0.0,\"#0d0887\"],[0.1111111111111111,\"#46039f\"],[0.2222222222222222,\"#7201a8\"],[0.3333333333333333,\"#9c179e\"],[0.4444444444444444,\"#bd3786\"],[0.5555555555555556,\"#d8576b\"],[0.6666666666666666,\"#ed7953\"],[0.7777777777777778,\"#fb9f3a\"],[0.8888888888888888,\"#fdca26\"],[1.0,\"#f0f921\"]]}],\"heatmapgl\":[{\"type\":\"heatmapgl\",\"colorbar\":{\"outlinewidth\":0,\"ticks\":\"\"},\"colorscale\":[[0.0,\"#0d0887\"],[0.1111111111111111,\"#46039f\"],[0.2222222222222222,\"#7201a8\"],[0.3333333333333333,\"#9c179e\"],[0.4444444444444444,\"#bd3786\"],[0.5555555555555556,\"#d8576b\"],[0.6666666666666666,\"#ed7953\"],[0.7777777777777778,\"#fb9f3a\"],[0.8888888888888888,\"#fdca26\"],[1.0,\"#f0f921\"]]}],\"contourcarpet\":[{\"type\":\"contourcarpet\",\"colorbar\":{\"outlinewidth\":0,\"ticks\":\"\"}}],\"contour\":[{\"type\":\"contour\",\"colorbar\":{\"outlinewidth\":0,\"ticks\":\"\"},\"colorscale\":[[0.0,\"#0d0887\"],[0.1111111111111111,\"#46039f\"],[0.2222222222222222,\"#7201a8\"],[0.3333333333333333,\"#9c179e\"],[0.4444444444444444,\"#bd3786\"],[0.5555555555555556,\"#d8576b\"],[0.6666666666666666,\"#ed7953\"],[0.7777777777777778,\"#fb9f3a\"],[0.8888888888888888,\"#fdca26\"],[1.0,\"#f0f921\"]]}],\"surface\":[{\"type\":\"surface\",\"colorbar\":{\"outlinewidth\":0,\"ticks\":\"\"},\"colorscale\":[[0.0,\"#0d0887\"],[0.1111111111111111,\"#46039f\"],[0.2222222222222222,\"#7201a8\"],[0.3333333333333333,\"#9c179e\"],[0.4444444444444444,\"#bd3786\"],[0.5555555555555556,\"#d8576b\"],[0.6666666666666666,\"#ed7953\"],[0.7777777777777778,\"#fb9f3a\"],[0.8888888888888888,\"#fdca26\"],[1.0,\"#f0f921\"]]}],\"mesh3d\":[{\"type\":\"mesh3d\",\"colorbar\":{\"outlinewidth\":0,\"ticks\":\"\"}}],\"scatter\":[{\"fillpattern\":{\"fillmode\":\"overlay\",\"size\":10,\"solidity\":0.2},\"type\":\"scatter\"}],\"parcoords\":[{\"type\":\"parcoords\",\"line\":{\"colorbar\":{\"outlinewidth\":0,\"ticks\":\"\"}}}],\"scatterpolargl\":[{\"type\":\"scatterpolargl\",\"marker\":{\"colorbar\":{\"outlinewidth\":0,\"ticks\":\"\"}}}],\"bar\":[{\"error_x\":{\"color\":\"#2a3f5f\"},\"error_y\":{\"color\":\"#2a3f5f\"},\"marker\":{\"line\":{\"color\":\"#E5ECF6\",\"width\":0.5},\"pattern\":{\"fillmode\":\"overlay\",\"size\":10,\"solidity\":0.2}},\"type\":\"bar\"}],\"scattergeo\":[{\"type\":\"scattergeo\",\"marker\":{\"colorbar\":{\"outlinewidth\":0,\"ticks\":\"\"}}}],\"scatterpolar\":[{\"type\":\"scatterpolar\",\"marker\":{\"colorbar\":{\"outlinewidth\":0,\"ticks\":\"\"}}}],\"histogram\":[{\"marker\":{\"pattern\":{\"fillmode\":\"overlay\",\"size\":10,\"solidity\":0.2}},\"type\":\"histogram\"}],\"scattergl\":[{\"type\":\"scattergl\",\"marker\":{\"colorbar\":{\"outlinewidth\":0,\"ticks\":\"\"}}}],\"scatter3d\":[{\"type\":\"scatter3d\",\"line\":{\"colorbar\":{\"outlinewidth\":0,\"ticks\":\"\"}},\"marker\":{\"colorbar\":{\"outlinewidth\":0,\"ticks\":\"\"}}}],\"scattermapbox\":[{\"type\":\"scattermapbox\",\"marker\":{\"colorbar\":{\"outlinewidth\":0,\"ticks\":\"\"}}}],\"scatterternary\":[{\"type\":\"scatterternary\",\"marker\":{\"colorbar\":{\"outlinewidth\":0,\"ticks\":\"\"}}}],\"scattercarpet\":[{\"type\":\"scattercarpet\",\"marker\":{\"colorbar\":{\"outlinewidth\":0,\"ticks\":\"\"}}}],\"carpet\":[{\"aaxis\":{\"endlinecolor\":\"#2a3f5f\",\"gridcolor\":\"white\",\"linecolor\":\"white\",\"minorgridcolor\":\"white\",\"startlinecolor\":\"#2a3f5f\"},\"baxis\":{\"endlinecolor\":\"#2a3f5f\",\"gridcolor\":\"white\",\"linecolor\":\"white\",\"minorgridcolor\":\"white\",\"startlinecolor\":\"#2a3f5f\"},\"type\":\"carpet\"}],\"table\":[{\"cells\":{\"fill\":{\"color\":\"#EBF0F8\"},\"line\":{\"color\":\"white\"}},\"header\":{\"fill\":{\"color\":\"#C8D4E3\"},\"line\":{\"color\":\"white\"}},\"type\":\"table\"}],\"barpolar\":[{\"marker\":{\"line\":{\"color\":\"#E5ECF6\",\"width\":0.5},\"pattern\":{\"fillmode\":\"overlay\",\"size\":10,\"solidity\":0.2}},\"type\":\"barpolar\"}],\"pie\":[{\"automargin\":true,\"type\":\"pie\"}]},\"layout\":{\"autotypenumbers\":\"strict\",\"colorway\":[\"#636efa\",\"#EF553B\",\"#00cc96\",\"#ab63fa\",\"#FFA15A\",\"#19d3f3\",\"#FF6692\",\"#B6E880\",\"#FF97FF\",\"#FECB52\"],\"font\":{\"color\":\"#2a3f5f\"},\"hovermode\":\"closest\",\"hoverlabel\":{\"align\":\"left\"},\"paper_bgcolor\":\"white\",\"plot_bgcolor\":\"#E5ECF6\",\"polar\":{\"bgcolor\":\"#E5ECF6\",\"angularaxis\":{\"gridcolor\":\"white\",\"linecolor\":\"white\",\"ticks\":\"\"},\"radialaxis\":{\"gridcolor\":\"white\",\"linecolor\":\"white\",\"ticks\":\"\"}},\"ternary\":{\"bgcolor\":\"#E5ECF6\",\"aaxis\":{\"gridcolor\":\"white\",\"linecolor\":\"white\",\"ticks\":\"\"},\"baxis\":{\"gridcolor\":\"white\",\"linecolor\":\"white\",\"ticks\":\"\"},\"caxis\":{\"gridcolor\":\"white\",\"linecolor\":\"white\",\"ticks\":\"\"}},\"coloraxis\":{\"colorbar\":{\"outlinewidth\":0,\"ticks\":\"\"}},\"colorscale\":{\"sequential\":[[0.0,\"#0d0887\"],[0.1111111111111111,\"#46039f\"],[0.2222222222222222,\"#7201a8\"],[0.3333333333333333,\"#9c179e\"],[0.4444444444444444,\"#bd3786\"],[0.5555555555555556,\"#d8576b\"],[0.6666666666666666,\"#ed7953\"],[0.7777777777777778,\"#fb9f3a\"],[0.8888888888888888,\"#fdca26\"],[1.0,\"#f0f921\"]],\"sequentialminus\":[[0.0,\"#0d0887\"],[0.1111111111111111,\"#46039f\"],[0.2222222222222222,\"#7201a8\"],[0.3333333333333333,\"#9c179e\"],[0.4444444444444444,\"#bd3786\"],[0.5555555555555556,\"#d8576b\"],[0.6666666666666666,\"#ed7953\"],[0.7777777777777778,\"#fb9f3a\"],[0.8888888888888888,\"#fdca26\"],[1.0,\"#f0f921\"]],\"diverging\":[[0,\"#8e0152\"],[0.1,\"#c51b7d\"],[0.2,\"#de77ae\"],[0.3,\"#f1b6da\"],[0.4,\"#fde0ef\"],[0.5,\"#f7f7f7\"],[0.6,\"#e6f5d0\"],[0.7,\"#b8e186\"],[0.8,\"#7fbc41\"],[0.9,\"#4d9221\"],[1,\"#276419\"]]},\"xaxis\":{\"gridcolor\":\"white\",\"linecolor\":\"white\",\"ticks\":\"\",\"title\":{\"standoff\":15},\"zerolinecolor\":\"white\",\"automargin\":true,\"zerolinewidth\":2},\"yaxis\":{\"gridcolor\":\"white\",\"linecolor\":\"white\",\"ticks\":\"\",\"title\":{\"standoff\":15},\"zerolinecolor\":\"white\",\"automargin\":true,\"zerolinewidth\":2},\"scene\":{\"xaxis\":{\"backgroundcolor\":\"#E5ECF6\",\"gridcolor\":\"white\",\"linecolor\":\"white\",\"showbackground\":true,\"ticks\":\"\",\"zerolinecolor\":\"white\",\"gridwidth\":2},\"yaxis\":{\"backgroundcolor\":\"#E5ECF6\",\"gridcolor\":\"white\",\"linecolor\":\"white\",\"showbackground\":true,\"ticks\":\"\",\"zerolinecolor\":\"white\",\"gridwidth\":2},\"zaxis\":{\"backgroundcolor\":\"#E5ECF6\",\"gridcolor\":\"white\",\"linecolor\":\"white\",\"showbackground\":true,\"ticks\":\"\",\"zerolinecolor\":\"white\",\"gridwidth\":2}},\"shapedefaults\":{\"line\":{\"color\":\"#2a3f5f\"}},\"annotationdefaults\":{\"arrowcolor\":\"#2a3f5f\",\"arrowhead\":0,\"arrowwidth\":1},\"geo\":{\"bgcolor\":\"white\",\"landcolor\":\"#E5ECF6\",\"subunitcolor\":\"white\",\"showland\":true,\"showlakes\":true,\"lakecolor\":\"white\"},\"title\":{\"x\":0.05},\"mapbox\":{\"style\":\"light\"}}}},                        {\"responsive\": true}                    ).then(function(){\n",
       "                            \n",
       "var gd = document.getElementById('b1a86a56-588c-44f4-8fdb-5fa191c9a48c');\n",
       "var x = new MutationObserver(function (mutations, observer) {{\n",
       "        var display = window.getComputedStyle(gd).display;\n",
       "        if (!display || display === 'none') {{\n",
       "            console.log([gd, 'removed!']);\n",
       "            Plotly.purge(gd);\n",
       "            observer.disconnect();\n",
       "        }}\n",
       "}});\n",
       "\n",
       "// Listen for the removal of the full notebook cells\n",
       "var notebookContainer = gd.closest('#notebook-container');\n",
       "if (notebookContainer) {{\n",
       "    x.observe(notebookContainer, {childList: true});\n",
       "}}\n",
       "\n",
       "// Listen for the clearing of the current output cell\n",
       "var outputEl = gd.closest('.output');\n",
       "if (outputEl) {{\n",
       "    x.observe(outputEl, {childList: true});\n",
       "}}\n",
       "\n",
       "                        })                };                });            </script>        </div>"
      ]
     },
     "metadata": {},
     "output_type": "display_data"
    },
    {
     "data": {
      "application/vnd.plotly.v1+json": {
       "config": {
        "plotlyServerURL": "https://plot.ly"
       },
       "data": [
        {
         "name": "main root",
         "type": "scatter",
         "x": [
          7.014674,
          7.068931,
          7.097697,
          7.102405,
          7.096509,
          7.078003,
          7.057387,
          7.064473,
          7.056801,
          7.045027,
          7.03578,
          7.053914,
          7.058697,
          7.050602,
          7.021744
         ],
         "y": [
          4.083105,
          4.391064,
          4.580238,
          4.699361,
          4.817372,
          4.93411,
          5.050687,
          5.168109,
          5.286132,
          5.443573,
          5.623435,
          5.801408,
          5.991669,
          6.214376,
          6.799064
         ]
        },
        {
         "name": "lateral root",
         "type": "scatter",
         "x": [
          7.03248,
          6.921742,
          6.763005
         ],
         "y": [
          4.136673,
          4.219422,
          4.337383
         ]
        },
        {
         "name": "lateral root",
         "type": "scatter",
         "x": [
          7.065898,
          7.312281,
          7.439422
         ],
         "y": [
          4.198863,
          4.231294,
          4.27106
         ]
        },
        {
         "name": "lateral root",
         "type": "scatter",
         "x": [
          7.125593,
          7.182462,
          7.287631
         ],
         "y": [
          4.363359,
          4.368823,
          4.43411
         ]
        },
        {
         "mode": "lines",
         "name": "0.31060960169400276",
         "type": "scatter",
         "x": [
          6.763005,
          6.768420693811883,
          6.773858091456776,
          6.779317192934677,
          6.784797998245587,
          6.790300507389505,
          6.795824720366431,
          6.801370637176366,
          6.80693825781931,
          6.812527582295262,
          6.8181386106042225,
          6.823771342746191,
          6.829425778721169,
          6.835101918529155,
          6.84079976217015,
          6.846519309644153,
          6.852260560951164,
          6.858023516091184,
          6.863808175064213,
          6.86961453787025,
          6.875442604509296,
          6.881292374981349,
          6.887163849286412,
          6.893057027424483,
          6.898971909395563,
          6.904908495199651,
          6.910866784836747,
          6.916846778306852,
          6.922848475609966,
          6.928871876746088,
          6.934916981715219,
          6.9409837905173575,
          6.947072303152505,
          6.953182519620661,
          6.959314439921826,
          6.965468064055999,
          6.97164339202318,
          6.977840423823371,
          6.984059159456569,
          6.9902995989227765,
          6.996561742221992,
          7.002845589354217,
          7.009151140319449,
          7.0154783951176904,
          7.0218273537489395,
          7.028198016213198,
          7.034590382510465,
          7.04100445264074,
          7.0474402266040235,
          7.053897704400315
         ],
         "y": [
          4.337383,
          4.333035362496611,
          4.328830456026579,
          4.324768280589904,
          4.320848836186586,
          4.317072122816626,
          4.313438140480022,
          4.309946889176775,
          4.306598368906886,
          4.303392579670354,
          4.300329521467178,
          4.2974091942973605,
          4.294631598160899,
          4.291996733057796,
          4.2895045989880485,
          4.28715519595166,
          4.284948523948627,
          4.2828845829789515,
          4.280963373042633,
          4.2791848941396715,
          4.277549146270068,
          4.276056129433821,
          4.27470584363093,
          4.273498288861398,
          4.272433465125222,
          4.271511372422403,
          4.270732010752941,
          4.270095380116837,
          4.2696014805140905,
          4.2692503119447,
          4.269041874408667,
          4.268976167905991,
          4.2690531924366715,
          4.26927294800071,
          4.269635434598105,
          4.270140652228858,
          4.270788600892967,
          4.271579280590434,
          4.272512691321258,
          4.273588833085438,
          4.274807705882976,
          4.276169309713872,
          4.277673644578123,
          4.279320710475733,
          4.281110507406699,
          4.283043035371023,
          4.285118294368703,
          4.287336284399741,
          4.289697005464135,
          4.292200457561887
         ]
        },
        {
         "mode": "lines",
         "name": "0.46673136243388197",
         "type": "scatter",
         "x": [
          7.107893912576261,
          7.114858042640115,
          7.1218139122569415,
          7.12876152142674,
          7.13570087014951,
          7.142631958425252,
          7.149554786253965,
          7.156469353635651,
          7.163375660570308,
          7.170273707057937,
          7.177163493098538,
          7.184045018692111,
          7.190918283838656,
          7.197783288538172,
          7.20464003279066,
          7.211488516596121,
          7.218328739954552,
          7.225160702865956,
          7.231984405330332,
          7.238799847347679,
          7.245607028917998,
          7.25240595004129,
          7.259196610717552,
          7.265979010946787,
          7.2727531507289935,
          7.279519030064172,
          7.286276648952322,
          7.293026007393444,
          7.299767105387538,
          7.306499942934604,
          7.313224520034641,
          7.319940836687651,
          7.3266488928936315,
          7.333348688652585,
          7.340040223964509,
          7.346723498829406,
          7.353398513247274,
          7.360065267218115,
          7.366723760741927,
          7.373373993818711,
          7.380015966448466,
          7.386649678631194,
          7.393275130366893,
          7.399892321655565,
          7.406501252497208,
          7.413101922891823,
          7.419694332839409,
          7.426278482339968,
          7.432854371393498,
          7.439422
         ],
         "y": [
          4.589498031540513,
          4.579031221789484,
          4.568729748472349,
          4.558593611589108,
          4.548622811139763,
          4.538817347124311,
          4.529177219542755,
          4.519702428395092,
          4.510392973681324,
          4.501248855401451,
          4.492270073555472,
          4.483456628143388,
          4.474808519165198,
          4.466325746620903,
          4.458008310510502,
          4.449856210833996,
          4.441869447591384,
          4.434048020782667,
          4.426391930407844,
          4.418901176466915,
          4.411575758959882,
          4.404415677886742,
          4.3974209332474965,
          4.390591525042146,
          4.38392745327069,
          4.377428717933129,
          4.371095319029462,
          4.36492725655969,
          4.358924530523812,
          4.353087140921828,
          4.347415087753739,
          4.341908371019544,
          4.336566990719245,
          4.331390946852839,
          4.3263802394203275,
          4.321534868421711,
          4.316854833856989,
          4.312340135726162,
          4.3079907740292285,
          4.303806748766189,
          4.299788059937045,
          4.295934707541796,
          4.2922466915804405,
          4.28872401205298,
          4.285366668959414,
          4.2821746622997425,
          4.279147992073965,
          4.276286658282082,
          4.273590660924094,
          4.27106
         ]
        },
        {
         "mode": "lines",
         "name": "0.4355615947021112",
         "type": "scatter",
         "x": [
          7.097158662956166,
          7.101145040793183,
          7.105127285826654,
          7.109105398056579,
          7.113079377482959,
          7.117049224105792,
          7.12101493792508,
          7.124976518940821,
          7.128933967153016,
          7.132887282561667,
          7.13683646516677,
          7.140781514968328,
          7.14472243196634,
          7.148659216160806,
          7.152591867551726,
          7.1565203861391,
          7.160444771922928,
          7.16436502490321,
          7.1682811450799475,
          7.172193132453137,
          7.1761009870227825,
          7.180004708788881,
          7.183904297751433,
          7.187799753910441,
          7.191691077265902,
          7.195578267817816,
          7.199461325566185,
          7.203340250511008,
          7.207215042652286,
          7.211085701990017,
          7.2149522285242025,
          7.2188146222548415,
          7.222672883181936,
          7.226527011305483,
          7.230377006625485,
          7.234222869141941,
          7.238064598854851,
          7.241902195764214,
          7.245735659870032,
          7.249564991172305,
          7.25339018967103,
          7.257211255366211,
          7.261028188257845,
          7.2648409883459335,
          7.268649655630476,
          7.272454190111473,
          7.276254591788923,
          7.280050860662828,
          7.2838429967331875,
          7.287631
         ],
         "y": [
          4.825790746971235,
          4.817236389418363,
          4.808705401570524,
          4.800197783427719,
          4.791713534989947,
          4.7832526562572095,
          4.774815147229505,
          4.766401007906834,
          4.758010238289197,
          4.749642838376594,
          4.741298808169024,
          4.732978147666487,
          4.724680856868985,
          4.716406935776515,
          4.70815638438908,
          4.699929202706678,
          4.691725390729309,
          4.683544948456975,
          4.675387875889673,
          4.667254173027406,
          4.659143839870172,
          4.651056876417972,
          4.642993282670805,
          4.634953058628672,
          4.626936204291572,
          4.618942719659506,
          4.610972604732474,
          4.603025859510475,
          4.59510248399351,
          4.587202478181578,
          4.57932584207468,
          4.571472575672815,
          4.5636426789759845,
          4.555836151984187,
          4.548052994697423,
          4.540293207115694,
          4.532556789238997,
          4.524843741067334,
          4.517154062600705,
          4.509487753839109,
          4.501844814782547,
          4.494225245431019,
          4.486629045784524,
          4.4790562158430625,
          4.471506755606635,
          4.4639806650752405,
          4.45647794424888,
          4.448998593127554,
          4.44154261171126,
          4.43411
         ]
        }
       ],
       "layout": {
        "template": {
         "data": {
          "bar": [
           {
            "error_x": {
             "color": "#2a3f5f"
            },
            "error_y": {
             "color": "#2a3f5f"
            },
            "marker": {
             "line": {
              "color": "#E5ECF6",
              "width": 0.5
             },
             "pattern": {
              "fillmode": "overlay",
              "size": 10,
              "solidity": 0.2
             }
            },
            "type": "bar"
           }
          ],
          "barpolar": [
           {
            "marker": {
             "line": {
              "color": "#E5ECF6",
              "width": 0.5
             },
             "pattern": {
              "fillmode": "overlay",
              "size": 10,
              "solidity": 0.2
             }
            },
            "type": "barpolar"
           }
          ],
          "carpet": [
           {
            "aaxis": {
             "endlinecolor": "#2a3f5f",
             "gridcolor": "white",
             "linecolor": "white",
             "minorgridcolor": "white",
             "startlinecolor": "#2a3f5f"
            },
            "baxis": {
             "endlinecolor": "#2a3f5f",
             "gridcolor": "white",
             "linecolor": "white",
             "minorgridcolor": "white",
             "startlinecolor": "#2a3f5f"
            },
            "type": "carpet"
           }
          ],
          "choropleth": [
           {
            "colorbar": {
             "outlinewidth": 0,
             "ticks": ""
            },
            "type": "choropleth"
           }
          ],
          "contour": [
           {
            "colorbar": {
             "outlinewidth": 0,
             "ticks": ""
            },
            "colorscale": [
             [
              0,
              "#0d0887"
             ],
             [
              0.1111111111111111,
              "#46039f"
             ],
             [
              0.2222222222222222,
              "#7201a8"
             ],
             [
              0.3333333333333333,
              "#9c179e"
             ],
             [
              0.4444444444444444,
              "#bd3786"
             ],
             [
              0.5555555555555556,
              "#d8576b"
             ],
             [
              0.6666666666666666,
              "#ed7953"
             ],
             [
              0.7777777777777778,
              "#fb9f3a"
             ],
             [
              0.8888888888888888,
              "#fdca26"
             ],
             [
              1,
              "#f0f921"
             ]
            ],
            "type": "contour"
           }
          ],
          "contourcarpet": [
           {
            "colorbar": {
             "outlinewidth": 0,
             "ticks": ""
            },
            "type": "contourcarpet"
           }
          ],
          "heatmap": [
           {
            "colorbar": {
             "outlinewidth": 0,
             "ticks": ""
            },
            "colorscale": [
             [
              0,
              "#0d0887"
             ],
             [
              0.1111111111111111,
              "#46039f"
             ],
             [
              0.2222222222222222,
              "#7201a8"
             ],
             [
              0.3333333333333333,
              "#9c179e"
             ],
             [
              0.4444444444444444,
              "#bd3786"
             ],
             [
              0.5555555555555556,
              "#d8576b"
             ],
             [
              0.6666666666666666,
              "#ed7953"
             ],
             [
              0.7777777777777778,
              "#fb9f3a"
             ],
             [
              0.8888888888888888,
              "#fdca26"
             ],
             [
              1,
              "#f0f921"
             ]
            ],
            "type": "heatmap"
           }
          ],
          "heatmapgl": [
           {
            "colorbar": {
             "outlinewidth": 0,
             "ticks": ""
            },
            "colorscale": [
             [
              0,
              "#0d0887"
             ],
             [
              0.1111111111111111,
              "#46039f"
             ],
             [
              0.2222222222222222,
              "#7201a8"
             ],
             [
              0.3333333333333333,
              "#9c179e"
             ],
             [
              0.4444444444444444,
              "#bd3786"
             ],
             [
              0.5555555555555556,
              "#d8576b"
             ],
             [
              0.6666666666666666,
              "#ed7953"
             ],
             [
              0.7777777777777778,
              "#fb9f3a"
             ],
             [
              0.8888888888888888,
              "#fdca26"
             ],
             [
              1,
              "#f0f921"
             ]
            ],
            "type": "heatmapgl"
           }
          ],
          "histogram": [
           {
            "marker": {
             "pattern": {
              "fillmode": "overlay",
              "size": 10,
              "solidity": 0.2
             }
            },
            "type": "histogram"
           }
          ],
          "histogram2d": [
           {
            "colorbar": {
             "outlinewidth": 0,
             "ticks": ""
            },
            "colorscale": [
             [
              0,
              "#0d0887"
             ],
             [
              0.1111111111111111,
              "#46039f"
             ],
             [
              0.2222222222222222,
              "#7201a8"
             ],
             [
              0.3333333333333333,
              "#9c179e"
             ],
             [
              0.4444444444444444,
              "#bd3786"
             ],
             [
              0.5555555555555556,
              "#d8576b"
             ],
             [
              0.6666666666666666,
              "#ed7953"
             ],
             [
              0.7777777777777778,
              "#fb9f3a"
             ],
             [
              0.8888888888888888,
              "#fdca26"
             ],
             [
              1,
              "#f0f921"
             ]
            ],
            "type": "histogram2d"
           }
          ],
          "histogram2dcontour": [
           {
            "colorbar": {
             "outlinewidth": 0,
             "ticks": ""
            },
            "colorscale": [
             [
              0,
              "#0d0887"
             ],
             [
              0.1111111111111111,
              "#46039f"
             ],
             [
              0.2222222222222222,
              "#7201a8"
             ],
             [
              0.3333333333333333,
              "#9c179e"
             ],
             [
              0.4444444444444444,
              "#bd3786"
             ],
             [
              0.5555555555555556,
              "#d8576b"
             ],
             [
              0.6666666666666666,
              "#ed7953"
             ],
             [
              0.7777777777777778,
              "#fb9f3a"
             ],
             [
              0.8888888888888888,
              "#fdca26"
             ],
             [
              1,
              "#f0f921"
             ]
            ],
            "type": "histogram2dcontour"
           }
          ],
          "mesh3d": [
           {
            "colorbar": {
             "outlinewidth": 0,
             "ticks": ""
            },
            "type": "mesh3d"
           }
          ],
          "parcoords": [
           {
            "line": {
             "colorbar": {
              "outlinewidth": 0,
              "ticks": ""
             }
            },
            "type": "parcoords"
           }
          ],
          "pie": [
           {
            "automargin": true,
            "type": "pie"
           }
          ],
          "scatter": [
           {
            "fillpattern": {
             "fillmode": "overlay",
             "size": 10,
             "solidity": 0.2
            },
            "type": "scatter"
           }
          ],
          "scatter3d": [
           {
            "line": {
             "colorbar": {
              "outlinewidth": 0,
              "ticks": ""
             }
            },
            "marker": {
             "colorbar": {
              "outlinewidth": 0,
              "ticks": ""
             }
            },
            "type": "scatter3d"
           }
          ],
          "scattercarpet": [
           {
            "marker": {
             "colorbar": {
              "outlinewidth": 0,
              "ticks": ""
             }
            },
            "type": "scattercarpet"
           }
          ],
          "scattergeo": [
           {
            "marker": {
             "colorbar": {
              "outlinewidth": 0,
              "ticks": ""
             }
            },
            "type": "scattergeo"
           }
          ],
          "scattergl": [
           {
            "marker": {
             "colorbar": {
              "outlinewidth": 0,
              "ticks": ""
             }
            },
            "type": "scattergl"
           }
          ],
          "scattermapbox": [
           {
            "marker": {
             "colorbar": {
              "outlinewidth": 0,
              "ticks": ""
             }
            },
            "type": "scattermapbox"
           }
          ],
          "scatterpolar": [
           {
            "marker": {
             "colorbar": {
              "outlinewidth": 0,
              "ticks": ""
             }
            },
            "type": "scatterpolar"
           }
          ],
          "scatterpolargl": [
           {
            "marker": {
             "colorbar": {
              "outlinewidth": 0,
              "ticks": ""
             }
            },
            "type": "scatterpolargl"
           }
          ],
          "scatterternary": [
           {
            "marker": {
             "colorbar": {
              "outlinewidth": 0,
              "ticks": ""
             }
            },
            "type": "scatterternary"
           }
          ],
          "surface": [
           {
            "colorbar": {
             "outlinewidth": 0,
             "ticks": ""
            },
            "colorscale": [
             [
              0,
              "#0d0887"
             ],
             [
              0.1111111111111111,
              "#46039f"
             ],
             [
              0.2222222222222222,
              "#7201a8"
             ],
             [
              0.3333333333333333,
              "#9c179e"
             ],
             [
              0.4444444444444444,
              "#bd3786"
             ],
             [
              0.5555555555555556,
              "#d8576b"
             ],
             [
              0.6666666666666666,
              "#ed7953"
             ],
             [
              0.7777777777777778,
              "#fb9f3a"
             ],
             [
              0.8888888888888888,
              "#fdca26"
             ],
             [
              1,
              "#f0f921"
             ]
            ],
            "type": "surface"
           }
          ],
          "table": [
           {
            "cells": {
             "fill": {
              "color": "#EBF0F8"
             },
             "line": {
              "color": "white"
             }
            },
            "header": {
             "fill": {
              "color": "#C8D4E3"
             },
             "line": {
              "color": "white"
             }
            },
            "type": "table"
           }
          ]
         },
         "layout": {
          "annotationdefaults": {
           "arrowcolor": "#2a3f5f",
           "arrowhead": 0,
           "arrowwidth": 1
          },
          "autotypenumbers": "strict",
          "coloraxis": {
           "colorbar": {
            "outlinewidth": 0,
            "ticks": ""
           }
          },
          "colorscale": {
           "diverging": [
            [
             0,
             "#8e0152"
            ],
            [
             0.1,
             "#c51b7d"
            ],
            [
             0.2,
             "#de77ae"
            ],
            [
             0.3,
             "#f1b6da"
            ],
            [
             0.4,
             "#fde0ef"
            ],
            [
             0.5,
             "#f7f7f7"
            ],
            [
             0.6,
             "#e6f5d0"
            ],
            [
             0.7,
             "#b8e186"
            ],
            [
             0.8,
             "#7fbc41"
            ],
            [
             0.9,
             "#4d9221"
            ],
            [
             1,
             "#276419"
            ]
           ],
           "sequential": [
            [
             0,
             "#0d0887"
            ],
            [
             0.1111111111111111,
             "#46039f"
            ],
            [
             0.2222222222222222,
             "#7201a8"
            ],
            [
             0.3333333333333333,
             "#9c179e"
            ],
            [
             0.4444444444444444,
             "#bd3786"
            ],
            [
             0.5555555555555556,
             "#d8576b"
            ],
            [
             0.6666666666666666,
             "#ed7953"
            ],
            [
             0.7777777777777778,
             "#fb9f3a"
            ],
            [
             0.8888888888888888,
             "#fdca26"
            ],
            [
             1,
             "#f0f921"
            ]
           ],
           "sequentialminus": [
            [
             0,
             "#0d0887"
            ],
            [
             0.1111111111111111,
             "#46039f"
            ],
            [
             0.2222222222222222,
             "#7201a8"
            ],
            [
             0.3333333333333333,
             "#9c179e"
            ],
            [
             0.4444444444444444,
             "#bd3786"
            ],
            [
             0.5555555555555556,
             "#d8576b"
            ],
            [
             0.6666666666666666,
             "#ed7953"
            ],
            [
             0.7777777777777778,
             "#fb9f3a"
            ],
            [
             0.8888888888888888,
             "#fdca26"
            ],
            [
             1,
             "#f0f921"
            ]
           ]
          },
          "colorway": [
           "#636efa",
           "#EF553B",
           "#00cc96",
           "#ab63fa",
           "#FFA15A",
           "#19d3f3",
           "#FF6692",
           "#B6E880",
           "#FF97FF",
           "#FECB52"
          ],
          "font": {
           "color": "#2a3f5f"
          },
          "geo": {
           "bgcolor": "white",
           "lakecolor": "white",
           "landcolor": "#E5ECF6",
           "showlakes": true,
           "showland": true,
           "subunitcolor": "white"
          },
          "hoverlabel": {
           "align": "left"
          },
          "hovermode": "closest",
          "mapbox": {
           "style": "light"
          },
          "paper_bgcolor": "white",
          "plot_bgcolor": "#E5ECF6",
          "polar": {
           "angularaxis": {
            "gridcolor": "white",
            "linecolor": "white",
            "ticks": ""
           },
           "bgcolor": "#E5ECF6",
           "radialaxis": {
            "gridcolor": "white",
            "linecolor": "white",
            "ticks": ""
           }
          },
          "scene": {
           "xaxis": {
            "backgroundcolor": "#E5ECF6",
            "gridcolor": "white",
            "gridwidth": 2,
            "linecolor": "white",
            "showbackground": true,
            "ticks": "",
            "zerolinecolor": "white"
           },
           "yaxis": {
            "backgroundcolor": "#E5ECF6",
            "gridcolor": "white",
            "gridwidth": 2,
            "linecolor": "white",
            "showbackground": true,
            "ticks": "",
            "zerolinecolor": "white"
           },
           "zaxis": {
            "backgroundcolor": "#E5ECF6",
            "gridcolor": "white",
            "gridwidth": 2,
            "linecolor": "white",
            "showbackground": true,
            "ticks": "",
            "zerolinecolor": "white"
           }
          },
          "shapedefaults": {
           "line": {
            "color": "#2a3f5f"
           }
          },
          "ternary": {
           "aaxis": {
            "gridcolor": "white",
            "linecolor": "white",
            "ticks": ""
           },
           "baxis": {
            "gridcolor": "white",
            "linecolor": "white",
            "ticks": ""
           },
           "bgcolor": "#E5ECF6",
           "caxis": {
            "gridcolor": "white",
            "linecolor": "white",
            "ticks": ""
           }
          },
          "title": {
           "x": 0.05
          },
          "xaxis": {
           "automargin": true,
           "gridcolor": "white",
           "linecolor": "white",
           "ticks": "",
           "title": {
            "standoff": 15
           },
           "zerolinecolor": "white",
           "zerolinewidth": 2
          },
          "yaxis": {
           "automargin": true,
           "gridcolor": "white",
           "linecolor": "white",
           "ticks": "",
           "title": {
            "standoff": 15
           },
           "zerolinecolor": "white",
           "zerolinewidth": 2
          }
         }
        }
       }
      },
      "text/html": [
       "<div>                            <div id=\"57fcf6bf-0d07-43ce-98a2-58661c560acd\" class=\"plotly-graph-div\" style=\"height:525px; width:100%;\"></div>            <script type=\"text/javascript\">                require([\"plotly\"], function(Plotly) {                    window.PLOTLYENV=window.PLOTLYENV || {};                                    if (document.getElementById(\"57fcf6bf-0d07-43ce-98a2-58661c560acd\")) {                    Plotly.newPlot(                        \"57fcf6bf-0d07-43ce-98a2-58661c560acd\",                        [{\"name\":\"main root\",\"x\":[7.014674,7.068931,7.097697,7.102405,7.096509,7.078003,7.057387,7.064473,7.056801,7.045027,7.03578,7.053914,7.058697,7.050602,7.021744],\"y\":[4.083105,4.391064,4.580238,4.699361,4.817372,4.93411,5.050687,5.168109,5.286132,5.443573,5.623435,5.801408,5.991669,6.214376,6.799064],\"type\":\"scatter\"},{\"name\":\"lateral root\",\"x\":[7.03248,6.921742,6.763005],\"y\":[4.136673,4.219422,4.337383],\"type\":\"scatter\"},{\"name\":\"lateral root\",\"x\":[7.065898,7.312281,7.439422],\"y\":[4.198863,4.231294,4.27106],\"type\":\"scatter\"},{\"name\":\"lateral root\",\"x\":[7.125593,7.182462,7.287631],\"y\":[4.363359,4.368823,4.43411],\"type\":\"scatter\"},{\"mode\":\"lines\",\"name\":\"0.31060960169400276\",\"x\":[6.763005,6.768420693811883,6.773858091456776,6.779317192934677,6.784797998245587,6.790300507389505,6.795824720366431,6.801370637176366,6.80693825781931,6.812527582295262,6.8181386106042225,6.823771342746191,6.829425778721169,6.835101918529155,6.84079976217015,6.846519309644153,6.852260560951164,6.858023516091184,6.863808175064213,6.86961453787025,6.875442604509296,6.881292374981349,6.887163849286412,6.893057027424483,6.898971909395563,6.904908495199651,6.910866784836747,6.916846778306852,6.922848475609966,6.928871876746088,6.934916981715219,6.9409837905173575,6.947072303152505,6.953182519620661,6.959314439921826,6.965468064055999,6.97164339202318,6.977840423823371,6.984059159456569,6.9902995989227765,6.996561742221992,7.002845589354217,7.009151140319449,7.0154783951176904,7.0218273537489395,7.028198016213198,7.034590382510465,7.04100445264074,7.0474402266040235,7.053897704400315],\"y\":[4.337383,4.333035362496611,4.328830456026579,4.324768280589904,4.320848836186586,4.317072122816626,4.313438140480022,4.309946889176775,4.306598368906886,4.303392579670354,4.300329521467178,4.2974091942973605,4.294631598160899,4.291996733057796,4.2895045989880485,4.28715519595166,4.284948523948627,4.2828845829789515,4.280963373042633,4.2791848941396715,4.277549146270068,4.276056129433821,4.27470584363093,4.273498288861398,4.272433465125222,4.271511372422403,4.270732010752941,4.270095380116837,4.2696014805140905,4.2692503119447,4.269041874408667,4.268976167905991,4.2690531924366715,4.26927294800071,4.269635434598105,4.270140652228858,4.270788600892967,4.271579280590434,4.272512691321258,4.273588833085438,4.274807705882976,4.276169309713872,4.277673644578123,4.279320710475733,4.281110507406699,4.283043035371023,4.285118294368703,4.287336284399741,4.289697005464135,4.292200457561887],\"type\":\"scatter\"},{\"mode\":\"lines\",\"name\":\"0.46673136243388197\",\"x\":[7.107893912576261,7.114858042640115,7.1218139122569415,7.12876152142674,7.13570087014951,7.142631958425252,7.149554786253965,7.156469353635651,7.163375660570308,7.170273707057937,7.177163493098538,7.184045018692111,7.190918283838656,7.197783288538172,7.20464003279066,7.211488516596121,7.218328739954552,7.225160702865956,7.231984405330332,7.238799847347679,7.245607028917998,7.25240595004129,7.259196610717552,7.265979010946787,7.2727531507289935,7.279519030064172,7.286276648952322,7.293026007393444,7.299767105387538,7.306499942934604,7.313224520034641,7.319940836687651,7.3266488928936315,7.333348688652585,7.340040223964509,7.346723498829406,7.353398513247274,7.360065267218115,7.366723760741927,7.373373993818711,7.380015966448466,7.386649678631194,7.393275130366893,7.399892321655565,7.406501252497208,7.413101922891823,7.419694332839409,7.426278482339968,7.432854371393498,7.439422],\"y\":[4.589498031540513,4.579031221789484,4.568729748472349,4.558593611589108,4.548622811139763,4.538817347124311,4.529177219542755,4.519702428395092,4.510392973681324,4.501248855401451,4.492270073555472,4.483456628143388,4.474808519165198,4.466325746620903,4.458008310510502,4.449856210833996,4.441869447591384,4.434048020782667,4.426391930407844,4.418901176466915,4.411575758959882,4.404415677886742,4.3974209332474965,4.390591525042146,4.38392745327069,4.377428717933129,4.371095319029462,4.36492725655969,4.358924530523812,4.353087140921828,4.347415087753739,4.341908371019544,4.336566990719245,4.331390946852839,4.3263802394203275,4.321534868421711,4.316854833856989,4.312340135726162,4.3079907740292285,4.303806748766189,4.299788059937045,4.295934707541796,4.2922466915804405,4.28872401205298,4.285366668959414,4.2821746622997425,4.279147992073965,4.276286658282082,4.273590660924094,4.27106],\"type\":\"scatter\"},{\"mode\":\"lines\",\"name\":\"0.4355615947021112\",\"x\":[7.097158662956166,7.101145040793183,7.105127285826654,7.109105398056579,7.113079377482959,7.117049224105792,7.12101493792508,7.124976518940821,7.128933967153016,7.132887282561667,7.13683646516677,7.140781514968328,7.14472243196634,7.148659216160806,7.152591867551726,7.1565203861391,7.160444771922928,7.16436502490321,7.1682811450799475,7.172193132453137,7.1761009870227825,7.180004708788881,7.183904297751433,7.187799753910441,7.191691077265902,7.195578267817816,7.199461325566185,7.203340250511008,7.207215042652286,7.211085701990017,7.2149522285242025,7.2188146222548415,7.222672883181936,7.226527011305483,7.230377006625485,7.234222869141941,7.238064598854851,7.241902195764214,7.245735659870032,7.249564991172305,7.25339018967103,7.257211255366211,7.261028188257845,7.2648409883459335,7.268649655630476,7.272454190111473,7.276254591788923,7.280050860662828,7.2838429967331875,7.287631],\"y\":[4.825790746971235,4.817236389418363,4.808705401570524,4.800197783427719,4.791713534989947,4.7832526562572095,4.774815147229505,4.766401007906834,4.758010238289197,4.749642838376594,4.741298808169024,4.732978147666487,4.724680856868985,4.716406935776515,4.70815638438908,4.699929202706678,4.691725390729309,4.683544948456975,4.675387875889673,4.667254173027406,4.659143839870172,4.651056876417972,4.642993282670805,4.634953058628672,4.626936204291572,4.618942719659506,4.610972604732474,4.603025859510475,4.59510248399351,4.587202478181578,4.57932584207468,4.571472575672815,4.5636426789759845,4.555836151984187,4.548052994697423,4.540293207115694,4.532556789238997,4.524843741067334,4.517154062600705,4.509487753839109,4.501844814782547,4.494225245431019,4.486629045784524,4.4790562158430625,4.471506755606635,4.4639806650752405,4.45647794424888,4.448998593127554,4.44154261171126,4.43411],\"type\":\"scatter\"}],                        {\"template\":{\"data\":{\"histogram2dcontour\":[{\"type\":\"histogram2dcontour\",\"colorbar\":{\"outlinewidth\":0,\"ticks\":\"\"},\"colorscale\":[[0.0,\"#0d0887\"],[0.1111111111111111,\"#46039f\"],[0.2222222222222222,\"#7201a8\"],[0.3333333333333333,\"#9c179e\"],[0.4444444444444444,\"#bd3786\"],[0.5555555555555556,\"#d8576b\"],[0.6666666666666666,\"#ed7953\"],[0.7777777777777778,\"#fb9f3a\"],[0.8888888888888888,\"#fdca26\"],[1.0,\"#f0f921\"]]}],\"choropleth\":[{\"type\":\"choropleth\",\"colorbar\":{\"outlinewidth\":0,\"ticks\":\"\"}}],\"histogram2d\":[{\"type\":\"histogram2d\",\"colorbar\":{\"outlinewidth\":0,\"ticks\":\"\"},\"colorscale\":[[0.0,\"#0d0887\"],[0.1111111111111111,\"#46039f\"],[0.2222222222222222,\"#7201a8\"],[0.3333333333333333,\"#9c179e\"],[0.4444444444444444,\"#bd3786\"],[0.5555555555555556,\"#d8576b\"],[0.6666666666666666,\"#ed7953\"],[0.7777777777777778,\"#fb9f3a\"],[0.8888888888888888,\"#fdca26\"],[1.0,\"#f0f921\"]]}],\"heatmap\":[{\"type\":\"heatmap\",\"colorbar\":{\"outlinewidth\":0,\"ticks\":\"\"},\"colorscale\":[[0.0,\"#0d0887\"],[0.1111111111111111,\"#46039f\"],[0.2222222222222222,\"#7201a8\"],[0.3333333333333333,\"#9c179e\"],[0.4444444444444444,\"#bd3786\"],[0.5555555555555556,\"#d8576b\"],[0.6666666666666666,\"#ed7953\"],[0.7777777777777778,\"#fb9f3a\"],[0.8888888888888888,\"#fdca26\"],[1.0,\"#f0f921\"]]}],\"heatmapgl\":[{\"type\":\"heatmapgl\",\"colorbar\":{\"outlinewidth\":0,\"ticks\":\"\"},\"colorscale\":[[0.0,\"#0d0887\"],[0.1111111111111111,\"#46039f\"],[0.2222222222222222,\"#7201a8\"],[0.3333333333333333,\"#9c179e\"],[0.4444444444444444,\"#bd3786\"],[0.5555555555555556,\"#d8576b\"],[0.6666666666666666,\"#ed7953\"],[0.7777777777777778,\"#fb9f3a\"],[0.8888888888888888,\"#fdca26\"],[1.0,\"#f0f921\"]]}],\"contourcarpet\":[{\"type\":\"contourcarpet\",\"colorbar\":{\"outlinewidth\":0,\"ticks\":\"\"}}],\"contour\":[{\"type\":\"contour\",\"colorbar\":{\"outlinewidth\":0,\"ticks\":\"\"},\"colorscale\":[[0.0,\"#0d0887\"],[0.1111111111111111,\"#46039f\"],[0.2222222222222222,\"#7201a8\"],[0.3333333333333333,\"#9c179e\"],[0.4444444444444444,\"#bd3786\"],[0.5555555555555556,\"#d8576b\"],[0.6666666666666666,\"#ed7953\"],[0.7777777777777778,\"#fb9f3a\"],[0.8888888888888888,\"#fdca26\"],[1.0,\"#f0f921\"]]}],\"surface\":[{\"type\":\"surface\",\"colorbar\":{\"outlinewidth\":0,\"ticks\":\"\"},\"colorscale\":[[0.0,\"#0d0887\"],[0.1111111111111111,\"#46039f\"],[0.2222222222222222,\"#7201a8\"],[0.3333333333333333,\"#9c179e\"],[0.4444444444444444,\"#bd3786\"],[0.5555555555555556,\"#d8576b\"],[0.6666666666666666,\"#ed7953\"],[0.7777777777777778,\"#fb9f3a\"],[0.8888888888888888,\"#fdca26\"],[1.0,\"#f0f921\"]]}],\"mesh3d\":[{\"type\":\"mesh3d\",\"colorbar\":{\"outlinewidth\":0,\"ticks\":\"\"}}],\"scatter\":[{\"fillpattern\":{\"fillmode\":\"overlay\",\"size\":10,\"solidity\":0.2},\"type\":\"scatter\"}],\"parcoords\":[{\"type\":\"parcoords\",\"line\":{\"colorbar\":{\"outlinewidth\":0,\"ticks\":\"\"}}}],\"scatterpolargl\":[{\"type\":\"scatterpolargl\",\"marker\":{\"colorbar\":{\"outlinewidth\":0,\"ticks\":\"\"}}}],\"bar\":[{\"error_x\":{\"color\":\"#2a3f5f\"},\"error_y\":{\"color\":\"#2a3f5f\"},\"marker\":{\"line\":{\"color\":\"#E5ECF6\",\"width\":0.5},\"pattern\":{\"fillmode\":\"overlay\",\"size\":10,\"solidity\":0.2}},\"type\":\"bar\"}],\"scattergeo\":[{\"type\":\"scattergeo\",\"marker\":{\"colorbar\":{\"outlinewidth\":0,\"ticks\":\"\"}}}],\"scatterpolar\":[{\"type\":\"scatterpolar\",\"marker\":{\"colorbar\":{\"outlinewidth\":0,\"ticks\":\"\"}}}],\"histogram\":[{\"marker\":{\"pattern\":{\"fillmode\":\"overlay\",\"size\":10,\"solidity\":0.2}},\"type\":\"histogram\"}],\"scattergl\":[{\"type\":\"scattergl\",\"marker\":{\"colorbar\":{\"outlinewidth\":0,\"ticks\":\"\"}}}],\"scatter3d\":[{\"type\":\"scatter3d\",\"line\":{\"colorbar\":{\"outlinewidth\":0,\"ticks\":\"\"}},\"marker\":{\"colorbar\":{\"outlinewidth\":0,\"ticks\":\"\"}}}],\"scattermapbox\":[{\"type\":\"scattermapbox\",\"marker\":{\"colorbar\":{\"outlinewidth\":0,\"ticks\":\"\"}}}],\"scatterternary\":[{\"type\":\"scatterternary\",\"marker\":{\"colorbar\":{\"outlinewidth\":0,\"ticks\":\"\"}}}],\"scattercarpet\":[{\"type\":\"scattercarpet\",\"marker\":{\"colorbar\":{\"outlinewidth\":0,\"ticks\":\"\"}}}],\"carpet\":[{\"aaxis\":{\"endlinecolor\":\"#2a3f5f\",\"gridcolor\":\"white\",\"linecolor\":\"white\",\"minorgridcolor\":\"white\",\"startlinecolor\":\"#2a3f5f\"},\"baxis\":{\"endlinecolor\":\"#2a3f5f\",\"gridcolor\":\"white\",\"linecolor\":\"white\",\"minorgridcolor\":\"white\",\"startlinecolor\":\"#2a3f5f\"},\"type\":\"carpet\"}],\"table\":[{\"cells\":{\"fill\":{\"color\":\"#EBF0F8\"},\"line\":{\"color\":\"white\"}},\"header\":{\"fill\":{\"color\":\"#C8D4E3\"},\"line\":{\"color\":\"white\"}},\"type\":\"table\"}],\"barpolar\":[{\"marker\":{\"line\":{\"color\":\"#E5ECF6\",\"width\":0.5},\"pattern\":{\"fillmode\":\"overlay\",\"size\":10,\"solidity\":0.2}},\"type\":\"barpolar\"}],\"pie\":[{\"automargin\":true,\"type\":\"pie\"}]},\"layout\":{\"autotypenumbers\":\"strict\",\"colorway\":[\"#636efa\",\"#EF553B\",\"#00cc96\",\"#ab63fa\",\"#FFA15A\",\"#19d3f3\",\"#FF6692\",\"#B6E880\",\"#FF97FF\",\"#FECB52\"],\"font\":{\"color\":\"#2a3f5f\"},\"hovermode\":\"closest\",\"hoverlabel\":{\"align\":\"left\"},\"paper_bgcolor\":\"white\",\"plot_bgcolor\":\"#E5ECF6\",\"polar\":{\"bgcolor\":\"#E5ECF6\",\"angularaxis\":{\"gridcolor\":\"white\",\"linecolor\":\"white\",\"ticks\":\"\"},\"radialaxis\":{\"gridcolor\":\"white\",\"linecolor\":\"white\",\"ticks\":\"\"}},\"ternary\":{\"bgcolor\":\"#E5ECF6\",\"aaxis\":{\"gridcolor\":\"white\",\"linecolor\":\"white\",\"ticks\":\"\"},\"baxis\":{\"gridcolor\":\"white\",\"linecolor\":\"white\",\"ticks\":\"\"},\"caxis\":{\"gridcolor\":\"white\",\"linecolor\":\"white\",\"ticks\":\"\"}},\"coloraxis\":{\"colorbar\":{\"outlinewidth\":0,\"ticks\":\"\"}},\"colorscale\":{\"sequential\":[[0.0,\"#0d0887\"],[0.1111111111111111,\"#46039f\"],[0.2222222222222222,\"#7201a8\"],[0.3333333333333333,\"#9c179e\"],[0.4444444444444444,\"#bd3786\"],[0.5555555555555556,\"#d8576b\"],[0.6666666666666666,\"#ed7953\"],[0.7777777777777778,\"#fb9f3a\"],[0.8888888888888888,\"#fdca26\"],[1.0,\"#f0f921\"]],\"sequentialminus\":[[0.0,\"#0d0887\"],[0.1111111111111111,\"#46039f\"],[0.2222222222222222,\"#7201a8\"],[0.3333333333333333,\"#9c179e\"],[0.4444444444444444,\"#bd3786\"],[0.5555555555555556,\"#d8576b\"],[0.6666666666666666,\"#ed7953\"],[0.7777777777777778,\"#fb9f3a\"],[0.8888888888888888,\"#fdca26\"],[1.0,\"#f0f921\"]],\"diverging\":[[0,\"#8e0152\"],[0.1,\"#c51b7d\"],[0.2,\"#de77ae\"],[0.3,\"#f1b6da\"],[0.4,\"#fde0ef\"],[0.5,\"#f7f7f7\"],[0.6,\"#e6f5d0\"],[0.7,\"#b8e186\"],[0.8,\"#7fbc41\"],[0.9,\"#4d9221\"],[1,\"#276419\"]]},\"xaxis\":{\"gridcolor\":\"white\",\"linecolor\":\"white\",\"ticks\":\"\",\"title\":{\"standoff\":15},\"zerolinecolor\":\"white\",\"automargin\":true,\"zerolinewidth\":2},\"yaxis\":{\"gridcolor\":\"white\",\"linecolor\":\"white\",\"ticks\":\"\",\"title\":{\"standoff\":15},\"zerolinecolor\":\"white\",\"automargin\":true,\"zerolinewidth\":2},\"scene\":{\"xaxis\":{\"backgroundcolor\":\"#E5ECF6\",\"gridcolor\":\"white\",\"linecolor\":\"white\",\"showbackground\":true,\"ticks\":\"\",\"zerolinecolor\":\"white\",\"gridwidth\":2},\"yaxis\":{\"backgroundcolor\":\"#E5ECF6\",\"gridcolor\":\"white\",\"linecolor\":\"white\",\"showbackground\":true,\"ticks\":\"\",\"zerolinecolor\":\"white\",\"gridwidth\":2},\"zaxis\":{\"backgroundcolor\":\"#E5ECF6\",\"gridcolor\":\"white\",\"linecolor\":\"white\",\"showbackground\":true,\"ticks\":\"\",\"zerolinecolor\":\"white\",\"gridwidth\":2}},\"shapedefaults\":{\"line\":{\"color\":\"#2a3f5f\"}},\"annotationdefaults\":{\"arrowcolor\":\"#2a3f5f\",\"arrowhead\":0,\"arrowwidth\":1},\"geo\":{\"bgcolor\":\"white\",\"landcolor\":\"#E5ECF6\",\"subunitcolor\":\"white\",\"showland\":true,\"showlakes\":true,\"lakecolor\":\"white\"},\"title\":{\"x\":0.05},\"mapbox\":{\"style\":\"light\"}}}},                        {\"responsive\": true}                    ).then(function(){\n",
       "                            \n",
       "var gd = document.getElementById('57fcf6bf-0d07-43ce-98a2-58661c560acd');\n",
       "var x = new MutationObserver(function (mutations, observer) {{\n",
       "        var display = window.getComputedStyle(gd).display;\n",
       "        if (!display || display === 'none') {{\n",
       "            console.log([gd, 'removed!']);\n",
       "            Plotly.purge(gd);\n",
       "            observer.disconnect();\n",
       "        }}\n",
       "}});\n",
       "\n",
       "// Listen for the removal of the full notebook cells\n",
       "var notebookContainer = gd.closest('#notebook-container');\n",
       "if (notebookContainer) {{\n",
       "    x.observe(notebookContainer, {childList: true});\n",
       "}}\n",
       "\n",
       "// Listen for the clearing of the current output cell\n",
       "var outputEl = gd.closest('.output');\n",
       "if (outputEl) {{\n",
       "    x.observe(outputEl, {childList: true});\n",
       "}}\n",
       "\n",
       "                        })                };                });            </script>        </div>"
      ]
     },
     "metadata": {},
     "output_type": "display_data"
    },
    {
     "data": {
      "application/vnd.plotly.v1+json": {
       "config": {
        "plotlyServerURL": "https://plot.ly"
       },
       "data": [
        {
         "name": "main root",
         "type": "scatter",
         "x": [
          7.014674,
          7.068931,
          7.097697,
          7.102405,
          7.096509,
          7.078003,
          7.057387,
          7.064473,
          7.056801,
          7.045027,
          7.03578,
          7.053914,
          7.058697,
          7.050602,
          7.021744
         ],
         "y": [
          4.083105,
          4.391064,
          4.580238,
          4.699361,
          4.817372,
          4.93411,
          5.050687,
          5.168109,
          5.286132,
          5.443573,
          5.623435,
          5.801408,
          5.991669,
          6.214376,
          6.799064
         ]
        },
        {
         "mode": "lines",
         "name": "0.31060960169400276",
         "type": "scatter",
         "x": [
          6.763005,
          6.768420693811883,
          6.773858091456776,
          6.779317192934677,
          6.784797998245587,
          6.790300507389505,
          6.795824720366431,
          6.801370637176366,
          6.80693825781931,
          6.812527582295262,
          6.8181386106042225,
          6.823771342746191,
          6.829425778721169,
          6.835101918529155,
          6.84079976217015,
          6.846519309644153,
          6.852260560951164,
          6.858023516091184,
          6.863808175064213,
          6.86961453787025,
          6.875442604509296,
          6.881292374981349,
          6.887163849286412,
          6.893057027424483,
          6.898971909395563,
          6.904908495199651,
          6.910866784836747,
          6.916846778306852,
          6.922848475609966,
          6.928871876746088,
          6.934916981715219,
          6.9409837905173575,
          6.947072303152505,
          6.953182519620661,
          6.959314439921826,
          6.965468064055999,
          6.97164339202318,
          6.977840423823371,
          6.984059159456569,
          6.9902995989227765,
          6.996561742221992,
          7.002845589354217,
          7.009151140319449,
          7.0154783951176904,
          7.0218273537489395,
          7.028198016213198,
          7.034590382510465,
          7.04100445264074,
          7.0474402266040235,
          7.053897704400315
         ],
         "y": [
          4.337383,
          4.333035362496611,
          4.328830456026579,
          4.324768280589904,
          4.320848836186586,
          4.317072122816626,
          4.313438140480022,
          4.309946889176775,
          4.306598368906886,
          4.303392579670354,
          4.300329521467178,
          4.2974091942973605,
          4.294631598160899,
          4.291996733057796,
          4.2895045989880485,
          4.28715519595166,
          4.284948523948627,
          4.2828845829789515,
          4.280963373042633,
          4.2791848941396715,
          4.277549146270068,
          4.276056129433821,
          4.27470584363093,
          4.273498288861398,
          4.272433465125222,
          4.271511372422403,
          4.270732010752941,
          4.270095380116837,
          4.2696014805140905,
          4.2692503119447,
          4.269041874408667,
          4.268976167905991,
          4.2690531924366715,
          4.26927294800071,
          4.269635434598105,
          4.270140652228858,
          4.270788600892967,
          4.271579280590434,
          4.272512691321258,
          4.273588833085438,
          4.274807705882976,
          4.276169309713872,
          4.277673644578123,
          4.279320710475733,
          4.281110507406699,
          4.283043035371023,
          4.285118294368703,
          4.287336284399741,
          4.289697005464135,
          4.292200457561887
         ]
        },
        {
         "mode": "lines",
         "name": "0.46673136243388197",
         "type": "scatter",
         "x": [
          7.107893912576261,
          7.114858042640115,
          7.1218139122569415,
          7.12876152142674,
          7.13570087014951,
          7.142631958425252,
          7.149554786253965,
          7.156469353635651,
          7.163375660570308,
          7.170273707057937,
          7.177163493098538,
          7.184045018692111,
          7.190918283838656,
          7.197783288538172,
          7.20464003279066,
          7.211488516596121,
          7.218328739954552,
          7.225160702865956,
          7.231984405330332,
          7.238799847347679,
          7.245607028917998,
          7.25240595004129,
          7.259196610717552,
          7.265979010946787,
          7.2727531507289935,
          7.279519030064172,
          7.286276648952322,
          7.293026007393444,
          7.299767105387538,
          7.306499942934604,
          7.313224520034641,
          7.319940836687651,
          7.3266488928936315,
          7.333348688652585,
          7.340040223964509,
          7.346723498829406,
          7.353398513247274,
          7.360065267218115,
          7.366723760741927,
          7.373373993818711,
          7.380015966448466,
          7.386649678631194,
          7.393275130366893,
          7.399892321655565,
          7.406501252497208,
          7.413101922891823,
          7.419694332839409,
          7.426278482339968,
          7.432854371393498,
          7.439422
         ],
         "y": [
          4.589498031540513,
          4.579031221789484,
          4.568729748472349,
          4.558593611589108,
          4.548622811139763,
          4.538817347124311,
          4.529177219542755,
          4.519702428395092,
          4.510392973681324,
          4.501248855401451,
          4.492270073555472,
          4.483456628143388,
          4.474808519165198,
          4.466325746620903,
          4.458008310510502,
          4.449856210833996,
          4.441869447591384,
          4.434048020782667,
          4.426391930407844,
          4.418901176466915,
          4.411575758959882,
          4.404415677886742,
          4.3974209332474965,
          4.390591525042146,
          4.38392745327069,
          4.377428717933129,
          4.371095319029462,
          4.36492725655969,
          4.358924530523812,
          4.353087140921828,
          4.347415087753739,
          4.341908371019544,
          4.336566990719245,
          4.331390946852839,
          4.3263802394203275,
          4.321534868421711,
          4.316854833856989,
          4.312340135726162,
          4.3079907740292285,
          4.303806748766189,
          4.299788059937045,
          4.295934707541796,
          4.2922466915804405,
          4.28872401205298,
          4.285366668959414,
          4.2821746622997425,
          4.279147992073965,
          4.276286658282082,
          4.273590660924094,
          4.27106
         ]
        },
        {
         "mode": "lines",
         "name": "0.4355615947021112",
         "type": "scatter",
         "x": [
          7.097158662956166,
          7.101145040793183,
          7.105127285826654,
          7.109105398056579,
          7.113079377482959,
          7.117049224105792,
          7.12101493792508,
          7.124976518940821,
          7.128933967153016,
          7.132887282561667,
          7.13683646516677,
          7.140781514968328,
          7.14472243196634,
          7.148659216160806,
          7.152591867551726,
          7.1565203861391,
          7.160444771922928,
          7.16436502490321,
          7.1682811450799475,
          7.172193132453137,
          7.1761009870227825,
          7.180004708788881,
          7.183904297751433,
          7.187799753910441,
          7.191691077265902,
          7.195578267817816,
          7.199461325566185,
          7.203340250511008,
          7.207215042652286,
          7.211085701990017,
          7.2149522285242025,
          7.2188146222548415,
          7.222672883181936,
          7.226527011305483,
          7.230377006625485,
          7.234222869141941,
          7.238064598854851,
          7.241902195764214,
          7.245735659870032,
          7.249564991172305,
          7.25339018967103,
          7.257211255366211,
          7.261028188257845,
          7.2648409883459335,
          7.268649655630476,
          7.272454190111473,
          7.276254591788923,
          7.280050860662828,
          7.2838429967331875,
          7.287631
         ],
         "y": [
          4.825790746971235,
          4.817236389418363,
          4.808705401570524,
          4.800197783427719,
          4.791713534989947,
          4.7832526562572095,
          4.774815147229505,
          4.766401007906834,
          4.758010238289197,
          4.749642838376594,
          4.741298808169024,
          4.732978147666487,
          4.724680856868985,
          4.716406935776515,
          4.70815638438908,
          4.699929202706678,
          4.691725390729309,
          4.683544948456975,
          4.675387875889673,
          4.667254173027406,
          4.659143839870172,
          4.651056876417972,
          4.642993282670805,
          4.634953058628672,
          4.626936204291572,
          4.618942719659506,
          4.610972604732474,
          4.603025859510475,
          4.59510248399351,
          4.587202478181578,
          4.57932584207468,
          4.571472575672815,
          4.5636426789759845,
          4.555836151984187,
          4.548052994697423,
          4.540293207115694,
          4.532556789238997,
          4.524843741067334,
          4.517154062600705,
          4.509487753839109,
          4.501844814782547,
          4.494225245431019,
          4.486629045784524,
          4.4790562158430625,
          4.471506755606635,
          4.4639806650752405,
          4.45647794424888,
          4.448998593127554,
          4.44154261171126,
          4.43411
         ]
        }
       ],
       "layout": {
        "template": {
         "data": {
          "bar": [
           {
            "error_x": {
             "color": "#2a3f5f"
            },
            "error_y": {
             "color": "#2a3f5f"
            },
            "marker": {
             "line": {
              "color": "#E5ECF6",
              "width": 0.5
             },
             "pattern": {
              "fillmode": "overlay",
              "size": 10,
              "solidity": 0.2
             }
            },
            "type": "bar"
           }
          ],
          "barpolar": [
           {
            "marker": {
             "line": {
              "color": "#E5ECF6",
              "width": 0.5
             },
             "pattern": {
              "fillmode": "overlay",
              "size": 10,
              "solidity": 0.2
             }
            },
            "type": "barpolar"
           }
          ],
          "carpet": [
           {
            "aaxis": {
             "endlinecolor": "#2a3f5f",
             "gridcolor": "white",
             "linecolor": "white",
             "minorgridcolor": "white",
             "startlinecolor": "#2a3f5f"
            },
            "baxis": {
             "endlinecolor": "#2a3f5f",
             "gridcolor": "white",
             "linecolor": "white",
             "minorgridcolor": "white",
             "startlinecolor": "#2a3f5f"
            },
            "type": "carpet"
           }
          ],
          "choropleth": [
           {
            "colorbar": {
             "outlinewidth": 0,
             "ticks": ""
            },
            "type": "choropleth"
           }
          ],
          "contour": [
           {
            "colorbar": {
             "outlinewidth": 0,
             "ticks": ""
            },
            "colorscale": [
             [
              0,
              "#0d0887"
             ],
             [
              0.1111111111111111,
              "#46039f"
             ],
             [
              0.2222222222222222,
              "#7201a8"
             ],
             [
              0.3333333333333333,
              "#9c179e"
             ],
             [
              0.4444444444444444,
              "#bd3786"
             ],
             [
              0.5555555555555556,
              "#d8576b"
             ],
             [
              0.6666666666666666,
              "#ed7953"
             ],
             [
              0.7777777777777778,
              "#fb9f3a"
             ],
             [
              0.8888888888888888,
              "#fdca26"
             ],
             [
              1,
              "#f0f921"
             ]
            ],
            "type": "contour"
           }
          ],
          "contourcarpet": [
           {
            "colorbar": {
             "outlinewidth": 0,
             "ticks": ""
            },
            "type": "contourcarpet"
           }
          ],
          "heatmap": [
           {
            "colorbar": {
             "outlinewidth": 0,
             "ticks": ""
            },
            "colorscale": [
             [
              0,
              "#0d0887"
             ],
             [
              0.1111111111111111,
              "#46039f"
             ],
             [
              0.2222222222222222,
              "#7201a8"
             ],
             [
              0.3333333333333333,
              "#9c179e"
             ],
             [
              0.4444444444444444,
              "#bd3786"
             ],
             [
              0.5555555555555556,
              "#d8576b"
             ],
             [
              0.6666666666666666,
              "#ed7953"
             ],
             [
              0.7777777777777778,
              "#fb9f3a"
             ],
             [
              0.8888888888888888,
              "#fdca26"
             ],
             [
              1,
              "#f0f921"
             ]
            ],
            "type": "heatmap"
           }
          ],
          "heatmapgl": [
           {
            "colorbar": {
             "outlinewidth": 0,
             "ticks": ""
            },
            "colorscale": [
             [
              0,
              "#0d0887"
             ],
             [
              0.1111111111111111,
              "#46039f"
             ],
             [
              0.2222222222222222,
              "#7201a8"
             ],
             [
              0.3333333333333333,
              "#9c179e"
             ],
             [
              0.4444444444444444,
              "#bd3786"
             ],
             [
              0.5555555555555556,
              "#d8576b"
             ],
             [
              0.6666666666666666,
              "#ed7953"
             ],
             [
              0.7777777777777778,
              "#fb9f3a"
             ],
             [
              0.8888888888888888,
              "#fdca26"
             ],
             [
              1,
              "#f0f921"
             ]
            ],
            "type": "heatmapgl"
           }
          ],
          "histogram": [
           {
            "marker": {
             "pattern": {
              "fillmode": "overlay",
              "size": 10,
              "solidity": 0.2
             }
            },
            "type": "histogram"
           }
          ],
          "histogram2d": [
           {
            "colorbar": {
             "outlinewidth": 0,
             "ticks": ""
            },
            "colorscale": [
             [
              0,
              "#0d0887"
             ],
             [
              0.1111111111111111,
              "#46039f"
             ],
             [
              0.2222222222222222,
              "#7201a8"
             ],
             [
              0.3333333333333333,
              "#9c179e"
             ],
             [
              0.4444444444444444,
              "#bd3786"
             ],
             [
              0.5555555555555556,
              "#d8576b"
             ],
             [
              0.6666666666666666,
              "#ed7953"
             ],
             [
              0.7777777777777778,
              "#fb9f3a"
             ],
             [
              0.8888888888888888,
              "#fdca26"
             ],
             [
              1,
              "#f0f921"
             ]
            ],
            "type": "histogram2d"
           }
          ],
          "histogram2dcontour": [
           {
            "colorbar": {
             "outlinewidth": 0,
             "ticks": ""
            },
            "colorscale": [
             [
              0,
              "#0d0887"
             ],
             [
              0.1111111111111111,
              "#46039f"
             ],
             [
              0.2222222222222222,
              "#7201a8"
             ],
             [
              0.3333333333333333,
              "#9c179e"
             ],
             [
              0.4444444444444444,
              "#bd3786"
             ],
             [
              0.5555555555555556,
              "#d8576b"
             ],
             [
              0.6666666666666666,
              "#ed7953"
             ],
             [
              0.7777777777777778,
              "#fb9f3a"
             ],
             [
              0.8888888888888888,
              "#fdca26"
             ],
             [
              1,
              "#f0f921"
             ]
            ],
            "type": "histogram2dcontour"
           }
          ],
          "mesh3d": [
           {
            "colorbar": {
             "outlinewidth": 0,
             "ticks": ""
            },
            "type": "mesh3d"
           }
          ],
          "parcoords": [
           {
            "line": {
             "colorbar": {
              "outlinewidth": 0,
              "ticks": ""
             }
            },
            "type": "parcoords"
           }
          ],
          "pie": [
           {
            "automargin": true,
            "type": "pie"
           }
          ],
          "scatter": [
           {
            "fillpattern": {
             "fillmode": "overlay",
             "size": 10,
             "solidity": 0.2
            },
            "type": "scatter"
           }
          ],
          "scatter3d": [
           {
            "line": {
             "colorbar": {
              "outlinewidth": 0,
              "ticks": ""
             }
            },
            "marker": {
             "colorbar": {
              "outlinewidth": 0,
              "ticks": ""
             }
            },
            "type": "scatter3d"
           }
          ],
          "scattercarpet": [
           {
            "marker": {
             "colorbar": {
              "outlinewidth": 0,
              "ticks": ""
             }
            },
            "type": "scattercarpet"
           }
          ],
          "scattergeo": [
           {
            "marker": {
             "colorbar": {
              "outlinewidth": 0,
              "ticks": ""
             }
            },
            "type": "scattergeo"
           }
          ],
          "scattergl": [
           {
            "marker": {
             "colorbar": {
              "outlinewidth": 0,
              "ticks": ""
             }
            },
            "type": "scattergl"
           }
          ],
          "scattermapbox": [
           {
            "marker": {
             "colorbar": {
              "outlinewidth": 0,
              "ticks": ""
             }
            },
            "type": "scattermapbox"
           }
          ],
          "scatterpolar": [
           {
            "marker": {
             "colorbar": {
              "outlinewidth": 0,
              "ticks": ""
             }
            },
            "type": "scatterpolar"
           }
          ],
          "scatterpolargl": [
           {
            "marker": {
             "colorbar": {
              "outlinewidth": 0,
              "ticks": ""
             }
            },
            "type": "scatterpolargl"
           }
          ],
          "scatterternary": [
           {
            "marker": {
             "colorbar": {
              "outlinewidth": 0,
              "ticks": ""
             }
            },
            "type": "scatterternary"
           }
          ],
          "surface": [
           {
            "colorbar": {
             "outlinewidth": 0,
             "ticks": ""
            },
            "colorscale": [
             [
              0,
              "#0d0887"
             ],
             [
              0.1111111111111111,
              "#46039f"
             ],
             [
              0.2222222222222222,
              "#7201a8"
             ],
             [
              0.3333333333333333,
              "#9c179e"
             ],
             [
              0.4444444444444444,
              "#bd3786"
             ],
             [
              0.5555555555555556,
              "#d8576b"
             ],
             [
              0.6666666666666666,
              "#ed7953"
             ],
             [
              0.7777777777777778,
              "#fb9f3a"
             ],
             [
              0.8888888888888888,
              "#fdca26"
             ],
             [
              1,
              "#f0f921"
             ]
            ],
            "type": "surface"
           }
          ],
          "table": [
           {
            "cells": {
             "fill": {
              "color": "#EBF0F8"
             },
             "line": {
              "color": "white"
             }
            },
            "header": {
             "fill": {
              "color": "#C8D4E3"
             },
             "line": {
              "color": "white"
             }
            },
            "type": "table"
           }
          ]
         },
         "layout": {
          "annotationdefaults": {
           "arrowcolor": "#2a3f5f",
           "arrowhead": 0,
           "arrowwidth": 1
          },
          "autotypenumbers": "strict",
          "coloraxis": {
           "colorbar": {
            "outlinewidth": 0,
            "ticks": ""
           }
          },
          "colorscale": {
           "diverging": [
            [
             0,
             "#8e0152"
            ],
            [
             0.1,
             "#c51b7d"
            ],
            [
             0.2,
             "#de77ae"
            ],
            [
             0.3,
             "#f1b6da"
            ],
            [
             0.4,
             "#fde0ef"
            ],
            [
             0.5,
             "#f7f7f7"
            ],
            [
             0.6,
             "#e6f5d0"
            ],
            [
             0.7,
             "#b8e186"
            ],
            [
             0.8,
             "#7fbc41"
            ],
            [
             0.9,
             "#4d9221"
            ],
            [
             1,
             "#276419"
            ]
           ],
           "sequential": [
            [
             0,
             "#0d0887"
            ],
            [
             0.1111111111111111,
             "#46039f"
            ],
            [
             0.2222222222222222,
             "#7201a8"
            ],
            [
             0.3333333333333333,
             "#9c179e"
            ],
            [
             0.4444444444444444,
             "#bd3786"
            ],
            [
             0.5555555555555556,
             "#d8576b"
            ],
            [
             0.6666666666666666,
             "#ed7953"
            ],
            [
             0.7777777777777778,
             "#fb9f3a"
            ],
            [
             0.8888888888888888,
             "#fdca26"
            ],
            [
             1,
             "#f0f921"
            ]
           ],
           "sequentialminus": [
            [
             0,
             "#0d0887"
            ],
            [
             0.1111111111111111,
             "#46039f"
            ],
            [
             0.2222222222222222,
             "#7201a8"
            ],
            [
             0.3333333333333333,
             "#9c179e"
            ],
            [
             0.4444444444444444,
             "#bd3786"
            ],
            [
             0.5555555555555556,
             "#d8576b"
            ],
            [
             0.6666666666666666,
             "#ed7953"
            ],
            [
             0.7777777777777778,
             "#fb9f3a"
            ],
            [
             0.8888888888888888,
             "#fdca26"
            ],
            [
             1,
             "#f0f921"
            ]
           ]
          },
          "colorway": [
           "#636efa",
           "#EF553B",
           "#00cc96",
           "#ab63fa",
           "#FFA15A",
           "#19d3f3",
           "#FF6692",
           "#B6E880",
           "#FF97FF",
           "#FECB52"
          ],
          "font": {
           "color": "#2a3f5f"
          },
          "geo": {
           "bgcolor": "white",
           "lakecolor": "white",
           "landcolor": "#E5ECF6",
           "showlakes": true,
           "showland": true,
           "subunitcolor": "white"
          },
          "hoverlabel": {
           "align": "left"
          },
          "hovermode": "closest",
          "mapbox": {
           "style": "light"
          },
          "paper_bgcolor": "white",
          "plot_bgcolor": "#E5ECF6",
          "polar": {
           "angularaxis": {
            "gridcolor": "white",
            "linecolor": "white",
            "ticks": ""
           },
           "bgcolor": "#E5ECF6",
           "radialaxis": {
            "gridcolor": "white",
            "linecolor": "white",
            "ticks": ""
           }
          },
          "scene": {
           "xaxis": {
            "backgroundcolor": "#E5ECF6",
            "gridcolor": "white",
            "gridwidth": 2,
            "linecolor": "white",
            "showbackground": true,
            "ticks": "",
            "zerolinecolor": "white"
           },
           "yaxis": {
            "backgroundcolor": "#E5ECF6",
            "gridcolor": "white",
            "gridwidth": 2,
            "linecolor": "white",
            "showbackground": true,
            "ticks": "",
            "zerolinecolor": "white"
           },
           "zaxis": {
            "backgroundcolor": "#E5ECF6",
            "gridcolor": "white",
            "gridwidth": 2,
            "linecolor": "white",
            "showbackground": true,
            "ticks": "",
            "zerolinecolor": "white"
           }
          },
          "shapedefaults": {
           "line": {
            "color": "#2a3f5f"
           }
          },
          "ternary": {
           "aaxis": {
            "gridcolor": "white",
            "linecolor": "white",
            "ticks": ""
           },
           "baxis": {
            "gridcolor": "white",
            "linecolor": "white",
            "ticks": ""
           },
           "bgcolor": "#E5ECF6",
           "caxis": {
            "gridcolor": "white",
            "linecolor": "white",
            "ticks": ""
           }
          },
          "title": {
           "x": 0.05
          },
          "xaxis": {
           "automargin": true,
           "gridcolor": "white",
           "linecolor": "white",
           "ticks": "",
           "title": {
            "standoff": 15
           },
           "zerolinecolor": "white",
           "zerolinewidth": 2
          },
          "yaxis": {
           "automargin": true,
           "gridcolor": "white",
           "linecolor": "white",
           "ticks": "",
           "title": {
            "standoff": 15
           },
           "zerolinecolor": "white",
           "zerolinewidth": 2
          }
         }
        }
       }
      },
      "text/html": [
       "<div>                            <div id=\"6d50f962-b506-4aed-a7ec-45ca6bfcae86\" class=\"plotly-graph-div\" style=\"height:525px; width:100%;\"></div>            <script type=\"text/javascript\">                require([\"plotly\"], function(Plotly) {                    window.PLOTLYENV=window.PLOTLYENV || {};                                    if (document.getElementById(\"6d50f962-b506-4aed-a7ec-45ca6bfcae86\")) {                    Plotly.newPlot(                        \"6d50f962-b506-4aed-a7ec-45ca6bfcae86\",                        [{\"name\":\"main root\",\"x\":[7.014674,7.068931,7.097697,7.102405,7.096509,7.078003,7.057387,7.064473,7.056801,7.045027,7.03578,7.053914,7.058697,7.050602,7.021744],\"y\":[4.083105,4.391064,4.580238,4.699361,4.817372,4.93411,5.050687,5.168109,5.286132,5.443573,5.623435,5.801408,5.991669,6.214376,6.799064],\"type\":\"scatter\"},{\"mode\":\"lines\",\"name\":\"0.31060960169400276\",\"x\":[6.763005,6.768420693811883,6.773858091456776,6.779317192934677,6.784797998245587,6.790300507389505,6.795824720366431,6.801370637176366,6.80693825781931,6.812527582295262,6.8181386106042225,6.823771342746191,6.829425778721169,6.835101918529155,6.84079976217015,6.846519309644153,6.852260560951164,6.858023516091184,6.863808175064213,6.86961453787025,6.875442604509296,6.881292374981349,6.887163849286412,6.893057027424483,6.898971909395563,6.904908495199651,6.910866784836747,6.916846778306852,6.922848475609966,6.928871876746088,6.934916981715219,6.9409837905173575,6.947072303152505,6.953182519620661,6.959314439921826,6.965468064055999,6.97164339202318,6.977840423823371,6.984059159456569,6.9902995989227765,6.996561742221992,7.002845589354217,7.009151140319449,7.0154783951176904,7.0218273537489395,7.028198016213198,7.034590382510465,7.04100445264074,7.0474402266040235,7.053897704400315],\"y\":[4.337383,4.333035362496611,4.328830456026579,4.324768280589904,4.320848836186586,4.317072122816626,4.313438140480022,4.309946889176775,4.306598368906886,4.303392579670354,4.300329521467178,4.2974091942973605,4.294631598160899,4.291996733057796,4.2895045989880485,4.28715519595166,4.284948523948627,4.2828845829789515,4.280963373042633,4.2791848941396715,4.277549146270068,4.276056129433821,4.27470584363093,4.273498288861398,4.272433465125222,4.271511372422403,4.270732010752941,4.270095380116837,4.2696014805140905,4.2692503119447,4.269041874408667,4.268976167905991,4.2690531924366715,4.26927294800071,4.269635434598105,4.270140652228858,4.270788600892967,4.271579280590434,4.272512691321258,4.273588833085438,4.274807705882976,4.276169309713872,4.277673644578123,4.279320710475733,4.281110507406699,4.283043035371023,4.285118294368703,4.287336284399741,4.289697005464135,4.292200457561887],\"type\":\"scatter\"},{\"mode\":\"lines\",\"name\":\"0.46673136243388197\",\"x\":[7.107893912576261,7.114858042640115,7.1218139122569415,7.12876152142674,7.13570087014951,7.142631958425252,7.149554786253965,7.156469353635651,7.163375660570308,7.170273707057937,7.177163493098538,7.184045018692111,7.190918283838656,7.197783288538172,7.20464003279066,7.211488516596121,7.218328739954552,7.225160702865956,7.231984405330332,7.238799847347679,7.245607028917998,7.25240595004129,7.259196610717552,7.265979010946787,7.2727531507289935,7.279519030064172,7.286276648952322,7.293026007393444,7.299767105387538,7.306499942934604,7.313224520034641,7.319940836687651,7.3266488928936315,7.333348688652585,7.340040223964509,7.346723498829406,7.353398513247274,7.360065267218115,7.366723760741927,7.373373993818711,7.380015966448466,7.386649678631194,7.393275130366893,7.399892321655565,7.406501252497208,7.413101922891823,7.419694332839409,7.426278482339968,7.432854371393498,7.439422],\"y\":[4.589498031540513,4.579031221789484,4.568729748472349,4.558593611589108,4.548622811139763,4.538817347124311,4.529177219542755,4.519702428395092,4.510392973681324,4.501248855401451,4.492270073555472,4.483456628143388,4.474808519165198,4.466325746620903,4.458008310510502,4.449856210833996,4.441869447591384,4.434048020782667,4.426391930407844,4.418901176466915,4.411575758959882,4.404415677886742,4.3974209332474965,4.390591525042146,4.38392745327069,4.377428717933129,4.371095319029462,4.36492725655969,4.358924530523812,4.353087140921828,4.347415087753739,4.341908371019544,4.336566990719245,4.331390946852839,4.3263802394203275,4.321534868421711,4.316854833856989,4.312340135726162,4.3079907740292285,4.303806748766189,4.299788059937045,4.295934707541796,4.2922466915804405,4.28872401205298,4.285366668959414,4.2821746622997425,4.279147992073965,4.276286658282082,4.273590660924094,4.27106],\"type\":\"scatter\"},{\"mode\":\"lines\",\"name\":\"0.4355615947021112\",\"x\":[7.097158662956166,7.101145040793183,7.105127285826654,7.109105398056579,7.113079377482959,7.117049224105792,7.12101493792508,7.124976518940821,7.128933967153016,7.132887282561667,7.13683646516677,7.140781514968328,7.14472243196634,7.148659216160806,7.152591867551726,7.1565203861391,7.160444771922928,7.16436502490321,7.1682811450799475,7.172193132453137,7.1761009870227825,7.180004708788881,7.183904297751433,7.187799753910441,7.191691077265902,7.195578267817816,7.199461325566185,7.203340250511008,7.207215042652286,7.211085701990017,7.2149522285242025,7.2188146222548415,7.222672883181936,7.226527011305483,7.230377006625485,7.234222869141941,7.238064598854851,7.241902195764214,7.245735659870032,7.249564991172305,7.25339018967103,7.257211255366211,7.261028188257845,7.2648409883459335,7.268649655630476,7.272454190111473,7.276254591788923,7.280050860662828,7.2838429967331875,7.287631],\"y\":[4.825790746971235,4.817236389418363,4.808705401570524,4.800197783427719,4.791713534989947,4.7832526562572095,4.774815147229505,4.766401007906834,4.758010238289197,4.749642838376594,4.741298808169024,4.732978147666487,4.724680856868985,4.716406935776515,4.70815638438908,4.699929202706678,4.691725390729309,4.683544948456975,4.675387875889673,4.667254173027406,4.659143839870172,4.651056876417972,4.642993282670805,4.634953058628672,4.626936204291572,4.618942719659506,4.610972604732474,4.603025859510475,4.59510248399351,4.587202478181578,4.57932584207468,4.571472575672815,4.5636426789759845,4.555836151984187,4.548052994697423,4.540293207115694,4.532556789238997,4.524843741067334,4.517154062600705,4.509487753839109,4.501844814782547,4.494225245431019,4.486629045784524,4.4790562158430625,4.471506755606635,4.4639806650752405,4.45647794424888,4.448998593127554,4.44154261171126,4.43411],\"type\":\"scatter\"}],                        {\"template\":{\"data\":{\"histogram2dcontour\":[{\"type\":\"histogram2dcontour\",\"colorbar\":{\"outlinewidth\":0,\"ticks\":\"\"},\"colorscale\":[[0.0,\"#0d0887\"],[0.1111111111111111,\"#46039f\"],[0.2222222222222222,\"#7201a8\"],[0.3333333333333333,\"#9c179e\"],[0.4444444444444444,\"#bd3786\"],[0.5555555555555556,\"#d8576b\"],[0.6666666666666666,\"#ed7953\"],[0.7777777777777778,\"#fb9f3a\"],[0.8888888888888888,\"#fdca26\"],[1.0,\"#f0f921\"]]}],\"choropleth\":[{\"type\":\"choropleth\",\"colorbar\":{\"outlinewidth\":0,\"ticks\":\"\"}}],\"histogram2d\":[{\"type\":\"histogram2d\",\"colorbar\":{\"outlinewidth\":0,\"ticks\":\"\"},\"colorscale\":[[0.0,\"#0d0887\"],[0.1111111111111111,\"#46039f\"],[0.2222222222222222,\"#7201a8\"],[0.3333333333333333,\"#9c179e\"],[0.4444444444444444,\"#bd3786\"],[0.5555555555555556,\"#d8576b\"],[0.6666666666666666,\"#ed7953\"],[0.7777777777777778,\"#fb9f3a\"],[0.8888888888888888,\"#fdca26\"],[1.0,\"#f0f921\"]]}],\"heatmap\":[{\"type\":\"heatmap\",\"colorbar\":{\"outlinewidth\":0,\"ticks\":\"\"},\"colorscale\":[[0.0,\"#0d0887\"],[0.1111111111111111,\"#46039f\"],[0.2222222222222222,\"#7201a8\"],[0.3333333333333333,\"#9c179e\"],[0.4444444444444444,\"#bd3786\"],[0.5555555555555556,\"#d8576b\"],[0.6666666666666666,\"#ed7953\"],[0.7777777777777778,\"#fb9f3a\"],[0.8888888888888888,\"#fdca26\"],[1.0,\"#f0f921\"]]}],\"heatmapgl\":[{\"type\":\"heatmapgl\",\"colorbar\":{\"outlinewidth\":0,\"ticks\":\"\"},\"colorscale\":[[0.0,\"#0d0887\"],[0.1111111111111111,\"#46039f\"],[0.2222222222222222,\"#7201a8\"],[0.3333333333333333,\"#9c179e\"],[0.4444444444444444,\"#bd3786\"],[0.5555555555555556,\"#d8576b\"],[0.6666666666666666,\"#ed7953\"],[0.7777777777777778,\"#fb9f3a\"],[0.8888888888888888,\"#fdca26\"],[1.0,\"#f0f921\"]]}],\"contourcarpet\":[{\"type\":\"contourcarpet\",\"colorbar\":{\"outlinewidth\":0,\"ticks\":\"\"}}],\"contour\":[{\"type\":\"contour\",\"colorbar\":{\"outlinewidth\":0,\"ticks\":\"\"},\"colorscale\":[[0.0,\"#0d0887\"],[0.1111111111111111,\"#46039f\"],[0.2222222222222222,\"#7201a8\"],[0.3333333333333333,\"#9c179e\"],[0.4444444444444444,\"#bd3786\"],[0.5555555555555556,\"#d8576b\"],[0.6666666666666666,\"#ed7953\"],[0.7777777777777778,\"#fb9f3a\"],[0.8888888888888888,\"#fdca26\"],[1.0,\"#f0f921\"]]}],\"surface\":[{\"type\":\"surface\",\"colorbar\":{\"outlinewidth\":0,\"ticks\":\"\"},\"colorscale\":[[0.0,\"#0d0887\"],[0.1111111111111111,\"#46039f\"],[0.2222222222222222,\"#7201a8\"],[0.3333333333333333,\"#9c179e\"],[0.4444444444444444,\"#bd3786\"],[0.5555555555555556,\"#d8576b\"],[0.6666666666666666,\"#ed7953\"],[0.7777777777777778,\"#fb9f3a\"],[0.8888888888888888,\"#fdca26\"],[1.0,\"#f0f921\"]]}],\"mesh3d\":[{\"type\":\"mesh3d\",\"colorbar\":{\"outlinewidth\":0,\"ticks\":\"\"}}],\"scatter\":[{\"fillpattern\":{\"fillmode\":\"overlay\",\"size\":10,\"solidity\":0.2},\"type\":\"scatter\"}],\"parcoords\":[{\"type\":\"parcoords\",\"line\":{\"colorbar\":{\"outlinewidth\":0,\"ticks\":\"\"}}}],\"scatterpolargl\":[{\"type\":\"scatterpolargl\",\"marker\":{\"colorbar\":{\"outlinewidth\":0,\"ticks\":\"\"}}}],\"bar\":[{\"error_x\":{\"color\":\"#2a3f5f\"},\"error_y\":{\"color\":\"#2a3f5f\"},\"marker\":{\"line\":{\"color\":\"#E5ECF6\",\"width\":0.5},\"pattern\":{\"fillmode\":\"overlay\",\"size\":10,\"solidity\":0.2}},\"type\":\"bar\"}],\"scattergeo\":[{\"type\":\"scattergeo\",\"marker\":{\"colorbar\":{\"outlinewidth\":0,\"ticks\":\"\"}}}],\"scatterpolar\":[{\"type\":\"scatterpolar\",\"marker\":{\"colorbar\":{\"outlinewidth\":0,\"ticks\":\"\"}}}],\"histogram\":[{\"marker\":{\"pattern\":{\"fillmode\":\"overlay\",\"size\":10,\"solidity\":0.2}},\"type\":\"histogram\"}],\"scattergl\":[{\"type\":\"scattergl\",\"marker\":{\"colorbar\":{\"outlinewidth\":0,\"ticks\":\"\"}}}],\"scatter3d\":[{\"type\":\"scatter3d\",\"line\":{\"colorbar\":{\"outlinewidth\":0,\"ticks\":\"\"}},\"marker\":{\"colorbar\":{\"outlinewidth\":0,\"ticks\":\"\"}}}],\"scattermapbox\":[{\"type\":\"scattermapbox\",\"marker\":{\"colorbar\":{\"outlinewidth\":0,\"ticks\":\"\"}}}],\"scatterternary\":[{\"type\":\"scatterternary\",\"marker\":{\"colorbar\":{\"outlinewidth\":0,\"ticks\":\"\"}}}],\"scattercarpet\":[{\"type\":\"scattercarpet\",\"marker\":{\"colorbar\":{\"outlinewidth\":0,\"ticks\":\"\"}}}],\"carpet\":[{\"aaxis\":{\"endlinecolor\":\"#2a3f5f\",\"gridcolor\":\"white\",\"linecolor\":\"white\",\"minorgridcolor\":\"white\",\"startlinecolor\":\"#2a3f5f\"},\"baxis\":{\"endlinecolor\":\"#2a3f5f\",\"gridcolor\":\"white\",\"linecolor\":\"white\",\"minorgridcolor\":\"white\",\"startlinecolor\":\"#2a3f5f\"},\"type\":\"carpet\"}],\"table\":[{\"cells\":{\"fill\":{\"color\":\"#EBF0F8\"},\"line\":{\"color\":\"white\"}},\"header\":{\"fill\":{\"color\":\"#C8D4E3\"},\"line\":{\"color\":\"white\"}},\"type\":\"table\"}],\"barpolar\":[{\"marker\":{\"line\":{\"color\":\"#E5ECF6\",\"width\":0.5},\"pattern\":{\"fillmode\":\"overlay\",\"size\":10,\"solidity\":0.2}},\"type\":\"barpolar\"}],\"pie\":[{\"automargin\":true,\"type\":\"pie\"}]},\"layout\":{\"autotypenumbers\":\"strict\",\"colorway\":[\"#636efa\",\"#EF553B\",\"#00cc96\",\"#ab63fa\",\"#FFA15A\",\"#19d3f3\",\"#FF6692\",\"#B6E880\",\"#FF97FF\",\"#FECB52\"],\"font\":{\"color\":\"#2a3f5f\"},\"hovermode\":\"closest\",\"hoverlabel\":{\"align\":\"left\"},\"paper_bgcolor\":\"white\",\"plot_bgcolor\":\"#E5ECF6\",\"polar\":{\"bgcolor\":\"#E5ECF6\",\"angularaxis\":{\"gridcolor\":\"white\",\"linecolor\":\"white\",\"ticks\":\"\"},\"radialaxis\":{\"gridcolor\":\"white\",\"linecolor\":\"white\",\"ticks\":\"\"}},\"ternary\":{\"bgcolor\":\"#E5ECF6\",\"aaxis\":{\"gridcolor\":\"white\",\"linecolor\":\"white\",\"ticks\":\"\"},\"baxis\":{\"gridcolor\":\"white\",\"linecolor\":\"white\",\"ticks\":\"\"},\"caxis\":{\"gridcolor\":\"white\",\"linecolor\":\"white\",\"ticks\":\"\"}},\"coloraxis\":{\"colorbar\":{\"outlinewidth\":0,\"ticks\":\"\"}},\"colorscale\":{\"sequential\":[[0.0,\"#0d0887\"],[0.1111111111111111,\"#46039f\"],[0.2222222222222222,\"#7201a8\"],[0.3333333333333333,\"#9c179e\"],[0.4444444444444444,\"#bd3786\"],[0.5555555555555556,\"#d8576b\"],[0.6666666666666666,\"#ed7953\"],[0.7777777777777778,\"#fb9f3a\"],[0.8888888888888888,\"#fdca26\"],[1.0,\"#f0f921\"]],\"sequentialminus\":[[0.0,\"#0d0887\"],[0.1111111111111111,\"#46039f\"],[0.2222222222222222,\"#7201a8\"],[0.3333333333333333,\"#9c179e\"],[0.4444444444444444,\"#bd3786\"],[0.5555555555555556,\"#d8576b\"],[0.6666666666666666,\"#ed7953\"],[0.7777777777777778,\"#fb9f3a\"],[0.8888888888888888,\"#fdca26\"],[1.0,\"#f0f921\"]],\"diverging\":[[0,\"#8e0152\"],[0.1,\"#c51b7d\"],[0.2,\"#de77ae\"],[0.3,\"#f1b6da\"],[0.4,\"#fde0ef\"],[0.5,\"#f7f7f7\"],[0.6,\"#e6f5d0\"],[0.7,\"#b8e186\"],[0.8,\"#7fbc41\"],[0.9,\"#4d9221\"],[1,\"#276419\"]]},\"xaxis\":{\"gridcolor\":\"white\",\"linecolor\":\"white\",\"ticks\":\"\",\"title\":{\"standoff\":15},\"zerolinecolor\":\"white\",\"automargin\":true,\"zerolinewidth\":2},\"yaxis\":{\"gridcolor\":\"white\",\"linecolor\":\"white\",\"ticks\":\"\",\"title\":{\"standoff\":15},\"zerolinecolor\":\"white\",\"automargin\":true,\"zerolinewidth\":2},\"scene\":{\"xaxis\":{\"backgroundcolor\":\"#E5ECF6\",\"gridcolor\":\"white\",\"linecolor\":\"white\",\"showbackground\":true,\"ticks\":\"\",\"zerolinecolor\":\"white\",\"gridwidth\":2},\"yaxis\":{\"backgroundcolor\":\"#E5ECF6\",\"gridcolor\":\"white\",\"linecolor\":\"white\",\"showbackground\":true,\"ticks\":\"\",\"zerolinecolor\":\"white\",\"gridwidth\":2},\"zaxis\":{\"backgroundcolor\":\"#E5ECF6\",\"gridcolor\":\"white\",\"linecolor\":\"white\",\"showbackground\":true,\"ticks\":\"\",\"zerolinecolor\":\"white\",\"gridwidth\":2}},\"shapedefaults\":{\"line\":{\"color\":\"#2a3f5f\"}},\"annotationdefaults\":{\"arrowcolor\":\"#2a3f5f\",\"arrowhead\":0,\"arrowwidth\":1},\"geo\":{\"bgcolor\":\"white\",\"landcolor\":\"#E5ECF6\",\"subunitcolor\":\"white\",\"showland\":true,\"showlakes\":true,\"lakecolor\":\"white\"},\"title\":{\"x\":0.05},\"mapbox\":{\"style\":\"light\"}}}},                        {\"responsive\": true}                    ).then(function(){\n",
       "                            \n",
       "var gd = document.getElementById('6d50f962-b506-4aed-a7ec-45ca6bfcae86');\n",
       "var x = new MutationObserver(function (mutations, observer) {{\n",
       "        var display = window.getComputedStyle(gd).display;\n",
       "        if (!display || display === 'none') {{\n",
       "            console.log([gd, 'removed!']);\n",
       "            Plotly.purge(gd);\n",
       "            observer.disconnect();\n",
       "        }}\n",
       "}});\n",
       "\n",
       "// Listen for the removal of the full notebook cells\n",
       "var notebookContainer = gd.closest('#notebook-container');\n",
       "if (notebookContainer) {{\n",
       "    x.observe(notebookContainer, {childList: true});\n",
       "}}\n",
       "\n",
       "// Listen for the clearing of the current output cell\n",
       "var outputEl = gd.closest('.output');\n",
       "if (outputEl) {{\n",
       "    x.observe(outputEl, {childList: true});\n",
       "}}\n",
       "\n",
       "                        })                };                });            </script>        </div>"
      ]
     },
     "metadata": {},
     "output_type": "display_data"
    },
    {
     "name": "stdout",
     "output_type": "stream",
     "text": [
      "[['pq', 'length', 'txy'], [[6.763005, 4.337383], 0.31060960169400276, ([7.053897704400315], [4.292200457561887])], [[7.439422, 4.27106], 0.46673136243388197, ([7.107893912576261], [4.589498031540513])], [[7.287631, 4.43411], 0.4355615947021112, ([7.097158662956166], [4.825790746971235])]]\n"
     ]
    }
   ],
   "source": [
    "array = parseData('084_4_C_day1.csv')\n",
    "fig = plotData(array)\n",
    "fig.show()\n",
    "fig2 = go.Figure()\n",
    "G = 2\n",
    "al = 1\n",
    "lateralRoots = array[1]\n",
    "MainRootPoints = array[0]\n",
    "mainRootBase = MainRootPoints[0]\n",
    "trace= plotPoints(MainRootPoints, \"main root\")\n",
    "fig2.add_trace(trace)\n",
    "pqs =[]\n",
    "Info = [[\"pq\", \"length\", \"txy\"]]\n",
    "for root in latteralRoots:\n",
    "    pqs.append(root[-1])\n",
    "for pq in pqs:\n",
    "    DAC = findMostOptimal(MainRootPoints, G,al,pq) #returns length, txy, dplot, raplot\n",
    "    array =[pq, DAC[0], DAC[1]]\n",
    "    Info.append(array)\n",
    "    fig.add_trace(DAC[3])\n",
    "    fig2.add_trace(DAC[3])\n",
    "fig.show()\n",
    "fig2.show()\n",
    "print(Info)"
   ]
  },
  {
   "cell_type": "code",
   "execution_count": 28,
   "id": "85d787c6",
   "metadata": {},
   "outputs": [],
   "source": [
    "csv = '084_4_C_day1.csv'\n",
    "\n",
    "def pythag(point1,point2):\n",
    "    x1, y1 = point1\n",
    "    x2, y2 = point2\n",
    "    distance = np.sqrt((x2-x1)**2 + (y2-y1)**2)\n",
    "    return distance\n",
    "\n",
    "def lengthMR(mainRoot):\n",
    "    num_points = len(mainRoot)\n",
    "    distances = [[0] * num_points for _ in range(num_points)]\n",
    "    mainRootTotal = 0\n",
    "    for i in range(num_points):\n",
    "        for j in range(i + 1, num_points):\n",
    "            distance = pythag(mainRoot[i], mainRoot[j])\n",
    "            mainRootTotal += distance\n",
    "        print (mainRootTotal)\n",
    "        return mainRootTotal\n",
    "\n",
    "def sumLatRoots(Info):\n",
    "    num = len(Info)\n",
    "    latRootTotal = 0\n",
    "    for i in range(1, num):\n",
    "        length = Info[i][1]\n",
    "        latRootTotal += length\n",
    "    print (latRootTotal)\n",
    "    return latRootTotal\n",
    "\n",
    "def sumWiringCostOpt(csv):\n",
    "    array = parseData(csv)\n",
    "    mainRoot = array[0]\n",
    "    wiringCost = lengthMR(mainRoot) + sumLatRoots(Info)\n",
    "    return wiringCost"
   ]
  },
  {
   "cell_type": "code",
   "execution_count": 29,
   "id": "e03fb5ff",
   "metadata": {},
   "outputs": [
    {
     "name": "stdout",
     "output_type": "stream",
     "text": [
      "17.666441408287636\n",
      "1.212902558829996\n"
     ]
    },
    {
     "data": {
      "text/plain": [
       "18.87934396711763"
      ]
     },
     "execution_count": 29,
     "metadata": {},
     "output_type": "execute_result"
    }
   ],
   "source": [
    "#csv = input(\"Enter the CSV file name: \")\n",
    "sumWiringCostOpt(csv)"
   ]
  },
  {
   "cell_type": "code",
   "execution_count": 31,
   "id": "e63fcf89",
   "metadata": {},
   "outputs": [
    {
     "data": {
      "application/vnd.plotly.v1+json": {
       "config": {
        "plotlyServerURL": "https://plot.ly"
       },
       "data": [
        {
         "name": "main root",
         "type": "scatter",
         "x": [
          7.014674,
          7.068931,
          7.097697,
          7.102405,
          7.096509,
          7.078003,
          7.057387,
          7.064473,
          7.056801,
          7.045027,
          7.03578,
          7.053914,
          7.058697,
          7.050602,
          7.021744
         ],
         "y": [
          4.083105,
          4.391064,
          4.580238,
          4.699361,
          4.817372,
          4.93411,
          5.050687,
          5.168109,
          5.286132,
          5.443573,
          5.623435,
          5.801408,
          5.991669,
          6.214376,
          6.799064
         ]
        },
        {
         "name": "lateral root",
         "type": "scatter",
         "x": [
          7.03248,
          6.921742,
          6.763005
         ],
         "y": [
          4.136673,
          4.219422,
          4.337383
         ]
        },
        {
         "name": "lateral root",
         "type": "scatter",
         "x": [
          7.065898,
          7.312281,
          7.439422
         ],
         "y": [
          4.198863,
          4.231294,
          4.27106
         ]
        },
        {
         "name": "lateral root",
         "type": "scatter",
         "x": [
          7.125593,
          7.182462,
          7.287631
         ],
         "y": [
          4.363359,
          4.368823,
          4.43411
         ]
        }
       ],
       "layout": {
        "template": {
         "data": {
          "bar": [
           {
            "error_x": {
             "color": "#2a3f5f"
            },
            "error_y": {
             "color": "#2a3f5f"
            },
            "marker": {
             "line": {
              "color": "#E5ECF6",
              "width": 0.5
             },
             "pattern": {
              "fillmode": "overlay",
              "size": 10,
              "solidity": 0.2
             }
            },
            "type": "bar"
           }
          ],
          "barpolar": [
           {
            "marker": {
             "line": {
              "color": "#E5ECF6",
              "width": 0.5
             },
             "pattern": {
              "fillmode": "overlay",
              "size": 10,
              "solidity": 0.2
             }
            },
            "type": "barpolar"
           }
          ],
          "carpet": [
           {
            "aaxis": {
             "endlinecolor": "#2a3f5f",
             "gridcolor": "white",
             "linecolor": "white",
             "minorgridcolor": "white",
             "startlinecolor": "#2a3f5f"
            },
            "baxis": {
             "endlinecolor": "#2a3f5f",
             "gridcolor": "white",
             "linecolor": "white",
             "minorgridcolor": "white",
             "startlinecolor": "#2a3f5f"
            },
            "type": "carpet"
           }
          ],
          "choropleth": [
           {
            "colorbar": {
             "outlinewidth": 0,
             "ticks": ""
            },
            "type": "choropleth"
           }
          ],
          "contour": [
           {
            "colorbar": {
             "outlinewidth": 0,
             "ticks": ""
            },
            "colorscale": [
             [
              0,
              "#0d0887"
             ],
             [
              0.1111111111111111,
              "#46039f"
             ],
             [
              0.2222222222222222,
              "#7201a8"
             ],
             [
              0.3333333333333333,
              "#9c179e"
             ],
             [
              0.4444444444444444,
              "#bd3786"
             ],
             [
              0.5555555555555556,
              "#d8576b"
             ],
             [
              0.6666666666666666,
              "#ed7953"
             ],
             [
              0.7777777777777778,
              "#fb9f3a"
             ],
             [
              0.8888888888888888,
              "#fdca26"
             ],
             [
              1,
              "#f0f921"
             ]
            ],
            "type": "contour"
           }
          ],
          "contourcarpet": [
           {
            "colorbar": {
             "outlinewidth": 0,
             "ticks": ""
            },
            "type": "contourcarpet"
           }
          ],
          "heatmap": [
           {
            "colorbar": {
             "outlinewidth": 0,
             "ticks": ""
            },
            "colorscale": [
             [
              0,
              "#0d0887"
             ],
             [
              0.1111111111111111,
              "#46039f"
             ],
             [
              0.2222222222222222,
              "#7201a8"
             ],
             [
              0.3333333333333333,
              "#9c179e"
             ],
             [
              0.4444444444444444,
              "#bd3786"
             ],
             [
              0.5555555555555556,
              "#d8576b"
             ],
             [
              0.6666666666666666,
              "#ed7953"
             ],
             [
              0.7777777777777778,
              "#fb9f3a"
             ],
             [
              0.8888888888888888,
              "#fdca26"
             ],
             [
              1,
              "#f0f921"
             ]
            ],
            "type": "heatmap"
           }
          ],
          "heatmapgl": [
           {
            "colorbar": {
             "outlinewidth": 0,
             "ticks": ""
            },
            "colorscale": [
             [
              0,
              "#0d0887"
             ],
             [
              0.1111111111111111,
              "#46039f"
             ],
             [
              0.2222222222222222,
              "#7201a8"
             ],
             [
              0.3333333333333333,
              "#9c179e"
             ],
             [
              0.4444444444444444,
              "#bd3786"
             ],
             [
              0.5555555555555556,
              "#d8576b"
             ],
             [
              0.6666666666666666,
              "#ed7953"
             ],
             [
              0.7777777777777778,
              "#fb9f3a"
             ],
             [
              0.8888888888888888,
              "#fdca26"
             ],
             [
              1,
              "#f0f921"
             ]
            ],
            "type": "heatmapgl"
           }
          ],
          "histogram": [
           {
            "marker": {
             "pattern": {
              "fillmode": "overlay",
              "size": 10,
              "solidity": 0.2
             }
            },
            "type": "histogram"
           }
          ],
          "histogram2d": [
           {
            "colorbar": {
             "outlinewidth": 0,
             "ticks": ""
            },
            "colorscale": [
             [
              0,
              "#0d0887"
             ],
             [
              0.1111111111111111,
              "#46039f"
             ],
             [
              0.2222222222222222,
              "#7201a8"
             ],
             [
              0.3333333333333333,
              "#9c179e"
             ],
             [
              0.4444444444444444,
              "#bd3786"
             ],
             [
              0.5555555555555556,
              "#d8576b"
             ],
             [
              0.6666666666666666,
              "#ed7953"
             ],
             [
              0.7777777777777778,
              "#fb9f3a"
             ],
             [
              0.8888888888888888,
              "#fdca26"
             ],
             [
              1,
              "#f0f921"
             ]
            ],
            "type": "histogram2d"
           }
          ],
          "histogram2dcontour": [
           {
            "colorbar": {
             "outlinewidth": 0,
             "ticks": ""
            },
            "colorscale": [
             [
              0,
              "#0d0887"
             ],
             [
              0.1111111111111111,
              "#46039f"
             ],
             [
              0.2222222222222222,
              "#7201a8"
             ],
             [
              0.3333333333333333,
              "#9c179e"
             ],
             [
              0.4444444444444444,
              "#bd3786"
             ],
             [
              0.5555555555555556,
              "#d8576b"
             ],
             [
              0.6666666666666666,
              "#ed7953"
             ],
             [
              0.7777777777777778,
              "#fb9f3a"
             ],
             [
              0.8888888888888888,
              "#fdca26"
             ],
             [
              1,
              "#f0f921"
             ]
            ],
            "type": "histogram2dcontour"
           }
          ],
          "mesh3d": [
           {
            "colorbar": {
             "outlinewidth": 0,
             "ticks": ""
            },
            "type": "mesh3d"
           }
          ],
          "parcoords": [
           {
            "line": {
             "colorbar": {
              "outlinewidth": 0,
              "ticks": ""
             }
            },
            "type": "parcoords"
           }
          ],
          "pie": [
           {
            "automargin": true,
            "type": "pie"
           }
          ],
          "scatter": [
           {
            "fillpattern": {
             "fillmode": "overlay",
             "size": 10,
             "solidity": 0.2
            },
            "type": "scatter"
           }
          ],
          "scatter3d": [
           {
            "line": {
             "colorbar": {
              "outlinewidth": 0,
              "ticks": ""
             }
            },
            "marker": {
             "colorbar": {
              "outlinewidth": 0,
              "ticks": ""
             }
            },
            "type": "scatter3d"
           }
          ],
          "scattercarpet": [
           {
            "marker": {
             "colorbar": {
              "outlinewidth": 0,
              "ticks": ""
             }
            },
            "type": "scattercarpet"
           }
          ],
          "scattergeo": [
           {
            "marker": {
             "colorbar": {
              "outlinewidth": 0,
              "ticks": ""
             }
            },
            "type": "scattergeo"
           }
          ],
          "scattergl": [
           {
            "marker": {
             "colorbar": {
              "outlinewidth": 0,
              "ticks": ""
             }
            },
            "type": "scattergl"
           }
          ],
          "scattermapbox": [
           {
            "marker": {
             "colorbar": {
              "outlinewidth": 0,
              "ticks": ""
             }
            },
            "type": "scattermapbox"
           }
          ],
          "scatterpolar": [
           {
            "marker": {
             "colorbar": {
              "outlinewidth": 0,
              "ticks": ""
             }
            },
            "type": "scatterpolar"
           }
          ],
          "scatterpolargl": [
           {
            "marker": {
             "colorbar": {
              "outlinewidth": 0,
              "ticks": ""
             }
            },
            "type": "scatterpolargl"
           }
          ],
          "scatterternary": [
           {
            "marker": {
             "colorbar": {
              "outlinewidth": 0,
              "ticks": ""
             }
            },
            "type": "scatterternary"
           }
          ],
          "surface": [
           {
            "colorbar": {
             "outlinewidth": 0,
             "ticks": ""
            },
            "colorscale": [
             [
              0,
              "#0d0887"
             ],
             [
              0.1111111111111111,
              "#46039f"
             ],
             [
              0.2222222222222222,
              "#7201a8"
             ],
             [
              0.3333333333333333,
              "#9c179e"
             ],
             [
              0.4444444444444444,
              "#bd3786"
             ],
             [
              0.5555555555555556,
              "#d8576b"
             ],
             [
              0.6666666666666666,
              "#ed7953"
             ],
             [
              0.7777777777777778,
              "#fb9f3a"
             ],
             [
              0.8888888888888888,
              "#fdca26"
             ],
             [
              1,
              "#f0f921"
             ]
            ],
            "type": "surface"
           }
          ],
          "table": [
           {
            "cells": {
             "fill": {
              "color": "#EBF0F8"
             },
             "line": {
              "color": "white"
             }
            },
            "header": {
             "fill": {
              "color": "#C8D4E3"
             },
             "line": {
              "color": "white"
             }
            },
            "type": "table"
           }
          ]
         },
         "layout": {
          "annotationdefaults": {
           "arrowcolor": "#2a3f5f",
           "arrowhead": 0,
           "arrowwidth": 1
          },
          "autotypenumbers": "strict",
          "coloraxis": {
           "colorbar": {
            "outlinewidth": 0,
            "ticks": ""
           }
          },
          "colorscale": {
           "diverging": [
            [
             0,
             "#8e0152"
            ],
            [
             0.1,
             "#c51b7d"
            ],
            [
             0.2,
             "#de77ae"
            ],
            [
             0.3,
             "#f1b6da"
            ],
            [
             0.4,
             "#fde0ef"
            ],
            [
             0.5,
             "#f7f7f7"
            ],
            [
             0.6,
             "#e6f5d0"
            ],
            [
             0.7,
             "#b8e186"
            ],
            [
             0.8,
             "#7fbc41"
            ],
            [
             0.9,
             "#4d9221"
            ],
            [
             1,
             "#276419"
            ]
           ],
           "sequential": [
            [
             0,
             "#0d0887"
            ],
            [
             0.1111111111111111,
             "#46039f"
            ],
            [
             0.2222222222222222,
             "#7201a8"
            ],
            [
             0.3333333333333333,
             "#9c179e"
            ],
            [
             0.4444444444444444,
             "#bd3786"
            ],
            [
             0.5555555555555556,
             "#d8576b"
            ],
            [
             0.6666666666666666,
             "#ed7953"
            ],
            [
             0.7777777777777778,
             "#fb9f3a"
            ],
            [
             0.8888888888888888,
             "#fdca26"
            ],
            [
             1,
             "#f0f921"
            ]
           ],
           "sequentialminus": [
            [
             0,
             "#0d0887"
            ],
            [
             0.1111111111111111,
             "#46039f"
            ],
            [
             0.2222222222222222,
             "#7201a8"
            ],
            [
             0.3333333333333333,
             "#9c179e"
            ],
            [
             0.4444444444444444,
             "#bd3786"
            ],
            [
             0.5555555555555556,
             "#d8576b"
            ],
            [
             0.6666666666666666,
             "#ed7953"
            ],
            [
             0.7777777777777778,
             "#fb9f3a"
            ],
            [
             0.8888888888888888,
             "#fdca26"
            ],
            [
             1,
             "#f0f921"
            ]
           ]
          },
          "colorway": [
           "#636efa",
           "#EF553B",
           "#00cc96",
           "#ab63fa",
           "#FFA15A",
           "#19d3f3",
           "#FF6692",
           "#B6E880",
           "#FF97FF",
           "#FECB52"
          ],
          "font": {
           "color": "#2a3f5f"
          },
          "geo": {
           "bgcolor": "white",
           "lakecolor": "white",
           "landcolor": "#E5ECF6",
           "showlakes": true,
           "showland": true,
           "subunitcolor": "white"
          },
          "hoverlabel": {
           "align": "left"
          },
          "hovermode": "closest",
          "mapbox": {
           "style": "light"
          },
          "paper_bgcolor": "white",
          "plot_bgcolor": "#E5ECF6",
          "polar": {
           "angularaxis": {
            "gridcolor": "white",
            "linecolor": "white",
            "ticks": ""
           },
           "bgcolor": "#E5ECF6",
           "radialaxis": {
            "gridcolor": "white",
            "linecolor": "white",
            "ticks": ""
           }
          },
          "scene": {
           "xaxis": {
            "backgroundcolor": "#E5ECF6",
            "gridcolor": "white",
            "gridwidth": 2,
            "linecolor": "white",
            "showbackground": true,
            "ticks": "",
            "zerolinecolor": "white"
           },
           "yaxis": {
            "backgroundcolor": "#E5ECF6",
            "gridcolor": "white",
            "gridwidth": 2,
            "linecolor": "white",
            "showbackground": true,
            "ticks": "",
            "zerolinecolor": "white"
           },
           "zaxis": {
            "backgroundcolor": "#E5ECF6",
            "gridcolor": "white",
            "gridwidth": 2,
            "linecolor": "white",
            "showbackground": true,
            "ticks": "",
            "zerolinecolor": "white"
           }
          },
          "shapedefaults": {
           "line": {
            "color": "#2a3f5f"
           }
          },
          "ternary": {
           "aaxis": {
            "gridcolor": "white",
            "linecolor": "white",
            "ticks": ""
           },
           "baxis": {
            "gridcolor": "white",
            "linecolor": "white",
            "ticks": ""
           },
           "bgcolor": "#E5ECF6",
           "caxis": {
            "gridcolor": "white",
            "linecolor": "white",
            "ticks": ""
           }
          },
          "title": {
           "x": 0.05
          },
          "xaxis": {
           "automargin": true,
           "gridcolor": "white",
           "linecolor": "white",
           "ticks": "",
           "title": {
            "standoff": 15
           },
           "zerolinecolor": "white",
           "zerolinewidth": 2
          },
          "yaxis": {
           "automargin": true,
           "gridcolor": "white",
           "linecolor": "white",
           "ticks": "",
           "title": {
            "standoff": 15
           },
           "zerolinecolor": "white",
           "zerolinewidth": 2
          }
         }
        }
       }
      },
      "text/html": [
       "<div>                            <div id=\"8ec45e43-68f2-4a9f-9d65-77e673b6fa57\" class=\"plotly-graph-div\" style=\"height:525px; width:100%;\"></div>            <script type=\"text/javascript\">                require([\"plotly\"], function(Plotly) {                    window.PLOTLYENV=window.PLOTLYENV || {};                                    if (document.getElementById(\"8ec45e43-68f2-4a9f-9d65-77e673b6fa57\")) {                    Plotly.newPlot(                        \"8ec45e43-68f2-4a9f-9d65-77e673b6fa57\",                        [{\"name\":\"main root\",\"x\":[7.014674,7.068931,7.097697,7.102405,7.096509,7.078003,7.057387,7.064473,7.056801,7.045027,7.03578,7.053914,7.058697,7.050602,7.021744],\"y\":[4.083105,4.391064,4.580238,4.699361,4.817372,4.93411,5.050687,5.168109,5.286132,5.443573,5.623435,5.801408,5.991669,6.214376,6.799064],\"type\":\"scatter\"},{\"name\":\"lateral root\",\"x\":[7.03248,6.921742,6.763005],\"y\":[4.136673,4.219422,4.337383],\"type\":\"scatter\"},{\"name\":\"lateral root\",\"x\":[7.065898,7.312281,7.439422],\"y\":[4.198863,4.231294,4.27106],\"type\":\"scatter\"},{\"name\":\"lateral root\",\"x\":[7.125593,7.182462,7.287631],\"y\":[4.363359,4.368823,4.43411],\"type\":\"scatter\"}],                        {\"template\":{\"data\":{\"histogram2dcontour\":[{\"type\":\"histogram2dcontour\",\"colorbar\":{\"outlinewidth\":0,\"ticks\":\"\"},\"colorscale\":[[0.0,\"#0d0887\"],[0.1111111111111111,\"#46039f\"],[0.2222222222222222,\"#7201a8\"],[0.3333333333333333,\"#9c179e\"],[0.4444444444444444,\"#bd3786\"],[0.5555555555555556,\"#d8576b\"],[0.6666666666666666,\"#ed7953\"],[0.7777777777777778,\"#fb9f3a\"],[0.8888888888888888,\"#fdca26\"],[1.0,\"#f0f921\"]]}],\"choropleth\":[{\"type\":\"choropleth\",\"colorbar\":{\"outlinewidth\":0,\"ticks\":\"\"}}],\"histogram2d\":[{\"type\":\"histogram2d\",\"colorbar\":{\"outlinewidth\":0,\"ticks\":\"\"},\"colorscale\":[[0.0,\"#0d0887\"],[0.1111111111111111,\"#46039f\"],[0.2222222222222222,\"#7201a8\"],[0.3333333333333333,\"#9c179e\"],[0.4444444444444444,\"#bd3786\"],[0.5555555555555556,\"#d8576b\"],[0.6666666666666666,\"#ed7953\"],[0.7777777777777778,\"#fb9f3a\"],[0.8888888888888888,\"#fdca26\"],[1.0,\"#f0f921\"]]}],\"heatmap\":[{\"type\":\"heatmap\",\"colorbar\":{\"outlinewidth\":0,\"ticks\":\"\"},\"colorscale\":[[0.0,\"#0d0887\"],[0.1111111111111111,\"#46039f\"],[0.2222222222222222,\"#7201a8\"],[0.3333333333333333,\"#9c179e\"],[0.4444444444444444,\"#bd3786\"],[0.5555555555555556,\"#d8576b\"],[0.6666666666666666,\"#ed7953\"],[0.7777777777777778,\"#fb9f3a\"],[0.8888888888888888,\"#fdca26\"],[1.0,\"#f0f921\"]]}],\"heatmapgl\":[{\"type\":\"heatmapgl\",\"colorbar\":{\"outlinewidth\":0,\"ticks\":\"\"},\"colorscale\":[[0.0,\"#0d0887\"],[0.1111111111111111,\"#46039f\"],[0.2222222222222222,\"#7201a8\"],[0.3333333333333333,\"#9c179e\"],[0.4444444444444444,\"#bd3786\"],[0.5555555555555556,\"#d8576b\"],[0.6666666666666666,\"#ed7953\"],[0.7777777777777778,\"#fb9f3a\"],[0.8888888888888888,\"#fdca26\"],[1.0,\"#f0f921\"]]}],\"contourcarpet\":[{\"type\":\"contourcarpet\",\"colorbar\":{\"outlinewidth\":0,\"ticks\":\"\"}}],\"contour\":[{\"type\":\"contour\",\"colorbar\":{\"outlinewidth\":0,\"ticks\":\"\"},\"colorscale\":[[0.0,\"#0d0887\"],[0.1111111111111111,\"#46039f\"],[0.2222222222222222,\"#7201a8\"],[0.3333333333333333,\"#9c179e\"],[0.4444444444444444,\"#bd3786\"],[0.5555555555555556,\"#d8576b\"],[0.6666666666666666,\"#ed7953\"],[0.7777777777777778,\"#fb9f3a\"],[0.8888888888888888,\"#fdca26\"],[1.0,\"#f0f921\"]]}],\"surface\":[{\"type\":\"surface\",\"colorbar\":{\"outlinewidth\":0,\"ticks\":\"\"},\"colorscale\":[[0.0,\"#0d0887\"],[0.1111111111111111,\"#46039f\"],[0.2222222222222222,\"#7201a8\"],[0.3333333333333333,\"#9c179e\"],[0.4444444444444444,\"#bd3786\"],[0.5555555555555556,\"#d8576b\"],[0.6666666666666666,\"#ed7953\"],[0.7777777777777778,\"#fb9f3a\"],[0.8888888888888888,\"#fdca26\"],[1.0,\"#f0f921\"]]}],\"mesh3d\":[{\"type\":\"mesh3d\",\"colorbar\":{\"outlinewidth\":0,\"ticks\":\"\"}}],\"scatter\":[{\"fillpattern\":{\"fillmode\":\"overlay\",\"size\":10,\"solidity\":0.2},\"type\":\"scatter\"}],\"parcoords\":[{\"type\":\"parcoords\",\"line\":{\"colorbar\":{\"outlinewidth\":0,\"ticks\":\"\"}}}],\"scatterpolargl\":[{\"type\":\"scatterpolargl\",\"marker\":{\"colorbar\":{\"outlinewidth\":0,\"ticks\":\"\"}}}],\"bar\":[{\"error_x\":{\"color\":\"#2a3f5f\"},\"error_y\":{\"color\":\"#2a3f5f\"},\"marker\":{\"line\":{\"color\":\"#E5ECF6\",\"width\":0.5},\"pattern\":{\"fillmode\":\"overlay\",\"size\":10,\"solidity\":0.2}},\"type\":\"bar\"}],\"scattergeo\":[{\"type\":\"scattergeo\",\"marker\":{\"colorbar\":{\"outlinewidth\":0,\"ticks\":\"\"}}}],\"scatterpolar\":[{\"type\":\"scatterpolar\",\"marker\":{\"colorbar\":{\"outlinewidth\":0,\"ticks\":\"\"}}}],\"histogram\":[{\"marker\":{\"pattern\":{\"fillmode\":\"overlay\",\"size\":10,\"solidity\":0.2}},\"type\":\"histogram\"}],\"scattergl\":[{\"type\":\"scattergl\",\"marker\":{\"colorbar\":{\"outlinewidth\":0,\"ticks\":\"\"}}}],\"scatter3d\":[{\"type\":\"scatter3d\",\"line\":{\"colorbar\":{\"outlinewidth\":0,\"ticks\":\"\"}},\"marker\":{\"colorbar\":{\"outlinewidth\":0,\"ticks\":\"\"}}}],\"scattermapbox\":[{\"type\":\"scattermapbox\",\"marker\":{\"colorbar\":{\"outlinewidth\":0,\"ticks\":\"\"}}}],\"scatterternary\":[{\"type\":\"scatterternary\",\"marker\":{\"colorbar\":{\"outlinewidth\":0,\"ticks\":\"\"}}}],\"scattercarpet\":[{\"type\":\"scattercarpet\",\"marker\":{\"colorbar\":{\"outlinewidth\":0,\"ticks\":\"\"}}}],\"carpet\":[{\"aaxis\":{\"endlinecolor\":\"#2a3f5f\",\"gridcolor\":\"white\",\"linecolor\":\"white\",\"minorgridcolor\":\"white\",\"startlinecolor\":\"#2a3f5f\"},\"baxis\":{\"endlinecolor\":\"#2a3f5f\",\"gridcolor\":\"white\",\"linecolor\":\"white\",\"minorgridcolor\":\"white\",\"startlinecolor\":\"#2a3f5f\"},\"type\":\"carpet\"}],\"table\":[{\"cells\":{\"fill\":{\"color\":\"#EBF0F8\"},\"line\":{\"color\":\"white\"}},\"header\":{\"fill\":{\"color\":\"#C8D4E3\"},\"line\":{\"color\":\"white\"}},\"type\":\"table\"}],\"barpolar\":[{\"marker\":{\"line\":{\"color\":\"#E5ECF6\",\"width\":0.5},\"pattern\":{\"fillmode\":\"overlay\",\"size\":10,\"solidity\":0.2}},\"type\":\"barpolar\"}],\"pie\":[{\"automargin\":true,\"type\":\"pie\"}]},\"layout\":{\"autotypenumbers\":\"strict\",\"colorway\":[\"#636efa\",\"#EF553B\",\"#00cc96\",\"#ab63fa\",\"#FFA15A\",\"#19d3f3\",\"#FF6692\",\"#B6E880\",\"#FF97FF\",\"#FECB52\"],\"font\":{\"color\":\"#2a3f5f\"},\"hovermode\":\"closest\",\"hoverlabel\":{\"align\":\"left\"},\"paper_bgcolor\":\"white\",\"plot_bgcolor\":\"#E5ECF6\",\"polar\":{\"bgcolor\":\"#E5ECF6\",\"angularaxis\":{\"gridcolor\":\"white\",\"linecolor\":\"white\",\"ticks\":\"\"},\"radialaxis\":{\"gridcolor\":\"white\",\"linecolor\":\"white\",\"ticks\":\"\"}},\"ternary\":{\"bgcolor\":\"#E5ECF6\",\"aaxis\":{\"gridcolor\":\"white\",\"linecolor\":\"white\",\"ticks\":\"\"},\"baxis\":{\"gridcolor\":\"white\",\"linecolor\":\"white\",\"ticks\":\"\"},\"caxis\":{\"gridcolor\":\"white\",\"linecolor\":\"white\",\"ticks\":\"\"}},\"coloraxis\":{\"colorbar\":{\"outlinewidth\":0,\"ticks\":\"\"}},\"colorscale\":{\"sequential\":[[0.0,\"#0d0887\"],[0.1111111111111111,\"#46039f\"],[0.2222222222222222,\"#7201a8\"],[0.3333333333333333,\"#9c179e\"],[0.4444444444444444,\"#bd3786\"],[0.5555555555555556,\"#d8576b\"],[0.6666666666666666,\"#ed7953\"],[0.7777777777777778,\"#fb9f3a\"],[0.8888888888888888,\"#fdca26\"],[1.0,\"#f0f921\"]],\"sequentialminus\":[[0.0,\"#0d0887\"],[0.1111111111111111,\"#46039f\"],[0.2222222222222222,\"#7201a8\"],[0.3333333333333333,\"#9c179e\"],[0.4444444444444444,\"#bd3786\"],[0.5555555555555556,\"#d8576b\"],[0.6666666666666666,\"#ed7953\"],[0.7777777777777778,\"#fb9f3a\"],[0.8888888888888888,\"#fdca26\"],[1.0,\"#f0f921\"]],\"diverging\":[[0,\"#8e0152\"],[0.1,\"#c51b7d\"],[0.2,\"#de77ae\"],[0.3,\"#f1b6da\"],[0.4,\"#fde0ef\"],[0.5,\"#f7f7f7\"],[0.6,\"#e6f5d0\"],[0.7,\"#b8e186\"],[0.8,\"#7fbc41\"],[0.9,\"#4d9221\"],[1,\"#276419\"]]},\"xaxis\":{\"gridcolor\":\"white\",\"linecolor\":\"white\",\"ticks\":\"\",\"title\":{\"standoff\":15},\"zerolinecolor\":\"white\",\"automargin\":true,\"zerolinewidth\":2},\"yaxis\":{\"gridcolor\":\"white\",\"linecolor\":\"white\",\"ticks\":\"\",\"title\":{\"standoff\":15},\"zerolinecolor\":\"white\",\"automargin\":true,\"zerolinewidth\":2},\"scene\":{\"xaxis\":{\"backgroundcolor\":\"#E5ECF6\",\"gridcolor\":\"white\",\"linecolor\":\"white\",\"showbackground\":true,\"ticks\":\"\",\"zerolinecolor\":\"white\",\"gridwidth\":2},\"yaxis\":{\"backgroundcolor\":\"#E5ECF6\",\"gridcolor\":\"white\",\"linecolor\":\"white\",\"showbackground\":true,\"ticks\":\"\",\"zerolinecolor\":\"white\",\"gridwidth\":2},\"zaxis\":{\"backgroundcolor\":\"#E5ECF6\",\"gridcolor\":\"white\",\"linecolor\":\"white\",\"showbackground\":true,\"ticks\":\"\",\"zerolinecolor\":\"white\",\"gridwidth\":2}},\"shapedefaults\":{\"line\":{\"color\":\"#2a3f5f\"}},\"annotationdefaults\":{\"arrowcolor\":\"#2a3f5f\",\"arrowhead\":0,\"arrowwidth\":1},\"geo\":{\"bgcolor\":\"white\",\"landcolor\":\"#E5ECF6\",\"subunitcolor\":\"white\",\"showland\":true,\"showlakes\":true,\"lakecolor\":\"white\"},\"title\":{\"x\":0.05},\"mapbox\":{\"style\":\"light\"}}}},                        {\"responsive\": true}                    ).then(function(){\n",
       "                            \n",
       "var gd = document.getElementById('8ec45e43-68f2-4a9f-9d65-77e673b6fa57');\n",
       "var x = new MutationObserver(function (mutations, observer) {{\n",
       "        var display = window.getComputedStyle(gd).display;\n",
       "        if (!display || display === 'none') {{\n",
       "            console.log([gd, 'removed!']);\n",
       "            Plotly.purge(gd);\n",
       "            observer.disconnect();\n",
       "        }}\n",
       "}});\n",
       "\n",
       "// Listen for the removal of the full notebook cells\n",
       "var notebookContainer = gd.closest('#notebook-container');\n",
       "if (notebookContainer) {{\n",
       "    x.observe(notebookContainer, {childList: true});\n",
       "}}\n",
       "\n",
       "// Listen for the clearing of the current output cell\n",
       "var outputEl = gd.closest('.output');\n",
       "if (outputEl) {{\n",
       "    x.observe(outputEl, {childList: true});\n",
       "}}\n",
       "\n",
       "                        })                };                });            </script>        </div>"
      ]
     },
     "metadata": {},
     "output_type": "display_data"
    },
    {
     "data": {
      "application/vnd.plotly.v1+json": {
       "config": {
        "plotlyServerURL": "https://plot.ly"
       },
       "data": [
        {
         "name": "main root",
         "type": "scatter",
         "x": [
          7.014674,
          7.068931,
          7.097697,
          7.102405,
          7.096509,
          7.078003,
          7.057387,
          7.064473,
          7.056801,
          7.045027,
          7.03578,
          7.053914,
          7.058697,
          7.050602,
          7.021744
         ],
         "y": [
          4.083105,
          4.391064,
          4.580238,
          4.699361,
          4.817372,
          4.93411,
          5.050687,
          5.168109,
          5.286132,
          5.443573,
          5.623435,
          5.801408,
          5.991669,
          6.214376,
          6.799064
         ]
        },
        {
         "name": "lateral root",
         "type": "scatter",
         "x": [
          7.03248,
          6.921742,
          6.763005
         ],
         "y": [
          4.136673,
          4.219422,
          4.337383
         ]
        },
        {
         "name": "lateral root",
         "type": "scatter",
         "x": [
          7.065898,
          7.312281,
          7.439422
         ],
         "y": [
          4.198863,
          4.231294,
          4.27106
         ]
        },
        {
         "name": "lateral root",
         "type": "scatter",
         "x": [
          7.125593,
          7.182462,
          7.287631
         ],
         "y": [
          4.363359,
          4.368823,
          4.43411
         ]
        },
        {
         "mode": "lines",
         "name": "0.3180246949146614",
         "type": "scatter",
         "x": [
          6.763005,
          6.768512734397188,
          6.774042172627385,
          6.77959331469059,
          6.785166160586804,
          6.790760710316026,
          6.796376963878257,
          6.8020149212734955,
          6.807674582501743,
          6.813355947562999,
          6.819059016457264,
          6.824783789184537,
          6.8305302657448195,
          6.83629844613811,
          6.842088330364408,
          6.847899918423716,
          6.853733210316031,
          6.859588206041355,
          6.865464905599688,
          6.87136330899103,
          6.877283416215379,
          6.883225227272738,
          6.889188742163104,
          6.8951739608864795,
          6.901180883442863,
          6.9072095098322555,
          6.913259840054656,
          6.919331874110066,
          6.925425611998484,
          6.93154105371991,
          6.937678199274345,
          6.943837048661788,
          6.95001760188224,
          6.9562198589357,
          6.962443819822169,
          6.968689484541646,
          6.974956853094132,
          6.981245925479626,
          6.987556701698129,
          6.9938891817496405,
          7.00024336563416,
          7.006619253351689,
          7.013016844902225,
          7.01943614028577,
          7.025877139502324,
          7.032339842551886,
          7.038824249434457,
          7.045330360150037,
          7.051858174698625,
          7.058407693080221
         ],
         "y": [
          4.337383,
          4.33364064949113,
          4.330041030015617,
          4.326584141573461,
          4.3232699841646625,
          4.320098557789221,
          4.317069862447136,
          4.314183898138409,
          4.311440664863039,
          4.308840162621025,
          4.306382391412369,
          4.30406735123707,
          4.301895042095128,
          4.299865463986543,
          4.297978616911315,
          4.296234500869445,
          4.294633115860932,
          4.2931744618857755,
          4.291858538943976,
          4.2906853470355335,
          4.289654886160449,
          4.288767156318721,
          4.288022157510349,
          4.287419889735336,
          4.286960352993679,
          4.286643547285379,
          4.286469472610437,
          4.286438128968852,
          4.2865495163606235,
          4.286803634785753,
          4.287200484244239,
          4.287740064736082,
          4.288422376261281,
          4.289247418819839,
          4.290215192411753,
          4.291325697037025,
          4.292578932695653,
          4.293974899387639,
          4.295513597112982,
          4.297195025871682,
          4.299019185663739,
          4.300986076489153,
          4.303095698347924,
          4.305348051240053,
          4.307743135165538,
          4.31028095012438,
          4.312961496116579,
          4.315784773142137,
          4.31875078120105,
          4.321859520293321
         ]
        },
        {
         "mode": "lines",
         "name": "0.4771337968226776",
         "type": "scatter",
         "x": [
          7.107893912576261,
          7.114858042640115,
          7.1218139122569415,
          7.12876152142674,
          7.13570087014951,
          7.142631958425252,
          7.149554786253965,
          7.156469353635651,
          7.163375660570308,
          7.170273707057937,
          7.177163493098538,
          7.184045018692111,
          7.190918283838656,
          7.197783288538172,
          7.20464003279066,
          7.211488516596121,
          7.218328739954552,
          7.225160702865956,
          7.231984405330332,
          7.238799847347679,
          7.245607028917998,
          7.25240595004129,
          7.259196610717552,
          7.265979010946787,
          7.2727531507289935,
          7.279519030064172,
          7.286276648952322,
          7.293026007393444,
          7.299767105387538,
          7.306499942934604,
          7.313224520034641,
          7.319940836687651,
          7.3266488928936315,
          7.333348688652585,
          7.340040223964509,
          7.346723498829406,
          7.353398513247274,
          7.360065267218115,
          7.366723760741927,
          7.373373993818711,
          7.380015966448466,
          7.386649678631194,
          7.393275130366893,
          7.399892321655565,
          7.406501252497208,
          7.413101922891823,
          7.419694332839409,
          7.426278482339968,
          7.432854371393498,
          7.439422
         ],
         "y": [
          4.589498031540513,
          4.579031221789484,
          4.568729748472349,
          4.558593611589108,
          4.548622811139763,
          4.538817347124311,
          4.529177219542755,
          4.519702428395092,
          4.510392973681324,
          4.501248855401451,
          4.492270073555472,
          4.483456628143388,
          4.474808519165198,
          4.466325746620903,
          4.458008310510502,
          4.449856210833996,
          4.441869447591384,
          4.434048020782667,
          4.426391930407844,
          4.418901176466915,
          4.411575758959882,
          4.404415677886742,
          4.3974209332474965,
          4.390591525042146,
          4.38392745327069,
          4.377428717933129,
          4.371095319029462,
          4.36492725655969,
          4.358924530523812,
          4.353087140921828,
          4.347415087753739,
          4.341908371019544,
          4.336566990719245,
          4.331390946852839,
          4.3263802394203275,
          4.321534868421711,
          4.316854833856989,
          4.312340135726162,
          4.3079907740292285,
          4.303806748766189,
          4.299788059937045,
          4.295934707541796,
          4.2922466915804405,
          4.28872401205298,
          4.285366668959414,
          4.2821746622997425,
          4.279147992073965,
          4.276286658282082,
          4.273590660924094,
          4.27106
         ]
        },
        {
         "mode": "lines",
         "name": "0.4395002697708605",
         "type": "scatter",
         "x": [
          7.097158662956166,
          7.101145040793183,
          7.105127285826654,
          7.109105398056579,
          7.113079377482959,
          7.117049224105792,
          7.12101493792508,
          7.124976518940821,
          7.128933967153016,
          7.132887282561667,
          7.13683646516677,
          7.140781514968328,
          7.14472243196634,
          7.148659216160806,
          7.152591867551726,
          7.1565203861391,
          7.160444771922928,
          7.16436502490321,
          7.1682811450799475,
          7.172193132453137,
          7.1761009870227825,
          7.180004708788881,
          7.183904297751433,
          7.187799753910441,
          7.191691077265902,
          7.195578267817816,
          7.199461325566185,
          7.203340250511008,
          7.207215042652286,
          7.211085701990017,
          7.2149522285242025,
          7.2188146222548415,
          7.222672883181936,
          7.226527011305483,
          7.230377006625485,
          7.234222869141941,
          7.238064598854851,
          7.241902195764214,
          7.245735659870032,
          7.249564991172305,
          7.25339018967103,
          7.257211255366211,
          7.261028188257845,
          7.2648409883459335,
          7.268649655630476,
          7.272454190111473,
          7.276254591788923,
          7.280050860662828,
          7.2838429967331875,
          7.287631
         ],
         "y": [
          4.825790746971235,
          4.817236389418363,
          4.808705401570524,
          4.800197783427719,
          4.791713534989947,
          4.7832526562572095,
          4.774815147229505,
          4.766401007906834,
          4.758010238289197,
          4.749642838376594,
          4.741298808169024,
          4.732978147666487,
          4.724680856868985,
          4.716406935776515,
          4.70815638438908,
          4.699929202706678,
          4.691725390729309,
          4.683544948456975,
          4.675387875889673,
          4.667254173027406,
          4.659143839870172,
          4.651056876417972,
          4.642993282670805,
          4.634953058628672,
          4.626936204291572,
          4.618942719659506,
          4.610972604732474,
          4.603025859510475,
          4.59510248399351,
          4.587202478181578,
          4.57932584207468,
          4.571472575672815,
          4.5636426789759845,
          4.555836151984187,
          4.548052994697423,
          4.540293207115694,
          4.532556789238997,
          4.524843741067334,
          4.517154062600705,
          4.509487753839109,
          4.501844814782547,
          4.494225245431019,
          4.486629045784524,
          4.4790562158430625,
          4.471506755606635,
          4.4639806650752405,
          4.45647794424888,
          4.448998593127554,
          4.44154261171126,
          4.43411
         ]
        }
       ],
       "layout": {
        "template": {
         "data": {
          "bar": [
           {
            "error_x": {
             "color": "#2a3f5f"
            },
            "error_y": {
             "color": "#2a3f5f"
            },
            "marker": {
             "line": {
              "color": "#E5ECF6",
              "width": 0.5
             },
             "pattern": {
              "fillmode": "overlay",
              "size": 10,
              "solidity": 0.2
             }
            },
            "type": "bar"
           }
          ],
          "barpolar": [
           {
            "marker": {
             "line": {
              "color": "#E5ECF6",
              "width": 0.5
             },
             "pattern": {
              "fillmode": "overlay",
              "size": 10,
              "solidity": 0.2
             }
            },
            "type": "barpolar"
           }
          ],
          "carpet": [
           {
            "aaxis": {
             "endlinecolor": "#2a3f5f",
             "gridcolor": "white",
             "linecolor": "white",
             "minorgridcolor": "white",
             "startlinecolor": "#2a3f5f"
            },
            "baxis": {
             "endlinecolor": "#2a3f5f",
             "gridcolor": "white",
             "linecolor": "white",
             "minorgridcolor": "white",
             "startlinecolor": "#2a3f5f"
            },
            "type": "carpet"
           }
          ],
          "choropleth": [
           {
            "colorbar": {
             "outlinewidth": 0,
             "ticks": ""
            },
            "type": "choropleth"
           }
          ],
          "contour": [
           {
            "colorbar": {
             "outlinewidth": 0,
             "ticks": ""
            },
            "colorscale": [
             [
              0,
              "#0d0887"
             ],
             [
              0.1111111111111111,
              "#46039f"
             ],
             [
              0.2222222222222222,
              "#7201a8"
             ],
             [
              0.3333333333333333,
              "#9c179e"
             ],
             [
              0.4444444444444444,
              "#bd3786"
             ],
             [
              0.5555555555555556,
              "#d8576b"
             ],
             [
              0.6666666666666666,
              "#ed7953"
             ],
             [
              0.7777777777777778,
              "#fb9f3a"
             ],
             [
              0.8888888888888888,
              "#fdca26"
             ],
             [
              1,
              "#f0f921"
             ]
            ],
            "type": "contour"
           }
          ],
          "contourcarpet": [
           {
            "colorbar": {
             "outlinewidth": 0,
             "ticks": ""
            },
            "type": "contourcarpet"
           }
          ],
          "heatmap": [
           {
            "colorbar": {
             "outlinewidth": 0,
             "ticks": ""
            },
            "colorscale": [
             [
              0,
              "#0d0887"
             ],
             [
              0.1111111111111111,
              "#46039f"
             ],
             [
              0.2222222222222222,
              "#7201a8"
             ],
             [
              0.3333333333333333,
              "#9c179e"
             ],
             [
              0.4444444444444444,
              "#bd3786"
             ],
             [
              0.5555555555555556,
              "#d8576b"
             ],
             [
              0.6666666666666666,
              "#ed7953"
             ],
             [
              0.7777777777777778,
              "#fb9f3a"
             ],
             [
              0.8888888888888888,
              "#fdca26"
             ],
             [
              1,
              "#f0f921"
             ]
            ],
            "type": "heatmap"
           }
          ],
          "heatmapgl": [
           {
            "colorbar": {
             "outlinewidth": 0,
             "ticks": ""
            },
            "colorscale": [
             [
              0,
              "#0d0887"
             ],
             [
              0.1111111111111111,
              "#46039f"
             ],
             [
              0.2222222222222222,
              "#7201a8"
             ],
             [
              0.3333333333333333,
              "#9c179e"
             ],
             [
              0.4444444444444444,
              "#bd3786"
             ],
             [
              0.5555555555555556,
              "#d8576b"
             ],
             [
              0.6666666666666666,
              "#ed7953"
             ],
             [
              0.7777777777777778,
              "#fb9f3a"
             ],
             [
              0.8888888888888888,
              "#fdca26"
             ],
             [
              1,
              "#f0f921"
             ]
            ],
            "type": "heatmapgl"
           }
          ],
          "histogram": [
           {
            "marker": {
             "pattern": {
              "fillmode": "overlay",
              "size": 10,
              "solidity": 0.2
             }
            },
            "type": "histogram"
           }
          ],
          "histogram2d": [
           {
            "colorbar": {
             "outlinewidth": 0,
             "ticks": ""
            },
            "colorscale": [
             [
              0,
              "#0d0887"
             ],
             [
              0.1111111111111111,
              "#46039f"
             ],
             [
              0.2222222222222222,
              "#7201a8"
             ],
             [
              0.3333333333333333,
              "#9c179e"
             ],
             [
              0.4444444444444444,
              "#bd3786"
             ],
             [
              0.5555555555555556,
              "#d8576b"
             ],
             [
              0.6666666666666666,
              "#ed7953"
             ],
             [
              0.7777777777777778,
              "#fb9f3a"
             ],
             [
              0.8888888888888888,
              "#fdca26"
             ],
             [
              1,
              "#f0f921"
             ]
            ],
            "type": "histogram2d"
           }
          ],
          "histogram2dcontour": [
           {
            "colorbar": {
             "outlinewidth": 0,
             "ticks": ""
            },
            "colorscale": [
             [
              0,
              "#0d0887"
             ],
             [
              0.1111111111111111,
              "#46039f"
             ],
             [
              0.2222222222222222,
              "#7201a8"
             ],
             [
              0.3333333333333333,
              "#9c179e"
             ],
             [
              0.4444444444444444,
              "#bd3786"
             ],
             [
              0.5555555555555556,
              "#d8576b"
             ],
             [
              0.6666666666666666,
              "#ed7953"
             ],
             [
              0.7777777777777778,
              "#fb9f3a"
             ],
             [
              0.8888888888888888,
              "#fdca26"
             ],
             [
              1,
              "#f0f921"
             ]
            ],
            "type": "histogram2dcontour"
           }
          ],
          "mesh3d": [
           {
            "colorbar": {
             "outlinewidth": 0,
             "ticks": ""
            },
            "type": "mesh3d"
           }
          ],
          "parcoords": [
           {
            "line": {
             "colorbar": {
              "outlinewidth": 0,
              "ticks": ""
             }
            },
            "type": "parcoords"
           }
          ],
          "pie": [
           {
            "automargin": true,
            "type": "pie"
           }
          ],
          "scatter": [
           {
            "fillpattern": {
             "fillmode": "overlay",
             "size": 10,
             "solidity": 0.2
            },
            "type": "scatter"
           }
          ],
          "scatter3d": [
           {
            "line": {
             "colorbar": {
              "outlinewidth": 0,
              "ticks": ""
             }
            },
            "marker": {
             "colorbar": {
              "outlinewidth": 0,
              "ticks": ""
             }
            },
            "type": "scatter3d"
           }
          ],
          "scattercarpet": [
           {
            "marker": {
             "colorbar": {
              "outlinewidth": 0,
              "ticks": ""
             }
            },
            "type": "scattercarpet"
           }
          ],
          "scattergeo": [
           {
            "marker": {
             "colorbar": {
              "outlinewidth": 0,
              "ticks": ""
             }
            },
            "type": "scattergeo"
           }
          ],
          "scattergl": [
           {
            "marker": {
             "colorbar": {
              "outlinewidth": 0,
              "ticks": ""
             }
            },
            "type": "scattergl"
           }
          ],
          "scattermapbox": [
           {
            "marker": {
             "colorbar": {
              "outlinewidth": 0,
              "ticks": ""
             }
            },
            "type": "scattermapbox"
           }
          ],
          "scatterpolar": [
           {
            "marker": {
             "colorbar": {
              "outlinewidth": 0,
              "ticks": ""
             }
            },
            "type": "scatterpolar"
           }
          ],
          "scatterpolargl": [
           {
            "marker": {
             "colorbar": {
              "outlinewidth": 0,
              "ticks": ""
             }
            },
            "type": "scatterpolargl"
           }
          ],
          "scatterternary": [
           {
            "marker": {
             "colorbar": {
              "outlinewidth": 0,
              "ticks": ""
             }
            },
            "type": "scatterternary"
           }
          ],
          "surface": [
           {
            "colorbar": {
             "outlinewidth": 0,
             "ticks": ""
            },
            "colorscale": [
             [
              0,
              "#0d0887"
             ],
             [
              0.1111111111111111,
              "#46039f"
             ],
             [
              0.2222222222222222,
              "#7201a8"
             ],
             [
              0.3333333333333333,
              "#9c179e"
             ],
             [
              0.4444444444444444,
              "#bd3786"
             ],
             [
              0.5555555555555556,
              "#d8576b"
             ],
             [
              0.6666666666666666,
              "#ed7953"
             ],
             [
              0.7777777777777778,
              "#fb9f3a"
             ],
             [
              0.8888888888888888,
              "#fdca26"
             ],
             [
              1,
              "#f0f921"
             ]
            ],
            "type": "surface"
           }
          ],
          "table": [
           {
            "cells": {
             "fill": {
              "color": "#EBF0F8"
             },
             "line": {
              "color": "white"
             }
            },
            "header": {
             "fill": {
              "color": "#C8D4E3"
             },
             "line": {
              "color": "white"
             }
            },
            "type": "table"
           }
          ]
         },
         "layout": {
          "annotationdefaults": {
           "arrowcolor": "#2a3f5f",
           "arrowhead": 0,
           "arrowwidth": 1
          },
          "autotypenumbers": "strict",
          "coloraxis": {
           "colorbar": {
            "outlinewidth": 0,
            "ticks": ""
           }
          },
          "colorscale": {
           "diverging": [
            [
             0,
             "#8e0152"
            ],
            [
             0.1,
             "#c51b7d"
            ],
            [
             0.2,
             "#de77ae"
            ],
            [
             0.3,
             "#f1b6da"
            ],
            [
             0.4,
             "#fde0ef"
            ],
            [
             0.5,
             "#f7f7f7"
            ],
            [
             0.6,
             "#e6f5d0"
            ],
            [
             0.7,
             "#b8e186"
            ],
            [
             0.8,
             "#7fbc41"
            ],
            [
             0.9,
             "#4d9221"
            ],
            [
             1,
             "#276419"
            ]
           ],
           "sequential": [
            [
             0,
             "#0d0887"
            ],
            [
             0.1111111111111111,
             "#46039f"
            ],
            [
             0.2222222222222222,
             "#7201a8"
            ],
            [
             0.3333333333333333,
             "#9c179e"
            ],
            [
             0.4444444444444444,
             "#bd3786"
            ],
            [
             0.5555555555555556,
             "#d8576b"
            ],
            [
             0.6666666666666666,
             "#ed7953"
            ],
            [
             0.7777777777777778,
             "#fb9f3a"
            ],
            [
             0.8888888888888888,
             "#fdca26"
            ],
            [
             1,
             "#f0f921"
            ]
           ],
           "sequentialminus": [
            [
             0,
             "#0d0887"
            ],
            [
             0.1111111111111111,
             "#46039f"
            ],
            [
             0.2222222222222222,
             "#7201a8"
            ],
            [
             0.3333333333333333,
             "#9c179e"
            ],
            [
             0.4444444444444444,
             "#bd3786"
            ],
            [
             0.5555555555555556,
             "#d8576b"
            ],
            [
             0.6666666666666666,
             "#ed7953"
            ],
            [
             0.7777777777777778,
             "#fb9f3a"
            ],
            [
             0.8888888888888888,
             "#fdca26"
            ],
            [
             1,
             "#f0f921"
            ]
           ]
          },
          "colorway": [
           "#636efa",
           "#EF553B",
           "#00cc96",
           "#ab63fa",
           "#FFA15A",
           "#19d3f3",
           "#FF6692",
           "#B6E880",
           "#FF97FF",
           "#FECB52"
          ],
          "font": {
           "color": "#2a3f5f"
          },
          "geo": {
           "bgcolor": "white",
           "lakecolor": "white",
           "landcolor": "#E5ECF6",
           "showlakes": true,
           "showland": true,
           "subunitcolor": "white"
          },
          "hoverlabel": {
           "align": "left"
          },
          "hovermode": "closest",
          "mapbox": {
           "style": "light"
          },
          "paper_bgcolor": "white",
          "plot_bgcolor": "#E5ECF6",
          "polar": {
           "angularaxis": {
            "gridcolor": "white",
            "linecolor": "white",
            "ticks": ""
           },
           "bgcolor": "#E5ECF6",
           "radialaxis": {
            "gridcolor": "white",
            "linecolor": "white",
            "ticks": ""
           }
          },
          "scene": {
           "xaxis": {
            "backgroundcolor": "#E5ECF6",
            "gridcolor": "white",
            "gridwidth": 2,
            "linecolor": "white",
            "showbackground": true,
            "ticks": "",
            "zerolinecolor": "white"
           },
           "yaxis": {
            "backgroundcolor": "#E5ECF6",
            "gridcolor": "white",
            "gridwidth": 2,
            "linecolor": "white",
            "showbackground": true,
            "ticks": "",
            "zerolinecolor": "white"
           },
           "zaxis": {
            "backgroundcolor": "#E5ECF6",
            "gridcolor": "white",
            "gridwidth": 2,
            "linecolor": "white",
            "showbackground": true,
            "ticks": "",
            "zerolinecolor": "white"
           }
          },
          "shapedefaults": {
           "line": {
            "color": "#2a3f5f"
           }
          },
          "ternary": {
           "aaxis": {
            "gridcolor": "white",
            "linecolor": "white",
            "ticks": ""
           },
           "baxis": {
            "gridcolor": "white",
            "linecolor": "white",
            "ticks": ""
           },
           "bgcolor": "#E5ECF6",
           "caxis": {
            "gridcolor": "white",
            "linecolor": "white",
            "ticks": ""
           }
          },
          "title": {
           "x": 0.05
          },
          "xaxis": {
           "automargin": true,
           "gridcolor": "white",
           "linecolor": "white",
           "ticks": "",
           "title": {
            "standoff": 15
           },
           "zerolinecolor": "white",
           "zerolinewidth": 2
          },
          "yaxis": {
           "automargin": true,
           "gridcolor": "white",
           "linecolor": "white",
           "ticks": "",
           "title": {
            "standoff": 15
           },
           "zerolinecolor": "white",
           "zerolinewidth": 2
          }
         }
        }
       }
      },
      "text/html": [
       "<div>                            <div id=\"a610b2f0-0829-4a4e-ba40-0a8037a1e205\" class=\"plotly-graph-div\" style=\"height:525px; width:100%;\"></div>            <script type=\"text/javascript\">                require([\"plotly\"], function(Plotly) {                    window.PLOTLYENV=window.PLOTLYENV || {};                                    if (document.getElementById(\"a610b2f0-0829-4a4e-ba40-0a8037a1e205\")) {                    Plotly.newPlot(                        \"a610b2f0-0829-4a4e-ba40-0a8037a1e205\",                        [{\"name\":\"main root\",\"x\":[7.014674,7.068931,7.097697,7.102405,7.096509,7.078003,7.057387,7.064473,7.056801,7.045027,7.03578,7.053914,7.058697,7.050602,7.021744],\"y\":[4.083105,4.391064,4.580238,4.699361,4.817372,4.93411,5.050687,5.168109,5.286132,5.443573,5.623435,5.801408,5.991669,6.214376,6.799064],\"type\":\"scatter\"},{\"name\":\"lateral root\",\"x\":[7.03248,6.921742,6.763005],\"y\":[4.136673,4.219422,4.337383],\"type\":\"scatter\"},{\"name\":\"lateral root\",\"x\":[7.065898,7.312281,7.439422],\"y\":[4.198863,4.231294,4.27106],\"type\":\"scatter\"},{\"name\":\"lateral root\",\"x\":[7.125593,7.182462,7.287631],\"y\":[4.363359,4.368823,4.43411],\"type\":\"scatter\"},{\"mode\":\"lines\",\"name\":\"0.3180246949146614\",\"x\":[6.763005,6.768512734397188,6.774042172627385,6.77959331469059,6.785166160586804,6.790760710316026,6.796376963878257,6.8020149212734955,6.807674582501743,6.813355947562999,6.819059016457264,6.824783789184537,6.8305302657448195,6.83629844613811,6.842088330364408,6.847899918423716,6.853733210316031,6.859588206041355,6.865464905599688,6.87136330899103,6.877283416215379,6.883225227272738,6.889188742163104,6.8951739608864795,6.901180883442863,6.9072095098322555,6.913259840054656,6.919331874110066,6.925425611998484,6.93154105371991,6.937678199274345,6.943837048661788,6.95001760188224,6.9562198589357,6.962443819822169,6.968689484541646,6.974956853094132,6.981245925479626,6.987556701698129,6.9938891817496405,7.00024336563416,7.006619253351689,7.013016844902225,7.01943614028577,7.025877139502324,7.032339842551886,7.038824249434457,7.045330360150037,7.051858174698625,7.058407693080221],\"y\":[4.337383,4.33364064949113,4.330041030015617,4.326584141573461,4.3232699841646625,4.320098557789221,4.317069862447136,4.314183898138409,4.311440664863039,4.308840162621025,4.306382391412369,4.30406735123707,4.301895042095128,4.299865463986543,4.297978616911315,4.296234500869445,4.294633115860932,4.2931744618857755,4.291858538943976,4.2906853470355335,4.289654886160449,4.288767156318721,4.288022157510349,4.287419889735336,4.286960352993679,4.286643547285379,4.286469472610437,4.286438128968852,4.2865495163606235,4.286803634785753,4.287200484244239,4.287740064736082,4.288422376261281,4.289247418819839,4.290215192411753,4.291325697037025,4.292578932695653,4.293974899387639,4.295513597112982,4.297195025871682,4.299019185663739,4.300986076489153,4.303095698347924,4.305348051240053,4.307743135165538,4.31028095012438,4.312961496116579,4.315784773142137,4.31875078120105,4.321859520293321],\"type\":\"scatter\"},{\"mode\":\"lines\",\"name\":\"0.4771337968226776\",\"x\":[7.107893912576261,7.114858042640115,7.1218139122569415,7.12876152142674,7.13570087014951,7.142631958425252,7.149554786253965,7.156469353635651,7.163375660570308,7.170273707057937,7.177163493098538,7.184045018692111,7.190918283838656,7.197783288538172,7.20464003279066,7.211488516596121,7.218328739954552,7.225160702865956,7.231984405330332,7.238799847347679,7.245607028917998,7.25240595004129,7.259196610717552,7.265979010946787,7.2727531507289935,7.279519030064172,7.286276648952322,7.293026007393444,7.299767105387538,7.306499942934604,7.313224520034641,7.319940836687651,7.3266488928936315,7.333348688652585,7.340040223964509,7.346723498829406,7.353398513247274,7.360065267218115,7.366723760741927,7.373373993818711,7.380015966448466,7.386649678631194,7.393275130366893,7.399892321655565,7.406501252497208,7.413101922891823,7.419694332839409,7.426278482339968,7.432854371393498,7.439422],\"y\":[4.589498031540513,4.579031221789484,4.568729748472349,4.558593611589108,4.548622811139763,4.538817347124311,4.529177219542755,4.519702428395092,4.510392973681324,4.501248855401451,4.492270073555472,4.483456628143388,4.474808519165198,4.466325746620903,4.458008310510502,4.449856210833996,4.441869447591384,4.434048020782667,4.426391930407844,4.418901176466915,4.411575758959882,4.404415677886742,4.3974209332474965,4.390591525042146,4.38392745327069,4.377428717933129,4.371095319029462,4.36492725655969,4.358924530523812,4.353087140921828,4.347415087753739,4.341908371019544,4.336566990719245,4.331390946852839,4.3263802394203275,4.321534868421711,4.316854833856989,4.312340135726162,4.3079907740292285,4.303806748766189,4.299788059937045,4.295934707541796,4.2922466915804405,4.28872401205298,4.285366668959414,4.2821746622997425,4.279147992073965,4.276286658282082,4.273590660924094,4.27106],\"type\":\"scatter\"},{\"mode\":\"lines\",\"name\":\"0.4395002697708605\",\"x\":[7.097158662956166,7.101145040793183,7.105127285826654,7.109105398056579,7.113079377482959,7.117049224105792,7.12101493792508,7.124976518940821,7.128933967153016,7.132887282561667,7.13683646516677,7.140781514968328,7.14472243196634,7.148659216160806,7.152591867551726,7.1565203861391,7.160444771922928,7.16436502490321,7.1682811450799475,7.172193132453137,7.1761009870227825,7.180004708788881,7.183904297751433,7.187799753910441,7.191691077265902,7.195578267817816,7.199461325566185,7.203340250511008,7.207215042652286,7.211085701990017,7.2149522285242025,7.2188146222548415,7.222672883181936,7.226527011305483,7.230377006625485,7.234222869141941,7.238064598854851,7.241902195764214,7.245735659870032,7.249564991172305,7.25339018967103,7.257211255366211,7.261028188257845,7.2648409883459335,7.268649655630476,7.272454190111473,7.276254591788923,7.280050860662828,7.2838429967331875,7.287631],\"y\":[4.825790746971235,4.817236389418363,4.808705401570524,4.800197783427719,4.791713534989947,4.7832526562572095,4.774815147229505,4.766401007906834,4.758010238289197,4.749642838376594,4.741298808169024,4.732978147666487,4.724680856868985,4.716406935776515,4.70815638438908,4.699929202706678,4.691725390729309,4.683544948456975,4.675387875889673,4.667254173027406,4.659143839870172,4.651056876417972,4.642993282670805,4.634953058628672,4.626936204291572,4.618942719659506,4.610972604732474,4.603025859510475,4.59510248399351,4.587202478181578,4.57932584207468,4.571472575672815,4.5636426789759845,4.555836151984187,4.548052994697423,4.540293207115694,4.532556789238997,4.524843741067334,4.517154062600705,4.509487753839109,4.501844814782547,4.494225245431019,4.486629045784524,4.4790562158430625,4.471506755606635,4.4639806650752405,4.45647794424888,4.448998593127554,4.44154261171126,4.43411],\"type\":\"scatter\"}],                        {\"template\":{\"data\":{\"histogram2dcontour\":[{\"type\":\"histogram2dcontour\",\"colorbar\":{\"outlinewidth\":0,\"ticks\":\"\"},\"colorscale\":[[0.0,\"#0d0887\"],[0.1111111111111111,\"#46039f\"],[0.2222222222222222,\"#7201a8\"],[0.3333333333333333,\"#9c179e\"],[0.4444444444444444,\"#bd3786\"],[0.5555555555555556,\"#d8576b\"],[0.6666666666666666,\"#ed7953\"],[0.7777777777777778,\"#fb9f3a\"],[0.8888888888888888,\"#fdca26\"],[1.0,\"#f0f921\"]]}],\"choropleth\":[{\"type\":\"choropleth\",\"colorbar\":{\"outlinewidth\":0,\"ticks\":\"\"}}],\"histogram2d\":[{\"type\":\"histogram2d\",\"colorbar\":{\"outlinewidth\":0,\"ticks\":\"\"},\"colorscale\":[[0.0,\"#0d0887\"],[0.1111111111111111,\"#46039f\"],[0.2222222222222222,\"#7201a8\"],[0.3333333333333333,\"#9c179e\"],[0.4444444444444444,\"#bd3786\"],[0.5555555555555556,\"#d8576b\"],[0.6666666666666666,\"#ed7953\"],[0.7777777777777778,\"#fb9f3a\"],[0.8888888888888888,\"#fdca26\"],[1.0,\"#f0f921\"]]}],\"heatmap\":[{\"type\":\"heatmap\",\"colorbar\":{\"outlinewidth\":0,\"ticks\":\"\"},\"colorscale\":[[0.0,\"#0d0887\"],[0.1111111111111111,\"#46039f\"],[0.2222222222222222,\"#7201a8\"],[0.3333333333333333,\"#9c179e\"],[0.4444444444444444,\"#bd3786\"],[0.5555555555555556,\"#d8576b\"],[0.6666666666666666,\"#ed7953\"],[0.7777777777777778,\"#fb9f3a\"],[0.8888888888888888,\"#fdca26\"],[1.0,\"#f0f921\"]]}],\"heatmapgl\":[{\"type\":\"heatmapgl\",\"colorbar\":{\"outlinewidth\":0,\"ticks\":\"\"},\"colorscale\":[[0.0,\"#0d0887\"],[0.1111111111111111,\"#46039f\"],[0.2222222222222222,\"#7201a8\"],[0.3333333333333333,\"#9c179e\"],[0.4444444444444444,\"#bd3786\"],[0.5555555555555556,\"#d8576b\"],[0.6666666666666666,\"#ed7953\"],[0.7777777777777778,\"#fb9f3a\"],[0.8888888888888888,\"#fdca26\"],[1.0,\"#f0f921\"]]}],\"contourcarpet\":[{\"type\":\"contourcarpet\",\"colorbar\":{\"outlinewidth\":0,\"ticks\":\"\"}}],\"contour\":[{\"type\":\"contour\",\"colorbar\":{\"outlinewidth\":0,\"ticks\":\"\"},\"colorscale\":[[0.0,\"#0d0887\"],[0.1111111111111111,\"#46039f\"],[0.2222222222222222,\"#7201a8\"],[0.3333333333333333,\"#9c179e\"],[0.4444444444444444,\"#bd3786\"],[0.5555555555555556,\"#d8576b\"],[0.6666666666666666,\"#ed7953\"],[0.7777777777777778,\"#fb9f3a\"],[0.8888888888888888,\"#fdca26\"],[1.0,\"#f0f921\"]]}],\"surface\":[{\"type\":\"surface\",\"colorbar\":{\"outlinewidth\":0,\"ticks\":\"\"},\"colorscale\":[[0.0,\"#0d0887\"],[0.1111111111111111,\"#46039f\"],[0.2222222222222222,\"#7201a8\"],[0.3333333333333333,\"#9c179e\"],[0.4444444444444444,\"#bd3786\"],[0.5555555555555556,\"#d8576b\"],[0.6666666666666666,\"#ed7953\"],[0.7777777777777778,\"#fb9f3a\"],[0.8888888888888888,\"#fdca26\"],[1.0,\"#f0f921\"]]}],\"mesh3d\":[{\"type\":\"mesh3d\",\"colorbar\":{\"outlinewidth\":0,\"ticks\":\"\"}}],\"scatter\":[{\"fillpattern\":{\"fillmode\":\"overlay\",\"size\":10,\"solidity\":0.2},\"type\":\"scatter\"}],\"parcoords\":[{\"type\":\"parcoords\",\"line\":{\"colorbar\":{\"outlinewidth\":0,\"ticks\":\"\"}}}],\"scatterpolargl\":[{\"type\":\"scatterpolargl\",\"marker\":{\"colorbar\":{\"outlinewidth\":0,\"ticks\":\"\"}}}],\"bar\":[{\"error_x\":{\"color\":\"#2a3f5f\"},\"error_y\":{\"color\":\"#2a3f5f\"},\"marker\":{\"line\":{\"color\":\"#E5ECF6\",\"width\":0.5},\"pattern\":{\"fillmode\":\"overlay\",\"size\":10,\"solidity\":0.2}},\"type\":\"bar\"}],\"scattergeo\":[{\"type\":\"scattergeo\",\"marker\":{\"colorbar\":{\"outlinewidth\":0,\"ticks\":\"\"}}}],\"scatterpolar\":[{\"type\":\"scatterpolar\",\"marker\":{\"colorbar\":{\"outlinewidth\":0,\"ticks\":\"\"}}}],\"histogram\":[{\"marker\":{\"pattern\":{\"fillmode\":\"overlay\",\"size\":10,\"solidity\":0.2}},\"type\":\"histogram\"}],\"scattergl\":[{\"type\":\"scattergl\",\"marker\":{\"colorbar\":{\"outlinewidth\":0,\"ticks\":\"\"}}}],\"scatter3d\":[{\"type\":\"scatter3d\",\"line\":{\"colorbar\":{\"outlinewidth\":0,\"ticks\":\"\"}},\"marker\":{\"colorbar\":{\"outlinewidth\":0,\"ticks\":\"\"}}}],\"scattermapbox\":[{\"type\":\"scattermapbox\",\"marker\":{\"colorbar\":{\"outlinewidth\":0,\"ticks\":\"\"}}}],\"scatterternary\":[{\"type\":\"scatterternary\",\"marker\":{\"colorbar\":{\"outlinewidth\":0,\"ticks\":\"\"}}}],\"scattercarpet\":[{\"type\":\"scattercarpet\",\"marker\":{\"colorbar\":{\"outlinewidth\":0,\"ticks\":\"\"}}}],\"carpet\":[{\"aaxis\":{\"endlinecolor\":\"#2a3f5f\",\"gridcolor\":\"white\",\"linecolor\":\"white\",\"minorgridcolor\":\"white\",\"startlinecolor\":\"#2a3f5f\"},\"baxis\":{\"endlinecolor\":\"#2a3f5f\",\"gridcolor\":\"white\",\"linecolor\":\"white\",\"minorgridcolor\":\"white\",\"startlinecolor\":\"#2a3f5f\"},\"type\":\"carpet\"}],\"table\":[{\"cells\":{\"fill\":{\"color\":\"#EBF0F8\"},\"line\":{\"color\":\"white\"}},\"header\":{\"fill\":{\"color\":\"#C8D4E3\"},\"line\":{\"color\":\"white\"}},\"type\":\"table\"}],\"barpolar\":[{\"marker\":{\"line\":{\"color\":\"#E5ECF6\",\"width\":0.5},\"pattern\":{\"fillmode\":\"overlay\",\"size\":10,\"solidity\":0.2}},\"type\":\"barpolar\"}],\"pie\":[{\"automargin\":true,\"type\":\"pie\"}]},\"layout\":{\"autotypenumbers\":\"strict\",\"colorway\":[\"#636efa\",\"#EF553B\",\"#00cc96\",\"#ab63fa\",\"#FFA15A\",\"#19d3f3\",\"#FF6692\",\"#B6E880\",\"#FF97FF\",\"#FECB52\"],\"font\":{\"color\":\"#2a3f5f\"},\"hovermode\":\"closest\",\"hoverlabel\":{\"align\":\"left\"},\"paper_bgcolor\":\"white\",\"plot_bgcolor\":\"#E5ECF6\",\"polar\":{\"bgcolor\":\"#E5ECF6\",\"angularaxis\":{\"gridcolor\":\"white\",\"linecolor\":\"white\",\"ticks\":\"\"},\"radialaxis\":{\"gridcolor\":\"white\",\"linecolor\":\"white\",\"ticks\":\"\"}},\"ternary\":{\"bgcolor\":\"#E5ECF6\",\"aaxis\":{\"gridcolor\":\"white\",\"linecolor\":\"white\",\"ticks\":\"\"},\"baxis\":{\"gridcolor\":\"white\",\"linecolor\":\"white\",\"ticks\":\"\"},\"caxis\":{\"gridcolor\":\"white\",\"linecolor\":\"white\",\"ticks\":\"\"}},\"coloraxis\":{\"colorbar\":{\"outlinewidth\":0,\"ticks\":\"\"}},\"colorscale\":{\"sequential\":[[0.0,\"#0d0887\"],[0.1111111111111111,\"#46039f\"],[0.2222222222222222,\"#7201a8\"],[0.3333333333333333,\"#9c179e\"],[0.4444444444444444,\"#bd3786\"],[0.5555555555555556,\"#d8576b\"],[0.6666666666666666,\"#ed7953\"],[0.7777777777777778,\"#fb9f3a\"],[0.8888888888888888,\"#fdca26\"],[1.0,\"#f0f921\"]],\"sequentialminus\":[[0.0,\"#0d0887\"],[0.1111111111111111,\"#46039f\"],[0.2222222222222222,\"#7201a8\"],[0.3333333333333333,\"#9c179e\"],[0.4444444444444444,\"#bd3786\"],[0.5555555555555556,\"#d8576b\"],[0.6666666666666666,\"#ed7953\"],[0.7777777777777778,\"#fb9f3a\"],[0.8888888888888888,\"#fdca26\"],[1.0,\"#f0f921\"]],\"diverging\":[[0,\"#8e0152\"],[0.1,\"#c51b7d\"],[0.2,\"#de77ae\"],[0.3,\"#f1b6da\"],[0.4,\"#fde0ef\"],[0.5,\"#f7f7f7\"],[0.6,\"#e6f5d0\"],[0.7,\"#b8e186\"],[0.8,\"#7fbc41\"],[0.9,\"#4d9221\"],[1,\"#276419\"]]},\"xaxis\":{\"gridcolor\":\"white\",\"linecolor\":\"white\",\"ticks\":\"\",\"title\":{\"standoff\":15},\"zerolinecolor\":\"white\",\"automargin\":true,\"zerolinewidth\":2},\"yaxis\":{\"gridcolor\":\"white\",\"linecolor\":\"white\",\"ticks\":\"\",\"title\":{\"standoff\":15},\"zerolinecolor\":\"white\",\"automargin\":true,\"zerolinewidth\":2},\"scene\":{\"xaxis\":{\"backgroundcolor\":\"#E5ECF6\",\"gridcolor\":\"white\",\"linecolor\":\"white\",\"showbackground\":true,\"ticks\":\"\",\"zerolinecolor\":\"white\",\"gridwidth\":2},\"yaxis\":{\"backgroundcolor\":\"#E5ECF6\",\"gridcolor\":\"white\",\"linecolor\":\"white\",\"showbackground\":true,\"ticks\":\"\",\"zerolinecolor\":\"white\",\"gridwidth\":2},\"zaxis\":{\"backgroundcolor\":\"#E5ECF6\",\"gridcolor\":\"white\",\"linecolor\":\"white\",\"showbackground\":true,\"ticks\":\"\",\"zerolinecolor\":\"white\",\"gridwidth\":2}},\"shapedefaults\":{\"line\":{\"color\":\"#2a3f5f\"}},\"annotationdefaults\":{\"arrowcolor\":\"#2a3f5f\",\"arrowhead\":0,\"arrowwidth\":1},\"geo\":{\"bgcolor\":\"white\",\"landcolor\":\"#E5ECF6\",\"subunitcolor\":\"white\",\"showland\":true,\"showlakes\":true,\"lakecolor\":\"white\"},\"title\":{\"x\":0.05},\"mapbox\":{\"style\":\"light\"}}}},                        {\"responsive\": true}                    ).then(function(){\n",
       "                            \n",
       "var gd = document.getElementById('a610b2f0-0829-4a4e-ba40-0a8037a1e205');\n",
       "var x = new MutationObserver(function (mutations, observer) {{\n",
       "        var display = window.getComputedStyle(gd).display;\n",
       "        if (!display || display === 'none') {{\n",
       "            console.log([gd, 'removed!']);\n",
       "            Plotly.purge(gd);\n",
       "            observer.disconnect();\n",
       "        }}\n",
       "}});\n",
       "\n",
       "// Listen for the removal of the full notebook cells\n",
       "var notebookContainer = gd.closest('#notebook-container');\n",
       "if (notebookContainer) {{\n",
       "    x.observe(notebookContainer, {childList: true});\n",
       "}}\n",
       "\n",
       "// Listen for the clearing of the current output cell\n",
       "var outputEl = gd.closest('.output');\n",
       "if (outputEl) {{\n",
       "    x.observe(outputEl, {childList: true});\n",
       "}}\n",
       "\n",
       "                        })                };                });            </script>        </div>"
      ]
     },
     "metadata": {},
     "output_type": "display_data"
    },
    {
     "data": {
      "application/vnd.plotly.v1+json": {
       "config": {
        "plotlyServerURL": "https://plot.ly"
       },
       "data": [
        {
         "name": "main root",
         "type": "scatter",
         "x": [
          7.014674,
          7.068931,
          7.097697,
          7.102405,
          7.096509,
          7.078003,
          7.057387,
          7.064473,
          7.056801,
          7.045027,
          7.03578,
          7.053914,
          7.058697,
          7.050602,
          7.021744
         ],
         "y": [
          4.083105,
          4.391064,
          4.580238,
          4.699361,
          4.817372,
          4.93411,
          5.050687,
          5.168109,
          5.286132,
          5.443573,
          5.623435,
          5.801408,
          5.991669,
          6.214376,
          6.799064
         ]
        },
        {
         "mode": "lines",
         "name": "0.3180246949146614",
         "type": "scatter",
         "x": [
          6.763005,
          6.768512734397188,
          6.774042172627385,
          6.77959331469059,
          6.785166160586804,
          6.790760710316026,
          6.796376963878257,
          6.8020149212734955,
          6.807674582501743,
          6.813355947562999,
          6.819059016457264,
          6.824783789184537,
          6.8305302657448195,
          6.83629844613811,
          6.842088330364408,
          6.847899918423716,
          6.853733210316031,
          6.859588206041355,
          6.865464905599688,
          6.87136330899103,
          6.877283416215379,
          6.883225227272738,
          6.889188742163104,
          6.8951739608864795,
          6.901180883442863,
          6.9072095098322555,
          6.913259840054656,
          6.919331874110066,
          6.925425611998484,
          6.93154105371991,
          6.937678199274345,
          6.943837048661788,
          6.95001760188224,
          6.9562198589357,
          6.962443819822169,
          6.968689484541646,
          6.974956853094132,
          6.981245925479626,
          6.987556701698129,
          6.9938891817496405,
          7.00024336563416,
          7.006619253351689,
          7.013016844902225,
          7.01943614028577,
          7.025877139502324,
          7.032339842551886,
          7.038824249434457,
          7.045330360150037,
          7.051858174698625,
          7.058407693080221
         ],
         "y": [
          4.337383,
          4.33364064949113,
          4.330041030015617,
          4.326584141573461,
          4.3232699841646625,
          4.320098557789221,
          4.317069862447136,
          4.314183898138409,
          4.311440664863039,
          4.308840162621025,
          4.306382391412369,
          4.30406735123707,
          4.301895042095128,
          4.299865463986543,
          4.297978616911315,
          4.296234500869445,
          4.294633115860932,
          4.2931744618857755,
          4.291858538943976,
          4.2906853470355335,
          4.289654886160449,
          4.288767156318721,
          4.288022157510349,
          4.287419889735336,
          4.286960352993679,
          4.286643547285379,
          4.286469472610437,
          4.286438128968852,
          4.2865495163606235,
          4.286803634785753,
          4.287200484244239,
          4.287740064736082,
          4.288422376261281,
          4.289247418819839,
          4.290215192411753,
          4.291325697037025,
          4.292578932695653,
          4.293974899387639,
          4.295513597112982,
          4.297195025871682,
          4.299019185663739,
          4.300986076489153,
          4.303095698347924,
          4.305348051240053,
          4.307743135165538,
          4.31028095012438,
          4.312961496116579,
          4.315784773142137,
          4.31875078120105,
          4.321859520293321
         ]
        },
        {
         "mode": "lines",
         "name": "0.4771337968226776",
         "type": "scatter",
         "x": [
          7.107893912576261,
          7.114858042640115,
          7.1218139122569415,
          7.12876152142674,
          7.13570087014951,
          7.142631958425252,
          7.149554786253965,
          7.156469353635651,
          7.163375660570308,
          7.170273707057937,
          7.177163493098538,
          7.184045018692111,
          7.190918283838656,
          7.197783288538172,
          7.20464003279066,
          7.211488516596121,
          7.218328739954552,
          7.225160702865956,
          7.231984405330332,
          7.238799847347679,
          7.245607028917998,
          7.25240595004129,
          7.259196610717552,
          7.265979010946787,
          7.2727531507289935,
          7.279519030064172,
          7.286276648952322,
          7.293026007393444,
          7.299767105387538,
          7.306499942934604,
          7.313224520034641,
          7.319940836687651,
          7.3266488928936315,
          7.333348688652585,
          7.340040223964509,
          7.346723498829406,
          7.353398513247274,
          7.360065267218115,
          7.366723760741927,
          7.373373993818711,
          7.380015966448466,
          7.386649678631194,
          7.393275130366893,
          7.399892321655565,
          7.406501252497208,
          7.413101922891823,
          7.419694332839409,
          7.426278482339968,
          7.432854371393498,
          7.439422
         ],
         "y": [
          4.589498031540513,
          4.579031221789484,
          4.568729748472349,
          4.558593611589108,
          4.548622811139763,
          4.538817347124311,
          4.529177219542755,
          4.519702428395092,
          4.510392973681324,
          4.501248855401451,
          4.492270073555472,
          4.483456628143388,
          4.474808519165198,
          4.466325746620903,
          4.458008310510502,
          4.449856210833996,
          4.441869447591384,
          4.434048020782667,
          4.426391930407844,
          4.418901176466915,
          4.411575758959882,
          4.404415677886742,
          4.3974209332474965,
          4.390591525042146,
          4.38392745327069,
          4.377428717933129,
          4.371095319029462,
          4.36492725655969,
          4.358924530523812,
          4.353087140921828,
          4.347415087753739,
          4.341908371019544,
          4.336566990719245,
          4.331390946852839,
          4.3263802394203275,
          4.321534868421711,
          4.316854833856989,
          4.312340135726162,
          4.3079907740292285,
          4.303806748766189,
          4.299788059937045,
          4.295934707541796,
          4.2922466915804405,
          4.28872401205298,
          4.285366668959414,
          4.2821746622997425,
          4.279147992073965,
          4.276286658282082,
          4.273590660924094,
          4.27106
         ]
        },
        {
         "mode": "lines",
         "name": "0.4395002697708605",
         "type": "scatter",
         "x": [
          7.097158662956166,
          7.101145040793183,
          7.105127285826654,
          7.109105398056579,
          7.113079377482959,
          7.117049224105792,
          7.12101493792508,
          7.124976518940821,
          7.128933967153016,
          7.132887282561667,
          7.13683646516677,
          7.140781514968328,
          7.14472243196634,
          7.148659216160806,
          7.152591867551726,
          7.1565203861391,
          7.160444771922928,
          7.16436502490321,
          7.1682811450799475,
          7.172193132453137,
          7.1761009870227825,
          7.180004708788881,
          7.183904297751433,
          7.187799753910441,
          7.191691077265902,
          7.195578267817816,
          7.199461325566185,
          7.203340250511008,
          7.207215042652286,
          7.211085701990017,
          7.2149522285242025,
          7.2188146222548415,
          7.222672883181936,
          7.226527011305483,
          7.230377006625485,
          7.234222869141941,
          7.238064598854851,
          7.241902195764214,
          7.245735659870032,
          7.249564991172305,
          7.25339018967103,
          7.257211255366211,
          7.261028188257845,
          7.2648409883459335,
          7.268649655630476,
          7.272454190111473,
          7.276254591788923,
          7.280050860662828,
          7.2838429967331875,
          7.287631
         ],
         "y": [
          4.825790746971235,
          4.817236389418363,
          4.808705401570524,
          4.800197783427719,
          4.791713534989947,
          4.7832526562572095,
          4.774815147229505,
          4.766401007906834,
          4.758010238289197,
          4.749642838376594,
          4.741298808169024,
          4.732978147666487,
          4.724680856868985,
          4.716406935776515,
          4.70815638438908,
          4.699929202706678,
          4.691725390729309,
          4.683544948456975,
          4.675387875889673,
          4.667254173027406,
          4.659143839870172,
          4.651056876417972,
          4.642993282670805,
          4.634953058628672,
          4.626936204291572,
          4.618942719659506,
          4.610972604732474,
          4.603025859510475,
          4.59510248399351,
          4.587202478181578,
          4.57932584207468,
          4.571472575672815,
          4.5636426789759845,
          4.555836151984187,
          4.548052994697423,
          4.540293207115694,
          4.532556789238997,
          4.524843741067334,
          4.517154062600705,
          4.509487753839109,
          4.501844814782547,
          4.494225245431019,
          4.486629045784524,
          4.4790562158430625,
          4.471506755606635,
          4.4639806650752405,
          4.45647794424888,
          4.448998593127554,
          4.44154261171126,
          4.43411
         ]
        }
       ],
       "layout": {
        "template": {
         "data": {
          "bar": [
           {
            "error_x": {
             "color": "#2a3f5f"
            },
            "error_y": {
             "color": "#2a3f5f"
            },
            "marker": {
             "line": {
              "color": "#E5ECF6",
              "width": 0.5
             },
             "pattern": {
              "fillmode": "overlay",
              "size": 10,
              "solidity": 0.2
             }
            },
            "type": "bar"
           }
          ],
          "barpolar": [
           {
            "marker": {
             "line": {
              "color": "#E5ECF6",
              "width": 0.5
             },
             "pattern": {
              "fillmode": "overlay",
              "size": 10,
              "solidity": 0.2
             }
            },
            "type": "barpolar"
           }
          ],
          "carpet": [
           {
            "aaxis": {
             "endlinecolor": "#2a3f5f",
             "gridcolor": "white",
             "linecolor": "white",
             "minorgridcolor": "white",
             "startlinecolor": "#2a3f5f"
            },
            "baxis": {
             "endlinecolor": "#2a3f5f",
             "gridcolor": "white",
             "linecolor": "white",
             "minorgridcolor": "white",
             "startlinecolor": "#2a3f5f"
            },
            "type": "carpet"
           }
          ],
          "choropleth": [
           {
            "colorbar": {
             "outlinewidth": 0,
             "ticks": ""
            },
            "type": "choropleth"
           }
          ],
          "contour": [
           {
            "colorbar": {
             "outlinewidth": 0,
             "ticks": ""
            },
            "colorscale": [
             [
              0,
              "#0d0887"
             ],
             [
              0.1111111111111111,
              "#46039f"
             ],
             [
              0.2222222222222222,
              "#7201a8"
             ],
             [
              0.3333333333333333,
              "#9c179e"
             ],
             [
              0.4444444444444444,
              "#bd3786"
             ],
             [
              0.5555555555555556,
              "#d8576b"
             ],
             [
              0.6666666666666666,
              "#ed7953"
             ],
             [
              0.7777777777777778,
              "#fb9f3a"
             ],
             [
              0.8888888888888888,
              "#fdca26"
             ],
             [
              1,
              "#f0f921"
             ]
            ],
            "type": "contour"
           }
          ],
          "contourcarpet": [
           {
            "colorbar": {
             "outlinewidth": 0,
             "ticks": ""
            },
            "type": "contourcarpet"
           }
          ],
          "heatmap": [
           {
            "colorbar": {
             "outlinewidth": 0,
             "ticks": ""
            },
            "colorscale": [
             [
              0,
              "#0d0887"
             ],
             [
              0.1111111111111111,
              "#46039f"
             ],
             [
              0.2222222222222222,
              "#7201a8"
             ],
             [
              0.3333333333333333,
              "#9c179e"
             ],
             [
              0.4444444444444444,
              "#bd3786"
             ],
             [
              0.5555555555555556,
              "#d8576b"
             ],
             [
              0.6666666666666666,
              "#ed7953"
             ],
             [
              0.7777777777777778,
              "#fb9f3a"
             ],
             [
              0.8888888888888888,
              "#fdca26"
             ],
             [
              1,
              "#f0f921"
             ]
            ],
            "type": "heatmap"
           }
          ],
          "heatmapgl": [
           {
            "colorbar": {
             "outlinewidth": 0,
             "ticks": ""
            },
            "colorscale": [
             [
              0,
              "#0d0887"
             ],
             [
              0.1111111111111111,
              "#46039f"
             ],
             [
              0.2222222222222222,
              "#7201a8"
             ],
             [
              0.3333333333333333,
              "#9c179e"
             ],
             [
              0.4444444444444444,
              "#bd3786"
             ],
             [
              0.5555555555555556,
              "#d8576b"
             ],
             [
              0.6666666666666666,
              "#ed7953"
             ],
             [
              0.7777777777777778,
              "#fb9f3a"
             ],
             [
              0.8888888888888888,
              "#fdca26"
             ],
             [
              1,
              "#f0f921"
             ]
            ],
            "type": "heatmapgl"
           }
          ],
          "histogram": [
           {
            "marker": {
             "pattern": {
              "fillmode": "overlay",
              "size": 10,
              "solidity": 0.2
             }
            },
            "type": "histogram"
           }
          ],
          "histogram2d": [
           {
            "colorbar": {
             "outlinewidth": 0,
             "ticks": ""
            },
            "colorscale": [
             [
              0,
              "#0d0887"
             ],
             [
              0.1111111111111111,
              "#46039f"
             ],
             [
              0.2222222222222222,
              "#7201a8"
             ],
             [
              0.3333333333333333,
              "#9c179e"
             ],
             [
              0.4444444444444444,
              "#bd3786"
             ],
             [
              0.5555555555555556,
              "#d8576b"
             ],
             [
              0.6666666666666666,
              "#ed7953"
             ],
             [
              0.7777777777777778,
              "#fb9f3a"
             ],
             [
              0.8888888888888888,
              "#fdca26"
             ],
             [
              1,
              "#f0f921"
             ]
            ],
            "type": "histogram2d"
           }
          ],
          "histogram2dcontour": [
           {
            "colorbar": {
             "outlinewidth": 0,
             "ticks": ""
            },
            "colorscale": [
             [
              0,
              "#0d0887"
             ],
             [
              0.1111111111111111,
              "#46039f"
             ],
             [
              0.2222222222222222,
              "#7201a8"
             ],
             [
              0.3333333333333333,
              "#9c179e"
             ],
             [
              0.4444444444444444,
              "#bd3786"
             ],
             [
              0.5555555555555556,
              "#d8576b"
             ],
             [
              0.6666666666666666,
              "#ed7953"
             ],
             [
              0.7777777777777778,
              "#fb9f3a"
             ],
             [
              0.8888888888888888,
              "#fdca26"
             ],
             [
              1,
              "#f0f921"
             ]
            ],
            "type": "histogram2dcontour"
           }
          ],
          "mesh3d": [
           {
            "colorbar": {
             "outlinewidth": 0,
             "ticks": ""
            },
            "type": "mesh3d"
           }
          ],
          "parcoords": [
           {
            "line": {
             "colorbar": {
              "outlinewidth": 0,
              "ticks": ""
             }
            },
            "type": "parcoords"
           }
          ],
          "pie": [
           {
            "automargin": true,
            "type": "pie"
           }
          ],
          "scatter": [
           {
            "fillpattern": {
             "fillmode": "overlay",
             "size": 10,
             "solidity": 0.2
            },
            "type": "scatter"
           }
          ],
          "scatter3d": [
           {
            "line": {
             "colorbar": {
              "outlinewidth": 0,
              "ticks": ""
             }
            },
            "marker": {
             "colorbar": {
              "outlinewidth": 0,
              "ticks": ""
             }
            },
            "type": "scatter3d"
           }
          ],
          "scattercarpet": [
           {
            "marker": {
             "colorbar": {
              "outlinewidth": 0,
              "ticks": ""
             }
            },
            "type": "scattercarpet"
           }
          ],
          "scattergeo": [
           {
            "marker": {
             "colorbar": {
              "outlinewidth": 0,
              "ticks": ""
             }
            },
            "type": "scattergeo"
           }
          ],
          "scattergl": [
           {
            "marker": {
             "colorbar": {
              "outlinewidth": 0,
              "ticks": ""
             }
            },
            "type": "scattergl"
           }
          ],
          "scattermapbox": [
           {
            "marker": {
             "colorbar": {
              "outlinewidth": 0,
              "ticks": ""
             }
            },
            "type": "scattermapbox"
           }
          ],
          "scatterpolar": [
           {
            "marker": {
             "colorbar": {
              "outlinewidth": 0,
              "ticks": ""
             }
            },
            "type": "scatterpolar"
           }
          ],
          "scatterpolargl": [
           {
            "marker": {
             "colorbar": {
              "outlinewidth": 0,
              "ticks": ""
             }
            },
            "type": "scatterpolargl"
           }
          ],
          "scatterternary": [
           {
            "marker": {
             "colorbar": {
              "outlinewidth": 0,
              "ticks": ""
             }
            },
            "type": "scatterternary"
           }
          ],
          "surface": [
           {
            "colorbar": {
             "outlinewidth": 0,
             "ticks": ""
            },
            "colorscale": [
             [
              0,
              "#0d0887"
             ],
             [
              0.1111111111111111,
              "#46039f"
             ],
             [
              0.2222222222222222,
              "#7201a8"
             ],
             [
              0.3333333333333333,
              "#9c179e"
             ],
             [
              0.4444444444444444,
              "#bd3786"
             ],
             [
              0.5555555555555556,
              "#d8576b"
             ],
             [
              0.6666666666666666,
              "#ed7953"
             ],
             [
              0.7777777777777778,
              "#fb9f3a"
             ],
             [
              0.8888888888888888,
              "#fdca26"
             ],
             [
              1,
              "#f0f921"
             ]
            ],
            "type": "surface"
           }
          ],
          "table": [
           {
            "cells": {
             "fill": {
              "color": "#EBF0F8"
             },
             "line": {
              "color": "white"
             }
            },
            "header": {
             "fill": {
              "color": "#C8D4E3"
             },
             "line": {
              "color": "white"
             }
            },
            "type": "table"
           }
          ]
         },
         "layout": {
          "annotationdefaults": {
           "arrowcolor": "#2a3f5f",
           "arrowhead": 0,
           "arrowwidth": 1
          },
          "autotypenumbers": "strict",
          "coloraxis": {
           "colorbar": {
            "outlinewidth": 0,
            "ticks": ""
           }
          },
          "colorscale": {
           "diverging": [
            [
             0,
             "#8e0152"
            ],
            [
             0.1,
             "#c51b7d"
            ],
            [
             0.2,
             "#de77ae"
            ],
            [
             0.3,
             "#f1b6da"
            ],
            [
             0.4,
             "#fde0ef"
            ],
            [
             0.5,
             "#f7f7f7"
            ],
            [
             0.6,
             "#e6f5d0"
            ],
            [
             0.7,
             "#b8e186"
            ],
            [
             0.8,
             "#7fbc41"
            ],
            [
             0.9,
             "#4d9221"
            ],
            [
             1,
             "#276419"
            ]
           ],
           "sequential": [
            [
             0,
             "#0d0887"
            ],
            [
             0.1111111111111111,
             "#46039f"
            ],
            [
             0.2222222222222222,
             "#7201a8"
            ],
            [
             0.3333333333333333,
             "#9c179e"
            ],
            [
             0.4444444444444444,
             "#bd3786"
            ],
            [
             0.5555555555555556,
             "#d8576b"
            ],
            [
             0.6666666666666666,
             "#ed7953"
            ],
            [
             0.7777777777777778,
             "#fb9f3a"
            ],
            [
             0.8888888888888888,
             "#fdca26"
            ],
            [
             1,
             "#f0f921"
            ]
           ],
           "sequentialminus": [
            [
             0,
             "#0d0887"
            ],
            [
             0.1111111111111111,
             "#46039f"
            ],
            [
             0.2222222222222222,
             "#7201a8"
            ],
            [
             0.3333333333333333,
             "#9c179e"
            ],
            [
             0.4444444444444444,
             "#bd3786"
            ],
            [
             0.5555555555555556,
             "#d8576b"
            ],
            [
             0.6666666666666666,
             "#ed7953"
            ],
            [
             0.7777777777777778,
             "#fb9f3a"
            ],
            [
             0.8888888888888888,
             "#fdca26"
            ],
            [
             1,
             "#f0f921"
            ]
           ]
          },
          "colorway": [
           "#636efa",
           "#EF553B",
           "#00cc96",
           "#ab63fa",
           "#FFA15A",
           "#19d3f3",
           "#FF6692",
           "#B6E880",
           "#FF97FF",
           "#FECB52"
          ],
          "font": {
           "color": "#2a3f5f"
          },
          "geo": {
           "bgcolor": "white",
           "lakecolor": "white",
           "landcolor": "#E5ECF6",
           "showlakes": true,
           "showland": true,
           "subunitcolor": "white"
          },
          "hoverlabel": {
           "align": "left"
          },
          "hovermode": "closest",
          "mapbox": {
           "style": "light"
          },
          "paper_bgcolor": "white",
          "plot_bgcolor": "#E5ECF6",
          "polar": {
           "angularaxis": {
            "gridcolor": "white",
            "linecolor": "white",
            "ticks": ""
           },
           "bgcolor": "#E5ECF6",
           "radialaxis": {
            "gridcolor": "white",
            "linecolor": "white",
            "ticks": ""
           }
          },
          "scene": {
           "xaxis": {
            "backgroundcolor": "#E5ECF6",
            "gridcolor": "white",
            "gridwidth": 2,
            "linecolor": "white",
            "showbackground": true,
            "ticks": "",
            "zerolinecolor": "white"
           },
           "yaxis": {
            "backgroundcolor": "#E5ECF6",
            "gridcolor": "white",
            "gridwidth": 2,
            "linecolor": "white",
            "showbackground": true,
            "ticks": "",
            "zerolinecolor": "white"
           },
           "zaxis": {
            "backgroundcolor": "#E5ECF6",
            "gridcolor": "white",
            "gridwidth": 2,
            "linecolor": "white",
            "showbackground": true,
            "ticks": "",
            "zerolinecolor": "white"
           }
          },
          "shapedefaults": {
           "line": {
            "color": "#2a3f5f"
           }
          },
          "ternary": {
           "aaxis": {
            "gridcolor": "white",
            "linecolor": "white",
            "ticks": ""
           },
           "baxis": {
            "gridcolor": "white",
            "linecolor": "white",
            "ticks": ""
           },
           "bgcolor": "#E5ECF6",
           "caxis": {
            "gridcolor": "white",
            "linecolor": "white",
            "ticks": ""
           }
          },
          "title": {
           "x": 0.05
          },
          "xaxis": {
           "automargin": true,
           "gridcolor": "white",
           "linecolor": "white",
           "ticks": "",
           "title": {
            "standoff": 15
           },
           "zerolinecolor": "white",
           "zerolinewidth": 2
          },
          "yaxis": {
           "automargin": true,
           "gridcolor": "white",
           "linecolor": "white",
           "ticks": "",
           "title": {
            "standoff": 15
           },
           "zerolinecolor": "white",
           "zerolinewidth": 2
          }
         }
        }
       }
      },
      "text/html": [
       "<div>                            <div id=\"8458e3c4-e865-4fae-8301-9d851105d3db\" class=\"plotly-graph-div\" style=\"height:525px; width:100%;\"></div>            <script type=\"text/javascript\">                require([\"plotly\"], function(Plotly) {                    window.PLOTLYENV=window.PLOTLYENV || {};                                    if (document.getElementById(\"8458e3c4-e865-4fae-8301-9d851105d3db\")) {                    Plotly.newPlot(                        \"8458e3c4-e865-4fae-8301-9d851105d3db\",                        [{\"name\":\"main root\",\"x\":[7.014674,7.068931,7.097697,7.102405,7.096509,7.078003,7.057387,7.064473,7.056801,7.045027,7.03578,7.053914,7.058697,7.050602,7.021744],\"y\":[4.083105,4.391064,4.580238,4.699361,4.817372,4.93411,5.050687,5.168109,5.286132,5.443573,5.623435,5.801408,5.991669,6.214376,6.799064],\"type\":\"scatter\"},{\"mode\":\"lines\",\"name\":\"0.3180246949146614\",\"x\":[6.763005,6.768512734397188,6.774042172627385,6.77959331469059,6.785166160586804,6.790760710316026,6.796376963878257,6.8020149212734955,6.807674582501743,6.813355947562999,6.819059016457264,6.824783789184537,6.8305302657448195,6.83629844613811,6.842088330364408,6.847899918423716,6.853733210316031,6.859588206041355,6.865464905599688,6.87136330899103,6.877283416215379,6.883225227272738,6.889188742163104,6.8951739608864795,6.901180883442863,6.9072095098322555,6.913259840054656,6.919331874110066,6.925425611998484,6.93154105371991,6.937678199274345,6.943837048661788,6.95001760188224,6.9562198589357,6.962443819822169,6.968689484541646,6.974956853094132,6.981245925479626,6.987556701698129,6.9938891817496405,7.00024336563416,7.006619253351689,7.013016844902225,7.01943614028577,7.025877139502324,7.032339842551886,7.038824249434457,7.045330360150037,7.051858174698625,7.058407693080221],\"y\":[4.337383,4.33364064949113,4.330041030015617,4.326584141573461,4.3232699841646625,4.320098557789221,4.317069862447136,4.314183898138409,4.311440664863039,4.308840162621025,4.306382391412369,4.30406735123707,4.301895042095128,4.299865463986543,4.297978616911315,4.296234500869445,4.294633115860932,4.2931744618857755,4.291858538943976,4.2906853470355335,4.289654886160449,4.288767156318721,4.288022157510349,4.287419889735336,4.286960352993679,4.286643547285379,4.286469472610437,4.286438128968852,4.2865495163606235,4.286803634785753,4.287200484244239,4.287740064736082,4.288422376261281,4.289247418819839,4.290215192411753,4.291325697037025,4.292578932695653,4.293974899387639,4.295513597112982,4.297195025871682,4.299019185663739,4.300986076489153,4.303095698347924,4.305348051240053,4.307743135165538,4.31028095012438,4.312961496116579,4.315784773142137,4.31875078120105,4.321859520293321],\"type\":\"scatter\"},{\"mode\":\"lines\",\"name\":\"0.4771337968226776\",\"x\":[7.107893912576261,7.114858042640115,7.1218139122569415,7.12876152142674,7.13570087014951,7.142631958425252,7.149554786253965,7.156469353635651,7.163375660570308,7.170273707057937,7.177163493098538,7.184045018692111,7.190918283838656,7.197783288538172,7.20464003279066,7.211488516596121,7.218328739954552,7.225160702865956,7.231984405330332,7.238799847347679,7.245607028917998,7.25240595004129,7.259196610717552,7.265979010946787,7.2727531507289935,7.279519030064172,7.286276648952322,7.293026007393444,7.299767105387538,7.306499942934604,7.313224520034641,7.319940836687651,7.3266488928936315,7.333348688652585,7.340040223964509,7.346723498829406,7.353398513247274,7.360065267218115,7.366723760741927,7.373373993818711,7.380015966448466,7.386649678631194,7.393275130366893,7.399892321655565,7.406501252497208,7.413101922891823,7.419694332839409,7.426278482339968,7.432854371393498,7.439422],\"y\":[4.589498031540513,4.579031221789484,4.568729748472349,4.558593611589108,4.548622811139763,4.538817347124311,4.529177219542755,4.519702428395092,4.510392973681324,4.501248855401451,4.492270073555472,4.483456628143388,4.474808519165198,4.466325746620903,4.458008310510502,4.449856210833996,4.441869447591384,4.434048020782667,4.426391930407844,4.418901176466915,4.411575758959882,4.404415677886742,4.3974209332474965,4.390591525042146,4.38392745327069,4.377428717933129,4.371095319029462,4.36492725655969,4.358924530523812,4.353087140921828,4.347415087753739,4.341908371019544,4.336566990719245,4.331390946852839,4.3263802394203275,4.321534868421711,4.316854833856989,4.312340135726162,4.3079907740292285,4.303806748766189,4.299788059937045,4.295934707541796,4.2922466915804405,4.28872401205298,4.285366668959414,4.2821746622997425,4.279147992073965,4.276286658282082,4.273590660924094,4.27106],\"type\":\"scatter\"},{\"mode\":\"lines\",\"name\":\"0.4395002697708605\",\"x\":[7.097158662956166,7.101145040793183,7.105127285826654,7.109105398056579,7.113079377482959,7.117049224105792,7.12101493792508,7.124976518940821,7.128933967153016,7.132887282561667,7.13683646516677,7.140781514968328,7.14472243196634,7.148659216160806,7.152591867551726,7.1565203861391,7.160444771922928,7.16436502490321,7.1682811450799475,7.172193132453137,7.1761009870227825,7.180004708788881,7.183904297751433,7.187799753910441,7.191691077265902,7.195578267817816,7.199461325566185,7.203340250511008,7.207215042652286,7.211085701990017,7.2149522285242025,7.2188146222548415,7.222672883181936,7.226527011305483,7.230377006625485,7.234222869141941,7.238064598854851,7.241902195764214,7.245735659870032,7.249564991172305,7.25339018967103,7.257211255366211,7.261028188257845,7.2648409883459335,7.268649655630476,7.272454190111473,7.276254591788923,7.280050860662828,7.2838429967331875,7.287631],\"y\":[4.825790746971235,4.817236389418363,4.808705401570524,4.800197783427719,4.791713534989947,4.7832526562572095,4.774815147229505,4.766401007906834,4.758010238289197,4.749642838376594,4.741298808169024,4.732978147666487,4.724680856868985,4.716406935776515,4.70815638438908,4.699929202706678,4.691725390729309,4.683544948456975,4.675387875889673,4.667254173027406,4.659143839870172,4.651056876417972,4.642993282670805,4.634953058628672,4.626936204291572,4.618942719659506,4.610972604732474,4.603025859510475,4.59510248399351,4.587202478181578,4.57932584207468,4.571472575672815,4.5636426789759845,4.555836151984187,4.548052994697423,4.540293207115694,4.532556789238997,4.524843741067334,4.517154062600705,4.509487753839109,4.501844814782547,4.494225245431019,4.486629045784524,4.4790562158430625,4.471506755606635,4.4639806650752405,4.45647794424888,4.448998593127554,4.44154261171126,4.43411],\"type\":\"scatter\"}],                        {\"template\":{\"data\":{\"histogram2dcontour\":[{\"type\":\"histogram2dcontour\",\"colorbar\":{\"outlinewidth\":0,\"ticks\":\"\"},\"colorscale\":[[0.0,\"#0d0887\"],[0.1111111111111111,\"#46039f\"],[0.2222222222222222,\"#7201a8\"],[0.3333333333333333,\"#9c179e\"],[0.4444444444444444,\"#bd3786\"],[0.5555555555555556,\"#d8576b\"],[0.6666666666666666,\"#ed7953\"],[0.7777777777777778,\"#fb9f3a\"],[0.8888888888888888,\"#fdca26\"],[1.0,\"#f0f921\"]]}],\"choropleth\":[{\"type\":\"choropleth\",\"colorbar\":{\"outlinewidth\":0,\"ticks\":\"\"}}],\"histogram2d\":[{\"type\":\"histogram2d\",\"colorbar\":{\"outlinewidth\":0,\"ticks\":\"\"},\"colorscale\":[[0.0,\"#0d0887\"],[0.1111111111111111,\"#46039f\"],[0.2222222222222222,\"#7201a8\"],[0.3333333333333333,\"#9c179e\"],[0.4444444444444444,\"#bd3786\"],[0.5555555555555556,\"#d8576b\"],[0.6666666666666666,\"#ed7953\"],[0.7777777777777778,\"#fb9f3a\"],[0.8888888888888888,\"#fdca26\"],[1.0,\"#f0f921\"]]}],\"heatmap\":[{\"type\":\"heatmap\",\"colorbar\":{\"outlinewidth\":0,\"ticks\":\"\"},\"colorscale\":[[0.0,\"#0d0887\"],[0.1111111111111111,\"#46039f\"],[0.2222222222222222,\"#7201a8\"],[0.3333333333333333,\"#9c179e\"],[0.4444444444444444,\"#bd3786\"],[0.5555555555555556,\"#d8576b\"],[0.6666666666666666,\"#ed7953\"],[0.7777777777777778,\"#fb9f3a\"],[0.8888888888888888,\"#fdca26\"],[1.0,\"#f0f921\"]]}],\"heatmapgl\":[{\"type\":\"heatmapgl\",\"colorbar\":{\"outlinewidth\":0,\"ticks\":\"\"},\"colorscale\":[[0.0,\"#0d0887\"],[0.1111111111111111,\"#46039f\"],[0.2222222222222222,\"#7201a8\"],[0.3333333333333333,\"#9c179e\"],[0.4444444444444444,\"#bd3786\"],[0.5555555555555556,\"#d8576b\"],[0.6666666666666666,\"#ed7953\"],[0.7777777777777778,\"#fb9f3a\"],[0.8888888888888888,\"#fdca26\"],[1.0,\"#f0f921\"]]}],\"contourcarpet\":[{\"type\":\"contourcarpet\",\"colorbar\":{\"outlinewidth\":0,\"ticks\":\"\"}}],\"contour\":[{\"type\":\"contour\",\"colorbar\":{\"outlinewidth\":0,\"ticks\":\"\"},\"colorscale\":[[0.0,\"#0d0887\"],[0.1111111111111111,\"#46039f\"],[0.2222222222222222,\"#7201a8\"],[0.3333333333333333,\"#9c179e\"],[0.4444444444444444,\"#bd3786\"],[0.5555555555555556,\"#d8576b\"],[0.6666666666666666,\"#ed7953\"],[0.7777777777777778,\"#fb9f3a\"],[0.8888888888888888,\"#fdca26\"],[1.0,\"#f0f921\"]]}],\"surface\":[{\"type\":\"surface\",\"colorbar\":{\"outlinewidth\":0,\"ticks\":\"\"},\"colorscale\":[[0.0,\"#0d0887\"],[0.1111111111111111,\"#46039f\"],[0.2222222222222222,\"#7201a8\"],[0.3333333333333333,\"#9c179e\"],[0.4444444444444444,\"#bd3786\"],[0.5555555555555556,\"#d8576b\"],[0.6666666666666666,\"#ed7953\"],[0.7777777777777778,\"#fb9f3a\"],[0.8888888888888888,\"#fdca26\"],[1.0,\"#f0f921\"]]}],\"mesh3d\":[{\"type\":\"mesh3d\",\"colorbar\":{\"outlinewidth\":0,\"ticks\":\"\"}}],\"scatter\":[{\"fillpattern\":{\"fillmode\":\"overlay\",\"size\":10,\"solidity\":0.2},\"type\":\"scatter\"}],\"parcoords\":[{\"type\":\"parcoords\",\"line\":{\"colorbar\":{\"outlinewidth\":0,\"ticks\":\"\"}}}],\"scatterpolargl\":[{\"type\":\"scatterpolargl\",\"marker\":{\"colorbar\":{\"outlinewidth\":0,\"ticks\":\"\"}}}],\"bar\":[{\"error_x\":{\"color\":\"#2a3f5f\"},\"error_y\":{\"color\":\"#2a3f5f\"},\"marker\":{\"line\":{\"color\":\"#E5ECF6\",\"width\":0.5},\"pattern\":{\"fillmode\":\"overlay\",\"size\":10,\"solidity\":0.2}},\"type\":\"bar\"}],\"scattergeo\":[{\"type\":\"scattergeo\",\"marker\":{\"colorbar\":{\"outlinewidth\":0,\"ticks\":\"\"}}}],\"scatterpolar\":[{\"type\":\"scatterpolar\",\"marker\":{\"colorbar\":{\"outlinewidth\":0,\"ticks\":\"\"}}}],\"histogram\":[{\"marker\":{\"pattern\":{\"fillmode\":\"overlay\",\"size\":10,\"solidity\":0.2}},\"type\":\"histogram\"}],\"scattergl\":[{\"type\":\"scattergl\",\"marker\":{\"colorbar\":{\"outlinewidth\":0,\"ticks\":\"\"}}}],\"scatter3d\":[{\"type\":\"scatter3d\",\"line\":{\"colorbar\":{\"outlinewidth\":0,\"ticks\":\"\"}},\"marker\":{\"colorbar\":{\"outlinewidth\":0,\"ticks\":\"\"}}}],\"scattermapbox\":[{\"type\":\"scattermapbox\",\"marker\":{\"colorbar\":{\"outlinewidth\":0,\"ticks\":\"\"}}}],\"scatterternary\":[{\"type\":\"scatterternary\",\"marker\":{\"colorbar\":{\"outlinewidth\":0,\"ticks\":\"\"}}}],\"scattercarpet\":[{\"type\":\"scattercarpet\",\"marker\":{\"colorbar\":{\"outlinewidth\":0,\"ticks\":\"\"}}}],\"carpet\":[{\"aaxis\":{\"endlinecolor\":\"#2a3f5f\",\"gridcolor\":\"white\",\"linecolor\":\"white\",\"minorgridcolor\":\"white\",\"startlinecolor\":\"#2a3f5f\"},\"baxis\":{\"endlinecolor\":\"#2a3f5f\",\"gridcolor\":\"white\",\"linecolor\":\"white\",\"minorgridcolor\":\"white\",\"startlinecolor\":\"#2a3f5f\"},\"type\":\"carpet\"}],\"table\":[{\"cells\":{\"fill\":{\"color\":\"#EBF0F8\"},\"line\":{\"color\":\"white\"}},\"header\":{\"fill\":{\"color\":\"#C8D4E3\"},\"line\":{\"color\":\"white\"}},\"type\":\"table\"}],\"barpolar\":[{\"marker\":{\"line\":{\"color\":\"#E5ECF6\",\"width\":0.5},\"pattern\":{\"fillmode\":\"overlay\",\"size\":10,\"solidity\":0.2}},\"type\":\"barpolar\"}],\"pie\":[{\"automargin\":true,\"type\":\"pie\"}]},\"layout\":{\"autotypenumbers\":\"strict\",\"colorway\":[\"#636efa\",\"#EF553B\",\"#00cc96\",\"#ab63fa\",\"#FFA15A\",\"#19d3f3\",\"#FF6692\",\"#B6E880\",\"#FF97FF\",\"#FECB52\"],\"font\":{\"color\":\"#2a3f5f\"},\"hovermode\":\"closest\",\"hoverlabel\":{\"align\":\"left\"},\"paper_bgcolor\":\"white\",\"plot_bgcolor\":\"#E5ECF6\",\"polar\":{\"bgcolor\":\"#E5ECF6\",\"angularaxis\":{\"gridcolor\":\"white\",\"linecolor\":\"white\",\"ticks\":\"\"},\"radialaxis\":{\"gridcolor\":\"white\",\"linecolor\":\"white\",\"ticks\":\"\"}},\"ternary\":{\"bgcolor\":\"#E5ECF6\",\"aaxis\":{\"gridcolor\":\"white\",\"linecolor\":\"white\",\"ticks\":\"\"},\"baxis\":{\"gridcolor\":\"white\",\"linecolor\":\"white\",\"ticks\":\"\"},\"caxis\":{\"gridcolor\":\"white\",\"linecolor\":\"white\",\"ticks\":\"\"}},\"coloraxis\":{\"colorbar\":{\"outlinewidth\":0,\"ticks\":\"\"}},\"colorscale\":{\"sequential\":[[0.0,\"#0d0887\"],[0.1111111111111111,\"#46039f\"],[0.2222222222222222,\"#7201a8\"],[0.3333333333333333,\"#9c179e\"],[0.4444444444444444,\"#bd3786\"],[0.5555555555555556,\"#d8576b\"],[0.6666666666666666,\"#ed7953\"],[0.7777777777777778,\"#fb9f3a\"],[0.8888888888888888,\"#fdca26\"],[1.0,\"#f0f921\"]],\"sequentialminus\":[[0.0,\"#0d0887\"],[0.1111111111111111,\"#46039f\"],[0.2222222222222222,\"#7201a8\"],[0.3333333333333333,\"#9c179e\"],[0.4444444444444444,\"#bd3786\"],[0.5555555555555556,\"#d8576b\"],[0.6666666666666666,\"#ed7953\"],[0.7777777777777778,\"#fb9f3a\"],[0.8888888888888888,\"#fdca26\"],[1.0,\"#f0f921\"]],\"diverging\":[[0,\"#8e0152\"],[0.1,\"#c51b7d\"],[0.2,\"#de77ae\"],[0.3,\"#f1b6da\"],[0.4,\"#fde0ef\"],[0.5,\"#f7f7f7\"],[0.6,\"#e6f5d0\"],[0.7,\"#b8e186\"],[0.8,\"#7fbc41\"],[0.9,\"#4d9221\"],[1,\"#276419\"]]},\"xaxis\":{\"gridcolor\":\"white\",\"linecolor\":\"white\",\"ticks\":\"\",\"title\":{\"standoff\":15},\"zerolinecolor\":\"white\",\"automargin\":true,\"zerolinewidth\":2},\"yaxis\":{\"gridcolor\":\"white\",\"linecolor\":\"white\",\"ticks\":\"\",\"title\":{\"standoff\":15},\"zerolinecolor\":\"white\",\"automargin\":true,\"zerolinewidth\":2},\"scene\":{\"xaxis\":{\"backgroundcolor\":\"#E5ECF6\",\"gridcolor\":\"white\",\"linecolor\":\"white\",\"showbackground\":true,\"ticks\":\"\",\"zerolinecolor\":\"white\",\"gridwidth\":2},\"yaxis\":{\"backgroundcolor\":\"#E5ECF6\",\"gridcolor\":\"white\",\"linecolor\":\"white\",\"showbackground\":true,\"ticks\":\"\",\"zerolinecolor\":\"white\",\"gridwidth\":2},\"zaxis\":{\"backgroundcolor\":\"#E5ECF6\",\"gridcolor\":\"white\",\"linecolor\":\"white\",\"showbackground\":true,\"ticks\":\"\",\"zerolinecolor\":\"white\",\"gridwidth\":2}},\"shapedefaults\":{\"line\":{\"color\":\"#2a3f5f\"}},\"annotationdefaults\":{\"arrowcolor\":\"#2a3f5f\",\"arrowhead\":0,\"arrowwidth\":1},\"geo\":{\"bgcolor\":\"white\",\"landcolor\":\"#E5ECF6\",\"subunitcolor\":\"white\",\"showland\":true,\"showlakes\":true,\"lakecolor\":\"white\"},\"title\":{\"x\":0.05},\"mapbox\":{\"style\":\"light\"}}}},                        {\"responsive\": true}                    ).then(function(){\n",
       "                            \n",
       "var gd = document.getElementById('8458e3c4-e865-4fae-8301-9d851105d3db');\n",
       "var x = new MutationObserver(function (mutations, observer) {{\n",
       "        var display = window.getComputedStyle(gd).display;\n",
       "        if (!display || display === 'none') {{\n",
       "            console.log([gd, 'removed!']);\n",
       "            Plotly.purge(gd);\n",
       "            observer.disconnect();\n",
       "        }}\n",
       "}});\n",
       "\n",
       "// Listen for the removal of the full notebook cells\n",
       "var notebookContainer = gd.closest('#notebook-container');\n",
       "if (notebookContainer) {{\n",
       "    x.observe(notebookContainer, {childList: true});\n",
       "}}\n",
       "\n",
       "// Listen for the clearing of the current output cell\n",
       "var outputEl = gd.closest('.output');\n",
       "if (outputEl) {{\n",
       "    x.observe(outputEl, {childList: true});\n",
       "}}\n",
       "\n",
       "                        })                };                });            </script>        </div>"
      ]
     },
     "metadata": {},
     "output_type": "display_data"
    },
    {
     "data": {
      "application/vnd.plotly.v1+json": {
       "config": {
        "plotlyServerURL": "https://plot.ly"
       },
       "data": [
        {
         "mode": "lines",
         "name": "0.3180246949146614",
         "type": "scatter",
         "x": [
          -0.2943792574283541,
          -0.28837151748083667,
          -0.2823637775333192,
          -0.2763560375858018,
          -0.2703482976382844,
          -0.2643405576907669,
          -0.2583328177432495,
          -0.25232507779573204,
          -0.24631733784821463,
          -0.2403095979006972,
          -0.23430185795317976,
          -0.22829411800566235,
          -0.2222863780581449,
          -0.21627863811062747,
          -0.21027089816311006,
          -0.20426315821559263,
          -0.1982554182680752,
          -0.19224767832055775,
          -0.18623993837304031,
          -0.1802321984255229,
          -0.17422445847800547,
          -0.16821671853048803,
          -0.16220897858297062,
          -0.15620123863545318,
          -0.15019349868793574,
          -0.1441857587404183,
          -0.13817801879290087,
          -0.13217027884538346,
          -0.12616253889786602,
          -0.12015479895034858,
          -0.11414705900283117,
          -0.10813931905531374,
          -0.1021315791077963,
          -0.09612383916027886,
          -0.09011609921276142,
          -0.08410835926524401,
          -0.07810061931772658,
          -0.07209287937020914,
          -0.06608513942269173,
          -0.06007739947517429,
          -0.054069659527656855,
          -0.04806191958013942,
          -0.04205417963262198,
          -0.03604643968510457,
          -0.03003869973758716,
          -0.024030959790069695,
          -0.018023219842552285,
          -0.01201547989503482,
          -0.00600773994751741,
          0
         ],
         "y": [
          -0.09906169811249496,
          -0.1019335244032398,
          -0.10466097893687668,
          -0.10724406171340556,
          -0.10968277273282645,
          -0.11197711199513935,
          -0.11412707950034426,
          -0.1161326752484412,
          -0.11799389923943014,
          -0.1197107514733111,
          -0.12128323195008407,
          -0.12271134066974902,
          -0.12399507763230602,
          -0.12513444283775504,
          -0.12612943628609607,
          -0.12698005797732909,
          -0.12768630791145413,
          -0.12824818608847122,
          -0.12866569250838028,
          -0.12893882717118135,
          -0.12906759007687446,
          -0.12905198122545958,
          -0.1288920006169367,
          -0.12858764825130584,
          -0.12813892412856698,
          -0.12754582824872016,
          -0.12680836061176531,
          -0.1259265212177025,
          -0.12490031006653171,
          -0.12372972715825294,
          -0.12241477249286616,
          -0.1209554460703714,
          -0.11935174789076866,
          -0.11760367795405792,
          -0.11571123626023921,
          -0.1136744228093125,
          -0.1114932376012778,
          -0.10916768063613513,
          -0.10669775191388448,
          -0.10408345143452581,
          -0.10132477919805917,
          -0.09842173520448454,
          -0.09537431945380193,
          -0.09218253194601134,
          -0.08884637268111276,
          -0.08536584165910616,
          -0.0817409388799916,
          -0.07797166434376904,
          -0.07405801805043852,
          -0.07
         ]
        },
        {
         "mode": "lines",
         "name": "0.4771337968226776",
         "type": "scatter",
         "x": [
          0,
          0.006433169071611458,
          0.012866338143222916,
          0.019299507214834373,
          0.025732676286445832,
          0.03216584535805729,
          0.038599014429668746,
          0.04503218350128021,
          0.051465352572891664,
          0.05789852164450312,
          0.06433169071611458,
          0.07076485978772604,
          0.07719802885933749,
          0.08363119793094895,
          0.09006436700256042,
          0.09649753607417187,
          0.10293070514578333,
          0.10936387421739478,
          0.11579704328900624,
          0.12223021236061771,
          0.12866338143222916,
          0.13509655050384062,
          0.14152971957545207,
          0.14796288864706353,
          0.15439605771867498,
          0.16082922679028644,
          0.1672623958618979,
          0.17369556493350938,
          0.18012873400512083,
          0.1865619030767323,
          0.19299507214834374,
          0.1994282412199552,
          0.20586141029156665,
          0.2122945793631781,
          0.21872774843478957,
          0.22516091750640102,
          0.23159408657801248,
          0.23802725564962393,
          0.24446042472123541,
          0.25089359379284687,
          0.2573267628644583,
          0.2637599319360698,
          0.27019310100768124,
          0.2766262700792927,
          0.28305943915090415,
          0.2894926082225156,
          0.29592577729412706,
          0.3023589463657385,
          0.30879211543734997,
          0.3152252845089614
         ],
         "y": [
          -0.10999999999999999,
          -0.12080127536944527,
          -0.1314370080816748,
          -0.14190719813668856,
          -0.15221184553448658,
          -0.16235095027506885,
          -0.17232451235843535,
          -0.18213253178458613,
          -0.19177500855352111,
          -0.20125194266524038,
          -0.21056333411974387,
          -0.21970918291703162,
          -0.22868948905710362,
          -0.23750425253995985,
          -0.24615347336560037,
          -0.2546371515340251,
          -0.2629552870452341,
          -0.2711078798992273,
          -0.2790949300960048,
          -0.2869164376355665,
          -0.2945724025179125,
          -0.3020628247430427,
          -0.3093877043109572,
          -0.3165470412216559,
          -0.32354083547513884,
          -0.33036908707140605,
          -0.3370317960104575,
          -0.34352896229229324,
          -0.34986058591691316,
          -0.35602666688431733,
          -0.36202720519450576,
          -0.36786220084747845,
          -0.3735316538432354,
          -0.3790355641817766,
          -0.384373931863102,
          -0.3895467568872117,
          -0.3945540392541056,
          -0.39939577896378375,
          -0.4040719760162462,
          -0.4085826304114929,
          -0.4129277421495238,
          -0.41710731123033895,
          -0.4211213376539384,
          -0.424969821420322,
          -0.4286527625294899,
          -0.4321701609814421,
          -0.4355220167761785,
          -0.43870832991369907,
          -0.44172910039400404,
          -0.44458432821709315
         ]
        },
        {
         "mode": "lines",
         "name": "0.4395002697708605",
         "type": "scatter",
         "x": [
          0,
          0.0024357916318795943,
          0.004871583263759189,
          0.007307374895638783,
          0.009743166527518377,
          0.01217895815939797,
          0.014614749791277566,
          0.01705054142315716,
          0.019486333055036754,
          0.021922124686916348,
          0.02435791631879594,
          0.026793707950675538,
          0.02922949958255513,
          0.031665291214434725,
          0.03410108284631432,
          0.03653687447819391,
          0.03897266611007351,
          0.041408457741953106,
          0.043844249373832696,
          0.04628004100571229,
          0.04871583263759188,
          0.05115162426947148,
          0.053587415901351076,
          0.056023207533230666,
          0.05845899916511026,
          0.06089479079698986,
          0.06333058242886945,
          0.06576637406074905,
          0.06820216569262864,
          0.07063795732450824,
          0.07307374895638782,
          0.07550954058826742,
          0.07794533222014702,
          0.08038112385202661,
          0.08281691548390621,
          0.0852527071157858,
          0.08768849874766539,
          0.09012429037954499,
          0.09256008201142459,
          0.09499587364330418,
          0.09743166527518377,
          0.09986745690706336,
          0.10230324853894296,
          0.10473904017082256,
          0.10717483180270215,
          0.10961062343458175,
          0.11204641506646133,
          0.11448220669834093,
          0.11691799833022053,
          0.11935378996210012
         ],
         "y": [
          -0.10999999999999999,
          -0.11911784845936303,
          -0.12821196459523035,
          -0.1372823484076019,
          -0.14632899989647774,
          -0.15535191906185783,
          -0.1643511059037422,
          -0.1733265604221308,
          -0.18227828261702367,
          -0.19120627248842081,
          -0.20011053003632218,
          -0.20899105526072786,
          -0.21784784816163777,
          -0.22668090873905195,
          -0.2354902369929704,
          -0.2442758329233931,
          -0.25303769653032004,
          -0.2617758278137513,
          -0.2704902267736868,
          -0.27918089341012653,
          -0.28784782772307055,
          -0.29649102971251884,
          -0.30511049937847134,
          -0.3137062367209281,
          -0.32227824173988917,
          -0.33082651443535455,
          -0.3393510548073241,
          -0.34785186285579794,
          -0.356328938580776,
          -0.3647822819822584,
          -0.37321189306024505,
          -0.3816177718147359,
          -0.3899999182457311,
          -0.3983583323532305,
          -0.4066930141372342,
          -0.41500396359774205,
          -0.4232911807347543,
          -0.4315546655482707,
          -0.43979441803829145,
          -0.4480104382048164,
          -0.4562027260478456,
          -0.4643712815673791,
          -0.47251610476341693,
          -0.4806371956359589,
          -0.4887345541850052,
          -0.49680818041055574,
          -0.5048580743126105,
          -0.5128842358911696,
          -0.5208866651462329,
          -0.5288653620778005
         ]
        }
       ],
       "layout": {
        "template": {
         "data": {
          "bar": [
           {
            "error_x": {
             "color": "#2a3f5f"
            },
            "error_y": {
             "color": "#2a3f5f"
            },
            "marker": {
             "line": {
              "color": "#E5ECF6",
              "width": 0.5
             },
             "pattern": {
              "fillmode": "overlay",
              "size": 10,
              "solidity": 0.2
             }
            },
            "type": "bar"
           }
          ],
          "barpolar": [
           {
            "marker": {
             "line": {
              "color": "#E5ECF6",
              "width": 0.5
             },
             "pattern": {
              "fillmode": "overlay",
              "size": 10,
              "solidity": 0.2
             }
            },
            "type": "barpolar"
           }
          ],
          "carpet": [
           {
            "aaxis": {
             "endlinecolor": "#2a3f5f",
             "gridcolor": "white",
             "linecolor": "white",
             "minorgridcolor": "white",
             "startlinecolor": "#2a3f5f"
            },
            "baxis": {
             "endlinecolor": "#2a3f5f",
             "gridcolor": "white",
             "linecolor": "white",
             "minorgridcolor": "white",
             "startlinecolor": "#2a3f5f"
            },
            "type": "carpet"
           }
          ],
          "choropleth": [
           {
            "colorbar": {
             "outlinewidth": 0,
             "ticks": ""
            },
            "type": "choropleth"
           }
          ],
          "contour": [
           {
            "colorbar": {
             "outlinewidth": 0,
             "ticks": ""
            },
            "colorscale": [
             [
              0,
              "#0d0887"
             ],
             [
              0.1111111111111111,
              "#46039f"
             ],
             [
              0.2222222222222222,
              "#7201a8"
             ],
             [
              0.3333333333333333,
              "#9c179e"
             ],
             [
              0.4444444444444444,
              "#bd3786"
             ],
             [
              0.5555555555555556,
              "#d8576b"
             ],
             [
              0.6666666666666666,
              "#ed7953"
             ],
             [
              0.7777777777777778,
              "#fb9f3a"
             ],
             [
              0.8888888888888888,
              "#fdca26"
             ],
             [
              1,
              "#f0f921"
             ]
            ],
            "type": "contour"
           }
          ],
          "contourcarpet": [
           {
            "colorbar": {
             "outlinewidth": 0,
             "ticks": ""
            },
            "type": "contourcarpet"
           }
          ],
          "heatmap": [
           {
            "colorbar": {
             "outlinewidth": 0,
             "ticks": ""
            },
            "colorscale": [
             [
              0,
              "#0d0887"
             ],
             [
              0.1111111111111111,
              "#46039f"
             ],
             [
              0.2222222222222222,
              "#7201a8"
             ],
             [
              0.3333333333333333,
              "#9c179e"
             ],
             [
              0.4444444444444444,
              "#bd3786"
             ],
             [
              0.5555555555555556,
              "#d8576b"
             ],
             [
              0.6666666666666666,
              "#ed7953"
             ],
             [
              0.7777777777777778,
              "#fb9f3a"
             ],
             [
              0.8888888888888888,
              "#fdca26"
             ],
             [
              1,
              "#f0f921"
             ]
            ],
            "type": "heatmap"
           }
          ],
          "heatmapgl": [
           {
            "colorbar": {
             "outlinewidth": 0,
             "ticks": ""
            },
            "colorscale": [
             [
              0,
              "#0d0887"
             ],
             [
              0.1111111111111111,
              "#46039f"
             ],
             [
              0.2222222222222222,
              "#7201a8"
             ],
             [
              0.3333333333333333,
              "#9c179e"
             ],
             [
              0.4444444444444444,
              "#bd3786"
             ],
             [
              0.5555555555555556,
              "#d8576b"
             ],
             [
              0.6666666666666666,
              "#ed7953"
             ],
             [
              0.7777777777777778,
              "#fb9f3a"
             ],
             [
              0.8888888888888888,
              "#fdca26"
             ],
             [
              1,
              "#f0f921"
             ]
            ],
            "type": "heatmapgl"
           }
          ],
          "histogram": [
           {
            "marker": {
             "pattern": {
              "fillmode": "overlay",
              "size": 10,
              "solidity": 0.2
             }
            },
            "type": "histogram"
           }
          ],
          "histogram2d": [
           {
            "colorbar": {
             "outlinewidth": 0,
             "ticks": ""
            },
            "colorscale": [
             [
              0,
              "#0d0887"
             ],
             [
              0.1111111111111111,
              "#46039f"
             ],
             [
              0.2222222222222222,
              "#7201a8"
             ],
             [
              0.3333333333333333,
              "#9c179e"
             ],
             [
              0.4444444444444444,
              "#bd3786"
             ],
             [
              0.5555555555555556,
              "#d8576b"
             ],
             [
              0.6666666666666666,
              "#ed7953"
             ],
             [
              0.7777777777777778,
              "#fb9f3a"
             ],
             [
              0.8888888888888888,
              "#fdca26"
             ],
             [
              1,
              "#f0f921"
             ]
            ],
            "type": "histogram2d"
           }
          ],
          "histogram2dcontour": [
           {
            "colorbar": {
             "outlinewidth": 0,
             "ticks": ""
            },
            "colorscale": [
             [
              0,
              "#0d0887"
             ],
             [
              0.1111111111111111,
              "#46039f"
             ],
             [
              0.2222222222222222,
              "#7201a8"
             ],
             [
              0.3333333333333333,
              "#9c179e"
             ],
             [
              0.4444444444444444,
              "#bd3786"
             ],
             [
              0.5555555555555556,
              "#d8576b"
             ],
             [
              0.6666666666666666,
              "#ed7953"
             ],
             [
              0.7777777777777778,
              "#fb9f3a"
             ],
             [
              0.8888888888888888,
              "#fdca26"
             ],
             [
              1,
              "#f0f921"
             ]
            ],
            "type": "histogram2dcontour"
           }
          ],
          "mesh3d": [
           {
            "colorbar": {
             "outlinewidth": 0,
             "ticks": ""
            },
            "type": "mesh3d"
           }
          ],
          "parcoords": [
           {
            "line": {
             "colorbar": {
              "outlinewidth": 0,
              "ticks": ""
             }
            },
            "type": "parcoords"
           }
          ],
          "pie": [
           {
            "automargin": true,
            "type": "pie"
           }
          ],
          "scatter": [
           {
            "fillpattern": {
             "fillmode": "overlay",
             "size": 10,
             "solidity": 0.2
            },
            "type": "scatter"
           }
          ],
          "scatter3d": [
           {
            "line": {
             "colorbar": {
              "outlinewidth": 0,
              "ticks": ""
             }
            },
            "marker": {
             "colorbar": {
              "outlinewidth": 0,
              "ticks": ""
             }
            },
            "type": "scatter3d"
           }
          ],
          "scattercarpet": [
           {
            "marker": {
             "colorbar": {
              "outlinewidth": 0,
              "ticks": ""
             }
            },
            "type": "scattercarpet"
           }
          ],
          "scattergeo": [
           {
            "marker": {
             "colorbar": {
              "outlinewidth": 0,
              "ticks": ""
             }
            },
            "type": "scattergeo"
           }
          ],
          "scattergl": [
           {
            "marker": {
             "colorbar": {
              "outlinewidth": 0,
              "ticks": ""
             }
            },
            "type": "scattergl"
           }
          ],
          "scattermapbox": [
           {
            "marker": {
             "colorbar": {
              "outlinewidth": 0,
              "ticks": ""
             }
            },
            "type": "scattermapbox"
           }
          ],
          "scatterpolar": [
           {
            "marker": {
             "colorbar": {
              "outlinewidth": 0,
              "ticks": ""
             }
            },
            "type": "scatterpolar"
           }
          ],
          "scatterpolargl": [
           {
            "marker": {
             "colorbar": {
              "outlinewidth": 0,
              "ticks": ""
             }
            },
            "type": "scatterpolargl"
           }
          ],
          "scatterternary": [
           {
            "marker": {
             "colorbar": {
              "outlinewidth": 0,
              "ticks": ""
             }
            },
            "type": "scatterternary"
           }
          ],
          "surface": [
           {
            "colorbar": {
             "outlinewidth": 0,
             "ticks": ""
            },
            "colorscale": [
             [
              0,
              "#0d0887"
             ],
             [
              0.1111111111111111,
              "#46039f"
             ],
             [
              0.2222222222222222,
              "#7201a8"
             ],
             [
              0.3333333333333333,
              "#9c179e"
             ],
             [
              0.4444444444444444,
              "#bd3786"
             ],
             [
              0.5555555555555556,
              "#d8576b"
             ],
             [
              0.6666666666666666,
              "#ed7953"
             ],
             [
              0.7777777777777778,
              "#fb9f3a"
             ],
             [
              0.8888888888888888,
              "#fdca26"
             ],
             [
              1,
              "#f0f921"
             ]
            ],
            "type": "surface"
           }
          ],
          "table": [
           {
            "cells": {
             "fill": {
              "color": "#EBF0F8"
             },
             "line": {
              "color": "white"
             }
            },
            "header": {
             "fill": {
              "color": "#C8D4E3"
             },
             "line": {
              "color": "white"
             }
            },
            "type": "table"
           }
          ]
         },
         "layout": {
          "annotationdefaults": {
           "arrowcolor": "#2a3f5f",
           "arrowhead": 0,
           "arrowwidth": 1
          },
          "autotypenumbers": "strict",
          "coloraxis": {
           "colorbar": {
            "outlinewidth": 0,
            "ticks": ""
           }
          },
          "colorscale": {
           "diverging": [
            [
             0,
             "#8e0152"
            ],
            [
             0.1,
             "#c51b7d"
            ],
            [
             0.2,
             "#de77ae"
            ],
            [
             0.3,
             "#f1b6da"
            ],
            [
             0.4,
             "#fde0ef"
            ],
            [
             0.5,
             "#f7f7f7"
            ],
            [
             0.6,
             "#e6f5d0"
            ],
            [
             0.7,
             "#b8e186"
            ],
            [
             0.8,
             "#7fbc41"
            ],
            [
             0.9,
             "#4d9221"
            ],
            [
             1,
             "#276419"
            ]
           ],
           "sequential": [
            [
             0,
             "#0d0887"
            ],
            [
             0.1111111111111111,
             "#46039f"
            ],
            [
             0.2222222222222222,
             "#7201a8"
            ],
            [
             0.3333333333333333,
             "#9c179e"
            ],
            [
             0.4444444444444444,
             "#bd3786"
            ],
            [
             0.5555555555555556,
             "#d8576b"
            ],
            [
             0.6666666666666666,
             "#ed7953"
            ],
            [
             0.7777777777777778,
             "#fb9f3a"
            ],
            [
             0.8888888888888888,
             "#fdca26"
            ],
            [
             1,
             "#f0f921"
            ]
           ],
           "sequentialminus": [
            [
             0,
             "#0d0887"
            ],
            [
             0.1111111111111111,
             "#46039f"
            ],
            [
             0.2222222222222222,
             "#7201a8"
            ],
            [
             0.3333333333333333,
             "#9c179e"
            ],
            [
             0.4444444444444444,
             "#bd3786"
            ],
            [
             0.5555555555555556,
             "#d8576b"
            ],
            [
             0.6666666666666666,
             "#ed7953"
            ],
            [
             0.7777777777777778,
             "#fb9f3a"
            ],
            [
             0.8888888888888888,
             "#fdca26"
            ],
            [
             1,
             "#f0f921"
            ]
           ]
          },
          "colorway": [
           "#636efa",
           "#EF553B",
           "#00cc96",
           "#ab63fa",
           "#FFA15A",
           "#19d3f3",
           "#FF6692",
           "#B6E880",
           "#FF97FF",
           "#FECB52"
          ],
          "font": {
           "color": "#2a3f5f"
          },
          "geo": {
           "bgcolor": "white",
           "lakecolor": "white",
           "landcolor": "#E5ECF6",
           "showlakes": true,
           "showland": true,
           "subunitcolor": "white"
          },
          "hoverlabel": {
           "align": "left"
          },
          "hovermode": "closest",
          "mapbox": {
           "style": "light"
          },
          "paper_bgcolor": "white",
          "plot_bgcolor": "#E5ECF6",
          "polar": {
           "angularaxis": {
            "gridcolor": "white",
            "linecolor": "white",
            "ticks": ""
           },
           "bgcolor": "#E5ECF6",
           "radialaxis": {
            "gridcolor": "white",
            "linecolor": "white",
            "ticks": ""
           }
          },
          "scene": {
           "xaxis": {
            "backgroundcolor": "#E5ECF6",
            "gridcolor": "white",
            "gridwidth": 2,
            "linecolor": "white",
            "showbackground": true,
            "ticks": "",
            "zerolinecolor": "white"
           },
           "yaxis": {
            "backgroundcolor": "#E5ECF6",
            "gridcolor": "white",
            "gridwidth": 2,
            "linecolor": "white",
            "showbackground": true,
            "ticks": "",
            "zerolinecolor": "white"
           },
           "zaxis": {
            "backgroundcolor": "#E5ECF6",
            "gridcolor": "white",
            "gridwidth": 2,
            "linecolor": "white",
            "showbackground": true,
            "ticks": "",
            "zerolinecolor": "white"
           }
          },
          "shapedefaults": {
           "line": {
            "color": "#2a3f5f"
           }
          },
          "ternary": {
           "aaxis": {
            "gridcolor": "white",
            "linecolor": "white",
            "ticks": ""
           },
           "baxis": {
            "gridcolor": "white",
            "linecolor": "white",
            "ticks": ""
           },
           "bgcolor": "#E5ECF6",
           "caxis": {
            "gridcolor": "white",
            "linecolor": "white",
            "ticks": ""
           }
          },
          "title": {
           "x": 0.05
          },
          "xaxis": {
           "automargin": true,
           "gridcolor": "white",
           "linecolor": "white",
           "ticks": "",
           "title": {
            "standoff": 15
           },
           "zerolinecolor": "white",
           "zerolinewidth": 2
          },
          "yaxis": {
           "automargin": true,
           "gridcolor": "white",
           "linecolor": "white",
           "ticks": "",
           "title": {
            "standoff": 15
           },
           "zerolinecolor": "white",
           "zerolinewidth": 2
          }
         }
        }
       }
      },
      "text/html": [
       "<div>                            <div id=\"9e62baf7-453f-414e-9aec-9cfb233b030c\" class=\"plotly-graph-div\" style=\"height:525px; width:100%;\"></div>            <script type=\"text/javascript\">                require([\"plotly\"], function(Plotly) {                    window.PLOTLYENV=window.PLOTLYENV || {};                                    if (document.getElementById(\"9e62baf7-453f-414e-9aec-9cfb233b030c\")) {                    Plotly.newPlot(                        \"9e62baf7-453f-414e-9aec-9cfb233b030c\",                        [{\"mode\":\"lines\",\"name\":\"0.3180246949146614\",\"x\":[-0.2943792574283541,-0.28837151748083667,-0.2823637775333192,-0.2763560375858018,-0.2703482976382844,-0.2643405576907669,-0.2583328177432495,-0.25232507779573204,-0.24631733784821463,-0.2403095979006972,-0.23430185795317976,-0.22829411800566235,-0.2222863780581449,-0.21627863811062747,-0.21027089816311006,-0.20426315821559263,-0.1982554182680752,-0.19224767832055775,-0.18623993837304031,-0.1802321984255229,-0.17422445847800547,-0.16821671853048803,-0.16220897858297062,-0.15620123863545318,-0.15019349868793574,-0.1441857587404183,-0.13817801879290087,-0.13217027884538346,-0.12616253889786602,-0.12015479895034858,-0.11414705900283117,-0.10813931905531374,-0.1021315791077963,-0.09612383916027886,-0.09011609921276142,-0.08410835926524401,-0.07810061931772658,-0.07209287937020914,-0.06608513942269173,-0.06007739947517429,-0.054069659527656855,-0.04806191958013942,-0.04205417963262198,-0.03604643968510457,-0.03003869973758716,-0.024030959790069695,-0.018023219842552285,-0.01201547989503482,-0.00600773994751741,0.0],\"y\":[-0.09906169811249496,-0.1019335244032398,-0.10466097893687668,-0.10724406171340556,-0.10968277273282645,-0.11197711199513935,-0.11412707950034426,-0.1161326752484412,-0.11799389923943014,-0.1197107514733111,-0.12128323195008407,-0.12271134066974902,-0.12399507763230602,-0.12513444283775504,-0.12612943628609607,-0.12698005797732909,-0.12768630791145413,-0.12824818608847122,-0.12866569250838028,-0.12893882717118135,-0.12906759007687446,-0.12905198122545958,-0.1288920006169367,-0.12858764825130584,-0.12813892412856698,-0.12754582824872016,-0.12680836061176531,-0.1259265212177025,-0.12490031006653171,-0.12372972715825294,-0.12241477249286616,-0.1209554460703714,-0.11935174789076866,-0.11760367795405792,-0.11571123626023921,-0.1136744228093125,-0.1114932376012778,-0.10916768063613513,-0.10669775191388448,-0.10408345143452581,-0.10132477919805917,-0.09842173520448454,-0.09537431945380193,-0.09218253194601134,-0.08884637268111276,-0.08536584165910616,-0.0817409388799916,-0.07797166434376904,-0.07405801805043852,-0.07],\"type\":\"scatter\"},{\"mode\":\"lines\",\"name\":\"0.4771337968226776\",\"x\":[0.0,0.006433169071611458,0.012866338143222916,0.019299507214834373,0.025732676286445832,0.03216584535805729,0.038599014429668746,0.04503218350128021,0.051465352572891664,0.05789852164450312,0.06433169071611458,0.07076485978772604,0.07719802885933749,0.08363119793094895,0.09006436700256042,0.09649753607417187,0.10293070514578333,0.10936387421739478,0.11579704328900624,0.12223021236061771,0.12866338143222916,0.13509655050384062,0.14152971957545207,0.14796288864706353,0.15439605771867498,0.16082922679028644,0.1672623958618979,0.17369556493350938,0.18012873400512083,0.1865619030767323,0.19299507214834374,0.1994282412199552,0.20586141029156665,0.2122945793631781,0.21872774843478957,0.22516091750640102,0.23159408657801248,0.23802725564962393,0.24446042472123541,0.25089359379284687,0.2573267628644583,0.2637599319360698,0.27019310100768124,0.2766262700792927,0.28305943915090415,0.2894926082225156,0.29592577729412706,0.3023589463657385,0.30879211543734997,0.3152252845089614],\"y\":[-0.10999999999999999,-0.12080127536944527,-0.1314370080816748,-0.14190719813668856,-0.15221184553448658,-0.16235095027506885,-0.17232451235843535,-0.18213253178458613,-0.19177500855352111,-0.20125194266524038,-0.21056333411974387,-0.21970918291703162,-0.22868948905710362,-0.23750425253995985,-0.24615347336560037,-0.2546371515340251,-0.2629552870452341,-0.2711078798992273,-0.2790949300960048,-0.2869164376355665,-0.2945724025179125,-0.3020628247430427,-0.3093877043109572,-0.3165470412216559,-0.32354083547513884,-0.33036908707140605,-0.3370317960104575,-0.34352896229229324,-0.34986058591691316,-0.35602666688431733,-0.36202720519450576,-0.36786220084747845,-0.3735316538432354,-0.3790355641817766,-0.384373931863102,-0.3895467568872117,-0.3945540392541056,-0.39939577896378375,-0.4040719760162462,-0.4085826304114929,-0.4129277421495238,-0.41710731123033895,-0.4211213376539384,-0.424969821420322,-0.4286527625294899,-0.4321701609814421,-0.4355220167761785,-0.43870832991369907,-0.44172910039400404,-0.44458432821709315],\"type\":\"scatter\"},{\"mode\":\"lines\",\"name\":\"0.4395002697708605\",\"x\":[0.0,0.0024357916318795943,0.004871583263759189,0.007307374895638783,0.009743166527518377,0.01217895815939797,0.014614749791277566,0.01705054142315716,0.019486333055036754,0.021922124686916348,0.02435791631879594,0.026793707950675538,0.02922949958255513,0.031665291214434725,0.03410108284631432,0.03653687447819391,0.03897266611007351,0.041408457741953106,0.043844249373832696,0.04628004100571229,0.04871583263759188,0.05115162426947148,0.053587415901351076,0.056023207533230666,0.05845899916511026,0.06089479079698986,0.06333058242886945,0.06576637406074905,0.06820216569262864,0.07063795732450824,0.07307374895638782,0.07550954058826742,0.07794533222014702,0.08038112385202661,0.08281691548390621,0.0852527071157858,0.08768849874766539,0.09012429037954499,0.09256008201142459,0.09499587364330418,0.09743166527518377,0.09986745690706336,0.10230324853894296,0.10473904017082256,0.10717483180270215,0.10961062343458175,0.11204641506646133,0.11448220669834093,0.11691799833022053,0.11935378996210012],\"y\":[-0.10999999999999999,-0.11911784845936303,-0.12821196459523035,-0.1372823484076019,-0.14632899989647774,-0.15535191906185783,-0.1643511059037422,-0.1733265604221308,-0.18227828261702367,-0.19120627248842081,-0.20011053003632218,-0.20899105526072786,-0.21784784816163777,-0.22668090873905195,-0.2354902369929704,-0.2442758329233931,-0.25303769653032004,-0.2617758278137513,-0.2704902267736868,-0.27918089341012653,-0.28784782772307055,-0.29649102971251884,-0.30511049937847134,-0.3137062367209281,-0.32227824173988917,-0.33082651443535455,-0.3393510548073241,-0.34785186285579794,-0.356328938580776,-0.3647822819822584,-0.37321189306024505,-0.3816177718147359,-0.3899999182457311,-0.3983583323532305,-0.4066930141372342,-0.41500396359774205,-0.4232911807347543,-0.4315546655482707,-0.43979441803829145,-0.4480104382048164,-0.4562027260478456,-0.4643712815673791,-0.47251610476341693,-0.4806371956359589,-0.4887345541850052,-0.49680818041055574,-0.5048580743126105,-0.5128842358911696,-0.5208866651462329,-0.5288653620778005],\"type\":\"scatter\"}],                        {\"template\":{\"data\":{\"histogram2dcontour\":[{\"type\":\"histogram2dcontour\",\"colorbar\":{\"outlinewidth\":0,\"ticks\":\"\"},\"colorscale\":[[0.0,\"#0d0887\"],[0.1111111111111111,\"#46039f\"],[0.2222222222222222,\"#7201a8\"],[0.3333333333333333,\"#9c179e\"],[0.4444444444444444,\"#bd3786\"],[0.5555555555555556,\"#d8576b\"],[0.6666666666666666,\"#ed7953\"],[0.7777777777777778,\"#fb9f3a\"],[0.8888888888888888,\"#fdca26\"],[1.0,\"#f0f921\"]]}],\"choropleth\":[{\"type\":\"choropleth\",\"colorbar\":{\"outlinewidth\":0,\"ticks\":\"\"}}],\"histogram2d\":[{\"type\":\"histogram2d\",\"colorbar\":{\"outlinewidth\":0,\"ticks\":\"\"},\"colorscale\":[[0.0,\"#0d0887\"],[0.1111111111111111,\"#46039f\"],[0.2222222222222222,\"#7201a8\"],[0.3333333333333333,\"#9c179e\"],[0.4444444444444444,\"#bd3786\"],[0.5555555555555556,\"#d8576b\"],[0.6666666666666666,\"#ed7953\"],[0.7777777777777778,\"#fb9f3a\"],[0.8888888888888888,\"#fdca26\"],[1.0,\"#f0f921\"]]}],\"heatmap\":[{\"type\":\"heatmap\",\"colorbar\":{\"outlinewidth\":0,\"ticks\":\"\"},\"colorscale\":[[0.0,\"#0d0887\"],[0.1111111111111111,\"#46039f\"],[0.2222222222222222,\"#7201a8\"],[0.3333333333333333,\"#9c179e\"],[0.4444444444444444,\"#bd3786\"],[0.5555555555555556,\"#d8576b\"],[0.6666666666666666,\"#ed7953\"],[0.7777777777777778,\"#fb9f3a\"],[0.8888888888888888,\"#fdca26\"],[1.0,\"#f0f921\"]]}],\"heatmapgl\":[{\"type\":\"heatmapgl\",\"colorbar\":{\"outlinewidth\":0,\"ticks\":\"\"},\"colorscale\":[[0.0,\"#0d0887\"],[0.1111111111111111,\"#46039f\"],[0.2222222222222222,\"#7201a8\"],[0.3333333333333333,\"#9c179e\"],[0.4444444444444444,\"#bd3786\"],[0.5555555555555556,\"#d8576b\"],[0.6666666666666666,\"#ed7953\"],[0.7777777777777778,\"#fb9f3a\"],[0.8888888888888888,\"#fdca26\"],[1.0,\"#f0f921\"]]}],\"contourcarpet\":[{\"type\":\"contourcarpet\",\"colorbar\":{\"outlinewidth\":0,\"ticks\":\"\"}}],\"contour\":[{\"type\":\"contour\",\"colorbar\":{\"outlinewidth\":0,\"ticks\":\"\"},\"colorscale\":[[0.0,\"#0d0887\"],[0.1111111111111111,\"#46039f\"],[0.2222222222222222,\"#7201a8\"],[0.3333333333333333,\"#9c179e\"],[0.4444444444444444,\"#bd3786\"],[0.5555555555555556,\"#d8576b\"],[0.6666666666666666,\"#ed7953\"],[0.7777777777777778,\"#fb9f3a\"],[0.8888888888888888,\"#fdca26\"],[1.0,\"#f0f921\"]]}],\"surface\":[{\"type\":\"surface\",\"colorbar\":{\"outlinewidth\":0,\"ticks\":\"\"},\"colorscale\":[[0.0,\"#0d0887\"],[0.1111111111111111,\"#46039f\"],[0.2222222222222222,\"#7201a8\"],[0.3333333333333333,\"#9c179e\"],[0.4444444444444444,\"#bd3786\"],[0.5555555555555556,\"#d8576b\"],[0.6666666666666666,\"#ed7953\"],[0.7777777777777778,\"#fb9f3a\"],[0.8888888888888888,\"#fdca26\"],[1.0,\"#f0f921\"]]}],\"mesh3d\":[{\"type\":\"mesh3d\",\"colorbar\":{\"outlinewidth\":0,\"ticks\":\"\"}}],\"scatter\":[{\"fillpattern\":{\"fillmode\":\"overlay\",\"size\":10,\"solidity\":0.2},\"type\":\"scatter\"}],\"parcoords\":[{\"type\":\"parcoords\",\"line\":{\"colorbar\":{\"outlinewidth\":0,\"ticks\":\"\"}}}],\"scatterpolargl\":[{\"type\":\"scatterpolargl\",\"marker\":{\"colorbar\":{\"outlinewidth\":0,\"ticks\":\"\"}}}],\"bar\":[{\"error_x\":{\"color\":\"#2a3f5f\"},\"error_y\":{\"color\":\"#2a3f5f\"},\"marker\":{\"line\":{\"color\":\"#E5ECF6\",\"width\":0.5},\"pattern\":{\"fillmode\":\"overlay\",\"size\":10,\"solidity\":0.2}},\"type\":\"bar\"}],\"scattergeo\":[{\"type\":\"scattergeo\",\"marker\":{\"colorbar\":{\"outlinewidth\":0,\"ticks\":\"\"}}}],\"scatterpolar\":[{\"type\":\"scatterpolar\",\"marker\":{\"colorbar\":{\"outlinewidth\":0,\"ticks\":\"\"}}}],\"histogram\":[{\"marker\":{\"pattern\":{\"fillmode\":\"overlay\",\"size\":10,\"solidity\":0.2}},\"type\":\"histogram\"}],\"scattergl\":[{\"type\":\"scattergl\",\"marker\":{\"colorbar\":{\"outlinewidth\":0,\"ticks\":\"\"}}}],\"scatter3d\":[{\"type\":\"scatter3d\",\"line\":{\"colorbar\":{\"outlinewidth\":0,\"ticks\":\"\"}},\"marker\":{\"colorbar\":{\"outlinewidth\":0,\"ticks\":\"\"}}}],\"scattermapbox\":[{\"type\":\"scattermapbox\",\"marker\":{\"colorbar\":{\"outlinewidth\":0,\"ticks\":\"\"}}}],\"scatterternary\":[{\"type\":\"scatterternary\",\"marker\":{\"colorbar\":{\"outlinewidth\":0,\"ticks\":\"\"}}}],\"scattercarpet\":[{\"type\":\"scattercarpet\",\"marker\":{\"colorbar\":{\"outlinewidth\":0,\"ticks\":\"\"}}}],\"carpet\":[{\"aaxis\":{\"endlinecolor\":\"#2a3f5f\",\"gridcolor\":\"white\",\"linecolor\":\"white\",\"minorgridcolor\":\"white\",\"startlinecolor\":\"#2a3f5f\"},\"baxis\":{\"endlinecolor\":\"#2a3f5f\",\"gridcolor\":\"white\",\"linecolor\":\"white\",\"minorgridcolor\":\"white\",\"startlinecolor\":\"#2a3f5f\"},\"type\":\"carpet\"}],\"table\":[{\"cells\":{\"fill\":{\"color\":\"#EBF0F8\"},\"line\":{\"color\":\"white\"}},\"header\":{\"fill\":{\"color\":\"#C8D4E3\"},\"line\":{\"color\":\"white\"}},\"type\":\"table\"}],\"barpolar\":[{\"marker\":{\"line\":{\"color\":\"#E5ECF6\",\"width\":0.5},\"pattern\":{\"fillmode\":\"overlay\",\"size\":10,\"solidity\":0.2}},\"type\":\"barpolar\"}],\"pie\":[{\"automargin\":true,\"type\":\"pie\"}]},\"layout\":{\"autotypenumbers\":\"strict\",\"colorway\":[\"#636efa\",\"#EF553B\",\"#00cc96\",\"#ab63fa\",\"#FFA15A\",\"#19d3f3\",\"#FF6692\",\"#B6E880\",\"#FF97FF\",\"#FECB52\"],\"font\":{\"color\":\"#2a3f5f\"},\"hovermode\":\"closest\",\"hoverlabel\":{\"align\":\"left\"},\"paper_bgcolor\":\"white\",\"plot_bgcolor\":\"#E5ECF6\",\"polar\":{\"bgcolor\":\"#E5ECF6\",\"angularaxis\":{\"gridcolor\":\"white\",\"linecolor\":\"white\",\"ticks\":\"\"},\"radialaxis\":{\"gridcolor\":\"white\",\"linecolor\":\"white\",\"ticks\":\"\"}},\"ternary\":{\"bgcolor\":\"#E5ECF6\",\"aaxis\":{\"gridcolor\":\"white\",\"linecolor\":\"white\",\"ticks\":\"\"},\"baxis\":{\"gridcolor\":\"white\",\"linecolor\":\"white\",\"ticks\":\"\"},\"caxis\":{\"gridcolor\":\"white\",\"linecolor\":\"white\",\"ticks\":\"\"}},\"coloraxis\":{\"colorbar\":{\"outlinewidth\":0,\"ticks\":\"\"}},\"colorscale\":{\"sequential\":[[0.0,\"#0d0887\"],[0.1111111111111111,\"#46039f\"],[0.2222222222222222,\"#7201a8\"],[0.3333333333333333,\"#9c179e\"],[0.4444444444444444,\"#bd3786\"],[0.5555555555555556,\"#d8576b\"],[0.6666666666666666,\"#ed7953\"],[0.7777777777777778,\"#fb9f3a\"],[0.8888888888888888,\"#fdca26\"],[1.0,\"#f0f921\"]],\"sequentialminus\":[[0.0,\"#0d0887\"],[0.1111111111111111,\"#46039f\"],[0.2222222222222222,\"#7201a8\"],[0.3333333333333333,\"#9c179e\"],[0.4444444444444444,\"#bd3786\"],[0.5555555555555556,\"#d8576b\"],[0.6666666666666666,\"#ed7953\"],[0.7777777777777778,\"#fb9f3a\"],[0.8888888888888888,\"#fdca26\"],[1.0,\"#f0f921\"]],\"diverging\":[[0,\"#8e0152\"],[0.1,\"#c51b7d\"],[0.2,\"#de77ae\"],[0.3,\"#f1b6da\"],[0.4,\"#fde0ef\"],[0.5,\"#f7f7f7\"],[0.6,\"#e6f5d0\"],[0.7,\"#b8e186\"],[0.8,\"#7fbc41\"],[0.9,\"#4d9221\"],[1,\"#276419\"]]},\"xaxis\":{\"gridcolor\":\"white\",\"linecolor\":\"white\",\"ticks\":\"\",\"title\":{\"standoff\":15},\"zerolinecolor\":\"white\",\"automargin\":true,\"zerolinewidth\":2},\"yaxis\":{\"gridcolor\":\"white\",\"linecolor\":\"white\",\"ticks\":\"\",\"title\":{\"standoff\":15},\"zerolinecolor\":\"white\",\"automargin\":true,\"zerolinewidth\":2},\"scene\":{\"xaxis\":{\"backgroundcolor\":\"#E5ECF6\",\"gridcolor\":\"white\",\"linecolor\":\"white\",\"showbackground\":true,\"ticks\":\"\",\"zerolinecolor\":\"white\",\"gridwidth\":2},\"yaxis\":{\"backgroundcolor\":\"#E5ECF6\",\"gridcolor\":\"white\",\"linecolor\":\"white\",\"showbackground\":true,\"ticks\":\"\",\"zerolinecolor\":\"white\",\"gridwidth\":2},\"zaxis\":{\"backgroundcolor\":\"#E5ECF6\",\"gridcolor\":\"white\",\"linecolor\":\"white\",\"showbackground\":true,\"ticks\":\"\",\"zerolinecolor\":\"white\",\"gridwidth\":2}},\"shapedefaults\":{\"line\":{\"color\":\"#2a3f5f\"}},\"annotationdefaults\":{\"arrowcolor\":\"#2a3f5f\",\"arrowhead\":0,\"arrowwidth\":1},\"geo\":{\"bgcolor\":\"white\",\"landcolor\":\"#E5ECF6\",\"subunitcolor\":\"white\",\"showland\":true,\"showlakes\":true,\"lakecolor\":\"white\"},\"title\":{\"x\":0.05},\"mapbox\":{\"style\":\"light\"}}}},                        {\"responsive\": true}                    ).then(function(){\n",
       "                            \n",
       "var gd = document.getElementById('9e62baf7-453f-414e-9aec-9cfb233b030c');\n",
       "var x = new MutationObserver(function (mutations, observer) {{\n",
       "        var display = window.getComputedStyle(gd).display;\n",
       "        if (!display || display === 'none') {{\n",
       "            console.log([gd, 'removed!']);\n",
       "            Plotly.purge(gd);\n",
       "            observer.disconnect();\n",
       "        }}\n",
       "}});\n",
       "\n",
       "// Listen for the removal of the full notebook cells\n",
       "var notebookContainer = gd.closest('#notebook-container');\n",
       "if (notebookContainer) {{\n",
       "    x.observe(notebookContainer, {childList: true});\n",
       "}}\n",
       "\n",
       "// Listen for the clearing of the current output cell\n",
       "var outputEl = gd.closest('.output');\n",
       "if (outputEl) {{\n",
       "    x.observe(outputEl, {childList: true});\n",
       "}}\n",
       "\n",
       "                        })                };                });            </script>        </div>"
      ]
     },
     "metadata": {},
     "output_type": "display_data"
    },
    {
     "name": "stdout",
     "output_type": "stream",
     "text": [
      "[[[7.03248, 4.136673], [6.921742, 4.219422], [6.763005, 4.337383]], [[7.065898, 4.198863], [7.312281, 4.231294], [7.439422, 4.27106]], [[7.125593, 4.363359], [7.182462, 4.368823], [7.287631, 4.43411]]]\n"
     ]
    }
   ],
   "source": [
    "array = parseData('084_4_C_day1.csv') #using cell[2]\n",
    "#returns [mainrootpoints, lateralRoot points]\n",
    "fig = plotData(array) #cell[3]\n",
    "fig.show()\n",
    "fig2 = go.Figure()\n",
    "fig3 =go.Figure()\n",
    "G= 2\n",
    "al =.7\n",
    "latteralRoots = array[1]\n",
    "MainRootPoints = array[0]\n",
    "trace= plotPoints(MainRootPoints, \"main root\") #cell[4]\n",
    "fig2.add_trace(trace)\n",
    "pqs =[]\n",
    "Info = [[\"pq\", \"length\", \"txy\"]]\n",
    "for root in latteralRoots:\n",
    "    pqs.append(root[-1]) #takes the root tip point of each lateral root segment\n",
    "for pq in pqs:\n",
    "    DAC = findMostOptimal(MainRootPoints, G,al,pq) #cell[5]\n",
    "    #returns length, txy, dplot, raplot\n",
    "    array =[pq, DAC[0], DAC[1]]\n",
    "    Info.append(array)\n",
    "    fig.add_trace(DAC[3])\n",
    "    fig2.add_trace(DAC[3])\n",
    "    fig3.add_trace(DAC[2])\n",
    "fig.show()\n",
    "fig2.show()\n",
    "fig3.show()\n",
    "#print(Info)\n",
    "print(latteralRoots)"
   ]
  },
  {
   "cell_type": "code",
   "execution_count": null,
   "id": "53e8c6b9",
   "metadata": {},
   "outputs": [],
   "source": []
  }
 ],
 "metadata": {
  "kernelspec": {
   "display_name": "Python 3 (ipykernel)",
   "language": "python",
   "name": "python3"
  },
  "language_info": {
   "codemirror_mode": {
    "name": "ipython",
    "version": 3
   },
   "file_extension": ".py",
   "mimetype": "text/x-python",
   "name": "python",
   "nbconvert_exporter": "python",
   "pygments_lexer": "ipython3",
   "version": "3.11.3"
  }
 },
 "nbformat": 4,
 "nbformat_minor": 5
}
