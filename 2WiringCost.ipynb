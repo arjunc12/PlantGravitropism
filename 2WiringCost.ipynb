{
 "cells": [
  {
   "cell_type": "code",
   "execution_count": 1,
   "id": "8519e475",
   "metadata": {},
   "outputs": [],
   "source": [
    "#import matplotlib.pyplot as plt\n",
    "import numpy as np\n",
    "import pylab\n",
    "import scipy\n",
    "import plotly\n",
    "from plotly import graph_objs as go\n",
    "from plotly.offline import iplot, plot, init_notebook_mode\n",
    "import networkx as nx\n",
    "# importing librarys"
   ]
  },
  {
   "cell_type": "code",
   "execution_count": 2,
   "id": "3e11f4bb",
   "metadata": {},
   "outputs": [],
   "source": [
    "def parseData(file):\n",
    "    import csv\n",
    "    Data =[]\n",
    "    with open(file) as csv_file:\n",
    "        csv_reader = csv.reader(csv_file, delimiter=',')\n",
    "        for lines in csv_reader:\n",
    "           Data.append(lines)\n",
    "        mainRootPoints =[]\n",
    "        c=1\n",
    "        while len(Data[c]) != 1:\n",
    "            point = [float(Data[c][0]),float(Data[c][1])]\n",
    "            mainRootPoints.append(point)\n",
    "            c= c+1\n",
    "        pqs =[]\n",
    "        pq=[]\n",
    "        c=c+1\n",
    "        while c < len(Data):\n",
    "            if len(Data[c]) ==1:\n",
    "                pqs.append(pq)\n",
    "                pq =[]\n",
    "            if len(Data[c]) ==2:\n",
    "                point = [float(Data[c][0]),float(Data[c][1])]\n",
    "                pq.append(point)\n",
    "            c = c+1\n",
    "        pqs.append(pq)\n",
    "    return (mainRootPoints, pqs)\n",
    "#Making the data into readable segments"
   ]
  },
  {
   "cell_type": "code",
   "execution_count": 3,
   "id": "81fabc8d",
   "metadata": {},
   "outputs": [],
   "source": [
    "def readArborFile(fileName):\n",
    "    Array = parseData(fileName)\n",
    "    mainRootPoints = Array[0]\n",
    "    lateralRoots =Array[1]\n",
    "    Plant = nx.Graph()\n",
    "    #adding the mainroot base to graph\n",
    "    Plant.add_node(0)\n",
    "    Plant._node[0]['label']= 'main root base'\n",
    "    Plant._node[0]['coordinate'] = [mainRootPoints[0][0], mainRootPoints[0][1]]\n",
    "    Plant._node[0]['root number']= 0\n",
    "    #constructing the main root\n",
    "    for i in range(1, len(mainRootPoints)):\n",
    "        Plant.add_node(i)\n",
    "        Plant._node[i]['label']= 'main root'\n",
    "        Plant._node[i]['coordinate'] = (mainRootPoints[i][0], mainRootPoints[i][1])\n",
    "        Plant._node[i]['root number']=0\n",
    "        Plant.add_edge(i-1,i)\n",
    "        Plant[i-1][i]['label'] = 'main root'\n",
    "        Plant[i-1][i]['G'] = 0\n",
    "        Plant[i-1][i]['root number']=0\n",
    "    #this way we can have individual labels for points\n",
    "    count = len(mainRootPoints)\n",
    "    rootNumber =1\n",
    "    #constructing the lateral roots\n",
    "    for root in lateralRoots:\n",
    "        # constructing a lateral root\n",
    "        #making the first point\n",
    "        Plant.add_node(count)\n",
    "        Plant._node[count]['label'] = 'lateral root'\n",
    "        Plant._node[count]['coordinate'] = (root[0][0],root[0][1])\n",
    "        Plant._node[count]['root number'] = rootNumber\n",
    "        #making the inside points and edges\n",
    "        for i in range(1,len(root) -1):\n",
    "            c =count +i\n",
    "            Plant.add_node(c)\n",
    "            Plant._node[c]['label'] = 'lateral root'\n",
    "            Plant._node[c]['coordinate'] = (root[i][0],root[i][1])\n",
    "            Plant._node[c]['root number'] = rootNumber\n",
    "            Plant.add_edge(c-1,c)\n",
    "            Plant[c-1][c]['label'] = 'lateral root'\n",
    "            Plant[c-1][c]['G']=0\n",
    "            Plant[c-1][c]['root number'] = rootNumber\n",
    "        #making the root tip\n",
    "        count = count +len(root)-1\n",
    "        Plant.add_node(count)\n",
    "        Plant._node[count]['label'] = 'lateral root tip'\n",
    "        Plant._node[count]['coordinate'] = (root[-1][0],root[-1][1])\n",
    "        Plant._node[count]['root number'] = rootNumber\n",
    "        Plant.add_edge(count-1,count)\n",
    "        Plant[count-1][count]['label'] = 'lateral root'\n",
    "        Plant[count-1][count]['G'] =0\n",
    "        Plant[count-1][count]['root number'] = rootNumber\n",
    "        count = count+1\n",
    "        rootNumber = rootNumber+1\n",
    "    # return a networkX graph of the arbor\n",
    "    return Plant"
   ]
  },
  {
   "cell_type": "code",
   "execution_count": 4,
   "id": "515f2636",
   "metadata": {},
   "outputs": [],
   "source": [
    "def optimalArbor(arbor, G, alpha):\n",
    "    MainRootPoints = []\n",
    "    pqs=[]\n",
    "    Plant = nx.Graph()\n",
    "    c=0\n",
    "    for node in arbor.nodes():\n",
    "        x, y = arbor.nodes[node]['coordinate']\n",
    "        if 'main root base' == arbor.nodes[node]['label']:\n",
    "            MainRootPoints.append([x,y])\n",
    "            Plant.add_node(c)\n",
    "            Plant._node[c]['label'] = arbor.nodes[node]['label']\n",
    "            Plant._node[c]['coordinate'] = arbor.nodes[node]['coordinate']\n",
    "            Plant._node[c]['root number'] =arbor.nodes[node]['root number']\n",
    "            c = c+1\n",
    "        elif 'main root' == arbor.nodes[node]['label']:\n",
    "            MainRootPoints.append([x,y])\n",
    "            Plant.add_node(c)\n",
    "            Plant._node[c]['label'] = arbor.nodes[node]['label']\n",
    "            Plant._node[c]['coordinate'] = arbor.nodes[node]['coordinate']\n",
    "            Plant.add_edge(c-1,c)\n",
    "            Plant[c-1][c]['label'] = 'main root'\n",
    "            Plant[c-1][c]['G'] =0\n",
    "            Plant[c-1][c]['root number'] =0\n",
    "            c = c+1\n",
    "        elif 'lateral root tip' == arbor.nodes[node]['label']:\n",
    "            pqs.append([x,y])\n",
    "            Plant.add_node(c)\n",
    "            Plant._node[c]['label'] = arbor.nodes[node]['label']\n",
    "            Plant._node[c]['coordinate'] = arbor.nodes[node]['coordinate']\n",
    "            c = c+1\n",
    "    rootNumber =1\n",
    "    for pq in pqs:\n",
    "        Array =findMostOptimal(MainRootPoints,G, alpha,pq) \n",
    "        txy =Array[0]\n",
    "        xs=Array[1]\n",
    "        ys=Array[2]\n",
    "        Plant.add_node(c)\n",
    "        Plant._node[c]['label']='optimal'\n",
    "        Plant._node[c]['root number'] = rootNumber\n",
    "        tx = txy[0][0]\n",
    "        ty = txy[1][0]\n",
    "        Plant._node[c]['coordinate'] = [tx,ty]\n",
    "        Plant._node[c]['pq'] = pq\n",
    "        for node in Plant.nodes():\n",
    "            if 'lateral root tip' == Plant.nodes[node]['label']:\n",
    "                if (pq[0],pq[1]) == Plant.nodes[node]['coordinate']:\n",
    "                    Plant.add_edge(c, node)\n",
    "                    Plant[c][node]['label'] ='lateral root'\n",
    "                    Plant[c][node]['root number'] = rootNumber\n",
    "                    Plant[c][node]['G'] = G\n",
    "                    Plant[c][node]['xs'] = xs\n",
    "                    Plant[c][node]['ys']= ys\n",
    "                    break\n",
    "        rootNumber = rootNumber +1\n",
    "        c=c+1\n",
    "    return Plant\n",
    "    # arbor is a networkx graph\n",
    "    # return a networkx graph representing optimal arbor"
   ]
  },
  {
   "cell_type": "code",
   "execution_count": 5,
   "id": "9eedefb1",
   "metadata": {},
   "outputs": [],
   "source": [
    "def findMostOptimal(MainRootPoints,G, al,pq):\n",
    "    p = pq[0]\n",
    "    q = pq[1]\n",
    "    point1 = MainRootPoints[0]\n",
    "    point2 = MainRootPoints[1]\n",
    "    CD = 0\n",
    "    bestDAC = findOptimalInSegment(point1, point2,G,al,pq,CD) \n",
    "    #return length, txy, xs,ys\n",
    "    bestLength = bestDAC[0] \n",
    "    for i in range(2, len(MainRootPoints)):\n",
    "        length = findOptimalInSegment(point1, point2,G,al,pq,CD)[0]\n",
    "        if length < bestLength:\n",
    "            bestDAC = findOptimalInSegment(point1, point2,G,al,pq,CD)\n",
    "            #returns length, txy, xs, ys\n",
    "            bestLength = length\n",
    "        CD = CD +findOptimalInSegment(point1, point2,G,al,pq,CD)[4] \n",
    "        point1 = point2\n",
    "        point2 = MainRootPoints[i]\n",
    "    return (bestDAC[1:])\n",
    "    #return [txy,xs,ys]"
   ]
  },
  {
   "cell_type": "code",
   "execution_count": 6,
   "id": "8d73f204",
   "metadata": {},
   "outputs": [],
   "source": [
    "def findOptimalInSegment(point1, point2,G,al,pq,CD):\n",
    "    a =point1[0]\n",
    "    b= point1[1]\n",
    "    c= point2[0]\n",
    "    d = point2[1]\n",
    "    p=pq[0]\n",
    "    q=pq[1]\n",
    "    theta = findTheta (a,b,c,d) \n",
    "    ArrayDAC = deAngleCurve(G,al,p,q,theta,a,b,c,d,CD) \n",
    "    #return length, txy, xs,ys, cd\n",
    "    return (ArrayDAC)\n",
    "    #return length, txy, xs,ys,cd"
   ]
  },
  {
   "cell_type": "code",
   "execution_count": 7,
   "id": "8ec61958",
   "metadata": {},
   "outputs": [],
   "source": [
    "def findTheta (a,b,c,d):\n",
    "    theta = np.arctan((np.absolute(a-c))/(np.absolute(b-d)))\n",
    "    m = (b-d)/(a-c)\n",
    "    if m > 0:\n",
    "        theta =-theta\n",
    "    return theta"
   ]
  },
  {
   "cell_type": "code",
   "execution_count": 8,
   "id": "40983f16",
   "metadata": {},
   "outputs": [],
   "source": [
    "def deAngleCurve(G,al,p,q,theta,a,b,c,d,CD):\n",
    "    pq = rotateLine([p],[q], theta, c,d) \n",
    "    #returns pq in this case\n",
    "    pn = pq[0][0]\n",
    "    qn = pq[1][0]\n",
    "    tmax = rotateLine([c],[d], theta, a,b)\n",
    "    tmax = tmax[1][0]\n",
    "    best = findBest(tmax, G,pn,qn,al,CD)\n",
    "    #returns best length and t\n",
    "    t = best[1]\n",
    "    XYPrime = XYDeAngle (tmax,G,pn,qn,t)\n",
    "    #return x,y\n",
    "    txy = reAngle([0],[best[1]], theta,c,d)\n",
    "    XY = reAngle(XYPrime[0], XYPrime[1], theta,c,d)\n",
    "    return(best[0], txy,XY[0],XY[1],CD)\n",
    "    #return length, txy, xs,ys"
   ]
  },
  {
   "cell_type": "code",
   "execution_count": 9,
   "id": "e8640522",
   "metadata": {},
   "outputs": [],
   "source": [
    "def rotateLine(xs,ys,theta,a,b):\n",
    "    nx=[]\n",
    "    ny=[]\n",
    "    R = [[np.cos(theta), -np.sin(theta)],[np.sin(theta), np.cos(theta)]]\n",
    "    for i in range(0,len(xs)):\n",
    "        A =[xs[i]-a,ys[i]-b]\n",
    "        xy=np.array(np.matmul(A,R))\n",
    "        nx.append(xy[0])\n",
    "        ny.append(xy[1])\n",
    "    return(nx, ny)"
   ]
  },
  {
   "cell_type": "code",
   "execution_count": 10,
   "id": "17d45bfb",
   "metadata": {},
   "outputs": [],
   "source": [
    "def findBest(Tmax,G,p,q,a,CD):\n",
    "    t=0\n",
    "    Tmax = -Tmax\n",
    "    bestLength= 100000000000000000000.0\n",
    "    bestT = t\n",
    "    while t >= Tmax:\n",
    "        b = (q - G * (p**2) - t)/p\n",
    "        if p>0:\n",
    "            x =np.linspace(0, p, num=50)\n",
    "        elif p < 0:\n",
    "            x =np.linspace(p, 0, num=50)\n",
    "        lot = np.sqrt(1+(2*G*x + ((q-G*(p**2)-t)/p))**2)\n",
    "        lot = scipy.integrate.trapezoid(lot,x)\n",
    "        y= a*(lot) +(1-a)*(lot+CD+t)\n",
    "        length = y\n",
    "        if length < bestLength:\n",
    "            bestLength = length\n",
    "            bestT = t\n",
    "        t = t - 0.001 #last \n",
    "    return(bestLength,bestT)"
   ]
  },
  {
   "cell_type": "code",
   "execution_count": 11,
   "id": "1563badb",
   "metadata": {},
   "outputs": [],
   "source": [
    "def XYDeAngle (tmax,G,p,q,t):\n",
    "    x = np.linspace(0,p)\n",
    "    if p <0:\n",
    "        x = np.linspace(p,0)\n",
    "    b=(q - G*(p**2) -t)/p\n",
    "    y=G * x**2 + b*x + t\n",
    "    return (x,y)"
   ]
  },
  {
   "cell_type": "code",
   "execution_count": 12,
   "id": "a2e558bb",
   "metadata": {},
   "outputs": [],
   "source": [
    "def reAngle(xs, ys, theta, a,b):\n",
    "    nx =[]\n",
    "    ny=[]\n",
    "    R = [[np.cos(theta), -np.sin(theta)],[np.sin(theta), np.cos(theta)]]\n",
    "    inR = np.linalg.inv(R)\n",
    "    ab= [a,b]\n",
    "    for i in range(0, len(xs)):\n",
    "        Ap = [xs[i],ys[i]]\n",
    "        App = np.matmul(Ap,inR)\n",
    "        xy=np.array(np.add(App,ab))\n",
    "        nx.append(xy[0])\n",
    "        ny.append(xy[1])\n",
    "    return(nx, ny)"
   ]
  },
  {
   "cell_type": "code",
   "execution_count": 28,
   "id": "69fdfc05",
   "metadata": {},
   "outputs": [],
   "source": [
    "def drawArbor(arbor):\n",
    "    MainXs=[]\n",
    "    MainYs=[]\n",
    "    LateralXs=[]\n",
    "    LateralYs=[]\n",
    "    optX =[]\n",
    "    optY=[]\n",
    "    for node in arbor.nodes():\n",
    "        x, y = arbor.nodes[node]['coordinate']\n",
    "        if 'main root base' == arbor.nodes[node]['label']:\n",
    "            baseX, baseY = x,y\n",
    "        elif 'main root' == arbor.nodes[node]['label']:\n",
    "            MainXs.append(x)\n",
    "            MainYs.append(y)\n",
    "        elif 'optimal' == arbor.nodes[node]['label']:\n",
    "            optX.append(x)\n",
    "            optY.append(y)\n",
    "        else:\n",
    "            LateralXs.append(x)\n",
    "            LateralYs.append(y)\n",
    "    node_mainBase = go.Scatter(x =[baseX], y = [baseY], mode='markers', name= 'main root base')\n",
    "    node_main = go.Scatter(x = MainXs, y = MainYs, mode = 'markers', name = 'main root points')\n",
    "    node_lateral = go.Scatter(x = LateralXs, y =LateralYs, mode = 'markers', name = 'lateral root points')\n",
    "    node_opt = go.Scatter(x=optX, y= optY, mode= 'markers', name = 'optimal connections')\n",
    "    MainXs = []\n",
    "    MainYs = []\n",
    "    LateralXs = []\n",
    "    LateralYs = []\n",
    "    for edge in arbor.edges():\n",
    "        if 'main root' == arbor.edges[edge]['label']:\n",
    "            x0, y0 = arbor.nodes[edge[0]]['coordinate']\n",
    "            x1, y1 = arbor.nodes[edge[1]]['coordinate']\n",
    "            MainXs.append(x0)\n",
    "            MainXs.append(x1)\n",
    "            MainXs.append(None)\n",
    "            MainYs.append(y0)\n",
    "            MainYs.append(y1)\n",
    "            MainYs.append(None)\n",
    "        elif 0 != arbor.edges[edge]['G']:\n",
    "            xs = arbor.edges[edge]['xs']\n",
    "            ys = arbor.edges[edge]['ys']\n",
    "            for x in xs:\n",
    "                LateralXs.append(x)\n",
    "            LateralXs.append(None)\n",
    "            for y in ys:\n",
    "                LateralYs.append(y)\n",
    "            LateralYs.append(None)\n",
    "        else:\n",
    "            x0, y0 = arbor.nodes[edge[0]]['coordinate']\n",
    "            x1, y1 = arbor.nodes[edge[1]]['coordinate']\n",
    "            LateralXs.append(x0)\n",
    "            LateralXs.append(x1)\n",
    "            LateralXs.append(None)\n",
    "            LateralYs.append(y0)\n",
    "            LateralYs.append(y1)\n",
    "            LateralYs.append(None)\n",
    "    edge_main = go.Scatter(x = MainXs, y =MainYs, mode = 'lines', name ='main root')\n",
    "    edge_lateral = go.Scatter(x = LateralXs, y= LateralYs, mode='lines', name = 'lateral root')\n",
    "    Array = [node_mainBase,node_main, node_opt, node_lateral,edge_main,edge_lateral]\n",
    "    return Array\n",
    "    # arbor is a networkx graph\n",
    "    # draw the arbor in plotly"
   ]
  },
  {
   "cell_type": "code",
   "execution_count": 16,
   "id": "94e045e7",
   "metadata": {},
   "outputs": [],
   "source": [
    "def FileDraw(file,G,alpha):\n",
    "    Plant = readArborFile(file)\n",
    "    fig=go.Figure()\n",
    "    array = drawArbor(Plant)\n",
    "    for x in array:\n",
    "        fig.add_trace(x)\n",
    "    print(\"original\")\n",
    "    fig.show()\n",
    "    Plant2 = optimalArbor(Plant, G, alpha)\n",
    "    fig2 = go.Figure(drawArbor(Plant2))\n",
    "    array = drawArbor(Plant2)\n",
    "    for x in array:\n",
    "        fig.add_trace(x)\n",
    "    print(\"optimal given: \", G, \" \", alpha)\n",
    "    fig2.show()\n",
    "    print(\"optimal and original super imposed given: \",G, \", \", alpha )\n",
    "    fig.show()"
   ]
  },
  {
   "cell_type": "code",
   "execution_count": 15,
   "id": "5a75e4bf",
   "metadata": {},
   "outputs": [],
   "source": [
    "def supperImpose(file,G,alpha):\n",
    "    Plant = readArborFile(file)\n",
    "    fig=go.Figure()\n",
    "    array = drawArbor(Plant)\n",
    "    for x in array:\n",
    "        fig.add_trace(x)\n",
    "    Plant2 = optimalArbor(Plant, G, alpha)\n",
    "    array = drawArbor(Plant2)\n",
    "    for x in array:\n",
    "        fig.add_trace(x)\n",
    "    print(\"optimal and original super imposed given: G=\",G, \", alpha=\", alpha )\n",
    "    fig.show()"
   ]
  },
  {
   "cell_type": "code",
   "execution_count": 189,
   "id": "32b9d6ac",
   "metadata": {},
   "outputs": [
    {
     "name": "stdout",
     "output_type": "stream",
     "text": [
      "original\n"
     ]
    },
    {
     "data": {
      "application/vnd.plotly.v1+json": {
       "config": {
        "plotlyServerURL": "https://plot.ly"
       },
       "data": [
        {
         "mode": "markers",
         "name": "main root base",
         "type": "scatter",
         "x": [
          7.014674
         ],
         "y": [
          4.083105
         ]
        },
        {
         "mode": "markers",
         "name": "main root points",
         "type": "scatter",
         "x": [
          7.068931,
          7.097697,
          7.102405,
          7.096509,
          7.078003,
          7.057387,
          7.064473,
          7.056801,
          7.045027,
          7.03578,
          7.053914,
          7.058697,
          7.050602,
          7.021744
         ],
         "y": [
          4.391064,
          4.580238,
          4.699361,
          4.817372,
          4.93411,
          5.050687,
          5.168109,
          5.286132,
          5.443573,
          5.623435,
          5.801408,
          5.991669,
          6.214376,
          6.799064
         ]
        },
        {
         "mode": "markers",
         "name": "optimal connections",
         "type": "scatter",
         "x": [],
         "y": []
        },
        {
         "mode": "markers",
         "name": "lateral root points",
         "type": "scatter",
         "x": [
          7.03248,
          6.921742,
          6.763005,
          7.065898,
          7.312281,
          7.439422,
          7.125593,
          7.182462,
          7.287631
         ],
         "y": [
          4.136673,
          4.219422,
          4.337383,
          4.198863,
          4.231294,
          4.27106,
          4.363359,
          4.368823,
          4.43411
         ]
        },
        {
         "mode": "lines",
         "name": "main root",
         "type": "scatter",
         "x": [
          7.014674,
          7.068931,
          null,
          7.068931,
          7.097697,
          null,
          7.097697,
          7.102405,
          null,
          7.102405,
          7.096509,
          null,
          7.096509,
          7.078003,
          null,
          7.078003,
          7.057387,
          null,
          7.057387,
          7.064473,
          null,
          7.064473,
          7.056801,
          null,
          7.056801,
          7.045027,
          null,
          7.045027,
          7.03578,
          null,
          7.03578,
          7.053914,
          null,
          7.053914,
          7.058697,
          null,
          7.058697,
          7.050602,
          null,
          7.050602,
          7.021744,
          null
         ],
         "y": [
          4.083105,
          4.391064,
          null,
          4.391064,
          4.580238,
          null,
          4.580238,
          4.699361,
          null,
          4.699361,
          4.817372,
          null,
          4.817372,
          4.93411,
          null,
          4.93411,
          5.050687,
          null,
          5.050687,
          5.168109,
          null,
          5.168109,
          5.286132,
          null,
          5.286132,
          5.443573,
          null,
          5.443573,
          5.623435,
          null,
          5.623435,
          5.801408,
          null,
          5.801408,
          5.991669,
          null,
          5.991669,
          6.214376,
          null,
          6.214376,
          6.799064,
          null
         ]
        },
        {
         "mode": "lines",
         "name": "lateral root",
         "type": "scatter",
         "x": [
          7.03248,
          6.921742,
          null,
          6.921742,
          6.763005,
          null,
          7.065898,
          7.312281,
          null,
          7.312281,
          7.439422,
          null,
          7.125593,
          7.182462,
          null,
          7.182462,
          7.287631,
          null
         ],
         "y": [
          4.136673,
          4.219422,
          null,
          4.219422,
          4.337383,
          null,
          4.198863,
          4.231294,
          null,
          4.231294,
          4.27106,
          null,
          4.363359,
          4.368823,
          null,
          4.368823,
          4.43411,
          null
         ]
        }
       ],
       "layout": {
        "template": {
         "data": {
          "bar": [
           {
            "error_x": {
             "color": "#2a3f5f"
            },
            "error_y": {
             "color": "#2a3f5f"
            },
            "marker": {
             "line": {
              "color": "#E5ECF6",
              "width": 0.5
             },
             "pattern": {
              "fillmode": "overlay",
              "size": 10,
              "solidity": 0.2
             }
            },
            "type": "bar"
           }
          ],
          "barpolar": [
           {
            "marker": {
             "line": {
              "color": "#E5ECF6",
              "width": 0.5
             },
             "pattern": {
              "fillmode": "overlay",
              "size": 10,
              "solidity": 0.2
             }
            },
            "type": "barpolar"
           }
          ],
          "carpet": [
           {
            "aaxis": {
             "endlinecolor": "#2a3f5f",
             "gridcolor": "white",
             "linecolor": "white",
             "minorgridcolor": "white",
             "startlinecolor": "#2a3f5f"
            },
            "baxis": {
             "endlinecolor": "#2a3f5f",
             "gridcolor": "white",
             "linecolor": "white",
             "minorgridcolor": "white",
             "startlinecolor": "#2a3f5f"
            },
            "type": "carpet"
           }
          ],
          "choropleth": [
           {
            "colorbar": {
             "outlinewidth": 0,
             "ticks": ""
            },
            "type": "choropleth"
           }
          ],
          "contour": [
           {
            "colorbar": {
             "outlinewidth": 0,
             "ticks": ""
            },
            "colorscale": [
             [
              0,
              "#0d0887"
             ],
             [
              0.1111111111111111,
              "#46039f"
             ],
             [
              0.2222222222222222,
              "#7201a8"
             ],
             [
              0.3333333333333333,
              "#9c179e"
             ],
             [
              0.4444444444444444,
              "#bd3786"
             ],
             [
              0.5555555555555556,
              "#d8576b"
             ],
             [
              0.6666666666666666,
              "#ed7953"
             ],
             [
              0.7777777777777778,
              "#fb9f3a"
             ],
             [
              0.8888888888888888,
              "#fdca26"
             ],
             [
              1,
              "#f0f921"
             ]
            ],
            "type": "contour"
           }
          ],
          "contourcarpet": [
           {
            "colorbar": {
             "outlinewidth": 0,
             "ticks": ""
            },
            "type": "contourcarpet"
           }
          ],
          "heatmap": [
           {
            "colorbar": {
             "outlinewidth": 0,
             "ticks": ""
            },
            "colorscale": [
             [
              0,
              "#0d0887"
             ],
             [
              0.1111111111111111,
              "#46039f"
             ],
             [
              0.2222222222222222,
              "#7201a8"
             ],
             [
              0.3333333333333333,
              "#9c179e"
             ],
             [
              0.4444444444444444,
              "#bd3786"
             ],
             [
              0.5555555555555556,
              "#d8576b"
             ],
             [
              0.6666666666666666,
              "#ed7953"
             ],
             [
              0.7777777777777778,
              "#fb9f3a"
             ],
             [
              0.8888888888888888,
              "#fdca26"
             ],
             [
              1,
              "#f0f921"
             ]
            ],
            "type": "heatmap"
           }
          ],
          "heatmapgl": [
           {
            "colorbar": {
             "outlinewidth": 0,
             "ticks": ""
            },
            "colorscale": [
             [
              0,
              "#0d0887"
             ],
             [
              0.1111111111111111,
              "#46039f"
             ],
             [
              0.2222222222222222,
              "#7201a8"
             ],
             [
              0.3333333333333333,
              "#9c179e"
             ],
             [
              0.4444444444444444,
              "#bd3786"
             ],
             [
              0.5555555555555556,
              "#d8576b"
             ],
             [
              0.6666666666666666,
              "#ed7953"
             ],
             [
              0.7777777777777778,
              "#fb9f3a"
             ],
             [
              0.8888888888888888,
              "#fdca26"
             ],
             [
              1,
              "#f0f921"
             ]
            ],
            "type": "heatmapgl"
           }
          ],
          "histogram": [
           {
            "marker": {
             "pattern": {
              "fillmode": "overlay",
              "size": 10,
              "solidity": 0.2
             }
            },
            "type": "histogram"
           }
          ],
          "histogram2d": [
           {
            "colorbar": {
             "outlinewidth": 0,
             "ticks": ""
            },
            "colorscale": [
             [
              0,
              "#0d0887"
             ],
             [
              0.1111111111111111,
              "#46039f"
             ],
             [
              0.2222222222222222,
              "#7201a8"
             ],
             [
              0.3333333333333333,
              "#9c179e"
             ],
             [
              0.4444444444444444,
              "#bd3786"
             ],
             [
              0.5555555555555556,
              "#d8576b"
             ],
             [
              0.6666666666666666,
              "#ed7953"
             ],
             [
              0.7777777777777778,
              "#fb9f3a"
             ],
             [
              0.8888888888888888,
              "#fdca26"
             ],
             [
              1,
              "#f0f921"
             ]
            ],
            "type": "histogram2d"
           }
          ],
          "histogram2dcontour": [
           {
            "colorbar": {
             "outlinewidth": 0,
             "ticks": ""
            },
            "colorscale": [
             [
              0,
              "#0d0887"
             ],
             [
              0.1111111111111111,
              "#46039f"
             ],
             [
              0.2222222222222222,
              "#7201a8"
             ],
             [
              0.3333333333333333,
              "#9c179e"
             ],
             [
              0.4444444444444444,
              "#bd3786"
             ],
             [
              0.5555555555555556,
              "#d8576b"
             ],
             [
              0.6666666666666666,
              "#ed7953"
             ],
             [
              0.7777777777777778,
              "#fb9f3a"
             ],
             [
              0.8888888888888888,
              "#fdca26"
             ],
             [
              1,
              "#f0f921"
             ]
            ],
            "type": "histogram2dcontour"
           }
          ],
          "mesh3d": [
           {
            "colorbar": {
             "outlinewidth": 0,
             "ticks": ""
            },
            "type": "mesh3d"
           }
          ],
          "parcoords": [
           {
            "line": {
             "colorbar": {
              "outlinewidth": 0,
              "ticks": ""
             }
            },
            "type": "parcoords"
           }
          ],
          "pie": [
           {
            "automargin": true,
            "type": "pie"
           }
          ],
          "scatter": [
           {
            "fillpattern": {
             "fillmode": "overlay",
             "size": 10,
             "solidity": 0.2
            },
            "type": "scatter"
           }
          ],
          "scatter3d": [
           {
            "line": {
             "colorbar": {
              "outlinewidth": 0,
              "ticks": ""
             }
            },
            "marker": {
             "colorbar": {
              "outlinewidth": 0,
              "ticks": ""
             }
            },
            "type": "scatter3d"
           }
          ],
          "scattercarpet": [
           {
            "marker": {
             "colorbar": {
              "outlinewidth": 0,
              "ticks": ""
             }
            },
            "type": "scattercarpet"
           }
          ],
          "scattergeo": [
           {
            "marker": {
             "colorbar": {
              "outlinewidth": 0,
              "ticks": ""
             }
            },
            "type": "scattergeo"
           }
          ],
          "scattergl": [
           {
            "marker": {
             "colorbar": {
              "outlinewidth": 0,
              "ticks": ""
             }
            },
            "type": "scattergl"
           }
          ],
          "scattermapbox": [
           {
            "marker": {
             "colorbar": {
              "outlinewidth": 0,
              "ticks": ""
             }
            },
            "type": "scattermapbox"
           }
          ],
          "scatterpolar": [
           {
            "marker": {
             "colorbar": {
              "outlinewidth": 0,
              "ticks": ""
             }
            },
            "type": "scatterpolar"
           }
          ],
          "scatterpolargl": [
           {
            "marker": {
             "colorbar": {
              "outlinewidth": 0,
              "ticks": ""
             }
            },
            "type": "scatterpolargl"
           }
          ],
          "scatterternary": [
           {
            "marker": {
             "colorbar": {
              "outlinewidth": 0,
              "ticks": ""
             }
            },
            "type": "scatterternary"
           }
          ],
          "surface": [
           {
            "colorbar": {
             "outlinewidth": 0,
             "ticks": ""
            },
            "colorscale": [
             [
              0,
              "#0d0887"
             ],
             [
              0.1111111111111111,
              "#46039f"
             ],
             [
              0.2222222222222222,
              "#7201a8"
             ],
             [
              0.3333333333333333,
              "#9c179e"
             ],
             [
              0.4444444444444444,
              "#bd3786"
             ],
             [
              0.5555555555555556,
              "#d8576b"
             ],
             [
              0.6666666666666666,
              "#ed7953"
             ],
             [
              0.7777777777777778,
              "#fb9f3a"
             ],
             [
              0.8888888888888888,
              "#fdca26"
             ],
             [
              1,
              "#f0f921"
             ]
            ],
            "type": "surface"
           }
          ],
          "table": [
           {
            "cells": {
             "fill": {
              "color": "#EBF0F8"
             },
             "line": {
              "color": "white"
             }
            },
            "header": {
             "fill": {
              "color": "#C8D4E3"
             },
             "line": {
              "color": "white"
             }
            },
            "type": "table"
           }
          ]
         },
         "layout": {
          "annotationdefaults": {
           "arrowcolor": "#2a3f5f",
           "arrowhead": 0,
           "arrowwidth": 1
          },
          "autotypenumbers": "strict",
          "coloraxis": {
           "colorbar": {
            "outlinewidth": 0,
            "ticks": ""
           }
          },
          "colorscale": {
           "diverging": [
            [
             0,
             "#8e0152"
            ],
            [
             0.1,
             "#c51b7d"
            ],
            [
             0.2,
             "#de77ae"
            ],
            [
             0.3,
             "#f1b6da"
            ],
            [
             0.4,
             "#fde0ef"
            ],
            [
             0.5,
             "#f7f7f7"
            ],
            [
             0.6,
             "#e6f5d0"
            ],
            [
             0.7,
             "#b8e186"
            ],
            [
             0.8,
             "#7fbc41"
            ],
            [
             0.9,
             "#4d9221"
            ],
            [
             1,
             "#276419"
            ]
           ],
           "sequential": [
            [
             0,
             "#0d0887"
            ],
            [
             0.1111111111111111,
             "#46039f"
            ],
            [
             0.2222222222222222,
             "#7201a8"
            ],
            [
             0.3333333333333333,
             "#9c179e"
            ],
            [
             0.4444444444444444,
             "#bd3786"
            ],
            [
             0.5555555555555556,
             "#d8576b"
            ],
            [
             0.6666666666666666,
             "#ed7953"
            ],
            [
             0.7777777777777778,
             "#fb9f3a"
            ],
            [
             0.8888888888888888,
             "#fdca26"
            ],
            [
             1,
             "#f0f921"
            ]
           ],
           "sequentialminus": [
            [
             0,
             "#0d0887"
            ],
            [
             0.1111111111111111,
             "#46039f"
            ],
            [
             0.2222222222222222,
             "#7201a8"
            ],
            [
             0.3333333333333333,
             "#9c179e"
            ],
            [
             0.4444444444444444,
             "#bd3786"
            ],
            [
             0.5555555555555556,
             "#d8576b"
            ],
            [
             0.6666666666666666,
             "#ed7953"
            ],
            [
             0.7777777777777778,
             "#fb9f3a"
            ],
            [
             0.8888888888888888,
             "#fdca26"
            ],
            [
             1,
             "#f0f921"
            ]
           ]
          },
          "colorway": [
           "#636efa",
           "#EF553B",
           "#00cc96",
           "#ab63fa",
           "#FFA15A",
           "#19d3f3",
           "#FF6692",
           "#B6E880",
           "#FF97FF",
           "#FECB52"
          ],
          "font": {
           "color": "#2a3f5f"
          },
          "geo": {
           "bgcolor": "white",
           "lakecolor": "white",
           "landcolor": "#E5ECF6",
           "showlakes": true,
           "showland": true,
           "subunitcolor": "white"
          },
          "hoverlabel": {
           "align": "left"
          },
          "hovermode": "closest",
          "mapbox": {
           "style": "light"
          },
          "paper_bgcolor": "white",
          "plot_bgcolor": "#E5ECF6",
          "polar": {
           "angularaxis": {
            "gridcolor": "white",
            "linecolor": "white",
            "ticks": ""
           },
           "bgcolor": "#E5ECF6",
           "radialaxis": {
            "gridcolor": "white",
            "linecolor": "white",
            "ticks": ""
           }
          },
          "scene": {
           "xaxis": {
            "backgroundcolor": "#E5ECF6",
            "gridcolor": "white",
            "gridwidth": 2,
            "linecolor": "white",
            "showbackground": true,
            "ticks": "",
            "zerolinecolor": "white"
           },
           "yaxis": {
            "backgroundcolor": "#E5ECF6",
            "gridcolor": "white",
            "gridwidth": 2,
            "linecolor": "white",
            "showbackground": true,
            "ticks": "",
            "zerolinecolor": "white"
           },
           "zaxis": {
            "backgroundcolor": "#E5ECF6",
            "gridcolor": "white",
            "gridwidth": 2,
            "linecolor": "white",
            "showbackground": true,
            "ticks": "",
            "zerolinecolor": "white"
           }
          },
          "shapedefaults": {
           "line": {
            "color": "#2a3f5f"
           }
          },
          "ternary": {
           "aaxis": {
            "gridcolor": "white",
            "linecolor": "white",
            "ticks": ""
           },
           "baxis": {
            "gridcolor": "white",
            "linecolor": "white",
            "ticks": ""
           },
           "bgcolor": "#E5ECF6",
           "caxis": {
            "gridcolor": "white",
            "linecolor": "white",
            "ticks": ""
           }
          },
          "title": {
           "x": 0.05
          },
          "xaxis": {
           "automargin": true,
           "gridcolor": "white",
           "linecolor": "white",
           "ticks": "",
           "title": {
            "standoff": 15
           },
           "zerolinecolor": "white",
           "zerolinewidth": 2
          },
          "yaxis": {
           "automargin": true,
           "gridcolor": "white",
           "linecolor": "white",
           "ticks": "",
           "title": {
            "standoff": 15
           },
           "zerolinecolor": "white",
           "zerolinewidth": 2
          }
         }
        }
       }
      },
      "text/html": [
       "<div>                            <div id=\"7073973a-b027-4893-abcf-f3c107e4c360\" class=\"plotly-graph-div\" style=\"height:525px; width:100%;\"></div>            <script type=\"text/javascript\">                require([\"plotly\"], function(Plotly) {                    window.PLOTLYENV=window.PLOTLYENV || {};                                    if (document.getElementById(\"7073973a-b027-4893-abcf-f3c107e4c360\")) {                    Plotly.newPlot(                        \"7073973a-b027-4893-abcf-f3c107e4c360\",                        [{\"mode\":\"markers\",\"name\":\"main root base\",\"x\":[7.014674],\"y\":[4.083105],\"type\":\"scatter\"},{\"mode\":\"markers\",\"name\":\"main root points\",\"x\":[7.068931,7.097697,7.102405,7.096509,7.078003,7.057387,7.064473,7.056801,7.045027,7.03578,7.053914,7.058697,7.050602,7.021744],\"y\":[4.391064,4.580238,4.699361,4.817372,4.93411,5.050687,5.168109,5.286132,5.443573,5.623435,5.801408,5.991669,6.214376,6.799064],\"type\":\"scatter\"},{\"mode\":\"markers\",\"name\":\"optimal connections\",\"x\":[],\"y\":[],\"type\":\"scatter\"},{\"mode\":\"markers\",\"name\":\"lateral root points\",\"x\":[7.03248,6.921742,6.763005,7.065898,7.312281,7.439422,7.125593,7.182462,7.287631],\"y\":[4.136673,4.219422,4.337383,4.198863,4.231294,4.27106,4.363359,4.368823,4.43411],\"type\":\"scatter\"},{\"mode\":\"lines\",\"name\":\"main root\",\"x\":[7.014674,7.068931,null,7.068931,7.097697,null,7.097697,7.102405,null,7.102405,7.096509,null,7.096509,7.078003,null,7.078003,7.057387,null,7.057387,7.064473,null,7.064473,7.056801,null,7.056801,7.045027,null,7.045027,7.03578,null,7.03578,7.053914,null,7.053914,7.058697,null,7.058697,7.050602,null,7.050602,7.021744,null],\"y\":[4.083105,4.391064,null,4.391064,4.580238,null,4.580238,4.699361,null,4.699361,4.817372,null,4.817372,4.93411,null,4.93411,5.050687,null,5.050687,5.168109,null,5.168109,5.286132,null,5.286132,5.443573,null,5.443573,5.623435,null,5.623435,5.801408,null,5.801408,5.991669,null,5.991669,6.214376,null,6.214376,6.799064,null],\"type\":\"scatter\"},{\"mode\":\"lines\",\"name\":\"lateral root\",\"x\":[7.03248,6.921742,null,6.921742,6.763005,null,7.065898,7.312281,null,7.312281,7.439422,null,7.125593,7.182462,null,7.182462,7.287631,null],\"y\":[4.136673,4.219422,null,4.219422,4.337383,null,4.198863,4.231294,null,4.231294,4.27106,null,4.363359,4.368823,null,4.368823,4.43411,null],\"type\":\"scatter\"}],                        {\"template\":{\"data\":{\"histogram2dcontour\":[{\"type\":\"histogram2dcontour\",\"colorbar\":{\"outlinewidth\":0,\"ticks\":\"\"},\"colorscale\":[[0.0,\"#0d0887\"],[0.1111111111111111,\"#46039f\"],[0.2222222222222222,\"#7201a8\"],[0.3333333333333333,\"#9c179e\"],[0.4444444444444444,\"#bd3786\"],[0.5555555555555556,\"#d8576b\"],[0.6666666666666666,\"#ed7953\"],[0.7777777777777778,\"#fb9f3a\"],[0.8888888888888888,\"#fdca26\"],[1.0,\"#f0f921\"]]}],\"choropleth\":[{\"type\":\"choropleth\",\"colorbar\":{\"outlinewidth\":0,\"ticks\":\"\"}}],\"histogram2d\":[{\"type\":\"histogram2d\",\"colorbar\":{\"outlinewidth\":0,\"ticks\":\"\"},\"colorscale\":[[0.0,\"#0d0887\"],[0.1111111111111111,\"#46039f\"],[0.2222222222222222,\"#7201a8\"],[0.3333333333333333,\"#9c179e\"],[0.4444444444444444,\"#bd3786\"],[0.5555555555555556,\"#d8576b\"],[0.6666666666666666,\"#ed7953\"],[0.7777777777777778,\"#fb9f3a\"],[0.8888888888888888,\"#fdca26\"],[1.0,\"#f0f921\"]]}],\"heatmap\":[{\"type\":\"heatmap\",\"colorbar\":{\"outlinewidth\":0,\"ticks\":\"\"},\"colorscale\":[[0.0,\"#0d0887\"],[0.1111111111111111,\"#46039f\"],[0.2222222222222222,\"#7201a8\"],[0.3333333333333333,\"#9c179e\"],[0.4444444444444444,\"#bd3786\"],[0.5555555555555556,\"#d8576b\"],[0.6666666666666666,\"#ed7953\"],[0.7777777777777778,\"#fb9f3a\"],[0.8888888888888888,\"#fdca26\"],[1.0,\"#f0f921\"]]}],\"heatmapgl\":[{\"type\":\"heatmapgl\",\"colorbar\":{\"outlinewidth\":0,\"ticks\":\"\"},\"colorscale\":[[0.0,\"#0d0887\"],[0.1111111111111111,\"#46039f\"],[0.2222222222222222,\"#7201a8\"],[0.3333333333333333,\"#9c179e\"],[0.4444444444444444,\"#bd3786\"],[0.5555555555555556,\"#d8576b\"],[0.6666666666666666,\"#ed7953\"],[0.7777777777777778,\"#fb9f3a\"],[0.8888888888888888,\"#fdca26\"],[1.0,\"#f0f921\"]]}],\"contourcarpet\":[{\"type\":\"contourcarpet\",\"colorbar\":{\"outlinewidth\":0,\"ticks\":\"\"}}],\"contour\":[{\"type\":\"contour\",\"colorbar\":{\"outlinewidth\":0,\"ticks\":\"\"},\"colorscale\":[[0.0,\"#0d0887\"],[0.1111111111111111,\"#46039f\"],[0.2222222222222222,\"#7201a8\"],[0.3333333333333333,\"#9c179e\"],[0.4444444444444444,\"#bd3786\"],[0.5555555555555556,\"#d8576b\"],[0.6666666666666666,\"#ed7953\"],[0.7777777777777778,\"#fb9f3a\"],[0.8888888888888888,\"#fdca26\"],[1.0,\"#f0f921\"]]}],\"surface\":[{\"type\":\"surface\",\"colorbar\":{\"outlinewidth\":0,\"ticks\":\"\"},\"colorscale\":[[0.0,\"#0d0887\"],[0.1111111111111111,\"#46039f\"],[0.2222222222222222,\"#7201a8\"],[0.3333333333333333,\"#9c179e\"],[0.4444444444444444,\"#bd3786\"],[0.5555555555555556,\"#d8576b\"],[0.6666666666666666,\"#ed7953\"],[0.7777777777777778,\"#fb9f3a\"],[0.8888888888888888,\"#fdca26\"],[1.0,\"#f0f921\"]]}],\"mesh3d\":[{\"type\":\"mesh3d\",\"colorbar\":{\"outlinewidth\":0,\"ticks\":\"\"}}],\"scatter\":[{\"fillpattern\":{\"fillmode\":\"overlay\",\"size\":10,\"solidity\":0.2},\"type\":\"scatter\"}],\"parcoords\":[{\"type\":\"parcoords\",\"line\":{\"colorbar\":{\"outlinewidth\":0,\"ticks\":\"\"}}}],\"scatterpolargl\":[{\"type\":\"scatterpolargl\",\"marker\":{\"colorbar\":{\"outlinewidth\":0,\"ticks\":\"\"}}}],\"bar\":[{\"error_x\":{\"color\":\"#2a3f5f\"},\"error_y\":{\"color\":\"#2a3f5f\"},\"marker\":{\"line\":{\"color\":\"#E5ECF6\",\"width\":0.5},\"pattern\":{\"fillmode\":\"overlay\",\"size\":10,\"solidity\":0.2}},\"type\":\"bar\"}],\"scattergeo\":[{\"type\":\"scattergeo\",\"marker\":{\"colorbar\":{\"outlinewidth\":0,\"ticks\":\"\"}}}],\"scatterpolar\":[{\"type\":\"scatterpolar\",\"marker\":{\"colorbar\":{\"outlinewidth\":0,\"ticks\":\"\"}}}],\"histogram\":[{\"marker\":{\"pattern\":{\"fillmode\":\"overlay\",\"size\":10,\"solidity\":0.2}},\"type\":\"histogram\"}],\"scattergl\":[{\"type\":\"scattergl\",\"marker\":{\"colorbar\":{\"outlinewidth\":0,\"ticks\":\"\"}}}],\"scatter3d\":[{\"type\":\"scatter3d\",\"line\":{\"colorbar\":{\"outlinewidth\":0,\"ticks\":\"\"}},\"marker\":{\"colorbar\":{\"outlinewidth\":0,\"ticks\":\"\"}}}],\"scattermapbox\":[{\"type\":\"scattermapbox\",\"marker\":{\"colorbar\":{\"outlinewidth\":0,\"ticks\":\"\"}}}],\"scatterternary\":[{\"type\":\"scatterternary\",\"marker\":{\"colorbar\":{\"outlinewidth\":0,\"ticks\":\"\"}}}],\"scattercarpet\":[{\"type\":\"scattercarpet\",\"marker\":{\"colorbar\":{\"outlinewidth\":0,\"ticks\":\"\"}}}],\"carpet\":[{\"aaxis\":{\"endlinecolor\":\"#2a3f5f\",\"gridcolor\":\"white\",\"linecolor\":\"white\",\"minorgridcolor\":\"white\",\"startlinecolor\":\"#2a3f5f\"},\"baxis\":{\"endlinecolor\":\"#2a3f5f\",\"gridcolor\":\"white\",\"linecolor\":\"white\",\"minorgridcolor\":\"white\",\"startlinecolor\":\"#2a3f5f\"},\"type\":\"carpet\"}],\"table\":[{\"cells\":{\"fill\":{\"color\":\"#EBF0F8\"},\"line\":{\"color\":\"white\"}},\"header\":{\"fill\":{\"color\":\"#C8D4E3\"},\"line\":{\"color\":\"white\"}},\"type\":\"table\"}],\"barpolar\":[{\"marker\":{\"line\":{\"color\":\"#E5ECF6\",\"width\":0.5},\"pattern\":{\"fillmode\":\"overlay\",\"size\":10,\"solidity\":0.2}},\"type\":\"barpolar\"}],\"pie\":[{\"automargin\":true,\"type\":\"pie\"}]},\"layout\":{\"autotypenumbers\":\"strict\",\"colorway\":[\"#636efa\",\"#EF553B\",\"#00cc96\",\"#ab63fa\",\"#FFA15A\",\"#19d3f3\",\"#FF6692\",\"#B6E880\",\"#FF97FF\",\"#FECB52\"],\"font\":{\"color\":\"#2a3f5f\"},\"hovermode\":\"closest\",\"hoverlabel\":{\"align\":\"left\"},\"paper_bgcolor\":\"white\",\"plot_bgcolor\":\"#E5ECF6\",\"polar\":{\"bgcolor\":\"#E5ECF6\",\"angularaxis\":{\"gridcolor\":\"white\",\"linecolor\":\"white\",\"ticks\":\"\"},\"radialaxis\":{\"gridcolor\":\"white\",\"linecolor\":\"white\",\"ticks\":\"\"}},\"ternary\":{\"bgcolor\":\"#E5ECF6\",\"aaxis\":{\"gridcolor\":\"white\",\"linecolor\":\"white\",\"ticks\":\"\"},\"baxis\":{\"gridcolor\":\"white\",\"linecolor\":\"white\",\"ticks\":\"\"},\"caxis\":{\"gridcolor\":\"white\",\"linecolor\":\"white\",\"ticks\":\"\"}},\"coloraxis\":{\"colorbar\":{\"outlinewidth\":0,\"ticks\":\"\"}},\"colorscale\":{\"sequential\":[[0.0,\"#0d0887\"],[0.1111111111111111,\"#46039f\"],[0.2222222222222222,\"#7201a8\"],[0.3333333333333333,\"#9c179e\"],[0.4444444444444444,\"#bd3786\"],[0.5555555555555556,\"#d8576b\"],[0.6666666666666666,\"#ed7953\"],[0.7777777777777778,\"#fb9f3a\"],[0.8888888888888888,\"#fdca26\"],[1.0,\"#f0f921\"]],\"sequentialminus\":[[0.0,\"#0d0887\"],[0.1111111111111111,\"#46039f\"],[0.2222222222222222,\"#7201a8\"],[0.3333333333333333,\"#9c179e\"],[0.4444444444444444,\"#bd3786\"],[0.5555555555555556,\"#d8576b\"],[0.6666666666666666,\"#ed7953\"],[0.7777777777777778,\"#fb9f3a\"],[0.8888888888888888,\"#fdca26\"],[1.0,\"#f0f921\"]],\"diverging\":[[0,\"#8e0152\"],[0.1,\"#c51b7d\"],[0.2,\"#de77ae\"],[0.3,\"#f1b6da\"],[0.4,\"#fde0ef\"],[0.5,\"#f7f7f7\"],[0.6,\"#e6f5d0\"],[0.7,\"#b8e186\"],[0.8,\"#7fbc41\"],[0.9,\"#4d9221\"],[1,\"#276419\"]]},\"xaxis\":{\"gridcolor\":\"white\",\"linecolor\":\"white\",\"ticks\":\"\",\"title\":{\"standoff\":15},\"zerolinecolor\":\"white\",\"automargin\":true,\"zerolinewidth\":2},\"yaxis\":{\"gridcolor\":\"white\",\"linecolor\":\"white\",\"ticks\":\"\",\"title\":{\"standoff\":15},\"zerolinecolor\":\"white\",\"automargin\":true,\"zerolinewidth\":2},\"scene\":{\"xaxis\":{\"backgroundcolor\":\"#E5ECF6\",\"gridcolor\":\"white\",\"linecolor\":\"white\",\"showbackground\":true,\"ticks\":\"\",\"zerolinecolor\":\"white\",\"gridwidth\":2},\"yaxis\":{\"backgroundcolor\":\"#E5ECF6\",\"gridcolor\":\"white\",\"linecolor\":\"white\",\"showbackground\":true,\"ticks\":\"\",\"zerolinecolor\":\"white\",\"gridwidth\":2},\"zaxis\":{\"backgroundcolor\":\"#E5ECF6\",\"gridcolor\":\"white\",\"linecolor\":\"white\",\"showbackground\":true,\"ticks\":\"\",\"zerolinecolor\":\"white\",\"gridwidth\":2}},\"shapedefaults\":{\"line\":{\"color\":\"#2a3f5f\"}},\"annotationdefaults\":{\"arrowcolor\":\"#2a3f5f\",\"arrowhead\":0,\"arrowwidth\":1},\"geo\":{\"bgcolor\":\"white\",\"landcolor\":\"#E5ECF6\",\"subunitcolor\":\"white\",\"showland\":true,\"showlakes\":true,\"lakecolor\":\"white\"},\"title\":{\"x\":0.05},\"mapbox\":{\"style\":\"light\"}}}},                        {\"responsive\": true}                    ).then(function(){\n",
       "                            \n",
       "var gd = document.getElementById('7073973a-b027-4893-abcf-f3c107e4c360');\n",
       "var x = new MutationObserver(function (mutations, observer) {{\n",
       "        var display = window.getComputedStyle(gd).display;\n",
       "        if (!display || display === 'none') {{\n",
       "            console.log([gd, 'removed!']);\n",
       "            Plotly.purge(gd);\n",
       "            observer.disconnect();\n",
       "        }}\n",
       "}});\n",
       "\n",
       "// Listen for the removal of the full notebook cells\n",
       "var notebookContainer = gd.closest('#notebook-container');\n",
       "if (notebookContainer) {{\n",
       "    x.observe(notebookContainer, {childList: true});\n",
       "}}\n",
       "\n",
       "// Listen for the clearing of the current output cell\n",
       "var outputEl = gd.closest('.output');\n",
       "if (outputEl) {{\n",
       "    x.observe(outputEl, {childList: true});\n",
       "}}\n",
       "\n",
       "                        })                };                });            </script>        </div>"
      ]
     },
     "metadata": {},
     "output_type": "display_data"
    },
    {
     "name": "stdout",
     "output_type": "stream",
     "text": [
      "optimal given:  1.7   0.2\n"
     ]
    },
    {
     "data": {
      "application/vnd.plotly.v1+json": {
       "config": {
        "plotlyServerURL": "https://plot.ly"
       },
       "data": [
        {
         "mode": "markers",
         "name": "main root base",
         "type": "scatter",
         "x": [
          7.014674
         ],
         "y": [
          4.083105
         ]
        },
        {
         "mode": "markers",
         "name": "main root points",
         "type": "scatter",
         "x": [
          7.068931,
          7.097697,
          7.102405,
          7.096509,
          7.078003,
          7.057387,
          7.064473,
          7.056801,
          7.045027,
          7.03578,
          7.053914,
          7.058697,
          7.050602,
          7.021744
         ],
         "y": [
          4.391064,
          4.580238,
          4.699361,
          4.817372,
          4.93411,
          5.050687,
          5.168109,
          5.286132,
          5.443573,
          5.623435,
          5.801408,
          5.991669,
          6.214376,
          6.799064
         ]
        },
        {
         "mode": "markers",
         "name": "optimal connections",
         "type": "scatter",
         "x": [
          7.01479581164407,
          7.01479581164407,
          7.068983405404603
         ],
         "y": [
          4.083796394513076,
          4.083796394513076,
          4.391408633943204
         ]
        },
        {
         "mode": "markers",
         "name": "lateral root points",
         "type": "scatter",
         "x": [
          6.763005,
          7.439422,
          7.287631
         ],
         "y": [
          4.337383,
          4.27106,
          4.43411
         ]
        },
        {
         "mode": "lines",
         "name": "main root",
         "type": "scatter",
         "x": [
          7.014674,
          7.068931,
          null,
          7.068931,
          7.097697,
          null,
          7.097697,
          7.102405,
          null,
          7.102405,
          7.096509,
          null,
          7.096509,
          7.078003,
          null,
          7.078003,
          7.057387,
          null,
          7.057387,
          7.064473,
          null,
          7.064473,
          7.056801,
          null,
          7.056801,
          7.045027,
          null,
          7.045027,
          7.03578,
          null,
          7.03578,
          7.053914,
          null,
          7.053914,
          7.058697,
          null,
          7.058697,
          7.050602,
          null,
          7.050602,
          7.021744,
          null
         ],
         "y": [
          4.083105,
          4.391064,
          null,
          4.391064,
          4.580238,
          null,
          4.580238,
          4.699361,
          null,
          4.699361,
          4.817372,
          null,
          4.817372,
          4.93411,
          null,
          4.93411,
          5.050687,
          null,
          5.050687,
          5.168109,
          null,
          5.168109,
          5.286132,
          null,
          5.286132,
          5.443573,
          null,
          5.443573,
          5.623435,
          null,
          5.623435,
          5.801408,
          null,
          5.801408,
          5.991669,
          null,
          5.991669,
          6.214376,
          null,
          6.214376,
          6.799064,
          null
         ]
        },
        {
         "mode": "lines",
         "name": "lateral root",
         "type": "scatter",
         "x": [
          6.763005,
          6.767640893556641,
          6.7722977327147875,
          6.776975517474437,
          6.781674247835591,
          6.786393923798248,
          6.791134545362409,
          6.795896112528075,
          6.8006786252952445,
          6.805482083663917,
          6.810306487634095,
          6.815151837205776,
          6.82001813237896,
          6.8249053731536495,
          6.829813559529843,
          6.8347426915075395,
          6.83969276908674,
          6.844663792267445,
          6.849655761049653,
          6.854668675433365,
          6.859702535418582,
          6.864757341005303,
          6.869833092193527,
          6.8749297889832555,
          6.8800474313744875,
          6.885186019367223,
          6.890345552961463,
          6.895526032157208,
          6.900727456954455,
          6.905949827353208,
          6.911193143353463,
          6.9164574049552225,
          6.921742612158487,
          6.927048764963254,
          6.932375863369526,
          6.937723907377301,
          6.94309289698658,
          6.948482832197364,
          6.953893713009651,
          6.959325539423442,
          6.964778311438737,
          6.970252029055536,
          6.975746692273839,
          6.981262301093646,
          6.986798855514957,
          6.992356355537772,
          6.99793480116209,
          7.003534192387913,
          7.009154529215239,
          7.01479581164407,
          null,
          7.01479581164407,
          7.022584434630748,
          7.030409608350428,
          7.038271332803109,
          7.046169607988789,
          7.0541044339074706,
          7.062075810559152,
          7.070083737943834,
          7.0781282160615175,
          7.086209244912201,
          7.0943268244958855,
          7.10248095481257,
          7.110671635862255,
          7.1188988676449405,
          7.127162650160627,
          7.135462983409314,
          7.143799867391001,
          7.152173302105689,
          7.160583287553378,
          7.169029823734067,
          7.177512910647757,
          7.186032548294447,
          7.194588736674138,
          7.203181475786829,
          7.211810765632521,
          7.220476606211213,
          7.229178997522907,
          7.2379179395676,
          7.246693432345294,
          7.255505475855989,
          7.264354070099684,
          7.27323921507638,
          7.282160910786077,
          7.291119157228773,
          7.300113954404471,
          7.309145302313169,
          7.318213200954868,
          7.327317650329567,
          7.336458650437266,
          7.345636201277967,
          7.354850302851668,
          7.364100955158369,
          7.373388158198071,
          7.382711911970773,
          7.3920722164764765,
          7.40146907171518,
          7.410902477686885,
          7.420372434391589,
          7.429878941829294,
          7.439422,
          null,
          7.068983405404603,
          7.073220836290795,
          7.077467632382065,
          7.081723793678414,
          7.0859893201798405,
          7.090264211886345,
          7.094548468797929,
          7.098842090914591,
          7.10314507823633,
          7.107457430763148,
          7.111779148495044,
          7.116110231432018,
          7.120450679574072,
          7.124800492921202,
          7.129159671473412,
          7.133528215230698,
          7.137906124193064,
          7.142293398360508,
          7.14669003773303,
          7.15109604231063,
          7.155511412093308,
          7.159936147081064,
          7.164370247273899,
          7.1688137126718114,
          7.173266543274803,
          7.177728739082872,
          7.18220030009602,
          7.186681226314246,
          7.1911715177375495,
          7.195671174365932,
          7.200180196199392,
          7.20469858323793,
          7.209226335481548,
          7.213763452930243,
          7.218309935584016,
          7.222865783442868,
          7.227430996506797,
          7.232005574775805,
          7.236589518249891,
          7.241182826929055,
          7.245785500813298,
          7.250397539902619,
          7.255018944197017,
          7.259649713696495,
          7.2642898484010505,
          7.268939348310684,
          7.273598213425395,
          7.278266443745186,
          7.2829440392700535,
          7.287631,
          null
         ],
         "y": [
          4.337383,
          4.329354504111266,
          4.321444894015951,
          4.313654169714055,
          4.305982331205579,
          4.298429378490521,
          4.290995311568883,
          4.283680130440665,
          4.276483835105865,
          4.269406425564485,
          4.262447901816524,
          4.2556082638619825,
          4.24888751170086,
          4.242285645333157,
          4.235802664758873,
          4.229438569978009,
          4.223193360990564,
          4.217067037796538,
          4.211059600395931,
          4.205171048788744,
          4.199401382974975,
          4.193750602954626,
          4.188218708727696,
          4.182805700294186,
          4.177511577654095,
          4.172336340807423,
          4.16727998975417,
          4.162342524494337,
          4.157523945027923,
          4.152824251354928,
          4.148243443475352,
          4.1437815213891955,
          4.139438485096459,
          4.135214334597141,
          4.1311090698912425,
          4.127122690978763,
          4.123255197859703,
          4.119506590534062,
          4.115876869001841,
          4.112366033263038,
          4.108974083317656,
          4.105701019165692,
          4.102546840807148,
          4.099511548242022,
          4.096595141470317,
          4.09379762049203,
          4.091118985307163,
          4.088559235915715,
          4.086118372317686,
          4.083796394513076,
          null,
          4.083796394513076,
          4.082639074033551,
          4.081689213000442,
          4.080946811413747,
          4.080411869273466,
          4.080084386579601,
          4.07996436333215,
          4.0800517995311125,
          4.080346695176491,
          4.0808490502682835,
          4.0815588648064915,
          4.0824761387911135,
          4.08360087222215,
          4.084933065099602,
          4.086472717423467,
          4.088219829193748,
          4.090174400410443,
          4.092336431073553,
          4.094705921183078,
          4.097282870739017,
          4.100067279741371,
          4.103059148190139,
          4.106258476085322,
          4.10966526342692,
          4.113279510214932,
          4.11710121644936,
          4.121130382130201,
          4.1253670072574575,
          4.129811091831128,
          4.1344626358512135,
          4.139321639317714,
          4.144388102230629,
          4.149662024589959,
          4.155143406395703,
          4.160832247647861,
          4.166728548346435,
          4.172832308491423,
          4.179143528082825,
          4.185662207120643,
          4.192388345604875,
          4.199321943535522,
          4.206463000912583,
          4.213811517736059,
          4.22136749400595,
          4.229130929722254,
          4.2371018248849746,
          4.245280179494109,
          4.253665993549658,
          4.262259267051622,
          4.27106,
          null,
          4.391408633943204,
          4.390801967632751,
          4.390256889770656,
          4.38977340035692,
          4.389351499391541,
          4.38899118687452,
          4.3886924628058575,
          4.388455327185552,
          4.3882797800136055,
          4.388165821290016,
          4.388113451014785,
          4.388122669187912,
          4.3881934758093974,
          4.38832587087924,
          4.388519854397441,
          4.388775426364,
          4.389092586778917,
          4.389471335642192,
          4.389911672953825,
          4.390413598713815,
          4.390977112922164,
          4.391602215578871,
          4.392288906683936,
          4.3930371862373585,
          4.3938470542391395,
          4.394718510689278,
          4.395651555587774,
          4.396646188934629,
          4.397702410729842,
          4.398820220973413,
          4.399999619665341,
          4.401240606805628,
          4.402543182394272,
          4.403907346431275,
          4.4053330989166355,
          4.406820439850353,
          4.40836936923243,
          4.409979887062865,
          4.411651993341657,
          4.413385688068807,
          4.4151809712443155,
          4.417037842868182,
          4.418956302940407,
          4.4209363514609885,
          4.422977988429929,
          4.4250812138472275,
          4.427246027712884,
          4.429472430026898,
          4.43176042078927,
          4.43411,
          null
         ]
        }
       ],
       "layout": {
        "template": {
         "data": {
          "bar": [
           {
            "error_x": {
             "color": "#2a3f5f"
            },
            "error_y": {
             "color": "#2a3f5f"
            },
            "marker": {
             "line": {
              "color": "#E5ECF6",
              "width": 0.5
             },
             "pattern": {
              "fillmode": "overlay",
              "size": 10,
              "solidity": 0.2
             }
            },
            "type": "bar"
           }
          ],
          "barpolar": [
           {
            "marker": {
             "line": {
              "color": "#E5ECF6",
              "width": 0.5
             },
             "pattern": {
              "fillmode": "overlay",
              "size": 10,
              "solidity": 0.2
             }
            },
            "type": "barpolar"
           }
          ],
          "carpet": [
           {
            "aaxis": {
             "endlinecolor": "#2a3f5f",
             "gridcolor": "white",
             "linecolor": "white",
             "minorgridcolor": "white",
             "startlinecolor": "#2a3f5f"
            },
            "baxis": {
             "endlinecolor": "#2a3f5f",
             "gridcolor": "white",
             "linecolor": "white",
             "minorgridcolor": "white",
             "startlinecolor": "#2a3f5f"
            },
            "type": "carpet"
           }
          ],
          "choropleth": [
           {
            "colorbar": {
             "outlinewidth": 0,
             "ticks": ""
            },
            "type": "choropleth"
           }
          ],
          "contour": [
           {
            "colorbar": {
             "outlinewidth": 0,
             "ticks": ""
            },
            "colorscale": [
             [
              0,
              "#0d0887"
             ],
             [
              0.1111111111111111,
              "#46039f"
             ],
             [
              0.2222222222222222,
              "#7201a8"
             ],
             [
              0.3333333333333333,
              "#9c179e"
             ],
             [
              0.4444444444444444,
              "#bd3786"
             ],
             [
              0.5555555555555556,
              "#d8576b"
             ],
             [
              0.6666666666666666,
              "#ed7953"
             ],
             [
              0.7777777777777778,
              "#fb9f3a"
             ],
             [
              0.8888888888888888,
              "#fdca26"
             ],
             [
              1,
              "#f0f921"
             ]
            ],
            "type": "contour"
           }
          ],
          "contourcarpet": [
           {
            "colorbar": {
             "outlinewidth": 0,
             "ticks": ""
            },
            "type": "contourcarpet"
           }
          ],
          "heatmap": [
           {
            "colorbar": {
             "outlinewidth": 0,
             "ticks": ""
            },
            "colorscale": [
             [
              0,
              "#0d0887"
             ],
             [
              0.1111111111111111,
              "#46039f"
             ],
             [
              0.2222222222222222,
              "#7201a8"
             ],
             [
              0.3333333333333333,
              "#9c179e"
             ],
             [
              0.4444444444444444,
              "#bd3786"
             ],
             [
              0.5555555555555556,
              "#d8576b"
             ],
             [
              0.6666666666666666,
              "#ed7953"
             ],
             [
              0.7777777777777778,
              "#fb9f3a"
             ],
             [
              0.8888888888888888,
              "#fdca26"
             ],
             [
              1,
              "#f0f921"
             ]
            ],
            "type": "heatmap"
           }
          ],
          "heatmapgl": [
           {
            "colorbar": {
             "outlinewidth": 0,
             "ticks": ""
            },
            "colorscale": [
             [
              0,
              "#0d0887"
             ],
             [
              0.1111111111111111,
              "#46039f"
             ],
             [
              0.2222222222222222,
              "#7201a8"
             ],
             [
              0.3333333333333333,
              "#9c179e"
             ],
             [
              0.4444444444444444,
              "#bd3786"
             ],
             [
              0.5555555555555556,
              "#d8576b"
             ],
             [
              0.6666666666666666,
              "#ed7953"
             ],
             [
              0.7777777777777778,
              "#fb9f3a"
             ],
             [
              0.8888888888888888,
              "#fdca26"
             ],
             [
              1,
              "#f0f921"
             ]
            ],
            "type": "heatmapgl"
           }
          ],
          "histogram": [
           {
            "marker": {
             "pattern": {
              "fillmode": "overlay",
              "size": 10,
              "solidity": 0.2
             }
            },
            "type": "histogram"
           }
          ],
          "histogram2d": [
           {
            "colorbar": {
             "outlinewidth": 0,
             "ticks": ""
            },
            "colorscale": [
             [
              0,
              "#0d0887"
             ],
             [
              0.1111111111111111,
              "#46039f"
             ],
             [
              0.2222222222222222,
              "#7201a8"
             ],
             [
              0.3333333333333333,
              "#9c179e"
             ],
             [
              0.4444444444444444,
              "#bd3786"
             ],
             [
              0.5555555555555556,
              "#d8576b"
             ],
             [
              0.6666666666666666,
              "#ed7953"
             ],
             [
              0.7777777777777778,
              "#fb9f3a"
             ],
             [
              0.8888888888888888,
              "#fdca26"
             ],
             [
              1,
              "#f0f921"
             ]
            ],
            "type": "histogram2d"
           }
          ],
          "histogram2dcontour": [
           {
            "colorbar": {
             "outlinewidth": 0,
             "ticks": ""
            },
            "colorscale": [
             [
              0,
              "#0d0887"
             ],
             [
              0.1111111111111111,
              "#46039f"
             ],
             [
              0.2222222222222222,
              "#7201a8"
             ],
             [
              0.3333333333333333,
              "#9c179e"
             ],
             [
              0.4444444444444444,
              "#bd3786"
             ],
             [
              0.5555555555555556,
              "#d8576b"
             ],
             [
              0.6666666666666666,
              "#ed7953"
             ],
             [
              0.7777777777777778,
              "#fb9f3a"
             ],
             [
              0.8888888888888888,
              "#fdca26"
             ],
             [
              1,
              "#f0f921"
             ]
            ],
            "type": "histogram2dcontour"
           }
          ],
          "mesh3d": [
           {
            "colorbar": {
             "outlinewidth": 0,
             "ticks": ""
            },
            "type": "mesh3d"
           }
          ],
          "parcoords": [
           {
            "line": {
             "colorbar": {
              "outlinewidth": 0,
              "ticks": ""
             }
            },
            "type": "parcoords"
           }
          ],
          "pie": [
           {
            "automargin": true,
            "type": "pie"
           }
          ],
          "scatter": [
           {
            "fillpattern": {
             "fillmode": "overlay",
             "size": 10,
             "solidity": 0.2
            },
            "type": "scatter"
           }
          ],
          "scatter3d": [
           {
            "line": {
             "colorbar": {
              "outlinewidth": 0,
              "ticks": ""
             }
            },
            "marker": {
             "colorbar": {
              "outlinewidth": 0,
              "ticks": ""
             }
            },
            "type": "scatter3d"
           }
          ],
          "scattercarpet": [
           {
            "marker": {
             "colorbar": {
              "outlinewidth": 0,
              "ticks": ""
             }
            },
            "type": "scattercarpet"
           }
          ],
          "scattergeo": [
           {
            "marker": {
             "colorbar": {
              "outlinewidth": 0,
              "ticks": ""
             }
            },
            "type": "scattergeo"
           }
          ],
          "scattergl": [
           {
            "marker": {
             "colorbar": {
              "outlinewidth": 0,
              "ticks": ""
             }
            },
            "type": "scattergl"
           }
          ],
          "scattermapbox": [
           {
            "marker": {
             "colorbar": {
              "outlinewidth": 0,
              "ticks": ""
             }
            },
            "type": "scattermapbox"
           }
          ],
          "scatterpolar": [
           {
            "marker": {
             "colorbar": {
              "outlinewidth": 0,
              "ticks": ""
             }
            },
            "type": "scatterpolar"
           }
          ],
          "scatterpolargl": [
           {
            "marker": {
             "colorbar": {
              "outlinewidth": 0,
              "ticks": ""
             }
            },
            "type": "scatterpolargl"
           }
          ],
          "scatterternary": [
           {
            "marker": {
             "colorbar": {
              "outlinewidth": 0,
              "ticks": ""
             }
            },
            "type": "scatterternary"
           }
          ],
          "surface": [
           {
            "colorbar": {
             "outlinewidth": 0,
             "ticks": ""
            },
            "colorscale": [
             [
              0,
              "#0d0887"
             ],
             [
              0.1111111111111111,
              "#46039f"
             ],
             [
              0.2222222222222222,
              "#7201a8"
             ],
             [
              0.3333333333333333,
              "#9c179e"
             ],
             [
              0.4444444444444444,
              "#bd3786"
             ],
             [
              0.5555555555555556,
              "#d8576b"
             ],
             [
              0.6666666666666666,
              "#ed7953"
             ],
             [
              0.7777777777777778,
              "#fb9f3a"
             ],
             [
              0.8888888888888888,
              "#fdca26"
             ],
             [
              1,
              "#f0f921"
             ]
            ],
            "type": "surface"
           }
          ],
          "table": [
           {
            "cells": {
             "fill": {
              "color": "#EBF0F8"
             },
             "line": {
              "color": "white"
             }
            },
            "header": {
             "fill": {
              "color": "#C8D4E3"
             },
             "line": {
              "color": "white"
             }
            },
            "type": "table"
           }
          ]
         },
         "layout": {
          "annotationdefaults": {
           "arrowcolor": "#2a3f5f",
           "arrowhead": 0,
           "arrowwidth": 1
          },
          "autotypenumbers": "strict",
          "coloraxis": {
           "colorbar": {
            "outlinewidth": 0,
            "ticks": ""
           }
          },
          "colorscale": {
           "diverging": [
            [
             0,
             "#8e0152"
            ],
            [
             0.1,
             "#c51b7d"
            ],
            [
             0.2,
             "#de77ae"
            ],
            [
             0.3,
             "#f1b6da"
            ],
            [
             0.4,
             "#fde0ef"
            ],
            [
             0.5,
             "#f7f7f7"
            ],
            [
             0.6,
             "#e6f5d0"
            ],
            [
             0.7,
             "#b8e186"
            ],
            [
             0.8,
             "#7fbc41"
            ],
            [
             0.9,
             "#4d9221"
            ],
            [
             1,
             "#276419"
            ]
           ],
           "sequential": [
            [
             0,
             "#0d0887"
            ],
            [
             0.1111111111111111,
             "#46039f"
            ],
            [
             0.2222222222222222,
             "#7201a8"
            ],
            [
             0.3333333333333333,
             "#9c179e"
            ],
            [
             0.4444444444444444,
             "#bd3786"
            ],
            [
             0.5555555555555556,
             "#d8576b"
            ],
            [
             0.6666666666666666,
             "#ed7953"
            ],
            [
             0.7777777777777778,
             "#fb9f3a"
            ],
            [
             0.8888888888888888,
             "#fdca26"
            ],
            [
             1,
             "#f0f921"
            ]
           ],
           "sequentialminus": [
            [
             0,
             "#0d0887"
            ],
            [
             0.1111111111111111,
             "#46039f"
            ],
            [
             0.2222222222222222,
             "#7201a8"
            ],
            [
             0.3333333333333333,
             "#9c179e"
            ],
            [
             0.4444444444444444,
             "#bd3786"
            ],
            [
             0.5555555555555556,
             "#d8576b"
            ],
            [
             0.6666666666666666,
             "#ed7953"
            ],
            [
             0.7777777777777778,
             "#fb9f3a"
            ],
            [
             0.8888888888888888,
             "#fdca26"
            ],
            [
             1,
             "#f0f921"
            ]
           ]
          },
          "colorway": [
           "#636efa",
           "#EF553B",
           "#00cc96",
           "#ab63fa",
           "#FFA15A",
           "#19d3f3",
           "#FF6692",
           "#B6E880",
           "#FF97FF",
           "#FECB52"
          ],
          "font": {
           "color": "#2a3f5f"
          },
          "geo": {
           "bgcolor": "white",
           "lakecolor": "white",
           "landcolor": "#E5ECF6",
           "showlakes": true,
           "showland": true,
           "subunitcolor": "white"
          },
          "hoverlabel": {
           "align": "left"
          },
          "hovermode": "closest",
          "mapbox": {
           "style": "light"
          },
          "paper_bgcolor": "white",
          "plot_bgcolor": "#E5ECF6",
          "polar": {
           "angularaxis": {
            "gridcolor": "white",
            "linecolor": "white",
            "ticks": ""
           },
           "bgcolor": "#E5ECF6",
           "radialaxis": {
            "gridcolor": "white",
            "linecolor": "white",
            "ticks": ""
           }
          },
          "scene": {
           "xaxis": {
            "backgroundcolor": "#E5ECF6",
            "gridcolor": "white",
            "gridwidth": 2,
            "linecolor": "white",
            "showbackground": true,
            "ticks": "",
            "zerolinecolor": "white"
           },
           "yaxis": {
            "backgroundcolor": "#E5ECF6",
            "gridcolor": "white",
            "gridwidth": 2,
            "linecolor": "white",
            "showbackground": true,
            "ticks": "",
            "zerolinecolor": "white"
           },
           "zaxis": {
            "backgroundcolor": "#E5ECF6",
            "gridcolor": "white",
            "gridwidth": 2,
            "linecolor": "white",
            "showbackground": true,
            "ticks": "",
            "zerolinecolor": "white"
           }
          },
          "shapedefaults": {
           "line": {
            "color": "#2a3f5f"
           }
          },
          "ternary": {
           "aaxis": {
            "gridcolor": "white",
            "linecolor": "white",
            "ticks": ""
           },
           "baxis": {
            "gridcolor": "white",
            "linecolor": "white",
            "ticks": ""
           },
           "bgcolor": "#E5ECF6",
           "caxis": {
            "gridcolor": "white",
            "linecolor": "white",
            "ticks": ""
           }
          },
          "title": {
           "x": 0.05
          },
          "xaxis": {
           "automargin": true,
           "gridcolor": "white",
           "linecolor": "white",
           "ticks": "",
           "title": {
            "standoff": 15
           },
           "zerolinecolor": "white",
           "zerolinewidth": 2
          },
          "yaxis": {
           "automargin": true,
           "gridcolor": "white",
           "linecolor": "white",
           "ticks": "",
           "title": {
            "standoff": 15
           },
           "zerolinecolor": "white",
           "zerolinewidth": 2
          }
         }
        }
       }
      },
      "text/html": [
       "<div>                            <div id=\"68d1686a-5958-461b-8eb5-f8d5bcac7517\" class=\"plotly-graph-div\" style=\"height:525px; width:100%;\"></div>            <script type=\"text/javascript\">                require([\"plotly\"], function(Plotly) {                    window.PLOTLYENV=window.PLOTLYENV || {};                                    if (document.getElementById(\"68d1686a-5958-461b-8eb5-f8d5bcac7517\")) {                    Plotly.newPlot(                        \"68d1686a-5958-461b-8eb5-f8d5bcac7517\",                        [{\"mode\":\"markers\",\"name\":\"main root base\",\"x\":[7.014674],\"y\":[4.083105],\"type\":\"scatter\"},{\"mode\":\"markers\",\"name\":\"main root points\",\"x\":[7.068931,7.097697,7.102405,7.096509,7.078003,7.057387,7.064473,7.056801,7.045027,7.03578,7.053914,7.058697,7.050602,7.021744],\"y\":[4.391064,4.580238,4.699361,4.817372,4.93411,5.050687,5.168109,5.286132,5.443573,5.623435,5.801408,5.991669,6.214376,6.799064],\"type\":\"scatter\"},{\"mode\":\"markers\",\"name\":\"optimal connections\",\"x\":[7.01479581164407,7.01479581164407,7.068983405404603],\"y\":[4.083796394513076,4.083796394513076,4.391408633943204],\"type\":\"scatter\"},{\"mode\":\"markers\",\"name\":\"lateral root points\",\"x\":[6.763005,7.439422,7.287631],\"y\":[4.337383,4.27106,4.43411],\"type\":\"scatter\"},{\"mode\":\"lines\",\"name\":\"main root\",\"x\":[7.014674,7.068931,null,7.068931,7.097697,null,7.097697,7.102405,null,7.102405,7.096509,null,7.096509,7.078003,null,7.078003,7.057387,null,7.057387,7.064473,null,7.064473,7.056801,null,7.056801,7.045027,null,7.045027,7.03578,null,7.03578,7.053914,null,7.053914,7.058697,null,7.058697,7.050602,null,7.050602,7.021744,null],\"y\":[4.083105,4.391064,null,4.391064,4.580238,null,4.580238,4.699361,null,4.699361,4.817372,null,4.817372,4.93411,null,4.93411,5.050687,null,5.050687,5.168109,null,5.168109,5.286132,null,5.286132,5.443573,null,5.443573,5.623435,null,5.623435,5.801408,null,5.801408,5.991669,null,5.991669,6.214376,null,6.214376,6.799064,null],\"type\":\"scatter\"},{\"mode\":\"lines\",\"name\":\"lateral root\",\"x\":[6.763005,6.767640893556641,6.7722977327147875,6.776975517474437,6.781674247835591,6.786393923798248,6.791134545362409,6.795896112528075,6.8006786252952445,6.805482083663917,6.810306487634095,6.815151837205776,6.82001813237896,6.8249053731536495,6.829813559529843,6.8347426915075395,6.83969276908674,6.844663792267445,6.849655761049653,6.854668675433365,6.859702535418582,6.864757341005303,6.869833092193527,6.8749297889832555,6.8800474313744875,6.885186019367223,6.890345552961463,6.895526032157208,6.900727456954455,6.905949827353208,6.911193143353463,6.9164574049552225,6.921742612158487,6.927048764963254,6.932375863369526,6.937723907377301,6.94309289698658,6.948482832197364,6.953893713009651,6.959325539423442,6.964778311438737,6.970252029055536,6.975746692273839,6.981262301093646,6.986798855514957,6.992356355537772,6.99793480116209,7.003534192387913,7.009154529215239,7.01479581164407,null,7.01479581164407,7.022584434630748,7.030409608350428,7.038271332803109,7.046169607988789,7.0541044339074706,7.062075810559152,7.070083737943834,7.0781282160615175,7.086209244912201,7.0943268244958855,7.10248095481257,7.110671635862255,7.1188988676449405,7.127162650160627,7.135462983409314,7.143799867391001,7.152173302105689,7.160583287553378,7.169029823734067,7.177512910647757,7.186032548294447,7.194588736674138,7.203181475786829,7.211810765632521,7.220476606211213,7.229178997522907,7.2379179395676,7.246693432345294,7.255505475855989,7.264354070099684,7.27323921507638,7.282160910786077,7.291119157228773,7.300113954404471,7.309145302313169,7.318213200954868,7.327317650329567,7.336458650437266,7.345636201277967,7.354850302851668,7.364100955158369,7.373388158198071,7.382711911970773,7.3920722164764765,7.40146907171518,7.410902477686885,7.420372434391589,7.429878941829294,7.439422,null,7.068983405404603,7.073220836290795,7.077467632382065,7.081723793678414,7.0859893201798405,7.090264211886345,7.094548468797929,7.098842090914591,7.10314507823633,7.107457430763148,7.111779148495044,7.116110231432018,7.120450679574072,7.124800492921202,7.129159671473412,7.133528215230698,7.137906124193064,7.142293398360508,7.14669003773303,7.15109604231063,7.155511412093308,7.159936147081064,7.164370247273899,7.1688137126718114,7.173266543274803,7.177728739082872,7.18220030009602,7.186681226314246,7.1911715177375495,7.195671174365932,7.200180196199392,7.20469858323793,7.209226335481548,7.213763452930243,7.218309935584016,7.222865783442868,7.227430996506797,7.232005574775805,7.236589518249891,7.241182826929055,7.245785500813298,7.250397539902619,7.255018944197017,7.259649713696495,7.2642898484010505,7.268939348310684,7.273598213425395,7.278266443745186,7.2829440392700535,7.287631,null],\"y\":[4.337383,4.329354504111266,4.321444894015951,4.313654169714055,4.305982331205579,4.298429378490521,4.290995311568883,4.283680130440665,4.276483835105865,4.269406425564485,4.262447901816524,4.2556082638619825,4.24888751170086,4.242285645333157,4.235802664758873,4.229438569978009,4.223193360990564,4.217067037796538,4.211059600395931,4.205171048788744,4.199401382974975,4.193750602954626,4.188218708727696,4.182805700294186,4.177511577654095,4.172336340807423,4.16727998975417,4.162342524494337,4.157523945027923,4.152824251354928,4.148243443475352,4.1437815213891955,4.139438485096459,4.135214334597141,4.1311090698912425,4.127122690978763,4.123255197859703,4.119506590534062,4.115876869001841,4.112366033263038,4.108974083317656,4.105701019165692,4.102546840807148,4.099511548242022,4.096595141470317,4.09379762049203,4.091118985307163,4.088559235915715,4.086118372317686,4.083796394513076,null,4.083796394513076,4.082639074033551,4.081689213000442,4.080946811413747,4.080411869273466,4.080084386579601,4.07996436333215,4.0800517995311125,4.080346695176491,4.0808490502682835,4.0815588648064915,4.0824761387911135,4.08360087222215,4.084933065099602,4.086472717423467,4.088219829193748,4.090174400410443,4.092336431073553,4.094705921183078,4.097282870739017,4.100067279741371,4.103059148190139,4.106258476085322,4.10966526342692,4.113279510214932,4.11710121644936,4.121130382130201,4.1253670072574575,4.129811091831128,4.1344626358512135,4.139321639317714,4.144388102230629,4.149662024589959,4.155143406395703,4.160832247647861,4.166728548346435,4.172832308491423,4.179143528082825,4.185662207120643,4.192388345604875,4.199321943535522,4.206463000912583,4.213811517736059,4.22136749400595,4.229130929722254,4.2371018248849746,4.245280179494109,4.253665993549658,4.262259267051622,4.27106,null,4.391408633943204,4.390801967632751,4.390256889770656,4.38977340035692,4.389351499391541,4.38899118687452,4.3886924628058575,4.388455327185552,4.3882797800136055,4.388165821290016,4.388113451014785,4.388122669187912,4.3881934758093974,4.38832587087924,4.388519854397441,4.388775426364,4.389092586778917,4.389471335642192,4.389911672953825,4.390413598713815,4.390977112922164,4.391602215578871,4.392288906683936,4.3930371862373585,4.3938470542391395,4.394718510689278,4.395651555587774,4.396646188934629,4.397702410729842,4.398820220973413,4.399999619665341,4.401240606805628,4.402543182394272,4.403907346431275,4.4053330989166355,4.406820439850353,4.40836936923243,4.409979887062865,4.411651993341657,4.413385688068807,4.4151809712443155,4.417037842868182,4.418956302940407,4.4209363514609885,4.422977988429929,4.4250812138472275,4.427246027712884,4.429472430026898,4.43176042078927,4.43411,null],\"type\":\"scatter\"}],                        {\"template\":{\"data\":{\"histogram2dcontour\":[{\"type\":\"histogram2dcontour\",\"colorbar\":{\"outlinewidth\":0,\"ticks\":\"\"},\"colorscale\":[[0.0,\"#0d0887\"],[0.1111111111111111,\"#46039f\"],[0.2222222222222222,\"#7201a8\"],[0.3333333333333333,\"#9c179e\"],[0.4444444444444444,\"#bd3786\"],[0.5555555555555556,\"#d8576b\"],[0.6666666666666666,\"#ed7953\"],[0.7777777777777778,\"#fb9f3a\"],[0.8888888888888888,\"#fdca26\"],[1.0,\"#f0f921\"]]}],\"choropleth\":[{\"type\":\"choropleth\",\"colorbar\":{\"outlinewidth\":0,\"ticks\":\"\"}}],\"histogram2d\":[{\"type\":\"histogram2d\",\"colorbar\":{\"outlinewidth\":0,\"ticks\":\"\"},\"colorscale\":[[0.0,\"#0d0887\"],[0.1111111111111111,\"#46039f\"],[0.2222222222222222,\"#7201a8\"],[0.3333333333333333,\"#9c179e\"],[0.4444444444444444,\"#bd3786\"],[0.5555555555555556,\"#d8576b\"],[0.6666666666666666,\"#ed7953\"],[0.7777777777777778,\"#fb9f3a\"],[0.8888888888888888,\"#fdca26\"],[1.0,\"#f0f921\"]]}],\"heatmap\":[{\"type\":\"heatmap\",\"colorbar\":{\"outlinewidth\":0,\"ticks\":\"\"},\"colorscale\":[[0.0,\"#0d0887\"],[0.1111111111111111,\"#46039f\"],[0.2222222222222222,\"#7201a8\"],[0.3333333333333333,\"#9c179e\"],[0.4444444444444444,\"#bd3786\"],[0.5555555555555556,\"#d8576b\"],[0.6666666666666666,\"#ed7953\"],[0.7777777777777778,\"#fb9f3a\"],[0.8888888888888888,\"#fdca26\"],[1.0,\"#f0f921\"]]}],\"heatmapgl\":[{\"type\":\"heatmapgl\",\"colorbar\":{\"outlinewidth\":0,\"ticks\":\"\"},\"colorscale\":[[0.0,\"#0d0887\"],[0.1111111111111111,\"#46039f\"],[0.2222222222222222,\"#7201a8\"],[0.3333333333333333,\"#9c179e\"],[0.4444444444444444,\"#bd3786\"],[0.5555555555555556,\"#d8576b\"],[0.6666666666666666,\"#ed7953\"],[0.7777777777777778,\"#fb9f3a\"],[0.8888888888888888,\"#fdca26\"],[1.0,\"#f0f921\"]]}],\"contourcarpet\":[{\"type\":\"contourcarpet\",\"colorbar\":{\"outlinewidth\":0,\"ticks\":\"\"}}],\"contour\":[{\"type\":\"contour\",\"colorbar\":{\"outlinewidth\":0,\"ticks\":\"\"},\"colorscale\":[[0.0,\"#0d0887\"],[0.1111111111111111,\"#46039f\"],[0.2222222222222222,\"#7201a8\"],[0.3333333333333333,\"#9c179e\"],[0.4444444444444444,\"#bd3786\"],[0.5555555555555556,\"#d8576b\"],[0.6666666666666666,\"#ed7953\"],[0.7777777777777778,\"#fb9f3a\"],[0.8888888888888888,\"#fdca26\"],[1.0,\"#f0f921\"]]}],\"surface\":[{\"type\":\"surface\",\"colorbar\":{\"outlinewidth\":0,\"ticks\":\"\"},\"colorscale\":[[0.0,\"#0d0887\"],[0.1111111111111111,\"#46039f\"],[0.2222222222222222,\"#7201a8\"],[0.3333333333333333,\"#9c179e\"],[0.4444444444444444,\"#bd3786\"],[0.5555555555555556,\"#d8576b\"],[0.6666666666666666,\"#ed7953\"],[0.7777777777777778,\"#fb9f3a\"],[0.8888888888888888,\"#fdca26\"],[1.0,\"#f0f921\"]]}],\"mesh3d\":[{\"type\":\"mesh3d\",\"colorbar\":{\"outlinewidth\":0,\"ticks\":\"\"}}],\"scatter\":[{\"fillpattern\":{\"fillmode\":\"overlay\",\"size\":10,\"solidity\":0.2},\"type\":\"scatter\"}],\"parcoords\":[{\"type\":\"parcoords\",\"line\":{\"colorbar\":{\"outlinewidth\":0,\"ticks\":\"\"}}}],\"scatterpolargl\":[{\"type\":\"scatterpolargl\",\"marker\":{\"colorbar\":{\"outlinewidth\":0,\"ticks\":\"\"}}}],\"bar\":[{\"error_x\":{\"color\":\"#2a3f5f\"},\"error_y\":{\"color\":\"#2a3f5f\"},\"marker\":{\"line\":{\"color\":\"#E5ECF6\",\"width\":0.5},\"pattern\":{\"fillmode\":\"overlay\",\"size\":10,\"solidity\":0.2}},\"type\":\"bar\"}],\"scattergeo\":[{\"type\":\"scattergeo\",\"marker\":{\"colorbar\":{\"outlinewidth\":0,\"ticks\":\"\"}}}],\"scatterpolar\":[{\"type\":\"scatterpolar\",\"marker\":{\"colorbar\":{\"outlinewidth\":0,\"ticks\":\"\"}}}],\"histogram\":[{\"marker\":{\"pattern\":{\"fillmode\":\"overlay\",\"size\":10,\"solidity\":0.2}},\"type\":\"histogram\"}],\"scattergl\":[{\"type\":\"scattergl\",\"marker\":{\"colorbar\":{\"outlinewidth\":0,\"ticks\":\"\"}}}],\"scatter3d\":[{\"type\":\"scatter3d\",\"line\":{\"colorbar\":{\"outlinewidth\":0,\"ticks\":\"\"}},\"marker\":{\"colorbar\":{\"outlinewidth\":0,\"ticks\":\"\"}}}],\"scattermapbox\":[{\"type\":\"scattermapbox\",\"marker\":{\"colorbar\":{\"outlinewidth\":0,\"ticks\":\"\"}}}],\"scatterternary\":[{\"type\":\"scatterternary\",\"marker\":{\"colorbar\":{\"outlinewidth\":0,\"ticks\":\"\"}}}],\"scattercarpet\":[{\"type\":\"scattercarpet\",\"marker\":{\"colorbar\":{\"outlinewidth\":0,\"ticks\":\"\"}}}],\"carpet\":[{\"aaxis\":{\"endlinecolor\":\"#2a3f5f\",\"gridcolor\":\"white\",\"linecolor\":\"white\",\"minorgridcolor\":\"white\",\"startlinecolor\":\"#2a3f5f\"},\"baxis\":{\"endlinecolor\":\"#2a3f5f\",\"gridcolor\":\"white\",\"linecolor\":\"white\",\"minorgridcolor\":\"white\",\"startlinecolor\":\"#2a3f5f\"},\"type\":\"carpet\"}],\"table\":[{\"cells\":{\"fill\":{\"color\":\"#EBF0F8\"},\"line\":{\"color\":\"white\"}},\"header\":{\"fill\":{\"color\":\"#C8D4E3\"},\"line\":{\"color\":\"white\"}},\"type\":\"table\"}],\"barpolar\":[{\"marker\":{\"line\":{\"color\":\"#E5ECF6\",\"width\":0.5},\"pattern\":{\"fillmode\":\"overlay\",\"size\":10,\"solidity\":0.2}},\"type\":\"barpolar\"}],\"pie\":[{\"automargin\":true,\"type\":\"pie\"}]},\"layout\":{\"autotypenumbers\":\"strict\",\"colorway\":[\"#636efa\",\"#EF553B\",\"#00cc96\",\"#ab63fa\",\"#FFA15A\",\"#19d3f3\",\"#FF6692\",\"#B6E880\",\"#FF97FF\",\"#FECB52\"],\"font\":{\"color\":\"#2a3f5f\"},\"hovermode\":\"closest\",\"hoverlabel\":{\"align\":\"left\"},\"paper_bgcolor\":\"white\",\"plot_bgcolor\":\"#E5ECF6\",\"polar\":{\"bgcolor\":\"#E5ECF6\",\"angularaxis\":{\"gridcolor\":\"white\",\"linecolor\":\"white\",\"ticks\":\"\"},\"radialaxis\":{\"gridcolor\":\"white\",\"linecolor\":\"white\",\"ticks\":\"\"}},\"ternary\":{\"bgcolor\":\"#E5ECF6\",\"aaxis\":{\"gridcolor\":\"white\",\"linecolor\":\"white\",\"ticks\":\"\"},\"baxis\":{\"gridcolor\":\"white\",\"linecolor\":\"white\",\"ticks\":\"\"},\"caxis\":{\"gridcolor\":\"white\",\"linecolor\":\"white\",\"ticks\":\"\"}},\"coloraxis\":{\"colorbar\":{\"outlinewidth\":0,\"ticks\":\"\"}},\"colorscale\":{\"sequential\":[[0.0,\"#0d0887\"],[0.1111111111111111,\"#46039f\"],[0.2222222222222222,\"#7201a8\"],[0.3333333333333333,\"#9c179e\"],[0.4444444444444444,\"#bd3786\"],[0.5555555555555556,\"#d8576b\"],[0.6666666666666666,\"#ed7953\"],[0.7777777777777778,\"#fb9f3a\"],[0.8888888888888888,\"#fdca26\"],[1.0,\"#f0f921\"]],\"sequentialminus\":[[0.0,\"#0d0887\"],[0.1111111111111111,\"#46039f\"],[0.2222222222222222,\"#7201a8\"],[0.3333333333333333,\"#9c179e\"],[0.4444444444444444,\"#bd3786\"],[0.5555555555555556,\"#d8576b\"],[0.6666666666666666,\"#ed7953\"],[0.7777777777777778,\"#fb9f3a\"],[0.8888888888888888,\"#fdca26\"],[1.0,\"#f0f921\"]],\"diverging\":[[0,\"#8e0152\"],[0.1,\"#c51b7d\"],[0.2,\"#de77ae\"],[0.3,\"#f1b6da\"],[0.4,\"#fde0ef\"],[0.5,\"#f7f7f7\"],[0.6,\"#e6f5d0\"],[0.7,\"#b8e186\"],[0.8,\"#7fbc41\"],[0.9,\"#4d9221\"],[1,\"#276419\"]]},\"xaxis\":{\"gridcolor\":\"white\",\"linecolor\":\"white\",\"ticks\":\"\",\"title\":{\"standoff\":15},\"zerolinecolor\":\"white\",\"automargin\":true,\"zerolinewidth\":2},\"yaxis\":{\"gridcolor\":\"white\",\"linecolor\":\"white\",\"ticks\":\"\",\"title\":{\"standoff\":15},\"zerolinecolor\":\"white\",\"automargin\":true,\"zerolinewidth\":2},\"scene\":{\"xaxis\":{\"backgroundcolor\":\"#E5ECF6\",\"gridcolor\":\"white\",\"linecolor\":\"white\",\"showbackground\":true,\"ticks\":\"\",\"zerolinecolor\":\"white\",\"gridwidth\":2},\"yaxis\":{\"backgroundcolor\":\"#E5ECF6\",\"gridcolor\":\"white\",\"linecolor\":\"white\",\"showbackground\":true,\"ticks\":\"\",\"zerolinecolor\":\"white\",\"gridwidth\":2},\"zaxis\":{\"backgroundcolor\":\"#E5ECF6\",\"gridcolor\":\"white\",\"linecolor\":\"white\",\"showbackground\":true,\"ticks\":\"\",\"zerolinecolor\":\"white\",\"gridwidth\":2}},\"shapedefaults\":{\"line\":{\"color\":\"#2a3f5f\"}},\"annotationdefaults\":{\"arrowcolor\":\"#2a3f5f\",\"arrowhead\":0,\"arrowwidth\":1},\"geo\":{\"bgcolor\":\"white\",\"landcolor\":\"#E5ECF6\",\"subunitcolor\":\"white\",\"showland\":true,\"showlakes\":true,\"lakecolor\":\"white\"},\"title\":{\"x\":0.05},\"mapbox\":{\"style\":\"light\"}}}},                        {\"responsive\": true}                    ).then(function(){\n",
       "                            \n",
       "var gd = document.getElementById('68d1686a-5958-461b-8eb5-f8d5bcac7517');\n",
       "var x = new MutationObserver(function (mutations, observer) {{\n",
       "        var display = window.getComputedStyle(gd).display;\n",
       "        if (!display || display === 'none') {{\n",
       "            console.log([gd, 'removed!']);\n",
       "            Plotly.purge(gd);\n",
       "            observer.disconnect();\n",
       "        }}\n",
       "}});\n",
       "\n",
       "// Listen for the removal of the full notebook cells\n",
       "var notebookContainer = gd.closest('#notebook-container');\n",
       "if (notebookContainer) {{\n",
       "    x.observe(notebookContainer, {childList: true});\n",
       "}}\n",
       "\n",
       "// Listen for the clearing of the current output cell\n",
       "var outputEl = gd.closest('.output');\n",
       "if (outputEl) {{\n",
       "    x.observe(outputEl, {childList: true});\n",
       "}}\n",
       "\n",
       "                        })                };                });            </script>        </div>"
      ]
     },
     "metadata": {},
     "output_type": "display_data"
    },
    {
     "name": "stdout",
     "output_type": "stream",
     "text": [
      "optimal and original super imposed given:  1.7 ,  0.2\n"
     ]
    },
    {
     "data": {
      "application/vnd.plotly.v1+json": {
       "config": {
        "plotlyServerURL": "https://plot.ly"
       },
       "data": [
        {
         "mode": "markers",
         "name": "main root base",
         "type": "scatter",
         "x": [
          7.014674
         ],
         "y": [
          4.083105
         ]
        },
        {
         "mode": "markers",
         "name": "main root points",
         "type": "scatter",
         "x": [
          7.068931,
          7.097697,
          7.102405,
          7.096509,
          7.078003,
          7.057387,
          7.064473,
          7.056801,
          7.045027,
          7.03578,
          7.053914,
          7.058697,
          7.050602,
          7.021744
         ],
         "y": [
          4.391064,
          4.580238,
          4.699361,
          4.817372,
          4.93411,
          5.050687,
          5.168109,
          5.286132,
          5.443573,
          5.623435,
          5.801408,
          5.991669,
          6.214376,
          6.799064
         ]
        },
        {
         "mode": "markers",
         "name": "optimal connections",
         "type": "scatter",
         "x": [],
         "y": []
        },
        {
         "mode": "markers",
         "name": "lateral root points",
         "type": "scatter",
         "x": [
          7.03248,
          6.921742,
          6.763005,
          7.065898,
          7.312281,
          7.439422,
          7.125593,
          7.182462,
          7.287631
         ],
         "y": [
          4.136673,
          4.219422,
          4.337383,
          4.198863,
          4.231294,
          4.27106,
          4.363359,
          4.368823,
          4.43411
         ]
        },
        {
         "mode": "lines",
         "name": "main root",
         "type": "scatter",
         "x": [
          7.014674,
          7.068931,
          null,
          7.068931,
          7.097697,
          null,
          7.097697,
          7.102405,
          null,
          7.102405,
          7.096509,
          null,
          7.096509,
          7.078003,
          null,
          7.078003,
          7.057387,
          null,
          7.057387,
          7.064473,
          null,
          7.064473,
          7.056801,
          null,
          7.056801,
          7.045027,
          null,
          7.045027,
          7.03578,
          null,
          7.03578,
          7.053914,
          null,
          7.053914,
          7.058697,
          null,
          7.058697,
          7.050602,
          null,
          7.050602,
          7.021744,
          null
         ],
         "y": [
          4.083105,
          4.391064,
          null,
          4.391064,
          4.580238,
          null,
          4.580238,
          4.699361,
          null,
          4.699361,
          4.817372,
          null,
          4.817372,
          4.93411,
          null,
          4.93411,
          5.050687,
          null,
          5.050687,
          5.168109,
          null,
          5.168109,
          5.286132,
          null,
          5.286132,
          5.443573,
          null,
          5.443573,
          5.623435,
          null,
          5.623435,
          5.801408,
          null,
          5.801408,
          5.991669,
          null,
          5.991669,
          6.214376,
          null,
          6.214376,
          6.799064,
          null
         ]
        },
        {
         "mode": "lines",
         "name": "lateral root",
         "type": "scatter",
         "x": [
          7.03248,
          6.921742,
          null,
          6.921742,
          6.763005,
          null,
          7.065898,
          7.312281,
          null,
          7.312281,
          7.439422,
          null,
          7.125593,
          7.182462,
          null,
          7.182462,
          7.287631,
          null
         ],
         "y": [
          4.136673,
          4.219422,
          null,
          4.219422,
          4.337383,
          null,
          4.198863,
          4.231294,
          null,
          4.231294,
          4.27106,
          null,
          4.363359,
          4.368823,
          null,
          4.368823,
          4.43411,
          null
         ]
        },
        {
         "mode": "markers",
         "name": "main root base",
         "type": "scatter",
         "x": [
          7.014674
         ],
         "y": [
          4.083105
         ]
        },
        {
         "mode": "markers",
         "name": "main root points",
         "type": "scatter",
         "x": [
          7.068931,
          7.097697,
          7.102405,
          7.096509,
          7.078003,
          7.057387,
          7.064473,
          7.056801,
          7.045027,
          7.03578,
          7.053914,
          7.058697,
          7.050602,
          7.021744
         ],
         "y": [
          4.391064,
          4.580238,
          4.699361,
          4.817372,
          4.93411,
          5.050687,
          5.168109,
          5.286132,
          5.443573,
          5.623435,
          5.801408,
          5.991669,
          6.214376,
          6.799064
         ]
        },
        {
         "mode": "markers",
         "name": "optimal connections",
         "type": "scatter",
         "x": [
          7.01479581164407,
          7.01479581164407,
          7.068983405404603
         ],
         "y": [
          4.083796394513076,
          4.083796394513076,
          4.391408633943204
         ]
        },
        {
         "mode": "markers",
         "name": "lateral root points",
         "type": "scatter",
         "x": [
          6.763005,
          7.439422,
          7.287631
         ],
         "y": [
          4.337383,
          4.27106,
          4.43411
         ]
        },
        {
         "mode": "lines",
         "name": "main root",
         "type": "scatter",
         "x": [
          7.014674,
          7.068931,
          null,
          7.068931,
          7.097697,
          null,
          7.097697,
          7.102405,
          null,
          7.102405,
          7.096509,
          null,
          7.096509,
          7.078003,
          null,
          7.078003,
          7.057387,
          null,
          7.057387,
          7.064473,
          null,
          7.064473,
          7.056801,
          null,
          7.056801,
          7.045027,
          null,
          7.045027,
          7.03578,
          null,
          7.03578,
          7.053914,
          null,
          7.053914,
          7.058697,
          null,
          7.058697,
          7.050602,
          null,
          7.050602,
          7.021744,
          null
         ],
         "y": [
          4.083105,
          4.391064,
          null,
          4.391064,
          4.580238,
          null,
          4.580238,
          4.699361,
          null,
          4.699361,
          4.817372,
          null,
          4.817372,
          4.93411,
          null,
          4.93411,
          5.050687,
          null,
          5.050687,
          5.168109,
          null,
          5.168109,
          5.286132,
          null,
          5.286132,
          5.443573,
          null,
          5.443573,
          5.623435,
          null,
          5.623435,
          5.801408,
          null,
          5.801408,
          5.991669,
          null,
          5.991669,
          6.214376,
          null,
          6.214376,
          6.799064,
          null
         ]
        },
        {
         "mode": "lines",
         "name": "lateral root",
         "type": "scatter",
         "x": [
          6.763005,
          6.767640893556641,
          6.7722977327147875,
          6.776975517474437,
          6.781674247835591,
          6.786393923798248,
          6.791134545362409,
          6.795896112528075,
          6.8006786252952445,
          6.805482083663917,
          6.810306487634095,
          6.815151837205776,
          6.82001813237896,
          6.8249053731536495,
          6.829813559529843,
          6.8347426915075395,
          6.83969276908674,
          6.844663792267445,
          6.849655761049653,
          6.854668675433365,
          6.859702535418582,
          6.864757341005303,
          6.869833092193527,
          6.8749297889832555,
          6.8800474313744875,
          6.885186019367223,
          6.890345552961463,
          6.895526032157208,
          6.900727456954455,
          6.905949827353208,
          6.911193143353463,
          6.9164574049552225,
          6.921742612158487,
          6.927048764963254,
          6.932375863369526,
          6.937723907377301,
          6.94309289698658,
          6.948482832197364,
          6.953893713009651,
          6.959325539423442,
          6.964778311438737,
          6.970252029055536,
          6.975746692273839,
          6.981262301093646,
          6.986798855514957,
          6.992356355537772,
          6.99793480116209,
          7.003534192387913,
          7.009154529215239,
          7.01479581164407,
          null,
          7.01479581164407,
          7.022584434630748,
          7.030409608350428,
          7.038271332803109,
          7.046169607988789,
          7.0541044339074706,
          7.062075810559152,
          7.070083737943834,
          7.0781282160615175,
          7.086209244912201,
          7.0943268244958855,
          7.10248095481257,
          7.110671635862255,
          7.1188988676449405,
          7.127162650160627,
          7.135462983409314,
          7.143799867391001,
          7.152173302105689,
          7.160583287553378,
          7.169029823734067,
          7.177512910647757,
          7.186032548294447,
          7.194588736674138,
          7.203181475786829,
          7.211810765632521,
          7.220476606211213,
          7.229178997522907,
          7.2379179395676,
          7.246693432345294,
          7.255505475855989,
          7.264354070099684,
          7.27323921507638,
          7.282160910786077,
          7.291119157228773,
          7.300113954404471,
          7.309145302313169,
          7.318213200954868,
          7.327317650329567,
          7.336458650437266,
          7.345636201277967,
          7.354850302851668,
          7.364100955158369,
          7.373388158198071,
          7.382711911970773,
          7.3920722164764765,
          7.40146907171518,
          7.410902477686885,
          7.420372434391589,
          7.429878941829294,
          7.439422,
          null,
          7.068983405404603,
          7.073220836290795,
          7.077467632382065,
          7.081723793678414,
          7.0859893201798405,
          7.090264211886345,
          7.094548468797929,
          7.098842090914591,
          7.10314507823633,
          7.107457430763148,
          7.111779148495044,
          7.116110231432018,
          7.120450679574072,
          7.124800492921202,
          7.129159671473412,
          7.133528215230698,
          7.137906124193064,
          7.142293398360508,
          7.14669003773303,
          7.15109604231063,
          7.155511412093308,
          7.159936147081064,
          7.164370247273899,
          7.1688137126718114,
          7.173266543274803,
          7.177728739082872,
          7.18220030009602,
          7.186681226314246,
          7.1911715177375495,
          7.195671174365932,
          7.200180196199392,
          7.20469858323793,
          7.209226335481548,
          7.213763452930243,
          7.218309935584016,
          7.222865783442868,
          7.227430996506797,
          7.232005574775805,
          7.236589518249891,
          7.241182826929055,
          7.245785500813298,
          7.250397539902619,
          7.255018944197017,
          7.259649713696495,
          7.2642898484010505,
          7.268939348310684,
          7.273598213425395,
          7.278266443745186,
          7.2829440392700535,
          7.287631,
          null
         ],
         "y": [
          4.337383,
          4.329354504111266,
          4.321444894015951,
          4.313654169714055,
          4.305982331205579,
          4.298429378490521,
          4.290995311568883,
          4.283680130440665,
          4.276483835105865,
          4.269406425564485,
          4.262447901816524,
          4.2556082638619825,
          4.24888751170086,
          4.242285645333157,
          4.235802664758873,
          4.229438569978009,
          4.223193360990564,
          4.217067037796538,
          4.211059600395931,
          4.205171048788744,
          4.199401382974975,
          4.193750602954626,
          4.188218708727696,
          4.182805700294186,
          4.177511577654095,
          4.172336340807423,
          4.16727998975417,
          4.162342524494337,
          4.157523945027923,
          4.152824251354928,
          4.148243443475352,
          4.1437815213891955,
          4.139438485096459,
          4.135214334597141,
          4.1311090698912425,
          4.127122690978763,
          4.123255197859703,
          4.119506590534062,
          4.115876869001841,
          4.112366033263038,
          4.108974083317656,
          4.105701019165692,
          4.102546840807148,
          4.099511548242022,
          4.096595141470317,
          4.09379762049203,
          4.091118985307163,
          4.088559235915715,
          4.086118372317686,
          4.083796394513076,
          null,
          4.083796394513076,
          4.082639074033551,
          4.081689213000442,
          4.080946811413747,
          4.080411869273466,
          4.080084386579601,
          4.07996436333215,
          4.0800517995311125,
          4.080346695176491,
          4.0808490502682835,
          4.0815588648064915,
          4.0824761387911135,
          4.08360087222215,
          4.084933065099602,
          4.086472717423467,
          4.088219829193748,
          4.090174400410443,
          4.092336431073553,
          4.094705921183078,
          4.097282870739017,
          4.100067279741371,
          4.103059148190139,
          4.106258476085322,
          4.10966526342692,
          4.113279510214932,
          4.11710121644936,
          4.121130382130201,
          4.1253670072574575,
          4.129811091831128,
          4.1344626358512135,
          4.139321639317714,
          4.144388102230629,
          4.149662024589959,
          4.155143406395703,
          4.160832247647861,
          4.166728548346435,
          4.172832308491423,
          4.179143528082825,
          4.185662207120643,
          4.192388345604875,
          4.199321943535522,
          4.206463000912583,
          4.213811517736059,
          4.22136749400595,
          4.229130929722254,
          4.2371018248849746,
          4.245280179494109,
          4.253665993549658,
          4.262259267051622,
          4.27106,
          null,
          4.391408633943204,
          4.390801967632751,
          4.390256889770656,
          4.38977340035692,
          4.389351499391541,
          4.38899118687452,
          4.3886924628058575,
          4.388455327185552,
          4.3882797800136055,
          4.388165821290016,
          4.388113451014785,
          4.388122669187912,
          4.3881934758093974,
          4.38832587087924,
          4.388519854397441,
          4.388775426364,
          4.389092586778917,
          4.389471335642192,
          4.389911672953825,
          4.390413598713815,
          4.390977112922164,
          4.391602215578871,
          4.392288906683936,
          4.3930371862373585,
          4.3938470542391395,
          4.394718510689278,
          4.395651555587774,
          4.396646188934629,
          4.397702410729842,
          4.398820220973413,
          4.399999619665341,
          4.401240606805628,
          4.402543182394272,
          4.403907346431275,
          4.4053330989166355,
          4.406820439850353,
          4.40836936923243,
          4.409979887062865,
          4.411651993341657,
          4.413385688068807,
          4.4151809712443155,
          4.417037842868182,
          4.418956302940407,
          4.4209363514609885,
          4.422977988429929,
          4.4250812138472275,
          4.427246027712884,
          4.429472430026898,
          4.43176042078927,
          4.43411,
          null
         ]
        }
       ],
       "layout": {
        "template": {
         "data": {
          "bar": [
           {
            "error_x": {
             "color": "#2a3f5f"
            },
            "error_y": {
             "color": "#2a3f5f"
            },
            "marker": {
             "line": {
              "color": "#E5ECF6",
              "width": 0.5
             },
             "pattern": {
              "fillmode": "overlay",
              "size": 10,
              "solidity": 0.2
             }
            },
            "type": "bar"
           }
          ],
          "barpolar": [
           {
            "marker": {
             "line": {
              "color": "#E5ECF6",
              "width": 0.5
             },
             "pattern": {
              "fillmode": "overlay",
              "size": 10,
              "solidity": 0.2
             }
            },
            "type": "barpolar"
           }
          ],
          "carpet": [
           {
            "aaxis": {
             "endlinecolor": "#2a3f5f",
             "gridcolor": "white",
             "linecolor": "white",
             "minorgridcolor": "white",
             "startlinecolor": "#2a3f5f"
            },
            "baxis": {
             "endlinecolor": "#2a3f5f",
             "gridcolor": "white",
             "linecolor": "white",
             "minorgridcolor": "white",
             "startlinecolor": "#2a3f5f"
            },
            "type": "carpet"
           }
          ],
          "choropleth": [
           {
            "colorbar": {
             "outlinewidth": 0,
             "ticks": ""
            },
            "type": "choropleth"
           }
          ],
          "contour": [
           {
            "colorbar": {
             "outlinewidth": 0,
             "ticks": ""
            },
            "colorscale": [
             [
              0,
              "#0d0887"
             ],
             [
              0.1111111111111111,
              "#46039f"
             ],
             [
              0.2222222222222222,
              "#7201a8"
             ],
             [
              0.3333333333333333,
              "#9c179e"
             ],
             [
              0.4444444444444444,
              "#bd3786"
             ],
             [
              0.5555555555555556,
              "#d8576b"
             ],
             [
              0.6666666666666666,
              "#ed7953"
             ],
             [
              0.7777777777777778,
              "#fb9f3a"
             ],
             [
              0.8888888888888888,
              "#fdca26"
             ],
             [
              1,
              "#f0f921"
             ]
            ],
            "type": "contour"
           }
          ],
          "contourcarpet": [
           {
            "colorbar": {
             "outlinewidth": 0,
             "ticks": ""
            },
            "type": "contourcarpet"
           }
          ],
          "heatmap": [
           {
            "colorbar": {
             "outlinewidth": 0,
             "ticks": ""
            },
            "colorscale": [
             [
              0,
              "#0d0887"
             ],
             [
              0.1111111111111111,
              "#46039f"
             ],
             [
              0.2222222222222222,
              "#7201a8"
             ],
             [
              0.3333333333333333,
              "#9c179e"
             ],
             [
              0.4444444444444444,
              "#bd3786"
             ],
             [
              0.5555555555555556,
              "#d8576b"
             ],
             [
              0.6666666666666666,
              "#ed7953"
             ],
             [
              0.7777777777777778,
              "#fb9f3a"
             ],
             [
              0.8888888888888888,
              "#fdca26"
             ],
             [
              1,
              "#f0f921"
             ]
            ],
            "type": "heatmap"
           }
          ],
          "heatmapgl": [
           {
            "colorbar": {
             "outlinewidth": 0,
             "ticks": ""
            },
            "colorscale": [
             [
              0,
              "#0d0887"
             ],
             [
              0.1111111111111111,
              "#46039f"
             ],
             [
              0.2222222222222222,
              "#7201a8"
             ],
             [
              0.3333333333333333,
              "#9c179e"
             ],
             [
              0.4444444444444444,
              "#bd3786"
             ],
             [
              0.5555555555555556,
              "#d8576b"
             ],
             [
              0.6666666666666666,
              "#ed7953"
             ],
             [
              0.7777777777777778,
              "#fb9f3a"
             ],
             [
              0.8888888888888888,
              "#fdca26"
             ],
             [
              1,
              "#f0f921"
             ]
            ],
            "type": "heatmapgl"
           }
          ],
          "histogram": [
           {
            "marker": {
             "pattern": {
              "fillmode": "overlay",
              "size": 10,
              "solidity": 0.2
             }
            },
            "type": "histogram"
           }
          ],
          "histogram2d": [
           {
            "colorbar": {
             "outlinewidth": 0,
             "ticks": ""
            },
            "colorscale": [
             [
              0,
              "#0d0887"
             ],
             [
              0.1111111111111111,
              "#46039f"
             ],
             [
              0.2222222222222222,
              "#7201a8"
             ],
             [
              0.3333333333333333,
              "#9c179e"
             ],
             [
              0.4444444444444444,
              "#bd3786"
             ],
             [
              0.5555555555555556,
              "#d8576b"
             ],
             [
              0.6666666666666666,
              "#ed7953"
             ],
             [
              0.7777777777777778,
              "#fb9f3a"
             ],
             [
              0.8888888888888888,
              "#fdca26"
             ],
             [
              1,
              "#f0f921"
             ]
            ],
            "type": "histogram2d"
           }
          ],
          "histogram2dcontour": [
           {
            "colorbar": {
             "outlinewidth": 0,
             "ticks": ""
            },
            "colorscale": [
             [
              0,
              "#0d0887"
             ],
             [
              0.1111111111111111,
              "#46039f"
             ],
             [
              0.2222222222222222,
              "#7201a8"
             ],
             [
              0.3333333333333333,
              "#9c179e"
             ],
             [
              0.4444444444444444,
              "#bd3786"
             ],
             [
              0.5555555555555556,
              "#d8576b"
             ],
             [
              0.6666666666666666,
              "#ed7953"
             ],
             [
              0.7777777777777778,
              "#fb9f3a"
             ],
             [
              0.8888888888888888,
              "#fdca26"
             ],
             [
              1,
              "#f0f921"
             ]
            ],
            "type": "histogram2dcontour"
           }
          ],
          "mesh3d": [
           {
            "colorbar": {
             "outlinewidth": 0,
             "ticks": ""
            },
            "type": "mesh3d"
           }
          ],
          "parcoords": [
           {
            "line": {
             "colorbar": {
              "outlinewidth": 0,
              "ticks": ""
             }
            },
            "type": "parcoords"
           }
          ],
          "pie": [
           {
            "automargin": true,
            "type": "pie"
           }
          ],
          "scatter": [
           {
            "fillpattern": {
             "fillmode": "overlay",
             "size": 10,
             "solidity": 0.2
            },
            "type": "scatter"
           }
          ],
          "scatter3d": [
           {
            "line": {
             "colorbar": {
              "outlinewidth": 0,
              "ticks": ""
             }
            },
            "marker": {
             "colorbar": {
              "outlinewidth": 0,
              "ticks": ""
             }
            },
            "type": "scatter3d"
           }
          ],
          "scattercarpet": [
           {
            "marker": {
             "colorbar": {
              "outlinewidth": 0,
              "ticks": ""
             }
            },
            "type": "scattercarpet"
           }
          ],
          "scattergeo": [
           {
            "marker": {
             "colorbar": {
              "outlinewidth": 0,
              "ticks": ""
             }
            },
            "type": "scattergeo"
           }
          ],
          "scattergl": [
           {
            "marker": {
             "colorbar": {
              "outlinewidth": 0,
              "ticks": ""
             }
            },
            "type": "scattergl"
           }
          ],
          "scattermapbox": [
           {
            "marker": {
             "colorbar": {
              "outlinewidth": 0,
              "ticks": ""
             }
            },
            "type": "scattermapbox"
           }
          ],
          "scatterpolar": [
           {
            "marker": {
             "colorbar": {
              "outlinewidth": 0,
              "ticks": ""
             }
            },
            "type": "scatterpolar"
           }
          ],
          "scatterpolargl": [
           {
            "marker": {
             "colorbar": {
              "outlinewidth": 0,
              "ticks": ""
             }
            },
            "type": "scatterpolargl"
           }
          ],
          "scatterternary": [
           {
            "marker": {
             "colorbar": {
              "outlinewidth": 0,
              "ticks": ""
             }
            },
            "type": "scatterternary"
           }
          ],
          "surface": [
           {
            "colorbar": {
             "outlinewidth": 0,
             "ticks": ""
            },
            "colorscale": [
             [
              0,
              "#0d0887"
             ],
             [
              0.1111111111111111,
              "#46039f"
             ],
             [
              0.2222222222222222,
              "#7201a8"
             ],
             [
              0.3333333333333333,
              "#9c179e"
             ],
             [
              0.4444444444444444,
              "#bd3786"
             ],
             [
              0.5555555555555556,
              "#d8576b"
             ],
             [
              0.6666666666666666,
              "#ed7953"
             ],
             [
              0.7777777777777778,
              "#fb9f3a"
             ],
             [
              0.8888888888888888,
              "#fdca26"
             ],
             [
              1,
              "#f0f921"
             ]
            ],
            "type": "surface"
           }
          ],
          "table": [
           {
            "cells": {
             "fill": {
              "color": "#EBF0F8"
             },
             "line": {
              "color": "white"
             }
            },
            "header": {
             "fill": {
              "color": "#C8D4E3"
             },
             "line": {
              "color": "white"
             }
            },
            "type": "table"
           }
          ]
         },
         "layout": {
          "annotationdefaults": {
           "arrowcolor": "#2a3f5f",
           "arrowhead": 0,
           "arrowwidth": 1
          },
          "autotypenumbers": "strict",
          "coloraxis": {
           "colorbar": {
            "outlinewidth": 0,
            "ticks": ""
           }
          },
          "colorscale": {
           "diverging": [
            [
             0,
             "#8e0152"
            ],
            [
             0.1,
             "#c51b7d"
            ],
            [
             0.2,
             "#de77ae"
            ],
            [
             0.3,
             "#f1b6da"
            ],
            [
             0.4,
             "#fde0ef"
            ],
            [
             0.5,
             "#f7f7f7"
            ],
            [
             0.6,
             "#e6f5d0"
            ],
            [
             0.7,
             "#b8e186"
            ],
            [
             0.8,
             "#7fbc41"
            ],
            [
             0.9,
             "#4d9221"
            ],
            [
             1,
             "#276419"
            ]
           ],
           "sequential": [
            [
             0,
             "#0d0887"
            ],
            [
             0.1111111111111111,
             "#46039f"
            ],
            [
             0.2222222222222222,
             "#7201a8"
            ],
            [
             0.3333333333333333,
             "#9c179e"
            ],
            [
             0.4444444444444444,
             "#bd3786"
            ],
            [
             0.5555555555555556,
             "#d8576b"
            ],
            [
             0.6666666666666666,
             "#ed7953"
            ],
            [
             0.7777777777777778,
             "#fb9f3a"
            ],
            [
             0.8888888888888888,
             "#fdca26"
            ],
            [
             1,
             "#f0f921"
            ]
           ],
           "sequentialminus": [
            [
             0,
             "#0d0887"
            ],
            [
             0.1111111111111111,
             "#46039f"
            ],
            [
             0.2222222222222222,
             "#7201a8"
            ],
            [
             0.3333333333333333,
             "#9c179e"
            ],
            [
             0.4444444444444444,
             "#bd3786"
            ],
            [
             0.5555555555555556,
             "#d8576b"
            ],
            [
             0.6666666666666666,
             "#ed7953"
            ],
            [
             0.7777777777777778,
             "#fb9f3a"
            ],
            [
             0.8888888888888888,
             "#fdca26"
            ],
            [
             1,
             "#f0f921"
            ]
           ]
          },
          "colorway": [
           "#636efa",
           "#EF553B",
           "#00cc96",
           "#ab63fa",
           "#FFA15A",
           "#19d3f3",
           "#FF6692",
           "#B6E880",
           "#FF97FF",
           "#FECB52"
          ],
          "font": {
           "color": "#2a3f5f"
          },
          "geo": {
           "bgcolor": "white",
           "lakecolor": "white",
           "landcolor": "#E5ECF6",
           "showlakes": true,
           "showland": true,
           "subunitcolor": "white"
          },
          "hoverlabel": {
           "align": "left"
          },
          "hovermode": "closest",
          "mapbox": {
           "style": "light"
          },
          "paper_bgcolor": "white",
          "plot_bgcolor": "#E5ECF6",
          "polar": {
           "angularaxis": {
            "gridcolor": "white",
            "linecolor": "white",
            "ticks": ""
           },
           "bgcolor": "#E5ECF6",
           "radialaxis": {
            "gridcolor": "white",
            "linecolor": "white",
            "ticks": ""
           }
          },
          "scene": {
           "xaxis": {
            "backgroundcolor": "#E5ECF6",
            "gridcolor": "white",
            "gridwidth": 2,
            "linecolor": "white",
            "showbackground": true,
            "ticks": "",
            "zerolinecolor": "white"
           },
           "yaxis": {
            "backgroundcolor": "#E5ECF6",
            "gridcolor": "white",
            "gridwidth": 2,
            "linecolor": "white",
            "showbackground": true,
            "ticks": "",
            "zerolinecolor": "white"
           },
           "zaxis": {
            "backgroundcolor": "#E5ECF6",
            "gridcolor": "white",
            "gridwidth": 2,
            "linecolor": "white",
            "showbackground": true,
            "ticks": "",
            "zerolinecolor": "white"
           }
          },
          "shapedefaults": {
           "line": {
            "color": "#2a3f5f"
           }
          },
          "ternary": {
           "aaxis": {
            "gridcolor": "white",
            "linecolor": "white",
            "ticks": ""
           },
           "baxis": {
            "gridcolor": "white",
            "linecolor": "white",
            "ticks": ""
           },
           "bgcolor": "#E5ECF6",
           "caxis": {
            "gridcolor": "white",
            "linecolor": "white",
            "ticks": ""
           }
          },
          "title": {
           "x": 0.05
          },
          "xaxis": {
           "automargin": true,
           "gridcolor": "white",
           "linecolor": "white",
           "ticks": "",
           "title": {
            "standoff": 15
           },
           "zerolinecolor": "white",
           "zerolinewidth": 2
          },
          "yaxis": {
           "automargin": true,
           "gridcolor": "white",
           "linecolor": "white",
           "ticks": "",
           "title": {
            "standoff": 15
           },
           "zerolinecolor": "white",
           "zerolinewidth": 2
          }
         }
        }
       }
      },
      "text/html": [
       "<div>                            <div id=\"3952b394-cab0-4136-8ab3-819f79cefbef\" class=\"plotly-graph-div\" style=\"height:525px; width:100%;\"></div>            <script type=\"text/javascript\">                require([\"plotly\"], function(Plotly) {                    window.PLOTLYENV=window.PLOTLYENV || {};                                    if (document.getElementById(\"3952b394-cab0-4136-8ab3-819f79cefbef\")) {                    Plotly.newPlot(                        \"3952b394-cab0-4136-8ab3-819f79cefbef\",                        [{\"mode\":\"markers\",\"name\":\"main root base\",\"x\":[7.014674],\"y\":[4.083105],\"type\":\"scatter\"},{\"mode\":\"markers\",\"name\":\"main root points\",\"x\":[7.068931,7.097697,7.102405,7.096509,7.078003,7.057387,7.064473,7.056801,7.045027,7.03578,7.053914,7.058697,7.050602,7.021744],\"y\":[4.391064,4.580238,4.699361,4.817372,4.93411,5.050687,5.168109,5.286132,5.443573,5.623435,5.801408,5.991669,6.214376,6.799064],\"type\":\"scatter\"},{\"mode\":\"markers\",\"name\":\"optimal connections\",\"x\":[],\"y\":[],\"type\":\"scatter\"},{\"mode\":\"markers\",\"name\":\"lateral root points\",\"x\":[7.03248,6.921742,6.763005,7.065898,7.312281,7.439422,7.125593,7.182462,7.287631],\"y\":[4.136673,4.219422,4.337383,4.198863,4.231294,4.27106,4.363359,4.368823,4.43411],\"type\":\"scatter\"},{\"mode\":\"lines\",\"name\":\"main root\",\"x\":[7.014674,7.068931,null,7.068931,7.097697,null,7.097697,7.102405,null,7.102405,7.096509,null,7.096509,7.078003,null,7.078003,7.057387,null,7.057387,7.064473,null,7.064473,7.056801,null,7.056801,7.045027,null,7.045027,7.03578,null,7.03578,7.053914,null,7.053914,7.058697,null,7.058697,7.050602,null,7.050602,7.021744,null],\"y\":[4.083105,4.391064,null,4.391064,4.580238,null,4.580238,4.699361,null,4.699361,4.817372,null,4.817372,4.93411,null,4.93411,5.050687,null,5.050687,5.168109,null,5.168109,5.286132,null,5.286132,5.443573,null,5.443573,5.623435,null,5.623435,5.801408,null,5.801408,5.991669,null,5.991669,6.214376,null,6.214376,6.799064,null],\"type\":\"scatter\"},{\"mode\":\"lines\",\"name\":\"lateral root\",\"x\":[7.03248,6.921742,null,6.921742,6.763005,null,7.065898,7.312281,null,7.312281,7.439422,null,7.125593,7.182462,null,7.182462,7.287631,null],\"y\":[4.136673,4.219422,null,4.219422,4.337383,null,4.198863,4.231294,null,4.231294,4.27106,null,4.363359,4.368823,null,4.368823,4.43411,null],\"type\":\"scatter\"},{\"mode\":\"markers\",\"name\":\"main root base\",\"x\":[7.014674],\"y\":[4.083105],\"type\":\"scatter\"},{\"mode\":\"markers\",\"name\":\"main root points\",\"x\":[7.068931,7.097697,7.102405,7.096509,7.078003,7.057387,7.064473,7.056801,7.045027,7.03578,7.053914,7.058697,7.050602,7.021744],\"y\":[4.391064,4.580238,4.699361,4.817372,4.93411,5.050687,5.168109,5.286132,5.443573,5.623435,5.801408,5.991669,6.214376,6.799064],\"type\":\"scatter\"},{\"mode\":\"markers\",\"name\":\"optimal connections\",\"x\":[7.01479581164407,7.01479581164407,7.068983405404603],\"y\":[4.083796394513076,4.083796394513076,4.391408633943204],\"type\":\"scatter\"},{\"mode\":\"markers\",\"name\":\"lateral root points\",\"x\":[6.763005,7.439422,7.287631],\"y\":[4.337383,4.27106,4.43411],\"type\":\"scatter\"},{\"mode\":\"lines\",\"name\":\"main root\",\"x\":[7.014674,7.068931,null,7.068931,7.097697,null,7.097697,7.102405,null,7.102405,7.096509,null,7.096509,7.078003,null,7.078003,7.057387,null,7.057387,7.064473,null,7.064473,7.056801,null,7.056801,7.045027,null,7.045027,7.03578,null,7.03578,7.053914,null,7.053914,7.058697,null,7.058697,7.050602,null,7.050602,7.021744,null],\"y\":[4.083105,4.391064,null,4.391064,4.580238,null,4.580238,4.699361,null,4.699361,4.817372,null,4.817372,4.93411,null,4.93411,5.050687,null,5.050687,5.168109,null,5.168109,5.286132,null,5.286132,5.443573,null,5.443573,5.623435,null,5.623435,5.801408,null,5.801408,5.991669,null,5.991669,6.214376,null,6.214376,6.799064,null],\"type\":\"scatter\"},{\"mode\":\"lines\",\"name\":\"lateral root\",\"x\":[6.763005,6.767640893556641,6.7722977327147875,6.776975517474437,6.781674247835591,6.786393923798248,6.791134545362409,6.795896112528075,6.8006786252952445,6.805482083663917,6.810306487634095,6.815151837205776,6.82001813237896,6.8249053731536495,6.829813559529843,6.8347426915075395,6.83969276908674,6.844663792267445,6.849655761049653,6.854668675433365,6.859702535418582,6.864757341005303,6.869833092193527,6.8749297889832555,6.8800474313744875,6.885186019367223,6.890345552961463,6.895526032157208,6.900727456954455,6.905949827353208,6.911193143353463,6.9164574049552225,6.921742612158487,6.927048764963254,6.932375863369526,6.937723907377301,6.94309289698658,6.948482832197364,6.953893713009651,6.959325539423442,6.964778311438737,6.970252029055536,6.975746692273839,6.981262301093646,6.986798855514957,6.992356355537772,6.99793480116209,7.003534192387913,7.009154529215239,7.01479581164407,null,7.01479581164407,7.022584434630748,7.030409608350428,7.038271332803109,7.046169607988789,7.0541044339074706,7.062075810559152,7.070083737943834,7.0781282160615175,7.086209244912201,7.0943268244958855,7.10248095481257,7.110671635862255,7.1188988676449405,7.127162650160627,7.135462983409314,7.143799867391001,7.152173302105689,7.160583287553378,7.169029823734067,7.177512910647757,7.186032548294447,7.194588736674138,7.203181475786829,7.211810765632521,7.220476606211213,7.229178997522907,7.2379179395676,7.246693432345294,7.255505475855989,7.264354070099684,7.27323921507638,7.282160910786077,7.291119157228773,7.300113954404471,7.309145302313169,7.318213200954868,7.327317650329567,7.336458650437266,7.345636201277967,7.354850302851668,7.364100955158369,7.373388158198071,7.382711911970773,7.3920722164764765,7.40146907171518,7.410902477686885,7.420372434391589,7.429878941829294,7.439422,null,7.068983405404603,7.073220836290795,7.077467632382065,7.081723793678414,7.0859893201798405,7.090264211886345,7.094548468797929,7.098842090914591,7.10314507823633,7.107457430763148,7.111779148495044,7.116110231432018,7.120450679574072,7.124800492921202,7.129159671473412,7.133528215230698,7.137906124193064,7.142293398360508,7.14669003773303,7.15109604231063,7.155511412093308,7.159936147081064,7.164370247273899,7.1688137126718114,7.173266543274803,7.177728739082872,7.18220030009602,7.186681226314246,7.1911715177375495,7.195671174365932,7.200180196199392,7.20469858323793,7.209226335481548,7.213763452930243,7.218309935584016,7.222865783442868,7.227430996506797,7.232005574775805,7.236589518249891,7.241182826929055,7.245785500813298,7.250397539902619,7.255018944197017,7.259649713696495,7.2642898484010505,7.268939348310684,7.273598213425395,7.278266443745186,7.2829440392700535,7.287631,null],\"y\":[4.337383,4.329354504111266,4.321444894015951,4.313654169714055,4.305982331205579,4.298429378490521,4.290995311568883,4.283680130440665,4.276483835105865,4.269406425564485,4.262447901816524,4.2556082638619825,4.24888751170086,4.242285645333157,4.235802664758873,4.229438569978009,4.223193360990564,4.217067037796538,4.211059600395931,4.205171048788744,4.199401382974975,4.193750602954626,4.188218708727696,4.182805700294186,4.177511577654095,4.172336340807423,4.16727998975417,4.162342524494337,4.157523945027923,4.152824251354928,4.148243443475352,4.1437815213891955,4.139438485096459,4.135214334597141,4.1311090698912425,4.127122690978763,4.123255197859703,4.119506590534062,4.115876869001841,4.112366033263038,4.108974083317656,4.105701019165692,4.102546840807148,4.099511548242022,4.096595141470317,4.09379762049203,4.091118985307163,4.088559235915715,4.086118372317686,4.083796394513076,null,4.083796394513076,4.082639074033551,4.081689213000442,4.080946811413747,4.080411869273466,4.080084386579601,4.07996436333215,4.0800517995311125,4.080346695176491,4.0808490502682835,4.0815588648064915,4.0824761387911135,4.08360087222215,4.084933065099602,4.086472717423467,4.088219829193748,4.090174400410443,4.092336431073553,4.094705921183078,4.097282870739017,4.100067279741371,4.103059148190139,4.106258476085322,4.10966526342692,4.113279510214932,4.11710121644936,4.121130382130201,4.1253670072574575,4.129811091831128,4.1344626358512135,4.139321639317714,4.144388102230629,4.149662024589959,4.155143406395703,4.160832247647861,4.166728548346435,4.172832308491423,4.179143528082825,4.185662207120643,4.192388345604875,4.199321943535522,4.206463000912583,4.213811517736059,4.22136749400595,4.229130929722254,4.2371018248849746,4.245280179494109,4.253665993549658,4.262259267051622,4.27106,null,4.391408633943204,4.390801967632751,4.390256889770656,4.38977340035692,4.389351499391541,4.38899118687452,4.3886924628058575,4.388455327185552,4.3882797800136055,4.388165821290016,4.388113451014785,4.388122669187912,4.3881934758093974,4.38832587087924,4.388519854397441,4.388775426364,4.389092586778917,4.389471335642192,4.389911672953825,4.390413598713815,4.390977112922164,4.391602215578871,4.392288906683936,4.3930371862373585,4.3938470542391395,4.394718510689278,4.395651555587774,4.396646188934629,4.397702410729842,4.398820220973413,4.399999619665341,4.401240606805628,4.402543182394272,4.403907346431275,4.4053330989166355,4.406820439850353,4.40836936923243,4.409979887062865,4.411651993341657,4.413385688068807,4.4151809712443155,4.417037842868182,4.418956302940407,4.4209363514609885,4.422977988429929,4.4250812138472275,4.427246027712884,4.429472430026898,4.43176042078927,4.43411,null],\"type\":\"scatter\"}],                        {\"template\":{\"data\":{\"histogram2dcontour\":[{\"type\":\"histogram2dcontour\",\"colorbar\":{\"outlinewidth\":0,\"ticks\":\"\"},\"colorscale\":[[0.0,\"#0d0887\"],[0.1111111111111111,\"#46039f\"],[0.2222222222222222,\"#7201a8\"],[0.3333333333333333,\"#9c179e\"],[0.4444444444444444,\"#bd3786\"],[0.5555555555555556,\"#d8576b\"],[0.6666666666666666,\"#ed7953\"],[0.7777777777777778,\"#fb9f3a\"],[0.8888888888888888,\"#fdca26\"],[1.0,\"#f0f921\"]]}],\"choropleth\":[{\"type\":\"choropleth\",\"colorbar\":{\"outlinewidth\":0,\"ticks\":\"\"}}],\"histogram2d\":[{\"type\":\"histogram2d\",\"colorbar\":{\"outlinewidth\":0,\"ticks\":\"\"},\"colorscale\":[[0.0,\"#0d0887\"],[0.1111111111111111,\"#46039f\"],[0.2222222222222222,\"#7201a8\"],[0.3333333333333333,\"#9c179e\"],[0.4444444444444444,\"#bd3786\"],[0.5555555555555556,\"#d8576b\"],[0.6666666666666666,\"#ed7953\"],[0.7777777777777778,\"#fb9f3a\"],[0.8888888888888888,\"#fdca26\"],[1.0,\"#f0f921\"]]}],\"heatmap\":[{\"type\":\"heatmap\",\"colorbar\":{\"outlinewidth\":0,\"ticks\":\"\"},\"colorscale\":[[0.0,\"#0d0887\"],[0.1111111111111111,\"#46039f\"],[0.2222222222222222,\"#7201a8\"],[0.3333333333333333,\"#9c179e\"],[0.4444444444444444,\"#bd3786\"],[0.5555555555555556,\"#d8576b\"],[0.6666666666666666,\"#ed7953\"],[0.7777777777777778,\"#fb9f3a\"],[0.8888888888888888,\"#fdca26\"],[1.0,\"#f0f921\"]]}],\"heatmapgl\":[{\"type\":\"heatmapgl\",\"colorbar\":{\"outlinewidth\":0,\"ticks\":\"\"},\"colorscale\":[[0.0,\"#0d0887\"],[0.1111111111111111,\"#46039f\"],[0.2222222222222222,\"#7201a8\"],[0.3333333333333333,\"#9c179e\"],[0.4444444444444444,\"#bd3786\"],[0.5555555555555556,\"#d8576b\"],[0.6666666666666666,\"#ed7953\"],[0.7777777777777778,\"#fb9f3a\"],[0.8888888888888888,\"#fdca26\"],[1.0,\"#f0f921\"]]}],\"contourcarpet\":[{\"type\":\"contourcarpet\",\"colorbar\":{\"outlinewidth\":0,\"ticks\":\"\"}}],\"contour\":[{\"type\":\"contour\",\"colorbar\":{\"outlinewidth\":0,\"ticks\":\"\"},\"colorscale\":[[0.0,\"#0d0887\"],[0.1111111111111111,\"#46039f\"],[0.2222222222222222,\"#7201a8\"],[0.3333333333333333,\"#9c179e\"],[0.4444444444444444,\"#bd3786\"],[0.5555555555555556,\"#d8576b\"],[0.6666666666666666,\"#ed7953\"],[0.7777777777777778,\"#fb9f3a\"],[0.8888888888888888,\"#fdca26\"],[1.0,\"#f0f921\"]]}],\"surface\":[{\"type\":\"surface\",\"colorbar\":{\"outlinewidth\":0,\"ticks\":\"\"},\"colorscale\":[[0.0,\"#0d0887\"],[0.1111111111111111,\"#46039f\"],[0.2222222222222222,\"#7201a8\"],[0.3333333333333333,\"#9c179e\"],[0.4444444444444444,\"#bd3786\"],[0.5555555555555556,\"#d8576b\"],[0.6666666666666666,\"#ed7953\"],[0.7777777777777778,\"#fb9f3a\"],[0.8888888888888888,\"#fdca26\"],[1.0,\"#f0f921\"]]}],\"mesh3d\":[{\"type\":\"mesh3d\",\"colorbar\":{\"outlinewidth\":0,\"ticks\":\"\"}}],\"scatter\":[{\"fillpattern\":{\"fillmode\":\"overlay\",\"size\":10,\"solidity\":0.2},\"type\":\"scatter\"}],\"parcoords\":[{\"type\":\"parcoords\",\"line\":{\"colorbar\":{\"outlinewidth\":0,\"ticks\":\"\"}}}],\"scatterpolargl\":[{\"type\":\"scatterpolargl\",\"marker\":{\"colorbar\":{\"outlinewidth\":0,\"ticks\":\"\"}}}],\"bar\":[{\"error_x\":{\"color\":\"#2a3f5f\"},\"error_y\":{\"color\":\"#2a3f5f\"},\"marker\":{\"line\":{\"color\":\"#E5ECF6\",\"width\":0.5},\"pattern\":{\"fillmode\":\"overlay\",\"size\":10,\"solidity\":0.2}},\"type\":\"bar\"}],\"scattergeo\":[{\"type\":\"scattergeo\",\"marker\":{\"colorbar\":{\"outlinewidth\":0,\"ticks\":\"\"}}}],\"scatterpolar\":[{\"type\":\"scatterpolar\",\"marker\":{\"colorbar\":{\"outlinewidth\":0,\"ticks\":\"\"}}}],\"histogram\":[{\"marker\":{\"pattern\":{\"fillmode\":\"overlay\",\"size\":10,\"solidity\":0.2}},\"type\":\"histogram\"}],\"scattergl\":[{\"type\":\"scattergl\",\"marker\":{\"colorbar\":{\"outlinewidth\":0,\"ticks\":\"\"}}}],\"scatter3d\":[{\"type\":\"scatter3d\",\"line\":{\"colorbar\":{\"outlinewidth\":0,\"ticks\":\"\"}},\"marker\":{\"colorbar\":{\"outlinewidth\":0,\"ticks\":\"\"}}}],\"scattermapbox\":[{\"type\":\"scattermapbox\",\"marker\":{\"colorbar\":{\"outlinewidth\":0,\"ticks\":\"\"}}}],\"scatterternary\":[{\"type\":\"scatterternary\",\"marker\":{\"colorbar\":{\"outlinewidth\":0,\"ticks\":\"\"}}}],\"scattercarpet\":[{\"type\":\"scattercarpet\",\"marker\":{\"colorbar\":{\"outlinewidth\":0,\"ticks\":\"\"}}}],\"carpet\":[{\"aaxis\":{\"endlinecolor\":\"#2a3f5f\",\"gridcolor\":\"white\",\"linecolor\":\"white\",\"minorgridcolor\":\"white\",\"startlinecolor\":\"#2a3f5f\"},\"baxis\":{\"endlinecolor\":\"#2a3f5f\",\"gridcolor\":\"white\",\"linecolor\":\"white\",\"minorgridcolor\":\"white\",\"startlinecolor\":\"#2a3f5f\"},\"type\":\"carpet\"}],\"table\":[{\"cells\":{\"fill\":{\"color\":\"#EBF0F8\"},\"line\":{\"color\":\"white\"}},\"header\":{\"fill\":{\"color\":\"#C8D4E3\"},\"line\":{\"color\":\"white\"}},\"type\":\"table\"}],\"barpolar\":[{\"marker\":{\"line\":{\"color\":\"#E5ECF6\",\"width\":0.5},\"pattern\":{\"fillmode\":\"overlay\",\"size\":10,\"solidity\":0.2}},\"type\":\"barpolar\"}],\"pie\":[{\"automargin\":true,\"type\":\"pie\"}]},\"layout\":{\"autotypenumbers\":\"strict\",\"colorway\":[\"#636efa\",\"#EF553B\",\"#00cc96\",\"#ab63fa\",\"#FFA15A\",\"#19d3f3\",\"#FF6692\",\"#B6E880\",\"#FF97FF\",\"#FECB52\"],\"font\":{\"color\":\"#2a3f5f\"},\"hovermode\":\"closest\",\"hoverlabel\":{\"align\":\"left\"},\"paper_bgcolor\":\"white\",\"plot_bgcolor\":\"#E5ECF6\",\"polar\":{\"bgcolor\":\"#E5ECF6\",\"angularaxis\":{\"gridcolor\":\"white\",\"linecolor\":\"white\",\"ticks\":\"\"},\"radialaxis\":{\"gridcolor\":\"white\",\"linecolor\":\"white\",\"ticks\":\"\"}},\"ternary\":{\"bgcolor\":\"#E5ECF6\",\"aaxis\":{\"gridcolor\":\"white\",\"linecolor\":\"white\",\"ticks\":\"\"},\"baxis\":{\"gridcolor\":\"white\",\"linecolor\":\"white\",\"ticks\":\"\"},\"caxis\":{\"gridcolor\":\"white\",\"linecolor\":\"white\",\"ticks\":\"\"}},\"coloraxis\":{\"colorbar\":{\"outlinewidth\":0,\"ticks\":\"\"}},\"colorscale\":{\"sequential\":[[0.0,\"#0d0887\"],[0.1111111111111111,\"#46039f\"],[0.2222222222222222,\"#7201a8\"],[0.3333333333333333,\"#9c179e\"],[0.4444444444444444,\"#bd3786\"],[0.5555555555555556,\"#d8576b\"],[0.6666666666666666,\"#ed7953\"],[0.7777777777777778,\"#fb9f3a\"],[0.8888888888888888,\"#fdca26\"],[1.0,\"#f0f921\"]],\"sequentialminus\":[[0.0,\"#0d0887\"],[0.1111111111111111,\"#46039f\"],[0.2222222222222222,\"#7201a8\"],[0.3333333333333333,\"#9c179e\"],[0.4444444444444444,\"#bd3786\"],[0.5555555555555556,\"#d8576b\"],[0.6666666666666666,\"#ed7953\"],[0.7777777777777778,\"#fb9f3a\"],[0.8888888888888888,\"#fdca26\"],[1.0,\"#f0f921\"]],\"diverging\":[[0,\"#8e0152\"],[0.1,\"#c51b7d\"],[0.2,\"#de77ae\"],[0.3,\"#f1b6da\"],[0.4,\"#fde0ef\"],[0.5,\"#f7f7f7\"],[0.6,\"#e6f5d0\"],[0.7,\"#b8e186\"],[0.8,\"#7fbc41\"],[0.9,\"#4d9221\"],[1,\"#276419\"]]},\"xaxis\":{\"gridcolor\":\"white\",\"linecolor\":\"white\",\"ticks\":\"\",\"title\":{\"standoff\":15},\"zerolinecolor\":\"white\",\"automargin\":true,\"zerolinewidth\":2},\"yaxis\":{\"gridcolor\":\"white\",\"linecolor\":\"white\",\"ticks\":\"\",\"title\":{\"standoff\":15},\"zerolinecolor\":\"white\",\"automargin\":true,\"zerolinewidth\":2},\"scene\":{\"xaxis\":{\"backgroundcolor\":\"#E5ECF6\",\"gridcolor\":\"white\",\"linecolor\":\"white\",\"showbackground\":true,\"ticks\":\"\",\"zerolinecolor\":\"white\",\"gridwidth\":2},\"yaxis\":{\"backgroundcolor\":\"#E5ECF6\",\"gridcolor\":\"white\",\"linecolor\":\"white\",\"showbackground\":true,\"ticks\":\"\",\"zerolinecolor\":\"white\",\"gridwidth\":2},\"zaxis\":{\"backgroundcolor\":\"#E5ECF6\",\"gridcolor\":\"white\",\"linecolor\":\"white\",\"showbackground\":true,\"ticks\":\"\",\"zerolinecolor\":\"white\",\"gridwidth\":2}},\"shapedefaults\":{\"line\":{\"color\":\"#2a3f5f\"}},\"annotationdefaults\":{\"arrowcolor\":\"#2a3f5f\",\"arrowhead\":0,\"arrowwidth\":1},\"geo\":{\"bgcolor\":\"white\",\"landcolor\":\"#E5ECF6\",\"subunitcolor\":\"white\",\"showland\":true,\"showlakes\":true,\"lakecolor\":\"white\"},\"title\":{\"x\":0.05},\"mapbox\":{\"style\":\"light\"}}}},                        {\"responsive\": true}                    ).then(function(){\n",
       "                            \n",
       "var gd = document.getElementById('3952b394-cab0-4136-8ab3-819f79cefbef');\n",
       "var x = new MutationObserver(function (mutations, observer) {{\n",
       "        var display = window.getComputedStyle(gd).display;\n",
       "        if (!display || display === 'none') {{\n",
       "            console.log([gd, 'removed!']);\n",
       "            Plotly.purge(gd);\n",
       "            observer.disconnect();\n",
       "        }}\n",
       "}});\n",
       "\n",
       "// Listen for the removal of the full notebook cells\n",
       "var notebookContainer = gd.closest('#notebook-container');\n",
       "if (notebookContainer) {{\n",
       "    x.observe(notebookContainer, {childList: true});\n",
       "}}\n",
       "\n",
       "// Listen for the clearing of the current output cell\n",
       "var outputEl = gd.closest('.output');\n",
       "if (outputEl) {{\n",
       "    x.observe(outputEl, {childList: true});\n",
       "}}\n",
       "\n",
       "                        })                };                });            </script>        </div>"
      ]
     },
     "metadata": {},
     "output_type": "display_data"
    }
   ],
   "source": [
    "FileDraw('084_4_C_day1.csv', 1.7, 0.2)"
   ]
  },
  {
   "cell_type": "code",
   "execution_count": 162,
   "id": "a11b892c",
   "metadata": {},
   "outputs": [
    {
     "name": "stdout",
     "output_type": "stream",
     "text": [
      "[([7.034575976620275], [4.1960672503640675]), ([7.068983405404603], [4.391408633943204]), ([7.070336402008574], [4.400306352762635])]\n"
     ]
    }
   ],
   "source": [
    "# method that takes  a csv file and computes the wiring cost\n",
    "def pythag(point1,point2):\n",
    "    x1, y1 = point1\n",
    "    x2, y2 = point2\n",
    "    distance = np.sqrt((x2-x1)**2 + (y2-y1)**2)\n",
    "    return distance\n",
    "\n",
    "def lengthMR(mainRoot):\n",
    "    num_points = len(mainRoot)\n",
    "    distances = [[0] * num_points for _ in range(num_points)]\n",
    "    mainRootTotal = 0\n",
    "    for i in range(num_points):\n",
    "        for j in range(i + 1, num_points):\n",
    "            distance = pythag(mainRoot[i], mainRoot[j])\n",
    "            mainRootTotal += distance\n",
    "        print (mainRootTotal)\n",
    "        return mainRootTotal\n",
    "\n",
    "def sumLatRoots(latRoots):\n",
    "    num = len(latRoots)\n",
    "    latRootTotal = 0\n",
    "    for i in range(num):\n",
    "        for j in range(num):\n",
    "            distance = pythag(latRoots[j][0], latRoots[j][1])\n",
    "            latRootTotal += distance\n",
    "    print (latRootTotal)\n",
    "    return latRootTotal\n",
    "\n",
    "def sumWiringCostOpt(csv):\n",
    "    array = parseData(csv)\n",
    "    mainRoot = array[0]\n",
    "    mainRootBase = mainRoot[0]\n",
    "    latRoots = array[1]\n",
    "    wiringCost = lengthMR(mainRoot) + sumLatRoots(latRoots)\n",
    "    return wiringCost\n",
    "\n",
    "optCon = []\n",
    "for pq in latPQ:\n",
    "    Array = findMostOptimal(mainRoot,0.3, 0.7,pq)\n",
    "    optCon.append(Array[0])\n",
    "print(optCon)"
   ]
  },
  {
   "cell_type": "code",
   "execution_count": 192,
   "id": "57a6c174",
   "metadata": {},
   "outputs": [
    {
     "ename": "SyntaxError",
     "evalue": "incomplete input (1465251073.py, line 28)",
     "output_type": "error",
     "traceback": [
      "\u001b[1;36m  Cell \u001b[1;32mIn[192], line 28\u001b[1;36m\u001b[0m\n\u001b[1;33m    #mainCD += (num-1)*distance\u001b[0m\n\u001b[1;37m                               ^\u001b[0m\n\u001b[1;31mSyntaxError\u001b[0m\u001b[1;31m:\u001b[0m incomplete input\n"
     ]
    }
   ],
   "source": [
    "optCon = []\n",
    "for pq in latPQ:\n",
    "    Array = findMostOptimal(mainRoot,0.3, 0.7,pq)\n",
    "    optCon.append(Array[0])\n",
    "        \n",
    "def sumConductionDelay(csv):\n",
    "    \n",
    "    array = parseData(csv)\n",
    "    mainRoot = array[0]\n",
    "    mainRootBase = mainRoot[0]\n",
    "    latRoots = array[1]\n",
    "\n",
    "    condDelay = sumLatRoots(latRoots) + mainCD(mainRoot, optCon)\n",
    "\n",
    "print(mainRootBase)\n",
    "print(mainRoot)\n",
    "print(len(mainRootBase))\n",
    "print(optCon[0])\n",
    "print(len(optCon[0]))\n",
    "\n",
    "x1, y1 = mainRootBase\n",
    "\n",
    "def mainCD(mainRootBase, optCon):\n",
    "    num = len(optCon)\n",
    "    mainCD = 0\n",
    "    for i in range(num):\n",
    "        distance = pythag(mainRootBase,optCon[i])\n",
    "        mainCD += (num-1)*distance"
   ]
  },
  {
   "cell_type": "code",
   "execution_count": 173,
   "id": "c9051102",
   "metadata": {},
   "outputs": [],
   "source": [
    "array = parseData('084_4_C_day1.csv')\n",
    "\n",
    "Plant = readArborFile('084_4_C_day1.csv')\n",
    "optimalPlant = optimalArbor(Plant, 0.3, 0.7)\n",
    "\n",
    "mainRoot = array[0]\n",
    "mainRootBase = mainRoot[0]\n",
    "endRoot = mainRoot[-1]\n",
    "\n",
    "latRoots = array[1]\n",
    "num = len(latRoots)\n",
    "latPQ=[]\n",
    "for i in range(num):\n",
    "    latPQ.append(latRoots[i][2])\n",
    "\n",
    "optCon = []\n",
    "for pq in latPQ:\n",
    "    Array = findMostOptimal(mainRoot,0.3, 0.7,pq)\n",
    "    optCon.append(Array[0])\n",
    "  "
   ]
  },
  {
   "cell_type": "code",
   "execution_count": 160,
   "id": "904b092d",
   "metadata": {},
   "outputs": [],
   "source": [
    "def sumWiringCost2(arbor):\n",
    "    array = drawArbor(arbor)\n",
    "    print(array)\n"
   ]
  },
  {
   "cell_type": "code",
   "execution_count": 174,
   "id": "47d0701c",
   "metadata": {},
   "outputs": [
    {
     "name": "stdout",
     "output_type": "stream",
     "text": [
      "[Scatter({\n",
      "    'mode': 'markers', 'name': 'main root base', 'x': [7.014674], 'y': [4.083105]\n",
      "}), Scatter({\n",
      "    'mode': 'markers',\n",
      "    'name': 'main root points',\n",
      "    'x': [7.068931, 7.097697, 7.102405, 7.096509, 7.078003, 7.057387, 7.064473,\n",
      "          7.056801, 7.045027, 7.03578, 7.053914, 7.058697, 7.050602, 7.021744],\n",
      "    'y': [4.391064, 4.580238, 4.699361, 4.817372, 4.93411, 5.050687, 5.168109,\n",
      "          5.286132, 5.443573, 5.623435, 5.801408, 5.991669, 6.214376, 6.799064]\n",
      "}), Scatter({\n",
      "    'mode': 'markers', 'name': 'optimal connections', 'x': [], 'y': []\n",
      "}), Scatter({\n",
      "    'mode': 'markers',\n",
      "    'name': 'lateral root points',\n",
      "    'x': [7.03248, 6.921742, 6.763005, 7.065898, 7.312281, 7.439422, 7.125593,\n",
      "          7.182462, 7.287631],\n",
      "    'y': [4.136673, 4.219422, 4.337383, 4.198863, 4.231294, 4.27106, 4.363359,\n",
      "          4.368823, 4.43411]\n",
      "}), Scatter({\n",
      "    'mode': 'lines',\n",
      "    'name': 'main root',\n",
      "    'x': [7.014674, 7.068931, None, 7.068931, 7.097697, None, 7.097697, 7.102405,\n",
      "          None, 7.102405, 7.096509, None, 7.096509, 7.078003, None, 7.078003,\n",
      "          7.057387, None, 7.057387, 7.064473, None, 7.064473, 7.056801, None,\n",
      "          7.056801, 7.045027, None, 7.045027, 7.03578, None, 7.03578, 7.053914,\n",
      "          None, 7.053914, 7.058697, None, 7.058697, 7.050602, None, 7.050602,\n",
      "          7.021744, None],\n",
      "    'y': [4.083105, 4.391064, None, 4.391064, 4.580238, None, 4.580238, 4.699361,\n",
      "          None, 4.699361, 4.817372, None, 4.817372, 4.93411, None, 4.93411,\n",
      "          5.050687, None, 5.050687, 5.168109, None, 5.168109, 5.286132, None,\n",
      "          5.286132, 5.443573, None, 5.443573, 5.623435, None, 5.623435, 5.801408,\n",
      "          None, 5.801408, 5.991669, None, 5.991669, 6.214376, None, 6.214376,\n",
      "          6.799064, None]\n",
      "}), Scatter({\n",
      "    'mode': 'lines',\n",
      "    'name': 'lateral root',\n",
      "    'x': [7.03248, 6.921742, None, 6.921742, 6.763005, None, 7.065898, 7.312281,\n",
      "          None, 7.312281, 7.439422, None, 7.125593, 7.182462, None, 7.182462,\n",
      "          7.287631, None],\n",
      "    'y': [4.136673, 4.219422, None, 4.219422, 4.337383, None, 4.198863, 4.231294,\n",
      "          None, 4.231294, 4.27106, None, 4.363359, 4.368823, None, 4.368823,\n",
      "          4.43411, None]\n",
      "})]\n"
     ]
    }
   ],
   "source": [
    "arbor = readArborFile('084_4_C_day1.csv')\n",
    "sumWiringCost2(arbor)"
   ]
  },
  {
   "cell_type": "code",
   "execution_count": null,
   "id": "833ce55b",
   "metadata": {},
   "outputs": [],
   "source": []
  }
 ],
 "metadata": {
  "kernelspec": {
   "display_name": "Python 3 (ipykernel)",
   "language": "python",
   "name": "python3"
  },
  "language_info": {
   "codemirror_mode": {
    "name": "ipython",
    "version": 3
   },
   "file_extension": ".py",
   "mimetype": "text/x-python",
   "name": "python",
   "nbconvert_exporter": "python",
   "pygments_lexer": "ipython3",
   "version": "3.11.3"
  }
 },
 "nbformat": 4,
 "nbformat_minor": 5
}
