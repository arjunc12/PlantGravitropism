{
 "cells": [
  {
   "cell_type": "code",
   "execution_count": 7,
   "id": "a5ee3e0b-7265-4143-967e-35c56d927f9a",
   "metadata": {},
   "outputs": [],
   "source": [
    "import matplotlib.pyplot as plt\n",
    "import numpy as np\n",
    "import pylab\n",
    "import scipy"
   ]
  },
  {
   "cell_type": "code",
   "execution_count": 8,
   "id": "a3afe834-2027-458a-9bc0-993e8ec1b41e",
   "metadata": {},
   "outputs": [],
   "source": [
    "def ploting(Tmax,p,q,t,G):\n",
    "    y= np.linspace(Tmax,0)\n",
    "    x=0*y\n",
    "    plt.plot(x,y)\n",
    "    x1=np.linspace(0,p)\n",
    "    b=(q - G*(p**2) -t)/p\n",
    "    y1=G * x1**2 + b*x1 + t\n",
    "    plt.plot(x1,y1)"
   ]
  },
  {
   "cell_type": "code",
   "execution_count": 9,
   "id": "93a3705a-43ef-42bc-9048-f74a9303f2a8",
   "metadata": {},
   "outputs": [],
   "source": [
    "def lengthOfCurveSegment(G,b,t,x1,x2):\n",
    "    y1= G*(x1**2) +b*x1 +t\n",
    "    y2 =G*(x2**2) +b*x2 +t\n",
    "    dx = x1-x2\n",
    "    dy = y1-y2\n",
    "    return np.sqrt(dx**2 + dy**2)"
   ]
  },
  {
   "cell_type": "code",
   "execution_count": 10,
   "id": "02c20ab7-71e4-4e5a-9184-0694beb5bb38",
   "metadata": {},
   "outputs": [],
   "source": [
    "def findBest(Tmax,G,p,q):\n",
    "    t=0\n",
    "    bestLength= 1000000000000.0\n",
    "    bestT = t\n",
    "    while t >= Tmax:\n",
    "        b = (q - G * (p**2) - t)/p\n",
    "        #y = G*(x**2) +b*x +t\n",
    "        length = 0.0\n",
    "        x1 =0.0\n",
    "        if p >0:\n",
    "            x2 =0.1\n",
    "            while x2 <= p:\n",
    "                length = length +lengthOfCurveSegment(G,b,t,x1,x2)\n",
    "                x1 = x2\n",
    "                x2= x2+.01 #last \n",
    "        elif p <0:\n",
    "            x2 = -0.1\n",
    "            while x2 >= p:\n",
    "                length = length + lengthOfCurveSegment(G,b,t,x1,x2)\n",
    "                x1=x2\n",
    "                x2=x2-.01 #last\n",
    "        if length < bestLength:\n",
    "            bestLength = length\n",
    "            bestT = t\n",
    "        t = t - 0.1 #last \n",
    "    ploting(Tmax,p,q,bestT,G)\n",
    "    print(\"length: \" + str(bestLength) +\" t= \" + str(bestT))"
   ]
  },
  {
   "cell_type": "code",
   "execution_count": 13,
   "id": "e0c7e8f3-58d7-46dc-b6b0-bf287e541b18",
   "metadata": {},
   "outputs": [
    {
     "name": "stdout",
     "output_type": "stream",
     "text": [
      "length: 101.04726456329693 t= -55.00000000000051\n",
      "length: 8.378677191501376 t= -70.0000000000003\n"
     ]
    },
    {
     "data": {
      "image/png": "[encoded data removed]",
      "text/plain": [
       "<Figure size 640x480 with 1 Axes>"
      ]
     },
     "metadata": {},
     "output_type": "display_data"
    }
   ],
   "source": [
    "findBest(-100.0,-2,10.0,-55)\n",
    "findBest(-100,-0.5,-5,-70)"
   ]
  },
  {
   "cell_type": "code",
   "execution_count": null,
   "id": "391be9cd-f7fd-4d36-9f37-718f4f1f183a",
   "metadata": {},
   "outputs": [],
   "source": []
  }
 ],
 "metadata": {
  "kernelspec": {
   "display_name": "Python 3 (ipykernel)",
   "language": "python",
   "name": "python3"
  },
  "language_info": {
   "codemirror_mode": {
    "name": "ipython",
    "version": 3
   },
   "file_extension": ".py",
   "mimetype": "text/x-python",
   "name": "python",
   "nbconvert_exporter": "python",
   "pygments_lexer": "ipython3",
   "version": "3.10.9"
  }
 },
 "nbformat": 4,
 "nbformat_minor": 5
}
