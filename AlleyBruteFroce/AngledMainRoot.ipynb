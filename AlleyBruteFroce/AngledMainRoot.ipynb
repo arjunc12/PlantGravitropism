{
 "cells": [
  {
   "cell_type": "code",
   "execution_count": 1,
   "id": "6856dd8d-43f4-4df5-b115-ef3c9c13e158",
   "metadata": {},
   "outputs": [],
   "source": [
    "import matplotlib.pyplot as plt\n",
    "import numpy as np\n",
    "import pylab\n",
    "import scipy\n",
    "import plotly\n",
    "from plotly import graph_objs as go\n",
    "from plotly.offline import iplot, plot, init_notebook_mode"
   ]
  },
  {
   "cell_type": "code",
   "execution_count": 2,
   "id": "b19bea65-7d3e-40cb-ad9e-cf84d3e0ecf8",
   "metadata": {},
   "outputs": [],
   "source": [
    "def findBest(Tmax,G,p,q,a):\n",
    "    t=0\n",
    "    bestLength= 1000000000000.0\n",
    "    bestT = t\n",
    "    while t >= Tmax:\n",
    "        b = (q - G * (p**2) - t)/p\n",
    "        if p>0:\n",
    "            x =np.linspace(0, p, num=50)\n",
    "        elif p < 0:\n",
    "            x =np.linspace(p, 0, num=50)\n",
    "        lot = np.sqrt(1+(2*G*x + ((q-G*(p**2)-t)/p))**2)\n",
    "        y= a*(lot) +(1-a)*(lot - t)\n",
    "        length = scipy.integrate.trapezoid(y,x)\n",
    "        if length < bestLength:\n",
    "            #ploting(Tmax,p,q,bestT,G) #comparing possible lines\n",
    "            bestLength = length\n",
    "            bestT = t\n",
    "        t = t - 0.01 #last \n",
    "    #ploting(Tmax,p,q,bestT,G)\n",
    "    #print(\"length: \" + str(bestLength) +\" t= \" + str(bestT))\n",
    "    return(bestLength,bestT)"
   ]
  },
  {
   "cell_type": "code",
   "execution_count": 3,
   "id": "03c7102b-42c1-4018-bd24-42f3b7ea858b",
   "metadata": {},
   "outputs": [],
   "source": [
    "def plotArray(Tmax,G,p,q,a):\n",
    "    findArray = findBest(Tmax,G,p,q,a)\n",
    "    t= findArray[1]\n",
    "    x1=np.linspace(0,p)\n",
    "    b=(q - G*(p**2) -t)/p\n",
    "    y1=G * x1**2 + b*x1 + t\n",
    "    trace2 =go.Scatter(x=x1,y=y1,mode='lines', name= str(findArray[0]))\n",
    "    return trace2"
   ]
  },
  {
   "cell_type": "code",
   "execution_count": 4,
   "id": "bf65396d-c8a8-467e-a339-9bb57ebd6618",
   "metadata": {},
   "outputs": [],
   "source": [
    "def mainroot(a,b,c,d):\n",
    "    Tmax = -1 * np.sqrt((b-d)**2 +(a-c)**2)\n",
    "    return Tmax"
   ]
  },
  {
   "cell_type": "code",
   "execution_count": 5,
   "id": "e8106940-3ab0-4b90-9c68-1ca47f73a81b",
   "metadata": {},
   "outputs": [],
   "source": [
    "def newPQ(a,b,c,d,p,q):\n",
    "    m=(d-b)/(c-a)\n",
    "    x1=((p/m)+q+(m*a)-b)/(m +(1/m))\n",
    "    y1= m*(x1-a)+b\n",
    "    newQ= - np.sqrt((b-y1)**2 +(a-x1)**2)\n",
    "    newP= np.sqrt((p-x1)**2 +(q-y1)**2)\n",
    "    if p < x1:\n",
    "        newP=-newP\n",
    "    print(p,q,newP,newQ)\n",
    "    return (newP, newQ)"
   ]
  },
  {
   "cell_type": "code",
   "execution_count": 6,
   "id": "d8e76449-c199-4873-9195-0bb96022aeb0",
   "metadata": {},
   "outputs": [],
   "source": [
    "def plotNewpq (p,q,a,b,c,d,G,al,Tmax):\n",
    "    pqArray= newPQ(a,b,c,d,p,q)\n",
    "    Array =plotArray(Tmax,G,pqArray[0],pqArray[1],al)\n",
    "    return Array"
   ]
  },
  {
   "cell_type": "code",
   "execution_count": 7,
   "id": "ae12e029-97ee-45b6-8517-288d594b63d7",
   "metadata": {},
   "outputs": [],
   "source": [
    "def ploting(Tmax, Array):\n",
    "    y= np.linspace(Tmax,0)\n",
    "    x=0*y\n",
    "    trace = go.Scatter(x=x,y=y, mode='lines', name= \"main root\")\n",
    "    Array.append(trace)\n",
    "    iplot(Array)"
   ]
  },
  {
   "cell_type": "code",
   "execution_count": 16,
   "id": "6e917633-3329-41ae-b2ad-93aed9361450",
   "metadata": {},
   "outputs": [],
   "source": [
    "def findOgT(p,q,a,b,c,d,G,al):\n",
    "    pqArray = newPQ(a,b,c,d,p,q)\n",
    "    Tmax = mainroot(a,b,c,d)\n",
    "    findArray= findBest(Tmax,G,p,q,a)\n",
    "    t= findArray[1]\n",
    "    m= (d-b)/(c-a)\n",
    "    qa= m**2 +1\n",
    "    qb= 2*m*b - (2*(m**2)*a)\n",
    "    qc= ((a**2)* (m**2))-(2*m*a*b) +(m*b)-(t**2)\n",
    "    x1= (-qb + np.sqrt(qb**2 -(4*qa*qc)))/(2*qa)\n",
    "    if (x1 <a and x1 <c) or (x1>a and x1>c):\n",
    "        x1= (-qb - np.sqrt(qb**2 -(4*qa*qc)))/(2*qa)\n",
    "    y1 = m*(x1-a)+b\n",
    "    return(x1,y1,findArray[0])"
   ]
  },
  {
   "cell_type": "code",
   "execution_count": 15,
   "id": "77075c5c-5da8-4a6c-a3bc-357be44732ec",
   "metadata": {},
   "outputs": [
    {
     "name": "stdout",
     "output_type": "stream",
     "text": [
      "1 -4 -4.242640687119285 -4.242640687119285\n",
      "7 -2 1.4142135623730951 -7.0710678118654755\n"
     ]
    },
    {
     "data": {
      "application/vnd.plotly.v1+json": {
       "config": {
        "linkText": "Export to plot.ly",
        "plotlyServerURL": "https://plot.ly",
        "showLink": false
       },
       "data": [
        {
         "mode": "lines",
         "name": "7.369011274791707",
         "type": "scatter",
         "x": [
          0,
          -0.08658450381876091,
          -0.17316900763752183,
          -0.2597535114562827,
          -0.34633801527504365,
          -0.4329225190938046,
          -0.5195070229125655,
          -0.6060915267313264,
          -0.6926760305500873,
          -0.7792605343688482,
          -0.8658450381876092,
          -0.9524295420063701,
          -1.039014045825131,
          -1.1255985496438918,
          -1.2121830534626528,
          -1.2987675572814137,
          -1.3853520611001746,
          -1.4719365649189355,
          -1.5585210687376965,
          -1.6451055725564574,
          -1.7316900763752183,
          -1.8182745801939793,
          -1.9048590840127402,
          -1.991443587831501,
          -2.078028091650262,
          -2.164612595469023,
          -2.2511970992877837,
          -2.337781603106545,
          -2.4243661069253055,
          -2.5109506107440667,
          -2.5975351145628274,
          -2.6841196183815885,
          -2.7707041222003492,
          -2.85728862601911,
          -2.943873129837871,
          -3.030457633656632,
          -3.117042137475393,
          -3.2036266412941536,
          -3.290211145112915,
          -3.3767956489316755,
          -3.4633801527504366,
          -3.5499646565691974,
          -3.6365491603879585,
          -3.723133664206719,
          -3.8097181680254804,
          -3.896302671844241,
          -3.982887175663002,
          -4.069471679481763,
          -4.156056183300524,
          -4.242640687119285
         ],
         "y": [
          0,
          0.09334052741822364,
          0.17918417853490626,
          0.2575309533500479,
          0.32838085186364846,
          0.391733874075708,
          0.44759001998622655,
          0.495949289595204,
          0.5368116829026405,
          0.5701771999085359,
          0.5960458406128903,
          0.6144176050157037,
          0.6252924931169763,
          0.6286705049167076,
          0.624551640414898,
          0.6129358996115473,
          0.5938232825066555,
          0.5672137891002227,
          0.5331074193922489,
          0.4915041733827341,
          0.44240405107167846,
          0.38580705245908176,
          0.3217131775449438,
          0.25012242632926496,
          0.17103479881204553,
          0.08445029499328394,
          -0.009631085127017602,
          -0.11120934154886086,
          -0.2202844742722445,
          -0.3368564832971699,
          -0.46092536862363565,
          -0.5924911302516431,
          -0.731553768181191,
          -0.8781132824122793,
          -1.0321696729449106,
          -1.193722939779081,
          -1.362773082914794,
          -1.539320102352046,
          -1.7233639980908415,
          -1.914904770131176,
          -2.1139424184730524,
          -2.3204769431164696,
          -2.534508344061428,
          -2.756036621307927,
          -2.985061774855968,
          -3.221583804705549,
          -3.465602710856672,
          -3.7171184933093366,
          -3.9761311520635374,
          -4.242640687119285
         ]
        },
        {
         "mode": "lines",
         "name": "3.454330981012159",
         "type": "scatter",
         "x": [
          0,
          0.02886150127292031,
          0.05772300254584062,
          0.08658450381876093,
          0.11544600509168124,
          0.14430750636460155,
          0.17316900763752185,
          0.20203050891044216,
          0.23089201018336247,
          0.2597535114562828,
          0.2886150127292031,
          0.3174765140021234,
          0.3463380152750437,
          0.375199516547964,
          0.4040610178208843,
          0.43292251909380464,
          0.46178402036672495,
          0.49064552163964525,
          0.5195070229125656,
          0.5483685241854859,
          0.5772300254584062,
          0.6060915267313265,
          0.6349530280042468,
          0.6638145292771671,
          0.6926760305500874,
          0.7215375318230077,
          0.750399033095928,
          0.7792605343688483,
          0.8081220356417687,
          0.836983536914689,
          0.8658450381876093,
          0.8947065394605296,
          0.9235680407334499,
          0.9524295420063702,
          0.9812910432792905,
          1.0101525445522108,
          1.0390140458251311,
          1.0678755470980514,
          1.0967370483709717,
          1.125598549643892,
          1.1544600509168124,
          1.1833215521897327,
          1.212183053462653,
          1.2410445547355733,
          1.2699060560084936,
          1.298767557281414,
          1.3276290585543342,
          1.3564905598272545,
          1.3853520611001748,
          1.4142135623730951
         ],
         "y": [
          -6.569999999999904,
          -6.560234203574004,
          -6.55130139340383,
          -6.5432015694893835,
          -6.535934731830663,
          -6.52950088042767,
          -6.523900015280403,
          -6.519132136388864,
          -6.51519724375305,
          -6.512095337372965,
          -6.509826417248605,
          -6.508390483379972,
          -6.507787535767067,
          -6.508017574409887,
          -6.509080599308435,
          -6.510976610462709,
          -6.51370560787271,
          -6.517267591538439,
          -6.521662561459894,
          -6.526890517637075,
          -6.532951460069984,
          -6.539845388758619,
          -6.547572303702981,
          -6.5561322049030695,
          -6.565525092358885,
          -6.5757509660704265,
          -6.586809826037696,
          -6.598701672260692,
          -6.6114265047394145,
          -6.624984323473864,
          -6.63937512846404,
          -6.654598919709943,
          -6.670655697211573,
          -6.687545460968929,
          -6.7052682109820125,
          -6.723823947250823,
          -6.743212669775359,
          -6.763434378555623,
          -6.7844890735916135,
          -6.80637675488333,
          -6.829097422430775,
          -6.852651076233945,
          -6.877037716292843,
          -6.902257342607467,
          -6.928309955177818,
          -6.955195554003897,
          -6.982914139085701,
          -7.0114657104232325,
          -7.040850268016491,
          -7.0710678118654755
         ]
        },
        {
         "mode": "lines",
         "name": "main root",
         "type": "scatter",
         "x": [
          0,
          0,
          0,
          0,
          0,
          0,
          0,
          0,
          0,
          0,
          0,
          0,
          0,
          0,
          0,
          0,
          0,
          0,
          0,
          0,
          0,
          0,
          0,
          0,
          0,
          0,
          0,
          0,
          0,
          0,
          0,
          0,
          0,
          0,
          0,
          0,
          0,
          0,
          0,
          0,
          0,
          0,
          0,
          0,
          0,
          0,
          0,
          0,
          0,
          0
         ],
         "y": [
          -12.727922061357855,
          -12.468168549901572,
          -12.20841503844529,
          -11.948661526989007,
          -11.688908015532725,
          -11.429154504076442,
          -11.169400992620158,
          -10.909647481163876,
          -10.649893969707593,
          -10.39014045825131,
          -10.130386946795028,
          -9.870633435338744,
          -9.610879923882461,
          -9.35112641242618,
          -9.091372900969896,
          -8.831619389513612,
          -8.57186587805733,
          -8.312112366601049,
          -8.052358855144766,
          -7.792605343688482,
          -7.5328518322322,
          -7.273098320775917,
          -7.0133448093196336,
          -6.753591297863351,
          -6.493837786407068,
          -6.234084274950786,
          -5.974330763494503,
          -5.71457725203822,
          -5.454823740581937,
          -5.195070229125655,
          -4.935316717669371,
          -4.67556320621309,
          -4.415809694756806,
          -4.156056183300523,
          -3.896302671844241,
          -3.6365491603879576,
          -3.376795648931676,
          -3.1170421374753925,
          -2.857288626019109,
          -2.5975351145628274,
          -2.337781603106544,
          -2.0780280916502605,
          -1.8182745801939788,
          -1.5585210687376954,
          -1.298767557281412,
          -1.0390140458251302,
          -0.7792605343688468,
          -0.5195070229125651,
          -0.25975351145628167,
          0
         ]
        }
       ],
       "layout": {
        "autosize": true,
        "template": {
         "data": {
          "bar": [
           {
            "error_x": {
             "color": "#2a3f5f"
            },
            "error_y": {
             "color": "#2a3f5f"
            },
            "marker": {
             "line": {
              "color": "#E5ECF6",
              "width": 0.5
             },
             "pattern": {
              "fillmode": "overlay",
              "size": 10,
              "solidity": 0.2
             }
            },
            "type": "bar"
           }
          ],
          "barpolar": [
           {
            "marker": {
             "line": {
              "color": "#E5ECF6",
              "width": 0.5
             },
             "pattern": {
              "fillmode": "overlay",
              "size": 10,
              "solidity": 0.2
             }
            },
            "type": "barpolar"
           }
          ],
          "carpet": [
           {
            "aaxis": {
             "endlinecolor": "#2a3f5f",
             "gridcolor": "white",
             "linecolor": "white",
             "minorgridcolor": "white",
             "startlinecolor": "#2a3f5f"
            },
            "baxis": {
             "endlinecolor": "#2a3f5f",
             "gridcolor": "white",
             "linecolor": "white",
             "minorgridcolor": "white",
             "startlinecolor": "#2a3f5f"
            },
            "type": "carpet"
           }
          ],
          "choropleth": [
           {
            "colorbar": {
             "outlinewidth": 0,
             "ticks": ""
            },
            "type": "choropleth"
           }
          ],
          "contour": [
           {
            "colorbar": {
             "outlinewidth": 0,
             "ticks": ""
            },
            "colorscale": [
             [
              0,
              "#0d0887"
             ],
             [
              0.1111111111111111,
              "#46039f"
             ],
             [
              0.2222222222222222,
              "#7201a8"
             ],
             [
              0.3333333333333333,
              "#9c179e"
             ],
             [
              0.4444444444444444,
              "#bd3786"
             ],
             [
              0.5555555555555556,
              "#d8576b"
             ],
             [
              0.6666666666666666,
              "#ed7953"
             ],
             [
              0.7777777777777778,
              "#fb9f3a"
             ],
             [
              0.8888888888888888,
              "#fdca26"
             ],
             [
              1,
              "#f0f921"
             ]
            ],
            "type": "contour"
           }
          ],
          "contourcarpet": [
           {
            "colorbar": {
             "outlinewidth": 0,
             "ticks": ""
            },
            "type": "contourcarpet"
           }
          ],
          "heatmap": [
           {
            "colorbar": {
             "outlinewidth": 0,
             "ticks": ""
            },
            "colorscale": [
             [
              0,
              "#0d0887"
             ],
             [
              0.1111111111111111,
              "#46039f"
             ],
             [
              0.2222222222222222,
              "#7201a8"
             ],
             [
              0.3333333333333333,
              "#9c179e"
             ],
             [
              0.4444444444444444,
              "#bd3786"
             ],
             [
              0.5555555555555556,
              "#d8576b"
             ],
             [
              0.6666666666666666,
              "#ed7953"
             ],
             [
              0.7777777777777778,
              "#fb9f3a"
             ],
             [
              0.8888888888888888,
              "#fdca26"
             ],
             [
              1,
              "#f0f921"
             ]
            ],
            "type": "heatmap"
           }
          ],
          "heatmapgl": [
           {
            "colorbar": {
             "outlinewidth": 0,
             "ticks": ""
            },
            "colorscale": [
             [
              0,
              "#0d0887"
             ],
             [
              0.1111111111111111,
              "#46039f"
             ],
             [
              0.2222222222222222,
              "#7201a8"
             ],
             [
              0.3333333333333333,
              "#9c179e"
             ],
             [
              0.4444444444444444,
              "#bd3786"
             ],
             [
              0.5555555555555556,
              "#d8576b"
             ],
             [
              0.6666666666666666,
              "#ed7953"
             ],
             [
              0.7777777777777778,
              "#fb9f3a"
             ],
             [
              0.8888888888888888,
              "#fdca26"
             ],
             [
              1,
              "#f0f921"
             ]
            ],
            "type": "heatmapgl"
           }
          ],
          "histogram": [
           {
            "marker": {
             "pattern": {
              "fillmode": "overlay",
              "size": 10,
              "solidity": 0.2
             }
            },
            "type": "histogram"
           }
          ],
          "histogram2d": [
           {
            "colorbar": {
             "outlinewidth": 0,
             "ticks": ""
            },
            "colorscale": [
             [
              0,
              "#0d0887"
             ],
             [
              0.1111111111111111,
              "#46039f"
             ],
             [
              0.2222222222222222,
              "#7201a8"
             ],
             [
              0.3333333333333333,
              "#9c179e"
             ],
             [
              0.4444444444444444,
              "#bd3786"
             ],
             [
              0.5555555555555556,
              "#d8576b"
             ],
             [
              0.6666666666666666,
              "#ed7953"
             ],
             [
              0.7777777777777778,
              "#fb9f3a"
             ],
             [
              0.8888888888888888,
              "#fdca26"
             ],
             [
              1,
              "#f0f921"
             ]
            ],
            "type": "histogram2d"
           }
          ],
          "histogram2dcontour": [
           {
            "colorbar": {
             "outlinewidth": 0,
             "ticks": ""
            },
            "colorscale": [
             [
              0,
              "#0d0887"
             ],
             [
              0.1111111111111111,
              "#46039f"
             ],
             [
              0.2222222222222222,
              "#7201a8"
             ],
             [
              0.3333333333333333,
              "#9c179e"
             ],
             [
              0.4444444444444444,
              "#bd3786"
             ],
             [
              0.5555555555555556,
              "#d8576b"
             ],
             [
              0.6666666666666666,
              "#ed7953"
             ],
             [
              0.7777777777777778,
              "#fb9f3a"
             ],
             [
              0.8888888888888888,
              "#fdca26"
             ],
             [
              1,
              "#f0f921"
             ]
            ],
            "type": "histogram2dcontour"
           }
          ],
          "mesh3d": [
           {
            "colorbar": {
             "outlinewidth": 0,
             "ticks": ""
            },
            "type": "mesh3d"
           }
          ],
          "parcoords": [
           {
            "line": {
             "colorbar": {
              "outlinewidth": 0,
              "ticks": ""
             }
            },
            "type": "parcoords"
           }
          ],
          "pie": [
           {
            "automargin": true,
            "type": "pie"
           }
          ],
          "scatter": [
           {
            "fillpattern": {
             "fillmode": "overlay",
             "size": 10,
             "solidity": 0.2
            },
            "type": "scatter"
           }
          ],
          "scatter3d": [
           {
            "line": {
             "colorbar": {
              "outlinewidth": 0,
              "ticks": ""
             }
            },
            "marker": {
             "colorbar": {
              "outlinewidth": 0,
              "ticks": ""
             }
            },
            "type": "scatter3d"
           }
          ],
          "scattercarpet": [
           {
            "marker": {
             "colorbar": {
              "outlinewidth": 0,
              "ticks": ""
             }
            },
            "type": "scattercarpet"
           }
          ],
          "scattergeo": [
           {
            "marker": {
             "colorbar": {
              "outlinewidth": 0,
              "ticks": ""
             }
            },
            "type": "scattergeo"
           }
          ],
          "scattergl": [
           {
            "marker": {
             "colorbar": {
              "outlinewidth": 0,
              "ticks": ""
             }
            },
            "type": "scattergl"
           }
          ],
          "scattermapbox": [
           {
            "marker": {
             "colorbar": {
              "outlinewidth": 0,
              "ticks": ""
             }
            },
            "type": "scattermapbox"
           }
          ],
          "scatterpolar": [
           {
            "marker": {
             "colorbar": {
              "outlinewidth": 0,
              "ticks": ""
             }
            },
            "type": "scatterpolar"
           }
          ],
          "scatterpolargl": [
           {
            "marker": {
             "colorbar": {
              "outlinewidth": 0,
              "ticks": ""
             }
            },
            "type": "scatterpolargl"
           }
          ],
          "scatterternary": [
           {
            "marker": {
             "colorbar": {
              "outlinewidth": 0,
              "ticks": ""
             }
            },
            "type": "scatterternary"
           }
          ],
          "surface": [
           {
            "colorbar": {
             "outlinewidth": 0,
             "ticks": ""
            },
            "colorscale": [
             [
              0,
              "#0d0887"
             ],
             [
              0.1111111111111111,
              "#46039f"
             ],
             [
              0.2222222222222222,
              "#7201a8"
             ],
             [
              0.3333333333333333,
              "#9c179e"
             ],
             [
              0.4444444444444444,
              "#bd3786"
             ],
             [
              0.5555555555555556,
              "#d8576b"
             ],
             [
              0.6666666666666666,
              "#ed7953"
             ],
             [
              0.7777777777777778,
              "#fb9f3a"
             ],
             [
              0.8888888888888888,
              "#fdca26"
             ],
             [
              1,
              "#f0f921"
             ]
            ],
            "type": "surface"
           }
          ],
          "table": [
           {
            "cells": {
             "fill": {
              "color": "#EBF0F8"
             },
             "line": {
              "color": "white"
             }
            },
            "header": {
             "fill": {
              "color": "#C8D4E3"
             },
             "line": {
              "color": "white"
             }
            },
            "type": "table"
           }
          ]
         },
         "layout": {
          "annotationdefaults": {
           "arrowcolor": "#2a3f5f",
           "arrowhead": 0,
           "arrowwidth": 1
          },
          "autotypenumbers": "strict",
          "coloraxis": {
           "colorbar": {
            "outlinewidth": 0,
            "ticks": ""
           }
          },
          "colorscale": {
           "diverging": [
            [
             0,
             "#8e0152"
            ],
            [
             0.1,
             "#c51b7d"
            ],
            [
             0.2,
             "#de77ae"
            ],
            [
             0.3,
             "#f1b6da"
            ],
            [
             0.4,
             "#fde0ef"
            ],
            [
             0.5,
             "#f7f7f7"
            ],
            [
             0.6,
             "#e6f5d0"
            ],
            [
             0.7,
             "#b8e186"
            ],
            [
             0.8,
             "#7fbc41"
            ],
            [
             0.9,
             "#4d9221"
            ],
            [
             1,
             "#276419"
            ]
           ],
           "sequential": [
            [
             0,
             "#0d0887"
            ],
            [
             0.1111111111111111,
             "#46039f"
            ],
            [
             0.2222222222222222,
             "#7201a8"
            ],
            [
             0.3333333333333333,
             "#9c179e"
            ],
            [
             0.4444444444444444,
             "#bd3786"
            ],
            [
             0.5555555555555556,
             "#d8576b"
            ],
            [
             0.6666666666666666,
             "#ed7953"
            ],
            [
             0.7777777777777778,
             "#fb9f3a"
            ],
            [
             0.8888888888888888,
             "#fdca26"
            ],
            [
             1,
             "#f0f921"
            ]
           ],
           "sequentialminus": [
            [
             0,
             "#0d0887"
            ],
            [
             0.1111111111111111,
             "#46039f"
            ],
            [
             0.2222222222222222,
             "#7201a8"
            ],
            [
             0.3333333333333333,
             "#9c179e"
            ],
            [
             0.4444444444444444,
             "#bd3786"
            ],
            [
             0.5555555555555556,
             "#d8576b"
            ],
            [
             0.6666666666666666,
             "#ed7953"
            ],
            [
             0.7777777777777778,
             "#fb9f3a"
            ],
            [
             0.8888888888888888,
             "#fdca26"
            ],
            [
             1,
             "#f0f921"
            ]
           ]
          },
          "colorway": [
           "#636efa",
           "#EF553B",
           "#00cc96",
           "#ab63fa",
           "#FFA15A",
           "#19d3f3",
           "#FF6692",
           "#B6E880",
           "#FF97FF",
           "#FECB52"
          ],
          "font": {
           "color": "#2a3f5f"
          },
          "geo": {
           "bgcolor": "white",
           "lakecolor": "white",
           "landcolor": "#E5ECF6",
           "showlakes": true,
           "showland": true,
           "subunitcolor": "white"
          },
          "hoverlabel": {
           "align": "left"
          },
          "hovermode": "closest",
          "mapbox": {
           "style": "light"
          },
          "paper_bgcolor": "white",
          "plot_bgcolor": "#E5ECF6",
          "polar": {
           "angularaxis": {
            "gridcolor": "white",
            "linecolor": "white",
            "ticks": ""
           },
           "bgcolor": "#E5ECF6",
           "radialaxis": {
            "gridcolor": "white",
            "linecolor": "white",
            "ticks": ""
           }
          },
          "scene": {
           "xaxis": {
            "backgroundcolor": "#E5ECF6",
            "gridcolor": "white",
            "gridwidth": 2,
            "linecolor": "white",
            "showbackground": true,
            "ticks": "",
            "zerolinecolor": "white"
           },
           "yaxis": {
            "backgroundcolor": "#E5ECF6",
            "gridcolor": "white",
            "gridwidth": 2,
            "linecolor": "white",
            "showbackground": true,
            "ticks": "",
            "zerolinecolor": "white"
           },
           "zaxis": {
            "backgroundcolor": "#E5ECF6",
            "gridcolor": "white",
            "gridwidth": 2,
            "linecolor": "white",
            "showbackground": true,
            "ticks": "",
            "zerolinecolor": "white"
           }
          },
          "shapedefaults": {
           "line": {
            "color": "#2a3f5f"
           }
          },
          "ternary": {
           "aaxis": {
            "gridcolor": "white",
            "linecolor": "white",
            "ticks": ""
           },
           "baxis": {
            "gridcolor": "white",
            "linecolor": "white",
            "ticks": ""
           },
           "bgcolor": "#E5ECF6",
           "caxis": {
            "gridcolor": "white",
            "linecolor": "white",
            "ticks": ""
           }
          },
          "title": {
           "x": 0.05
          },
          "xaxis": {
           "automargin": true,
           "gridcolor": "white",
           "linecolor": "white",
           "ticks": "",
           "title": {
            "standoff": 15
           },
           "zerolinecolor": "white",
           "zerolinewidth": 2
          },
          "yaxis": {
           "automargin": true,
           "gridcolor": "white",
           "linecolor": "white",
           "ticks": "",
           "title": {
            "standoff": 15
           },
           "zerolinecolor": "white",
           "zerolinewidth": 2
          }
         }
        },
        "xaxis": {
         "autorange": true,
         "range": [
          -4.242640687119285,
          1.4142135623730951
         ],
         "type": "linear"
        },
        "yaxis": {
         "autorange": true,
         "range": [
          -13.469954981706442,
          1.3707034252652943
         ],
         "type": "linear"
        }
       }
      },
      "image/png": "[encoded data removed]",
      "text/html": [
       "<div>                            <div id=\"38860be0-3a07-4b6a-8c9b-95f07178d611\" class=\"plotly-graph-div\" style=\"height:525px; width:100%;\"></div>            <script type=\"text/javascript\">                require([\"plotly\"], function(Plotly) {                    window.PLOTLYENV=window.PLOTLYENV || {};                                    if (document.getElementById(\"38860be0-3a07-4b6a-8c9b-95f07178d611\")) {                    Plotly.newPlot(                        \"38860be0-3a07-4b6a-8c9b-95f07178d611\",                        [{\"mode\":\"lines\",\"name\":\"7.369011274791707\",\"x\":[0.0,-0.08658450381876091,-0.17316900763752183,-0.2597535114562827,-0.34633801527504365,-0.4329225190938046,-0.5195070229125655,-0.6060915267313264,-0.6926760305500873,-0.7792605343688482,-0.8658450381876092,-0.9524295420063701,-1.039014045825131,-1.1255985496438918,-1.2121830534626528,-1.2987675572814137,-1.3853520611001746,-1.4719365649189355,-1.5585210687376965,-1.6451055725564574,-1.7316900763752183,-1.8182745801939793,-1.9048590840127402,-1.991443587831501,-2.078028091650262,-2.164612595469023,-2.2511970992877837,-2.337781603106545,-2.4243661069253055,-2.5109506107440667,-2.5975351145628274,-2.6841196183815885,-2.7707041222003492,-2.85728862601911,-2.943873129837871,-3.030457633656632,-3.117042137475393,-3.2036266412941536,-3.290211145112915,-3.3767956489316755,-3.4633801527504366,-3.5499646565691974,-3.6365491603879585,-3.723133664206719,-3.8097181680254804,-3.896302671844241,-3.982887175663002,-4.069471679481763,-4.156056183300524,-4.242640687119285],\"y\":[0.0,0.09334052741822364,0.17918417853490626,0.2575309533500479,0.32838085186364846,0.391733874075708,0.44759001998622655,0.495949289595204,0.5368116829026405,0.5701771999085359,0.5960458406128903,0.6144176050157037,0.6252924931169763,0.6286705049167076,0.624551640414898,0.6129358996115473,0.5938232825066555,0.5672137891002227,0.5331074193922489,0.4915041733827341,0.44240405107167846,0.38580705245908176,0.3217131775449438,0.25012242632926496,0.17103479881204553,0.08445029499328394,-0.009631085127017602,-0.11120934154886086,-0.2202844742722445,-0.3368564832971699,-0.46092536862363565,-0.5924911302516431,-0.731553768181191,-0.8781132824122793,-1.0321696729449106,-1.193722939779081,-1.362773082914794,-1.539320102352046,-1.7233639980908415,-1.914904770131176,-2.1139424184730524,-2.3204769431164696,-2.534508344061428,-2.756036621307927,-2.985061774855968,-3.221583804705549,-3.465602710856672,-3.7171184933093366,-3.9761311520635374,-4.242640687119285],\"type\":\"scatter\"},{\"mode\":\"lines\",\"name\":\"3.454330981012159\",\"x\":[0.0,0.02886150127292031,0.05772300254584062,0.08658450381876093,0.11544600509168124,0.14430750636460155,0.17316900763752185,0.20203050891044216,0.23089201018336247,0.2597535114562828,0.2886150127292031,0.3174765140021234,0.3463380152750437,0.375199516547964,0.4040610178208843,0.43292251909380464,0.46178402036672495,0.49064552163964525,0.5195070229125656,0.5483685241854859,0.5772300254584062,0.6060915267313265,0.6349530280042468,0.6638145292771671,0.6926760305500874,0.7215375318230077,0.750399033095928,0.7792605343688483,0.8081220356417687,0.836983536914689,0.8658450381876093,0.8947065394605296,0.9235680407334499,0.9524295420063702,0.9812910432792905,1.0101525445522108,1.0390140458251311,1.0678755470980514,1.0967370483709717,1.125598549643892,1.1544600509168124,1.1833215521897327,1.212183053462653,1.2410445547355733,1.2699060560084936,1.298767557281414,1.3276290585543342,1.3564905598272545,1.3853520611001748,1.4142135623730951],\"y\":[-6.569999999999904,-6.560234203574004,-6.55130139340383,-6.5432015694893835,-6.535934731830663,-6.52950088042767,-6.523900015280403,-6.519132136388864,-6.51519724375305,-6.512095337372965,-6.509826417248605,-6.508390483379972,-6.507787535767067,-6.508017574409887,-6.509080599308435,-6.510976610462709,-6.51370560787271,-6.517267591538439,-6.521662561459894,-6.526890517637075,-6.532951460069984,-6.539845388758619,-6.547572303702981,-6.5561322049030695,-6.565525092358885,-6.5757509660704265,-6.586809826037696,-6.598701672260692,-6.6114265047394145,-6.624984323473864,-6.63937512846404,-6.654598919709943,-6.670655697211573,-6.687545460968929,-6.7052682109820125,-6.723823947250823,-6.743212669775359,-6.763434378555623,-6.7844890735916135,-6.80637675488333,-6.829097422430775,-6.852651076233945,-6.877037716292843,-6.902257342607467,-6.928309955177818,-6.955195554003897,-6.982914139085701,-7.0114657104232325,-7.040850268016491,-7.0710678118654755],\"type\":\"scatter\"},{\"mode\":\"lines\",\"name\":\"main root\",\"x\":[-0.0,-0.0,-0.0,-0.0,-0.0,-0.0,-0.0,-0.0,-0.0,-0.0,-0.0,-0.0,-0.0,-0.0,-0.0,-0.0,-0.0,-0.0,-0.0,-0.0,-0.0,-0.0,-0.0,-0.0,-0.0,-0.0,-0.0,-0.0,-0.0,-0.0,-0.0,-0.0,-0.0,-0.0,-0.0,-0.0,-0.0,-0.0,-0.0,-0.0,-0.0,-0.0,-0.0,-0.0,-0.0,-0.0,-0.0,-0.0,-0.0,0.0],\"y\":[-12.727922061357855,-12.468168549901572,-12.20841503844529,-11.948661526989007,-11.688908015532725,-11.429154504076442,-11.169400992620158,-10.909647481163876,-10.649893969707593,-10.39014045825131,-10.130386946795028,-9.870633435338744,-9.610879923882461,-9.35112641242618,-9.091372900969896,-8.831619389513612,-8.57186587805733,-8.312112366601049,-8.052358855144766,-7.792605343688482,-7.5328518322322,-7.273098320775917,-7.0133448093196336,-6.753591297863351,-6.493837786407068,-6.234084274950786,-5.974330763494503,-5.71457725203822,-5.454823740581937,-5.195070229125655,-4.935316717669371,-4.67556320621309,-4.415809694756806,-4.156056183300523,-3.896302671844241,-3.6365491603879576,-3.376795648931676,-3.1170421374753925,-2.857288626019109,-2.5975351145628274,-2.337781603106544,-2.0780280916502605,-1.8182745801939788,-1.5585210687376954,-1.298767557281412,-1.0390140458251302,-0.7792605343688468,-0.5195070229125651,-0.25975351145628167,0.0],\"type\":\"scatter\"}],                        {\"template\":{\"data\":{\"barpolar\":[{\"marker\":{\"line\":{\"color\":\"#E5ECF6\",\"width\":0.5},\"pattern\":{\"fillmode\":\"overlay\",\"size\":10,\"solidity\":0.2}},\"type\":\"barpolar\"}],\"bar\":[{\"error_x\":{\"color\":\"#2a3f5f\"},\"error_y\":{\"color\":\"#2a3f5f\"},\"marker\":{\"line\":{\"color\":\"#E5ECF6\",\"width\":0.5},\"pattern\":{\"fillmode\":\"overlay\",\"size\":10,\"solidity\":0.2}},\"type\":\"bar\"}],\"carpet\":[{\"aaxis\":{\"endlinecolor\":\"#2a3f5f\",\"gridcolor\":\"white\",\"linecolor\":\"white\",\"minorgridcolor\":\"white\",\"startlinecolor\":\"#2a3f5f\"},\"baxis\":{\"endlinecolor\":\"#2a3f5f\",\"gridcolor\":\"white\",\"linecolor\":\"white\",\"minorgridcolor\":\"white\",\"startlinecolor\":\"#2a3f5f\"},\"type\":\"carpet\"}],\"choropleth\":[{\"colorbar\":{\"outlinewidth\":0,\"ticks\":\"\"},\"type\":\"choropleth\"}],\"contourcarpet\":[{\"colorbar\":{\"outlinewidth\":0,\"ticks\":\"\"},\"type\":\"contourcarpet\"}],\"contour\":[{\"colorbar\":{\"outlinewidth\":0,\"ticks\":\"\"},\"colorscale\":[[0.0,\"#0d0887\"],[0.1111111111111111,\"#46039f\"],[0.2222222222222222,\"#7201a8\"],[0.3333333333333333,\"#9c179e\"],[0.4444444444444444,\"#bd3786\"],[0.5555555555555556,\"#d8576b\"],[0.6666666666666666,\"#ed7953\"],[0.7777777777777778,\"#fb9f3a\"],[0.8888888888888888,\"#fdca26\"],[1.0,\"#f0f921\"]],\"type\":\"contour\"}],\"heatmapgl\":[{\"colorbar\":{\"outlinewidth\":0,\"ticks\":\"\"},\"colorscale\":[[0.0,\"#0d0887\"],[0.1111111111111111,\"#46039f\"],[0.2222222222222222,\"#7201a8\"],[0.3333333333333333,\"#9c179e\"],[0.4444444444444444,\"#bd3786\"],[0.5555555555555556,\"#d8576b\"],[0.6666666666666666,\"#ed7953\"],[0.7777777777777778,\"#fb9f3a\"],[0.8888888888888888,\"#fdca26\"],[1.0,\"#f0f921\"]],\"type\":\"heatmapgl\"}],\"heatmap\":[{\"colorbar\":{\"outlinewidth\":0,\"ticks\":\"\"},\"colorscale\":[[0.0,\"#0d0887\"],[0.1111111111111111,\"#46039f\"],[0.2222222222222222,\"#7201a8\"],[0.3333333333333333,\"#9c179e\"],[0.4444444444444444,\"#bd3786\"],[0.5555555555555556,\"#d8576b\"],[0.6666666666666666,\"#ed7953\"],[0.7777777777777778,\"#fb9f3a\"],[0.8888888888888888,\"#fdca26\"],[1.0,\"#f0f921\"]],\"type\":\"heatmap\"}],\"histogram2dcontour\":[{\"colorbar\":{\"outlinewidth\":0,\"ticks\":\"\"},\"colorscale\":[[0.0,\"#0d0887\"],[0.1111111111111111,\"#46039f\"],[0.2222222222222222,\"#7201a8\"],[0.3333333333333333,\"#9c179e\"],[0.4444444444444444,\"#bd3786\"],[0.5555555555555556,\"#d8576b\"],[0.6666666666666666,\"#ed7953\"],[0.7777777777777778,\"#fb9f3a\"],[0.8888888888888888,\"#fdca26\"],[1.0,\"#f0f921\"]],\"type\":\"histogram2dcontour\"}],\"histogram2d\":[{\"colorbar\":{\"outlinewidth\":0,\"ticks\":\"\"},\"colorscale\":[[0.0,\"#0d0887\"],[0.1111111111111111,\"#46039f\"],[0.2222222222222222,\"#7201a8\"],[0.3333333333333333,\"#9c179e\"],[0.4444444444444444,\"#bd3786\"],[0.5555555555555556,\"#d8576b\"],[0.6666666666666666,\"#ed7953\"],[0.7777777777777778,\"#fb9f3a\"],[0.8888888888888888,\"#fdca26\"],[1.0,\"#f0f921\"]],\"type\":\"histogram2d\"}],\"histogram\":[{\"marker\":{\"pattern\":{\"fillmode\":\"overlay\",\"size\":10,\"solidity\":0.2}},\"type\":\"histogram\"}],\"mesh3d\":[{\"colorbar\":{\"outlinewidth\":0,\"ticks\":\"\"},\"type\":\"mesh3d\"}],\"parcoords\":[{\"line\":{\"colorbar\":{\"outlinewidth\":0,\"ticks\":\"\"}},\"type\":\"parcoords\"}],\"pie\":[{\"automargin\":true,\"type\":\"pie\"}],\"scatter3d\":[{\"line\":{\"colorbar\":{\"outlinewidth\":0,\"ticks\":\"\"}},\"marker\":{\"colorbar\":{\"outlinewidth\":0,\"ticks\":\"\"}},\"type\":\"scatter3d\"}],\"scattercarpet\":[{\"marker\":{\"colorbar\":{\"outlinewidth\":0,\"ticks\":\"\"}},\"type\":\"scattercarpet\"}],\"scattergeo\":[{\"marker\":{\"colorbar\":{\"outlinewidth\":0,\"ticks\":\"\"}},\"type\":\"scattergeo\"}],\"scattergl\":[{\"marker\":{\"colorbar\":{\"outlinewidth\":0,\"ticks\":\"\"}},\"type\":\"scattergl\"}],\"scattermapbox\":[{\"marker\":{\"colorbar\":{\"outlinewidth\":0,\"ticks\":\"\"}},\"type\":\"scattermapbox\"}],\"scatterpolargl\":[{\"marker\":{\"colorbar\":{\"outlinewidth\":0,\"ticks\":\"\"}},\"type\":\"scatterpolargl\"}],\"scatterpolar\":[{\"marker\":{\"colorbar\":{\"outlinewidth\":0,\"ticks\":\"\"}},\"type\":\"scatterpolar\"}],\"scatter\":[{\"fillpattern\":{\"fillmode\":\"overlay\",\"size\":10,\"solidity\":0.2},\"type\":\"scatter\"}],\"scatterternary\":[{\"marker\":{\"colorbar\":{\"outlinewidth\":0,\"ticks\":\"\"}},\"type\":\"scatterternary\"}],\"surface\":[{\"colorbar\":{\"outlinewidth\":0,\"ticks\":\"\"},\"colorscale\":[[0.0,\"#0d0887\"],[0.1111111111111111,\"#46039f\"],[0.2222222222222222,\"#7201a8\"],[0.3333333333333333,\"#9c179e\"],[0.4444444444444444,\"#bd3786\"],[0.5555555555555556,\"#d8576b\"],[0.6666666666666666,\"#ed7953\"],[0.7777777777777778,\"#fb9f3a\"],[0.8888888888888888,\"#fdca26\"],[1.0,\"#f0f921\"]],\"type\":\"surface\"}],\"table\":[{\"cells\":{\"fill\":{\"color\":\"#EBF0F8\"},\"line\":{\"color\":\"white\"}},\"header\":{\"fill\":{\"color\":\"#C8D4E3\"},\"line\":{\"color\":\"white\"}},\"type\":\"table\"}]},\"layout\":{\"annotationdefaults\":{\"arrowcolor\":\"#2a3f5f\",\"arrowhead\":0,\"arrowwidth\":1},\"autotypenumbers\":\"strict\",\"coloraxis\":{\"colorbar\":{\"outlinewidth\":0,\"ticks\":\"\"}},\"colorscale\":{\"diverging\":[[0,\"#8e0152\"],[0.1,\"#c51b7d\"],[0.2,\"#de77ae\"],[0.3,\"#f1b6da\"],[0.4,\"#fde0ef\"],[0.5,\"#f7f7f7\"],[0.6,\"#e6f5d0\"],[0.7,\"#b8e186\"],[0.8,\"#7fbc41\"],[0.9,\"#4d9221\"],[1,\"#276419\"]],\"sequential\":[[0.0,\"#0d0887\"],[0.1111111111111111,\"#46039f\"],[0.2222222222222222,\"#7201a8\"],[0.3333333333333333,\"#9c179e\"],[0.4444444444444444,\"#bd3786\"],[0.5555555555555556,\"#d8576b\"],[0.6666666666666666,\"#ed7953\"],[0.7777777777777778,\"#fb9f3a\"],[0.8888888888888888,\"#fdca26\"],[1.0,\"#f0f921\"]],\"sequentialminus\":[[0.0,\"#0d0887\"],[0.1111111111111111,\"#46039f\"],[0.2222222222222222,\"#7201a8\"],[0.3333333333333333,\"#9c179e\"],[0.4444444444444444,\"#bd3786\"],[0.5555555555555556,\"#d8576b\"],[0.6666666666666666,\"#ed7953\"],[0.7777777777777778,\"#fb9f3a\"],[0.8888888888888888,\"#fdca26\"],[1.0,\"#f0f921\"]]},\"colorway\":[\"#636efa\",\"#EF553B\",\"#00cc96\",\"#ab63fa\",\"#FFA15A\",\"#19d3f3\",\"#FF6692\",\"#B6E880\",\"#FF97FF\",\"#FECB52\"],\"font\":{\"color\":\"#2a3f5f\"},\"geo\":{\"bgcolor\":\"white\",\"lakecolor\":\"white\",\"landcolor\":\"#E5ECF6\",\"showlakes\":true,\"showland\":true,\"subunitcolor\":\"white\"},\"hoverlabel\":{\"align\":\"left\"},\"hovermode\":\"closest\",\"mapbox\":{\"style\":\"light\"},\"paper_bgcolor\":\"white\",\"plot_bgcolor\":\"#E5ECF6\",\"polar\":{\"angularaxis\":{\"gridcolor\":\"white\",\"linecolor\":\"white\",\"ticks\":\"\"},\"bgcolor\":\"#E5ECF6\",\"radialaxis\":{\"gridcolor\":\"white\",\"linecolor\":\"white\",\"ticks\":\"\"}},\"scene\":{\"xaxis\":{\"backgroundcolor\":\"#E5ECF6\",\"gridcolor\":\"white\",\"gridwidth\":2,\"linecolor\":\"white\",\"showbackground\":true,\"ticks\":\"\",\"zerolinecolor\":\"white\"},\"yaxis\":{\"backgroundcolor\":\"#E5ECF6\",\"gridcolor\":\"white\",\"gridwidth\":2,\"linecolor\":\"white\",\"showbackground\":true,\"ticks\":\"\",\"zerolinecolor\":\"white\"},\"zaxis\":{\"backgroundcolor\":\"#E5ECF6\",\"gridcolor\":\"white\",\"gridwidth\":2,\"linecolor\":\"white\",\"showbackground\":true,\"ticks\":\"\",\"zerolinecolor\":\"white\"}},\"shapedefaults\":{\"line\":{\"color\":\"#2a3f5f\"}},\"ternary\":{\"aaxis\":{\"gridcolor\":\"white\",\"linecolor\":\"white\",\"ticks\":\"\"},\"baxis\":{\"gridcolor\":\"white\",\"linecolor\":\"white\",\"ticks\":\"\"},\"bgcolor\":\"#E5ECF6\",\"caxis\":{\"gridcolor\":\"white\",\"linecolor\":\"white\",\"ticks\":\"\"}},\"title\":{\"x\":0.05},\"xaxis\":{\"automargin\":true,\"gridcolor\":\"white\",\"linecolor\":\"white\",\"ticks\":\"\",\"title\":{\"standoff\":15},\"zerolinecolor\":\"white\",\"zerolinewidth\":2},\"yaxis\":{\"automargin\":true,\"gridcolor\":\"white\",\"linecolor\":\"white\",\"ticks\":\"\",\"title\":{\"standoff\":15},\"zerolinecolor\":\"white\",\"zerolinewidth\":2}}}},                        {\"responsive\": true}                    ).then(function(){\n",
       "                            \n",
       "var gd = document.getElementById('38860be0-3a07-4b6a-8c9b-95f07178d611');\n",
       "var x = new MutationObserver(function (mutations, observer) {{\n",
       "        var display = window.getComputedStyle(gd).display;\n",
       "        if (!display || display === 'none') {{\n",
       "            console.log([gd, 'removed!']);\n",
       "            Plotly.purge(gd);\n",
       "            observer.disconnect();\n",
       "        }}\n",
       "}});\n",
       "\n",
       "// Listen for the removal of the full notebook cells\n",
       "var notebookContainer = gd.closest('#notebook-container');\n",
       "if (notebookContainer) {{\n",
       "    x.observe(notebookContainer, {childList: true});\n",
       "}}\n",
       "\n",
       "// Listen for the clearing of the current output cell\n",
       "var outputEl = gd.closest('.output');\n",
       "if (outputEl) {{\n",
       "    x.observe(outputEl, {childList: true});\n",
       "}}\n",
       "\n",
       "                        })                };                });            </script>        </div>"
      ]
     },
     "metadata": {},
     "output_type": "display_data"
    },
    {
     "name": "stdout",
     "output_type": "stream",
     "text": [
      "7 -2 1.4142135623730951 -7.0710678118654755\n",
      "t:  3.158312395177701 -0.1583123951777008\n"
     ]
    }
   ],
   "source": [
    "Array=[]\n",
    "#enter main root cordinates (a,b) and (c,d)\n",
    "a=1\n",
    "b=2\n",
    "c=10\n",
    "d=-7\n",
    "Tmax= mainroot(a,b,c,d) #a,b,c,d\n",
    "#enter G and alpha\n",
    "G=-.5\n",
    "al=.8\n",
    "#enter p,qs\n",
    "Array.append(plotNewpq(1,-4,a,b,c,d,G,al,Tmax))\n",
    "Array.append(plotNewpq(7,-2,a,b,c,d,G,al,Tmax))\n",
    "ploting(Tmax,Array)\n",
    "findOgT(7,-2,a,b,c,d,G,al)"
   ]
  },
  {
   "cell_type": "code",
   "execution_count": null,
   "id": "cba706b0-1160-407d-8768-b643289290d1",
   "metadata": {},
   "outputs": [],
   "source": []
  },
  {
   "cell_type": "code",
   "execution_count": null,
   "id": "05f32a94-ab32-4a30-9fd5-baecb1ea1993",
   "metadata": {},
   "outputs": [],
   "source": []
  }
 ],
 "metadata": {
  "kernelspec": {
   "display_name": "Python 3 (ipykernel)",
   "language": "python",
   "name": "python3"
  },
  "language_info": {
   "codemirror_mode": {
    "name": "ipython",
    "version": 3
   },
   "file_extension": ".py",
   "mimetype": "text/x-python",
   "name": "python",
   "nbconvert_exporter": "python",
   "pygments_lexer": "ipython3",
   "version": "3.10.9"
  }
 },
 "nbformat": 4,
 "nbformat_minor": 5
}
