{
 "cells": [
  {
   "cell_type": "code",
   "execution_count": 5,
   "id": "7ab6e42b-58ca-4fee-a1e9-e3c84e699982",
   "metadata": {
    "tags": []
   },
   "outputs": [],
   "source": [
    "import numpy as np\n",
    "import os\n",
    "import pandas\n",
    "import plotly.express as px\n",
    "from plotly import graph_objs as go"
   ]
  },
  {
   "cell_type": "code",
   "execution_count": 2,
   "id": "8ea9d779-f273-42c0-81a6-370af352433f",
   "metadata": {
    "tags": []
   },
   "outputs": [],
   "source": [
    "path = os.path.realpath(\"GivenConnect.ipynb\")\n",
    "dir = os.path.dirname(path)\n",
    "dir = dir.replace(\"arbors\", \"WCandCD\")\n",
    "os.chdir(dir)\n",
    "%run CalculateWCandCD.ipynb\n",
    "dir = dir.replace(\"WCandCD\", \"arbors\")\n",
    "os.chdir(dir)"
   ]
  },
  {
   "cell_type": "code",
   "execution_count": 3,
   "id": "7169899b-44db-4ea5-8f08-734cd4141b2f",
   "metadata": {
    "tags": []
   },
   "outputs": [],
   "source": [
    "def Plot3Doptimal(file):\n",
    "    originalPlant =readArborFile(file)\n",
    "    Grange = np.arange(-2,2.1,.1)\n",
    "    Arange = np.arange(0,1.1,.1)\n",
    "    front = nx.Graph()\n",
    "    cds=[]\n",
    "    wcs=[]\n",
    "    c =0\n",
    "    y = calculateWC(originalPlant)\n",
    "    x = calculateCD(originalPlant)\n",
    "    bestDis = 10**20000\n",
    "    for G in Grange:\n",
    "        print(G)\n",
    "        for a in Arange:\n",
    "            newplant = optimalArbor(originalPlant, G, a)\n",
    "            cd =calculateWC(newplant)\n",
    "            wc = calculateCD(newplant)\n",
    "            cds.append(cd)\n",
    "            wcs.append(wc)\n",
    "            front.add_node(c)\n",
    "            front._node[c]['coordinate']=(cd,wc)\n",
    "            front._node[c]['G'] =G\n",
    "            front._node[c]['alpha'] =a\n",
    "            c+=1\n",
    "            dis = np.sqrt((x-cd)**2 +(y-wc)**2)\n",
    "            if dis < bestDis:\n",
    "                bestDis = dis\n",
    "                bestNode = c\n",
    "    points =[cds,wcs]\n",
    "    bestNodeArray = [front._node[bestNode]['coordinate'], front._node[bestNode]['G'],front._node[bestNode]['alpha']]\n",
    "    return(points, front, originalPlant, bestDis,bestNodeArray, x,y)\n",
    "    "
   ]
  },
  {
   "cell_type": "code",
   "execution_count": null,
   "id": "31a63633-273f-4811-9239-7974529bf432",
   "metadata": {
    "tags": []
   },
   "outputs": [],
   "source": []
  },
  {
   "cell_type": "code",
   "execution_count": 4,
   "id": "e44cf585-72a6-4be1-9612-37b3edda6855",
   "metadata": {
    "tags": []
   },
   "outputs": [
    {
     "name": "stdout",
     "output_type": "stream",
     "text": [
      "-2.0\n",
      "-1.9\n",
      "-1.7999999999999998\n",
      "-1.6999999999999997\n",
      "-1.5999999999999996\n",
      "-1.4999999999999996\n",
      "-1.3999999999999995\n",
      "-1.2999999999999994\n",
      "-1.1999999999999993\n",
      "-1.0999999999999992\n",
      "-0.9999999999999991\n",
      "-0.899999999999999\n",
      "-0.7999999999999989\n",
      "-0.6999999999999988\n",
      "-0.5999999999999988\n",
      "-0.49999999999999867\n",
      "-0.3999999999999986\n",
      "-0.2999999999999985\n",
      "-0.1999999999999984\n",
      "-0.09999999999999831\n",
      "1.7763568394002505e-15\n",
      "0.10000000000000187\n",
      "0.20000000000000195\n",
      "0.30000000000000204\n",
      "0.40000000000000213\n",
      "0.5000000000000022\n",
      "0.6000000000000023\n",
      "0.7000000000000024\n",
      "0.8000000000000025\n",
      "0.9000000000000026\n",
      "1.0000000000000027\n",
      "1.1000000000000028\n",
      "1.2000000000000028\n",
      "1.300000000000003\n",
      "1.400000000000003\n",
      "1.500000000000003\n",
      "1.6000000000000032\n",
      "1.7000000000000033\n",
      "1.8000000000000034\n",
      "1.9000000000000035\n",
      "2.0000000000000036\n"
     ]
    },
    {
     "ename": "AttributeError",
     "evalue": "module 'plotly.express' has no attribute 'figure'",
     "output_type": "error",
     "traceback": [
      "\u001b[0;31m---------------------------------------------------------------------------\u001b[0m",
      "\u001b[0;31mAttributeError\u001b[0m                            Traceback (most recent call last)",
      "Cell \u001b[0;32mIn[4], line 14\u001b[0m\n\u001b[1;32m     12\u001b[0m fig1 \u001b[38;5;241m=\u001b[39m px\u001b[38;5;241m.\u001b[39mscatter(x \u001b[38;5;241m=\u001b[39m points[\u001b[38;5;241m0\u001b[39m],y\u001b[38;5;241m=\u001b[39mpoints[\u001b[38;5;241m1\u001b[39m])\n\u001b[1;32m     13\u001b[0m trace \u001b[38;5;241m=\u001b[39mpx\u001b[38;5;241m.\u001b[39mscatter(x\u001b[38;5;241m=\u001b[39m[cd],y\u001b[38;5;241m=\u001b[39m[wc])\n\u001b[0;32m---> 14\u001b[0m fig\u001b[38;5;241m=\u001b[39m \u001b[43mpx\u001b[49m\u001b[38;5;241;43m.\u001b[39;49m\u001b[43mfigure\u001b[49m()\n\u001b[1;32m     15\u001b[0m fig\u001b[38;5;241m.\u001b[39mappend(fig1)\n\u001b[1;32m     16\u001b[0m fig\u001b[38;5;241m.\u001b[39mappend(trace)\n",
      "\u001b[0;31mAttributeError\u001b[0m: module 'plotly.express' has no attribute 'figure'"
     ]
    }
   ],
   "source": [
    "file ='001_1_C_day3.csv'\n",
    "plant= readArborFile(file)\n",
    "plant1 = findMainRootConnections(plant)\n",
    "array = Plot3Doptimal(file)\n",
    "points =array[0]\n",
    "front = array[1]\n",
    "ogPlant =array[2]\n",
    "bestDis= array[3]\n",
    "bestNodeArray = array[4]\n",
    "cd= calculateCD(plant1)\n",
    "wc= calculateWC(plant1)\n",
    "fig1 = px.scatter(x = points[0],y=points[1])\n",
    "trace =px.scatter(x=[cd],y=[wc])\n",
    "fig= go.Figure()\n",
    "fig.add_trace(fig1)\n",
    "fig.add_trace(trace)\n",
    "fig.show()\n",
    "print(\"oringal wiring cost: \",wc, \" oringal conduction delay: \", cd)\n",
    "print(\"new wiring cost: \", bestNodeArray[0][1], \" new conduction delay: \", bestNodeArray[0][0])\n",
    "FileDraw(file,bestNodeArray[1],bestNodeArray[2])"
   ]
  },
  {
   "cell_type": "code",
   "execution_count": null,
   "id": "9439bd72-9f0d-4b40-a6c7-73f558293c15",
   "metadata": {},
   "outputs": [],
   "source": []
  },
  {
   "cell_type": "code",
   "execution_count": null,
   "id": "23aff3f1-9c3d-4bd6-9a3e-de1f3d9d2e0c",
   "metadata": {},
   "outputs": [],
   "source": []
  }
 ],
 "metadata": {
  "kernelspec": {
   "display_name": "Python 3 (ipykernel)",
   "language": "python",
   "name": "python3"
  },
  "language_info": {
   "codemirror_mode": {
    "name": "ipython",
    "version": 3
   },
   "file_extension": ".py",
   "mimetype": "text/x-python",
   "name": "python",
   "nbconvert_exporter": "python",
   "pygments_lexer": "ipython3",
   "version": "3.10.11"
  }
 },
 "nbformat": 4,
 "nbformat_minor": 5
}
