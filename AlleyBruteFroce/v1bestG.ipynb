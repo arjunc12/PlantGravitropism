{
 "cells": [
  {
   "cell_type": "code",
   "execution_count": 1,
   "id": "9920e818-0b40-495c-956b-ec4ec19bb51b",
   "metadata": {},
   "outputs": [],
   "source": [
    "%run v4Network.ipynb  \n",
    "import numpy as np"
   ]
  },
  {
   "cell_type": "code",
   "execution_count": 2,
   "id": "2a6446f4-4707-407a-b771-dc90a52d157f",
   "metadata": {},
   "outputs": [],
   "source": [
    "def findDiffernce0(PlantOg,PlantNew):\n",
    "    diffence =0.0\n",
    "    for node in PlantOg.nodes():\n",
    "        if PlantOg.nodes[node]['label'] != 'lateral root':\n",
    "            if PlantOg.nodes[node]['label'] != 'lateral root tip':\n",
    "                continue\n",
    "        rootNumber = PlantOg.nodes[node]['root number']\n",
    "        if rootNumber ==0:\n",
    "            continue\n",
    "        ox,oy = PlantOg.nodes[node]['coordinate']\n",
    "        for edge in PlantNew.edges():\n",
    "            if PlantNew.edges[edge]['label'] != 'lateral root':\n",
    "                continue\n",
    "            nxs = PlantNew.edges[edge]['xs']\n",
    "            nys = PlantNew.edges[edge]['ys']\n",
    "            bestDx = np.absolute(nxs[0]-ox)\n",
    "            besti = 0\n",
    "            for i in range(1, len(nxs)):\n",
    "                dx = np.absolute(nxs[besti] -ox)\n",
    "                if dx < bestDx:\n",
    "                    bestDx = dx\n",
    "                    besti = i\n",
    "            dy = np.absolute(nys[i] -oy)\n",
    "            diffence = diffence +dy \n",
    "    return(diffence)\n",
    "                        "
   ]
  },
  {
   "cell_type": "code",
   "execution_count": 8,
   "id": "78a5f1da-902c-45b2-9df5-dc318e24c6e8",
   "metadata": {},
   "outputs": [],
   "source": [
    "def findDiffernce(PlantOg,PlantNew,bestDif):\n",
    "    dif =0.0\n",
    "    for node in PlantOg.nodes():\n",
    "        if PlantOg.nodes[node]['label'] != 'lateral root':\n",
    "            if PlantOg.nodes[node]['label'] != 'lateral root tip':\n",
    "                if PlantOg.nodes[node]['label'] != 'lateral root base':\n",
    "                    continue\n",
    "        rootNumber = PlantOg.nodes[node]['root number']\n",
    "        if rootNumber ==0:\n",
    "            continue\n",
    "        ox,oy = PlantOg.nodes[node]['coordinate']\n",
    "        for edge in PlantNew.edges():\n",
    "            if PlantNew.edges[edge]['label'] != 'lateral root':\n",
    "                continue\n",
    "            elif PlantNew.edges[edge]['root number'] != rootNumber:\n",
    "                continue\n",
    "            nxs = PlantNew.edges[edge]['xs']\n",
    "            nys = PlantNew.edges[edge]['ys']\n",
    "            bestDx = np.absolute(nxs[0]-ox)\n",
    "            besti = 0\n",
    "            for i in range(1, len(nxs)):\n",
    "                dx = np.absolute(nxs[i] -ox)\n",
    "                if dx < bestDx:\n",
    "                    bestDx = dx\n",
    "                    besti = i\n",
    "            dy = np.absolute(nys[besti] -oy)\n",
    "            dif = dif + dy \n",
    "            if dif > bestDif:\n",
    "                break\n",
    "        if dif> bestDif:\n",
    "            break\n",
    "    return(dif)\n",
    "                        "
   ]
  },
  {
   "cell_type": "code",
   "execution_count": 1,
   "id": "f895726e-59e7-45c7-8692-dba96dedca2f",
   "metadata": {},
   "outputs": [],
   "source": [
    "def bestDiffernce(Plant):\n",
    "    Grange = np.arange(-2,2.1,.1)\n",
    "    bestG = -2\n",
    "    aRange = np.arange(0,1.1,.1)\n",
    "    bestA =0\n",
    "    Plant2 = optimalArbor(Plant, bestG, bestA)\n",
    "    bestDif = findDiffernce0(Plant,Plant2)\n",
    "    for G in Grange:\n",
    "        for alpha in aRange:\n",
    "            Plant2 = optimalArbor(Plant, G, alpha)\n",
    "            dif = findDiffernce(Plant,Plant2,bestDif)\n",
    "            if dif < bestDif:\n",
    "                bestDif = dif\n",
    "                bestA = alpha\n",
    "                bestG =G\n",
    "        print(G)\n",
    "        #print(bestG,bestA, bestDif)\n",
    "    bestPlant = optimalArbor(Plant,bestG, bestA)\n",
    "    return(bestPlant,bestG, bestA)"
   ]
  },
  {
   "cell_type": "code",
   "execution_count": 10,
   "id": "33ef433a-deab-47bb-ab8a-e47ad0db5ed8",
   "metadata": {},
   "outputs": [],
   "source": [
    "def drawBest(file):\n",
    "    Plant = readArborFile(file)\n",
    "    array = bestDiffernce(Plant)\n",
    "    Plant2 = array[0]\n",
    "    G=array[1]\n",
    "    alpha = array[2]\n",
    "    fig=go.Figure()\n",
    "    array = drawArbor(Plant)\n",
    "    for x in array:\n",
    "        fig.add_trace(x)\n",
    "    print(\"original\")\n",
    "    fig.show()\n",
    "    fig2 = go.Figure(drawArbor(Plant2))\n",
    "    array = drawArbor(Plant2)\n",
    "    for x in array:\n",
    "        fig.add_trace(x)\n",
    "    print(\"optimal given: \", G, \" \", alpha)\n",
    "    fig2.show()\n",
    "    print(\"optimal and original super imposed given: \",G, \", \", alpha )\n",
    "    fig.show()"
   ]
  },
  {
   "cell_type": "code",
   "execution_count": 12,
   "id": "ed8d999c-bd7e-4004-819c-2cde0c88ddba",
   "metadata": {},
   "outputs": [],
   "source": [
    "#drawBest('arbors/001_1_C_day3.csv')"
   ]
  },
  {
   "cell_type": "code",
   "execution_count": null,
   "id": "ac44e9c0-46f3-4e06-a254-d7d88784dc23",
   "metadata": {},
   "outputs": [],
   "source": []
  }
 ],
 "metadata": {
  "kernelspec": {
   "display_name": "Python 3 (ipykernel)",
   "language": "python",
   "name": "python3"
  },
  "language_info": {
   "codemirror_mode": {
    "name": "ipython",
    "version": 3
   },
   "file_extension": ".py",
   "mimetype": "text/x-python",
   "name": "python",
   "nbconvert_exporter": "python",
   "pygments_lexer": "ipython3",
   "version": "3.10.11"
  }
 },
 "nbformat": 4,
 "nbformat_minor": 5
}
