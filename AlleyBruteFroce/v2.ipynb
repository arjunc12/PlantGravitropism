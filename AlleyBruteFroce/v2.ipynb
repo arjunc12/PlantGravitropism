{
 "cells": [
  {
   "cell_type": "code",
   "execution_count": 1,
   "id": "f2c1085c-a05b-4144-9704-c1527e8f946f",
   "metadata": {},
   "outputs": [],
   "source": [
    "%run v1bestG.ipynb  "
   ]
  },
  {
   "cell_type": "code",
   "execution_count": null,
   "id": "f6acb031-e69f-4f5d-9677-0bfcfa120299",
   "metadata": {},
   "outputs": [],
   "source": [
    "drawBest('arbors/003_2_S_day5.csv')"
   ]
  },
  {
   "cell_type": "code",
   "execution_count": null,
   "id": "846a1b1f-31d1-4792-837a-ce225394e151",
   "metadata": {},
   "outputs": [],
   "source": []
  }
 ],
 "metadata": {
  "kernelspec": {
   "display_name": "Python 3 (ipykernel)",
   "language": "python",
   "name": "python3"
  },
  "language_info": {
   "codemirror_mode": {
    "name": "ipython",
    "version": 3
   },
   "file_extension": ".py",
   "mimetype": "text/x-python",
   "name": "python",
   "nbconvert_exporter": "python",
   "pygments_lexer": "ipython3",
   "version": "3.11.3"
  }
 },
 "nbformat": 4,
 "nbformat_minor": 5
}
