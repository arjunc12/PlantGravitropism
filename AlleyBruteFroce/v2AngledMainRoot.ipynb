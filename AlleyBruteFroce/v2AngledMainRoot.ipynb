{
 "cells": [
  {
   "cell_type": "code",
   "execution_count": 1,
   "id": "e9652dbf-4e15-4e25-9a25-c04fe7960477",
   "metadata": {},
   "outputs": [],
   "source": [
    "import matplotlib.pyplot as plt\n",
    "import numpy as np\n",
    "import pylab\n",
    "import scipy\n",
    "import plotly\n",
    "from plotly import graph_objs as go\n",
    "from plotly.offline import iplot, plot, init_notebook_mode"
   ]
  },
  {
   "cell_type": "code",
   "execution_count": 2,
   "id": "c518a7bb-c543-4f07-bd7e-ce47059babdb",
   "metadata": {},
   "outputs": [],
   "source": [
    "def mainroot(a,b,c,d):\n",
    "    Tmax = -1 * np.sqrt((b-d)**2 +(a-c)**2)\n",
    "    return Tmax"
   ]
  },
  {
   "cell_type": "code",
   "execution_count": 3,
   "id": "9967699a-d716-447a-be5d-13f22d405e90",
   "metadata": {},
   "outputs": [],
   "source": [
    "def newPQ(a,b,c,d,p,q):\n",
    "    m=(d-b)/(c-a)\n",
    "    x1=((p/m)+q+(m*a)-b)/(m +(1/m))\n",
    "    y1= m*(x1-a)+b\n",
    "    newQ= - np.sqrt((b-y1)**2 +(a-x1)**2)\n",
    "    newP= np.sqrt((p-x1)**2 +(q-y1)**2)\n",
    "    if p < x1:\n",
    "        newP=-newP\n",
    "    return (newP, newQ)"
   ]
  },
  {
   "cell_type": "code",
   "execution_count": 4,
   "id": "349854df-1d63-4c8f-be13-5e1b47ace13c",
   "metadata": {},
   "outputs": [],
   "source": [
    "def findBest(Tmax,G,p,q,a):\n",
    "    t=0\n",
    "    bestLength= 1000000000000.0\n",
    "    bestT = t\n",
    "    while t >= Tmax:\n",
    "        b = (q - G * (p**2) - t)/p\n",
    "        if p>0:\n",
    "            x =np.linspace(0, p, num=50)\n",
    "        elif p < 0:\n",
    "            x =np.linspace(p, 0, num=50)\n",
    "        lot = np.sqrt(1+(2*G*x + ((q-G*(p**2)-t)/p))**2)\n",
    "        y= a*(lot) +(1-a)*(lot - t)\n",
    "        length = scipy.integrate.trapezoid(y,x)\n",
    "        if length < bestLength:\n",
    "            #ploting(Tmax,p,q,bestT,G) #comparing possible lines\n",
    "            bestLength = length\n",
    "            bestT = t\n",
    "        t = t - 0.01 #last \n",
    "    #ploting(Tmax,p,q,bestT,G)\n",
    "    #print(\"length: \" + str(bestLength) +\" t= \" + str(bestT))\n",
    "    return(bestLength,bestT)"
   ]
  },
  {
   "cell_type": "code",
   "execution_count": 5,
   "id": "befb8ceb-b45d-4556-b35b-7cbce1068d59",
   "metadata": {},
   "outputs": [],
   "source": [
    "def bestTAngled(a,b,c,d,p,q,G,al):\n",
    "    Tmax = mainroot(a,b,c,d)\n",
    "    pqArray= newPQ(a,b,c,d,p,q)\n",
    "    bestArray= findBest(Tmax,G,pqArray[0],pqArray[1],al)\n",
    "    length = bestArray[0]\n",
    "    t= bestArray[1]\n",
    "    m= (d-b)/(c-a)\n",
    "    qa= m**2 +1\n",
    "    qb= -2*a -2*a*(m**2)\n",
    "    qc= a**2 +(a**2)*(m**2) - (t**2)\n",
    "    xt= (-qb + np.sqrt(qb**2 -(4*qa*qc)))/(2*qa)\n",
    "    if (xt <a and xt <c) or (xt>a and xt>c):\n",
    "        xt= (-qb - np.sqrt(qb**2 -(4*qa*qc)))/(2*qa)\n",
    "    yt = m*(xt-a)+b\n",
    "    dArray =[t, pqArray[0], pqArray[1]]\n",
    "    return(length, xt,yt,dArray)"
   ]
  },
  {
   "cell_type": "code",
   "execution_count": 6,
   "id": "9ff5be5b-3523-47e1-bac6-296fe4888bcd",
   "metadata": {},
   "outputs": [],
   "source": [
    "def angledMPlot(a,b,c,d):\n",
    "    if a >c:\n",
    "        x=np.linspace(c,a, num =50)\n",
    "    else:\n",
    "        x= np.linspace(a,c, num =50)\n",
    "    m= (b-d)/(a-c)\n",
    "    y = m*(x-a)+b\n",
    "    main =go.Scatter(x=x,y=y,mode='lines', name= \"main root\")\n",
    "    return (main)"
   ]
  },
  {
   "cell_type": "code",
   "execution_count": 7,
   "id": "0aa43d29-dd16-4b9c-85a1-f5a9b9e7cf1f",
   "metadata": {},
   "outputs": [],
   "source": [
    "def deAngledMPlot(a,b,c,d):\n",
    "    Tmax = mainroot(a,b,c,d)\n",
    "    y = np.linspace(Tmax, 0)\n",
    "    x= 0*y\n",
    "    main = go.Scatter(x=x,y=y, mode='lines', name = \"mainroot\")\n",
    "    return main"
   ]
  },
  {
   "cell_type": "code",
   "execution_count": 11,
   "id": "5a38cf21-6918-4b6c-9f38-fd59521f75c5",
   "metadata": {},
   "outputs": [],
   "source": [
    "def plotA(a,b,c,d,p,q,G,al,length, xt, yt,t):\n",
    "    if xt >p:\n",
    "        x =np.linspace(p, xt, num=50)\n",
    "    else:\n",
    "        x = np.linspace(xt, p ,num=50)\n",
    "    by=(q - G*(p**2) +b)/p\n",
    "    y=G * x**2 + by*x - b\n",
    "    trace =go.Scatter(x=x,y=y,mode='lines', name= str(length))\n",
    "    return trace"
   ]
  },
  {
   "cell_type": "code",
   "execution_count": 12,
   "id": "fcbc757c-072d-4dee-99b2-6e0a3ae7a571",
   "metadata": {},
   "outputs": [],
   "source": [
    "def plotD(G,al, Tmax, length,t, p,q):\n",
    "    x1=np.linspace(0,p)\n",
    "    b=(q - G*(p**2) -t)/p\n",
    "    y1=G * x1**2 + b*x1 + t\n",
    "    trace2 =go.Scatter(x=x1,y=y1,mode='lines', name= str(length))\n",
    "    return trace2"
   ]
  },
  {
   "cell_type": "code",
   "execution_count": 13,
   "id": "6add7033-6d24-4649-9b66-47a486495f35",
   "metadata": {},
   "outputs": [
    {
     "name": "stdin",
     "output_type": "stream",
     "text": [
      "enter a:  2\n",
      "enter b:  4\n",
      "enter c:  10\n",
      "enter d:  -10\n",
      "enter G:  .9\n",
      "enter alpha value:  .9\n",
      "enter the number of points you would like to do:  2\n",
      "enter p value for point: 1 5\n",
      "endter q value for point: 1 -5\n",
      "enter p value for point: 2 -3\n",
      "endter q value for point: 2 -7\n"
     ]
    },
    {
     "name": "stdout",
     "output_type": "stream",
     "text": [
      "[['lenght', 'xt', 'yt', 't'], [4.197963178684933, 6.276717648635838, -3.4842558851127166, -8.61999999999986], [45.37934588774504, 2.0, 4.0, 0]]\n"
     ]
    },
    {
     "data": {
      "application/vnd.plotly.v1+json": {
       "config": {
        "linkText": "Export to plot.ly",
        "plotlyServerURL": "https://plot.ly",
        "showLink": false
       },
       "data": [
        {
         "mode": "lines",
         "name": "main root",
         "type": "scatter",
         "x": [
          2,
          2.163265306122449,
          2.326530612244898,
          2.489795918367347,
          2.6530612244897958,
          2.816326530612245,
          2.979591836734694,
          3.142857142857143,
          3.3061224489795915,
          3.4693877551020407,
          3.63265306122449,
          3.7959183673469385,
          3.9591836734693877,
          4.122448979591836,
          4.285714285714286,
          4.448979591836734,
          4.612244897959183,
          4.775510204081632,
          4.938775510204081,
          5.1020408163265305,
          5.26530612244898,
          5.428571428571429,
          5.591836734693877,
          5.755102040816326,
          5.918367346938775,
          6.081632653061225,
          6.244897959183673,
          6.408163265306122,
          6.571428571428571,
          6.73469387755102,
          6.897959183673469,
          7.061224489795918,
          7.224489795918367,
          7.387755102040816,
          7.551020408163265,
          7.7142857142857135,
          7.877551020408163,
          8.040816326530612,
          8.204081632653061,
          8.367346938775508,
          8.53061224489796,
          8.693877551020407,
          8.857142857142858,
          9.020408163265305,
          9.183673469387754,
          9.346938775510203,
          9.510204081632653,
          9.673469387755102,
          9.83673469387755,
          10
         ],
         "y": [
          4,
          3.714285714285714,
          3.428571428571429,
          3.142857142857143,
          2.8571428571428577,
          2.571428571428571,
          2.2857142857142856,
          2,
          1.7142857142857149,
          1.4285714285714288,
          1.1428571428571428,
          0.8571428571428577,
          0.5714285714285716,
          0.2857142857142865,
          0,
          -0.2857142857142847,
          -0.5714285714285703,
          -0.8571428571428559,
          -1.1428571428571423,
          -1.4285714285714288,
          -1.7142857142857144,
          -2,
          -2.2857142857142847,
          -2.571428571428571,
          -2.8571428571428568,
          -3.1428571428571432,
          -3.428571428571427,
          -3.7142857142857135,
          -4,
          -4.285714285714285,
          -4.571428571428569,
          -4.857142857142856,
          -5.142857142857142,
          -5.428571428571429,
          -5.7142857142857135,
          -5.999999999999998,
          -6.285714285714285,
          -6.571428571428571,
          -6.857142857142858,
          -7.142857142857139,
          -7.428571428571429,
          -7.714285714285712,
          -8,
          -8.285714285714285,
          -8.57142857142857,
          -8.857142857142856,
          -9.142857142857142,
          -9.428571428571427,
          -9.714285714285714,
          -10
         ]
        },
        {
         "mode": "lines",
         "name": "4.197963178684933",
         "type": "scatter",
         "x": [
          5,
          5.026055462217058,
          5.052110924434116,
          5.078166386651174,
          5.104221848868232,
          5.1302773110852895,
          5.156332773302347,
          5.182388235519405,
          5.208443697736463,
          5.234499159953521,
          5.260554622170579,
          5.286610084387637,
          5.312665546604695,
          5.338721008821753,
          5.364776471038811,
          5.3908319332558685,
          5.416887395472926,
          5.442942857689984,
          5.468998319907042,
          5.4950537821241,
          5.521109244341158,
          5.547164706558216,
          5.573220168775274,
          5.599275630992333,
          5.62533109320939,
          5.651386555426448,
          5.677442017643505,
          5.703497479860564,
          5.729552942077621,
          5.75560840429468,
          5.781663866511738,
          5.807719328728796,
          5.833774790945854,
          5.859830253162912,
          5.8858857153799695,
          5.911941177597027,
          5.937996639814085,
          5.964052102031143,
          5.990107564248201,
          6.016163026465259,
          6.042218488682317,
          6.068273950899375,
          6.094329413116433,
          6.120384875333491,
          6.1464403375505485,
          6.172495799767606,
          6.198551261984664,
          6.224606724201722,
          6.25066218641878,
          6.276717648635838
         ],
         "y": [
          -5,
          -4.887350514066441,
          -4.773479031332464,
          -4.658385551798062,
          -4.5420700754632435,
          -4.424532602328004,
          -4.305773132392346,
          -4.185791665656264,
          -4.064588202119765,
          -3.942162741782841,
          -3.8185152846455033,
          -3.6936458307077444,
          -3.567554379969561,
          -3.44024093243096,
          -3.3117054880919383,
          -3.1819480469525026,
          -3.050968609012635,
          -2.9187671742723538,
          -2.7853437427316514,
          -2.650698314390535,
          -2.514830889248991,
          -2.3777414673070254,
          -2.239430048564646,
          -2.0998966330218387,
          -1.959141220678621,
          -1.8171638115349715,
          -1.6739644055909153,
          -1.5295430028464239,
          -1.3838996033015256,
          -1.2370342069561957,
          -1.0889468138104554,
          -0.9396374238642906,
          -0.7891060371177083,
          -0.637352653570705,
          -0.48437727322327717,
          -0.33017989607543186,
          -0.17476052212717264,
          -0.01811915137848885,
          0.1397442161706195,
          0.2988295805201453,
          0.45913694167009567,
          0.6206662996204599,
          0.7834176543712381,
          0.947391005922448,
          1.1125863542740682,
          1.2790036994261165,
          1.4466430413785858,
          1.6155043801314726,
          1.7855877156847768,
          1.956893048038502
         ]
        },
        {
         "mode": "lines",
         "name": "45.37934588774504",
         "type": "scatter",
         "x": [
          -3,
          -2.8979591836734695,
          -2.795918367346939,
          -2.693877551020408,
          -2.5918367346938775,
          -2.489795918367347,
          -2.387755102040816,
          -2.2857142857142856,
          -2.183673469387755,
          -2.0816326530612246,
          -1.9795918367346939,
          -1.8775510204081631,
          -1.7755102040816326,
          -1.6734693877551021,
          -1.5714285714285714,
          -1.4693877551020407,
          -1.3673469387755102,
          -1.2653061224489797,
          -1.163265306122449,
          -1.0612244897959182,
          -0.9591836734693877,
          -0.8571428571428572,
          -0.7551020408163263,
          -0.6530612244897958,
          -0.5510204081632653,
          -0.44897959183673475,
          -0.34693877551020424,
          -0.2448979591836733,
          -0.1428571428571428,
          -0.04081632653061229,
          0.06122448979591866,
          0.16326530612244916,
          0.26530612244897966,
          0.36734693877551017,
          0.46938775510204067,
          0.5714285714285716,
          0.6734693877551021,
          0.7755102040816326,
          0.8775510204081636,
          0.9795918367346941,
          1.0816326530612246,
          1.183673469387755,
          1.2857142857142856,
          1.387755102040816,
          1.4897959183673475,
          1.591836734693878,
          1.6938775510204085,
          1.795918367346939,
          1.8979591836734695,
          2
         ],
         "y": [
          -7,
          -7.164098292378175,
          -7.309454394002499,
          -7.436068304872969,
          -7.543940024989586,
          -7.6330695543523515,
          -7.703456892961265,
          -7.755102040816325,
          -7.788004997917533,
          -7.802165764264888,
          -7.797584339858392,
          -7.774260724698042,
          -7.73219491878384,
          -7.671386922115785,
          -7.591836734693878,
          -7.493544356518117,
          -7.376509787588504,
          -7.240733027905039,
          -7.086214077467721,
          -6.912952936276551,
          -6.720949604331528,
          -6.5102040816326525,
          -6.280716368179924,
          -6.032486463973344,
          -5.765514369012911,
          -5.479800083298626,
          -5.175343606830488,
          -4.852144939608496,
          -4.5102040816326525,
          -4.149521032902957,
          -3.7700957934194075,
          -3.3719283631820067,
          -2.9550187421907537,
          -2.519366930445648,
          -2.0649729279466897,
          -1.591836734693877,
          -1.0999583506872135,
          -0.5893377759266976,
          -0.05997501041232667,
          0.48812994585589387,
          1.0549770928779676,
          1.6405664306538936,
          2.244897959183672,
          2.8679716784673035,
          3.5097875885047927,
          4.170345689296129,
          4.849645980841316,
          5.547688463140361,
          6.264473136193253,
          7
         ]
        }
       ],
       "layout": {
        "autosize": true,
        "template": {
         "data": {
          "bar": [
           {
            "error_x": {
             "color": "#2a3f5f"
            },
            "error_y": {
             "color": "#2a3f5f"
            },
            "marker": {
             "line": {
              "color": "#E5ECF6",
              "width": 0.5
             },
             "pattern": {
              "fillmode": "overlay",
              "size": 10,
              "solidity": 0.2
             }
            },
            "type": "bar"
           }
          ],
          "barpolar": [
           {
            "marker": {
             "line": {
              "color": "#E5ECF6",
              "width": 0.5
             },
             "pattern": {
              "fillmode": "overlay",
              "size": 10,
              "solidity": 0.2
             }
            },
            "type": "barpolar"
           }
          ],
          "carpet": [
           {
            "aaxis": {
             "endlinecolor": "#2a3f5f",
             "gridcolor": "white",
             "linecolor": "white",
             "minorgridcolor": "white",
             "startlinecolor": "#2a3f5f"
            },
            "baxis": {
             "endlinecolor": "#2a3f5f",
             "gridcolor": "white",
             "linecolor": "white",
             "minorgridcolor": "white",
             "startlinecolor": "#2a3f5f"
            },
            "type": "carpet"
           }
          ],
          "choropleth": [
           {
            "colorbar": {
             "outlinewidth": 0,
             "ticks": ""
            },
            "type": "choropleth"
           }
          ],
          "contour": [
           {
            "colorbar": {
             "outlinewidth": 0,
             "ticks": ""
            },
            "colorscale": [
             [
              0,
              "#0d0887"
             ],
             [
              0.1111111111111111,
              "#46039f"
             ],
             [
              0.2222222222222222,
              "#7201a8"
             ],
             [
              0.3333333333333333,
              "#9c179e"
             ],
             [
              0.4444444444444444,
              "#bd3786"
             ],
             [
              0.5555555555555556,
              "#d8576b"
             ],
             [
              0.6666666666666666,
              "#ed7953"
             ],
             [
              0.7777777777777778,
              "#fb9f3a"
             ],
             [
              0.8888888888888888,
              "#fdca26"
             ],
             [
              1,
              "#f0f921"
             ]
            ],
            "type": "contour"
           }
          ],
          "contourcarpet": [
           {
            "colorbar": {
             "outlinewidth": 0,
             "ticks": ""
            },
            "type": "contourcarpet"
           }
          ],
          "heatmap": [
           {
            "colorbar": {
             "outlinewidth": 0,
             "ticks": ""
            },
            "colorscale": [
             [
              0,
              "#0d0887"
             ],
             [
              0.1111111111111111,
              "#46039f"
             ],
             [
              0.2222222222222222,
              "#7201a8"
             ],
             [
              0.3333333333333333,
              "#9c179e"
             ],
             [
              0.4444444444444444,
              "#bd3786"
             ],
             [
              0.5555555555555556,
              "#d8576b"
             ],
             [
              0.6666666666666666,
              "#ed7953"
             ],
             [
              0.7777777777777778,
              "#fb9f3a"
             ],
             [
              0.8888888888888888,
              "#fdca26"
             ],
             [
              1,
              "#f0f921"
             ]
            ],
            "type": "heatmap"
           }
          ],
          "heatmapgl": [
           {
            "colorbar": {
             "outlinewidth": 0,
             "ticks": ""
            },
            "colorscale": [
             [
              0,
              "#0d0887"
             ],
             [
              0.1111111111111111,
              "#46039f"
             ],
             [
              0.2222222222222222,
              "#7201a8"
             ],
             [
              0.3333333333333333,
              "#9c179e"
             ],
             [
              0.4444444444444444,
              "#bd3786"
             ],
             [
              0.5555555555555556,
              "#d8576b"
             ],
             [
              0.6666666666666666,
              "#ed7953"
             ],
             [
              0.7777777777777778,
              "#fb9f3a"
             ],
             [
              0.8888888888888888,
              "#fdca26"
             ],
             [
              1,
              "#f0f921"
             ]
            ],
            "type": "heatmapgl"
           }
          ],
          "histogram": [
           {
            "marker": {
             "pattern": {
              "fillmode": "overlay",
              "size": 10,
              "solidity": 0.2
             }
            },
            "type": "histogram"
           }
          ],
          "histogram2d": [
           {
            "colorbar": {
             "outlinewidth": 0,
             "ticks": ""
            },
            "colorscale": [
             [
              0,
              "#0d0887"
             ],
             [
              0.1111111111111111,
              "#46039f"
             ],
             [
              0.2222222222222222,
              "#7201a8"
             ],
             [
              0.3333333333333333,
              "#9c179e"
             ],
             [
              0.4444444444444444,
              "#bd3786"
             ],
             [
              0.5555555555555556,
              "#d8576b"
             ],
             [
              0.6666666666666666,
              "#ed7953"
             ],
             [
              0.7777777777777778,
              "#fb9f3a"
             ],
             [
              0.8888888888888888,
              "#fdca26"
             ],
             [
              1,
              "#f0f921"
             ]
            ],
            "type": "histogram2d"
           }
          ],
          "histogram2dcontour": [
           {
            "colorbar": {
             "outlinewidth": 0,
             "ticks": ""
            },
            "colorscale": [
             [
              0,
              "#0d0887"
             ],
             [
              0.1111111111111111,
              "#46039f"
             ],
             [
              0.2222222222222222,
              "#7201a8"
             ],
             [
              0.3333333333333333,
              "#9c179e"
             ],
             [
              0.4444444444444444,
              "#bd3786"
             ],
             [
              0.5555555555555556,
              "#d8576b"
             ],
             [
              0.6666666666666666,
              "#ed7953"
             ],
             [
              0.7777777777777778,
              "#fb9f3a"
             ],
             [
              0.8888888888888888,
              "#fdca26"
             ],
             [
              1,
              "#f0f921"
             ]
            ],
            "type": "histogram2dcontour"
           }
          ],
          "mesh3d": [
           {
            "colorbar": {
             "outlinewidth": 0,
             "ticks": ""
            },
            "type": "mesh3d"
           }
          ],
          "parcoords": [
           {
            "line": {
             "colorbar": {
              "outlinewidth": 0,
              "ticks": ""
             }
            },
            "type": "parcoords"
           }
          ],
          "pie": [
           {
            "automargin": true,
            "type": "pie"
           }
          ],
          "scatter": [
           {
            "fillpattern": {
             "fillmode": "overlay",
             "size": 10,
             "solidity": 0.2
            },
            "type": "scatter"
           }
          ],
          "scatter3d": [
           {
            "line": {
             "colorbar": {
              "outlinewidth": 0,
              "ticks": ""
             }
            },
            "marker": {
             "colorbar": {
              "outlinewidth": 0,
              "ticks": ""
             }
            },
            "type": "scatter3d"
           }
          ],
          "scattercarpet": [
           {
            "marker": {
             "colorbar": {
              "outlinewidth": 0,
              "ticks": ""
             }
            },
            "type": "scattercarpet"
           }
          ],
          "scattergeo": [
           {
            "marker": {
             "colorbar": {
              "outlinewidth": 0,
              "ticks": ""
             }
            },
            "type": "scattergeo"
           }
          ],
          "scattergl": [
           {
            "marker": {
             "colorbar": {
              "outlinewidth": 0,
              "ticks": ""
             }
            },
            "type": "scattergl"
           }
          ],
          "scattermapbox": [
           {
            "marker": {
             "colorbar": {
              "outlinewidth": 0,
              "ticks": ""
             }
            },
            "type": "scattermapbox"
           }
          ],
          "scatterpolar": [
           {
            "marker": {
             "colorbar": {
              "outlinewidth": 0,
              "ticks": ""
             }
            },
            "type": "scatterpolar"
           }
          ],
          "scatterpolargl": [
           {
            "marker": {
             "colorbar": {
              "outlinewidth": 0,
              "ticks": ""
             }
            },
            "type": "scatterpolargl"
           }
          ],
          "scatterternary": [
           {
            "marker": {
             "colorbar": {
              "outlinewidth": 0,
              "ticks": ""
             }
            },
            "type": "scatterternary"
           }
          ],
          "surface": [
           {
            "colorbar": {
             "outlinewidth": 0,
             "ticks": ""
            },
            "colorscale": [
             [
              0,
              "#0d0887"
             ],
             [
              0.1111111111111111,
              "#46039f"
             ],
             [
              0.2222222222222222,
              "#7201a8"
             ],
             [
              0.3333333333333333,
              "#9c179e"
             ],
             [
              0.4444444444444444,
              "#bd3786"
             ],
             [
              0.5555555555555556,
              "#d8576b"
             ],
             [
              0.6666666666666666,
              "#ed7953"
             ],
             [
              0.7777777777777778,
              "#fb9f3a"
             ],
             [
              0.8888888888888888,
              "#fdca26"
             ],
             [
              1,
              "#f0f921"
             ]
            ],
            "type": "surface"
           }
          ],
          "table": [
           {
            "cells": {
             "fill": {
              "color": "#EBF0F8"
             },
             "line": {
              "color": "white"
             }
            },
            "header": {
             "fill": {
              "color": "#C8D4E3"
             },
             "line": {
              "color": "white"
             }
            },
            "type": "table"
           }
          ]
         },
         "layout": {
          "annotationdefaults": {
           "arrowcolor": "#2a3f5f",
           "arrowhead": 0,
           "arrowwidth": 1
          },
          "autotypenumbers": "strict",
          "coloraxis": {
           "colorbar": {
            "outlinewidth": 0,
            "ticks": ""
           }
          },
          "colorscale": {
           "diverging": [
            [
             0,
             "#8e0152"
            ],
            [
             0.1,
             "#c51b7d"
            ],
            [
             0.2,
             "#de77ae"
            ],
            [
             0.3,
             "#f1b6da"
            ],
            [
             0.4,
             "#fde0ef"
            ],
            [
             0.5,
             "#f7f7f7"
            ],
            [
             0.6,
             "#e6f5d0"
            ],
            [
             0.7,
             "#b8e186"
            ],
            [
             0.8,
             "#7fbc41"
            ],
            [
             0.9,
             "#4d9221"
            ],
            [
             1,
             "#276419"
            ]
           ],
           "sequential": [
            [
             0,
             "#0d0887"
            ],
            [
             0.1111111111111111,
             "#46039f"
            ],
            [
             0.2222222222222222,
             "#7201a8"
            ],
            [
             0.3333333333333333,
             "#9c179e"
            ],
            [
             0.4444444444444444,
             "#bd3786"
            ],
            [
             0.5555555555555556,
             "#d8576b"
            ],
            [
             0.6666666666666666,
             "#ed7953"
            ],
            [
             0.7777777777777778,
             "#fb9f3a"
            ],
            [
             0.8888888888888888,
             "#fdca26"
            ],
            [
             1,
             "#f0f921"
            ]
           ],
           "sequentialminus": [
            [
             0,
             "#0d0887"
            ],
            [
             0.1111111111111111,
             "#46039f"
            ],
            [
             0.2222222222222222,
             "#7201a8"
            ],
            [
             0.3333333333333333,
             "#9c179e"
            ],
            [
             0.4444444444444444,
             "#bd3786"
            ],
            [
             0.5555555555555556,
             "#d8576b"
            ],
            [
             0.6666666666666666,
             "#ed7953"
            ],
            [
             0.7777777777777778,
             "#fb9f3a"
            ],
            [
             0.8888888888888888,
             "#fdca26"
            ],
            [
             1,
             "#f0f921"
            ]
           ]
          },
          "colorway": [
           "#636efa",
           "#EF553B",
           "#00cc96",
           "#ab63fa",
           "#FFA15A",
           "#19d3f3",
           "#FF6692",
           "#B6E880",
           "#FF97FF",
           "#FECB52"
          ],
          "font": {
           "color": "#2a3f5f"
          },
          "geo": {
           "bgcolor": "white",
           "lakecolor": "white",
           "landcolor": "#E5ECF6",
           "showlakes": true,
           "showland": true,
           "subunitcolor": "white"
          },
          "hoverlabel": {
           "align": "left"
          },
          "hovermode": "closest",
          "mapbox": {
           "style": "light"
          },
          "paper_bgcolor": "white",
          "plot_bgcolor": "#E5ECF6",
          "polar": {
           "angularaxis": {
            "gridcolor": "white",
            "linecolor": "white",
            "ticks": ""
           },
           "bgcolor": "#E5ECF6",
           "radialaxis": {
            "gridcolor": "white",
            "linecolor": "white",
            "ticks": ""
           }
          },
          "scene": {
           "xaxis": {
            "backgroundcolor": "#E5ECF6",
            "gridcolor": "white",
            "gridwidth": 2,
            "linecolor": "white",
            "showbackground": true,
            "ticks": "",
            "zerolinecolor": "white"
           },
           "yaxis": {
            "backgroundcolor": "#E5ECF6",
            "gridcolor": "white",
            "gridwidth": 2,
            "linecolor": "white",
            "showbackground": true,
            "ticks": "",
            "zerolinecolor": "white"
           },
           "zaxis": {
            "backgroundcolor": "#E5ECF6",
            "gridcolor": "white",
            "gridwidth": 2,
            "linecolor": "white",
            "showbackground": true,
            "ticks": "",
            "zerolinecolor": "white"
           }
          },
          "shapedefaults": {
           "line": {
            "color": "#2a3f5f"
           }
          },
          "ternary": {
           "aaxis": {
            "gridcolor": "white",
            "linecolor": "white",
            "ticks": ""
           },
           "baxis": {
            "gridcolor": "white",
            "linecolor": "white",
            "ticks": ""
           },
           "bgcolor": "#E5ECF6",
           "caxis": {
            "gridcolor": "white",
            "linecolor": "white",
            "ticks": ""
           }
          },
          "title": {
           "x": 0.05
          },
          "xaxis": {
           "automargin": true,
           "gridcolor": "white",
           "linecolor": "white",
           "ticks": "",
           "title": {
            "standoff": 15
           },
           "zerolinecolor": "white",
           "zerolinewidth": 2
          },
          "yaxis": {
           "automargin": true,
           "gridcolor": "white",
           "linecolor": "white",
           "ticks": "",
           "title": {
            "standoff": 15
           },
           "zerolinecolor": "white",
           "zerolinewidth": 2
          }
         }
        },
        "xaxis": {
         "autorange": true,
         "range": [
          -3,
          10
         ],
         "type": "linear"
        },
        "yaxis": {
         "autorange": true,
         "range": [
          -10.944444444444445,
          7.944444444444445
         ],
         "type": "linear"
        }
       }
      },
      "image/png": "[encoded data removed]",
      "text/html": [
       "<div>                            <div id=\"3ab87beb-33d3-48a2-b25a-600f2528951e\" class=\"plotly-graph-div\" style=\"height:525px; width:100%;\"></div>            <script type=\"text/javascript\">                require([\"plotly\"], function(Plotly) {                    window.PLOTLYENV=window.PLOTLYENV || {};                                    if (document.getElementById(\"3ab87beb-33d3-48a2-b25a-600f2528951e\")) {                    Plotly.newPlot(                        \"3ab87beb-33d3-48a2-b25a-600f2528951e\",                        [{\"mode\":\"lines\",\"name\":\"main root\",\"x\":[2.0,2.163265306122449,2.326530612244898,2.489795918367347,2.6530612244897958,2.816326530612245,2.979591836734694,3.142857142857143,3.3061224489795915,3.4693877551020407,3.63265306122449,3.7959183673469385,3.9591836734693877,4.122448979591836,4.285714285714286,4.448979591836734,4.612244897959183,4.775510204081632,4.938775510204081,5.1020408163265305,5.26530612244898,5.428571428571429,5.591836734693877,5.755102040816326,5.918367346938775,6.081632653061225,6.244897959183673,6.408163265306122,6.571428571428571,6.73469387755102,6.897959183673469,7.061224489795918,7.224489795918367,7.387755102040816,7.551020408163265,7.7142857142857135,7.877551020408163,8.040816326530612,8.204081632653061,8.367346938775508,8.53061224489796,8.693877551020407,8.857142857142858,9.020408163265305,9.183673469387754,9.346938775510203,9.510204081632653,9.673469387755102,9.83673469387755,10.0],\"y\":[4.0,3.714285714285714,3.428571428571429,3.142857142857143,2.8571428571428577,2.571428571428571,2.2857142857142856,2.0,1.7142857142857149,1.4285714285714288,1.1428571428571428,0.8571428571428577,0.5714285714285716,0.2857142857142865,0.0,-0.2857142857142847,-0.5714285714285703,-0.8571428571428559,-1.1428571428571423,-1.4285714285714288,-1.7142857142857144,-2.0,-2.2857142857142847,-2.571428571428571,-2.8571428571428568,-3.1428571428571432,-3.428571428571427,-3.7142857142857135,-4.0,-4.285714285714285,-4.571428571428569,-4.857142857142856,-5.142857142857142,-5.428571428571429,-5.7142857142857135,-5.999999999999998,-6.285714285714285,-6.571428571428571,-6.857142857142858,-7.142857142857139,-7.428571428571429,-7.714285714285712,-8.0,-8.285714285714285,-8.57142857142857,-8.857142857142856,-9.142857142857142,-9.428571428571427,-9.714285714285714,-10.0],\"type\":\"scatter\"},{\"mode\":\"lines\",\"name\":\"4.197963178684933\",\"x\":[5.0,5.026055462217058,5.052110924434116,5.078166386651174,5.104221848868232,5.1302773110852895,5.156332773302347,5.182388235519405,5.208443697736463,5.234499159953521,5.260554622170579,5.286610084387637,5.312665546604695,5.338721008821753,5.364776471038811,5.3908319332558685,5.416887395472926,5.442942857689984,5.468998319907042,5.4950537821241,5.521109244341158,5.547164706558216,5.573220168775274,5.599275630992333,5.62533109320939,5.651386555426448,5.677442017643505,5.703497479860564,5.729552942077621,5.75560840429468,5.781663866511738,5.807719328728796,5.833774790945854,5.859830253162912,5.8858857153799695,5.911941177597027,5.937996639814085,5.964052102031143,5.990107564248201,6.016163026465259,6.042218488682317,6.068273950899375,6.094329413116433,6.120384875333491,6.1464403375505485,6.172495799767606,6.198551261984664,6.224606724201722,6.25066218641878,6.276717648635838],\"y\":[-5.0,-4.887350514066441,-4.773479031332464,-4.658385551798062,-4.5420700754632435,-4.424532602328004,-4.305773132392346,-4.185791665656264,-4.064588202119765,-3.942162741782841,-3.8185152846455033,-3.6936458307077444,-3.567554379969561,-3.44024093243096,-3.3117054880919383,-3.1819480469525026,-3.050968609012635,-2.9187671742723538,-2.7853437427316514,-2.650698314390535,-2.514830889248991,-2.3777414673070254,-2.239430048564646,-2.0998966330218387,-1.959141220678621,-1.8171638115349715,-1.6739644055909153,-1.5295430028464239,-1.3838996033015256,-1.2370342069561957,-1.0889468138104554,-0.9396374238642906,-0.7891060371177083,-0.637352653570705,-0.48437727322327717,-0.33017989607543186,-0.17476052212717264,-0.01811915137848885,0.1397442161706195,0.2988295805201453,0.45913694167009567,0.6206662996204599,0.7834176543712381,0.947391005922448,1.1125863542740682,1.2790036994261165,1.4466430413785858,1.6155043801314726,1.7855877156847768,1.956893048038502],\"type\":\"scatter\"},{\"mode\":\"lines\",\"name\":\"45.37934588774504\",\"x\":[-3.0,-2.8979591836734695,-2.795918367346939,-2.693877551020408,-2.5918367346938775,-2.489795918367347,-2.387755102040816,-2.2857142857142856,-2.183673469387755,-2.0816326530612246,-1.9795918367346939,-1.8775510204081631,-1.7755102040816326,-1.6734693877551021,-1.5714285714285714,-1.4693877551020407,-1.3673469387755102,-1.2653061224489797,-1.163265306122449,-1.0612244897959182,-0.9591836734693877,-0.8571428571428572,-0.7551020408163263,-0.6530612244897958,-0.5510204081632653,-0.44897959183673475,-0.34693877551020424,-0.2448979591836733,-0.1428571428571428,-0.04081632653061229,0.06122448979591866,0.16326530612244916,0.26530612244897966,0.36734693877551017,0.46938775510204067,0.5714285714285716,0.6734693877551021,0.7755102040816326,0.8775510204081636,0.9795918367346941,1.0816326530612246,1.183673469387755,1.2857142857142856,1.387755102040816,1.4897959183673475,1.591836734693878,1.6938775510204085,1.795918367346939,1.8979591836734695,2.0],\"y\":[-7.0,-7.164098292378175,-7.309454394002499,-7.436068304872969,-7.543940024989586,-7.6330695543523515,-7.703456892961265,-7.755102040816325,-7.788004997917533,-7.802165764264888,-7.797584339858392,-7.774260724698042,-7.73219491878384,-7.671386922115785,-7.591836734693878,-7.493544356518117,-7.376509787588504,-7.240733027905039,-7.086214077467721,-6.912952936276551,-6.720949604331528,-6.5102040816326525,-6.280716368179924,-6.032486463973344,-5.765514369012911,-5.479800083298626,-5.175343606830488,-4.852144939608496,-4.5102040816326525,-4.149521032902957,-3.7700957934194075,-3.3719283631820067,-2.9550187421907537,-2.519366930445648,-2.0649729279466897,-1.591836734693877,-1.0999583506872135,-0.5893377759266976,-0.05997501041232667,0.48812994585589387,1.0549770928779676,1.6405664306538936,2.244897959183672,2.8679716784673035,3.5097875885047927,4.170345689296129,4.849645980841316,5.547688463140361,6.264473136193253,7.0],\"type\":\"scatter\"}],                        {\"template\":{\"data\":{\"barpolar\":[{\"marker\":{\"line\":{\"color\":\"#E5ECF6\",\"width\":0.5},\"pattern\":{\"fillmode\":\"overlay\",\"size\":10,\"solidity\":0.2}},\"type\":\"barpolar\"}],\"bar\":[{\"error_x\":{\"color\":\"#2a3f5f\"},\"error_y\":{\"color\":\"#2a3f5f\"},\"marker\":{\"line\":{\"color\":\"#E5ECF6\",\"width\":0.5},\"pattern\":{\"fillmode\":\"overlay\",\"size\":10,\"solidity\":0.2}},\"type\":\"bar\"}],\"carpet\":[{\"aaxis\":{\"endlinecolor\":\"#2a3f5f\",\"gridcolor\":\"white\",\"linecolor\":\"white\",\"minorgridcolor\":\"white\",\"startlinecolor\":\"#2a3f5f\"},\"baxis\":{\"endlinecolor\":\"#2a3f5f\",\"gridcolor\":\"white\",\"linecolor\":\"white\",\"minorgridcolor\":\"white\",\"startlinecolor\":\"#2a3f5f\"},\"type\":\"carpet\"}],\"choropleth\":[{\"colorbar\":{\"outlinewidth\":0,\"ticks\":\"\"},\"type\":\"choropleth\"}],\"contourcarpet\":[{\"colorbar\":{\"outlinewidth\":0,\"ticks\":\"\"},\"type\":\"contourcarpet\"}],\"contour\":[{\"colorbar\":{\"outlinewidth\":0,\"ticks\":\"\"},\"colorscale\":[[0.0,\"#0d0887\"],[0.1111111111111111,\"#46039f\"],[0.2222222222222222,\"#7201a8\"],[0.3333333333333333,\"#9c179e\"],[0.4444444444444444,\"#bd3786\"],[0.5555555555555556,\"#d8576b\"],[0.6666666666666666,\"#ed7953\"],[0.7777777777777778,\"#fb9f3a\"],[0.8888888888888888,\"#fdca26\"],[1.0,\"#f0f921\"]],\"type\":\"contour\"}],\"heatmapgl\":[{\"colorbar\":{\"outlinewidth\":0,\"ticks\":\"\"},\"colorscale\":[[0.0,\"#0d0887\"],[0.1111111111111111,\"#46039f\"],[0.2222222222222222,\"#7201a8\"],[0.3333333333333333,\"#9c179e\"],[0.4444444444444444,\"#bd3786\"],[0.5555555555555556,\"#d8576b\"],[0.6666666666666666,\"#ed7953\"],[0.7777777777777778,\"#fb9f3a\"],[0.8888888888888888,\"#fdca26\"],[1.0,\"#f0f921\"]],\"type\":\"heatmapgl\"}],\"heatmap\":[{\"colorbar\":{\"outlinewidth\":0,\"ticks\":\"\"},\"colorscale\":[[0.0,\"#0d0887\"],[0.1111111111111111,\"#46039f\"],[0.2222222222222222,\"#7201a8\"],[0.3333333333333333,\"#9c179e\"],[0.4444444444444444,\"#bd3786\"],[0.5555555555555556,\"#d8576b\"],[0.6666666666666666,\"#ed7953\"],[0.7777777777777778,\"#fb9f3a\"],[0.8888888888888888,\"#fdca26\"],[1.0,\"#f0f921\"]],\"type\":\"heatmap\"}],\"histogram2dcontour\":[{\"colorbar\":{\"outlinewidth\":0,\"ticks\":\"\"},\"colorscale\":[[0.0,\"#0d0887\"],[0.1111111111111111,\"#46039f\"],[0.2222222222222222,\"#7201a8\"],[0.3333333333333333,\"#9c179e\"],[0.4444444444444444,\"#bd3786\"],[0.5555555555555556,\"#d8576b\"],[0.6666666666666666,\"#ed7953\"],[0.7777777777777778,\"#fb9f3a\"],[0.8888888888888888,\"#fdca26\"],[1.0,\"#f0f921\"]],\"type\":\"histogram2dcontour\"}],\"histogram2d\":[{\"colorbar\":{\"outlinewidth\":0,\"ticks\":\"\"},\"colorscale\":[[0.0,\"#0d0887\"],[0.1111111111111111,\"#46039f\"],[0.2222222222222222,\"#7201a8\"],[0.3333333333333333,\"#9c179e\"],[0.4444444444444444,\"#bd3786\"],[0.5555555555555556,\"#d8576b\"],[0.6666666666666666,\"#ed7953\"],[0.7777777777777778,\"#fb9f3a\"],[0.8888888888888888,\"#fdca26\"],[1.0,\"#f0f921\"]],\"type\":\"histogram2d\"}],\"histogram\":[{\"marker\":{\"pattern\":{\"fillmode\":\"overlay\",\"size\":10,\"solidity\":0.2}},\"type\":\"histogram\"}],\"mesh3d\":[{\"colorbar\":{\"outlinewidth\":0,\"ticks\":\"\"},\"type\":\"mesh3d\"}],\"parcoords\":[{\"line\":{\"colorbar\":{\"outlinewidth\":0,\"ticks\":\"\"}},\"type\":\"parcoords\"}],\"pie\":[{\"automargin\":true,\"type\":\"pie\"}],\"scatter3d\":[{\"line\":{\"colorbar\":{\"outlinewidth\":0,\"ticks\":\"\"}},\"marker\":{\"colorbar\":{\"outlinewidth\":0,\"ticks\":\"\"}},\"type\":\"scatter3d\"}],\"scattercarpet\":[{\"marker\":{\"colorbar\":{\"outlinewidth\":0,\"ticks\":\"\"}},\"type\":\"scattercarpet\"}],\"scattergeo\":[{\"marker\":{\"colorbar\":{\"outlinewidth\":0,\"ticks\":\"\"}},\"type\":\"scattergeo\"}],\"scattergl\":[{\"marker\":{\"colorbar\":{\"outlinewidth\":0,\"ticks\":\"\"}},\"type\":\"scattergl\"}],\"scattermapbox\":[{\"marker\":{\"colorbar\":{\"outlinewidth\":0,\"ticks\":\"\"}},\"type\":\"scattermapbox\"}],\"scatterpolargl\":[{\"marker\":{\"colorbar\":{\"outlinewidth\":0,\"ticks\":\"\"}},\"type\":\"scatterpolargl\"}],\"scatterpolar\":[{\"marker\":{\"colorbar\":{\"outlinewidth\":0,\"ticks\":\"\"}},\"type\":\"scatterpolar\"}],\"scatter\":[{\"fillpattern\":{\"fillmode\":\"overlay\",\"size\":10,\"solidity\":0.2},\"type\":\"scatter\"}],\"scatterternary\":[{\"marker\":{\"colorbar\":{\"outlinewidth\":0,\"ticks\":\"\"}},\"type\":\"scatterternary\"}],\"surface\":[{\"colorbar\":{\"outlinewidth\":0,\"ticks\":\"\"},\"colorscale\":[[0.0,\"#0d0887\"],[0.1111111111111111,\"#46039f\"],[0.2222222222222222,\"#7201a8\"],[0.3333333333333333,\"#9c179e\"],[0.4444444444444444,\"#bd3786\"],[0.5555555555555556,\"#d8576b\"],[0.6666666666666666,\"#ed7953\"],[0.7777777777777778,\"#fb9f3a\"],[0.8888888888888888,\"#fdca26\"],[1.0,\"#f0f921\"]],\"type\":\"surface\"}],\"table\":[{\"cells\":{\"fill\":{\"color\":\"#EBF0F8\"},\"line\":{\"color\":\"white\"}},\"header\":{\"fill\":{\"color\":\"#C8D4E3\"},\"line\":{\"color\":\"white\"}},\"type\":\"table\"}]},\"layout\":{\"annotationdefaults\":{\"arrowcolor\":\"#2a3f5f\",\"arrowhead\":0,\"arrowwidth\":1},\"autotypenumbers\":\"strict\",\"coloraxis\":{\"colorbar\":{\"outlinewidth\":0,\"ticks\":\"\"}},\"colorscale\":{\"diverging\":[[0,\"#8e0152\"],[0.1,\"#c51b7d\"],[0.2,\"#de77ae\"],[0.3,\"#f1b6da\"],[0.4,\"#fde0ef\"],[0.5,\"#f7f7f7\"],[0.6,\"#e6f5d0\"],[0.7,\"#b8e186\"],[0.8,\"#7fbc41\"],[0.9,\"#4d9221\"],[1,\"#276419\"]],\"sequential\":[[0.0,\"#0d0887\"],[0.1111111111111111,\"#46039f\"],[0.2222222222222222,\"#7201a8\"],[0.3333333333333333,\"#9c179e\"],[0.4444444444444444,\"#bd3786\"],[0.5555555555555556,\"#d8576b\"],[0.6666666666666666,\"#ed7953\"],[0.7777777777777778,\"#fb9f3a\"],[0.8888888888888888,\"#fdca26\"],[1.0,\"#f0f921\"]],\"sequentialminus\":[[0.0,\"#0d0887\"],[0.1111111111111111,\"#46039f\"],[0.2222222222222222,\"#7201a8\"],[0.3333333333333333,\"#9c179e\"],[0.4444444444444444,\"#bd3786\"],[0.5555555555555556,\"#d8576b\"],[0.6666666666666666,\"#ed7953\"],[0.7777777777777778,\"#fb9f3a\"],[0.8888888888888888,\"#fdca26\"],[1.0,\"#f0f921\"]]},\"colorway\":[\"#636efa\",\"#EF553B\",\"#00cc96\",\"#ab63fa\",\"#FFA15A\",\"#19d3f3\",\"#FF6692\",\"#B6E880\",\"#FF97FF\",\"#FECB52\"],\"font\":{\"color\":\"#2a3f5f\"},\"geo\":{\"bgcolor\":\"white\",\"lakecolor\":\"white\",\"landcolor\":\"#E5ECF6\",\"showlakes\":true,\"showland\":true,\"subunitcolor\":\"white\"},\"hoverlabel\":{\"align\":\"left\"},\"hovermode\":\"closest\",\"mapbox\":{\"style\":\"light\"},\"paper_bgcolor\":\"white\",\"plot_bgcolor\":\"#E5ECF6\",\"polar\":{\"angularaxis\":{\"gridcolor\":\"white\",\"linecolor\":\"white\",\"ticks\":\"\"},\"bgcolor\":\"#E5ECF6\",\"radialaxis\":{\"gridcolor\":\"white\",\"linecolor\":\"white\",\"ticks\":\"\"}},\"scene\":{\"xaxis\":{\"backgroundcolor\":\"#E5ECF6\",\"gridcolor\":\"white\",\"gridwidth\":2,\"linecolor\":\"white\",\"showbackground\":true,\"ticks\":\"\",\"zerolinecolor\":\"white\"},\"yaxis\":{\"backgroundcolor\":\"#E5ECF6\",\"gridcolor\":\"white\",\"gridwidth\":2,\"linecolor\":\"white\",\"showbackground\":true,\"ticks\":\"\",\"zerolinecolor\":\"white\"},\"zaxis\":{\"backgroundcolor\":\"#E5ECF6\",\"gridcolor\":\"white\",\"gridwidth\":2,\"linecolor\":\"white\",\"showbackground\":true,\"ticks\":\"\",\"zerolinecolor\":\"white\"}},\"shapedefaults\":{\"line\":{\"color\":\"#2a3f5f\"}},\"ternary\":{\"aaxis\":{\"gridcolor\":\"white\",\"linecolor\":\"white\",\"ticks\":\"\"},\"baxis\":{\"gridcolor\":\"white\",\"linecolor\":\"white\",\"ticks\":\"\"},\"bgcolor\":\"#E5ECF6\",\"caxis\":{\"gridcolor\":\"white\",\"linecolor\":\"white\",\"ticks\":\"\"}},\"title\":{\"x\":0.05},\"xaxis\":{\"automargin\":true,\"gridcolor\":\"white\",\"linecolor\":\"white\",\"ticks\":\"\",\"title\":{\"standoff\":15},\"zerolinecolor\":\"white\",\"zerolinewidth\":2},\"yaxis\":{\"automargin\":true,\"gridcolor\":\"white\",\"linecolor\":\"white\",\"ticks\":\"\",\"title\":{\"standoff\":15},\"zerolinecolor\":\"white\",\"zerolinewidth\":2}}}},                        {\"responsive\": true}                    ).then(function(){\n",
       "                            \n",
       "var gd = document.getElementById('3ab87beb-33d3-48a2-b25a-600f2528951e');\n",
       "var x = new MutationObserver(function (mutations, observer) {{\n",
       "        var display = window.getComputedStyle(gd).display;\n",
       "        if (!display || display === 'none') {{\n",
       "            console.log([gd, 'removed!']);\n",
       "            Plotly.purge(gd);\n",
       "            observer.disconnect();\n",
       "        }}\n",
       "}});\n",
       "\n",
       "// Listen for the removal of the full notebook cells\n",
       "var notebookContainer = gd.closest('#notebook-container');\n",
       "if (notebookContainer) {{\n",
       "    x.observe(notebookContainer, {childList: true});\n",
       "}}\n",
       "\n",
       "// Listen for the clearing of the current output cell\n",
       "var outputEl = gd.closest('.output');\n",
       "if (outputEl) {{\n",
       "    x.observe(outputEl, {childList: true});\n",
       "}}\n",
       "\n",
       "                        })                };                });            </script>        </div>"
      ]
     },
     "metadata": {},
     "output_type": "display_data"
    },
    {
     "data": {
      "application/vnd.plotly.v1+json": {
       "config": {
        "linkText": "Export to plot.ly",
        "plotlyServerURL": "https://plot.ly",
        "showLink": false
       },
       "data": [
        {
         "mode": "lines",
         "name": "mainroot",
         "type": "scatter",
         "x": [
          0,
          0,
          0,
          0,
          0,
          0,
          0,
          0,
          0,
          0,
          0,
          0,
          0,
          0,
          0,
          0,
          0,
          0,
          0,
          0,
          0,
          0,
          0,
          0,
          0,
          0,
          0,
          0,
          0,
          0,
          0,
          0,
          0,
          0,
          0,
          0,
          0,
          0,
          0,
          0,
          0,
          0,
          0,
          0,
          0,
          0,
          0,
          0,
          0,
          0
         ],
         "y": [
          -16.1245154965971,
          -15.795443751768586,
          -15.466372006940073,
          -15.137300262111562,
          -14.80822851728305,
          -14.479156772454537,
          -14.150085027626025,
          -13.821013282797512,
          -13.491941537969002,
          -13.162869793140489,
          -12.833798048311976,
          -12.504726303483464,
          -12.175654558654951,
          -11.84658281382644,
          -11.517511068997926,
          -11.188439324169416,
          -10.859367579340903,
          -10.53029583451239,
          -10.20122408968388,
          -9.872152344855365,
          -9.543080600026855,
          -9.214008855198342,
          -8.88493711036983,
          -8.555865365541319,
          -8.226793620712805,
          -7.897721875884294,
          -7.568650131055781,
          -7.239578386227269,
          -6.910506641398756,
          -6.581434896570244,
          -6.252363151741733,
          -5.92329140691322,
          -5.594219662084708,
          -5.265147917256195,
          -4.936076172427683,
          -4.607004427599172,
          -4.277932682770659,
          -3.948860937942147,
          -3.6197891931136343,
          -3.290717448285122,
          -2.961645703456611,
          -2.6325739586280985,
          -2.303502213799586,
          -1.9744304689710734,
          -1.645358724142561,
          -1.3162869793140484,
          -0.9872152344855376,
          -0.6581434896570251,
          -0.32907174482851254,
          0
         ]
        },
        {
         "mode": "lines",
         "name": "4.197963178684933",
         "type": "scatter",
         "x": [
          0,
          -0.03796981671098217,
          -0.07593963342196434,
          -0.11390945013294651,
          -0.1518792668439287,
          -0.18984908355491087,
          -0.22781890026589302,
          -0.26578871697687523,
          -0.3037585336878574,
          -0.34172835039883953,
          -0.37969816710982174,
          -0.4176679838208039,
          -0.45563780053178604,
          -0.49360761724276825,
          -0.5315774339537505,
          -0.5695472506647326,
          -0.6075170673757148,
          -0.645486884086697,
          -0.6834567007976791,
          -0.7214265175086613,
          -0.7593963342196435,
          -0.7973661509306256,
          -0.8353359676416078,
          -0.87330578435259,
          -0.9112756010635721,
          -0.9492454177745543,
          -0.9872152344855365,
          -1.0251850511965186,
          -1.063154867907501,
          -1.101124684618483,
          -1.139094501329465,
          -1.1770643180404474,
          -1.2150341347514295,
          -1.2530039514624116,
          -1.290973768173394,
          -1.328943584884376,
          -1.3669134015953581,
          -1.4048832183063404,
          -1.4428530350173225,
          -1.4808228517283046,
          -1.518792668439287,
          -1.556762485150269,
          -1.5947323018612511,
          -1.6327021185722335,
          -1.6706719352832156,
          -1.7086417519941977,
          -1.74661156870518,
          -1.784581385416162,
          -1.8225512021271442,
          -1.8605210188381265
         ],
         "y": [
          -8.61999999999986,
          -8.69621245778987,
          -8.769829843013959,
          -8.840852155672131,
          -8.909279395764385,
          -8.97511156329072,
          -9.038348658251138,
          -9.098990680645638,
          -9.157037630474221,
          -9.212489507736885,
          -9.26534631243363,
          -9.315608044564458,
          -9.363274704129367,
          -9.408346291128359,
          -9.450822805561433,
          -9.490704247428589,
          -9.527990616729825,
          -9.562681913465145,
          -9.594778137634547,
          -9.624279289238029,
          -9.651185368275595,
          -9.675496374747242,
          -9.697212308652972,
          -9.716333169992783,
          -9.732858958766675,
          -9.74678967497465,
          -9.758125318616708,
          -9.766865889692847,
          -9.773011388203068,
          -9.776561814147371,
          -9.777517167525755,
          -9.775877448338223,
          -9.77164265658477,
          -9.7648127922654,
          -9.755387855380114,
          -9.743367845928908,
          -9.728752763911785,
          -9.711542609328744,
          -9.691737382179785,
          -9.669337082464907,
          -9.644341710184111,
          -9.616751265337397,
          -9.586565747924766,
          -9.553785157946216,
          -9.518409495401748,
          -9.480438760291362,
          -9.439872952615058,
          -9.396712072372836,
          -9.350956119564696,
          -9.302605094190637
         ]
        },
        {
         "mode": "lines",
         "name": "45.37934588774504",
         "type": "scatter",
         "x": [
          0,
          -0.19997436801117283,
          -0.39994873602234565,
          -0.5999231040335185,
          -0.7998974720446913,
          -0.9998718400558642,
          -1.199846208067037,
          -1.3998205760782099,
          -1.5997949440893826,
          -1.7997693121005554,
          -1.9997436801117283,
          -2.199718048122901,
          -2.399692416134074,
          -2.5996667841452465,
          -2.7996411521564197,
          -2.9996155201675925,
          -3.199589888178765,
          -3.399564256189938,
          -3.5995386242011107,
          -3.799512992212284,
          -3.9994873602234566,
          -4.199461728234629,
          -4.399436096245802,
          -4.599410464256975,
          -4.799384832268148,
          -4.99935920027932,
          -5.199333568290493,
          -5.399307936301667,
          -5.5992823043128395,
          -5.799256672324012,
          -5.999231040335185,
          -6.199205408346358,
          -6.39917977635753,
          -6.599154144368703,
          -6.799128512379876,
          -6.999102880391049,
          -7.199077248402221,
          -7.399051616413394,
          -7.599025984424568,
          -7.7990003524357405,
          -7.998974720446913,
          -8.198949088458086,
          -8.398923456469259,
          -8.598897824480431,
          -8.798872192491604,
          -8.998846560502777,
          -9.19882092851395,
          -9.398795296525122,
          -9.598769664536295,
          -9.798744032547468
         ],
         "y": [
          0,
          -1.8718424111171492,
          -3.6717032760836563,
          -5.39958259489952,
          -7.055480367564743,
          -8.639396594079322,
          -10.151331274443258,
          -11.591284408656556,
          -12.959255996719207,
          -14.255246038631215,
          -15.479254534392586,
          -16.63128148400331,
          -17.711326887463393,
          -18.719390744772834,
          -19.655473055931637,
          -20.51957382093979,
          -21.311693039797305,
          -22.03183071250417,
          -22.679986839060398,
          -23.25616141946599,
          -23.760354453720936,
          -24.192565941825237,
          -24.552795883778895,
          -24.84104427958191,
          -25.057311129234286,
          -25.201596432736018,
          -25.273900190087108,
          -25.27422240128756,
          -25.20256306633737,
          -25.058922185236526,
          -24.84329975798505,
          -24.555695784582923,
          -24.196110265030164,
          -23.764543199326752,
          -23.260994587472695,
          -22.685464429468013,
          -22.03795272531267,
          -21.318459475006712,
          -20.526984678550086,
          -19.66352833594282,
          -18.72809044718492,
          -17.720671012276384,
          -16.64127003121719,
          -15.489887504007356,
          -14.266523430646885,
          -12.97117781113576,
          -11.603850645474012,
          -10.16454193366161,
          -8.65325167569857,
          -7.069979871584877
         ]
        }
       ],
       "layout": {
        "autosize": true,
        "template": {
         "data": {
          "bar": [
           {
            "error_x": {
             "color": "#2a3f5f"
            },
            "error_y": {
             "color": "#2a3f5f"
            },
            "marker": {
             "line": {
              "color": "#E5ECF6",
              "width": 0.5
             },
             "pattern": {
              "fillmode": "overlay",
              "size": 10,
              "solidity": 0.2
             }
            },
            "type": "bar"
           }
          ],
          "barpolar": [
           {
            "marker": {
             "line": {
              "color": "#E5ECF6",
              "width": 0.5
             },
             "pattern": {
              "fillmode": "overlay",
              "size": 10,
              "solidity": 0.2
             }
            },
            "type": "barpolar"
           }
          ],
          "carpet": [
           {
            "aaxis": {
             "endlinecolor": "#2a3f5f",
             "gridcolor": "white",
             "linecolor": "white",
             "minorgridcolor": "white",
             "startlinecolor": "#2a3f5f"
            },
            "baxis": {
             "endlinecolor": "#2a3f5f",
             "gridcolor": "white",
             "linecolor": "white",
             "minorgridcolor": "white",
             "startlinecolor": "#2a3f5f"
            },
            "type": "carpet"
           }
          ],
          "choropleth": [
           {
            "colorbar": {
             "outlinewidth": 0,
             "ticks": ""
            },
            "type": "choropleth"
           }
          ],
          "contour": [
           {
            "colorbar": {
             "outlinewidth": 0,
             "ticks": ""
            },
            "colorscale": [
             [
              0,
              "#0d0887"
             ],
             [
              0.1111111111111111,
              "#46039f"
             ],
             [
              0.2222222222222222,
              "#7201a8"
             ],
             [
              0.3333333333333333,
              "#9c179e"
             ],
             [
              0.4444444444444444,
              "#bd3786"
             ],
             [
              0.5555555555555556,
              "#d8576b"
             ],
             [
              0.6666666666666666,
              "#ed7953"
             ],
             [
              0.7777777777777778,
              "#fb9f3a"
             ],
             [
              0.8888888888888888,
              "#fdca26"
             ],
             [
              1,
              "#f0f921"
             ]
            ],
            "type": "contour"
           }
          ],
          "contourcarpet": [
           {
            "colorbar": {
             "outlinewidth": 0,
             "ticks": ""
            },
            "type": "contourcarpet"
           }
          ],
          "heatmap": [
           {
            "colorbar": {
             "outlinewidth": 0,
             "ticks": ""
            },
            "colorscale": [
             [
              0,
              "#0d0887"
             ],
             [
              0.1111111111111111,
              "#46039f"
             ],
             [
              0.2222222222222222,
              "#7201a8"
             ],
             [
              0.3333333333333333,
              "#9c179e"
             ],
             [
              0.4444444444444444,
              "#bd3786"
             ],
             [
              0.5555555555555556,
              "#d8576b"
             ],
             [
              0.6666666666666666,
              "#ed7953"
             ],
             [
              0.7777777777777778,
              "#fb9f3a"
             ],
             [
              0.8888888888888888,
              "#fdca26"
             ],
             [
              1,
              "#f0f921"
             ]
            ],
            "type": "heatmap"
           }
          ],
          "heatmapgl": [
           {
            "colorbar": {
             "outlinewidth": 0,
             "ticks": ""
            },
            "colorscale": [
             [
              0,
              "#0d0887"
             ],
             [
              0.1111111111111111,
              "#46039f"
             ],
             [
              0.2222222222222222,
              "#7201a8"
             ],
             [
              0.3333333333333333,
              "#9c179e"
             ],
             [
              0.4444444444444444,
              "#bd3786"
             ],
             [
              0.5555555555555556,
              "#d8576b"
             ],
             [
              0.6666666666666666,
              "#ed7953"
             ],
             [
              0.7777777777777778,
              "#fb9f3a"
             ],
             [
              0.8888888888888888,
              "#fdca26"
             ],
             [
              1,
              "#f0f921"
             ]
            ],
            "type": "heatmapgl"
           }
          ],
          "histogram": [
           {
            "marker": {
             "pattern": {
              "fillmode": "overlay",
              "size": 10,
              "solidity": 0.2
             }
            },
            "type": "histogram"
           }
          ],
          "histogram2d": [
           {
            "colorbar": {
             "outlinewidth": 0,
             "ticks": ""
            },
            "colorscale": [
             [
              0,
              "#0d0887"
             ],
             [
              0.1111111111111111,
              "#46039f"
             ],
             [
              0.2222222222222222,
              "#7201a8"
             ],
             [
              0.3333333333333333,
              "#9c179e"
             ],
             [
              0.4444444444444444,
              "#bd3786"
             ],
             [
              0.5555555555555556,
              "#d8576b"
             ],
             [
              0.6666666666666666,
              "#ed7953"
             ],
             [
              0.7777777777777778,
              "#fb9f3a"
             ],
             [
              0.8888888888888888,
              "#fdca26"
             ],
             [
              1,
              "#f0f921"
             ]
            ],
            "type": "histogram2d"
           }
          ],
          "histogram2dcontour": [
           {
            "colorbar": {
             "outlinewidth": 0,
             "ticks": ""
            },
            "colorscale": [
             [
              0,
              "#0d0887"
             ],
             [
              0.1111111111111111,
              "#46039f"
             ],
             [
              0.2222222222222222,
              "#7201a8"
             ],
             [
              0.3333333333333333,
              "#9c179e"
             ],
             [
              0.4444444444444444,
              "#bd3786"
             ],
             [
              0.5555555555555556,
              "#d8576b"
             ],
             [
              0.6666666666666666,
              "#ed7953"
             ],
             [
              0.7777777777777778,
              "#fb9f3a"
             ],
             [
              0.8888888888888888,
              "#fdca26"
             ],
             [
              1,
              "#f0f921"
             ]
            ],
            "type": "histogram2dcontour"
           }
          ],
          "mesh3d": [
           {
            "colorbar": {
             "outlinewidth": 0,
             "ticks": ""
            },
            "type": "mesh3d"
           }
          ],
          "parcoords": [
           {
            "line": {
             "colorbar": {
              "outlinewidth": 0,
              "ticks": ""
             }
            },
            "type": "parcoords"
           }
          ],
          "pie": [
           {
            "automargin": true,
            "type": "pie"
           }
          ],
          "scatter": [
           {
            "fillpattern": {
             "fillmode": "overlay",
             "size": 10,
             "solidity": 0.2
            },
            "type": "scatter"
           }
          ],
          "scatter3d": [
           {
            "line": {
             "colorbar": {
              "outlinewidth": 0,
              "ticks": ""
             }
            },
            "marker": {
             "colorbar": {
              "outlinewidth": 0,
              "ticks": ""
             }
            },
            "type": "scatter3d"
           }
          ],
          "scattercarpet": [
           {
            "marker": {
             "colorbar": {
              "outlinewidth": 0,
              "ticks": ""
             }
            },
            "type": "scattercarpet"
           }
          ],
          "scattergeo": [
           {
            "marker": {
             "colorbar": {
              "outlinewidth": 0,
              "ticks": ""
             }
            },
            "type": "scattergeo"
           }
          ],
          "scattergl": [
           {
            "marker": {
             "colorbar": {
              "outlinewidth": 0,
              "ticks": ""
             }
            },
            "type": "scattergl"
           }
          ],
          "scattermapbox": [
           {
            "marker": {
             "colorbar": {
              "outlinewidth": 0,
              "ticks": ""
             }
            },
            "type": "scattermapbox"
           }
          ],
          "scatterpolar": [
           {
            "marker": {
             "colorbar": {
              "outlinewidth": 0,
              "ticks": ""
             }
            },
            "type": "scatterpolar"
           }
          ],
          "scatterpolargl": [
           {
            "marker": {
             "colorbar": {
              "outlinewidth": 0,
              "ticks": ""
             }
            },
            "type": "scatterpolargl"
           }
          ],
          "scatterternary": [
           {
            "marker": {
             "colorbar": {
              "outlinewidth": 0,
              "ticks": ""
             }
            },
            "type": "scatterternary"
           }
          ],
          "surface": [
           {
            "colorbar": {
             "outlinewidth": 0,
             "ticks": ""
            },
            "colorscale": [
             [
              0,
              "#0d0887"
             ],
             [
              0.1111111111111111,
              "#46039f"
             ],
             [
              0.2222222222222222,
              "#7201a8"
             ],
             [
              0.3333333333333333,
              "#9c179e"
             ],
             [
              0.4444444444444444,
              "#bd3786"
             ],
             [
              0.5555555555555556,
              "#d8576b"
             ],
             [
              0.6666666666666666,
              "#ed7953"
             ],
             [
              0.7777777777777778,
              "#fb9f3a"
             ],
             [
              0.8888888888888888,
              "#fdca26"
             ],
             [
              1,
              "#f0f921"
             ]
            ],
            "type": "surface"
           }
          ],
          "table": [
           {
            "cells": {
             "fill": {
              "color": "#EBF0F8"
             },
             "line": {
              "color": "white"
             }
            },
            "header": {
             "fill": {
              "color": "#C8D4E3"
             },
             "line": {
              "color": "white"
             }
            },
            "type": "table"
           }
          ]
         },
         "layout": {
          "annotationdefaults": {
           "arrowcolor": "#2a3f5f",
           "arrowhead": 0,
           "arrowwidth": 1
          },
          "autotypenumbers": "strict",
          "coloraxis": {
           "colorbar": {
            "outlinewidth": 0,
            "ticks": ""
           }
          },
          "colorscale": {
           "diverging": [
            [
             0,
             "#8e0152"
            ],
            [
             0.1,
             "#c51b7d"
            ],
            [
             0.2,
             "#de77ae"
            ],
            [
             0.3,
             "#f1b6da"
            ],
            [
             0.4,
             "#fde0ef"
            ],
            [
             0.5,
             "#f7f7f7"
            ],
            [
             0.6,
             "#e6f5d0"
            ],
            [
             0.7,
             "#b8e186"
            ],
            [
             0.8,
             "#7fbc41"
            ],
            [
             0.9,
             "#4d9221"
            ],
            [
             1,
             "#276419"
            ]
           ],
           "sequential": [
            [
             0,
             "#0d0887"
            ],
            [
             0.1111111111111111,
             "#46039f"
            ],
            [
             0.2222222222222222,
             "#7201a8"
            ],
            [
             0.3333333333333333,
             "#9c179e"
            ],
            [
             0.4444444444444444,
             "#bd3786"
            ],
            [
             0.5555555555555556,
             "#d8576b"
            ],
            [
             0.6666666666666666,
             "#ed7953"
            ],
            [
             0.7777777777777778,
             "#fb9f3a"
            ],
            [
             0.8888888888888888,
             "#fdca26"
            ],
            [
             1,
             "#f0f921"
            ]
           ],
           "sequentialminus": [
            [
             0,
             "#0d0887"
            ],
            [
             0.1111111111111111,
             "#46039f"
            ],
            [
             0.2222222222222222,
             "#7201a8"
            ],
            [
             0.3333333333333333,
             "#9c179e"
            ],
            [
             0.4444444444444444,
             "#bd3786"
            ],
            [
             0.5555555555555556,
             "#d8576b"
            ],
            [
             0.6666666666666666,
             "#ed7953"
            ],
            [
             0.7777777777777778,
             "#fb9f3a"
            ],
            [
             0.8888888888888888,
             "#fdca26"
            ],
            [
             1,
             "#f0f921"
            ]
           ]
          },
          "colorway": [
           "#636efa",
           "#EF553B",
           "#00cc96",
           "#ab63fa",
           "#FFA15A",
           "#19d3f3",
           "#FF6692",
           "#B6E880",
           "#FF97FF",
           "#FECB52"
          ],
          "font": {
           "color": "#2a3f5f"
          },
          "geo": {
           "bgcolor": "white",
           "lakecolor": "white",
           "landcolor": "#E5ECF6",
           "showlakes": true,
           "showland": true,
           "subunitcolor": "white"
          },
          "hoverlabel": {
           "align": "left"
          },
          "hovermode": "closest",
          "mapbox": {
           "style": "light"
          },
          "paper_bgcolor": "white",
          "plot_bgcolor": "#E5ECF6",
          "polar": {
           "angularaxis": {
            "gridcolor": "white",
            "linecolor": "white",
            "ticks": ""
           },
           "bgcolor": "#E5ECF6",
           "radialaxis": {
            "gridcolor": "white",
            "linecolor": "white",
            "ticks": ""
           }
          },
          "scene": {
           "xaxis": {
            "backgroundcolor": "#E5ECF6",
            "gridcolor": "white",
            "gridwidth": 2,
            "linecolor": "white",
            "showbackground": true,
            "ticks": "",
            "zerolinecolor": "white"
           },
           "yaxis": {
            "backgroundcolor": "#E5ECF6",
            "gridcolor": "white",
            "gridwidth": 2,
            "linecolor": "white",
            "showbackground": true,
            "ticks": "",
            "zerolinecolor": "white"
           },
           "zaxis": {
            "backgroundcolor": "#E5ECF6",
            "gridcolor": "white",
            "gridwidth": 2,
            "linecolor": "white",
            "showbackground": true,
            "ticks": "",
            "zerolinecolor": "white"
           }
          },
          "shapedefaults": {
           "line": {
            "color": "#2a3f5f"
           }
          },
          "ternary": {
           "aaxis": {
            "gridcolor": "white",
            "linecolor": "white",
            "ticks": ""
           },
           "baxis": {
            "gridcolor": "white",
            "linecolor": "white",
            "ticks": ""
           },
           "bgcolor": "#E5ECF6",
           "caxis": {
            "gridcolor": "white",
            "linecolor": "white",
            "ticks": ""
           }
          },
          "title": {
           "x": 0.05
          },
          "xaxis": {
           "automargin": true,
           "gridcolor": "white",
           "linecolor": "white",
           "ticks": "",
           "title": {
            "standoff": 15
           },
           "zerolinecolor": "white",
           "zerolinewidth": 2
          },
          "yaxis": {
           "automargin": true,
           "gridcolor": "white",
           "linecolor": "white",
           "ticks": "",
           "title": {
            "standoff": 15
           },
           "zerolinecolor": "white",
           "zerolinewidth": 2
          }
         }
        },
        "xaxis": {
         "autorange": true,
         "range": [
          -9.798744032547468,
          0
         ],
         "type": "linear"
        },
        "yaxis": {
         "autorange": true,
         "range": [
          -26.678345868025758,
          1.4041234667381979
         ],
         "type": "linear"
        }
       }
      },
      "image/png": "[encoded data removed]",
      "text/html": [
       "<div>                            <div id=\"4c3a07fe-4b4d-4913-ae05-7d4f091bb3c6\" class=\"plotly-graph-div\" style=\"height:525px; width:100%;\"></div>            <script type=\"text/javascript\">                require([\"plotly\"], function(Plotly) {                    window.PLOTLYENV=window.PLOTLYENV || {};                                    if (document.getElementById(\"4c3a07fe-4b4d-4913-ae05-7d4f091bb3c6\")) {                    Plotly.newPlot(                        \"4c3a07fe-4b4d-4913-ae05-7d4f091bb3c6\",                        [{\"mode\":\"lines\",\"name\":\"mainroot\",\"x\":[-0.0,-0.0,-0.0,-0.0,-0.0,-0.0,-0.0,-0.0,-0.0,-0.0,-0.0,-0.0,-0.0,-0.0,-0.0,-0.0,-0.0,-0.0,-0.0,-0.0,-0.0,-0.0,-0.0,-0.0,-0.0,-0.0,-0.0,-0.0,-0.0,-0.0,-0.0,-0.0,-0.0,-0.0,-0.0,-0.0,-0.0,-0.0,-0.0,-0.0,-0.0,-0.0,-0.0,-0.0,-0.0,-0.0,-0.0,-0.0,-0.0,0.0],\"y\":[-16.1245154965971,-15.795443751768586,-15.466372006940073,-15.137300262111562,-14.80822851728305,-14.479156772454537,-14.150085027626025,-13.821013282797512,-13.491941537969002,-13.162869793140489,-12.833798048311976,-12.504726303483464,-12.175654558654951,-11.84658281382644,-11.517511068997926,-11.188439324169416,-10.859367579340903,-10.53029583451239,-10.20122408968388,-9.872152344855365,-9.543080600026855,-9.214008855198342,-8.88493711036983,-8.555865365541319,-8.226793620712805,-7.897721875884294,-7.568650131055781,-7.239578386227269,-6.910506641398756,-6.581434896570244,-6.252363151741733,-5.92329140691322,-5.594219662084708,-5.265147917256195,-4.936076172427683,-4.607004427599172,-4.277932682770659,-3.948860937942147,-3.6197891931136343,-3.290717448285122,-2.961645703456611,-2.6325739586280985,-2.303502213799586,-1.9744304689710734,-1.645358724142561,-1.3162869793140484,-0.9872152344855376,-0.6581434896570251,-0.32907174482851254,0.0],\"type\":\"scatter\"},{\"mode\":\"lines\",\"name\":\"4.197963178684933\",\"x\":[0.0,-0.03796981671098217,-0.07593963342196434,-0.11390945013294651,-0.1518792668439287,-0.18984908355491087,-0.22781890026589302,-0.26578871697687523,-0.3037585336878574,-0.34172835039883953,-0.37969816710982174,-0.4176679838208039,-0.45563780053178604,-0.49360761724276825,-0.5315774339537505,-0.5695472506647326,-0.6075170673757148,-0.645486884086697,-0.6834567007976791,-0.7214265175086613,-0.7593963342196435,-0.7973661509306256,-0.8353359676416078,-0.87330578435259,-0.9112756010635721,-0.9492454177745543,-0.9872152344855365,-1.0251850511965186,-1.063154867907501,-1.101124684618483,-1.139094501329465,-1.1770643180404474,-1.2150341347514295,-1.2530039514624116,-1.290973768173394,-1.328943584884376,-1.3669134015953581,-1.4048832183063404,-1.4428530350173225,-1.4808228517283046,-1.518792668439287,-1.556762485150269,-1.5947323018612511,-1.6327021185722335,-1.6706719352832156,-1.7086417519941977,-1.74661156870518,-1.784581385416162,-1.8225512021271442,-1.8605210188381265],\"y\":[-8.61999999999986,-8.69621245778987,-8.769829843013959,-8.840852155672131,-8.909279395764385,-8.97511156329072,-9.038348658251138,-9.098990680645638,-9.157037630474221,-9.212489507736885,-9.26534631243363,-9.315608044564458,-9.363274704129367,-9.408346291128359,-9.450822805561433,-9.490704247428589,-9.527990616729825,-9.562681913465145,-9.594778137634547,-9.624279289238029,-9.651185368275595,-9.675496374747242,-9.697212308652972,-9.716333169992783,-9.732858958766675,-9.74678967497465,-9.758125318616708,-9.766865889692847,-9.773011388203068,-9.776561814147371,-9.777517167525755,-9.775877448338223,-9.77164265658477,-9.7648127922654,-9.755387855380114,-9.743367845928908,-9.728752763911785,-9.711542609328744,-9.691737382179785,-9.669337082464907,-9.644341710184111,-9.616751265337397,-9.586565747924766,-9.553785157946216,-9.518409495401748,-9.480438760291362,-9.439872952615058,-9.396712072372836,-9.350956119564696,-9.302605094190637],\"type\":\"scatter\"},{\"mode\":\"lines\",\"name\":\"45.37934588774504\",\"x\":[0.0,-0.19997436801117283,-0.39994873602234565,-0.5999231040335185,-0.7998974720446913,-0.9998718400558642,-1.199846208067037,-1.3998205760782099,-1.5997949440893826,-1.7997693121005554,-1.9997436801117283,-2.199718048122901,-2.399692416134074,-2.5996667841452465,-2.7996411521564197,-2.9996155201675925,-3.199589888178765,-3.399564256189938,-3.5995386242011107,-3.799512992212284,-3.9994873602234566,-4.199461728234629,-4.399436096245802,-4.599410464256975,-4.799384832268148,-4.99935920027932,-5.199333568290493,-5.399307936301667,-5.5992823043128395,-5.799256672324012,-5.999231040335185,-6.199205408346358,-6.39917977635753,-6.599154144368703,-6.799128512379876,-6.999102880391049,-7.199077248402221,-7.399051616413394,-7.599025984424568,-7.7990003524357405,-7.998974720446913,-8.198949088458086,-8.398923456469259,-8.598897824480431,-8.798872192491604,-8.998846560502777,-9.19882092851395,-9.398795296525122,-9.598769664536295,-9.798744032547468],\"y\":[0.0,-1.8718424111171492,-3.6717032760836563,-5.39958259489952,-7.055480367564743,-8.639396594079322,-10.151331274443258,-11.591284408656556,-12.959255996719207,-14.255246038631215,-15.479254534392586,-16.63128148400331,-17.711326887463393,-18.719390744772834,-19.655473055931637,-20.51957382093979,-21.311693039797305,-22.03183071250417,-22.679986839060398,-23.25616141946599,-23.760354453720936,-24.192565941825237,-24.552795883778895,-24.84104427958191,-25.057311129234286,-25.201596432736018,-25.273900190087108,-25.27422240128756,-25.20256306633737,-25.058922185236526,-24.84329975798505,-24.555695784582923,-24.196110265030164,-23.764543199326752,-23.260994587472695,-22.685464429468013,-22.03795272531267,-21.318459475006712,-20.526984678550086,-19.66352833594282,-18.72809044718492,-17.720671012276384,-16.64127003121719,-15.489887504007356,-14.266523430646885,-12.97117781113576,-11.603850645474012,-10.16454193366161,-8.65325167569857,-7.069979871584877],\"type\":\"scatter\"}],                        {\"template\":{\"data\":{\"barpolar\":[{\"marker\":{\"line\":{\"color\":\"#E5ECF6\",\"width\":0.5},\"pattern\":{\"fillmode\":\"overlay\",\"size\":10,\"solidity\":0.2}},\"type\":\"barpolar\"}],\"bar\":[{\"error_x\":{\"color\":\"#2a3f5f\"},\"error_y\":{\"color\":\"#2a3f5f\"},\"marker\":{\"line\":{\"color\":\"#E5ECF6\",\"width\":0.5},\"pattern\":{\"fillmode\":\"overlay\",\"size\":10,\"solidity\":0.2}},\"type\":\"bar\"}],\"carpet\":[{\"aaxis\":{\"endlinecolor\":\"#2a3f5f\",\"gridcolor\":\"white\",\"linecolor\":\"white\",\"minorgridcolor\":\"white\",\"startlinecolor\":\"#2a3f5f\"},\"baxis\":{\"endlinecolor\":\"#2a3f5f\",\"gridcolor\":\"white\",\"linecolor\":\"white\",\"minorgridcolor\":\"white\",\"startlinecolor\":\"#2a3f5f\"},\"type\":\"carpet\"}],\"choropleth\":[{\"colorbar\":{\"outlinewidth\":0,\"ticks\":\"\"},\"type\":\"choropleth\"}],\"contourcarpet\":[{\"colorbar\":{\"outlinewidth\":0,\"ticks\":\"\"},\"type\":\"contourcarpet\"}],\"contour\":[{\"colorbar\":{\"outlinewidth\":0,\"ticks\":\"\"},\"colorscale\":[[0.0,\"#0d0887\"],[0.1111111111111111,\"#46039f\"],[0.2222222222222222,\"#7201a8\"],[0.3333333333333333,\"#9c179e\"],[0.4444444444444444,\"#bd3786\"],[0.5555555555555556,\"#d8576b\"],[0.6666666666666666,\"#ed7953\"],[0.7777777777777778,\"#fb9f3a\"],[0.8888888888888888,\"#fdca26\"],[1.0,\"#f0f921\"]],\"type\":\"contour\"}],\"heatmapgl\":[{\"colorbar\":{\"outlinewidth\":0,\"ticks\":\"\"},\"colorscale\":[[0.0,\"#0d0887\"],[0.1111111111111111,\"#46039f\"],[0.2222222222222222,\"#7201a8\"],[0.3333333333333333,\"#9c179e\"],[0.4444444444444444,\"#bd3786\"],[0.5555555555555556,\"#d8576b\"],[0.6666666666666666,\"#ed7953\"],[0.7777777777777778,\"#fb9f3a\"],[0.8888888888888888,\"#fdca26\"],[1.0,\"#f0f921\"]],\"type\":\"heatmapgl\"}],\"heatmap\":[{\"colorbar\":{\"outlinewidth\":0,\"ticks\":\"\"},\"colorscale\":[[0.0,\"#0d0887\"],[0.1111111111111111,\"#46039f\"],[0.2222222222222222,\"#7201a8\"],[0.3333333333333333,\"#9c179e\"],[0.4444444444444444,\"#bd3786\"],[0.5555555555555556,\"#d8576b\"],[0.6666666666666666,\"#ed7953\"],[0.7777777777777778,\"#fb9f3a\"],[0.8888888888888888,\"#fdca26\"],[1.0,\"#f0f921\"]],\"type\":\"heatmap\"}],\"histogram2dcontour\":[{\"colorbar\":{\"outlinewidth\":0,\"ticks\":\"\"},\"colorscale\":[[0.0,\"#0d0887\"],[0.1111111111111111,\"#46039f\"],[0.2222222222222222,\"#7201a8\"],[0.3333333333333333,\"#9c179e\"],[0.4444444444444444,\"#bd3786\"],[0.5555555555555556,\"#d8576b\"],[0.6666666666666666,\"#ed7953\"],[0.7777777777777778,\"#fb9f3a\"],[0.8888888888888888,\"#fdca26\"],[1.0,\"#f0f921\"]],\"type\":\"histogram2dcontour\"}],\"histogram2d\":[{\"colorbar\":{\"outlinewidth\":0,\"ticks\":\"\"},\"colorscale\":[[0.0,\"#0d0887\"],[0.1111111111111111,\"#46039f\"],[0.2222222222222222,\"#7201a8\"],[0.3333333333333333,\"#9c179e\"],[0.4444444444444444,\"#bd3786\"],[0.5555555555555556,\"#d8576b\"],[0.6666666666666666,\"#ed7953\"],[0.7777777777777778,\"#fb9f3a\"],[0.8888888888888888,\"#fdca26\"],[1.0,\"#f0f921\"]],\"type\":\"histogram2d\"}],\"histogram\":[{\"marker\":{\"pattern\":{\"fillmode\":\"overlay\",\"size\":10,\"solidity\":0.2}},\"type\":\"histogram\"}],\"mesh3d\":[{\"colorbar\":{\"outlinewidth\":0,\"ticks\":\"\"},\"type\":\"mesh3d\"}],\"parcoords\":[{\"line\":{\"colorbar\":{\"outlinewidth\":0,\"ticks\":\"\"}},\"type\":\"parcoords\"}],\"pie\":[{\"automargin\":true,\"type\":\"pie\"}],\"scatter3d\":[{\"line\":{\"colorbar\":{\"outlinewidth\":0,\"ticks\":\"\"}},\"marker\":{\"colorbar\":{\"outlinewidth\":0,\"ticks\":\"\"}},\"type\":\"scatter3d\"}],\"scattercarpet\":[{\"marker\":{\"colorbar\":{\"outlinewidth\":0,\"ticks\":\"\"}},\"type\":\"scattercarpet\"}],\"scattergeo\":[{\"marker\":{\"colorbar\":{\"outlinewidth\":0,\"ticks\":\"\"}},\"type\":\"scattergeo\"}],\"scattergl\":[{\"marker\":{\"colorbar\":{\"outlinewidth\":0,\"ticks\":\"\"}},\"type\":\"scattergl\"}],\"scattermapbox\":[{\"marker\":{\"colorbar\":{\"outlinewidth\":0,\"ticks\":\"\"}},\"type\":\"scattermapbox\"}],\"scatterpolargl\":[{\"marker\":{\"colorbar\":{\"outlinewidth\":0,\"ticks\":\"\"}},\"type\":\"scatterpolargl\"}],\"scatterpolar\":[{\"marker\":{\"colorbar\":{\"outlinewidth\":0,\"ticks\":\"\"}},\"type\":\"scatterpolar\"}],\"scatter\":[{\"fillpattern\":{\"fillmode\":\"overlay\",\"size\":10,\"solidity\":0.2},\"type\":\"scatter\"}],\"scatterternary\":[{\"marker\":{\"colorbar\":{\"outlinewidth\":0,\"ticks\":\"\"}},\"type\":\"scatterternary\"}],\"surface\":[{\"colorbar\":{\"outlinewidth\":0,\"ticks\":\"\"},\"colorscale\":[[0.0,\"#0d0887\"],[0.1111111111111111,\"#46039f\"],[0.2222222222222222,\"#7201a8\"],[0.3333333333333333,\"#9c179e\"],[0.4444444444444444,\"#bd3786\"],[0.5555555555555556,\"#d8576b\"],[0.6666666666666666,\"#ed7953\"],[0.7777777777777778,\"#fb9f3a\"],[0.8888888888888888,\"#fdca26\"],[1.0,\"#f0f921\"]],\"type\":\"surface\"}],\"table\":[{\"cells\":{\"fill\":{\"color\":\"#EBF0F8\"},\"line\":{\"color\":\"white\"}},\"header\":{\"fill\":{\"color\":\"#C8D4E3\"},\"line\":{\"color\":\"white\"}},\"type\":\"table\"}]},\"layout\":{\"annotationdefaults\":{\"arrowcolor\":\"#2a3f5f\",\"arrowhead\":0,\"arrowwidth\":1},\"autotypenumbers\":\"strict\",\"coloraxis\":{\"colorbar\":{\"outlinewidth\":0,\"ticks\":\"\"}},\"colorscale\":{\"diverging\":[[0,\"#8e0152\"],[0.1,\"#c51b7d\"],[0.2,\"#de77ae\"],[0.3,\"#f1b6da\"],[0.4,\"#fde0ef\"],[0.5,\"#f7f7f7\"],[0.6,\"#e6f5d0\"],[0.7,\"#b8e186\"],[0.8,\"#7fbc41\"],[0.9,\"#4d9221\"],[1,\"#276419\"]],\"sequential\":[[0.0,\"#0d0887\"],[0.1111111111111111,\"#46039f\"],[0.2222222222222222,\"#7201a8\"],[0.3333333333333333,\"#9c179e\"],[0.4444444444444444,\"#bd3786\"],[0.5555555555555556,\"#d8576b\"],[0.6666666666666666,\"#ed7953\"],[0.7777777777777778,\"#fb9f3a\"],[0.8888888888888888,\"#fdca26\"],[1.0,\"#f0f921\"]],\"sequentialminus\":[[0.0,\"#0d0887\"],[0.1111111111111111,\"#46039f\"],[0.2222222222222222,\"#7201a8\"],[0.3333333333333333,\"#9c179e\"],[0.4444444444444444,\"#bd3786\"],[0.5555555555555556,\"#d8576b\"],[0.6666666666666666,\"#ed7953\"],[0.7777777777777778,\"#fb9f3a\"],[0.8888888888888888,\"#fdca26\"],[1.0,\"#f0f921\"]]},\"colorway\":[\"#636efa\",\"#EF553B\",\"#00cc96\",\"#ab63fa\",\"#FFA15A\",\"#19d3f3\",\"#FF6692\",\"#B6E880\",\"#FF97FF\",\"#FECB52\"],\"font\":{\"color\":\"#2a3f5f\"},\"geo\":{\"bgcolor\":\"white\",\"lakecolor\":\"white\",\"landcolor\":\"#E5ECF6\",\"showlakes\":true,\"showland\":true,\"subunitcolor\":\"white\"},\"hoverlabel\":{\"align\":\"left\"},\"hovermode\":\"closest\",\"mapbox\":{\"style\":\"light\"},\"paper_bgcolor\":\"white\",\"plot_bgcolor\":\"#E5ECF6\",\"polar\":{\"angularaxis\":{\"gridcolor\":\"white\",\"linecolor\":\"white\",\"ticks\":\"\"},\"bgcolor\":\"#E5ECF6\",\"radialaxis\":{\"gridcolor\":\"white\",\"linecolor\":\"white\",\"ticks\":\"\"}},\"scene\":{\"xaxis\":{\"backgroundcolor\":\"#E5ECF6\",\"gridcolor\":\"white\",\"gridwidth\":2,\"linecolor\":\"white\",\"showbackground\":true,\"ticks\":\"\",\"zerolinecolor\":\"white\"},\"yaxis\":{\"backgroundcolor\":\"#E5ECF6\",\"gridcolor\":\"white\",\"gridwidth\":2,\"linecolor\":\"white\",\"showbackground\":true,\"ticks\":\"\",\"zerolinecolor\":\"white\"},\"zaxis\":{\"backgroundcolor\":\"#E5ECF6\",\"gridcolor\":\"white\",\"gridwidth\":2,\"linecolor\":\"white\",\"showbackground\":true,\"ticks\":\"\",\"zerolinecolor\":\"white\"}},\"shapedefaults\":{\"line\":{\"color\":\"#2a3f5f\"}},\"ternary\":{\"aaxis\":{\"gridcolor\":\"white\",\"linecolor\":\"white\",\"ticks\":\"\"},\"baxis\":{\"gridcolor\":\"white\",\"linecolor\":\"white\",\"ticks\":\"\"},\"bgcolor\":\"#E5ECF6\",\"caxis\":{\"gridcolor\":\"white\",\"linecolor\":\"white\",\"ticks\":\"\"}},\"title\":{\"x\":0.05},\"xaxis\":{\"automargin\":true,\"gridcolor\":\"white\",\"linecolor\":\"white\",\"ticks\":\"\",\"title\":{\"standoff\":15},\"zerolinecolor\":\"white\",\"zerolinewidth\":2},\"yaxis\":{\"automargin\":true,\"gridcolor\":\"white\",\"linecolor\":\"white\",\"ticks\":\"\",\"title\":{\"standoff\":15},\"zerolinecolor\":\"white\",\"zerolinewidth\":2}}}},                        {\"responsive\": true}                    ).then(function(){\n",
       "                            \n",
       "var gd = document.getElementById('4c3a07fe-4b4d-4913-ae05-7d4f091bb3c6');\n",
       "var x = new MutationObserver(function (mutations, observer) {{\n",
       "        var display = window.getComputedStyle(gd).display;\n",
       "        if (!display || display === 'none') {{\n",
       "            console.log([gd, 'removed!']);\n",
       "            Plotly.purge(gd);\n",
       "            observer.disconnect();\n",
       "        }}\n",
       "}});\n",
       "\n",
       "// Listen for the removal of the full notebook cells\n",
       "var notebookContainer = gd.closest('#notebook-container');\n",
       "if (notebookContainer) {{\n",
       "    x.observe(notebookContainer, {childList: true});\n",
       "}}\n",
       "\n",
       "// Listen for the clearing of the current output cell\n",
       "var outputEl = gd.closest('.output');\n",
       "if (outputEl) {{\n",
       "    x.observe(outputEl, {childList: true});\n",
       "}}\n",
       "\n",
       "                        })                };                });            </script>        </div>"
      ]
     },
     "metadata": {},
     "output_type": "display_data"
    }
   ],
   "source": [
    "a = float(input(\"enter a: \"))\n",
    "b = float(input(\"enter b: \") )\n",
    "c = float(input(\"enter c: \"))\n",
    "d = float(input(\"enter d: \"))\n",
    "AngledPlot = []\n",
    "deAngledPlot=[]\n",
    "Tmax = mainroot(a,b,c,d)\n",
    "AngledPlot.append(angledMPlot(a,b,c,d))\n",
    "deAngledPlot.append(deAngledMPlot(a,b,c,d))\n",
    "G = float(input(\"enter G: \"))\n",
    "al = float(input(\"enter alpha value: \"))\n",
    "numPoints = int(input(\"enter the number of points you would like to do: \"))\n",
    "point=1\n",
    "listOfTs=[[\"lenght\",\"xt\",\"yt\",\"t\"]]\n",
    "while point < (numPoints+1):\n",
    "    p = float(input(\"enter p value for point: \" +str(point)))\n",
    "    q = float(input(\"endter q value for point: \" + str(point)))\n",
    "    Array = bestTAngled(a,b,c,d,p,q,G,al)\n",
    "    dArray= Array[3]\n",
    "    AngledPlot.append(plotA(a,b,c,d,p,q,G,al,Array[0], Array[1], Array[2],dArray[0]))\n",
    "    printArray=[Array[0], Array[1],Array[2],dArray[0]]\n",
    "    listOfTs.append(printArray)\n",
    "    deAngledPlot.append(plotD(G,al,Tmax, Array[0], dArray[0],dArray[1],dArray[2]))\n",
    "    point = point+1\n",
    "print (listOfTs)\n",
    "iplot(AngledPlot)\n",
    "iplot(deAngledPlot)"
   ]
  },
  {
   "cell_type": "code",
   "execution_count": null,
   "id": "22924968-0e4c-47a9-837a-14c0d76e55db",
   "metadata": {},
   "outputs": [],
   "source": []
  }
 ],
 "metadata": {
  "kernelspec": {
   "display_name": "Python 3 (ipykernel)",
   "language": "python",
   "name": "python3"
  },
  "language_info": {
   "codemirror_mode": {
    "name": "ipython",
    "version": 3
   },
   "file_extension": ".py",
   "mimetype": "text/x-python",
   "name": "python",
   "nbconvert_exporter": "python",
   "pygments_lexer": "ipython3",
   "version": "3.10.9"
  }
 },
 "nbformat": 4,
 "nbformat_minor": 5
}
