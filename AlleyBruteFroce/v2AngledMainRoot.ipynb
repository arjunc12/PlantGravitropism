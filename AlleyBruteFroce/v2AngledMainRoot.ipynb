{
 "cells": [
  {
   "cell_type": "code",
   "execution_count": 3,
   "id": "e9652dbf-4e15-4e25-9a25-c04fe7960477",
   "metadata": {},
   "outputs": [],
   "source": [
    "import matplotlib.pyplot as plt\n",
    "import numpy as np\n",
    "import pylab\n",
    "import scipy\n",
    "import plotly\n",
    "from plotly import graph_objs as go\n",
    "from plotly.offline import iplot, plot, init_notebook_mode"
   ]
  },
  {
   "cell_type": "code",
   "execution_count": 4,
   "id": "c518a7bb-c543-4f07-bd7e-ce47059babdb",
   "metadata": {},
   "outputs": [],
   "source": [
    "def mainroot(a,b,c,d):\n",
    "    Tmax = -1 * np.sqrt((b-d)**2 +(a-c)**2)\n",
    "    return Tmax"
   ]
  },
  {
   "cell_type": "code",
   "execution_count": 5,
   "id": "9967699a-d716-447a-be5d-13f22d405e90",
   "metadata": {},
   "outputs": [],
   "source": [
    "def newPQ(a,b,c,d,p,q):\n",
    "    m=(d-b)/(c-a)\n",
    "    x1=((p/m)+q+(m*a)-b)/(m +(1/m))\n",
    "    y1= m*(x1-a)+b\n",
    "    newQ= - np.sqrt((b-y1)**2 +(a-x1)**2)\n",
    "    newP= np.sqrt((p-x1)**2 +(q-y1)**2)\n",
    "    if p < x1:\n",
    "        newP=-newP\n",
    "    return (newP, newQ)"
   ]
  },
  {
   "cell_type": "code",
   "execution_count": 6,
   "id": "349854df-1d63-4c8f-be13-5e1b47ace13c",
   "metadata": {},
   "outputs": [],
   "source": [
    "def findBest(Tmax,G,p,q,a):\n",
    "    t=0\n",
    "    bestLength= 1000000000000.0\n",
    "    bestT = t\n",
    "    while t >= Tmax:\n",
    "        b = (q - G * (p**2) - t)/p\n",
    "        if p>0:\n",
    "            x =np.linspace(0, p, num=50)\n",
    "        elif p < 0:\n",
    "            x =np.linspace(p, 0, num=50)\n",
    "        lot = np.sqrt(1+(2*G*x + ((q-G*(p**2)-t)/p))**2)\n",
    "        y= a*(lot) +(1-a)*(lot - t)\n",
    "        length = scipy.integrate.trapezoid(y,x)\n",
    "        if length < bestLength:\n",
    "            #ploting(Tmax,p,q,bestT,G) #comparing possible lines\n",
    "            bestLength = length\n",
    "            bestT = t\n",
    "        t = t - 0.01 #last \n",
    "    #ploting(Tmax,p,q,bestT,G)\n",
    "    #print(\"length: \" + str(bestLength) +\" t= \" + str(bestT))\n",
    "    return(bestLength,bestT)"
   ]
  },
  {
   "cell_type": "code",
   "execution_count": 7,
   "id": "e52302e3-69bf-4b8b-8392-c3e1b8958169",
   "metadata": {},
   "outputs": [],
   "source": [
    "def pointGivenT(a,b,c,d,t):\n",
    "    m= (d-b)/(c-a)\n",
    "    qa= m**2 +1\n",
    "    qb= -2*a -2*a*(m**2)\n",
    "    qc= a**2 +(a**2)*(m**2) - (t**2)\n",
    "    x1= (-qb + np.sqrt(qb**2 -(4*qa*qc)))/(2*qa)\n",
    "    if (x1 <a and x1 <c) or (x1>a and x1>c):\n",
    "        x1= (-qb - np.sqrt(qb**2 -(4*qa*qc)))/(2*qa)\n",
    "    y1 = m*(x1-a)+b\n",
    "    return(x1,y1)"
   ]
  },
  {
   "cell_type": "code",
   "execution_count": 8,
   "id": "50b40f3a-7558-4212-a08c-ebb90cba8585",
   "metadata": {},
   "outputs": [],
   "source": [
    "def pointGivenPoint(a,b,c,d,g1,h1,p,xt):\n",
    "    x1y1= pointGivenT(a,b,c,d,h1)\n",
    "    x1 =x1y1[0]\n",
    "    y1=x1y1[1]\n",
    "    m= (d-b)/(c-a)\n",
    "    m= -1/m\n",
    "    qa= m**2 +1\n",
    "    qb= -2*x1 -2*x1*(m**2)\n",
    "    qc= x1**2 +(x1**2)*(m**2) - (g1**2)\n",
    "    g= (-qb - np.sqrt(qb**2 -(4*qa*qc)))/(2*qa)\n",
    "    #if g >xt:\n",
    "        #g= (-qb + np.sqrt(qb**2 -(4*qa*qc)))/(2*qa)\n",
    "    h = m*(g-x1)+y1\n",
    "    return(g,h)"
   ]
  },
  {
   "cell_type": "code",
   "execution_count": 9,
   "id": "befb8ceb-b45d-4556-b35b-7cbce1068d59",
   "metadata": {},
   "outputs": [],
   "source": [
    "def bestTAngled(a,b,c,d,p,q,G,al):\n",
    "    Tmax = mainroot(a,b,c,d)\n",
    "    pqArray= newPQ(a,b,c,d,p,q)\n",
    "    bestArray= findBest(Tmax,G,pqArray[0],pqArray[1],al)\n",
    "    length = bestArray[0]\n",
    "    t= bestArray[1]\n",
    "    point = pointGivenT(a,b,c,d,t)\n",
    "    dArray =[t, pqArray[0], pqArray[1]]\n",
    "    return(length,point[0],point[1],dArray)"
   ]
  },
  {
   "cell_type": "code",
   "execution_count": 10,
   "id": "9ff5be5b-3523-47e1-bac6-296fe4888bcd",
   "metadata": {},
   "outputs": [],
   "source": [
    "def angledMPlot(a,b,c,d):\n",
    "    if a >c:\n",
    "        x=np.linspace(c,a, num =50)\n",
    "    else:\n",
    "        x= np.linspace(a,c, num =50)\n",
    "    m= (b-d)/(a-c)\n",
    "    y = m*(x-a)+b\n",
    "    main =go.Scatter(x=x,y=y,mode='lines', name= \"main root\")\n",
    "    return (main)"
   ]
  },
  {
   "cell_type": "code",
   "execution_count": 11,
   "id": "0aa43d29-dd16-4b9c-85a1-f5a9b9e7cf1f",
   "metadata": {},
   "outputs": [],
   "source": [
    "def deAngledMPlot(a,b,c,d):\n",
    "    Tmax = mainroot(a,b,c,d)\n",
    "    y = np.linspace(Tmax, 0)\n",
    "    x= 0*y\n",
    "    main = go.Scatter(x=x,y=y, mode='lines', name = \"mainroot\")\n",
    "    return main"
   ]
  },
  {
   "cell_type": "code",
   "execution_count": 12,
   "id": "5a38cf21-6918-4b6c-9f38-fd59521f75c5",
   "metadata": {},
   "outputs": [],
   "source": [
    "def plotA(a,b,c,d,gs,hs,length,p,xt):\n",
    "    x=[]\n",
    "    y=[]\n",
    "    for i in range(0, len(gs)):\n",
    "        g1=gs[i]\n",
    "        h1=hs[i]\n",
    "        point =pointGivenPoint(a,b,c,d,g1,h1,p,xt)\n",
    "        g =point[0]\n",
    "        h=point[1]\n",
    "        x.append(g)\n",
    "        y.append(h)\n",
    "    print(x)\n",
    "    print(y)\n",
    "    trace =go.Scatter(x=x,y=y, mode='lines', name =str(length))\n",
    "    return trace"
   ]
  },
  {
   "cell_type": "code",
   "execution_count": 13,
   "id": "fcbc757c-072d-4dee-99b2-6e0a3ae7a571",
   "metadata": {},
   "outputs": [],
   "source": [
    "def plotD(G,al, Tmax, length,t, p,q):\n",
    "    x1=np.linspace(0,p)\n",
    "    b=(q - G*(p**2) -t)/p\n",
    "    y1=G * x1**2 + b*x1 + t\n",
    "    trace2 =go.Scatter(x=x1,y=y1,mode='lines', name= str(length))\n",
    "    return (trace2, x1,y1)"
   ]
  },
  {
   "cell_type": "code",
   "execution_count": 19,
   "id": "6add7033-6d24-4649-9b66-47a486495f35",
   "metadata": {},
   "outputs": [
    {
     "name": "stdin",
     "output_type": "stream",
     "text": [
      "enter a:  2\n",
      "enter b:  4\n",
      "enter c:  10\n",
      "enter d:  -10\n"
     ]
    },
    {
     "name": "stdout",
     "output_type": "stream",
     "text": [
      "-16.1245154965971\n"
     ]
    },
    {
     "name": "stdin",
     "output_type": "stream",
     "text": [
      "enter G:  0\n",
      "enter alpha value:  .9\n",
      "enter the number of points you would like to do:  1\n",
      "enter p value for point: 1 -3\n",
      "endter q value for point: 1 -7\n"
     ]
    },
    {
     "name": "stdout",
     "output_type": "stream",
     "text": [
      "[2.0, 1.89795918367347, 1.7959183673469379, 1.6938775510204076, 1.5918367346938778, 1.4897959183673473, 1.3877551020408172, 1.2857142857142856, 1.1836734693877549, 1.0816326530612246, 0.9795918367346935, 0.8775510204081638, 0.7755102040816321, 0.6734693877551013, 0.571428571428571, 0.4693877551020403, 0.3673469387755102, 0.26530612244897983, 0.16326530612244913, 0.06122448979591843, -0.04081632653061228, -0.142857142857143, -0.2448979591836737, -0.3469387755102044, -0.44897959183673514, -0.5510204081632658, -0.6530612244897959, -0.7551020408163266, -0.8571428571428573, -0.959183673469388, -1.0612244897959193, -1.1632653061224487, -1.2653061224489788, -1.3673469387755102, -1.469387755102041, -1.5714285714285696, -1.673469387755101, -1.775510204081633, -1.8775510204081638, -1.9795918367346939, -2.0816326530612246, -2.183673469387755, -2.2857142857142865, -2.3877551020408174, -2.4897959183673466, -2.5918367346938775, -2.6938775510204094, -2.7959183673469394, -2.8979591836734704, -3.000000000000001]\n",
      "[4.0, 3.77551020408163, 3.551020408163267, 3.326530612244899, 3.1020408163265314, 2.877551020408163, 2.6530612244897953, 2.4285714285714297, 2.204081632653061, 1.9795918367346945, 1.7551020408163271, 1.530612244897959, 1.3061224489795922, 1.0816326530612248, 0.857142857142857, 0.6326530612244896, 0.408163265306122, 0.18367346938775464, -0.04081632653061251, -0.2653061224489801, -0.4897959183673468, -0.714285714285714, -0.9387755102040818, -1.1632653061224483, -1.387755102040816, -1.6122448979591835, -1.8367346938775508, -2.061224489795919, -2.285714285714286, -2.510204081632654, -2.734693877551021, -2.959183673469388, -3.1836734693877555, -3.408163265306123, -3.6326530612244907, -3.8571428571428577, -4.081632653061225, -4.3061224489795915, -4.53061224489796, -4.755102040816325, -4.979591836734693, -5.20408163265306, -5.428571428571429, -5.653061224489794, -5.877551020408163, -6.102040816326531, -6.326530612244897, -6.5510204081632635, -6.775510204081632, -7.0]\n",
      "[['lenght', 'xt', 'yt', 't'], [12.08304597359457, 2.0, 4.0, 0]]\n"
     ]
    },
    {
     "data": {
      "application/vnd.plotly.v1+json": {
       "config": {
        "linkText": "Export to plot.ly",
        "plotlyServerURL": "https://plot.ly",
        "showLink": false
       },
       "data": [
        {
         "mode": "lines",
         "name": "main root",
         "type": "scatter",
         "x": [
          2,
          2.163265306122449,
          2.326530612244898,
          2.489795918367347,
          2.6530612244897958,
          2.816326530612245,
          2.979591836734694,
          3.142857142857143,
          3.3061224489795915,
          3.4693877551020407,
          3.63265306122449,
          3.7959183673469385,
          3.9591836734693877,
          4.122448979591836,
          4.285714285714286,
          4.448979591836734,
          4.612244897959183,
          4.775510204081632,
          4.938775510204081,
          5.1020408163265305,
          5.26530612244898,
          5.428571428571429,
          5.591836734693877,
          5.755102040816326,
          5.918367346938775,
          6.081632653061225,
          6.244897959183673,
          6.408163265306122,
          6.571428571428571,
          6.73469387755102,
          6.897959183673469,
          7.061224489795918,
          7.224489795918367,
          7.387755102040816,
          7.551020408163265,
          7.7142857142857135,
          7.877551020408163,
          8.040816326530612,
          8.204081632653061,
          8.367346938775508,
          8.53061224489796,
          8.693877551020407,
          8.857142857142858,
          9.020408163265305,
          9.183673469387754,
          9.346938775510203,
          9.510204081632653,
          9.673469387755102,
          9.83673469387755,
          10
         ],
         "y": [
          4,
          3.714285714285714,
          3.428571428571429,
          3.142857142857143,
          2.8571428571428577,
          2.571428571428571,
          2.2857142857142856,
          2,
          1.7142857142857149,
          1.4285714285714288,
          1.1428571428571428,
          0.8571428571428577,
          0.5714285714285716,
          0.2857142857142865,
          0,
          -0.2857142857142847,
          -0.5714285714285703,
          -0.8571428571428559,
          -1.1428571428571423,
          -1.4285714285714288,
          -1.7142857142857144,
          -2,
          -2.2857142857142847,
          -2.571428571428571,
          -2.8571428571428568,
          -3.1428571428571432,
          -3.428571428571427,
          -3.7142857142857135,
          -4,
          -4.285714285714285,
          -4.571428571428569,
          -4.857142857142856,
          -5.142857142857142,
          -5.428571428571429,
          -5.7142857142857135,
          -5.999999999999998,
          -6.285714285714285,
          -6.571428571428571,
          -6.857142857142858,
          -7.142857142857139,
          -7.428571428571429,
          -7.714285714285712,
          -8,
          -8.285714285714285,
          -8.57142857142857,
          -8.857142857142856,
          -9.142857142857142,
          -9.428571428571427,
          -9.714285714285714,
          -10
         ]
        },
        {
         "mode": "lines",
         "name": "12.08304597359457",
         "type": "scatter",
         "x": [
          2,
          1.89795918367347,
          1.7959183673469379,
          1.6938775510204076,
          1.5918367346938778,
          1.4897959183673473,
          1.3877551020408172,
          1.2857142857142856,
          1.1836734693877549,
          1.0816326530612246,
          0.9795918367346935,
          0.8775510204081638,
          0.7755102040816321,
          0.6734693877551013,
          0.571428571428571,
          0.4693877551020403,
          0.3673469387755102,
          0.26530612244897983,
          0.16326530612244913,
          0.06122448979591843,
          -0.04081632653061228,
          -0.142857142857143,
          -0.2448979591836737,
          -0.3469387755102044,
          -0.44897959183673514,
          -0.5510204081632658,
          -0.6530612244897959,
          -0.7551020408163266,
          -0.8571428571428573,
          -0.959183673469388,
          -1.0612244897959193,
          -1.1632653061224487,
          -1.2653061224489788,
          -1.3673469387755102,
          -1.469387755102041,
          -1.5714285714285696,
          -1.673469387755101,
          -1.775510204081633,
          -1.8775510204081638,
          -1.9795918367346939,
          -2.0816326530612246,
          -2.183673469387755,
          -2.2857142857142865,
          -2.3877551020408174,
          -2.4897959183673466,
          -2.5918367346938775,
          -2.6938775510204094,
          -2.7959183673469394,
          -2.8979591836734704,
          -3.000000000000001
         ],
         "y": [
          4,
          3.77551020408163,
          3.551020408163267,
          3.326530612244899,
          3.1020408163265314,
          2.877551020408163,
          2.6530612244897953,
          2.4285714285714297,
          2.204081632653061,
          1.9795918367346945,
          1.7551020408163271,
          1.530612244897959,
          1.3061224489795922,
          1.0816326530612248,
          0.857142857142857,
          0.6326530612244896,
          0.408163265306122,
          0.18367346938775464,
          -0.04081632653061251,
          -0.2653061224489801,
          -0.4897959183673468,
          -0.714285714285714,
          -0.9387755102040818,
          -1.1632653061224483,
          -1.387755102040816,
          -1.6122448979591835,
          -1.8367346938775508,
          -2.061224489795919,
          -2.285714285714286,
          -2.510204081632654,
          -2.734693877551021,
          -2.959183673469388,
          -3.1836734693877555,
          -3.408163265306123,
          -3.6326530612244907,
          -3.8571428571428577,
          -4.081632653061225,
          -4.3061224489795915,
          -4.53061224489796,
          -4.755102040816325,
          -4.979591836734693,
          -5.20408163265306,
          -5.428571428571429,
          -5.653061224489794,
          -5.877551020408163,
          -6.102040816326531,
          -6.326530612244897,
          -6.5510204081632635,
          -6.775510204081632,
          -7
         ]
        },
        {
         "mode": "lines",
         "name": "mainroot",
         "type": "scatter",
         "x": [
          0,
          0,
          0,
          0,
          0,
          0,
          0,
          0,
          0,
          0,
          0,
          0,
          0,
          0,
          0,
          0,
          0,
          0,
          0,
          0,
          0,
          0,
          0,
          0,
          0,
          0,
          0,
          0,
          0,
          0,
          0,
          0,
          0,
          0,
          0,
          0,
          0,
          0,
          0,
          0,
          0,
          0,
          0,
          0,
          0,
          0,
          0,
          0,
          0,
          0
         ],
         "y": [
          -16.1245154965971,
          -15.795443751768586,
          -15.466372006940073,
          -15.137300262111562,
          -14.80822851728305,
          -14.479156772454537,
          -14.150085027626025,
          -13.821013282797512,
          -13.491941537969002,
          -13.162869793140489,
          -12.833798048311976,
          -12.504726303483464,
          -12.175654558654951,
          -11.84658281382644,
          -11.517511068997926,
          -11.188439324169416,
          -10.859367579340903,
          -10.53029583451239,
          -10.20122408968388,
          -9.872152344855365,
          -9.543080600026855,
          -9.214008855198342,
          -8.88493711036983,
          -8.555865365541319,
          -8.226793620712805,
          -7.897721875884294,
          -7.568650131055781,
          -7.239578386227269,
          -6.910506641398756,
          -6.581434896570244,
          -6.252363151741733,
          -5.92329140691322,
          -5.594219662084708,
          -5.265147917256195,
          -4.936076172427683,
          -4.607004427599172,
          -4.277932682770659,
          -3.948860937942147,
          -3.6197891931136343,
          -3.290717448285122,
          -2.961645703456611,
          -2.6325739586280985,
          -2.303502213799586,
          -1.9744304689710734,
          -1.645358724142561,
          -1.3162869793140484,
          -0.9872152344855376,
          -0.6581434896570251,
          -0.32907174482851254,
          0
         ]
        },
        {
         "mode": "lines",
         "name": "12.08304597359457",
         "type": "scatter",
         "x": [
          0,
          -0.19997436801117283,
          -0.39994873602234565,
          -0.5999231040335185,
          -0.7998974720446913,
          -0.9998718400558642,
          -1.199846208067037,
          -1.3998205760782099,
          -1.5997949440893826,
          -1.7997693121005554,
          -1.9997436801117283,
          -2.199718048122901,
          -2.399692416134074,
          -2.5996667841452465,
          -2.7996411521564197,
          -2.9996155201675925,
          -3.199589888178765,
          -3.399564256189938,
          -3.5995386242011107,
          -3.799512992212284,
          -3.9994873602234566,
          -4.199461728234629,
          -4.399436096245802,
          -4.599410464256975,
          -4.799384832268148,
          -4.99935920027932,
          -5.199333568290493,
          -5.399307936301667,
          -5.5992823043128395,
          -5.799256672324012,
          -5.999231040335185,
          -6.199205408346358,
          -6.39917977635753,
          -6.599154144368703,
          -6.799128512379876,
          -6.999102880391049,
          -7.199077248402221,
          -7.399051616413394,
          -7.599025984424568,
          -7.7990003524357405,
          -7.998974720446913,
          -8.198949088458086,
          -8.398923456469259,
          -8.598897824480431,
          -8.798872192491604,
          -8.998846560502777,
          -9.19882092851395,
          -9.398795296525122,
          -9.598769664536295,
          -9.798744032547468
         ],
         "y": [
          0,
          -0.14428530350173227,
          -0.28857060700346454,
          -0.43285591050519684,
          -0.5771412140069291,
          -0.7214265175086615,
          -0.8657118210103937,
          -1.009997124512126,
          -1.1542824280138582,
          -1.2985677315155906,
          -1.442853035017323,
          -1.5871383385190552,
          -1.7314236420207874,
          -1.8757089455225195,
          -2.019994249024252,
          -2.164279552525984,
          -2.3085648560277163,
          -2.452850159529449,
          -2.597135463031181,
          -2.7414207665329133,
          -2.885706070034646,
          -3.029991373536378,
          -3.1742766770381103,
          -3.3185619805398425,
          -3.4628472840415747,
          -3.607132587543307,
          -3.751417891045039,
          -3.895703194546772,
          -4.039988498048504,
          -4.184273801550236,
          -4.328559105051968,
          -4.4728444085537005,
          -4.617129712055433,
          -4.761415015557166,
          -4.905700319058898,
          -5.04998562256063,
          -5.194270926062362,
          -5.3385562295640945,
          -5.482841533065827,
          -5.62712683656756,
          -5.771412140069292,
          -5.915697443571024,
          -6.059982747072756,
          -6.2042680505744885,
          -6.348553354076221,
          -6.492838657577953,
          -6.637123961079685,
          -6.781409264581417,
          -6.925694568083149,
          -7.069979871584882
         ]
        }
       ],
       "layout": {
        "autosize": true,
        "template": {
         "data": {
          "bar": [
           {
            "error_x": {
             "color": "#2a3f5f"
            },
            "error_y": {
             "color": "#2a3f5f"
            },
            "marker": {
             "line": {
              "color": "#E5ECF6",
              "width": 0.5
             },
             "pattern": {
              "fillmode": "overlay",
              "size": 10,
              "solidity": 0.2
             }
            },
            "type": "bar"
           }
          ],
          "barpolar": [
           {
            "marker": {
             "line": {
              "color": "#E5ECF6",
              "width": 0.5
             },
             "pattern": {
              "fillmode": "overlay",
              "size": 10,
              "solidity": 0.2
             }
            },
            "type": "barpolar"
           }
          ],
          "carpet": [
           {
            "aaxis": {
             "endlinecolor": "#2a3f5f",
             "gridcolor": "white",
             "linecolor": "white",
             "minorgridcolor": "white",
             "startlinecolor": "#2a3f5f"
            },
            "baxis": {
             "endlinecolor": "#2a3f5f",
             "gridcolor": "white",
             "linecolor": "white",
             "minorgridcolor": "white",
             "startlinecolor": "#2a3f5f"
            },
            "type": "carpet"
           }
          ],
          "choropleth": [
           {
            "colorbar": {
             "outlinewidth": 0,
             "ticks": ""
            },
            "type": "choropleth"
           }
          ],
          "contour": [
           {
            "colorbar": {
             "outlinewidth": 0,
             "ticks": ""
            },
            "colorscale": [
             [
              0,
              "#0d0887"
             ],
             [
              0.1111111111111111,
              "#46039f"
             ],
             [
              0.2222222222222222,
              "#7201a8"
             ],
             [
              0.3333333333333333,
              "#9c179e"
             ],
             [
              0.4444444444444444,
              "#bd3786"
             ],
             [
              0.5555555555555556,
              "#d8576b"
             ],
             [
              0.6666666666666666,
              "#ed7953"
             ],
             [
              0.7777777777777778,
              "#fb9f3a"
             ],
             [
              0.8888888888888888,
              "#fdca26"
             ],
             [
              1,
              "#f0f921"
             ]
            ],
            "type": "contour"
           }
          ],
          "contourcarpet": [
           {
            "colorbar": {
             "outlinewidth": 0,
             "ticks": ""
            },
            "type": "contourcarpet"
           }
          ],
          "heatmap": [
           {
            "colorbar": {
             "outlinewidth": 0,
             "ticks": ""
            },
            "colorscale": [
             [
              0,
              "#0d0887"
             ],
             [
              0.1111111111111111,
              "#46039f"
             ],
             [
              0.2222222222222222,
              "#7201a8"
             ],
             [
              0.3333333333333333,
              "#9c179e"
             ],
             [
              0.4444444444444444,
              "#bd3786"
             ],
             [
              0.5555555555555556,
              "#d8576b"
             ],
             [
              0.6666666666666666,
              "#ed7953"
             ],
             [
              0.7777777777777778,
              "#fb9f3a"
             ],
             [
              0.8888888888888888,
              "#fdca26"
             ],
             [
              1,
              "#f0f921"
             ]
            ],
            "type": "heatmap"
           }
          ],
          "heatmapgl": [
           {
            "colorbar": {
             "outlinewidth": 0,
             "ticks": ""
            },
            "colorscale": [
             [
              0,
              "#0d0887"
             ],
             [
              0.1111111111111111,
              "#46039f"
             ],
             [
              0.2222222222222222,
              "#7201a8"
             ],
             [
              0.3333333333333333,
              "#9c179e"
             ],
             [
              0.4444444444444444,
              "#bd3786"
             ],
             [
              0.5555555555555556,
              "#d8576b"
             ],
             [
              0.6666666666666666,
              "#ed7953"
             ],
             [
              0.7777777777777778,
              "#fb9f3a"
             ],
             [
              0.8888888888888888,
              "#fdca26"
             ],
             [
              1,
              "#f0f921"
             ]
            ],
            "type": "heatmapgl"
           }
          ],
          "histogram": [
           {
            "marker": {
             "pattern": {
              "fillmode": "overlay",
              "size": 10,
              "solidity": 0.2
             }
            },
            "type": "histogram"
           }
          ],
          "histogram2d": [
           {
            "colorbar": {
             "outlinewidth": 0,
             "ticks": ""
            },
            "colorscale": [
             [
              0,
              "#0d0887"
             ],
             [
              0.1111111111111111,
              "#46039f"
             ],
             [
              0.2222222222222222,
              "#7201a8"
             ],
             [
              0.3333333333333333,
              "#9c179e"
             ],
             [
              0.4444444444444444,
              "#bd3786"
             ],
             [
              0.5555555555555556,
              "#d8576b"
             ],
             [
              0.6666666666666666,
              "#ed7953"
             ],
             [
              0.7777777777777778,
              "#fb9f3a"
             ],
             [
              0.8888888888888888,
              "#fdca26"
             ],
             [
              1,
              "#f0f921"
             ]
            ],
            "type": "histogram2d"
           }
          ],
          "histogram2dcontour": [
           {
            "colorbar": {
             "outlinewidth": 0,
             "ticks": ""
            },
            "colorscale": [
             [
              0,
              "#0d0887"
             ],
             [
              0.1111111111111111,
              "#46039f"
             ],
             [
              0.2222222222222222,
              "#7201a8"
             ],
             [
              0.3333333333333333,
              "#9c179e"
             ],
             [
              0.4444444444444444,
              "#bd3786"
             ],
             [
              0.5555555555555556,
              "#d8576b"
             ],
             [
              0.6666666666666666,
              "#ed7953"
             ],
             [
              0.7777777777777778,
              "#fb9f3a"
             ],
             [
              0.8888888888888888,
              "#fdca26"
             ],
             [
              1,
              "#f0f921"
             ]
            ],
            "type": "histogram2dcontour"
           }
          ],
          "mesh3d": [
           {
            "colorbar": {
             "outlinewidth": 0,
             "ticks": ""
            },
            "type": "mesh3d"
           }
          ],
          "parcoords": [
           {
            "line": {
             "colorbar": {
              "outlinewidth": 0,
              "ticks": ""
             }
            },
            "type": "parcoords"
           }
          ],
          "pie": [
           {
            "automargin": true,
            "type": "pie"
           }
          ],
          "scatter": [
           {
            "fillpattern": {
             "fillmode": "overlay",
             "size": 10,
             "solidity": 0.2
            },
            "type": "scatter"
           }
          ],
          "scatter3d": [
           {
            "line": {
             "colorbar": {
              "outlinewidth": 0,
              "ticks": ""
             }
            },
            "marker": {
             "colorbar": {
              "outlinewidth": 0,
              "ticks": ""
             }
            },
            "type": "scatter3d"
           }
          ],
          "scattercarpet": [
           {
            "marker": {
             "colorbar": {
              "outlinewidth": 0,
              "ticks": ""
             }
            },
            "type": "scattercarpet"
           }
          ],
          "scattergeo": [
           {
            "marker": {
             "colorbar": {
              "outlinewidth": 0,
              "ticks": ""
             }
            },
            "type": "scattergeo"
           }
          ],
          "scattergl": [
           {
            "marker": {
             "colorbar": {
              "outlinewidth": 0,
              "ticks": ""
             }
            },
            "type": "scattergl"
           }
          ],
          "scattermapbox": [
           {
            "marker": {
             "colorbar": {
              "outlinewidth": 0,
              "ticks": ""
             }
            },
            "type": "scattermapbox"
           }
          ],
          "scatterpolar": [
           {
            "marker": {
             "colorbar": {
              "outlinewidth": 0,
              "ticks": ""
             }
            },
            "type": "scatterpolar"
           }
          ],
          "scatterpolargl": [
           {
            "marker": {
             "colorbar": {
              "outlinewidth": 0,
              "ticks": ""
             }
            },
            "type": "scatterpolargl"
           }
          ],
          "scatterternary": [
           {
            "marker": {
             "colorbar": {
              "outlinewidth": 0,
              "ticks": ""
             }
            },
            "type": "scatterternary"
           }
          ],
          "surface": [
           {
            "colorbar": {
             "outlinewidth": 0,
             "ticks": ""
            },
            "colorscale": [
             [
              0,
              "#0d0887"
             ],
             [
              0.1111111111111111,
              "#46039f"
             ],
             [
              0.2222222222222222,
              "#7201a8"
             ],
             [
              0.3333333333333333,
              "#9c179e"
             ],
             [
              0.4444444444444444,
              "#bd3786"
             ],
             [
              0.5555555555555556,
              "#d8576b"
             ],
             [
              0.6666666666666666,
              "#ed7953"
             ],
             [
              0.7777777777777778,
              "#fb9f3a"
             ],
             [
              0.8888888888888888,
              "#fdca26"
             ],
             [
              1,
              "#f0f921"
             ]
            ],
            "type": "surface"
           }
          ],
          "table": [
           {
            "cells": {
             "fill": {
              "color": "#EBF0F8"
             },
             "line": {
              "color": "white"
             }
            },
            "header": {
             "fill": {
              "color": "#C8D4E3"
             },
             "line": {
              "color": "white"
             }
            },
            "type": "table"
           }
          ]
         },
         "layout": {
          "annotationdefaults": {
           "arrowcolor": "#2a3f5f",
           "arrowhead": 0,
           "arrowwidth": 1
          },
          "autotypenumbers": "strict",
          "coloraxis": {
           "colorbar": {
            "outlinewidth": 0,
            "ticks": ""
           }
          },
          "colorscale": {
           "diverging": [
            [
             0,
             "#8e0152"
            ],
            [
             0.1,
             "#c51b7d"
            ],
            [
             0.2,
             "#de77ae"
            ],
            [
             0.3,
             "#f1b6da"
            ],
            [
             0.4,
             "#fde0ef"
            ],
            [
             0.5,
             "#f7f7f7"
            ],
            [
             0.6,
             "#e6f5d0"
            ],
            [
             0.7,
             "#b8e186"
            ],
            [
             0.8,
             "#7fbc41"
            ],
            [
             0.9,
             "#4d9221"
            ],
            [
             1,
             "#276419"
            ]
           ],
           "sequential": [
            [
             0,
             "#0d0887"
            ],
            [
             0.1111111111111111,
             "#46039f"
            ],
            [
             0.2222222222222222,
             "#7201a8"
            ],
            [
             0.3333333333333333,
             "#9c179e"
            ],
            [
             0.4444444444444444,
             "#bd3786"
            ],
            [
             0.5555555555555556,
             "#d8576b"
            ],
            [
             0.6666666666666666,
             "#ed7953"
            ],
            [
             0.7777777777777778,
             "#fb9f3a"
            ],
            [
             0.8888888888888888,
             "#fdca26"
            ],
            [
             1,
             "#f0f921"
            ]
           ],
           "sequentialminus": [
            [
             0,
             "#0d0887"
            ],
            [
             0.1111111111111111,
             "#46039f"
            ],
            [
             0.2222222222222222,
             "#7201a8"
            ],
            [
             0.3333333333333333,
             "#9c179e"
            ],
            [
             0.4444444444444444,
             "#bd3786"
            ],
            [
             0.5555555555555556,
             "#d8576b"
            ],
            [
             0.6666666666666666,
             "#ed7953"
            ],
            [
             0.7777777777777778,
             "#fb9f3a"
            ],
            [
             0.8888888888888888,
             "#fdca26"
            ],
            [
             1,
             "#f0f921"
            ]
           ]
          },
          "colorway": [
           "#636efa",
           "#EF553B",
           "#00cc96",
           "#ab63fa",
           "#FFA15A",
           "#19d3f3",
           "#FF6692",
           "#B6E880",
           "#FF97FF",
           "#FECB52"
          ],
          "font": {
           "color": "#2a3f5f"
          },
          "geo": {
           "bgcolor": "white",
           "lakecolor": "white",
           "landcolor": "#E5ECF6",
           "showlakes": true,
           "showland": true,
           "subunitcolor": "white"
          },
          "hoverlabel": {
           "align": "left"
          },
          "hovermode": "closest",
          "mapbox": {
           "style": "light"
          },
          "paper_bgcolor": "white",
          "plot_bgcolor": "#E5ECF6",
          "polar": {
           "angularaxis": {
            "gridcolor": "white",
            "linecolor": "white",
            "ticks": ""
           },
           "bgcolor": "#E5ECF6",
           "radialaxis": {
            "gridcolor": "white",
            "linecolor": "white",
            "ticks": ""
           }
          },
          "scene": {
           "xaxis": {
            "backgroundcolor": "#E5ECF6",
            "gridcolor": "white",
            "gridwidth": 2,
            "linecolor": "white",
            "showbackground": true,
            "ticks": "",
            "zerolinecolor": "white"
           },
           "yaxis": {
            "backgroundcolor": "#E5ECF6",
            "gridcolor": "white",
            "gridwidth": 2,
            "linecolor": "white",
            "showbackground": true,
            "ticks": "",
            "zerolinecolor": "white"
           },
           "zaxis": {
            "backgroundcolor": "#E5ECF6",
            "gridcolor": "white",
            "gridwidth": 2,
            "linecolor": "white",
            "showbackground": true,
            "ticks": "",
            "zerolinecolor": "white"
           }
          },
          "shapedefaults": {
           "line": {
            "color": "#2a3f5f"
           }
          },
          "ternary": {
           "aaxis": {
            "gridcolor": "white",
            "linecolor": "white",
            "ticks": ""
           },
           "baxis": {
            "gridcolor": "white",
            "linecolor": "white",
            "ticks": ""
           },
           "bgcolor": "#E5ECF6",
           "caxis": {
            "gridcolor": "white",
            "linecolor": "white",
            "ticks": ""
           }
          },
          "title": {
           "x": 0.05
          },
          "xaxis": {
           "automargin": true,
           "gridcolor": "white",
           "linecolor": "white",
           "ticks": "",
           "title": {
            "standoff": 15
           },
           "zerolinecolor": "white",
           "zerolinewidth": 2
          },
          "yaxis": {
           "automargin": true,
           "gridcolor": "white",
           "linecolor": "white",
           "ticks": "",
           "title": {
            "standoff": 15
           },
           "zerolinecolor": "white",
           "zerolinewidth": 2
          }
         }
        },
        "xaxis": {
         "autorange": true,
         "range": [
          -9.798744032547468,
          10
         ],
         "type": "linear"
        },
        "yaxis": {
         "autorange": true,
         "range": [
          -17.24254413529694,
          5.118028638699839
         ],
         "type": "linear"
        }
       }
      },
      "image/png": "[encoded data removed]",
      "text/html": [
       "<div>                            <div id=\"f9171816-00b5-400a-94c9-1f591d1ed791\" class=\"plotly-graph-div\" style=\"height:525px; width:100%;\"></div>            <script type=\"text/javascript\">                require([\"plotly\"], function(Plotly) {                    window.PLOTLYENV=window.PLOTLYENV || {};                                    if (document.getElementById(\"f9171816-00b5-400a-94c9-1f591d1ed791\")) {                    Plotly.newPlot(                        \"f9171816-00b5-400a-94c9-1f591d1ed791\",                        [{\"mode\":\"lines\",\"name\":\"main root\",\"x\":[2.0,2.163265306122449,2.326530612244898,2.489795918367347,2.6530612244897958,2.816326530612245,2.979591836734694,3.142857142857143,3.3061224489795915,3.4693877551020407,3.63265306122449,3.7959183673469385,3.9591836734693877,4.122448979591836,4.285714285714286,4.448979591836734,4.612244897959183,4.775510204081632,4.938775510204081,5.1020408163265305,5.26530612244898,5.428571428571429,5.591836734693877,5.755102040816326,5.918367346938775,6.081632653061225,6.244897959183673,6.408163265306122,6.571428571428571,6.73469387755102,6.897959183673469,7.061224489795918,7.224489795918367,7.387755102040816,7.551020408163265,7.7142857142857135,7.877551020408163,8.040816326530612,8.204081632653061,8.367346938775508,8.53061224489796,8.693877551020407,8.857142857142858,9.020408163265305,9.183673469387754,9.346938775510203,9.510204081632653,9.673469387755102,9.83673469387755,10.0],\"y\":[4.0,3.714285714285714,3.428571428571429,3.142857142857143,2.8571428571428577,2.571428571428571,2.2857142857142856,2.0,1.7142857142857149,1.4285714285714288,1.1428571428571428,0.8571428571428577,0.5714285714285716,0.2857142857142865,0.0,-0.2857142857142847,-0.5714285714285703,-0.8571428571428559,-1.1428571428571423,-1.4285714285714288,-1.7142857142857144,-2.0,-2.2857142857142847,-2.571428571428571,-2.8571428571428568,-3.1428571428571432,-3.428571428571427,-3.7142857142857135,-4.0,-4.285714285714285,-4.571428571428569,-4.857142857142856,-5.142857142857142,-5.428571428571429,-5.7142857142857135,-5.999999999999998,-6.285714285714285,-6.571428571428571,-6.857142857142858,-7.142857142857139,-7.428571428571429,-7.714285714285712,-8.0,-8.285714285714285,-8.57142857142857,-8.857142857142856,-9.142857142857142,-9.428571428571427,-9.714285714285714,-10.0],\"type\":\"scatter\"},{\"mode\":\"lines\",\"name\":\"12.08304597359457\",\"x\":[2.0,1.89795918367347,1.7959183673469379,1.6938775510204076,1.5918367346938778,1.4897959183673473,1.3877551020408172,1.2857142857142856,1.1836734693877549,1.0816326530612246,0.9795918367346935,0.8775510204081638,0.7755102040816321,0.6734693877551013,0.571428571428571,0.4693877551020403,0.3673469387755102,0.26530612244897983,0.16326530612244913,0.06122448979591843,-0.04081632653061228,-0.142857142857143,-0.2448979591836737,-0.3469387755102044,-0.44897959183673514,-0.5510204081632658,-0.6530612244897959,-0.7551020408163266,-0.8571428571428573,-0.959183673469388,-1.0612244897959193,-1.1632653061224487,-1.2653061224489788,-1.3673469387755102,-1.469387755102041,-1.5714285714285696,-1.673469387755101,-1.775510204081633,-1.8775510204081638,-1.9795918367346939,-2.0816326530612246,-2.183673469387755,-2.2857142857142865,-2.3877551020408174,-2.4897959183673466,-2.5918367346938775,-2.6938775510204094,-2.7959183673469394,-2.8979591836734704,-3.000000000000001],\"y\":[4.0,3.77551020408163,3.551020408163267,3.326530612244899,3.1020408163265314,2.877551020408163,2.6530612244897953,2.4285714285714297,2.204081632653061,1.9795918367346945,1.7551020408163271,1.530612244897959,1.3061224489795922,1.0816326530612248,0.857142857142857,0.6326530612244896,0.408163265306122,0.18367346938775464,-0.04081632653061251,-0.2653061224489801,-0.4897959183673468,-0.714285714285714,-0.9387755102040818,-1.1632653061224483,-1.387755102040816,-1.6122448979591835,-1.8367346938775508,-2.061224489795919,-2.285714285714286,-2.510204081632654,-2.734693877551021,-2.959183673469388,-3.1836734693877555,-3.408163265306123,-3.6326530612244907,-3.8571428571428577,-4.081632653061225,-4.3061224489795915,-4.53061224489796,-4.755102040816325,-4.979591836734693,-5.20408163265306,-5.428571428571429,-5.653061224489794,-5.877551020408163,-6.102040816326531,-6.326530612244897,-6.5510204081632635,-6.775510204081632,-7.0],\"type\":\"scatter\"},{\"mode\":\"lines\",\"name\":\"mainroot\",\"x\":[-0.0,-0.0,-0.0,-0.0,-0.0,-0.0,-0.0,-0.0,-0.0,-0.0,-0.0,-0.0,-0.0,-0.0,-0.0,-0.0,-0.0,-0.0,-0.0,-0.0,-0.0,-0.0,-0.0,-0.0,-0.0,-0.0,-0.0,-0.0,-0.0,-0.0,-0.0,-0.0,-0.0,-0.0,-0.0,-0.0,-0.0,-0.0,-0.0,-0.0,-0.0,-0.0,-0.0,-0.0,-0.0,-0.0,-0.0,-0.0,-0.0,0.0],\"y\":[-16.1245154965971,-15.795443751768586,-15.466372006940073,-15.137300262111562,-14.80822851728305,-14.479156772454537,-14.150085027626025,-13.821013282797512,-13.491941537969002,-13.162869793140489,-12.833798048311976,-12.504726303483464,-12.175654558654951,-11.84658281382644,-11.517511068997926,-11.188439324169416,-10.859367579340903,-10.53029583451239,-10.20122408968388,-9.872152344855365,-9.543080600026855,-9.214008855198342,-8.88493711036983,-8.555865365541319,-8.226793620712805,-7.897721875884294,-7.568650131055781,-7.239578386227269,-6.910506641398756,-6.581434896570244,-6.252363151741733,-5.92329140691322,-5.594219662084708,-5.265147917256195,-4.936076172427683,-4.607004427599172,-4.277932682770659,-3.948860937942147,-3.6197891931136343,-3.290717448285122,-2.961645703456611,-2.6325739586280985,-2.303502213799586,-1.9744304689710734,-1.645358724142561,-1.3162869793140484,-0.9872152344855376,-0.6581434896570251,-0.32907174482851254,0.0],\"type\":\"scatter\"},{\"mode\":\"lines\",\"name\":\"12.08304597359457\",\"x\":[0.0,-0.19997436801117283,-0.39994873602234565,-0.5999231040335185,-0.7998974720446913,-0.9998718400558642,-1.199846208067037,-1.3998205760782099,-1.5997949440893826,-1.7997693121005554,-1.9997436801117283,-2.199718048122901,-2.399692416134074,-2.5996667841452465,-2.7996411521564197,-2.9996155201675925,-3.199589888178765,-3.399564256189938,-3.5995386242011107,-3.799512992212284,-3.9994873602234566,-4.199461728234629,-4.399436096245802,-4.599410464256975,-4.799384832268148,-4.99935920027932,-5.199333568290493,-5.399307936301667,-5.5992823043128395,-5.799256672324012,-5.999231040335185,-6.199205408346358,-6.39917977635753,-6.599154144368703,-6.799128512379876,-6.999102880391049,-7.199077248402221,-7.399051616413394,-7.599025984424568,-7.7990003524357405,-7.998974720446913,-8.198949088458086,-8.398923456469259,-8.598897824480431,-8.798872192491604,-8.998846560502777,-9.19882092851395,-9.398795296525122,-9.598769664536295,-9.798744032547468],\"y\":[0.0,-0.14428530350173227,-0.28857060700346454,-0.43285591050519684,-0.5771412140069291,-0.7214265175086615,-0.8657118210103937,-1.009997124512126,-1.1542824280138582,-1.2985677315155906,-1.442853035017323,-1.5871383385190552,-1.7314236420207874,-1.8757089455225195,-2.019994249024252,-2.164279552525984,-2.3085648560277163,-2.452850159529449,-2.597135463031181,-2.7414207665329133,-2.885706070034646,-3.029991373536378,-3.1742766770381103,-3.3185619805398425,-3.4628472840415747,-3.607132587543307,-3.751417891045039,-3.895703194546772,-4.039988498048504,-4.184273801550236,-4.328559105051968,-4.4728444085537005,-4.617129712055433,-4.761415015557166,-4.905700319058898,-5.04998562256063,-5.194270926062362,-5.3385562295640945,-5.482841533065827,-5.62712683656756,-5.771412140069292,-5.915697443571024,-6.059982747072756,-6.2042680505744885,-6.348553354076221,-6.492838657577953,-6.637123961079685,-6.781409264581417,-6.925694568083149,-7.069979871584882],\"type\":\"scatter\"}],                        {\"template\":{\"data\":{\"barpolar\":[{\"marker\":{\"line\":{\"color\":\"#E5ECF6\",\"width\":0.5},\"pattern\":{\"fillmode\":\"overlay\",\"size\":10,\"solidity\":0.2}},\"type\":\"barpolar\"}],\"bar\":[{\"error_x\":{\"color\":\"#2a3f5f\"},\"error_y\":{\"color\":\"#2a3f5f\"},\"marker\":{\"line\":{\"color\":\"#E5ECF6\",\"width\":0.5},\"pattern\":{\"fillmode\":\"overlay\",\"size\":10,\"solidity\":0.2}},\"type\":\"bar\"}],\"carpet\":[{\"aaxis\":{\"endlinecolor\":\"#2a3f5f\",\"gridcolor\":\"white\",\"linecolor\":\"white\",\"minorgridcolor\":\"white\",\"startlinecolor\":\"#2a3f5f\"},\"baxis\":{\"endlinecolor\":\"#2a3f5f\",\"gridcolor\":\"white\",\"linecolor\":\"white\",\"minorgridcolor\":\"white\",\"startlinecolor\":\"#2a3f5f\"},\"type\":\"carpet\"}],\"choropleth\":[{\"colorbar\":{\"outlinewidth\":0,\"ticks\":\"\"},\"type\":\"choropleth\"}],\"contourcarpet\":[{\"colorbar\":{\"outlinewidth\":0,\"ticks\":\"\"},\"type\":\"contourcarpet\"}],\"contour\":[{\"colorbar\":{\"outlinewidth\":0,\"ticks\":\"\"},\"colorscale\":[[0.0,\"#0d0887\"],[0.1111111111111111,\"#46039f\"],[0.2222222222222222,\"#7201a8\"],[0.3333333333333333,\"#9c179e\"],[0.4444444444444444,\"#bd3786\"],[0.5555555555555556,\"#d8576b\"],[0.6666666666666666,\"#ed7953\"],[0.7777777777777778,\"#fb9f3a\"],[0.8888888888888888,\"#fdca26\"],[1.0,\"#f0f921\"]],\"type\":\"contour\"}],\"heatmapgl\":[{\"colorbar\":{\"outlinewidth\":0,\"ticks\":\"\"},\"colorscale\":[[0.0,\"#0d0887\"],[0.1111111111111111,\"#46039f\"],[0.2222222222222222,\"#7201a8\"],[0.3333333333333333,\"#9c179e\"],[0.4444444444444444,\"#bd3786\"],[0.5555555555555556,\"#d8576b\"],[0.6666666666666666,\"#ed7953\"],[0.7777777777777778,\"#fb9f3a\"],[0.8888888888888888,\"#fdca26\"],[1.0,\"#f0f921\"]],\"type\":\"heatmapgl\"}],\"heatmap\":[{\"colorbar\":{\"outlinewidth\":0,\"ticks\":\"\"},\"colorscale\":[[0.0,\"#0d0887\"],[0.1111111111111111,\"#46039f\"],[0.2222222222222222,\"#7201a8\"],[0.3333333333333333,\"#9c179e\"],[0.4444444444444444,\"#bd3786\"],[0.5555555555555556,\"#d8576b\"],[0.6666666666666666,\"#ed7953\"],[0.7777777777777778,\"#fb9f3a\"],[0.8888888888888888,\"#fdca26\"],[1.0,\"#f0f921\"]],\"type\":\"heatmap\"}],\"histogram2dcontour\":[{\"colorbar\":{\"outlinewidth\":0,\"ticks\":\"\"},\"colorscale\":[[0.0,\"#0d0887\"],[0.1111111111111111,\"#46039f\"],[0.2222222222222222,\"#7201a8\"],[0.3333333333333333,\"#9c179e\"],[0.4444444444444444,\"#bd3786\"],[0.5555555555555556,\"#d8576b\"],[0.6666666666666666,\"#ed7953\"],[0.7777777777777778,\"#fb9f3a\"],[0.8888888888888888,\"#fdca26\"],[1.0,\"#f0f921\"]],\"type\":\"histogram2dcontour\"}],\"histogram2d\":[{\"colorbar\":{\"outlinewidth\":0,\"ticks\":\"\"},\"colorscale\":[[0.0,\"#0d0887\"],[0.1111111111111111,\"#46039f\"],[0.2222222222222222,\"#7201a8\"],[0.3333333333333333,\"#9c179e\"],[0.4444444444444444,\"#bd3786\"],[0.5555555555555556,\"#d8576b\"],[0.6666666666666666,\"#ed7953\"],[0.7777777777777778,\"#fb9f3a\"],[0.8888888888888888,\"#fdca26\"],[1.0,\"#f0f921\"]],\"type\":\"histogram2d\"}],\"histogram\":[{\"marker\":{\"pattern\":{\"fillmode\":\"overlay\",\"size\":10,\"solidity\":0.2}},\"type\":\"histogram\"}],\"mesh3d\":[{\"colorbar\":{\"outlinewidth\":0,\"ticks\":\"\"},\"type\":\"mesh3d\"}],\"parcoords\":[{\"line\":{\"colorbar\":{\"outlinewidth\":0,\"ticks\":\"\"}},\"type\":\"parcoords\"}],\"pie\":[{\"automargin\":true,\"type\":\"pie\"}],\"scatter3d\":[{\"line\":{\"colorbar\":{\"outlinewidth\":0,\"ticks\":\"\"}},\"marker\":{\"colorbar\":{\"outlinewidth\":0,\"ticks\":\"\"}},\"type\":\"scatter3d\"}],\"scattercarpet\":[{\"marker\":{\"colorbar\":{\"outlinewidth\":0,\"ticks\":\"\"}},\"type\":\"scattercarpet\"}],\"scattergeo\":[{\"marker\":{\"colorbar\":{\"outlinewidth\":0,\"ticks\":\"\"}},\"type\":\"scattergeo\"}],\"scattergl\":[{\"marker\":{\"colorbar\":{\"outlinewidth\":0,\"ticks\":\"\"}},\"type\":\"scattergl\"}],\"scattermapbox\":[{\"marker\":{\"colorbar\":{\"outlinewidth\":0,\"ticks\":\"\"}},\"type\":\"scattermapbox\"}],\"scatterpolargl\":[{\"marker\":{\"colorbar\":{\"outlinewidth\":0,\"ticks\":\"\"}},\"type\":\"scatterpolargl\"}],\"scatterpolar\":[{\"marker\":{\"colorbar\":{\"outlinewidth\":0,\"ticks\":\"\"}},\"type\":\"scatterpolar\"}],\"scatter\":[{\"fillpattern\":{\"fillmode\":\"overlay\",\"size\":10,\"solidity\":0.2},\"type\":\"scatter\"}],\"scatterternary\":[{\"marker\":{\"colorbar\":{\"outlinewidth\":0,\"ticks\":\"\"}},\"type\":\"scatterternary\"}],\"surface\":[{\"colorbar\":{\"outlinewidth\":0,\"ticks\":\"\"},\"colorscale\":[[0.0,\"#0d0887\"],[0.1111111111111111,\"#46039f\"],[0.2222222222222222,\"#7201a8\"],[0.3333333333333333,\"#9c179e\"],[0.4444444444444444,\"#bd3786\"],[0.5555555555555556,\"#d8576b\"],[0.6666666666666666,\"#ed7953\"],[0.7777777777777778,\"#fb9f3a\"],[0.8888888888888888,\"#fdca26\"],[1.0,\"#f0f921\"]],\"type\":\"surface\"}],\"table\":[{\"cells\":{\"fill\":{\"color\":\"#EBF0F8\"},\"line\":{\"color\":\"white\"}},\"header\":{\"fill\":{\"color\":\"#C8D4E3\"},\"line\":{\"color\":\"white\"}},\"type\":\"table\"}]},\"layout\":{\"annotationdefaults\":{\"arrowcolor\":\"#2a3f5f\",\"arrowhead\":0,\"arrowwidth\":1},\"autotypenumbers\":\"strict\",\"coloraxis\":{\"colorbar\":{\"outlinewidth\":0,\"ticks\":\"\"}},\"colorscale\":{\"diverging\":[[0,\"#8e0152\"],[0.1,\"#c51b7d\"],[0.2,\"#de77ae\"],[0.3,\"#f1b6da\"],[0.4,\"#fde0ef\"],[0.5,\"#f7f7f7\"],[0.6,\"#e6f5d0\"],[0.7,\"#b8e186\"],[0.8,\"#7fbc41\"],[0.9,\"#4d9221\"],[1,\"#276419\"]],\"sequential\":[[0.0,\"#0d0887\"],[0.1111111111111111,\"#46039f\"],[0.2222222222222222,\"#7201a8\"],[0.3333333333333333,\"#9c179e\"],[0.4444444444444444,\"#bd3786\"],[0.5555555555555556,\"#d8576b\"],[0.6666666666666666,\"#ed7953\"],[0.7777777777777778,\"#fb9f3a\"],[0.8888888888888888,\"#fdca26\"],[1.0,\"#f0f921\"]],\"sequentialminus\":[[0.0,\"#0d0887\"],[0.1111111111111111,\"#46039f\"],[0.2222222222222222,\"#7201a8\"],[0.3333333333333333,\"#9c179e\"],[0.4444444444444444,\"#bd3786\"],[0.5555555555555556,\"#d8576b\"],[0.6666666666666666,\"#ed7953\"],[0.7777777777777778,\"#fb9f3a\"],[0.8888888888888888,\"#fdca26\"],[1.0,\"#f0f921\"]]},\"colorway\":[\"#636efa\",\"#EF553B\",\"#00cc96\",\"#ab63fa\",\"#FFA15A\",\"#19d3f3\",\"#FF6692\",\"#B6E880\",\"#FF97FF\",\"#FECB52\"],\"font\":{\"color\":\"#2a3f5f\"},\"geo\":{\"bgcolor\":\"white\",\"lakecolor\":\"white\",\"landcolor\":\"#E5ECF6\",\"showlakes\":true,\"showland\":true,\"subunitcolor\":\"white\"},\"hoverlabel\":{\"align\":\"left\"},\"hovermode\":\"closest\",\"mapbox\":{\"style\":\"light\"},\"paper_bgcolor\":\"white\",\"plot_bgcolor\":\"#E5ECF6\",\"polar\":{\"angularaxis\":{\"gridcolor\":\"white\",\"linecolor\":\"white\",\"ticks\":\"\"},\"bgcolor\":\"#E5ECF6\",\"radialaxis\":{\"gridcolor\":\"white\",\"linecolor\":\"white\",\"ticks\":\"\"}},\"scene\":{\"xaxis\":{\"backgroundcolor\":\"#E5ECF6\",\"gridcolor\":\"white\",\"gridwidth\":2,\"linecolor\":\"white\",\"showbackground\":true,\"ticks\":\"\",\"zerolinecolor\":\"white\"},\"yaxis\":{\"backgroundcolor\":\"#E5ECF6\",\"gridcolor\":\"white\",\"gridwidth\":2,\"linecolor\":\"white\",\"showbackground\":true,\"ticks\":\"\",\"zerolinecolor\":\"white\"},\"zaxis\":{\"backgroundcolor\":\"#E5ECF6\",\"gridcolor\":\"white\",\"gridwidth\":2,\"linecolor\":\"white\",\"showbackground\":true,\"ticks\":\"\",\"zerolinecolor\":\"white\"}},\"shapedefaults\":{\"line\":{\"color\":\"#2a3f5f\"}},\"ternary\":{\"aaxis\":{\"gridcolor\":\"white\",\"linecolor\":\"white\",\"ticks\":\"\"},\"baxis\":{\"gridcolor\":\"white\",\"linecolor\":\"white\",\"ticks\":\"\"},\"bgcolor\":\"#E5ECF6\",\"caxis\":{\"gridcolor\":\"white\",\"linecolor\":\"white\",\"ticks\":\"\"}},\"title\":{\"x\":0.05},\"xaxis\":{\"automargin\":true,\"gridcolor\":\"white\",\"linecolor\":\"white\",\"ticks\":\"\",\"title\":{\"standoff\":15},\"zerolinecolor\":\"white\",\"zerolinewidth\":2},\"yaxis\":{\"automargin\":true,\"gridcolor\":\"white\",\"linecolor\":\"white\",\"ticks\":\"\",\"title\":{\"standoff\":15},\"zerolinecolor\":\"white\",\"zerolinewidth\":2}}}},                        {\"responsive\": true}                    ).then(function(){\n",
       "                            \n",
       "var gd = document.getElementById('f9171816-00b5-400a-94c9-1f591d1ed791');\n",
       "var x = new MutationObserver(function (mutations, observer) {{\n",
       "        var display = window.getComputedStyle(gd).display;\n",
       "        if (!display || display === 'none') {{\n",
       "            console.log([gd, 'removed!']);\n",
       "            Plotly.purge(gd);\n",
       "            observer.disconnect();\n",
       "        }}\n",
       "}});\n",
       "\n",
       "// Listen for the removal of the full notebook cells\n",
       "var notebookContainer = gd.closest('#notebook-container');\n",
       "if (notebookContainer) {{\n",
       "    x.observe(notebookContainer, {childList: true});\n",
       "}}\n",
       "\n",
       "// Listen for the clearing of the current output cell\n",
       "var outputEl = gd.closest('.output');\n",
       "if (outputEl) {{\n",
       "    x.observe(outputEl, {childList: true});\n",
       "}}\n",
       "\n",
       "                        })                };                });            </script>        </div>"
      ]
     },
     "metadata": {},
     "output_type": "display_data"
    }
   ],
   "source": [
    "a = float(input(\"enter a: \"))\n",
    "b = float(input(\"enter b: \") )\n",
    "c = float(input(\"enter c: \"))\n",
    "d = float(input(\"enter d: \"))\n",
    "AngledPlot = []\n",
    "deAngledPlot=[]\n",
    "Tmax = mainroot(a,b,c,d)\n",
    "print(Tmax)\n",
    "AngledPlot.append(angledMPlot(a,b,c,d))\n",
    "deAngledPlot.append(deAngledMPlot(a,b,c,d))\n",
    "G = float(input(\"enter G: \"))\n",
    "al = float(input(\"enter alpha value: \"))\n",
    "numPoints = int(input(\"enter the number of points you would like to do: \"))\n",
    "point=1\n",
    "listOfTs=[[\"lenght\",\"xt\",\"yt\",\"t\"]]\n",
    "while point < (numPoints+1):\n",
    "    p = float(input(\"enter p value for point: \" +str(point)))\n",
    "    q = float(input(\"endter q value for point: \" + str(point)))\n",
    "    Array = bestTAngled(a,b,c,d,p,q,G,al)\n",
    "    #dArray =[t, pqArray[0], pqArray[1]]\n",
    "    #Array =(length,xt,xy,dArray)\n",
    "    dArray= Array[3]\n",
    "    dlineArray = plotD(G,al,Tmax, Array[0], dArray[0],dArray[1],dArray[2])\n",
    "    deAngledPlot.append(dlineArray[0])\n",
    "    AngledPlot.append(plotA(a,b,c,d,dlineArray[1],dlineArray[2],Array[0],p,Array[1]))\n",
    "    printArray=[Array[0], Array[1],Array[2],dArray[0]]\n",
    "    listOfTs.append(printArray)\n",
    "    point = point+1\n",
    "print (listOfTs)\n",
    "#iplot(AngledPlot)\n",
    "#iplot(deAngledPlot)\n",
    "iplot(AngledPlot +deAngledPlot)"
   ]
  },
  {
   "cell_type": "code",
   "execution_count": 20,
   "id": "22924968-0e4c-47a9-837a-14c0d76e55db",
   "metadata": {},
   "outputs": [
    {
     "data": {
      "text/plain": [
       "16.1245154965971"
      ]
     },
     "execution_count": 20,
     "metadata": {},
     "output_type": "execute_result"
    }
   ],
   "source": [
    "np.sqrt(8**2 + 14**2)"
   ]
  },
  {
   "cell_type": "code",
   "execution_count": null,
   "id": "5ebe5aa1-a33a-4940-abcd-e9fb5d7425d8",
   "metadata": {},
   "outputs": [],
   "source": []
  }
 ],
 "metadata": {
  "kernelspec": {
   "display_name": "Python 3 (ipykernel)",
   "language": "python",
   "name": "python3"
  },
  "language_info": {
   "codemirror_mode": {
    "name": "ipython",
    "version": 3
   },
   "file_extension": ".py",
   "mimetype": "text/x-python",
   "name": "python",
   "nbconvert_exporter": "python",
   "pygments_lexer": "ipython3",
   "version": "3.10.9"
  }
 },
 "nbformat": 4,
 "nbformat_minor": 5
}
