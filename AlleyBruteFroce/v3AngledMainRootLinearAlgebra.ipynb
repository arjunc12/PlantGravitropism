{
 "cells": [
  {
   "cell_type": "code",
   "execution_count": 11,
   "id": "8defaecb-47ee-44f6-8300-2549a5fb73d4",
   "metadata": {},
   "outputs": [],
   "source": [
    "import matplotlib.pyplot as plt\n",
    "import numpy as np\n",
    "import pylab\n",
    "import scipy\n",
    "import plotly\n",
    "from plotly import graph_objs as go\n",
    "from plotly.offline import iplot, plot, init_notebook_mode"
   ]
  },
  {
   "cell_type": "code",
   "execution_count": 12,
   "id": "b4f83ddb-384d-41a5-a70b-732d42dd46e4",
   "metadata": {},
   "outputs": [],
   "source": [
    "def findTheta (a,b,c,d):\n",
    "    theta = np.arctan((np.absolute(a-c))/(np.absolute(b-d)))\n",
    "    m = (b-d)/(a-c)\n",
    "    if m > 0:\n",
    "        theta =-theta\n",
    "    return theta"
   ]
  },
  {
   "cell_type": "code",
   "execution_count": 13,
   "id": "af2958aa-4cfc-4a2d-9a85-68581febc49d",
   "metadata": {},
   "outputs": [],
   "source": [
    "def rotateLine(xs,ys,theta,a,b):\n",
    "    nx=[]\n",
    "    ny=[]\n",
    "    R = [[np.cos(theta), -np.sin(theta)],[np.sin(theta), np.cos(theta)]]\n",
    "    for i in range(0,len(xs)):\n",
    "        A =[xs[i]-a,ys[i]-b]\n",
    "        xy=np.array(np.matmul(A,R))\n",
    "        nx.append(xy[0])\n",
    "        ny.append(xy[1])\n",
    "    return(nx, ny)"
   ]
  },
  {
   "cell_type": "code",
   "execution_count": 14,
   "id": "b953c4c3-5726-4dba-9413-1bd8813e2ad0",
   "metadata": {},
   "outputs": [],
   "source": [
    "def mainRootArrays(a,b,c,d):\n",
    "    xs = np.linspace(a,c)\n",
    "    m=(b-d)/(a-c)\n",
    "    ys= m*(xs-a)+b\n",
    "    return(xs,ys)"
   ]
  },
  {
   "cell_type": "code",
   "execution_count": 15,
   "id": "0760757c-cb72-44bb-b2f7-b7eb8de08de3",
   "metadata": {},
   "outputs": [],
   "source": [
    "def findBest(Tmax,G,p,q,a):\n",
    "    t=0\n",
    "    bestLength= 1000000000000.0\n",
    "    bestT = t\n",
    "    while t >= Tmax:\n",
    "        b = (q - G * (p**2) - t)/p\n",
    "        if p>0:\n",
    "            x =np.linspace(0, p, num=50)\n",
    "        elif p < 0:\n",
    "            x =np.linspace(p, 0, num=50)\n",
    "        lot = np.sqrt(1+(2*G*x + ((q-G*(p**2)-t)/p))**2)\n",
    "        y= a*(lot) +(1-a)*(lot - t)\n",
    "        length = scipy.integrate.trapezoid(y,x)\n",
    "        if length < bestLength:\n",
    "            #ploting(Tmax,p,q,bestT,G) #comparing possible lines\n",
    "            bestLength = length\n",
    "            bestT = t\n",
    "        t = t - 0.01 #last \n",
    "    #ploting(Tmax,p,q,bestT,G)\n",
    "    #print(\"length: \" + str(bestLength) +\" t= \" + str(bestT))\n",
    "    return(bestLength,bestT)"
   ]
  },
  {
   "cell_type": "code",
   "execution_count": 16,
   "id": "bb3db6a3-8ae0-488c-8c63-50543710c289",
   "metadata": {},
   "outputs": [],
   "source": [
    "def reAngle(xs, ys, theata, a,b):\n",
    "    nx =[]\n",
    "    ny=[]\n",
    "    R = [[np.cos(theta), -np.sin(theta)],[np.sin(theta), np.cos(theta)]]\n",
    "    inR = np.linalg.inv(R)\n",
    "    ab= [a,b]\n",
    "    for i in range(0, len(xs)):\n",
    "        Ap = [xs[i],ys[i]]\n",
    "        xy=np.array(np.add(np.matmul(Ap,inR),ab))\n",
    "        nx.append(xy[0])\n",
    "        ny.append(xy[1])\n",
    "    return(nx, ny)"
   ]
  },
  {
   "cell_type": "code",
   "execution_count": 17,
   "id": "e0e84750-bc96-4222-b584-03f536fc4340",
   "metadata": {},
   "outputs": [],
   "source": [
    "def plotDeAngle (tmax,G,p,q,t):\n",
    "    x = np.linspace(0,p)\n",
    "    if p <0:\n",
    "        x = np.linspace(p,0)\n",
    "    b=(q - G*(p**2) -t)/p\n",
    "    y=G * x**2 + b*x + t\n",
    "    return (x,y)"
   ]
  },
  {
   "cell_type": "code",
   "execution_count": 18,
   "id": "eae34f48-05f3-44dd-86fc-b9a4ecaff1f9",
   "metadata": {},
   "outputs": [],
   "source": [
    "def mainFind(a,b,c,d):\n",
    "    xy = mainRootArrays(a,b,c,d)\n",
    "    theta = findTheta(a,b,c,d)\n",
    "    nxy = rotateLine(xy[0],xy[1],theta,a,b)\n",
    "    aMain = go.Scatter(x = xy[0], y= xy[1], mode = 'lines', name = \"angled\")\n",
    "    dMain = go.Scatter(x= nxy[0], y = nxy[1], mode = 'lines', name = \"deangled\")\n",
    "    tmax = rotateLine([c],[d], theta, a,b)\n",
    "    tmax = tmax[1][0]\n",
    "    return (aMain,dMain, theta,tmax)"
   ]
  },
  {
   "cell_type": "code",
   "execution_count": 19,
   "id": "e0dd6fbd-109a-4c14-9d7e-4ef393abdc68",
   "metadata": {},
   "outputs": [],
   "source": [
    "def deAngleCurve(G,al,p,q,theta,a,b):\n",
    "    pq = rotateLine([p],[q], theta, a,b)\n",
    "    pn = pq[0][0]\n",
    "    qn = pq[1][0]\n",
    "    best = findBest(tmax, G,pn,qn,al) #returns bestLength and bestT\n",
    "    dPlotA = plotDeAngle(tmax, G, pn ,qn,best[1])\n",
    "    dPlot = go.Scatter(x = dPlotA[0], y = dPlotA[1], mode= 'lines' , name = str(best[0]))\n",
    "    raPlotA = reAngle(dPlotA[0], dPlotA[1],theta,a,b)\n",
    "    raPlot = go.Scatter(x = raPlotA[0], y = raPlotA[1], mode = 'lines', name = str(best[0]))\n",
    "    txy = reAngle([0],[best[1]], theta,a,b)\n",
    "    return(best[0], txy, dPlot,raPlot)"
   ]
  },
  {
   "cell_type": "code",
   "execution_count": 21,
   "id": "f56e9dbc-3197-42a8-9ff0-fe1e1423c97d",
   "metadata": {},
   "outputs": [
    {
     "name": "stdin",
     "output_type": "stream",
     "text": [
      "enter a:  2\n",
      "enter b:  4\n",
      "enter c:  -10\n",
      "enter d:  -10\n",
      "enter G:  .5\n",
      "enter alpha value:  .9\n",
      "enter the number of points you would like to do:  2\n",
      "enter p value for point: 1 0\n",
      "endter q value for point: 1 0\n",
      "enter p value for point: 2 10\n",
      "endter q value for point: 2 1\n"
     ]
    },
    {
     "name": "stdout",
     "output_type": "stream",
     "text": [
      "[['p,q'], 'length', ['txy'], [[0.0, 0.0], 1.599050722232288, ([-0.7333237685150378], [0.811122270065789])], [[10.0, 1.0], 18.829763607540407, ([2.0], [4.0])]]\n"
     ]
    },
    {
     "data": {
      "application/vnd.plotly.v1+json": {
       "config": {
        "linkText": "Export to plot.ly",
        "plotlyServerURL": "https://plot.ly",
        "showLink": false
       },
       "data": [
        {
         "mode": "lines",
         "name": "angled",
         "type": "scatter",
         "x": [
          2,
          1.7551020408163265,
          1.510204081632653,
          1.2653061224489797,
          1.0204081632653061,
          0.7755102040816326,
          0.5306122448979593,
          0.2857142857142858,
          0.04081632653061229,
          -0.204081632653061,
          -0.44897959183673475,
          -0.693877551020408,
          -0.9387755102040813,
          -1.183673469387755,
          -1.4285714285714284,
          -1.6734693877551021,
          -1.9183673469387754,
          -2.163265306122449,
          -2.408163265306122,
          -2.6530612244897958,
          -2.8979591836734695,
          -3.1428571428571423,
          -3.387755102040816,
          -3.63265306122449,
          -3.8775510204081627,
          -4.122448979591836,
          -4.36734693877551,
          -4.612244897959184,
          -4.857142857142857,
          -5.1020408163265305,
          -5.346938775510204,
          -5.591836734693877,
          -5.836734693877551,
          -6.081632653061224,
          -6.326530612244898,
          -6.571428571428571,
          -6.816326530612244,
          -7.061224489795919,
          -7.3061224489795915,
          -7.551020408163264,
          -7.795918367346939,
          -8.040816326530612,
          -8.285714285714285,
          -8.53061224489796,
          -8.775510204081632,
          -9.020408163265305,
          -9.26530612244898,
          -9.510204081632653,
          -9.755102040816325,
          -10
         ],
         "y": [
          4,
          3.7142857142857144,
          3.4285714285714284,
          3.142857142857143,
          2.857142857142857,
          2.571428571428571,
          2.2857142857142856,
          2,
          1.7142857142857144,
          1.4285714285714288,
          1.1428571428571428,
          0.8571428571428572,
          0.5714285714285716,
          0.2857142857142856,
          0,
          -0.2857142857142865,
          -0.5714285714285712,
          -0.8571428571428577,
          -1.1428571428571423,
          -1.4285714285714288,
          -1.7142857142857144,
          -2,
          -2.2857142857142856,
          -2.571428571428572,
          -2.8571428571428568,
          -3.1428571428571432,
          -3.428571428571429,
          -3.7142857142857153,
          -4,
          -4.2857142857142865,
          -4.571428571428573,
          -4.857142857142858,
          -5.142857142857142,
          -5.428571428571429,
          -5.714285714285715,
          -6,
          -6.285714285714285,
          -6.571428571428573,
          -6.857142857142858,
          -7.142857142857142,
          -7.428571428571429,
          -7.714285714285715,
          -8,
          -8.285714285714286,
          -8.571428571428571,
          -8.857142857142856,
          -9.142857142857144,
          -9.428571428571429,
          -9.714285714285714,
          -10
         ]
        },
        {
         "mode": "lines",
         "name": "1.599050722232288",
         "type": "scatter",
         "x": [
          -0.7333237685150378,
          -0.7260111575952215,
          -0.7183796641639724,
          -0.7104292882212917,
          -0.7021600297671786,
          -0.6935718888016336,
          -0.684664865324657,
          -0.6754389593362489,
          -0.6658941708364079,
          -0.6560304998251354,
          -0.6458479463024305,
          -0.6353465102682945,
          -0.6245261917227247,
          -0.6133869906657243,
          -0.601928907097292,
          -0.5901519410174272,
          -0.5780560924261313,
          -0.5656413613234026,
          -0.5529077477092423,
          -0.5398552515836488,
          -0.526483872946625,
          -0.512793611798168,
          -0.4987844681382798,
          -0.48445644196695925,
          -0.4698095332842067,
          -0.4548437420900222,
          -0.43955906838440617,
          -0.4239555121673577,
          -0.40803307343887685,
          -0.39179175219896445,
          -0.3752315484476201,
          -0.3583524621848442,
          -0.34115449341063586,
          -0.3236376421249956,
          -0.30580190832792287,
          -0.2876472920194182,
          -0.269173793199482,
          -0.25038141186811425,
          -0.2312701480253141,
          -0.21184000167108197,
          -0.19209097280541698,
          -0.17202306142832047,
          -0.15163626753979242,
          -0.13093059113983285,
          -0.10990603222844042,
          -0.08856259080561646,
          -0.06690026687136053,
          -0.04491906042567262,
          -0.022618971468552296,
          2.220446049250313e-16
         ],
         "y": [
          0.811122270065789,
          0.7856400440300648,
          0.760529847591012,
          0.7357916807486289,
          0.7114255435029175,
          0.6874314358538762,
          0.6638093578015054,
          0.6405593093458051,
          0.6176812904867757,
          0.5951753012244172,
          0.5730413415587297,
          0.5512794114897113,
          0.5298895110173651,
          0.5088716401416886,
          0.48822579886268347,
          0.46795198718034836,
          0.44805020509468374,
          0.4285204526056905,
          0.40936272971336773,
          0.39057703641771546,
          0.37216337271873323,
          0.35412173861642327,
          0.33645213411078245,
          0.31915455920181257,
          0.3022290138895136,
          0.28567549817388604,
          0.2694940120549276,
          0.25368455553264013,
          0.23824712860702446,
          0.22318173127807883,
          0.2084883635458037,
          0.1941670254101986,
          0.1802177168712653,
          0.16664043792900207,
          0.1534351885834102,
          0.1406019688344884,
          0.1281407786822366,
          0.11605161812665621,
          0.10433448716774629,
          0.09298938580550686,
          0.08201631403993836,
          0.0714152718710408,
          0.06118625929881372,
          0.05132927632325668,
          0.04184432294437057,
          0.032731399162155395,
          0.02399050497661026,
          0.015621640387736502,
          0.0076248053955332296,
          4.440892098500626e-16
         ]
        },
        {
         "mode": "lines",
         "name": "18.829763607540407",
         "type": "scatter",
         "x": [
          2,
          1.744177154298076,
          1.5058163149221673,
          1.2849174818722744,
          1.0814806551483969,
          0.8955058347505354,
          0.7269930206786888,
          0.5759422129328575,
          0.4423534115130421,
          0.3262266164192431,
          0.22756182765145883,
          0.1463590452096899,
          0.08261826909393677,
          0.03633949930419966,
          0.007522735840477024,
          -0.003832021297230259,
          0.0022752278910795898,
          0.02584448340540435,
          0.06687574524574513,
          0.12536901341209994,
          0.20132428790447188,
          0.29474156872285784,
          0.40562085586726093,
          0.533962149337678,
          0.6797654491341123,
          0.843030755256561,
          1.0237580677050255,
          1.2219473864795054,
          1.437598711580001,
          1.670712043006513,
          1.9212873807590385,
          2.1893247248375816,
          2.4748240752421387,
          2.777785431972713,
          3.098208795029299,
          3.436094164411905,
          3.7914415401205255,
          4.16425092215516,
          4.554522310515813,
          4.962255705202479,
          5.38745110621516,
          5.830108513553858,
          6.290227927218569,
          6.7678093472093,
          7.2628527735260455,
          7.775358206168804,
          8.30532564513758,
          8.852755090432371,
          9.417646542053177,
          10.000000000000002
         ],
         "y": [
          4,
          3.4498393330756465,
          2.920051006864978,
          2.4106350213679937,
          1.9215913765846944,
          1.4529200725150804,
          1.0046211091591504,
          0.5766944865169057,
          0.16914020458834544,
          -0.21804173662652904,
          -0.58485133712772,
          -0.9312885969152251,
          -1.2573535159890463,
          -1.5630460943491808,
          -1.8483663319956332,
          -2.1133142289284006,
          -2.3578897851474814,
          -2.582093000652878,
          -2.785923875444591,
          -2.969382409522618,
          -3.132468602886961,
          -3.2751824555376174,
          -3.39752396747459,
          -3.499493138697879,
          -3.581089969207481,
          -3.6423144590033996,
          -3.6831666080856325,
          -3.7036464164541822,
          -3.7037538841090463,
          -3.6834890110502236,
          -3.6428517972777215,
          -3.581842242791529,
          -3.5004603475916545,
          -3.3987061116780932,
          -3.2765795350508506,
          -3.1340806177099196,
          -2.9712093596553046,
          -2.7879657608870057,
          -2.584349821405021,
          -2.360361541209352,
          -2.1160009203000003,
          -1.85126795867696,
          -1.5661626563402393,
          -1.2606850132898302,
          -0.9348350295257362,
          -0.5886127050479599,
          -0.22201803985649615,
          0.16494896604864984,
          0.5722883126674843,
          1.0000000000000018
         ]
        }
       ],
       "layout": {
        "autosize": true,
        "template": {
         "data": {
          "bar": [
           {
            "error_x": {
             "color": "#2a3f5f"
            },
            "error_y": {
             "color": "#2a3f5f"
            },
            "marker": {
             "line": {
              "color": "#E5ECF6",
              "width": 0.5
             },
             "pattern": {
              "fillmode": "overlay",
              "size": 10,
              "solidity": 0.2
             }
            },
            "type": "bar"
           }
          ],
          "barpolar": [
           {
            "marker": {
             "line": {
              "color": "#E5ECF6",
              "width": 0.5
             },
             "pattern": {
              "fillmode": "overlay",
              "size": 10,
              "solidity": 0.2
             }
            },
            "type": "barpolar"
           }
          ],
          "carpet": [
           {
            "aaxis": {
             "endlinecolor": "#2a3f5f",
             "gridcolor": "white",
             "linecolor": "white",
             "minorgridcolor": "white",
             "startlinecolor": "#2a3f5f"
            },
            "baxis": {
             "endlinecolor": "#2a3f5f",
             "gridcolor": "white",
             "linecolor": "white",
             "minorgridcolor": "white",
             "startlinecolor": "#2a3f5f"
            },
            "type": "carpet"
           }
          ],
          "choropleth": [
           {
            "colorbar": {
             "outlinewidth": 0,
             "ticks": ""
            },
            "type": "choropleth"
           }
          ],
          "contour": [
           {
            "colorbar": {
             "outlinewidth": 0,
             "ticks": ""
            },
            "colorscale": [
             [
              0,
              "#0d0887"
             ],
             [
              0.1111111111111111,
              "#46039f"
             ],
             [
              0.2222222222222222,
              "#7201a8"
             ],
             [
              0.3333333333333333,
              "#9c179e"
             ],
             [
              0.4444444444444444,
              "#bd3786"
             ],
             [
              0.5555555555555556,
              "#d8576b"
             ],
             [
              0.6666666666666666,
              "#ed7953"
             ],
             [
              0.7777777777777778,
              "#fb9f3a"
             ],
             [
              0.8888888888888888,
              "#fdca26"
             ],
             [
              1,
              "#f0f921"
             ]
            ],
            "type": "contour"
           }
          ],
          "contourcarpet": [
           {
            "colorbar": {
             "outlinewidth": 0,
             "ticks": ""
            },
            "type": "contourcarpet"
           }
          ],
          "heatmap": [
           {
            "colorbar": {
             "outlinewidth": 0,
             "ticks": ""
            },
            "colorscale": [
             [
              0,
              "#0d0887"
             ],
             [
              0.1111111111111111,
              "#46039f"
             ],
             [
              0.2222222222222222,
              "#7201a8"
             ],
             [
              0.3333333333333333,
              "#9c179e"
             ],
             [
              0.4444444444444444,
              "#bd3786"
             ],
             [
              0.5555555555555556,
              "#d8576b"
             ],
             [
              0.6666666666666666,
              "#ed7953"
             ],
             [
              0.7777777777777778,
              "#fb9f3a"
             ],
             [
              0.8888888888888888,
              "#fdca26"
             ],
             [
              1,
              "#f0f921"
             ]
            ],
            "type": "heatmap"
           }
          ],
          "heatmapgl": [
           {
            "colorbar": {
             "outlinewidth": 0,
             "ticks": ""
            },
            "colorscale": [
             [
              0,
              "#0d0887"
             ],
             [
              0.1111111111111111,
              "#46039f"
             ],
             [
              0.2222222222222222,
              "#7201a8"
             ],
             [
              0.3333333333333333,
              "#9c179e"
             ],
             [
              0.4444444444444444,
              "#bd3786"
             ],
             [
              0.5555555555555556,
              "#d8576b"
             ],
             [
              0.6666666666666666,
              "#ed7953"
             ],
             [
              0.7777777777777778,
              "#fb9f3a"
             ],
             [
              0.8888888888888888,
              "#fdca26"
             ],
             [
              1,
              "#f0f921"
             ]
            ],
            "type": "heatmapgl"
           }
          ],
          "histogram": [
           {
            "marker": {
             "pattern": {
              "fillmode": "overlay",
              "size": 10,
              "solidity": 0.2
             }
            },
            "type": "histogram"
           }
          ],
          "histogram2d": [
           {
            "colorbar": {
             "outlinewidth": 0,
             "ticks": ""
            },
            "colorscale": [
             [
              0,
              "#0d0887"
             ],
             [
              0.1111111111111111,
              "#46039f"
             ],
             [
              0.2222222222222222,
              "#7201a8"
             ],
             [
              0.3333333333333333,
              "#9c179e"
             ],
             [
              0.4444444444444444,
              "#bd3786"
             ],
             [
              0.5555555555555556,
              "#d8576b"
             ],
             [
              0.6666666666666666,
              "#ed7953"
             ],
             [
              0.7777777777777778,
              "#fb9f3a"
             ],
             [
              0.8888888888888888,
              "#fdca26"
             ],
             [
              1,
              "#f0f921"
             ]
            ],
            "type": "histogram2d"
           }
          ],
          "histogram2dcontour": [
           {
            "colorbar": {
             "outlinewidth": 0,
             "ticks": ""
            },
            "colorscale": [
             [
              0,
              "#0d0887"
             ],
             [
              0.1111111111111111,
              "#46039f"
             ],
             [
              0.2222222222222222,
              "#7201a8"
             ],
             [
              0.3333333333333333,
              "#9c179e"
             ],
             [
              0.4444444444444444,
              "#bd3786"
             ],
             [
              0.5555555555555556,
              "#d8576b"
             ],
             [
              0.6666666666666666,
              "#ed7953"
             ],
             [
              0.7777777777777778,
              "#fb9f3a"
             ],
             [
              0.8888888888888888,
              "#fdca26"
             ],
             [
              1,
              "#f0f921"
             ]
            ],
            "type": "histogram2dcontour"
           }
          ],
          "mesh3d": [
           {
            "colorbar": {
             "outlinewidth": 0,
             "ticks": ""
            },
            "type": "mesh3d"
           }
          ],
          "parcoords": [
           {
            "line": {
             "colorbar": {
              "outlinewidth": 0,
              "ticks": ""
             }
            },
            "type": "parcoords"
           }
          ],
          "pie": [
           {
            "automargin": true,
            "type": "pie"
           }
          ],
          "scatter": [
           {
            "fillpattern": {
             "fillmode": "overlay",
             "size": 10,
             "solidity": 0.2
            },
            "type": "scatter"
           }
          ],
          "scatter3d": [
           {
            "line": {
             "colorbar": {
              "outlinewidth": 0,
              "ticks": ""
             }
            },
            "marker": {
             "colorbar": {
              "outlinewidth": 0,
              "ticks": ""
             }
            },
            "type": "scatter3d"
           }
          ],
          "scattercarpet": [
           {
            "marker": {
             "colorbar": {
              "outlinewidth": 0,
              "ticks": ""
             }
            },
            "type": "scattercarpet"
           }
          ],
          "scattergeo": [
           {
            "marker": {
             "colorbar": {
              "outlinewidth": 0,
              "ticks": ""
             }
            },
            "type": "scattergeo"
           }
          ],
          "scattergl": [
           {
            "marker": {
             "colorbar": {
              "outlinewidth": 0,
              "ticks": ""
             }
            },
            "type": "scattergl"
           }
          ],
          "scattermapbox": [
           {
            "marker": {
             "colorbar": {
              "outlinewidth": 0,
              "ticks": ""
             }
            },
            "type": "scattermapbox"
           }
          ],
          "scatterpolar": [
           {
            "marker": {
             "colorbar": {
              "outlinewidth": 0,
              "ticks": ""
             }
            },
            "type": "scatterpolar"
           }
          ],
          "scatterpolargl": [
           {
            "marker": {
             "colorbar": {
              "outlinewidth": 0,
              "ticks": ""
             }
            },
            "type": "scatterpolargl"
           }
          ],
          "scatterternary": [
           {
            "marker": {
             "colorbar": {
              "outlinewidth": 0,
              "ticks": ""
             }
            },
            "type": "scatterternary"
           }
          ],
          "surface": [
           {
            "colorbar": {
             "outlinewidth": 0,
             "ticks": ""
            },
            "colorscale": [
             [
              0,
              "#0d0887"
             ],
             [
              0.1111111111111111,
              "#46039f"
             ],
             [
              0.2222222222222222,
              "#7201a8"
             ],
             [
              0.3333333333333333,
              "#9c179e"
             ],
             [
              0.4444444444444444,
              "#bd3786"
             ],
             [
              0.5555555555555556,
              "#d8576b"
             ],
             [
              0.6666666666666666,
              "#ed7953"
             ],
             [
              0.7777777777777778,
              "#fb9f3a"
             ],
             [
              0.8888888888888888,
              "#fdca26"
             ],
             [
              1,
              "#f0f921"
             ]
            ],
            "type": "surface"
           }
          ],
          "table": [
           {
            "cells": {
             "fill": {
              "color": "#EBF0F8"
             },
             "line": {
              "color": "white"
             }
            },
            "header": {
             "fill": {
              "color": "#C8D4E3"
             },
             "line": {
              "color": "white"
             }
            },
            "type": "table"
           }
          ]
         },
         "layout": {
          "annotationdefaults": {
           "arrowcolor": "#2a3f5f",
           "arrowhead": 0,
           "arrowwidth": 1
          },
          "autotypenumbers": "strict",
          "coloraxis": {
           "colorbar": {
            "outlinewidth": 0,
            "ticks": ""
           }
          },
          "colorscale": {
           "diverging": [
            [
             0,
             "#8e0152"
            ],
            [
             0.1,
             "#c51b7d"
            ],
            [
             0.2,
             "#de77ae"
            ],
            [
             0.3,
             "#f1b6da"
            ],
            [
             0.4,
             "#fde0ef"
            ],
            [
             0.5,
             "#f7f7f7"
            ],
            [
             0.6,
             "#e6f5d0"
            ],
            [
             0.7,
             "#b8e186"
            ],
            [
             0.8,
             "#7fbc41"
            ],
            [
             0.9,
             "#4d9221"
            ],
            [
             1,
             "#276419"
            ]
           ],
           "sequential": [
            [
             0,
             "#0d0887"
            ],
            [
             0.1111111111111111,
             "#46039f"
            ],
            [
             0.2222222222222222,
             "#7201a8"
            ],
            [
             0.3333333333333333,
             "#9c179e"
            ],
            [
             0.4444444444444444,
             "#bd3786"
            ],
            [
             0.5555555555555556,
             "#d8576b"
            ],
            [
             0.6666666666666666,
             "#ed7953"
            ],
            [
             0.7777777777777778,
             "#fb9f3a"
            ],
            [
             0.8888888888888888,
             "#fdca26"
            ],
            [
             1,
             "#f0f921"
            ]
           ],
           "sequentialminus": [
            [
             0,
             "#0d0887"
            ],
            [
             0.1111111111111111,
             "#46039f"
            ],
            [
             0.2222222222222222,
             "#7201a8"
            ],
            [
             0.3333333333333333,
             "#9c179e"
            ],
            [
             0.4444444444444444,
             "#bd3786"
            ],
            [
             0.5555555555555556,
             "#d8576b"
            ],
            [
             0.6666666666666666,
             "#ed7953"
            ],
            [
             0.7777777777777778,
             "#fb9f3a"
            ],
            [
             0.8888888888888888,
             "#fdca26"
            ],
            [
             1,
             "#f0f921"
            ]
           ]
          },
          "colorway": [
           "#636efa",
           "#EF553B",
           "#00cc96",
           "#ab63fa",
           "#FFA15A",
           "#19d3f3",
           "#FF6692",
           "#B6E880",
           "#FF97FF",
           "#FECB52"
          ],
          "font": {
           "color": "#2a3f5f"
          },
          "geo": {
           "bgcolor": "white",
           "lakecolor": "white",
           "landcolor": "#E5ECF6",
           "showlakes": true,
           "showland": true,
           "subunitcolor": "white"
          },
          "hoverlabel": {
           "align": "left"
          },
          "hovermode": "closest",
          "mapbox": {
           "style": "light"
          },
          "paper_bgcolor": "white",
          "plot_bgcolor": "#E5ECF6",
          "polar": {
           "angularaxis": {
            "gridcolor": "white",
            "linecolor": "white",
            "ticks": ""
           },
           "bgcolor": "#E5ECF6",
           "radialaxis": {
            "gridcolor": "white",
            "linecolor": "white",
            "ticks": ""
           }
          },
          "scene": {
           "xaxis": {
            "backgroundcolor": "#E5ECF6",
            "gridcolor": "white",
            "gridwidth": 2,
            "linecolor": "white",
            "showbackground": true,
            "ticks": "",
            "zerolinecolor": "white"
           },
           "yaxis": {
            "backgroundcolor": "#E5ECF6",
            "gridcolor": "white",
            "gridwidth": 2,
            "linecolor": "white",
            "showbackground": true,
            "ticks": "",
            "zerolinecolor": "white"
           },
           "zaxis": {
            "backgroundcolor": "#E5ECF6",
            "gridcolor": "white",
            "gridwidth": 2,
            "linecolor": "white",
            "showbackground": true,
            "ticks": "",
            "zerolinecolor": "white"
           }
          },
          "shapedefaults": {
           "line": {
            "color": "#2a3f5f"
           }
          },
          "ternary": {
           "aaxis": {
            "gridcolor": "white",
            "linecolor": "white",
            "ticks": ""
           },
           "baxis": {
            "gridcolor": "white",
            "linecolor": "white",
            "ticks": ""
           },
           "bgcolor": "#E5ECF6",
           "caxis": {
            "gridcolor": "white",
            "linecolor": "white",
            "ticks": ""
           }
          },
          "title": {
           "x": 0.05
          },
          "xaxis": {
           "automargin": true,
           "gridcolor": "white",
           "linecolor": "white",
           "ticks": "",
           "title": {
            "standoff": 15
           },
           "zerolinecolor": "white",
           "zerolinewidth": 2
          },
          "yaxis": {
           "automargin": true,
           "gridcolor": "white",
           "linecolor": "white",
           "ticks": "",
           "title": {
            "standoff": 15
           },
           "zerolinecolor": "white",
           "zerolinewidth": 2
          }
         }
        },
        "xaxis": {
         "autorange": true,
         "range": [
          -10,
          10.000000000000002
         ],
         "type": "linear"
        },
        "yaxis": {
         "autorange": true,
         "range": [
          -10.777777777777779,
          4.777777777777778
         ],
         "type": "linear"
        }
       }
      },
      "image/png": "[encoded data removed]",
      "text/html": [
       "<div>                            <div id=\"d0dea302-1e6b-4919-a005-b805d0cc94be\" class=\"plotly-graph-div\" style=\"height:525px; width:100%;\"></div>            <script type=\"text/javascript\">                require([\"plotly\"], function(Plotly) {                    window.PLOTLYENV=window.PLOTLYENV || {};                                    if (document.getElementById(\"d0dea302-1e6b-4919-a005-b805d0cc94be\")) {                    Plotly.newPlot(                        \"d0dea302-1e6b-4919-a005-b805d0cc94be\",                        [{\"mode\":\"lines\",\"name\":\"angled\",\"x\":[2.0,1.7551020408163265,1.510204081632653,1.2653061224489797,1.0204081632653061,0.7755102040816326,0.5306122448979593,0.2857142857142858,0.04081632653061229,-0.204081632653061,-0.44897959183673475,-0.693877551020408,-0.9387755102040813,-1.183673469387755,-1.4285714285714284,-1.6734693877551021,-1.9183673469387754,-2.163265306122449,-2.408163265306122,-2.6530612244897958,-2.8979591836734695,-3.1428571428571423,-3.387755102040816,-3.63265306122449,-3.8775510204081627,-4.122448979591836,-4.36734693877551,-4.612244897959184,-4.857142857142857,-5.1020408163265305,-5.346938775510204,-5.591836734693877,-5.836734693877551,-6.081632653061224,-6.326530612244898,-6.571428571428571,-6.816326530612244,-7.061224489795919,-7.3061224489795915,-7.551020408163264,-7.795918367346939,-8.040816326530612,-8.285714285714285,-8.53061224489796,-8.775510204081632,-9.020408163265305,-9.26530612244898,-9.510204081632653,-9.755102040816325,-10.0],\"y\":[4.0,3.7142857142857144,3.4285714285714284,3.142857142857143,2.857142857142857,2.571428571428571,2.2857142857142856,2.0,1.7142857142857144,1.4285714285714288,1.1428571428571428,0.8571428571428572,0.5714285714285716,0.2857142857142856,0.0,-0.2857142857142865,-0.5714285714285712,-0.8571428571428577,-1.1428571428571423,-1.4285714285714288,-1.7142857142857144,-2.0,-2.2857142857142856,-2.571428571428572,-2.8571428571428568,-3.1428571428571432,-3.428571428571429,-3.7142857142857153,-4.0,-4.2857142857142865,-4.571428571428573,-4.857142857142858,-5.142857142857142,-5.428571428571429,-5.714285714285715,-6.0,-6.285714285714285,-6.571428571428573,-6.857142857142858,-7.142857142857142,-7.428571428571429,-7.714285714285715,-8.0,-8.285714285714286,-8.571428571428571,-8.857142857142856,-9.142857142857144,-9.428571428571429,-9.714285714285714,-10.0],\"type\":\"scatter\"},{\"mode\":\"lines\",\"name\":\"1.599050722232288\",\"x\":[-0.7333237685150378,-0.7260111575952215,-0.7183796641639724,-0.7104292882212917,-0.7021600297671786,-0.6935718888016336,-0.684664865324657,-0.6754389593362489,-0.6658941708364079,-0.6560304998251354,-0.6458479463024305,-0.6353465102682945,-0.6245261917227247,-0.6133869906657243,-0.601928907097292,-0.5901519410174272,-0.5780560924261313,-0.5656413613234026,-0.5529077477092423,-0.5398552515836488,-0.526483872946625,-0.512793611798168,-0.4987844681382798,-0.48445644196695925,-0.4698095332842067,-0.4548437420900222,-0.43955906838440617,-0.4239555121673577,-0.40803307343887685,-0.39179175219896445,-0.3752315484476201,-0.3583524621848442,-0.34115449341063586,-0.3236376421249956,-0.30580190832792287,-0.2876472920194182,-0.269173793199482,-0.25038141186811425,-0.2312701480253141,-0.21184000167108197,-0.19209097280541698,-0.17202306142832047,-0.15163626753979242,-0.13093059113983285,-0.10990603222844042,-0.08856259080561646,-0.06690026687136053,-0.04491906042567262,-0.022618971468552296,2.220446049250313e-16],\"y\":[0.811122270065789,0.7856400440300648,0.760529847591012,0.7357916807486289,0.7114255435029175,0.6874314358538762,0.6638093578015054,0.6405593093458051,0.6176812904867757,0.5951753012244172,0.5730413415587297,0.5512794114897113,0.5298895110173651,0.5088716401416886,0.48822579886268347,0.46795198718034836,0.44805020509468374,0.4285204526056905,0.40936272971336773,0.39057703641771546,0.37216337271873323,0.35412173861642327,0.33645213411078245,0.31915455920181257,0.3022290138895136,0.28567549817388604,0.2694940120549276,0.25368455553264013,0.23824712860702446,0.22318173127807883,0.2084883635458037,0.1941670254101986,0.1802177168712653,0.16664043792900207,0.1534351885834102,0.1406019688344884,0.1281407786822366,0.11605161812665621,0.10433448716774629,0.09298938580550686,0.08201631403993836,0.0714152718710408,0.06118625929881372,0.05132927632325668,0.04184432294437057,0.032731399162155395,0.02399050497661026,0.015621640387736502,0.0076248053955332296,4.440892098500626e-16],\"type\":\"scatter\"},{\"mode\":\"lines\",\"name\":\"18.829763607540407\",\"x\":[2.0,1.744177154298076,1.5058163149221673,1.2849174818722744,1.0814806551483969,0.8955058347505354,0.7269930206786888,0.5759422129328575,0.4423534115130421,0.3262266164192431,0.22756182765145883,0.1463590452096899,0.08261826909393677,0.03633949930419966,0.007522735840477024,-0.003832021297230259,0.0022752278910795898,0.02584448340540435,0.06687574524574513,0.12536901341209994,0.20132428790447188,0.29474156872285784,0.40562085586726093,0.533962149337678,0.6797654491341123,0.843030755256561,1.0237580677050255,1.2219473864795054,1.437598711580001,1.670712043006513,1.9212873807590385,2.1893247248375816,2.4748240752421387,2.777785431972713,3.098208795029299,3.436094164411905,3.7914415401205255,4.16425092215516,4.554522310515813,4.962255705202479,5.38745110621516,5.830108513553858,6.290227927218569,6.7678093472093,7.2628527735260455,7.775358206168804,8.30532564513758,8.852755090432371,9.417646542053177,10.000000000000002],\"y\":[4.0,3.4498393330756465,2.920051006864978,2.4106350213679937,1.9215913765846944,1.4529200725150804,1.0046211091591504,0.5766944865169057,0.16914020458834544,-0.21804173662652904,-0.58485133712772,-0.9312885969152251,-1.2573535159890463,-1.5630460943491808,-1.8483663319956332,-2.1133142289284006,-2.3578897851474814,-2.582093000652878,-2.785923875444591,-2.969382409522618,-3.132468602886961,-3.2751824555376174,-3.39752396747459,-3.499493138697879,-3.581089969207481,-3.6423144590033996,-3.6831666080856325,-3.7036464164541822,-3.7037538841090463,-3.6834890110502236,-3.6428517972777215,-3.581842242791529,-3.5004603475916545,-3.3987061116780932,-3.2765795350508506,-3.1340806177099196,-2.9712093596553046,-2.7879657608870057,-2.584349821405021,-2.360361541209352,-2.1160009203000003,-1.85126795867696,-1.5661626563402393,-1.2606850132898302,-0.9348350295257362,-0.5886127050479599,-0.22201803985649615,0.16494896604864984,0.5722883126674843,1.0000000000000018],\"type\":\"scatter\"}],                        {\"template\":{\"data\":{\"barpolar\":[{\"marker\":{\"line\":{\"color\":\"#E5ECF6\",\"width\":0.5},\"pattern\":{\"fillmode\":\"overlay\",\"size\":10,\"solidity\":0.2}},\"type\":\"barpolar\"}],\"bar\":[{\"error_x\":{\"color\":\"#2a3f5f\"},\"error_y\":{\"color\":\"#2a3f5f\"},\"marker\":{\"line\":{\"color\":\"#E5ECF6\",\"width\":0.5},\"pattern\":{\"fillmode\":\"overlay\",\"size\":10,\"solidity\":0.2}},\"type\":\"bar\"}],\"carpet\":[{\"aaxis\":{\"endlinecolor\":\"#2a3f5f\",\"gridcolor\":\"white\",\"linecolor\":\"white\",\"minorgridcolor\":\"white\",\"startlinecolor\":\"#2a3f5f\"},\"baxis\":{\"endlinecolor\":\"#2a3f5f\",\"gridcolor\":\"white\",\"linecolor\":\"white\",\"minorgridcolor\":\"white\",\"startlinecolor\":\"#2a3f5f\"},\"type\":\"carpet\"}],\"choropleth\":[{\"colorbar\":{\"outlinewidth\":0,\"ticks\":\"\"},\"type\":\"choropleth\"}],\"contourcarpet\":[{\"colorbar\":{\"outlinewidth\":0,\"ticks\":\"\"},\"type\":\"contourcarpet\"}],\"contour\":[{\"colorbar\":{\"outlinewidth\":0,\"ticks\":\"\"},\"colorscale\":[[0.0,\"#0d0887\"],[0.1111111111111111,\"#46039f\"],[0.2222222222222222,\"#7201a8\"],[0.3333333333333333,\"#9c179e\"],[0.4444444444444444,\"#bd3786\"],[0.5555555555555556,\"#d8576b\"],[0.6666666666666666,\"#ed7953\"],[0.7777777777777778,\"#fb9f3a\"],[0.8888888888888888,\"#fdca26\"],[1.0,\"#f0f921\"]],\"type\":\"contour\"}],\"heatmapgl\":[{\"colorbar\":{\"outlinewidth\":0,\"ticks\":\"\"},\"colorscale\":[[0.0,\"#0d0887\"],[0.1111111111111111,\"#46039f\"],[0.2222222222222222,\"#7201a8\"],[0.3333333333333333,\"#9c179e\"],[0.4444444444444444,\"#bd3786\"],[0.5555555555555556,\"#d8576b\"],[0.6666666666666666,\"#ed7953\"],[0.7777777777777778,\"#fb9f3a\"],[0.8888888888888888,\"#fdca26\"],[1.0,\"#f0f921\"]],\"type\":\"heatmapgl\"}],\"heatmap\":[{\"colorbar\":{\"outlinewidth\":0,\"ticks\":\"\"},\"colorscale\":[[0.0,\"#0d0887\"],[0.1111111111111111,\"#46039f\"],[0.2222222222222222,\"#7201a8\"],[0.3333333333333333,\"#9c179e\"],[0.4444444444444444,\"#bd3786\"],[0.5555555555555556,\"#d8576b\"],[0.6666666666666666,\"#ed7953\"],[0.7777777777777778,\"#fb9f3a\"],[0.8888888888888888,\"#fdca26\"],[1.0,\"#f0f921\"]],\"type\":\"heatmap\"}],\"histogram2dcontour\":[{\"colorbar\":{\"outlinewidth\":0,\"ticks\":\"\"},\"colorscale\":[[0.0,\"#0d0887\"],[0.1111111111111111,\"#46039f\"],[0.2222222222222222,\"#7201a8\"],[0.3333333333333333,\"#9c179e\"],[0.4444444444444444,\"#bd3786\"],[0.5555555555555556,\"#d8576b\"],[0.6666666666666666,\"#ed7953\"],[0.7777777777777778,\"#fb9f3a\"],[0.8888888888888888,\"#fdca26\"],[1.0,\"#f0f921\"]],\"type\":\"histogram2dcontour\"}],\"histogram2d\":[{\"colorbar\":{\"outlinewidth\":0,\"ticks\":\"\"},\"colorscale\":[[0.0,\"#0d0887\"],[0.1111111111111111,\"#46039f\"],[0.2222222222222222,\"#7201a8\"],[0.3333333333333333,\"#9c179e\"],[0.4444444444444444,\"#bd3786\"],[0.5555555555555556,\"#d8576b\"],[0.6666666666666666,\"#ed7953\"],[0.7777777777777778,\"#fb9f3a\"],[0.8888888888888888,\"#fdca26\"],[1.0,\"#f0f921\"]],\"type\":\"histogram2d\"}],\"histogram\":[{\"marker\":{\"pattern\":{\"fillmode\":\"overlay\",\"size\":10,\"solidity\":0.2}},\"type\":\"histogram\"}],\"mesh3d\":[{\"colorbar\":{\"outlinewidth\":0,\"ticks\":\"\"},\"type\":\"mesh3d\"}],\"parcoords\":[{\"line\":{\"colorbar\":{\"outlinewidth\":0,\"ticks\":\"\"}},\"type\":\"parcoords\"}],\"pie\":[{\"automargin\":true,\"type\":\"pie\"}],\"scatter3d\":[{\"line\":{\"colorbar\":{\"outlinewidth\":0,\"ticks\":\"\"}},\"marker\":{\"colorbar\":{\"outlinewidth\":0,\"ticks\":\"\"}},\"type\":\"scatter3d\"}],\"scattercarpet\":[{\"marker\":{\"colorbar\":{\"outlinewidth\":0,\"ticks\":\"\"}},\"type\":\"scattercarpet\"}],\"scattergeo\":[{\"marker\":{\"colorbar\":{\"outlinewidth\":0,\"ticks\":\"\"}},\"type\":\"scattergeo\"}],\"scattergl\":[{\"marker\":{\"colorbar\":{\"outlinewidth\":0,\"ticks\":\"\"}},\"type\":\"scattergl\"}],\"scattermapbox\":[{\"marker\":{\"colorbar\":{\"outlinewidth\":0,\"ticks\":\"\"}},\"type\":\"scattermapbox\"}],\"scatterpolargl\":[{\"marker\":{\"colorbar\":{\"outlinewidth\":0,\"ticks\":\"\"}},\"type\":\"scatterpolargl\"}],\"scatterpolar\":[{\"marker\":{\"colorbar\":{\"outlinewidth\":0,\"ticks\":\"\"}},\"type\":\"scatterpolar\"}],\"scatter\":[{\"fillpattern\":{\"fillmode\":\"overlay\",\"size\":10,\"solidity\":0.2},\"type\":\"scatter\"}],\"scatterternary\":[{\"marker\":{\"colorbar\":{\"outlinewidth\":0,\"ticks\":\"\"}},\"type\":\"scatterternary\"}],\"surface\":[{\"colorbar\":{\"outlinewidth\":0,\"ticks\":\"\"},\"colorscale\":[[0.0,\"#0d0887\"],[0.1111111111111111,\"#46039f\"],[0.2222222222222222,\"#7201a8\"],[0.3333333333333333,\"#9c179e\"],[0.4444444444444444,\"#bd3786\"],[0.5555555555555556,\"#d8576b\"],[0.6666666666666666,\"#ed7953\"],[0.7777777777777778,\"#fb9f3a\"],[0.8888888888888888,\"#fdca26\"],[1.0,\"#f0f921\"]],\"type\":\"surface\"}],\"table\":[{\"cells\":{\"fill\":{\"color\":\"#EBF0F8\"},\"line\":{\"color\":\"white\"}},\"header\":{\"fill\":{\"color\":\"#C8D4E3\"},\"line\":{\"color\":\"white\"}},\"type\":\"table\"}]},\"layout\":{\"annotationdefaults\":{\"arrowcolor\":\"#2a3f5f\",\"arrowhead\":0,\"arrowwidth\":1},\"autotypenumbers\":\"strict\",\"coloraxis\":{\"colorbar\":{\"outlinewidth\":0,\"ticks\":\"\"}},\"colorscale\":{\"diverging\":[[0,\"#8e0152\"],[0.1,\"#c51b7d\"],[0.2,\"#de77ae\"],[0.3,\"#f1b6da\"],[0.4,\"#fde0ef\"],[0.5,\"#f7f7f7\"],[0.6,\"#e6f5d0\"],[0.7,\"#b8e186\"],[0.8,\"#7fbc41\"],[0.9,\"#4d9221\"],[1,\"#276419\"]],\"sequential\":[[0.0,\"#0d0887\"],[0.1111111111111111,\"#46039f\"],[0.2222222222222222,\"#7201a8\"],[0.3333333333333333,\"#9c179e\"],[0.4444444444444444,\"#bd3786\"],[0.5555555555555556,\"#d8576b\"],[0.6666666666666666,\"#ed7953\"],[0.7777777777777778,\"#fb9f3a\"],[0.8888888888888888,\"#fdca26\"],[1.0,\"#f0f921\"]],\"sequentialminus\":[[0.0,\"#0d0887\"],[0.1111111111111111,\"#46039f\"],[0.2222222222222222,\"#7201a8\"],[0.3333333333333333,\"#9c179e\"],[0.4444444444444444,\"#bd3786\"],[0.5555555555555556,\"#d8576b\"],[0.6666666666666666,\"#ed7953\"],[0.7777777777777778,\"#fb9f3a\"],[0.8888888888888888,\"#fdca26\"],[1.0,\"#f0f921\"]]},\"colorway\":[\"#636efa\",\"#EF553B\",\"#00cc96\",\"#ab63fa\",\"#FFA15A\",\"#19d3f3\",\"#FF6692\",\"#B6E880\",\"#FF97FF\",\"#FECB52\"],\"font\":{\"color\":\"#2a3f5f\"},\"geo\":{\"bgcolor\":\"white\",\"lakecolor\":\"white\",\"landcolor\":\"#E5ECF6\",\"showlakes\":true,\"showland\":true,\"subunitcolor\":\"white\"},\"hoverlabel\":{\"align\":\"left\"},\"hovermode\":\"closest\",\"mapbox\":{\"style\":\"light\"},\"paper_bgcolor\":\"white\",\"plot_bgcolor\":\"#E5ECF6\",\"polar\":{\"angularaxis\":{\"gridcolor\":\"white\",\"linecolor\":\"white\",\"ticks\":\"\"},\"bgcolor\":\"#E5ECF6\",\"radialaxis\":{\"gridcolor\":\"white\",\"linecolor\":\"white\",\"ticks\":\"\"}},\"scene\":{\"xaxis\":{\"backgroundcolor\":\"#E5ECF6\",\"gridcolor\":\"white\",\"gridwidth\":2,\"linecolor\":\"white\",\"showbackground\":true,\"ticks\":\"\",\"zerolinecolor\":\"white\"},\"yaxis\":{\"backgroundcolor\":\"#E5ECF6\",\"gridcolor\":\"white\",\"gridwidth\":2,\"linecolor\":\"white\",\"showbackground\":true,\"ticks\":\"\",\"zerolinecolor\":\"white\"},\"zaxis\":{\"backgroundcolor\":\"#E5ECF6\",\"gridcolor\":\"white\",\"gridwidth\":2,\"linecolor\":\"white\",\"showbackground\":true,\"ticks\":\"\",\"zerolinecolor\":\"white\"}},\"shapedefaults\":{\"line\":{\"color\":\"#2a3f5f\"}},\"ternary\":{\"aaxis\":{\"gridcolor\":\"white\",\"linecolor\":\"white\",\"ticks\":\"\"},\"baxis\":{\"gridcolor\":\"white\",\"linecolor\":\"white\",\"ticks\":\"\"},\"bgcolor\":\"#E5ECF6\",\"caxis\":{\"gridcolor\":\"white\",\"linecolor\":\"white\",\"ticks\":\"\"}},\"title\":{\"x\":0.05},\"xaxis\":{\"automargin\":true,\"gridcolor\":\"white\",\"linecolor\":\"white\",\"ticks\":\"\",\"title\":{\"standoff\":15},\"zerolinecolor\":\"white\",\"zerolinewidth\":2},\"yaxis\":{\"automargin\":true,\"gridcolor\":\"white\",\"linecolor\":\"white\",\"ticks\":\"\",\"title\":{\"standoff\":15},\"zerolinecolor\":\"white\",\"zerolinewidth\":2}}}},                        {\"responsive\": true}                    ).then(function(){\n",
       "                            \n",
       "var gd = document.getElementById('d0dea302-1e6b-4919-a005-b805d0cc94be');\n",
       "var x = new MutationObserver(function (mutations, observer) {{\n",
       "        var display = window.getComputedStyle(gd).display;\n",
       "        if (!display || display === 'none') {{\n",
       "            console.log([gd, 'removed!']);\n",
       "            Plotly.purge(gd);\n",
       "            observer.disconnect();\n",
       "        }}\n",
       "}});\n",
       "\n",
       "// Listen for the removal of the full notebook cells\n",
       "var notebookContainer = gd.closest('#notebook-container');\n",
       "if (notebookContainer) {{\n",
       "    x.observe(notebookContainer, {childList: true});\n",
       "}}\n",
       "\n",
       "// Listen for the clearing of the current output cell\n",
       "var outputEl = gd.closest('.output');\n",
       "if (outputEl) {{\n",
       "    x.observe(outputEl, {childList: true});\n",
       "}}\n",
       "\n",
       "                        })                };                });            </script>        </div>"
      ]
     },
     "metadata": {},
     "output_type": "display_data"
    },
    {
     "data": {
      "application/vnd.plotly.v1+json": {
       "config": {
        "linkText": "Export to plot.ly",
        "plotlyServerURL": "https://plot.ly",
        "showLink": false
       },
       "data": [
        {
         "mode": "lines",
         "name": "deangled",
         "type": "scatter",
         "x": [
          0,
          -1.3877787807814457e-16,
          0,
          1.1102230246251565e-16,
          -2.220446049250313e-16,
          0,
          2.220446049250313e-16,
          -2.220446049250313e-16,
          -4.440892098500626e-16,
          -2.220446049250313e-16,
          -2.220446049250313e-16,
          0,
          0,
          0,
          -4.440892098500626e-16,
          4.440892098500626e-16,
          -8.881784197001252e-16,
          -4.440892098500626e-16,
          -4.440892098500626e-16,
          0,
          -4.440892098500626e-16,
          0,
          0,
          -8.881784197001252e-16,
          0,
          0,
          0,
          0,
          -8.881784197001252e-16,
          0,
          8.881784197001252e-16,
          0,
          -1.7763568394002505e-15,
          0,
          -8.881784197001252e-16,
          -8.881784197001252e-16,
          -8.881784197001252e-16,
          0,
          0,
          -8.881784197001252e-16,
          -8.881784197001252e-16,
          0,
          0,
          -8.881784197001252e-16,
          0,
          -1.7763568394002505e-15,
          -1.7763568394002505e-15,
          0,
          0,
          0
         ],
         "y": [
          0,
          -0.3763079370323627,
          -0.7526158740647257,
          -1.1289238110970883,
          -1.505231748129451,
          -1.881539685161814,
          -2.2578476221941766,
          -2.6341555592265395,
          -3.010463496258902,
          -3.3867714332912646,
          -3.763079370323628,
          -4.139387307355991,
          -4.515695244388353,
          -4.892003181420716,
          -5.268311118453079,
          -5.6446190554854425,
          -6.020926992517804,
          -6.397234929550168,
          -6.773542866582529,
          -7.149850803614893,
          -7.526158740647256,
          -7.902466677679618,
          -8.278774614711981,
          -8.655082551744345,
          -9.031390488776706,
          -9.40769842580907,
          -9.784006362841431,
          -10.160314299873797,
          -10.536622236906158,
          -10.91293017393852,
          -11.289238110970885,
          -11.665546048003247,
          -12.041853985035608,
          -12.41816192206797,
          -12.794469859100335,
          -13.170777796132697,
          -13.547085733165058,
          -13.923393670197424,
          -14.299701607229785,
          -14.676009544262147,
          -15.052317481294512,
          -15.428625418326874,
          -15.804933355359235,
          -16.181241292391597,
          -16.557549229423962,
          -16.93385716645632,
          -17.31016510348869,
          -17.68647304052105,
          -18.062780977553412,
          -18.439088914585774
         ]
        },
        {
         "mode": "lines",
         "name": "1.599050722232288",
         "type": "scatter",
         "x": [
          0,
          0.022135761001903686,
          0.04427152200380737,
          0.06640728300571105,
          0.08854304400761474,
          0.11067880500951843,
          0.1328145660114221,
          0.1549503270133258,
          0.1770860880152295,
          0.19922184901713316,
          0.22135761001903687,
          0.24349337102094054,
          0.2656291320228442,
          0.2877648930247479,
          0.3099006540266516,
          0.3320364150285553,
          0.354172176030459,
          0.37630793703236265,
          0.3984436980342663,
          0.42057945903617006,
          0.44271522003807373,
          0.4648509810399774,
          0.4869867420418811,
          0.5091225030437848,
          0.5312582640456884,
          0.5533940250475922,
          0.5755297860494958,
          0.5976655470513995,
          0.6198013080533032,
          0.6419370690552069,
          0.6640728300571106,
          0.6862085910590142,
          0.708344352060918,
          0.7304801130628217,
          0.7526158740647253,
          0.774751635066629,
          0.7968873960685326,
          0.8190231570704364,
          0.8411589180723401,
          0.8632946790742437,
          0.8854304400761475,
          0.9075662010780511,
          0.9297019620799548,
          0.9518377230818585,
          0.9739734840837622,
          0.9961092450856659,
          1.0182450060875696,
          1.0403807670894731,
          1.0625165280913769,
          1.0846522890932806
         ],
         "y": [
          -4.199999999999955,
          -4.214588564256487,
          -4.228687136597885,
          -4.24229571702415,
          -4.255414305535281,
          -4.2680429021312785,
          -4.280181506812143,
          -4.291830119577875,
          -4.302988740428472,
          -4.313657369363937,
          -4.323836006384267,
          -4.333524651489466,
          -4.342723304679529,
          -4.35143196595446,
          -4.3596506353142574,
          -4.3673793127589216,
          -4.3746179982884525,
          -4.3813666919028496,
          -4.3876253936021135,
          -4.393394103386243,
          -4.398672821255241,
          -4.403461547209104,
          -4.4077602812478345,
          -4.411569023371431,
          -4.414887773579895,
          -4.417716531873224,
          -4.420055298251421,
          -4.421904072714485,
          -4.423262855262414,
          -4.42413164589521,
          -4.424510444612873,
          -4.424399251415403,
          -4.423798066302799,
          -4.422706889275062,
          -4.421125720332191,
          -4.419054559474187,
          -4.41649340670105,
          -4.413442262012779,
          -4.409901125409375,
          -4.4058699968908375,
          -4.401348876457166,
          -4.396337764108361,
          -4.390836659844424,
          -4.384845563665353,
          -4.378364475571148,
          -4.37139339556181,
          -4.363932323637339,
          -4.355981259797734,
          -4.347540204042996,
          -4.338609156373124
         ]
        },
        {
         "mode": "lines",
         "name": "18.829763607540407",
         "type": "scatter",
         "x": [
          0,
          0.1638046314140873,
          0.3276092628281746,
          0.4914138942422619,
          0.6552185256563492,
          0.8190231570704365,
          0.9828277884845238,
          1.146632419898611,
          1.3104370513126984,
          1.4742416827267857,
          1.638046314140873,
          1.8018509455549603,
          1.9656555769690476,
          2.1294602083831347,
          2.293264839797222,
          2.4570694712113097,
          2.6208741026253968,
          2.784678734039484,
          2.9484833654535714,
          3.112287996867659,
          3.276092628281746,
          3.439897259695833,
          3.6037018911099206,
          3.767506522524008,
          3.931311153938095,
          4.095115785352182,
          4.258920416766269,
          4.422725048180357,
          4.586529679594444,
          4.750334311008531,
          4.914138942422619,
          5.0779435738367065,
          5.2417482052507935,
          5.405552836664881,
          5.569357468078968,
          5.733162099493056,
          5.896966730907143,
          6.06077136232123,
          6.224575993735318,
          6.388380625149405,
          6.552185256563492,
          6.715989887977579,
          6.879794519391666,
          7.043599150805754,
          7.207403782219841,
          7.371208413633928,
          7.535013045048016,
          7.698817676462103,
          7.86262230787619,
          8.026426939290278
         ],
         "y": [
          0,
          -0.58420041983978,
          -1.1415688824068548,
          -1.6721053877012249,
          -2.17580993572289,
          -2.6526825264718497,
          -3.1027231599481047,
          -3.525931836151655,
          -3.9223085550825,
          -4.29185331674064,
          -4.634566121126075,
          -4.950446968238805,
          -5.23949585807883,
          -5.501712790646149,
          -5.737097765940765,
          -5.945650783962677,
          -6.12737184471188,
          -6.28226094818838,
          -6.410318094392175,
          -6.511543283323266,
          -6.5859365149816504,
          -6.633497789367331,
          -6.654227106480305,
          -6.648124466320576,
          -6.61518986888814,
          -6.555423314183001,
          -6.468824802205155,
          -6.3553943329546065,
          -6.215131906431351,
          -6.04803752263539,
          -5.8541111815667275,
          -5.633352883225356,
          -5.385762627611282,
          -5.1113404147245,
          -4.810086244565019,
          -4.482000117132827,
          -4.127082032427932,
          -3.7453319904503317,
          -3.3367499912000262,
          -2.9013360346770156,
          -2.4390901208813034,
          -1.9500122498128825,
          -1.43410242147176,
          -0.8913606358579287,
          -0.3217868929713923,
          0.2746188071878457,
          0.8978564646197924,
          1.5479260793244407,
          2.2248276513017977,
          2.92856118055186
         ]
        }
       ],
       "layout": {
        "autosize": true,
        "template": {
         "data": {
          "bar": [
           {
            "error_x": {
             "color": "#2a3f5f"
            },
            "error_y": {
             "color": "#2a3f5f"
            },
            "marker": {
             "line": {
              "color": "#E5ECF6",
              "width": 0.5
             },
             "pattern": {
              "fillmode": "overlay",
              "size": 10,
              "solidity": 0.2
             }
            },
            "type": "bar"
           }
          ],
          "barpolar": [
           {
            "marker": {
             "line": {
              "color": "#E5ECF6",
              "width": 0.5
             },
             "pattern": {
              "fillmode": "overlay",
              "size": 10,
              "solidity": 0.2
             }
            },
            "type": "barpolar"
           }
          ],
          "carpet": [
           {
            "aaxis": {
             "endlinecolor": "#2a3f5f",
             "gridcolor": "white",
             "linecolor": "white",
             "minorgridcolor": "white",
             "startlinecolor": "#2a3f5f"
            },
            "baxis": {
             "endlinecolor": "#2a3f5f",
             "gridcolor": "white",
             "linecolor": "white",
             "minorgridcolor": "white",
             "startlinecolor": "#2a3f5f"
            },
            "type": "carpet"
           }
          ],
          "choropleth": [
           {
            "colorbar": {
             "outlinewidth": 0,
             "ticks": ""
            },
            "type": "choropleth"
           }
          ],
          "contour": [
           {
            "colorbar": {
             "outlinewidth": 0,
             "ticks": ""
            },
            "colorscale": [
             [
              0,
              "#0d0887"
             ],
             [
              0.1111111111111111,
              "#46039f"
             ],
             [
              0.2222222222222222,
              "#7201a8"
             ],
             [
              0.3333333333333333,
              "#9c179e"
             ],
             [
              0.4444444444444444,
              "#bd3786"
             ],
             [
              0.5555555555555556,
              "#d8576b"
             ],
             [
              0.6666666666666666,
              "#ed7953"
             ],
             [
              0.7777777777777778,
              "#fb9f3a"
             ],
             [
              0.8888888888888888,
              "#fdca26"
             ],
             [
              1,
              "#f0f921"
             ]
            ],
            "type": "contour"
           }
          ],
          "contourcarpet": [
           {
            "colorbar": {
             "outlinewidth": 0,
             "ticks": ""
            },
            "type": "contourcarpet"
           }
          ],
          "heatmap": [
           {
            "colorbar": {
             "outlinewidth": 0,
             "ticks": ""
            },
            "colorscale": [
             [
              0,
              "#0d0887"
             ],
             [
              0.1111111111111111,
              "#46039f"
             ],
             [
              0.2222222222222222,
              "#7201a8"
             ],
             [
              0.3333333333333333,
              "#9c179e"
             ],
             [
              0.4444444444444444,
              "#bd3786"
             ],
             [
              0.5555555555555556,
              "#d8576b"
             ],
             [
              0.6666666666666666,
              "#ed7953"
             ],
             [
              0.7777777777777778,
              "#fb9f3a"
             ],
             [
              0.8888888888888888,
              "#fdca26"
             ],
             [
              1,
              "#f0f921"
             ]
            ],
            "type": "heatmap"
           }
          ],
          "heatmapgl": [
           {
            "colorbar": {
             "outlinewidth": 0,
             "ticks": ""
            },
            "colorscale": [
             [
              0,
              "#0d0887"
             ],
             [
              0.1111111111111111,
              "#46039f"
             ],
             [
              0.2222222222222222,
              "#7201a8"
             ],
             [
              0.3333333333333333,
              "#9c179e"
             ],
             [
              0.4444444444444444,
              "#bd3786"
             ],
             [
              0.5555555555555556,
              "#d8576b"
             ],
             [
              0.6666666666666666,
              "#ed7953"
             ],
             [
              0.7777777777777778,
              "#fb9f3a"
             ],
             [
              0.8888888888888888,
              "#fdca26"
             ],
             [
              1,
              "#f0f921"
             ]
            ],
            "type": "heatmapgl"
           }
          ],
          "histogram": [
           {
            "marker": {
             "pattern": {
              "fillmode": "overlay",
              "size": 10,
              "solidity": 0.2
             }
            },
            "type": "histogram"
           }
          ],
          "histogram2d": [
           {
            "colorbar": {
             "outlinewidth": 0,
             "ticks": ""
            },
            "colorscale": [
             [
              0,
              "#0d0887"
             ],
             [
              0.1111111111111111,
              "#46039f"
             ],
             [
              0.2222222222222222,
              "#7201a8"
             ],
             [
              0.3333333333333333,
              "#9c179e"
             ],
             [
              0.4444444444444444,
              "#bd3786"
             ],
             [
              0.5555555555555556,
              "#d8576b"
             ],
             [
              0.6666666666666666,
              "#ed7953"
             ],
             [
              0.7777777777777778,
              "#fb9f3a"
             ],
             [
              0.8888888888888888,
              "#fdca26"
             ],
             [
              1,
              "#f0f921"
             ]
            ],
            "type": "histogram2d"
           }
          ],
          "histogram2dcontour": [
           {
            "colorbar": {
             "outlinewidth": 0,
             "ticks": ""
            },
            "colorscale": [
             [
              0,
              "#0d0887"
             ],
             [
              0.1111111111111111,
              "#46039f"
             ],
             [
              0.2222222222222222,
              "#7201a8"
             ],
             [
              0.3333333333333333,
              "#9c179e"
             ],
             [
              0.4444444444444444,
              "#bd3786"
             ],
             [
              0.5555555555555556,
              "#d8576b"
             ],
             [
              0.6666666666666666,
              "#ed7953"
             ],
             [
              0.7777777777777778,
              "#fb9f3a"
             ],
             [
              0.8888888888888888,
              "#fdca26"
             ],
             [
              1,
              "#f0f921"
             ]
            ],
            "type": "histogram2dcontour"
           }
          ],
          "mesh3d": [
           {
            "colorbar": {
             "outlinewidth": 0,
             "ticks": ""
            },
            "type": "mesh3d"
           }
          ],
          "parcoords": [
           {
            "line": {
             "colorbar": {
              "outlinewidth": 0,
              "ticks": ""
             }
            },
            "type": "parcoords"
           }
          ],
          "pie": [
           {
            "automargin": true,
            "type": "pie"
           }
          ],
          "scatter": [
           {
            "fillpattern": {
             "fillmode": "overlay",
             "size": 10,
             "solidity": 0.2
            },
            "type": "scatter"
           }
          ],
          "scatter3d": [
           {
            "line": {
             "colorbar": {
              "outlinewidth": 0,
              "ticks": ""
             }
            },
            "marker": {
             "colorbar": {
              "outlinewidth": 0,
              "ticks": ""
             }
            },
            "type": "scatter3d"
           }
          ],
          "scattercarpet": [
           {
            "marker": {
             "colorbar": {
              "outlinewidth": 0,
              "ticks": ""
             }
            },
            "type": "scattercarpet"
           }
          ],
          "scattergeo": [
           {
            "marker": {
             "colorbar": {
              "outlinewidth": 0,
              "ticks": ""
             }
            },
            "type": "scattergeo"
           }
          ],
          "scattergl": [
           {
            "marker": {
             "colorbar": {
              "outlinewidth": 0,
              "ticks": ""
             }
            },
            "type": "scattergl"
           }
          ],
          "scattermapbox": [
           {
            "marker": {
             "colorbar": {
              "outlinewidth": 0,
              "ticks": ""
             }
            },
            "type": "scattermapbox"
           }
          ],
          "scatterpolar": [
           {
            "marker": {
             "colorbar": {
              "outlinewidth": 0,
              "ticks": ""
             }
            },
            "type": "scatterpolar"
           }
          ],
          "scatterpolargl": [
           {
            "marker": {
             "colorbar": {
              "outlinewidth": 0,
              "ticks": ""
             }
            },
            "type": "scatterpolargl"
           }
          ],
          "scatterternary": [
           {
            "marker": {
             "colorbar": {
              "outlinewidth": 0,
              "ticks": ""
             }
            },
            "type": "scatterternary"
           }
          ],
          "surface": [
           {
            "colorbar": {
             "outlinewidth": 0,
             "ticks": ""
            },
            "colorscale": [
             [
              0,
              "#0d0887"
             ],
             [
              0.1111111111111111,
              "#46039f"
             ],
             [
              0.2222222222222222,
              "#7201a8"
             ],
             [
              0.3333333333333333,
              "#9c179e"
             ],
             [
              0.4444444444444444,
              "#bd3786"
             ],
             [
              0.5555555555555556,
              "#d8576b"
             ],
             [
              0.6666666666666666,
              "#ed7953"
             ],
             [
              0.7777777777777778,
              "#fb9f3a"
             ],
             [
              0.8888888888888888,
              "#fdca26"
             ],
             [
              1,
              "#f0f921"
             ]
            ],
            "type": "surface"
           }
          ],
          "table": [
           {
            "cells": {
             "fill": {
              "color": "#EBF0F8"
             },
             "line": {
              "color": "white"
             }
            },
            "header": {
             "fill": {
              "color": "#C8D4E3"
             },
             "line": {
              "color": "white"
             }
            },
            "type": "table"
           }
          ]
         },
         "layout": {
          "annotationdefaults": {
           "arrowcolor": "#2a3f5f",
           "arrowhead": 0,
           "arrowwidth": 1
          },
          "autotypenumbers": "strict",
          "coloraxis": {
           "colorbar": {
            "outlinewidth": 0,
            "ticks": ""
           }
          },
          "colorscale": {
           "diverging": [
            [
             0,
             "#8e0152"
            ],
            [
             0.1,
             "#c51b7d"
            ],
            [
             0.2,
             "#de77ae"
            ],
            [
             0.3,
             "#f1b6da"
            ],
            [
             0.4,
             "#fde0ef"
            ],
            [
             0.5,
             "#f7f7f7"
            ],
            [
             0.6,
             "#e6f5d0"
            ],
            [
             0.7,
             "#b8e186"
            ],
            [
             0.8,
             "#7fbc41"
            ],
            [
             0.9,
             "#4d9221"
            ],
            [
             1,
             "#276419"
            ]
           ],
           "sequential": [
            [
             0,
             "#0d0887"
            ],
            [
             0.1111111111111111,
             "#46039f"
            ],
            [
             0.2222222222222222,
             "#7201a8"
            ],
            [
             0.3333333333333333,
             "#9c179e"
            ],
            [
             0.4444444444444444,
             "#bd3786"
            ],
            [
             0.5555555555555556,
             "#d8576b"
            ],
            [
             0.6666666666666666,
             "#ed7953"
            ],
            [
             0.7777777777777778,
             "#fb9f3a"
            ],
            [
             0.8888888888888888,
             "#fdca26"
            ],
            [
             1,
             "#f0f921"
            ]
           ],
           "sequentialminus": [
            [
             0,
             "#0d0887"
            ],
            [
             0.1111111111111111,
             "#46039f"
            ],
            [
             0.2222222222222222,
             "#7201a8"
            ],
            [
             0.3333333333333333,
             "#9c179e"
            ],
            [
             0.4444444444444444,
             "#bd3786"
            ],
            [
             0.5555555555555556,
             "#d8576b"
            ],
            [
             0.6666666666666666,
             "#ed7953"
            ],
            [
             0.7777777777777778,
             "#fb9f3a"
            ],
            [
             0.8888888888888888,
             "#fdca26"
            ],
            [
             1,
             "#f0f921"
            ]
           ]
          },
          "colorway": [
           "#636efa",
           "#EF553B",
           "#00cc96",
           "#ab63fa",
           "#FFA15A",
           "#19d3f3",
           "#FF6692",
           "#B6E880",
           "#FF97FF",
           "#FECB52"
          ],
          "font": {
           "color": "#2a3f5f"
          },
          "geo": {
           "bgcolor": "white",
           "lakecolor": "white",
           "landcolor": "#E5ECF6",
           "showlakes": true,
           "showland": true,
           "subunitcolor": "white"
          },
          "hoverlabel": {
           "align": "left"
          },
          "hovermode": "closest",
          "mapbox": {
           "style": "light"
          },
          "paper_bgcolor": "white",
          "plot_bgcolor": "#E5ECF6",
          "polar": {
           "angularaxis": {
            "gridcolor": "white",
            "linecolor": "white",
            "ticks": ""
           },
           "bgcolor": "#E5ECF6",
           "radialaxis": {
            "gridcolor": "white",
            "linecolor": "white",
            "ticks": ""
           }
          },
          "scene": {
           "xaxis": {
            "backgroundcolor": "#E5ECF6",
            "gridcolor": "white",
            "gridwidth": 2,
            "linecolor": "white",
            "showbackground": true,
            "ticks": "",
            "zerolinecolor": "white"
           },
           "yaxis": {
            "backgroundcolor": "#E5ECF6",
            "gridcolor": "white",
            "gridwidth": 2,
            "linecolor": "white",
            "showbackground": true,
            "ticks": "",
            "zerolinecolor": "white"
           },
           "zaxis": {
            "backgroundcolor": "#E5ECF6",
            "gridcolor": "white",
            "gridwidth": 2,
            "linecolor": "white",
            "showbackground": true,
            "ticks": "",
            "zerolinecolor": "white"
           }
          },
          "shapedefaults": {
           "line": {
            "color": "#2a3f5f"
           }
          },
          "ternary": {
           "aaxis": {
            "gridcolor": "white",
            "linecolor": "white",
            "ticks": ""
           },
           "baxis": {
            "gridcolor": "white",
            "linecolor": "white",
            "ticks": ""
           },
           "bgcolor": "#E5ECF6",
           "caxis": {
            "gridcolor": "white",
            "linecolor": "white",
            "ticks": ""
           }
          },
          "title": {
           "x": 0.05
          },
          "xaxis": {
           "automargin": true,
           "gridcolor": "white",
           "linecolor": "white",
           "ticks": "",
           "title": {
            "standoff": 15
           },
           "zerolinecolor": "white",
           "zerolinewidth": 2
          },
          "yaxis": {
           "automargin": true,
           "gridcolor": "white",
           "linecolor": "white",
           "ticks": "",
           "title": {
            "standoff": 15
           },
           "zerolinecolor": "white",
           "zerolinewidth": 2
          }
         }
        },
        "xaxis": {
         "autorange": true,
         "range": [
          -1.7763568394002505e-15,
          8.026426939290278
         ],
         "type": "linear"
        },
        "yaxis": {
         "autorange": true,
         "range": [
          -19.626180586537863,
          4.115652852503951
         ],
         "type": "linear"
        }
       }
      },
      "image/png": "[encoded data removed]",
      "text/html": [
       "<div>                            <div id=\"1b7d1f5a-6ecb-4d01-b8cc-ae5c6447e2fa\" class=\"plotly-graph-div\" style=\"height:525px; width:100%;\"></div>            <script type=\"text/javascript\">                require([\"plotly\"], function(Plotly) {                    window.PLOTLYENV=window.PLOTLYENV || {};                                    if (document.getElementById(\"1b7d1f5a-6ecb-4d01-b8cc-ae5c6447e2fa\")) {                    Plotly.newPlot(                        \"1b7d1f5a-6ecb-4d01-b8cc-ae5c6447e2fa\",                        [{\"mode\":\"lines\",\"name\":\"deangled\",\"x\":[0.0,-1.3877787807814457e-16,0.0,1.1102230246251565e-16,-2.220446049250313e-16,0.0,2.220446049250313e-16,-2.220446049250313e-16,-4.440892098500626e-16,-2.220446049250313e-16,-2.220446049250313e-16,0.0,0.0,0.0,-4.440892098500626e-16,4.440892098500626e-16,-8.881784197001252e-16,-4.440892098500626e-16,-4.440892098500626e-16,0.0,-4.440892098500626e-16,0.0,0.0,-8.881784197001252e-16,0.0,0.0,0.0,0.0,-8.881784197001252e-16,0.0,8.881784197001252e-16,0.0,-1.7763568394002505e-15,0.0,-8.881784197001252e-16,-8.881784197001252e-16,-8.881784197001252e-16,0.0,0.0,-8.881784197001252e-16,-8.881784197001252e-16,0.0,0.0,-8.881784197001252e-16,0.0,-1.7763568394002505e-15,-1.7763568394002505e-15,0.0,0.0,0.0],\"y\":[0.0,-0.3763079370323627,-0.7526158740647257,-1.1289238110970883,-1.505231748129451,-1.881539685161814,-2.2578476221941766,-2.6341555592265395,-3.010463496258902,-3.3867714332912646,-3.763079370323628,-4.139387307355991,-4.515695244388353,-4.892003181420716,-5.268311118453079,-5.6446190554854425,-6.020926992517804,-6.397234929550168,-6.773542866582529,-7.149850803614893,-7.526158740647256,-7.902466677679618,-8.278774614711981,-8.655082551744345,-9.031390488776706,-9.40769842580907,-9.784006362841431,-10.160314299873797,-10.536622236906158,-10.91293017393852,-11.289238110970885,-11.665546048003247,-12.041853985035608,-12.41816192206797,-12.794469859100335,-13.170777796132697,-13.547085733165058,-13.923393670197424,-14.299701607229785,-14.676009544262147,-15.052317481294512,-15.428625418326874,-15.804933355359235,-16.181241292391597,-16.557549229423962,-16.93385716645632,-17.31016510348869,-17.68647304052105,-18.062780977553412,-18.439088914585774],\"type\":\"scatter\"},{\"mode\":\"lines\",\"name\":\"1.599050722232288\",\"x\":[0.0,0.022135761001903686,0.04427152200380737,0.06640728300571105,0.08854304400761474,0.11067880500951843,0.1328145660114221,0.1549503270133258,0.1770860880152295,0.19922184901713316,0.22135761001903687,0.24349337102094054,0.2656291320228442,0.2877648930247479,0.3099006540266516,0.3320364150285553,0.354172176030459,0.37630793703236265,0.3984436980342663,0.42057945903617006,0.44271522003807373,0.4648509810399774,0.4869867420418811,0.5091225030437848,0.5312582640456884,0.5533940250475922,0.5755297860494958,0.5976655470513995,0.6198013080533032,0.6419370690552069,0.6640728300571106,0.6862085910590142,0.708344352060918,0.7304801130628217,0.7526158740647253,0.774751635066629,0.7968873960685326,0.8190231570704364,0.8411589180723401,0.8632946790742437,0.8854304400761475,0.9075662010780511,0.9297019620799548,0.9518377230818585,0.9739734840837622,0.9961092450856659,1.0182450060875696,1.0403807670894731,1.0625165280913769,1.0846522890932806],\"y\":[-4.199999999999955,-4.214588564256487,-4.228687136597885,-4.24229571702415,-4.255414305535281,-4.2680429021312785,-4.280181506812143,-4.291830119577875,-4.302988740428472,-4.313657369363937,-4.323836006384267,-4.333524651489466,-4.342723304679529,-4.35143196595446,-4.3596506353142574,-4.3673793127589216,-4.3746179982884525,-4.3813666919028496,-4.3876253936021135,-4.393394103386243,-4.398672821255241,-4.403461547209104,-4.4077602812478345,-4.411569023371431,-4.414887773579895,-4.417716531873224,-4.420055298251421,-4.421904072714485,-4.423262855262414,-4.42413164589521,-4.424510444612873,-4.424399251415403,-4.423798066302799,-4.422706889275062,-4.421125720332191,-4.419054559474187,-4.41649340670105,-4.413442262012779,-4.409901125409375,-4.4058699968908375,-4.401348876457166,-4.396337764108361,-4.390836659844424,-4.384845563665353,-4.378364475571148,-4.37139339556181,-4.363932323637339,-4.355981259797734,-4.347540204042996,-4.338609156373124],\"type\":\"scatter\"},{\"mode\":\"lines\",\"name\":\"18.829763607540407\",\"x\":[0.0,0.1638046314140873,0.3276092628281746,0.4914138942422619,0.6552185256563492,0.8190231570704365,0.9828277884845238,1.146632419898611,1.3104370513126984,1.4742416827267857,1.638046314140873,1.8018509455549603,1.9656555769690476,2.1294602083831347,2.293264839797222,2.4570694712113097,2.6208741026253968,2.784678734039484,2.9484833654535714,3.112287996867659,3.276092628281746,3.439897259695833,3.6037018911099206,3.767506522524008,3.931311153938095,4.095115785352182,4.258920416766269,4.422725048180357,4.586529679594444,4.750334311008531,4.914138942422619,5.0779435738367065,5.2417482052507935,5.405552836664881,5.569357468078968,5.733162099493056,5.896966730907143,6.06077136232123,6.224575993735318,6.388380625149405,6.552185256563492,6.715989887977579,6.879794519391666,7.043599150805754,7.207403782219841,7.371208413633928,7.535013045048016,7.698817676462103,7.86262230787619,8.026426939290278],\"y\":[0.0,-0.58420041983978,-1.1415688824068548,-1.6721053877012249,-2.17580993572289,-2.6526825264718497,-3.1027231599481047,-3.525931836151655,-3.9223085550825,-4.29185331674064,-4.634566121126075,-4.950446968238805,-5.23949585807883,-5.501712790646149,-5.737097765940765,-5.945650783962677,-6.12737184471188,-6.28226094818838,-6.410318094392175,-6.511543283323266,-6.5859365149816504,-6.633497789367331,-6.654227106480305,-6.648124466320576,-6.61518986888814,-6.555423314183001,-6.468824802205155,-6.3553943329546065,-6.215131906431351,-6.04803752263539,-5.8541111815667275,-5.633352883225356,-5.385762627611282,-5.1113404147245,-4.810086244565019,-4.482000117132827,-4.127082032427932,-3.7453319904503317,-3.3367499912000262,-2.9013360346770156,-2.4390901208813034,-1.9500122498128825,-1.43410242147176,-0.8913606358579287,-0.3217868929713923,0.2746188071878457,0.8978564646197924,1.5479260793244407,2.2248276513017977,2.92856118055186],\"type\":\"scatter\"}],                        {\"template\":{\"data\":{\"barpolar\":[{\"marker\":{\"line\":{\"color\":\"#E5ECF6\",\"width\":0.5},\"pattern\":{\"fillmode\":\"overlay\",\"size\":10,\"solidity\":0.2}},\"type\":\"barpolar\"}],\"bar\":[{\"error_x\":{\"color\":\"#2a3f5f\"},\"error_y\":{\"color\":\"#2a3f5f\"},\"marker\":{\"line\":{\"color\":\"#E5ECF6\",\"width\":0.5},\"pattern\":{\"fillmode\":\"overlay\",\"size\":10,\"solidity\":0.2}},\"type\":\"bar\"}],\"carpet\":[{\"aaxis\":{\"endlinecolor\":\"#2a3f5f\",\"gridcolor\":\"white\",\"linecolor\":\"white\",\"minorgridcolor\":\"white\",\"startlinecolor\":\"#2a3f5f\"},\"baxis\":{\"endlinecolor\":\"#2a3f5f\",\"gridcolor\":\"white\",\"linecolor\":\"white\",\"minorgridcolor\":\"white\",\"startlinecolor\":\"#2a3f5f\"},\"type\":\"carpet\"}],\"choropleth\":[{\"colorbar\":{\"outlinewidth\":0,\"ticks\":\"\"},\"type\":\"choropleth\"}],\"contourcarpet\":[{\"colorbar\":{\"outlinewidth\":0,\"ticks\":\"\"},\"type\":\"contourcarpet\"}],\"contour\":[{\"colorbar\":{\"outlinewidth\":0,\"ticks\":\"\"},\"colorscale\":[[0.0,\"#0d0887\"],[0.1111111111111111,\"#46039f\"],[0.2222222222222222,\"#7201a8\"],[0.3333333333333333,\"#9c179e\"],[0.4444444444444444,\"#bd3786\"],[0.5555555555555556,\"#d8576b\"],[0.6666666666666666,\"#ed7953\"],[0.7777777777777778,\"#fb9f3a\"],[0.8888888888888888,\"#fdca26\"],[1.0,\"#f0f921\"]],\"type\":\"contour\"}],\"heatmapgl\":[{\"colorbar\":{\"outlinewidth\":0,\"ticks\":\"\"},\"colorscale\":[[0.0,\"#0d0887\"],[0.1111111111111111,\"#46039f\"],[0.2222222222222222,\"#7201a8\"],[0.3333333333333333,\"#9c179e\"],[0.4444444444444444,\"#bd3786\"],[0.5555555555555556,\"#d8576b\"],[0.6666666666666666,\"#ed7953\"],[0.7777777777777778,\"#fb9f3a\"],[0.8888888888888888,\"#fdca26\"],[1.0,\"#f0f921\"]],\"type\":\"heatmapgl\"}],\"heatmap\":[{\"colorbar\":{\"outlinewidth\":0,\"ticks\":\"\"},\"colorscale\":[[0.0,\"#0d0887\"],[0.1111111111111111,\"#46039f\"],[0.2222222222222222,\"#7201a8\"],[0.3333333333333333,\"#9c179e\"],[0.4444444444444444,\"#bd3786\"],[0.5555555555555556,\"#d8576b\"],[0.6666666666666666,\"#ed7953\"],[0.7777777777777778,\"#fb9f3a\"],[0.8888888888888888,\"#fdca26\"],[1.0,\"#f0f921\"]],\"type\":\"heatmap\"}],\"histogram2dcontour\":[{\"colorbar\":{\"outlinewidth\":0,\"ticks\":\"\"},\"colorscale\":[[0.0,\"#0d0887\"],[0.1111111111111111,\"#46039f\"],[0.2222222222222222,\"#7201a8\"],[0.3333333333333333,\"#9c179e\"],[0.4444444444444444,\"#bd3786\"],[0.5555555555555556,\"#d8576b\"],[0.6666666666666666,\"#ed7953\"],[0.7777777777777778,\"#fb9f3a\"],[0.8888888888888888,\"#fdca26\"],[1.0,\"#f0f921\"]],\"type\":\"histogram2dcontour\"}],\"histogram2d\":[{\"colorbar\":{\"outlinewidth\":0,\"ticks\":\"\"},\"colorscale\":[[0.0,\"#0d0887\"],[0.1111111111111111,\"#46039f\"],[0.2222222222222222,\"#7201a8\"],[0.3333333333333333,\"#9c179e\"],[0.4444444444444444,\"#bd3786\"],[0.5555555555555556,\"#d8576b\"],[0.6666666666666666,\"#ed7953\"],[0.7777777777777778,\"#fb9f3a\"],[0.8888888888888888,\"#fdca26\"],[1.0,\"#f0f921\"]],\"type\":\"histogram2d\"}],\"histogram\":[{\"marker\":{\"pattern\":{\"fillmode\":\"overlay\",\"size\":10,\"solidity\":0.2}},\"type\":\"histogram\"}],\"mesh3d\":[{\"colorbar\":{\"outlinewidth\":0,\"ticks\":\"\"},\"type\":\"mesh3d\"}],\"parcoords\":[{\"line\":{\"colorbar\":{\"outlinewidth\":0,\"ticks\":\"\"}},\"type\":\"parcoords\"}],\"pie\":[{\"automargin\":true,\"type\":\"pie\"}],\"scatter3d\":[{\"line\":{\"colorbar\":{\"outlinewidth\":0,\"ticks\":\"\"}},\"marker\":{\"colorbar\":{\"outlinewidth\":0,\"ticks\":\"\"}},\"type\":\"scatter3d\"}],\"scattercarpet\":[{\"marker\":{\"colorbar\":{\"outlinewidth\":0,\"ticks\":\"\"}},\"type\":\"scattercarpet\"}],\"scattergeo\":[{\"marker\":{\"colorbar\":{\"outlinewidth\":0,\"ticks\":\"\"}},\"type\":\"scattergeo\"}],\"scattergl\":[{\"marker\":{\"colorbar\":{\"outlinewidth\":0,\"ticks\":\"\"}},\"type\":\"scattergl\"}],\"scattermapbox\":[{\"marker\":{\"colorbar\":{\"outlinewidth\":0,\"ticks\":\"\"}},\"type\":\"scattermapbox\"}],\"scatterpolargl\":[{\"marker\":{\"colorbar\":{\"outlinewidth\":0,\"ticks\":\"\"}},\"type\":\"scatterpolargl\"}],\"scatterpolar\":[{\"marker\":{\"colorbar\":{\"outlinewidth\":0,\"ticks\":\"\"}},\"type\":\"scatterpolar\"}],\"scatter\":[{\"fillpattern\":{\"fillmode\":\"overlay\",\"size\":10,\"solidity\":0.2},\"type\":\"scatter\"}],\"scatterternary\":[{\"marker\":{\"colorbar\":{\"outlinewidth\":0,\"ticks\":\"\"}},\"type\":\"scatterternary\"}],\"surface\":[{\"colorbar\":{\"outlinewidth\":0,\"ticks\":\"\"},\"colorscale\":[[0.0,\"#0d0887\"],[0.1111111111111111,\"#46039f\"],[0.2222222222222222,\"#7201a8\"],[0.3333333333333333,\"#9c179e\"],[0.4444444444444444,\"#bd3786\"],[0.5555555555555556,\"#d8576b\"],[0.6666666666666666,\"#ed7953\"],[0.7777777777777778,\"#fb9f3a\"],[0.8888888888888888,\"#fdca26\"],[1.0,\"#f0f921\"]],\"type\":\"surface\"}],\"table\":[{\"cells\":{\"fill\":{\"color\":\"#EBF0F8\"},\"line\":{\"color\":\"white\"}},\"header\":{\"fill\":{\"color\":\"#C8D4E3\"},\"line\":{\"color\":\"white\"}},\"type\":\"table\"}]},\"layout\":{\"annotationdefaults\":{\"arrowcolor\":\"#2a3f5f\",\"arrowhead\":0,\"arrowwidth\":1},\"autotypenumbers\":\"strict\",\"coloraxis\":{\"colorbar\":{\"outlinewidth\":0,\"ticks\":\"\"}},\"colorscale\":{\"diverging\":[[0,\"#8e0152\"],[0.1,\"#c51b7d\"],[0.2,\"#de77ae\"],[0.3,\"#f1b6da\"],[0.4,\"#fde0ef\"],[0.5,\"#f7f7f7\"],[0.6,\"#e6f5d0\"],[0.7,\"#b8e186\"],[0.8,\"#7fbc41\"],[0.9,\"#4d9221\"],[1,\"#276419\"]],\"sequential\":[[0.0,\"#0d0887\"],[0.1111111111111111,\"#46039f\"],[0.2222222222222222,\"#7201a8\"],[0.3333333333333333,\"#9c179e\"],[0.4444444444444444,\"#bd3786\"],[0.5555555555555556,\"#d8576b\"],[0.6666666666666666,\"#ed7953\"],[0.7777777777777778,\"#fb9f3a\"],[0.8888888888888888,\"#fdca26\"],[1.0,\"#f0f921\"]],\"sequentialminus\":[[0.0,\"#0d0887\"],[0.1111111111111111,\"#46039f\"],[0.2222222222222222,\"#7201a8\"],[0.3333333333333333,\"#9c179e\"],[0.4444444444444444,\"#bd3786\"],[0.5555555555555556,\"#d8576b\"],[0.6666666666666666,\"#ed7953\"],[0.7777777777777778,\"#fb9f3a\"],[0.8888888888888888,\"#fdca26\"],[1.0,\"#f0f921\"]]},\"colorway\":[\"#636efa\",\"#EF553B\",\"#00cc96\",\"#ab63fa\",\"#FFA15A\",\"#19d3f3\",\"#FF6692\",\"#B6E880\",\"#FF97FF\",\"#FECB52\"],\"font\":{\"color\":\"#2a3f5f\"},\"geo\":{\"bgcolor\":\"white\",\"lakecolor\":\"white\",\"landcolor\":\"#E5ECF6\",\"showlakes\":true,\"showland\":true,\"subunitcolor\":\"white\"},\"hoverlabel\":{\"align\":\"left\"},\"hovermode\":\"closest\",\"mapbox\":{\"style\":\"light\"},\"paper_bgcolor\":\"white\",\"plot_bgcolor\":\"#E5ECF6\",\"polar\":{\"angularaxis\":{\"gridcolor\":\"white\",\"linecolor\":\"white\",\"ticks\":\"\"},\"bgcolor\":\"#E5ECF6\",\"radialaxis\":{\"gridcolor\":\"white\",\"linecolor\":\"white\",\"ticks\":\"\"}},\"scene\":{\"xaxis\":{\"backgroundcolor\":\"#E5ECF6\",\"gridcolor\":\"white\",\"gridwidth\":2,\"linecolor\":\"white\",\"showbackground\":true,\"ticks\":\"\",\"zerolinecolor\":\"white\"},\"yaxis\":{\"backgroundcolor\":\"#E5ECF6\",\"gridcolor\":\"white\",\"gridwidth\":2,\"linecolor\":\"white\",\"showbackground\":true,\"ticks\":\"\",\"zerolinecolor\":\"white\"},\"zaxis\":{\"backgroundcolor\":\"#E5ECF6\",\"gridcolor\":\"white\",\"gridwidth\":2,\"linecolor\":\"white\",\"showbackground\":true,\"ticks\":\"\",\"zerolinecolor\":\"white\"}},\"shapedefaults\":{\"line\":{\"color\":\"#2a3f5f\"}},\"ternary\":{\"aaxis\":{\"gridcolor\":\"white\",\"linecolor\":\"white\",\"ticks\":\"\"},\"baxis\":{\"gridcolor\":\"white\",\"linecolor\":\"white\",\"ticks\":\"\"},\"bgcolor\":\"#E5ECF6\",\"caxis\":{\"gridcolor\":\"white\",\"linecolor\":\"white\",\"ticks\":\"\"}},\"title\":{\"x\":0.05},\"xaxis\":{\"automargin\":true,\"gridcolor\":\"white\",\"linecolor\":\"white\",\"ticks\":\"\",\"title\":{\"standoff\":15},\"zerolinecolor\":\"white\",\"zerolinewidth\":2},\"yaxis\":{\"automargin\":true,\"gridcolor\":\"white\",\"linecolor\":\"white\",\"ticks\":\"\",\"title\":{\"standoff\":15},\"zerolinecolor\":\"white\",\"zerolinewidth\":2}}}},                        {\"responsive\": true}                    ).then(function(){\n",
       "                            \n",
       "var gd = document.getElementById('1b7d1f5a-6ecb-4d01-b8cc-ae5c6447e2fa');\n",
       "var x = new MutationObserver(function (mutations, observer) {{\n",
       "        var display = window.getComputedStyle(gd).display;\n",
       "        if (!display || display === 'none') {{\n",
       "            console.log([gd, 'removed!']);\n",
       "            Plotly.purge(gd);\n",
       "            observer.disconnect();\n",
       "        }}\n",
       "}});\n",
       "\n",
       "// Listen for the removal of the full notebook cells\n",
       "var notebookContainer = gd.closest('#notebook-container');\n",
       "if (notebookContainer) {{\n",
       "    x.observe(notebookContainer, {childList: true});\n",
       "}}\n",
       "\n",
       "// Listen for the clearing of the current output cell\n",
       "var outputEl = gd.closest('.output');\n",
       "if (outputEl) {{\n",
       "    x.observe(outputEl, {childList: true});\n",
       "}}\n",
       "\n",
       "                        })                };                });            </script>        </div>"
      ]
     },
     "metadata": {},
     "output_type": "display_data"
    },
    {
     "data": {
      "application/vnd.plotly.v1+json": {
       "config": {
        "linkText": "Export to plot.ly",
        "plotlyServerURL": "https://plot.ly",
        "showLink": false
       },
       "data": [
        {
         "mode": "lines",
         "name": "angled",
         "type": "scatter",
         "x": [
          2,
          1.7551020408163265,
          1.510204081632653,
          1.2653061224489797,
          1.0204081632653061,
          0.7755102040816326,
          0.5306122448979593,
          0.2857142857142858,
          0.04081632653061229,
          -0.204081632653061,
          -0.44897959183673475,
          -0.693877551020408,
          -0.9387755102040813,
          -1.183673469387755,
          -1.4285714285714284,
          -1.6734693877551021,
          -1.9183673469387754,
          -2.163265306122449,
          -2.408163265306122,
          -2.6530612244897958,
          -2.8979591836734695,
          -3.1428571428571423,
          -3.387755102040816,
          -3.63265306122449,
          -3.8775510204081627,
          -4.122448979591836,
          -4.36734693877551,
          -4.612244897959184,
          -4.857142857142857,
          -5.1020408163265305,
          -5.346938775510204,
          -5.591836734693877,
          -5.836734693877551,
          -6.081632653061224,
          -6.326530612244898,
          -6.571428571428571,
          -6.816326530612244,
          -7.061224489795919,
          -7.3061224489795915,
          -7.551020408163264,
          -7.795918367346939,
          -8.040816326530612,
          -8.285714285714285,
          -8.53061224489796,
          -8.775510204081632,
          -9.020408163265305,
          -9.26530612244898,
          -9.510204081632653,
          -9.755102040816325,
          -10
         ],
         "y": [
          4,
          3.7142857142857144,
          3.4285714285714284,
          3.142857142857143,
          2.857142857142857,
          2.571428571428571,
          2.2857142857142856,
          2,
          1.7142857142857144,
          1.4285714285714288,
          1.1428571428571428,
          0.8571428571428572,
          0.5714285714285716,
          0.2857142857142856,
          0,
          -0.2857142857142865,
          -0.5714285714285712,
          -0.8571428571428577,
          -1.1428571428571423,
          -1.4285714285714288,
          -1.7142857142857144,
          -2,
          -2.2857142857142856,
          -2.571428571428572,
          -2.8571428571428568,
          -3.1428571428571432,
          -3.428571428571429,
          -3.7142857142857153,
          -4,
          -4.2857142857142865,
          -4.571428571428573,
          -4.857142857142858,
          -5.142857142857142,
          -5.428571428571429,
          -5.714285714285715,
          -6,
          -6.285714285714285,
          -6.571428571428573,
          -6.857142857142858,
          -7.142857142857142,
          -7.428571428571429,
          -7.714285714285715,
          -8,
          -8.285714285714286,
          -8.571428571428571,
          -8.857142857142856,
          -9.142857142857144,
          -9.428571428571429,
          -9.714285714285714,
          -10
         ]
        },
        {
         "mode": "lines",
         "name": "1.599050722232288",
         "type": "scatter",
         "x": [
          -0.7333237685150378,
          -0.7260111575952215,
          -0.7183796641639724,
          -0.7104292882212917,
          -0.7021600297671786,
          -0.6935718888016336,
          -0.684664865324657,
          -0.6754389593362489,
          -0.6658941708364079,
          -0.6560304998251354,
          -0.6458479463024305,
          -0.6353465102682945,
          -0.6245261917227247,
          -0.6133869906657243,
          -0.601928907097292,
          -0.5901519410174272,
          -0.5780560924261313,
          -0.5656413613234026,
          -0.5529077477092423,
          -0.5398552515836488,
          -0.526483872946625,
          -0.512793611798168,
          -0.4987844681382798,
          -0.48445644196695925,
          -0.4698095332842067,
          -0.4548437420900222,
          -0.43955906838440617,
          -0.4239555121673577,
          -0.40803307343887685,
          -0.39179175219896445,
          -0.3752315484476201,
          -0.3583524621848442,
          -0.34115449341063586,
          -0.3236376421249956,
          -0.30580190832792287,
          -0.2876472920194182,
          -0.269173793199482,
          -0.25038141186811425,
          -0.2312701480253141,
          -0.21184000167108197,
          -0.19209097280541698,
          -0.17202306142832047,
          -0.15163626753979242,
          -0.13093059113983285,
          -0.10990603222844042,
          -0.08856259080561646,
          -0.06690026687136053,
          -0.04491906042567262,
          -0.022618971468552296,
          2.220446049250313e-16
         ],
         "y": [
          0.811122270065789,
          0.7856400440300648,
          0.760529847591012,
          0.7357916807486289,
          0.7114255435029175,
          0.6874314358538762,
          0.6638093578015054,
          0.6405593093458051,
          0.6176812904867757,
          0.5951753012244172,
          0.5730413415587297,
          0.5512794114897113,
          0.5298895110173651,
          0.5088716401416886,
          0.48822579886268347,
          0.46795198718034836,
          0.44805020509468374,
          0.4285204526056905,
          0.40936272971336773,
          0.39057703641771546,
          0.37216337271873323,
          0.35412173861642327,
          0.33645213411078245,
          0.31915455920181257,
          0.3022290138895136,
          0.28567549817388604,
          0.2694940120549276,
          0.25368455553264013,
          0.23824712860702446,
          0.22318173127807883,
          0.2084883635458037,
          0.1941670254101986,
          0.1802177168712653,
          0.16664043792900207,
          0.1534351885834102,
          0.1406019688344884,
          0.1281407786822366,
          0.11605161812665621,
          0.10433448716774629,
          0.09298938580550686,
          0.08201631403993836,
          0.0714152718710408,
          0.06118625929881372,
          0.05132927632325668,
          0.04184432294437057,
          0.032731399162155395,
          0.02399050497661026,
          0.015621640387736502,
          0.0076248053955332296,
          4.440892098500626e-16
         ]
        },
        {
         "mode": "lines",
         "name": "18.829763607540407",
         "type": "scatter",
         "x": [
          2,
          1.744177154298076,
          1.5058163149221673,
          1.2849174818722744,
          1.0814806551483969,
          0.8955058347505354,
          0.7269930206786888,
          0.5759422129328575,
          0.4423534115130421,
          0.3262266164192431,
          0.22756182765145883,
          0.1463590452096899,
          0.08261826909393677,
          0.03633949930419966,
          0.007522735840477024,
          -0.003832021297230259,
          0.0022752278910795898,
          0.02584448340540435,
          0.06687574524574513,
          0.12536901341209994,
          0.20132428790447188,
          0.29474156872285784,
          0.40562085586726093,
          0.533962149337678,
          0.6797654491341123,
          0.843030755256561,
          1.0237580677050255,
          1.2219473864795054,
          1.437598711580001,
          1.670712043006513,
          1.9212873807590385,
          2.1893247248375816,
          2.4748240752421387,
          2.777785431972713,
          3.098208795029299,
          3.436094164411905,
          3.7914415401205255,
          4.16425092215516,
          4.554522310515813,
          4.962255705202479,
          5.38745110621516,
          5.830108513553858,
          6.290227927218569,
          6.7678093472093,
          7.2628527735260455,
          7.775358206168804,
          8.30532564513758,
          8.852755090432371,
          9.417646542053177,
          10.000000000000002
         ],
         "y": [
          4,
          3.4498393330756465,
          2.920051006864978,
          2.4106350213679937,
          1.9215913765846944,
          1.4529200725150804,
          1.0046211091591504,
          0.5766944865169057,
          0.16914020458834544,
          -0.21804173662652904,
          -0.58485133712772,
          -0.9312885969152251,
          -1.2573535159890463,
          -1.5630460943491808,
          -1.8483663319956332,
          -2.1133142289284006,
          -2.3578897851474814,
          -2.582093000652878,
          -2.785923875444591,
          -2.969382409522618,
          -3.132468602886961,
          -3.2751824555376174,
          -3.39752396747459,
          -3.499493138697879,
          -3.581089969207481,
          -3.6423144590033996,
          -3.6831666080856325,
          -3.7036464164541822,
          -3.7037538841090463,
          -3.6834890110502236,
          -3.6428517972777215,
          -3.581842242791529,
          -3.5004603475916545,
          -3.3987061116780932,
          -3.2765795350508506,
          -3.1340806177099196,
          -2.9712093596553046,
          -2.7879657608870057,
          -2.584349821405021,
          -2.360361541209352,
          -2.1160009203000003,
          -1.85126795867696,
          -1.5661626563402393,
          -1.2606850132898302,
          -0.9348350295257362,
          -0.5886127050479599,
          -0.22201803985649615,
          0.16494896604864984,
          0.5722883126674843,
          1.0000000000000018
         ]
        },
        {
         "mode": "lines",
         "name": "deangled",
         "type": "scatter",
         "x": [
          0,
          -1.3877787807814457e-16,
          0,
          1.1102230246251565e-16,
          -2.220446049250313e-16,
          0,
          2.220446049250313e-16,
          -2.220446049250313e-16,
          -4.440892098500626e-16,
          -2.220446049250313e-16,
          -2.220446049250313e-16,
          0,
          0,
          0,
          -4.440892098500626e-16,
          4.440892098500626e-16,
          -8.881784197001252e-16,
          -4.440892098500626e-16,
          -4.440892098500626e-16,
          0,
          -4.440892098500626e-16,
          0,
          0,
          -8.881784197001252e-16,
          0,
          0,
          0,
          0,
          -8.881784197001252e-16,
          0,
          8.881784197001252e-16,
          0,
          -1.7763568394002505e-15,
          0,
          -8.881784197001252e-16,
          -8.881784197001252e-16,
          -8.881784197001252e-16,
          0,
          0,
          -8.881784197001252e-16,
          -8.881784197001252e-16,
          0,
          0,
          -8.881784197001252e-16,
          0,
          -1.7763568394002505e-15,
          -1.7763568394002505e-15,
          0,
          0,
          0
         ],
         "y": [
          0,
          -0.3763079370323627,
          -0.7526158740647257,
          -1.1289238110970883,
          -1.505231748129451,
          -1.881539685161814,
          -2.2578476221941766,
          -2.6341555592265395,
          -3.010463496258902,
          -3.3867714332912646,
          -3.763079370323628,
          -4.139387307355991,
          -4.515695244388353,
          -4.892003181420716,
          -5.268311118453079,
          -5.6446190554854425,
          -6.020926992517804,
          -6.397234929550168,
          -6.773542866582529,
          -7.149850803614893,
          -7.526158740647256,
          -7.902466677679618,
          -8.278774614711981,
          -8.655082551744345,
          -9.031390488776706,
          -9.40769842580907,
          -9.784006362841431,
          -10.160314299873797,
          -10.536622236906158,
          -10.91293017393852,
          -11.289238110970885,
          -11.665546048003247,
          -12.041853985035608,
          -12.41816192206797,
          -12.794469859100335,
          -13.170777796132697,
          -13.547085733165058,
          -13.923393670197424,
          -14.299701607229785,
          -14.676009544262147,
          -15.052317481294512,
          -15.428625418326874,
          -15.804933355359235,
          -16.181241292391597,
          -16.557549229423962,
          -16.93385716645632,
          -17.31016510348869,
          -17.68647304052105,
          -18.062780977553412,
          -18.439088914585774
         ]
        },
        {
         "mode": "lines",
         "name": "1.599050722232288",
         "type": "scatter",
         "x": [
          0,
          0.022135761001903686,
          0.04427152200380737,
          0.06640728300571105,
          0.08854304400761474,
          0.11067880500951843,
          0.1328145660114221,
          0.1549503270133258,
          0.1770860880152295,
          0.19922184901713316,
          0.22135761001903687,
          0.24349337102094054,
          0.2656291320228442,
          0.2877648930247479,
          0.3099006540266516,
          0.3320364150285553,
          0.354172176030459,
          0.37630793703236265,
          0.3984436980342663,
          0.42057945903617006,
          0.44271522003807373,
          0.4648509810399774,
          0.4869867420418811,
          0.5091225030437848,
          0.5312582640456884,
          0.5533940250475922,
          0.5755297860494958,
          0.5976655470513995,
          0.6198013080533032,
          0.6419370690552069,
          0.6640728300571106,
          0.6862085910590142,
          0.708344352060918,
          0.7304801130628217,
          0.7526158740647253,
          0.774751635066629,
          0.7968873960685326,
          0.8190231570704364,
          0.8411589180723401,
          0.8632946790742437,
          0.8854304400761475,
          0.9075662010780511,
          0.9297019620799548,
          0.9518377230818585,
          0.9739734840837622,
          0.9961092450856659,
          1.0182450060875696,
          1.0403807670894731,
          1.0625165280913769,
          1.0846522890932806
         ],
         "y": [
          -4.199999999999955,
          -4.214588564256487,
          -4.228687136597885,
          -4.24229571702415,
          -4.255414305535281,
          -4.2680429021312785,
          -4.280181506812143,
          -4.291830119577875,
          -4.302988740428472,
          -4.313657369363937,
          -4.323836006384267,
          -4.333524651489466,
          -4.342723304679529,
          -4.35143196595446,
          -4.3596506353142574,
          -4.3673793127589216,
          -4.3746179982884525,
          -4.3813666919028496,
          -4.3876253936021135,
          -4.393394103386243,
          -4.398672821255241,
          -4.403461547209104,
          -4.4077602812478345,
          -4.411569023371431,
          -4.414887773579895,
          -4.417716531873224,
          -4.420055298251421,
          -4.421904072714485,
          -4.423262855262414,
          -4.42413164589521,
          -4.424510444612873,
          -4.424399251415403,
          -4.423798066302799,
          -4.422706889275062,
          -4.421125720332191,
          -4.419054559474187,
          -4.41649340670105,
          -4.413442262012779,
          -4.409901125409375,
          -4.4058699968908375,
          -4.401348876457166,
          -4.396337764108361,
          -4.390836659844424,
          -4.384845563665353,
          -4.378364475571148,
          -4.37139339556181,
          -4.363932323637339,
          -4.355981259797734,
          -4.347540204042996,
          -4.338609156373124
         ]
        },
        {
         "mode": "lines",
         "name": "18.829763607540407",
         "type": "scatter",
         "x": [
          0,
          0.1638046314140873,
          0.3276092628281746,
          0.4914138942422619,
          0.6552185256563492,
          0.8190231570704365,
          0.9828277884845238,
          1.146632419898611,
          1.3104370513126984,
          1.4742416827267857,
          1.638046314140873,
          1.8018509455549603,
          1.9656555769690476,
          2.1294602083831347,
          2.293264839797222,
          2.4570694712113097,
          2.6208741026253968,
          2.784678734039484,
          2.9484833654535714,
          3.112287996867659,
          3.276092628281746,
          3.439897259695833,
          3.6037018911099206,
          3.767506522524008,
          3.931311153938095,
          4.095115785352182,
          4.258920416766269,
          4.422725048180357,
          4.586529679594444,
          4.750334311008531,
          4.914138942422619,
          5.0779435738367065,
          5.2417482052507935,
          5.405552836664881,
          5.569357468078968,
          5.733162099493056,
          5.896966730907143,
          6.06077136232123,
          6.224575993735318,
          6.388380625149405,
          6.552185256563492,
          6.715989887977579,
          6.879794519391666,
          7.043599150805754,
          7.207403782219841,
          7.371208413633928,
          7.535013045048016,
          7.698817676462103,
          7.86262230787619,
          8.026426939290278
         ],
         "y": [
          0,
          -0.58420041983978,
          -1.1415688824068548,
          -1.6721053877012249,
          -2.17580993572289,
          -2.6526825264718497,
          -3.1027231599481047,
          -3.525931836151655,
          -3.9223085550825,
          -4.29185331674064,
          -4.634566121126075,
          -4.950446968238805,
          -5.23949585807883,
          -5.501712790646149,
          -5.737097765940765,
          -5.945650783962677,
          -6.12737184471188,
          -6.28226094818838,
          -6.410318094392175,
          -6.511543283323266,
          -6.5859365149816504,
          -6.633497789367331,
          -6.654227106480305,
          -6.648124466320576,
          -6.61518986888814,
          -6.555423314183001,
          -6.468824802205155,
          -6.3553943329546065,
          -6.215131906431351,
          -6.04803752263539,
          -5.8541111815667275,
          -5.633352883225356,
          -5.385762627611282,
          -5.1113404147245,
          -4.810086244565019,
          -4.482000117132827,
          -4.127082032427932,
          -3.7453319904503317,
          -3.3367499912000262,
          -2.9013360346770156,
          -2.4390901208813034,
          -1.9500122498128825,
          -1.43410242147176,
          -0.8913606358579287,
          -0.3217868929713923,
          0.2746188071878457,
          0.8978564646197924,
          1.5479260793244407,
          2.2248276513017977,
          2.92856118055186
         ]
        }
       ],
       "layout": {
        "autosize": true,
        "template": {
         "data": {
          "bar": [
           {
            "error_x": {
             "color": "#2a3f5f"
            },
            "error_y": {
             "color": "#2a3f5f"
            },
            "marker": {
             "line": {
              "color": "#E5ECF6",
              "width": 0.5
             },
             "pattern": {
              "fillmode": "overlay",
              "size": 10,
              "solidity": 0.2
             }
            },
            "type": "bar"
           }
          ],
          "barpolar": [
           {
            "marker": {
             "line": {
              "color": "#E5ECF6",
              "width": 0.5
             },
             "pattern": {
              "fillmode": "overlay",
              "size": 10,
              "solidity": 0.2
             }
            },
            "type": "barpolar"
           }
          ],
          "carpet": [
           {
            "aaxis": {
             "endlinecolor": "#2a3f5f",
             "gridcolor": "white",
             "linecolor": "white",
             "minorgridcolor": "white",
             "startlinecolor": "#2a3f5f"
            },
            "baxis": {
             "endlinecolor": "#2a3f5f",
             "gridcolor": "white",
             "linecolor": "white",
             "minorgridcolor": "white",
             "startlinecolor": "#2a3f5f"
            },
            "type": "carpet"
           }
          ],
          "choropleth": [
           {
            "colorbar": {
             "outlinewidth": 0,
             "ticks": ""
            },
            "type": "choropleth"
           }
          ],
          "contour": [
           {
            "colorbar": {
             "outlinewidth": 0,
             "ticks": ""
            },
            "colorscale": [
             [
              0,
              "#0d0887"
             ],
             [
              0.1111111111111111,
              "#46039f"
             ],
             [
              0.2222222222222222,
              "#7201a8"
             ],
             [
              0.3333333333333333,
              "#9c179e"
             ],
             [
              0.4444444444444444,
              "#bd3786"
             ],
             [
              0.5555555555555556,
              "#d8576b"
             ],
             [
              0.6666666666666666,
              "#ed7953"
             ],
             [
              0.7777777777777778,
              "#fb9f3a"
             ],
             [
              0.8888888888888888,
              "#fdca26"
             ],
             [
              1,
              "#f0f921"
             ]
            ],
            "type": "contour"
           }
          ],
          "contourcarpet": [
           {
            "colorbar": {
             "outlinewidth": 0,
             "ticks": ""
            },
            "type": "contourcarpet"
           }
          ],
          "heatmap": [
           {
            "colorbar": {
             "outlinewidth": 0,
             "ticks": ""
            },
            "colorscale": [
             [
              0,
              "#0d0887"
             ],
             [
              0.1111111111111111,
              "#46039f"
             ],
             [
              0.2222222222222222,
              "#7201a8"
             ],
             [
              0.3333333333333333,
              "#9c179e"
             ],
             [
              0.4444444444444444,
              "#bd3786"
             ],
             [
              0.5555555555555556,
              "#d8576b"
             ],
             [
              0.6666666666666666,
              "#ed7953"
             ],
             [
              0.7777777777777778,
              "#fb9f3a"
             ],
             [
              0.8888888888888888,
              "#fdca26"
             ],
             [
              1,
              "#f0f921"
             ]
            ],
            "type": "heatmap"
           }
          ],
          "heatmapgl": [
           {
            "colorbar": {
             "outlinewidth": 0,
             "ticks": ""
            },
            "colorscale": [
             [
              0,
              "#0d0887"
             ],
             [
              0.1111111111111111,
              "#46039f"
             ],
             [
              0.2222222222222222,
              "#7201a8"
             ],
             [
              0.3333333333333333,
              "#9c179e"
             ],
             [
              0.4444444444444444,
              "#bd3786"
             ],
             [
              0.5555555555555556,
              "#d8576b"
             ],
             [
              0.6666666666666666,
              "#ed7953"
             ],
             [
              0.7777777777777778,
              "#fb9f3a"
             ],
             [
              0.8888888888888888,
              "#fdca26"
             ],
             [
              1,
              "#f0f921"
             ]
            ],
            "type": "heatmapgl"
           }
          ],
          "histogram": [
           {
            "marker": {
             "pattern": {
              "fillmode": "overlay",
              "size": 10,
              "solidity": 0.2
             }
            },
            "type": "histogram"
           }
          ],
          "histogram2d": [
           {
            "colorbar": {
             "outlinewidth": 0,
             "ticks": ""
            },
            "colorscale": [
             [
              0,
              "#0d0887"
             ],
             [
              0.1111111111111111,
              "#46039f"
             ],
             [
              0.2222222222222222,
              "#7201a8"
             ],
             [
              0.3333333333333333,
              "#9c179e"
             ],
             [
              0.4444444444444444,
              "#bd3786"
             ],
             [
              0.5555555555555556,
              "#d8576b"
             ],
             [
              0.6666666666666666,
              "#ed7953"
             ],
             [
              0.7777777777777778,
              "#fb9f3a"
             ],
             [
              0.8888888888888888,
              "#fdca26"
             ],
             [
              1,
              "#f0f921"
             ]
            ],
            "type": "histogram2d"
           }
          ],
          "histogram2dcontour": [
           {
            "colorbar": {
             "outlinewidth": 0,
             "ticks": ""
            },
            "colorscale": [
             [
              0,
              "#0d0887"
             ],
             [
              0.1111111111111111,
              "#46039f"
             ],
             [
              0.2222222222222222,
              "#7201a8"
             ],
             [
              0.3333333333333333,
              "#9c179e"
             ],
             [
              0.4444444444444444,
              "#bd3786"
             ],
             [
              0.5555555555555556,
              "#d8576b"
             ],
             [
              0.6666666666666666,
              "#ed7953"
             ],
             [
              0.7777777777777778,
              "#fb9f3a"
             ],
             [
              0.8888888888888888,
              "#fdca26"
             ],
             [
              1,
              "#f0f921"
             ]
            ],
            "type": "histogram2dcontour"
           }
          ],
          "mesh3d": [
           {
            "colorbar": {
             "outlinewidth": 0,
             "ticks": ""
            },
            "type": "mesh3d"
           }
          ],
          "parcoords": [
           {
            "line": {
             "colorbar": {
              "outlinewidth": 0,
              "ticks": ""
             }
            },
            "type": "parcoords"
           }
          ],
          "pie": [
           {
            "automargin": true,
            "type": "pie"
           }
          ],
          "scatter": [
           {
            "fillpattern": {
             "fillmode": "overlay",
             "size": 10,
             "solidity": 0.2
            },
            "type": "scatter"
           }
          ],
          "scatter3d": [
           {
            "line": {
             "colorbar": {
              "outlinewidth": 0,
              "ticks": ""
             }
            },
            "marker": {
             "colorbar": {
              "outlinewidth": 0,
              "ticks": ""
             }
            },
            "type": "scatter3d"
           }
          ],
          "scattercarpet": [
           {
            "marker": {
             "colorbar": {
              "outlinewidth": 0,
              "ticks": ""
             }
            },
            "type": "scattercarpet"
           }
          ],
          "scattergeo": [
           {
            "marker": {
             "colorbar": {
              "outlinewidth": 0,
              "ticks": ""
             }
            },
            "type": "scattergeo"
           }
          ],
          "scattergl": [
           {
            "marker": {
             "colorbar": {
              "outlinewidth": 0,
              "ticks": ""
             }
            },
            "type": "scattergl"
           }
          ],
          "scattermapbox": [
           {
            "marker": {
             "colorbar": {
              "outlinewidth": 0,
              "ticks": ""
             }
            },
            "type": "scattermapbox"
           }
          ],
          "scatterpolar": [
           {
            "marker": {
             "colorbar": {
              "outlinewidth": 0,
              "ticks": ""
             }
            },
            "type": "scatterpolar"
           }
          ],
          "scatterpolargl": [
           {
            "marker": {
             "colorbar": {
              "outlinewidth": 0,
              "ticks": ""
             }
            },
            "type": "scatterpolargl"
           }
          ],
          "scatterternary": [
           {
            "marker": {
             "colorbar": {
              "outlinewidth": 0,
              "ticks": ""
             }
            },
            "type": "scatterternary"
           }
          ],
          "surface": [
           {
            "colorbar": {
             "outlinewidth": 0,
             "ticks": ""
            },
            "colorscale": [
             [
              0,
              "#0d0887"
             ],
             [
              0.1111111111111111,
              "#46039f"
             ],
             [
              0.2222222222222222,
              "#7201a8"
             ],
             [
              0.3333333333333333,
              "#9c179e"
             ],
             [
              0.4444444444444444,
              "#bd3786"
             ],
             [
              0.5555555555555556,
              "#d8576b"
             ],
             [
              0.6666666666666666,
              "#ed7953"
             ],
             [
              0.7777777777777778,
              "#fb9f3a"
             ],
             [
              0.8888888888888888,
              "#fdca26"
             ],
             [
              1,
              "#f0f921"
             ]
            ],
            "type": "surface"
           }
          ],
          "table": [
           {
            "cells": {
             "fill": {
              "color": "#EBF0F8"
             },
             "line": {
              "color": "white"
             }
            },
            "header": {
             "fill": {
              "color": "#C8D4E3"
             },
             "line": {
              "color": "white"
             }
            },
            "type": "table"
           }
          ]
         },
         "layout": {
          "annotationdefaults": {
           "arrowcolor": "#2a3f5f",
           "arrowhead": 0,
           "arrowwidth": 1
          },
          "autotypenumbers": "strict",
          "coloraxis": {
           "colorbar": {
            "outlinewidth": 0,
            "ticks": ""
           }
          },
          "colorscale": {
           "diverging": [
            [
             0,
             "#8e0152"
            ],
            [
             0.1,
             "#c51b7d"
            ],
            [
             0.2,
             "#de77ae"
            ],
            [
             0.3,
             "#f1b6da"
            ],
            [
             0.4,
             "#fde0ef"
            ],
            [
             0.5,
             "#f7f7f7"
            ],
            [
             0.6,
             "#e6f5d0"
            ],
            [
             0.7,
             "#b8e186"
            ],
            [
             0.8,
             "#7fbc41"
            ],
            [
             0.9,
             "#4d9221"
            ],
            [
             1,
             "#276419"
            ]
           ],
           "sequential": [
            [
             0,
             "#0d0887"
            ],
            [
             0.1111111111111111,
             "#46039f"
            ],
            [
             0.2222222222222222,
             "#7201a8"
            ],
            [
             0.3333333333333333,
             "#9c179e"
            ],
            [
             0.4444444444444444,
             "#bd3786"
            ],
            [
             0.5555555555555556,
             "#d8576b"
            ],
            [
             0.6666666666666666,
             "#ed7953"
            ],
            [
             0.7777777777777778,
             "#fb9f3a"
            ],
            [
             0.8888888888888888,
             "#fdca26"
            ],
            [
             1,
             "#f0f921"
            ]
           ],
           "sequentialminus": [
            [
             0,
             "#0d0887"
            ],
            [
             0.1111111111111111,
             "#46039f"
            ],
            [
             0.2222222222222222,
             "#7201a8"
            ],
            [
             0.3333333333333333,
             "#9c179e"
            ],
            [
             0.4444444444444444,
             "#bd3786"
            ],
            [
             0.5555555555555556,
             "#d8576b"
            ],
            [
             0.6666666666666666,
             "#ed7953"
            ],
            [
             0.7777777777777778,
             "#fb9f3a"
            ],
            [
             0.8888888888888888,
             "#fdca26"
            ],
            [
             1,
             "#f0f921"
            ]
           ]
          },
          "colorway": [
           "#636efa",
           "#EF553B",
           "#00cc96",
           "#ab63fa",
           "#FFA15A",
           "#19d3f3",
           "#FF6692",
           "#B6E880",
           "#FF97FF",
           "#FECB52"
          ],
          "font": {
           "color": "#2a3f5f"
          },
          "geo": {
           "bgcolor": "white",
           "lakecolor": "white",
           "landcolor": "#E5ECF6",
           "showlakes": true,
           "showland": true,
           "subunitcolor": "white"
          },
          "hoverlabel": {
           "align": "left"
          },
          "hovermode": "closest",
          "mapbox": {
           "style": "light"
          },
          "paper_bgcolor": "white",
          "plot_bgcolor": "#E5ECF6",
          "polar": {
           "angularaxis": {
            "gridcolor": "white",
            "linecolor": "white",
            "ticks": ""
           },
           "bgcolor": "#E5ECF6",
           "radialaxis": {
            "gridcolor": "white",
            "linecolor": "white",
            "ticks": ""
           }
          },
          "scene": {
           "xaxis": {
            "backgroundcolor": "#E5ECF6",
            "gridcolor": "white",
            "gridwidth": 2,
            "linecolor": "white",
            "showbackground": true,
            "ticks": "",
            "zerolinecolor": "white"
           },
           "yaxis": {
            "backgroundcolor": "#E5ECF6",
            "gridcolor": "white",
            "gridwidth": 2,
            "linecolor": "white",
            "showbackground": true,
            "ticks": "",
            "zerolinecolor": "white"
           },
           "zaxis": {
            "backgroundcolor": "#E5ECF6",
            "gridcolor": "white",
            "gridwidth": 2,
            "linecolor": "white",
            "showbackground": true,
            "ticks": "",
            "zerolinecolor": "white"
           }
          },
          "shapedefaults": {
           "line": {
            "color": "#2a3f5f"
           }
          },
          "ternary": {
           "aaxis": {
            "gridcolor": "white",
            "linecolor": "white",
            "ticks": ""
           },
           "baxis": {
            "gridcolor": "white",
            "linecolor": "white",
            "ticks": ""
           },
           "bgcolor": "#E5ECF6",
           "caxis": {
            "gridcolor": "white",
            "linecolor": "white",
            "ticks": ""
           }
          },
          "title": {
           "x": 0.05
          },
          "xaxis": {
           "automargin": true,
           "gridcolor": "white",
           "linecolor": "white",
           "ticks": "",
           "title": {
            "standoff": 15
           },
           "zerolinecolor": "white",
           "zerolinewidth": 2
          },
          "yaxis": {
           "automargin": true,
           "gridcolor": "white",
           "linecolor": "white",
           "ticks": "",
           "title": {
            "standoff": 15
           },
           "zerolinecolor": "white",
           "zerolinewidth": 2
          }
         }
        },
        "xaxis": {
         "autorange": true,
         "range": [
          -10,
          10.000000000000002
         ],
         "type": "linear"
        },
        "yaxis": {
         "autorange": true,
         "range": [
          -19.685704965396095,
          5.246616050810321
         ],
         "type": "linear"
        }
       }
      },
      "image/png": "[encoded data removed]",
      "text/html": [
       "<div>                            <div id=\"9b312b25-b5dc-4383-aa97-0d4cbcfc1f02\" class=\"plotly-graph-div\" style=\"height:525px; width:100%;\"></div>            <script type=\"text/javascript\">                require([\"plotly\"], function(Plotly) {                    window.PLOTLYENV=window.PLOTLYENV || {};                                    if (document.getElementById(\"9b312b25-b5dc-4383-aa97-0d4cbcfc1f02\")) {                    Plotly.newPlot(                        \"9b312b25-b5dc-4383-aa97-0d4cbcfc1f02\",                        [{\"mode\":\"lines\",\"name\":\"angled\",\"x\":[2.0,1.7551020408163265,1.510204081632653,1.2653061224489797,1.0204081632653061,0.7755102040816326,0.5306122448979593,0.2857142857142858,0.04081632653061229,-0.204081632653061,-0.44897959183673475,-0.693877551020408,-0.9387755102040813,-1.183673469387755,-1.4285714285714284,-1.6734693877551021,-1.9183673469387754,-2.163265306122449,-2.408163265306122,-2.6530612244897958,-2.8979591836734695,-3.1428571428571423,-3.387755102040816,-3.63265306122449,-3.8775510204081627,-4.122448979591836,-4.36734693877551,-4.612244897959184,-4.857142857142857,-5.1020408163265305,-5.346938775510204,-5.591836734693877,-5.836734693877551,-6.081632653061224,-6.326530612244898,-6.571428571428571,-6.816326530612244,-7.061224489795919,-7.3061224489795915,-7.551020408163264,-7.795918367346939,-8.040816326530612,-8.285714285714285,-8.53061224489796,-8.775510204081632,-9.020408163265305,-9.26530612244898,-9.510204081632653,-9.755102040816325,-10.0],\"y\":[4.0,3.7142857142857144,3.4285714285714284,3.142857142857143,2.857142857142857,2.571428571428571,2.2857142857142856,2.0,1.7142857142857144,1.4285714285714288,1.1428571428571428,0.8571428571428572,0.5714285714285716,0.2857142857142856,0.0,-0.2857142857142865,-0.5714285714285712,-0.8571428571428577,-1.1428571428571423,-1.4285714285714288,-1.7142857142857144,-2.0,-2.2857142857142856,-2.571428571428572,-2.8571428571428568,-3.1428571428571432,-3.428571428571429,-3.7142857142857153,-4.0,-4.2857142857142865,-4.571428571428573,-4.857142857142858,-5.142857142857142,-5.428571428571429,-5.714285714285715,-6.0,-6.285714285714285,-6.571428571428573,-6.857142857142858,-7.142857142857142,-7.428571428571429,-7.714285714285715,-8.0,-8.285714285714286,-8.571428571428571,-8.857142857142856,-9.142857142857144,-9.428571428571429,-9.714285714285714,-10.0],\"type\":\"scatter\"},{\"mode\":\"lines\",\"name\":\"1.599050722232288\",\"x\":[-0.7333237685150378,-0.7260111575952215,-0.7183796641639724,-0.7104292882212917,-0.7021600297671786,-0.6935718888016336,-0.684664865324657,-0.6754389593362489,-0.6658941708364079,-0.6560304998251354,-0.6458479463024305,-0.6353465102682945,-0.6245261917227247,-0.6133869906657243,-0.601928907097292,-0.5901519410174272,-0.5780560924261313,-0.5656413613234026,-0.5529077477092423,-0.5398552515836488,-0.526483872946625,-0.512793611798168,-0.4987844681382798,-0.48445644196695925,-0.4698095332842067,-0.4548437420900222,-0.43955906838440617,-0.4239555121673577,-0.40803307343887685,-0.39179175219896445,-0.3752315484476201,-0.3583524621848442,-0.34115449341063586,-0.3236376421249956,-0.30580190832792287,-0.2876472920194182,-0.269173793199482,-0.25038141186811425,-0.2312701480253141,-0.21184000167108197,-0.19209097280541698,-0.17202306142832047,-0.15163626753979242,-0.13093059113983285,-0.10990603222844042,-0.08856259080561646,-0.06690026687136053,-0.04491906042567262,-0.022618971468552296,2.220446049250313e-16],\"y\":[0.811122270065789,0.7856400440300648,0.760529847591012,0.7357916807486289,0.7114255435029175,0.6874314358538762,0.6638093578015054,0.6405593093458051,0.6176812904867757,0.5951753012244172,0.5730413415587297,0.5512794114897113,0.5298895110173651,0.5088716401416886,0.48822579886268347,0.46795198718034836,0.44805020509468374,0.4285204526056905,0.40936272971336773,0.39057703641771546,0.37216337271873323,0.35412173861642327,0.33645213411078245,0.31915455920181257,0.3022290138895136,0.28567549817388604,0.2694940120549276,0.25368455553264013,0.23824712860702446,0.22318173127807883,0.2084883635458037,0.1941670254101986,0.1802177168712653,0.16664043792900207,0.1534351885834102,0.1406019688344884,0.1281407786822366,0.11605161812665621,0.10433448716774629,0.09298938580550686,0.08201631403993836,0.0714152718710408,0.06118625929881372,0.05132927632325668,0.04184432294437057,0.032731399162155395,0.02399050497661026,0.015621640387736502,0.0076248053955332296,4.440892098500626e-16],\"type\":\"scatter\"},{\"mode\":\"lines\",\"name\":\"18.829763607540407\",\"x\":[2.0,1.744177154298076,1.5058163149221673,1.2849174818722744,1.0814806551483969,0.8955058347505354,0.7269930206786888,0.5759422129328575,0.4423534115130421,0.3262266164192431,0.22756182765145883,0.1463590452096899,0.08261826909393677,0.03633949930419966,0.007522735840477024,-0.003832021297230259,0.0022752278910795898,0.02584448340540435,0.06687574524574513,0.12536901341209994,0.20132428790447188,0.29474156872285784,0.40562085586726093,0.533962149337678,0.6797654491341123,0.843030755256561,1.0237580677050255,1.2219473864795054,1.437598711580001,1.670712043006513,1.9212873807590385,2.1893247248375816,2.4748240752421387,2.777785431972713,3.098208795029299,3.436094164411905,3.7914415401205255,4.16425092215516,4.554522310515813,4.962255705202479,5.38745110621516,5.830108513553858,6.290227927218569,6.7678093472093,7.2628527735260455,7.775358206168804,8.30532564513758,8.852755090432371,9.417646542053177,10.000000000000002],\"y\":[4.0,3.4498393330756465,2.920051006864978,2.4106350213679937,1.9215913765846944,1.4529200725150804,1.0046211091591504,0.5766944865169057,0.16914020458834544,-0.21804173662652904,-0.58485133712772,-0.9312885969152251,-1.2573535159890463,-1.5630460943491808,-1.8483663319956332,-2.1133142289284006,-2.3578897851474814,-2.582093000652878,-2.785923875444591,-2.969382409522618,-3.132468602886961,-3.2751824555376174,-3.39752396747459,-3.499493138697879,-3.581089969207481,-3.6423144590033996,-3.6831666080856325,-3.7036464164541822,-3.7037538841090463,-3.6834890110502236,-3.6428517972777215,-3.581842242791529,-3.5004603475916545,-3.3987061116780932,-3.2765795350508506,-3.1340806177099196,-2.9712093596553046,-2.7879657608870057,-2.584349821405021,-2.360361541209352,-2.1160009203000003,-1.85126795867696,-1.5661626563402393,-1.2606850132898302,-0.9348350295257362,-0.5886127050479599,-0.22201803985649615,0.16494896604864984,0.5722883126674843,1.0000000000000018],\"type\":\"scatter\"},{\"mode\":\"lines\",\"name\":\"deangled\",\"x\":[0.0,-1.3877787807814457e-16,0.0,1.1102230246251565e-16,-2.220446049250313e-16,0.0,2.220446049250313e-16,-2.220446049250313e-16,-4.440892098500626e-16,-2.220446049250313e-16,-2.220446049250313e-16,0.0,0.0,0.0,-4.440892098500626e-16,4.440892098500626e-16,-8.881784197001252e-16,-4.440892098500626e-16,-4.440892098500626e-16,0.0,-4.440892098500626e-16,0.0,0.0,-8.881784197001252e-16,0.0,0.0,0.0,0.0,-8.881784197001252e-16,0.0,8.881784197001252e-16,0.0,-1.7763568394002505e-15,0.0,-8.881784197001252e-16,-8.881784197001252e-16,-8.881784197001252e-16,0.0,0.0,-8.881784197001252e-16,-8.881784197001252e-16,0.0,0.0,-8.881784197001252e-16,0.0,-1.7763568394002505e-15,-1.7763568394002505e-15,0.0,0.0,0.0],\"y\":[0.0,-0.3763079370323627,-0.7526158740647257,-1.1289238110970883,-1.505231748129451,-1.881539685161814,-2.2578476221941766,-2.6341555592265395,-3.010463496258902,-3.3867714332912646,-3.763079370323628,-4.139387307355991,-4.515695244388353,-4.892003181420716,-5.268311118453079,-5.6446190554854425,-6.020926992517804,-6.397234929550168,-6.773542866582529,-7.149850803614893,-7.526158740647256,-7.902466677679618,-8.278774614711981,-8.655082551744345,-9.031390488776706,-9.40769842580907,-9.784006362841431,-10.160314299873797,-10.536622236906158,-10.91293017393852,-11.289238110970885,-11.665546048003247,-12.041853985035608,-12.41816192206797,-12.794469859100335,-13.170777796132697,-13.547085733165058,-13.923393670197424,-14.299701607229785,-14.676009544262147,-15.052317481294512,-15.428625418326874,-15.804933355359235,-16.181241292391597,-16.557549229423962,-16.93385716645632,-17.31016510348869,-17.68647304052105,-18.062780977553412,-18.439088914585774],\"type\":\"scatter\"},{\"mode\":\"lines\",\"name\":\"1.599050722232288\",\"x\":[0.0,0.022135761001903686,0.04427152200380737,0.06640728300571105,0.08854304400761474,0.11067880500951843,0.1328145660114221,0.1549503270133258,0.1770860880152295,0.19922184901713316,0.22135761001903687,0.24349337102094054,0.2656291320228442,0.2877648930247479,0.3099006540266516,0.3320364150285553,0.354172176030459,0.37630793703236265,0.3984436980342663,0.42057945903617006,0.44271522003807373,0.4648509810399774,0.4869867420418811,0.5091225030437848,0.5312582640456884,0.5533940250475922,0.5755297860494958,0.5976655470513995,0.6198013080533032,0.6419370690552069,0.6640728300571106,0.6862085910590142,0.708344352060918,0.7304801130628217,0.7526158740647253,0.774751635066629,0.7968873960685326,0.8190231570704364,0.8411589180723401,0.8632946790742437,0.8854304400761475,0.9075662010780511,0.9297019620799548,0.9518377230818585,0.9739734840837622,0.9961092450856659,1.0182450060875696,1.0403807670894731,1.0625165280913769,1.0846522890932806],\"y\":[-4.199999999999955,-4.214588564256487,-4.228687136597885,-4.24229571702415,-4.255414305535281,-4.2680429021312785,-4.280181506812143,-4.291830119577875,-4.302988740428472,-4.313657369363937,-4.323836006384267,-4.333524651489466,-4.342723304679529,-4.35143196595446,-4.3596506353142574,-4.3673793127589216,-4.3746179982884525,-4.3813666919028496,-4.3876253936021135,-4.393394103386243,-4.398672821255241,-4.403461547209104,-4.4077602812478345,-4.411569023371431,-4.414887773579895,-4.417716531873224,-4.420055298251421,-4.421904072714485,-4.423262855262414,-4.42413164589521,-4.424510444612873,-4.424399251415403,-4.423798066302799,-4.422706889275062,-4.421125720332191,-4.419054559474187,-4.41649340670105,-4.413442262012779,-4.409901125409375,-4.4058699968908375,-4.401348876457166,-4.396337764108361,-4.390836659844424,-4.384845563665353,-4.378364475571148,-4.37139339556181,-4.363932323637339,-4.355981259797734,-4.347540204042996,-4.338609156373124],\"type\":\"scatter\"},{\"mode\":\"lines\",\"name\":\"18.829763607540407\",\"x\":[0.0,0.1638046314140873,0.3276092628281746,0.4914138942422619,0.6552185256563492,0.8190231570704365,0.9828277884845238,1.146632419898611,1.3104370513126984,1.4742416827267857,1.638046314140873,1.8018509455549603,1.9656555769690476,2.1294602083831347,2.293264839797222,2.4570694712113097,2.6208741026253968,2.784678734039484,2.9484833654535714,3.112287996867659,3.276092628281746,3.439897259695833,3.6037018911099206,3.767506522524008,3.931311153938095,4.095115785352182,4.258920416766269,4.422725048180357,4.586529679594444,4.750334311008531,4.914138942422619,5.0779435738367065,5.2417482052507935,5.405552836664881,5.569357468078968,5.733162099493056,5.896966730907143,6.06077136232123,6.224575993735318,6.388380625149405,6.552185256563492,6.715989887977579,6.879794519391666,7.043599150805754,7.207403782219841,7.371208413633928,7.535013045048016,7.698817676462103,7.86262230787619,8.026426939290278],\"y\":[0.0,-0.58420041983978,-1.1415688824068548,-1.6721053877012249,-2.17580993572289,-2.6526825264718497,-3.1027231599481047,-3.525931836151655,-3.9223085550825,-4.29185331674064,-4.634566121126075,-4.950446968238805,-5.23949585807883,-5.501712790646149,-5.737097765940765,-5.945650783962677,-6.12737184471188,-6.28226094818838,-6.410318094392175,-6.511543283323266,-6.5859365149816504,-6.633497789367331,-6.654227106480305,-6.648124466320576,-6.61518986888814,-6.555423314183001,-6.468824802205155,-6.3553943329546065,-6.215131906431351,-6.04803752263539,-5.8541111815667275,-5.633352883225356,-5.385762627611282,-5.1113404147245,-4.810086244565019,-4.482000117132827,-4.127082032427932,-3.7453319904503317,-3.3367499912000262,-2.9013360346770156,-2.4390901208813034,-1.9500122498128825,-1.43410242147176,-0.8913606358579287,-0.3217868929713923,0.2746188071878457,0.8978564646197924,1.5479260793244407,2.2248276513017977,2.92856118055186],\"type\":\"scatter\"}],                        {\"template\":{\"data\":{\"barpolar\":[{\"marker\":{\"line\":{\"color\":\"#E5ECF6\",\"width\":0.5},\"pattern\":{\"fillmode\":\"overlay\",\"size\":10,\"solidity\":0.2}},\"type\":\"barpolar\"}],\"bar\":[{\"error_x\":{\"color\":\"#2a3f5f\"},\"error_y\":{\"color\":\"#2a3f5f\"},\"marker\":{\"line\":{\"color\":\"#E5ECF6\",\"width\":0.5},\"pattern\":{\"fillmode\":\"overlay\",\"size\":10,\"solidity\":0.2}},\"type\":\"bar\"}],\"carpet\":[{\"aaxis\":{\"endlinecolor\":\"#2a3f5f\",\"gridcolor\":\"white\",\"linecolor\":\"white\",\"minorgridcolor\":\"white\",\"startlinecolor\":\"#2a3f5f\"},\"baxis\":{\"endlinecolor\":\"#2a3f5f\",\"gridcolor\":\"white\",\"linecolor\":\"white\",\"minorgridcolor\":\"white\",\"startlinecolor\":\"#2a3f5f\"},\"type\":\"carpet\"}],\"choropleth\":[{\"colorbar\":{\"outlinewidth\":0,\"ticks\":\"\"},\"type\":\"choropleth\"}],\"contourcarpet\":[{\"colorbar\":{\"outlinewidth\":0,\"ticks\":\"\"},\"type\":\"contourcarpet\"}],\"contour\":[{\"colorbar\":{\"outlinewidth\":0,\"ticks\":\"\"},\"colorscale\":[[0.0,\"#0d0887\"],[0.1111111111111111,\"#46039f\"],[0.2222222222222222,\"#7201a8\"],[0.3333333333333333,\"#9c179e\"],[0.4444444444444444,\"#bd3786\"],[0.5555555555555556,\"#d8576b\"],[0.6666666666666666,\"#ed7953\"],[0.7777777777777778,\"#fb9f3a\"],[0.8888888888888888,\"#fdca26\"],[1.0,\"#f0f921\"]],\"type\":\"contour\"}],\"heatmapgl\":[{\"colorbar\":{\"outlinewidth\":0,\"ticks\":\"\"},\"colorscale\":[[0.0,\"#0d0887\"],[0.1111111111111111,\"#46039f\"],[0.2222222222222222,\"#7201a8\"],[0.3333333333333333,\"#9c179e\"],[0.4444444444444444,\"#bd3786\"],[0.5555555555555556,\"#d8576b\"],[0.6666666666666666,\"#ed7953\"],[0.7777777777777778,\"#fb9f3a\"],[0.8888888888888888,\"#fdca26\"],[1.0,\"#f0f921\"]],\"type\":\"heatmapgl\"}],\"heatmap\":[{\"colorbar\":{\"outlinewidth\":0,\"ticks\":\"\"},\"colorscale\":[[0.0,\"#0d0887\"],[0.1111111111111111,\"#46039f\"],[0.2222222222222222,\"#7201a8\"],[0.3333333333333333,\"#9c179e\"],[0.4444444444444444,\"#bd3786\"],[0.5555555555555556,\"#d8576b\"],[0.6666666666666666,\"#ed7953\"],[0.7777777777777778,\"#fb9f3a\"],[0.8888888888888888,\"#fdca26\"],[1.0,\"#f0f921\"]],\"type\":\"heatmap\"}],\"histogram2dcontour\":[{\"colorbar\":{\"outlinewidth\":0,\"ticks\":\"\"},\"colorscale\":[[0.0,\"#0d0887\"],[0.1111111111111111,\"#46039f\"],[0.2222222222222222,\"#7201a8\"],[0.3333333333333333,\"#9c179e\"],[0.4444444444444444,\"#bd3786\"],[0.5555555555555556,\"#d8576b\"],[0.6666666666666666,\"#ed7953\"],[0.7777777777777778,\"#fb9f3a\"],[0.8888888888888888,\"#fdca26\"],[1.0,\"#f0f921\"]],\"type\":\"histogram2dcontour\"}],\"histogram2d\":[{\"colorbar\":{\"outlinewidth\":0,\"ticks\":\"\"},\"colorscale\":[[0.0,\"#0d0887\"],[0.1111111111111111,\"#46039f\"],[0.2222222222222222,\"#7201a8\"],[0.3333333333333333,\"#9c179e\"],[0.4444444444444444,\"#bd3786\"],[0.5555555555555556,\"#d8576b\"],[0.6666666666666666,\"#ed7953\"],[0.7777777777777778,\"#fb9f3a\"],[0.8888888888888888,\"#fdca26\"],[1.0,\"#f0f921\"]],\"type\":\"histogram2d\"}],\"histogram\":[{\"marker\":{\"pattern\":{\"fillmode\":\"overlay\",\"size\":10,\"solidity\":0.2}},\"type\":\"histogram\"}],\"mesh3d\":[{\"colorbar\":{\"outlinewidth\":0,\"ticks\":\"\"},\"type\":\"mesh3d\"}],\"parcoords\":[{\"line\":{\"colorbar\":{\"outlinewidth\":0,\"ticks\":\"\"}},\"type\":\"parcoords\"}],\"pie\":[{\"automargin\":true,\"type\":\"pie\"}],\"scatter3d\":[{\"line\":{\"colorbar\":{\"outlinewidth\":0,\"ticks\":\"\"}},\"marker\":{\"colorbar\":{\"outlinewidth\":0,\"ticks\":\"\"}},\"type\":\"scatter3d\"}],\"scattercarpet\":[{\"marker\":{\"colorbar\":{\"outlinewidth\":0,\"ticks\":\"\"}},\"type\":\"scattercarpet\"}],\"scattergeo\":[{\"marker\":{\"colorbar\":{\"outlinewidth\":0,\"ticks\":\"\"}},\"type\":\"scattergeo\"}],\"scattergl\":[{\"marker\":{\"colorbar\":{\"outlinewidth\":0,\"ticks\":\"\"}},\"type\":\"scattergl\"}],\"scattermapbox\":[{\"marker\":{\"colorbar\":{\"outlinewidth\":0,\"ticks\":\"\"}},\"type\":\"scattermapbox\"}],\"scatterpolargl\":[{\"marker\":{\"colorbar\":{\"outlinewidth\":0,\"ticks\":\"\"}},\"type\":\"scatterpolargl\"}],\"scatterpolar\":[{\"marker\":{\"colorbar\":{\"outlinewidth\":0,\"ticks\":\"\"}},\"type\":\"scatterpolar\"}],\"scatter\":[{\"fillpattern\":{\"fillmode\":\"overlay\",\"size\":10,\"solidity\":0.2},\"type\":\"scatter\"}],\"scatterternary\":[{\"marker\":{\"colorbar\":{\"outlinewidth\":0,\"ticks\":\"\"}},\"type\":\"scatterternary\"}],\"surface\":[{\"colorbar\":{\"outlinewidth\":0,\"ticks\":\"\"},\"colorscale\":[[0.0,\"#0d0887\"],[0.1111111111111111,\"#46039f\"],[0.2222222222222222,\"#7201a8\"],[0.3333333333333333,\"#9c179e\"],[0.4444444444444444,\"#bd3786\"],[0.5555555555555556,\"#d8576b\"],[0.6666666666666666,\"#ed7953\"],[0.7777777777777778,\"#fb9f3a\"],[0.8888888888888888,\"#fdca26\"],[1.0,\"#f0f921\"]],\"type\":\"surface\"}],\"table\":[{\"cells\":{\"fill\":{\"color\":\"#EBF0F8\"},\"line\":{\"color\":\"white\"}},\"header\":{\"fill\":{\"color\":\"#C8D4E3\"},\"line\":{\"color\":\"white\"}},\"type\":\"table\"}]},\"layout\":{\"annotationdefaults\":{\"arrowcolor\":\"#2a3f5f\",\"arrowhead\":0,\"arrowwidth\":1},\"autotypenumbers\":\"strict\",\"coloraxis\":{\"colorbar\":{\"outlinewidth\":0,\"ticks\":\"\"}},\"colorscale\":{\"diverging\":[[0,\"#8e0152\"],[0.1,\"#c51b7d\"],[0.2,\"#de77ae\"],[0.3,\"#f1b6da\"],[0.4,\"#fde0ef\"],[0.5,\"#f7f7f7\"],[0.6,\"#e6f5d0\"],[0.7,\"#b8e186\"],[0.8,\"#7fbc41\"],[0.9,\"#4d9221\"],[1,\"#276419\"]],\"sequential\":[[0.0,\"#0d0887\"],[0.1111111111111111,\"#46039f\"],[0.2222222222222222,\"#7201a8\"],[0.3333333333333333,\"#9c179e\"],[0.4444444444444444,\"#bd3786\"],[0.5555555555555556,\"#d8576b\"],[0.6666666666666666,\"#ed7953\"],[0.7777777777777778,\"#fb9f3a\"],[0.8888888888888888,\"#fdca26\"],[1.0,\"#f0f921\"]],\"sequentialminus\":[[0.0,\"#0d0887\"],[0.1111111111111111,\"#46039f\"],[0.2222222222222222,\"#7201a8\"],[0.3333333333333333,\"#9c179e\"],[0.4444444444444444,\"#bd3786\"],[0.5555555555555556,\"#d8576b\"],[0.6666666666666666,\"#ed7953\"],[0.7777777777777778,\"#fb9f3a\"],[0.8888888888888888,\"#fdca26\"],[1.0,\"#f0f921\"]]},\"colorway\":[\"#636efa\",\"#EF553B\",\"#00cc96\",\"#ab63fa\",\"#FFA15A\",\"#19d3f3\",\"#FF6692\",\"#B6E880\",\"#FF97FF\",\"#FECB52\"],\"font\":{\"color\":\"#2a3f5f\"},\"geo\":{\"bgcolor\":\"white\",\"lakecolor\":\"white\",\"landcolor\":\"#E5ECF6\",\"showlakes\":true,\"showland\":true,\"subunitcolor\":\"white\"},\"hoverlabel\":{\"align\":\"left\"},\"hovermode\":\"closest\",\"mapbox\":{\"style\":\"light\"},\"paper_bgcolor\":\"white\",\"plot_bgcolor\":\"#E5ECF6\",\"polar\":{\"angularaxis\":{\"gridcolor\":\"white\",\"linecolor\":\"white\",\"ticks\":\"\"},\"bgcolor\":\"#E5ECF6\",\"radialaxis\":{\"gridcolor\":\"white\",\"linecolor\":\"white\",\"ticks\":\"\"}},\"scene\":{\"xaxis\":{\"backgroundcolor\":\"#E5ECF6\",\"gridcolor\":\"white\",\"gridwidth\":2,\"linecolor\":\"white\",\"showbackground\":true,\"ticks\":\"\",\"zerolinecolor\":\"white\"},\"yaxis\":{\"backgroundcolor\":\"#E5ECF6\",\"gridcolor\":\"white\",\"gridwidth\":2,\"linecolor\":\"white\",\"showbackground\":true,\"ticks\":\"\",\"zerolinecolor\":\"white\"},\"zaxis\":{\"backgroundcolor\":\"#E5ECF6\",\"gridcolor\":\"white\",\"gridwidth\":2,\"linecolor\":\"white\",\"showbackground\":true,\"ticks\":\"\",\"zerolinecolor\":\"white\"}},\"shapedefaults\":{\"line\":{\"color\":\"#2a3f5f\"}},\"ternary\":{\"aaxis\":{\"gridcolor\":\"white\",\"linecolor\":\"white\",\"ticks\":\"\"},\"baxis\":{\"gridcolor\":\"white\",\"linecolor\":\"white\",\"ticks\":\"\"},\"bgcolor\":\"#E5ECF6\",\"caxis\":{\"gridcolor\":\"white\",\"linecolor\":\"white\",\"ticks\":\"\"}},\"title\":{\"x\":0.05},\"xaxis\":{\"automargin\":true,\"gridcolor\":\"white\",\"linecolor\":\"white\",\"ticks\":\"\",\"title\":{\"standoff\":15},\"zerolinecolor\":\"white\",\"zerolinewidth\":2},\"yaxis\":{\"automargin\":true,\"gridcolor\":\"white\",\"linecolor\":\"white\",\"ticks\":\"\",\"title\":{\"standoff\":15},\"zerolinecolor\":\"white\",\"zerolinewidth\":2}}}},                        {\"responsive\": true}                    ).then(function(){\n",
       "                            \n",
       "var gd = document.getElementById('9b312b25-b5dc-4383-aa97-0d4cbcfc1f02');\n",
       "var x = new MutationObserver(function (mutations, observer) {{\n",
       "        var display = window.getComputedStyle(gd).display;\n",
       "        if (!display || display === 'none') {{\n",
       "            console.log([gd, 'removed!']);\n",
       "            Plotly.purge(gd);\n",
       "            observer.disconnect();\n",
       "        }}\n",
       "}});\n",
       "\n",
       "// Listen for the removal of the full notebook cells\n",
       "var notebookContainer = gd.closest('#notebook-container');\n",
       "if (notebookContainer) {{\n",
       "    x.observe(notebookContainer, {childList: true});\n",
       "}}\n",
       "\n",
       "// Listen for the clearing of the current output cell\n",
       "var outputEl = gd.closest('.output');\n",
       "if (outputEl) {{\n",
       "    x.observe(outputEl, {childList: true});\n",
       "}}\n",
       "\n",
       "                        })                };                });            </script>        </div>"
      ]
     },
     "metadata": {},
     "output_type": "display_data"
    }
   ],
   "source": [
    "a = float(input(\"enter a: \"))\n",
    "b = float(input(\"enter b: \") )\n",
    "c = float(input(\"enter c: \"))\n",
    "d = float(input(\"enter d: \"))\n",
    "G = float(input(\"enter G: \"))\n",
    "al = float(input(\"enter alpha value: \"))\n",
    "main = mainFind(a,b,c,d)\n",
    "theta = main[2]\n",
    "AngledPlot = [main[0]]\n",
    "deAngledPlot = [main[1]]\n",
    "tmax = main[3]\n",
    "numPoints = int(input(\"enter the number of points you would like to do: \"))\n",
    "point=1\n",
    "listOfTs=[[\"lenght\",\"xt\",\"yt\",\"t\"]]\n",
    "RelInfo = [[\"p,q\"],\"length\",[\"txy\"]]\n",
    "while point < (numPoints+1):\n",
    "    p = float(input(\"enter p value for point: \" +str(point)))\n",
    "    q = float(input(\"endter q value for point: \" + str(point)))\n",
    "    ArrayDAC = deAngleCurve(G,al,p,q,theta,a,b) #returns length, txy, dplot, raplot\n",
    "    info= [[p,q], ArrayDAC[0], ArrayDAC[1]]\n",
    "    RelInfo.append(info)\n",
    "    deAngledPlot.append(ArrayDAC[2])\n",
    "    AngledPlot.append(ArrayDAC[3])\n",
    "    point = point +1\n",
    "print(RelInfo)\n",
    "iplot(AngledPlot)\n",
    "iplot(deAngledPlot)\n",
    "iplot(AngledPlot +deAngledPlot)"
   ]
  },
  {
   "cell_type": "code",
   "execution_count": null,
   "id": "28eb1b06-70b0-4f9e-aacb-6c38a5528b9b",
   "metadata": {},
   "outputs": [],
   "source": []
  },
  {
   "cell_type": "code",
   "execution_count": null,
   "id": "26ae7b13-8425-4089-8704-d9b93583cab6",
   "metadata": {},
   "outputs": [],
   "source": []
  },
  {
   "cell_type": "code",
   "execution_count": null,
   "id": "3c3f4c5c-fca9-40dd-977d-7bc89940a805",
   "metadata": {},
   "outputs": [],
   "source": []
  }
 ],
 "metadata": {
  "kernelspec": {
   "display_name": "Python 3 (ipykernel)",
   "language": "python",
   "name": "python3"
  },
  "language_info": {
   "codemirror_mode": {
    "name": "ipython",
    "version": 3
   },
   "file_extension": ".py",
   "mimetype": "text/x-python",
   "name": "python",
   "nbconvert_exporter": "python",
   "pygments_lexer": "ipython3",
   "version": "3.10.9"
  }
 },
 "nbformat": 4,
 "nbformat_minor": 5
}
