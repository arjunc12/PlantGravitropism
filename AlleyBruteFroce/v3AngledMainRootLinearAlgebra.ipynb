{
 "cells": [
  {
   "cell_type": "code",
   "execution_count": 112,
   "id": "8defaecb-47ee-44f6-8300-2549a5fb73d4",
   "metadata": {},
   "outputs": [],
   "source": [
    "import matplotlib.pyplot as plt\n",
    "import numpy as np\n",
    "import pylab\n",
    "import scipy\n",
    "import plotly\n",
    "from plotly import graph_objs as go\n",
    "from plotly.offline import iplot, plot, init_notebook_mode"
   ]
  },
  {
   "cell_type": "code",
   "execution_count": 113,
   "id": "b4f83ddb-384d-41a5-a70b-732d42dd46e4",
   "metadata": {},
   "outputs": [],
   "source": [
    "def findTheta (a,b,c,d):\n",
    "    theta = np.arctan((np.absolute(a-c))/(np.absolute(b-d)))\n",
    "    m = (b-d)/(a-c)\n",
    "    if m > 0:\n",
    "        theta =-theta\n",
    "    return theta"
   ]
  },
  {
   "cell_type": "code",
   "execution_count": 114,
   "id": "af2958aa-4cfc-4a2d-9a85-68581febc49d",
   "metadata": {},
   "outputs": [],
   "source": [
    "def rotateLine(xs,ys,theta,a,b):\n",
    "    nx=[]\n",
    "    ny=[]\n",
    "    R = [[np.cos(theta), -np.sin(theta)],[np.sin(theta), np.cos(theta)]]\n",
    "    for i in range(0,len(xs)):\n",
    "        A =[xs[i]-a,ys[i]-b]\n",
    "        xy=np.array(np.matmul(A,R))\n",
    "        nx.append(xy[0])\n",
    "        ny.append(xy[1])\n",
    "    return(nx, ny)"
   ]
  },
  {
   "cell_type": "code",
   "execution_count": 115,
   "id": "b953c4c3-5726-4dba-9413-1bd8813e2ad0",
   "metadata": {},
   "outputs": [],
   "source": [
    "def mainRootArrays(a,b,c,d):\n",
    "    xs = np.linspace(a,c)\n",
    "    m=(b-d)/(a-c)\n",
    "    ys= m*(xs-a)+b\n",
    "    return(xs,ys)"
   ]
  },
  {
   "cell_type": "code",
   "execution_count": 116,
   "id": "0760757c-cb72-44bb-b2f7-b7eb8de08de3",
   "metadata": {},
   "outputs": [],
   "source": [
    "def findBest(Tmax,G,p,q,a):\n",
    "    t=0\n",
    "    bestLength= 1000000000000.0\n",
    "    bestT = t\n",
    "    while t >= Tmax:\n",
    "        b = (q - G * (p**2) - t)/p\n",
    "        if p>0:\n",
    "            x =np.linspace(0, p, num=50)\n",
    "        elif p < 0:\n",
    "            x =np.linspace(p, 0, num=50)\n",
    "        lot = np.sqrt(1+(2*G*x + ((q-G*(p**2)-t)/p))**2)\n",
    "        y= a*(lot) +(1-a)*(lot - t)\n",
    "        length = scipy.integrate.trapezoid(y,x)\n",
    "        if length < bestLength:\n",
    "            #ploting(Tmax,p,q,bestT,G) #comparing possible lines\n",
    "            bestLength = length\n",
    "            bestT = t\n",
    "        t = t - 0.01 #last \n",
    "    #ploting(Tmax,p,q,bestT,G)\n",
    "    #print(\"length: \" + str(bestLength) +\" t= \" + str(bestT))\n",
    "    return(bestLength,bestT)"
   ]
  },
  {
   "cell_type": "code",
   "execution_count": 117,
   "id": "bb3db6a3-8ae0-488c-8c63-50543710c289",
   "metadata": {},
   "outputs": [],
   "source": [
    "def reAngle(xs, ys, theata, a,b):\n",
    "    nx =[]\n",
    "    ny=[]\n",
    "    R = [[np.cos(theta), -np.sin(theta)],[np.sin(theta), np.cos(theta)]]\n",
    "    inR = np.linalg.inv(R)\n",
    "    ab= [a,b]\n",
    "    for i in range(0, len(xs)):\n",
    "        Ap = [xs[i],ys[i]]\n",
    "        xy=np.array(np.add(np.matmul(Ap,inR),ab))\n",
    "        nx.append(xy[0])\n",
    "        ny.append(xy[1])\n",
    "    return(nx, ny)"
   ]
  },
  {
   "cell_type": "code",
   "execution_count": 118,
   "id": "e0e84750-bc96-4222-b584-03f536fc4340",
   "metadata": {},
   "outputs": [],
   "source": [
    "def plotDeAngle (tmax,G,p,q,t):\n",
    "    x = np.linspace(0,p)\n",
    "    if p <0:\n",
    "        x = np.linspace(p,0)\n",
    "    b=(q - G*(p**2) -t)/p\n",
    "    y=G * x**2 + b*x + t\n",
    "    return (x,y)"
   ]
  },
  {
   "cell_type": "code",
   "execution_count": 119,
   "id": "eae34f48-05f3-44dd-86fc-b9a4ecaff1f9",
   "metadata": {},
   "outputs": [],
   "source": [
    "def mainFind(a,b,c,d):\n",
    "    xy = mainRootArrays(a,b,c,d)\n",
    "    theta = findTheta(a,b,c,d)\n",
    "    nxy = rotateLine(xy[0],xy[1],theta,a,b)\n",
    "    aMain = go.Scatter(x = xy[0], y= xy[1], mode = 'lines', name = \"angled\")\n",
    "    dMain = go.Scatter(x= nxy[0], y = nxy[1], mode = 'lines', name = \"deangled\")\n",
    "    tmax = rotateLine([c],[d], theta, a,b)\n",
    "    tmax = tmax[1][0]\n",
    "    return (aMain,dMain, theta,tmax)"
   ]
  },
  {
   "cell_type": "code",
   "execution_count": 120,
   "id": "e0dd6fbd-109a-4c14-9d7e-4ef393abdc68",
   "metadata": {},
   "outputs": [],
   "source": [
    "def deAngleCurve(G,al,p,q,theta,a,b):\n",
    "    pq = rotateLine([p],[q], theta, a,b)\n",
    "    pn = pq[0][0]\n",
    "    qn = pq[1][0]\n",
    "    best = findBest(tmax, G,pn,qn,al) #returns bestLength and bestT\n",
    "    dPlotA = plotDeAngle(tmax, G, pn ,qn,best[1])\n",
    "    dPlot = go.Scatter(x = dPlotA[0], y = dPlotA[1], mode= 'lines' , name = str(best[0]))\n",
    "    raPlotA = reAngle(dPlotA[0], dPlotA[1],theta,a,b)\n",
    "    raPlot = go.Scatter(x = raPlotA[0], y = raPlotA[1], mode = 'lines', name = str(best[0]))\n",
    "    txy = reAngle([0],[best[1]], theta,a,b)\n",
    "    return(best[0], txy, dPlot,raPlot)"
   ]
  },
  {
   "cell_type": "code",
   "execution_count": 121,
   "id": "f56e9dbc-3197-42a8-9ff0-fe1e1423c97d",
   "metadata": {},
   "outputs": [
    {
     "name": "stdin",
     "output_type": "stream",
     "text": [
      "enter a:  32\n",
      "enter b:  17\n",
      "enter c:  9\n",
      "enter d:  12\n",
      "enter G:  0.75\n",
      "enter alpha value:  0.3\n",
      "enter the number of points you would like to do:  1\n",
      "enter p value for point: 1 15\n",
      "endter q value for point: 1 11\n"
     ]
    },
    {
     "name": "stdout",
     "output_type": "stream",
     "text": [
      "[['p,q'], 'length', ['txy'], [[15.0, 11.0], 18.02990040562894, ([32.0], [17.0])]]\n"
     ]
    },
    {
     "data": {
      "application/vnd.plotly.v1+json": {
       "config": {
        "linkText": "Export to plot.ly",
        "plotlyServerURL": "https://plot.ly",
        "showLink": false
       },
       "data": [
        {
         "mode": "lines",
         "name": "angled",
         "type": "scatter",
         "x": [
          32,
          31.53061224489796,
          31.06122448979592,
          30.591836734693878,
          30.122448979591837,
          29.653061224489797,
          29.183673469387756,
          28.714285714285715,
          28.244897959183675,
          27.775510204081634,
          27.306122448979593,
          26.836734693877553,
          26.367346938775512,
          25.89795918367347,
          25.428571428571427,
          24.959183673469386,
          24.489795918367346,
          24.020408163265305,
          23.551020408163264,
          23.081632653061224,
          22.612244897959183,
          22.142857142857142,
          21.6734693877551,
          21.20408163265306,
          20.73469387755102,
          20.26530612244898,
          19.79591836734694,
          19.326530612244895,
          18.857142857142854,
          18.387755102040813,
          17.918367346938773,
          17.448979591836732,
          16.97959183673469,
          16.51020408163265,
          16.04081632653061,
          15.57142857142857,
          15.102040816326529,
          14.632653061224488,
          14.163265306122447,
          13.693877551020407,
          13.224489795918366,
          12.755102040816325,
          12.285714285714285,
          11.816326530612244,
          11.346938775510203,
          10.877551020408163,
          10.408163265306122,
          9.938775510204081,
          9.46938775510204,
          9
         ],
         "y": [
          17,
          16.897959183673468,
          16.79591836734694,
          16.693877551020407,
          16.591836734693878,
          16.489795918367346,
          16.387755102040817,
          16.285714285714285,
          16.183673469387756,
          16.081632653061224,
          15.979591836734695,
          15.877551020408163,
          15.775510204081634,
          15.673469387755102,
          15.571428571428571,
          15.46938775510204,
          15.36734693877551,
          15.26530612244898,
          15.16326530612245,
          15.061224489795919,
          14.959183673469388,
          14.857142857142858,
          14.755102040816327,
          14.653061224489797,
          14.551020408163264,
          14.448979591836736,
          14.346938775510203,
          14.244897959183673,
          14.142857142857142,
          14.040816326530612,
          13.938775510204081,
          13.83673469387755,
          13.73469387755102,
          13.63265306122449,
          13.53061224489796,
          13.428571428571429,
          13.326530612244898,
          13.224489795918366,
          13.122448979591837,
          13.020408163265305,
          12.918367346938776,
          12.816326530612244,
          12.714285714285715,
          12.612244897959183,
          12.510204081632654,
          12.408163265306122,
          12.306122448979592,
          12.204081632653061,
          12.10204081632653,
          12
         ]
        },
        {
         "mode": "lines",
         "name": "18.02990040562894",
         "type": "scatter",
         "x": [
          32,
          31.57877209509175,
          31.160639570575086,
          30.745602426450002,
          30.333660662716508,
          29.924814279374598,
          29.519063276424276,
          29.116407653865537,
          28.71684741169838,
          28.32038254992281,
          27.92701306853883,
          27.536738967546434,
          27.14956024694562,
          26.765476906736392,
          26.38448894691875,
          26.006596367492694,
          25.631799168458222,
          25.260097349815336,
          24.891490911564034,
          24.52597985370432,
          24.16356417623619,
          23.804243879159642,
          23.448018962474684,
          23.094889426181307,
          22.744855270279515,
          22.397916494769312,
          22.054073099650697,
          21.713325084923664,
          21.375672450588212,
          21.04111519664435,
          20.709653323092077,
          20.381286829931383,
          20.056015717162275,
          19.73383998478475,
          19.414759632798813,
          19.098774661204466,
          18.785885070001697,
          18.476090859190514,
          18.169392028770922,
          17.865788578742908,
          17.565280509106486,
          17.267867819861642,
          16.97355051100839,
          16.682328582546724,
          16.394202034476642,
          16.109170866798138,
          15.82723507951123,
          15.548394672615895,
          15.272649646112153,
          15
         ],
         "y": [
          17,
          16.861401209669456,
          16.723475328119694,
          16.58622235535071,
          16.449642291362505,
          16.31373513615508,
          16.178500889728436,
          16.04393955208257,
          15.910051123217483,
          15.776835603133176,
          15.644292991829648,
          15.5124232893069,
          15.381226495564931,
          15.25070261060374,
          15.12085163442333,
          14.9916735670237,
          14.86316840840485,
          14.735336158566776,
          14.608176817509484,
          14.481690385232971,
          14.355876861737237,
          14.230736247022282,
          14.106268541088108,
          13.982473743934712,
          13.859351855562096,
          13.736902875970259,
          13.615126805159202,
          13.494023643128925,
          13.373593389879424,
          13.253836045410706,
          13.134751609722766,
          13.016340082815606,
          12.898601464689225,
          12.781535755343624,
          12.665142954778801,
          12.549423062994759,
          12.434376079991496,
          12.320002005769012,
          12.206300840327309,
          12.093272583666383,
          11.980917235786237,
          11.869234796686872,
          11.758225266368283,
          11.647888644830477,
          11.53822493207345,
          11.4292341280972,
          11.32091623290173,
          11.21327124648704,
          11.10629916885313,
          11
         ]
        }
       ],
       "layout": {
        "autosize": true,
        "template": {
         "data": {
          "bar": [
           {
            "error_x": {
             "color": "#2a3f5f"
            },
            "error_y": {
             "color": "#2a3f5f"
            },
            "marker": {
             "line": {
              "color": "#E5ECF6",
              "width": 0.5
             },
             "pattern": {
              "fillmode": "overlay",
              "size": 10,
              "solidity": 0.2
             }
            },
            "type": "bar"
           }
          ],
          "barpolar": [
           {
            "marker": {
             "line": {
              "color": "#E5ECF6",
              "width": 0.5
             },
             "pattern": {
              "fillmode": "overlay",
              "size": 10,
              "solidity": 0.2
             }
            },
            "type": "barpolar"
           }
          ],
          "carpet": [
           {
            "aaxis": {
             "endlinecolor": "#2a3f5f",
             "gridcolor": "white",
             "linecolor": "white",
             "minorgridcolor": "white",
             "startlinecolor": "#2a3f5f"
            },
            "baxis": {
             "endlinecolor": "#2a3f5f",
             "gridcolor": "white",
             "linecolor": "white",
             "minorgridcolor": "white",
             "startlinecolor": "#2a3f5f"
            },
            "type": "carpet"
           }
          ],
          "choropleth": [
           {
            "colorbar": {
             "outlinewidth": 0,
             "ticks": ""
            },
            "type": "choropleth"
           }
          ],
          "contour": [
           {
            "colorbar": {
             "outlinewidth": 0,
             "ticks": ""
            },
            "colorscale": [
             [
              0,
              "#0d0887"
             ],
             [
              0.1111111111111111,
              "#46039f"
             ],
             [
              0.2222222222222222,
              "#7201a8"
             ],
             [
              0.3333333333333333,
              "#9c179e"
             ],
             [
              0.4444444444444444,
              "#bd3786"
             ],
             [
              0.5555555555555556,
              "#d8576b"
             ],
             [
              0.6666666666666666,
              "#ed7953"
             ],
             [
              0.7777777777777778,
              "#fb9f3a"
             ],
             [
              0.8888888888888888,
              "#fdca26"
             ],
             [
              1,
              "#f0f921"
             ]
            ],
            "type": "contour"
           }
          ],
          "contourcarpet": [
           {
            "colorbar": {
             "outlinewidth": 0,
             "ticks": ""
            },
            "type": "contourcarpet"
           }
          ],
          "heatmap": [
           {
            "colorbar": {
             "outlinewidth": 0,
             "ticks": ""
            },
            "colorscale": [
             [
              0,
              "#0d0887"
             ],
             [
              0.1111111111111111,
              "#46039f"
             ],
             [
              0.2222222222222222,
              "#7201a8"
             ],
             [
              0.3333333333333333,
              "#9c179e"
             ],
             [
              0.4444444444444444,
              "#bd3786"
             ],
             [
              0.5555555555555556,
              "#d8576b"
             ],
             [
              0.6666666666666666,
              "#ed7953"
             ],
             [
              0.7777777777777778,
              "#fb9f3a"
             ],
             [
              0.8888888888888888,
              "#fdca26"
             ],
             [
              1,
              "#f0f921"
             ]
            ],
            "type": "heatmap"
           }
          ],
          "heatmapgl": [
           {
            "colorbar": {
             "outlinewidth": 0,
             "ticks": ""
            },
            "colorscale": [
             [
              0,
              "#0d0887"
             ],
             [
              0.1111111111111111,
              "#46039f"
             ],
             [
              0.2222222222222222,
              "#7201a8"
             ],
             [
              0.3333333333333333,
              "#9c179e"
             ],
             [
              0.4444444444444444,
              "#bd3786"
             ],
             [
              0.5555555555555556,
              "#d8576b"
             ],
             [
              0.6666666666666666,
              "#ed7953"
             ],
             [
              0.7777777777777778,
              "#fb9f3a"
             ],
             [
              0.8888888888888888,
              "#fdca26"
             ],
             [
              1,
              "#f0f921"
             ]
            ],
            "type": "heatmapgl"
           }
          ],
          "histogram": [
           {
            "marker": {
             "pattern": {
              "fillmode": "overlay",
              "size": 10,
              "solidity": 0.2
             }
            },
            "type": "histogram"
           }
          ],
          "histogram2d": [
           {
            "colorbar": {
             "outlinewidth": 0,
             "ticks": ""
            },
            "colorscale": [
             [
              0,
              "#0d0887"
             ],
             [
              0.1111111111111111,
              "#46039f"
             ],
             [
              0.2222222222222222,
              "#7201a8"
             ],
             [
              0.3333333333333333,
              "#9c179e"
             ],
             [
              0.4444444444444444,
              "#bd3786"
             ],
             [
              0.5555555555555556,
              "#d8576b"
             ],
             [
              0.6666666666666666,
              "#ed7953"
             ],
             [
              0.7777777777777778,
              "#fb9f3a"
             ],
             [
              0.8888888888888888,
              "#fdca26"
             ],
             [
              1,
              "#f0f921"
             ]
            ],
            "type": "histogram2d"
           }
          ],
          "histogram2dcontour": [
           {
            "colorbar": {
             "outlinewidth": 0,
             "ticks": ""
            },
            "colorscale": [
             [
              0,
              "#0d0887"
             ],
             [
              0.1111111111111111,
              "#46039f"
             ],
             [
              0.2222222222222222,
              "#7201a8"
             ],
             [
              0.3333333333333333,
              "#9c179e"
             ],
             [
              0.4444444444444444,
              "#bd3786"
             ],
             [
              0.5555555555555556,
              "#d8576b"
             ],
             [
              0.6666666666666666,
              "#ed7953"
             ],
             [
              0.7777777777777778,
              "#fb9f3a"
             ],
             [
              0.8888888888888888,
              "#fdca26"
             ],
             [
              1,
              "#f0f921"
             ]
            ],
            "type": "histogram2dcontour"
           }
          ],
          "mesh3d": [
           {
            "colorbar": {
             "outlinewidth": 0,
             "ticks": ""
            },
            "type": "mesh3d"
           }
          ],
          "parcoords": [
           {
            "line": {
             "colorbar": {
              "outlinewidth": 0,
              "ticks": ""
             }
            },
            "type": "parcoords"
           }
          ],
          "pie": [
           {
            "automargin": true,
            "type": "pie"
           }
          ],
          "scatter": [
           {
            "fillpattern": {
             "fillmode": "overlay",
             "size": 10,
             "solidity": 0.2
            },
            "type": "scatter"
           }
          ],
          "scatter3d": [
           {
            "line": {
             "colorbar": {
              "outlinewidth": 0,
              "ticks": ""
             }
            },
            "marker": {
             "colorbar": {
              "outlinewidth": 0,
              "ticks": ""
             }
            },
            "type": "scatter3d"
           }
          ],
          "scattercarpet": [
           {
            "marker": {
             "colorbar": {
              "outlinewidth": 0,
              "ticks": ""
             }
            },
            "type": "scattercarpet"
           }
          ],
          "scattergeo": [
           {
            "marker": {
             "colorbar": {
              "outlinewidth": 0,
              "ticks": ""
             }
            },
            "type": "scattergeo"
           }
          ],
          "scattergl": [
           {
            "marker": {
             "colorbar": {
              "outlinewidth": 0,
              "ticks": ""
             }
            },
            "type": "scattergl"
           }
          ],
          "scattermapbox": [
           {
            "marker": {
             "colorbar": {
              "outlinewidth": 0,
              "ticks": ""
             }
            },
            "type": "scattermapbox"
           }
          ],
          "scatterpolar": [
           {
            "marker": {
             "colorbar": {
              "outlinewidth": 0,
              "ticks": ""
             }
            },
            "type": "scatterpolar"
           }
          ],
          "scatterpolargl": [
           {
            "marker": {
             "colorbar": {
              "outlinewidth": 0,
              "ticks": ""
             }
            },
            "type": "scatterpolargl"
           }
          ],
          "scatterternary": [
           {
            "marker": {
             "colorbar": {
              "outlinewidth": 0,
              "ticks": ""
             }
            },
            "type": "scatterternary"
           }
          ],
          "surface": [
           {
            "colorbar": {
             "outlinewidth": 0,
             "ticks": ""
            },
            "colorscale": [
             [
              0,
              "#0d0887"
             ],
             [
              0.1111111111111111,
              "#46039f"
             ],
             [
              0.2222222222222222,
              "#7201a8"
             ],
             [
              0.3333333333333333,
              "#9c179e"
             ],
             [
              0.4444444444444444,
              "#bd3786"
             ],
             [
              0.5555555555555556,
              "#d8576b"
             ],
             [
              0.6666666666666666,
              "#ed7953"
             ],
             [
              0.7777777777777778,
              "#fb9f3a"
             ],
             [
              0.8888888888888888,
              "#fdca26"
             ],
             [
              1,
              "#f0f921"
             ]
            ],
            "type": "surface"
           }
          ],
          "table": [
           {
            "cells": {
             "fill": {
              "color": "#EBF0F8"
             },
             "line": {
              "color": "white"
             }
            },
            "header": {
             "fill": {
              "color": "#C8D4E3"
             },
             "line": {
              "color": "white"
             }
            },
            "type": "table"
           }
          ]
         },
         "layout": {
          "annotationdefaults": {
           "arrowcolor": "#2a3f5f",
           "arrowhead": 0,
           "arrowwidth": 1
          },
          "autotypenumbers": "strict",
          "coloraxis": {
           "colorbar": {
            "outlinewidth": 0,
            "ticks": ""
           }
          },
          "colorscale": {
           "diverging": [
            [
             0,
             "#8e0152"
            ],
            [
             0.1,
             "#c51b7d"
            ],
            [
             0.2,
             "#de77ae"
            ],
            [
             0.3,
             "#f1b6da"
            ],
            [
             0.4,
             "#fde0ef"
            ],
            [
             0.5,
             "#f7f7f7"
            ],
            [
             0.6,
             "#e6f5d0"
            ],
            [
             0.7,
             "#b8e186"
            ],
            [
             0.8,
             "#7fbc41"
            ],
            [
             0.9,
             "#4d9221"
            ],
            [
             1,
             "#276419"
            ]
           ],
           "sequential": [
            [
             0,
             "#0d0887"
            ],
            [
             0.1111111111111111,
             "#46039f"
            ],
            [
             0.2222222222222222,
             "#7201a8"
            ],
            [
             0.3333333333333333,
             "#9c179e"
            ],
            [
             0.4444444444444444,
             "#bd3786"
            ],
            [
             0.5555555555555556,
             "#d8576b"
            ],
            [
             0.6666666666666666,
             "#ed7953"
            ],
            [
             0.7777777777777778,
             "#fb9f3a"
            ],
            [
             0.8888888888888888,
             "#fdca26"
            ],
            [
             1,
             "#f0f921"
            ]
           ],
           "sequentialminus": [
            [
             0,
             "#0d0887"
            ],
            [
             0.1111111111111111,
             "#46039f"
            ],
            [
             0.2222222222222222,
             "#7201a8"
            ],
            [
             0.3333333333333333,
             "#9c179e"
            ],
            [
             0.4444444444444444,
             "#bd3786"
            ],
            [
             0.5555555555555556,
             "#d8576b"
            ],
            [
             0.6666666666666666,
             "#ed7953"
            ],
            [
             0.7777777777777778,
             "#fb9f3a"
            ],
            [
             0.8888888888888888,
             "#fdca26"
            ],
            [
             1,
             "#f0f921"
            ]
           ]
          },
          "colorway": [
           "#636efa",
           "#EF553B",
           "#00cc96",
           "#ab63fa",
           "#FFA15A",
           "#19d3f3",
           "#FF6692",
           "#B6E880",
           "#FF97FF",
           "#FECB52"
          ],
          "font": {
           "color": "#2a3f5f"
          },
          "geo": {
           "bgcolor": "white",
           "lakecolor": "white",
           "landcolor": "#E5ECF6",
           "showlakes": true,
           "showland": true,
           "subunitcolor": "white"
          },
          "hoverlabel": {
           "align": "left"
          },
          "hovermode": "closest",
          "mapbox": {
           "style": "light"
          },
          "paper_bgcolor": "white",
          "plot_bgcolor": "#E5ECF6",
          "polar": {
           "angularaxis": {
            "gridcolor": "white",
            "linecolor": "white",
            "ticks": ""
           },
           "bgcolor": "#E5ECF6",
           "radialaxis": {
            "gridcolor": "white",
            "linecolor": "white",
            "ticks": ""
           }
          },
          "scene": {
           "xaxis": {
            "backgroundcolor": "#E5ECF6",
            "gridcolor": "white",
            "gridwidth": 2,
            "linecolor": "white",
            "showbackground": true,
            "ticks": "",
            "zerolinecolor": "white"
           },
           "yaxis": {
            "backgroundcolor": "#E5ECF6",
            "gridcolor": "white",
            "gridwidth": 2,
            "linecolor": "white",
            "showbackground": true,
            "ticks": "",
            "zerolinecolor": "white"
           },
           "zaxis": {
            "backgroundcolor": "#E5ECF6",
            "gridcolor": "white",
            "gridwidth": 2,
            "linecolor": "white",
            "showbackground": true,
            "ticks": "",
            "zerolinecolor": "white"
           }
          },
          "shapedefaults": {
           "line": {
            "color": "#2a3f5f"
           }
          },
          "ternary": {
           "aaxis": {
            "gridcolor": "white",
            "linecolor": "white",
            "ticks": ""
           },
           "baxis": {
            "gridcolor": "white",
            "linecolor": "white",
            "ticks": ""
           },
           "bgcolor": "#E5ECF6",
           "caxis": {
            "gridcolor": "white",
            "linecolor": "white",
            "ticks": ""
           }
          },
          "title": {
           "x": 0.05
          },
          "xaxis": {
           "automargin": true,
           "gridcolor": "white",
           "linecolor": "white",
           "ticks": "",
           "title": {
            "standoff": 15
           },
           "zerolinecolor": "white",
           "zerolinewidth": 2
          },
          "yaxis": {
           "automargin": true,
           "gridcolor": "white",
           "linecolor": "white",
           "ticks": "",
           "title": {
            "standoff": 15
           },
           "zerolinecolor": "white",
           "zerolinewidth": 2
          }
         }
        },
        "xaxis": {
         "autorange": true,
         "range": [
          9,
          32
         ],
         "type": "linear"
        },
        "yaxis": {
         "autorange": true,
         "range": [
          10.666666666666666,
          17.333333333333332
         ],
         "type": "linear"
        }
       }
      },
      "image/png": "[encoded data removed]",
      "text/html": [
       "<div>                            <div id=\"0ea8f87d-b1fa-46e3-aa3b-87376ea39ba0\" class=\"plotly-graph-div\" style=\"height:525px; width:100%;\"></div>            <script type=\"text/javascript\">                require([\"plotly\"], function(Plotly) {                    window.PLOTLYENV=window.PLOTLYENV || {};                                    if (document.getElementById(\"0ea8f87d-b1fa-46e3-aa3b-87376ea39ba0\")) {                    Plotly.newPlot(                        \"0ea8f87d-b1fa-46e3-aa3b-87376ea39ba0\",                        [{\"mode\":\"lines\",\"name\":\"angled\",\"x\":[32.0,31.53061224489796,31.06122448979592,30.591836734693878,30.122448979591837,29.653061224489797,29.183673469387756,28.714285714285715,28.244897959183675,27.775510204081634,27.306122448979593,26.836734693877553,26.367346938775512,25.89795918367347,25.428571428571427,24.959183673469386,24.489795918367346,24.020408163265305,23.551020408163264,23.081632653061224,22.612244897959183,22.142857142857142,21.6734693877551,21.20408163265306,20.73469387755102,20.26530612244898,19.79591836734694,19.326530612244895,18.857142857142854,18.387755102040813,17.918367346938773,17.448979591836732,16.97959183673469,16.51020408163265,16.04081632653061,15.57142857142857,15.102040816326529,14.632653061224488,14.163265306122447,13.693877551020407,13.224489795918366,12.755102040816325,12.285714285714285,11.816326530612244,11.346938775510203,10.877551020408163,10.408163265306122,9.938775510204081,9.46938775510204,9.0],\"y\":[17.0,16.897959183673468,16.79591836734694,16.693877551020407,16.591836734693878,16.489795918367346,16.387755102040817,16.285714285714285,16.183673469387756,16.081632653061224,15.979591836734695,15.877551020408163,15.775510204081634,15.673469387755102,15.571428571428571,15.46938775510204,15.36734693877551,15.26530612244898,15.16326530612245,15.061224489795919,14.959183673469388,14.857142857142858,14.755102040816327,14.653061224489797,14.551020408163264,14.448979591836736,14.346938775510203,14.244897959183673,14.142857142857142,14.040816326530612,13.938775510204081,13.83673469387755,13.73469387755102,13.63265306122449,13.53061224489796,13.428571428571429,13.326530612244898,13.224489795918366,13.122448979591837,13.020408163265305,12.918367346938776,12.816326530612244,12.714285714285715,12.612244897959183,12.510204081632654,12.408163265306122,12.306122448979592,12.204081632653061,12.10204081632653,12.0],\"type\":\"scatter\"},{\"mode\":\"lines\",\"name\":\"18.02990040562894\",\"x\":[32.0,31.57877209509175,31.160639570575086,30.745602426450002,30.333660662716508,29.924814279374598,29.519063276424276,29.116407653865537,28.71684741169838,28.32038254992281,27.92701306853883,27.536738967546434,27.14956024694562,26.765476906736392,26.38448894691875,26.006596367492694,25.631799168458222,25.260097349815336,24.891490911564034,24.52597985370432,24.16356417623619,23.804243879159642,23.448018962474684,23.094889426181307,22.744855270279515,22.397916494769312,22.054073099650697,21.713325084923664,21.375672450588212,21.04111519664435,20.709653323092077,20.381286829931383,20.056015717162275,19.73383998478475,19.414759632798813,19.098774661204466,18.785885070001697,18.476090859190514,18.169392028770922,17.865788578742908,17.565280509106486,17.267867819861642,16.97355051100839,16.682328582546724,16.394202034476642,16.109170866798138,15.82723507951123,15.548394672615895,15.272649646112153,15.0],\"y\":[17.0,16.861401209669456,16.723475328119694,16.58622235535071,16.449642291362505,16.31373513615508,16.178500889728436,16.04393955208257,15.910051123217483,15.776835603133176,15.644292991829648,15.5124232893069,15.381226495564931,15.25070261060374,15.12085163442333,14.9916735670237,14.86316840840485,14.735336158566776,14.608176817509484,14.481690385232971,14.355876861737237,14.230736247022282,14.106268541088108,13.982473743934712,13.859351855562096,13.736902875970259,13.615126805159202,13.494023643128925,13.373593389879424,13.253836045410706,13.134751609722766,13.016340082815606,12.898601464689225,12.781535755343624,12.665142954778801,12.549423062994759,12.434376079991496,12.320002005769012,12.206300840327309,12.093272583666383,11.980917235786237,11.869234796686872,11.758225266368283,11.647888644830477,11.53822493207345,11.4292341280972,11.32091623290173,11.21327124648704,11.10629916885313,11.0],\"type\":\"scatter\"}],                        {\"template\":{\"data\":{\"barpolar\":[{\"marker\":{\"line\":{\"color\":\"#E5ECF6\",\"width\":0.5},\"pattern\":{\"fillmode\":\"overlay\",\"size\":10,\"solidity\":0.2}},\"type\":\"barpolar\"}],\"bar\":[{\"error_x\":{\"color\":\"#2a3f5f\"},\"error_y\":{\"color\":\"#2a3f5f\"},\"marker\":{\"line\":{\"color\":\"#E5ECF6\",\"width\":0.5},\"pattern\":{\"fillmode\":\"overlay\",\"size\":10,\"solidity\":0.2}},\"type\":\"bar\"}],\"carpet\":[{\"aaxis\":{\"endlinecolor\":\"#2a3f5f\",\"gridcolor\":\"white\",\"linecolor\":\"white\",\"minorgridcolor\":\"white\",\"startlinecolor\":\"#2a3f5f\"},\"baxis\":{\"endlinecolor\":\"#2a3f5f\",\"gridcolor\":\"white\",\"linecolor\":\"white\",\"minorgridcolor\":\"white\",\"startlinecolor\":\"#2a3f5f\"},\"type\":\"carpet\"}],\"choropleth\":[{\"colorbar\":{\"outlinewidth\":0,\"ticks\":\"\"},\"type\":\"choropleth\"}],\"contourcarpet\":[{\"colorbar\":{\"outlinewidth\":0,\"ticks\":\"\"},\"type\":\"contourcarpet\"}],\"contour\":[{\"colorbar\":{\"outlinewidth\":0,\"ticks\":\"\"},\"colorscale\":[[0.0,\"#0d0887\"],[0.1111111111111111,\"#46039f\"],[0.2222222222222222,\"#7201a8\"],[0.3333333333333333,\"#9c179e\"],[0.4444444444444444,\"#bd3786\"],[0.5555555555555556,\"#d8576b\"],[0.6666666666666666,\"#ed7953\"],[0.7777777777777778,\"#fb9f3a\"],[0.8888888888888888,\"#fdca26\"],[1.0,\"#f0f921\"]],\"type\":\"contour\"}],\"heatmapgl\":[{\"colorbar\":{\"outlinewidth\":0,\"ticks\":\"\"},\"colorscale\":[[0.0,\"#0d0887\"],[0.1111111111111111,\"#46039f\"],[0.2222222222222222,\"#7201a8\"],[0.3333333333333333,\"#9c179e\"],[0.4444444444444444,\"#bd3786\"],[0.5555555555555556,\"#d8576b\"],[0.6666666666666666,\"#ed7953\"],[0.7777777777777778,\"#fb9f3a\"],[0.8888888888888888,\"#fdca26\"],[1.0,\"#f0f921\"]],\"type\":\"heatmapgl\"}],\"heatmap\":[{\"colorbar\":{\"outlinewidth\":0,\"ticks\":\"\"},\"colorscale\":[[0.0,\"#0d0887\"],[0.1111111111111111,\"#46039f\"],[0.2222222222222222,\"#7201a8\"],[0.3333333333333333,\"#9c179e\"],[0.4444444444444444,\"#bd3786\"],[0.5555555555555556,\"#d8576b\"],[0.6666666666666666,\"#ed7953\"],[0.7777777777777778,\"#fb9f3a\"],[0.8888888888888888,\"#fdca26\"],[1.0,\"#f0f921\"]],\"type\":\"heatmap\"}],\"histogram2dcontour\":[{\"colorbar\":{\"outlinewidth\":0,\"ticks\":\"\"},\"colorscale\":[[0.0,\"#0d0887\"],[0.1111111111111111,\"#46039f\"],[0.2222222222222222,\"#7201a8\"],[0.3333333333333333,\"#9c179e\"],[0.4444444444444444,\"#bd3786\"],[0.5555555555555556,\"#d8576b\"],[0.6666666666666666,\"#ed7953\"],[0.7777777777777778,\"#fb9f3a\"],[0.8888888888888888,\"#fdca26\"],[1.0,\"#f0f921\"]],\"type\":\"histogram2dcontour\"}],\"histogram2d\":[{\"colorbar\":{\"outlinewidth\":0,\"ticks\":\"\"},\"colorscale\":[[0.0,\"#0d0887\"],[0.1111111111111111,\"#46039f\"],[0.2222222222222222,\"#7201a8\"],[0.3333333333333333,\"#9c179e\"],[0.4444444444444444,\"#bd3786\"],[0.5555555555555556,\"#d8576b\"],[0.6666666666666666,\"#ed7953\"],[0.7777777777777778,\"#fb9f3a\"],[0.8888888888888888,\"#fdca26\"],[1.0,\"#f0f921\"]],\"type\":\"histogram2d\"}],\"histogram\":[{\"marker\":{\"pattern\":{\"fillmode\":\"overlay\",\"size\":10,\"solidity\":0.2}},\"type\":\"histogram\"}],\"mesh3d\":[{\"colorbar\":{\"outlinewidth\":0,\"ticks\":\"\"},\"type\":\"mesh3d\"}],\"parcoords\":[{\"line\":{\"colorbar\":{\"outlinewidth\":0,\"ticks\":\"\"}},\"type\":\"parcoords\"}],\"pie\":[{\"automargin\":true,\"type\":\"pie\"}],\"scatter3d\":[{\"line\":{\"colorbar\":{\"outlinewidth\":0,\"ticks\":\"\"}},\"marker\":{\"colorbar\":{\"outlinewidth\":0,\"ticks\":\"\"}},\"type\":\"scatter3d\"}],\"scattercarpet\":[{\"marker\":{\"colorbar\":{\"outlinewidth\":0,\"ticks\":\"\"}},\"type\":\"scattercarpet\"}],\"scattergeo\":[{\"marker\":{\"colorbar\":{\"outlinewidth\":0,\"ticks\":\"\"}},\"type\":\"scattergeo\"}],\"scattergl\":[{\"marker\":{\"colorbar\":{\"outlinewidth\":0,\"ticks\":\"\"}},\"type\":\"scattergl\"}],\"scattermapbox\":[{\"marker\":{\"colorbar\":{\"outlinewidth\":0,\"ticks\":\"\"}},\"type\":\"scattermapbox\"}],\"scatterpolargl\":[{\"marker\":{\"colorbar\":{\"outlinewidth\":0,\"ticks\":\"\"}},\"type\":\"scatterpolargl\"}],\"scatterpolar\":[{\"marker\":{\"colorbar\":{\"outlinewidth\":0,\"ticks\":\"\"}},\"type\":\"scatterpolar\"}],\"scatter\":[{\"fillpattern\":{\"fillmode\":\"overlay\",\"size\":10,\"solidity\":0.2},\"type\":\"scatter\"}],\"scatterternary\":[{\"marker\":{\"colorbar\":{\"outlinewidth\":0,\"ticks\":\"\"}},\"type\":\"scatterternary\"}],\"surface\":[{\"colorbar\":{\"outlinewidth\":0,\"ticks\":\"\"},\"colorscale\":[[0.0,\"#0d0887\"],[0.1111111111111111,\"#46039f\"],[0.2222222222222222,\"#7201a8\"],[0.3333333333333333,\"#9c179e\"],[0.4444444444444444,\"#bd3786\"],[0.5555555555555556,\"#d8576b\"],[0.6666666666666666,\"#ed7953\"],[0.7777777777777778,\"#fb9f3a\"],[0.8888888888888888,\"#fdca26\"],[1.0,\"#f0f921\"]],\"type\":\"surface\"}],\"table\":[{\"cells\":{\"fill\":{\"color\":\"#EBF0F8\"},\"line\":{\"color\":\"white\"}},\"header\":{\"fill\":{\"color\":\"#C8D4E3\"},\"line\":{\"color\":\"white\"}},\"type\":\"table\"}]},\"layout\":{\"annotationdefaults\":{\"arrowcolor\":\"#2a3f5f\",\"arrowhead\":0,\"arrowwidth\":1},\"autotypenumbers\":\"strict\",\"coloraxis\":{\"colorbar\":{\"outlinewidth\":0,\"ticks\":\"\"}},\"colorscale\":{\"diverging\":[[0,\"#8e0152\"],[0.1,\"#c51b7d\"],[0.2,\"#de77ae\"],[0.3,\"#f1b6da\"],[0.4,\"#fde0ef\"],[0.5,\"#f7f7f7\"],[0.6,\"#e6f5d0\"],[0.7,\"#b8e186\"],[0.8,\"#7fbc41\"],[0.9,\"#4d9221\"],[1,\"#276419\"]],\"sequential\":[[0.0,\"#0d0887\"],[0.1111111111111111,\"#46039f\"],[0.2222222222222222,\"#7201a8\"],[0.3333333333333333,\"#9c179e\"],[0.4444444444444444,\"#bd3786\"],[0.5555555555555556,\"#d8576b\"],[0.6666666666666666,\"#ed7953\"],[0.7777777777777778,\"#fb9f3a\"],[0.8888888888888888,\"#fdca26\"],[1.0,\"#f0f921\"]],\"sequentialminus\":[[0.0,\"#0d0887\"],[0.1111111111111111,\"#46039f\"],[0.2222222222222222,\"#7201a8\"],[0.3333333333333333,\"#9c179e\"],[0.4444444444444444,\"#bd3786\"],[0.5555555555555556,\"#d8576b\"],[0.6666666666666666,\"#ed7953\"],[0.7777777777777778,\"#fb9f3a\"],[0.8888888888888888,\"#fdca26\"],[1.0,\"#f0f921\"]]},\"colorway\":[\"#636efa\",\"#EF553B\",\"#00cc96\",\"#ab63fa\",\"#FFA15A\",\"#19d3f3\",\"#FF6692\",\"#B6E880\",\"#FF97FF\",\"#FECB52\"],\"font\":{\"color\":\"#2a3f5f\"},\"geo\":{\"bgcolor\":\"white\",\"lakecolor\":\"white\",\"landcolor\":\"#E5ECF6\",\"showlakes\":true,\"showland\":true,\"subunitcolor\":\"white\"},\"hoverlabel\":{\"align\":\"left\"},\"hovermode\":\"closest\",\"mapbox\":{\"style\":\"light\"},\"paper_bgcolor\":\"white\",\"plot_bgcolor\":\"#E5ECF6\",\"polar\":{\"angularaxis\":{\"gridcolor\":\"white\",\"linecolor\":\"white\",\"ticks\":\"\"},\"bgcolor\":\"#E5ECF6\",\"radialaxis\":{\"gridcolor\":\"white\",\"linecolor\":\"white\",\"ticks\":\"\"}},\"scene\":{\"xaxis\":{\"backgroundcolor\":\"#E5ECF6\",\"gridcolor\":\"white\",\"gridwidth\":2,\"linecolor\":\"white\",\"showbackground\":true,\"ticks\":\"\",\"zerolinecolor\":\"white\"},\"yaxis\":{\"backgroundcolor\":\"#E5ECF6\",\"gridcolor\":\"white\",\"gridwidth\":2,\"linecolor\":\"white\",\"showbackground\":true,\"ticks\":\"\",\"zerolinecolor\":\"white\"},\"zaxis\":{\"backgroundcolor\":\"#E5ECF6\",\"gridcolor\":\"white\",\"gridwidth\":2,\"linecolor\":\"white\",\"showbackground\":true,\"ticks\":\"\",\"zerolinecolor\":\"white\"}},\"shapedefaults\":{\"line\":{\"color\":\"#2a3f5f\"}},\"ternary\":{\"aaxis\":{\"gridcolor\":\"white\",\"linecolor\":\"white\",\"ticks\":\"\"},\"baxis\":{\"gridcolor\":\"white\",\"linecolor\":\"white\",\"ticks\":\"\"},\"bgcolor\":\"#E5ECF6\",\"caxis\":{\"gridcolor\":\"white\",\"linecolor\":\"white\",\"ticks\":\"\"}},\"title\":{\"x\":0.05},\"xaxis\":{\"automargin\":true,\"gridcolor\":\"white\",\"linecolor\":\"white\",\"ticks\":\"\",\"title\":{\"standoff\":15},\"zerolinecolor\":\"white\",\"zerolinewidth\":2},\"yaxis\":{\"automargin\":true,\"gridcolor\":\"white\",\"linecolor\":\"white\",\"ticks\":\"\",\"title\":{\"standoff\":15},\"zerolinecolor\":\"white\",\"zerolinewidth\":2}}}},                        {\"responsive\": true}                    ).then(function(){\n",
       "                            \n",
       "var gd = document.getElementById('0ea8f87d-b1fa-46e3-aa3b-87376ea39ba0');\n",
       "var x = new MutationObserver(function (mutations, observer) {{\n",
       "        var display = window.getComputedStyle(gd).display;\n",
       "        if (!display || display === 'none') {{\n",
       "            console.log([gd, 'removed!']);\n",
       "            Plotly.purge(gd);\n",
       "            observer.disconnect();\n",
       "        }}\n",
       "}});\n",
       "\n",
       "// Listen for the removal of the full notebook cells\n",
       "var notebookContainer = gd.closest('#notebook-container');\n",
       "if (notebookContainer) {{\n",
       "    x.observe(notebookContainer, {childList: true});\n",
       "}}\n",
       "\n",
       "// Listen for the clearing of the current output cell\n",
       "var outputEl = gd.closest('.output');\n",
       "if (outputEl) {{\n",
       "    x.observe(outputEl, {childList: true});\n",
       "}}\n",
       "\n",
       "                        })                };                });            </script>        </div>"
      ]
     },
     "metadata": {},
     "output_type": "display_data"
    },
    {
     "data": {
      "application/vnd.plotly.v1+json": {
       "config": {
        "linkText": "Export to plot.ly",
        "plotlyServerURL": "https://plot.ly",
        "showLink": false
       },
       "data": [
        {
         "mode": "lines",
         "name": "deangled",
         "type": "scatter",
         "x": [
          0,
          1.6653345369377348e-15,
          -1.3877787807814457e-16,
          1.4988010832439613e-15,
          -2.7755575615628914e-16,
          1.3322676295501878e-15,
          -5.551115123125783e-16,
          1.2212453270876722e-15,
          -5.551115123125783e-16,
          9.992007221626409e-16,
          -7.771561172376096e-16,
          8.881784197001252e-16,
          -1.1102230246251565e-15,
          8.881784197001252e-16,
          0,
          -2.220446049250313e-16,
          -4.440892098500626e-16,
          -2.220446049250313e-16,
          -4.440892098500626e-16,
          -6.661338147750939e-16,
          -4.440892098500626e-16,
          -8.881784197001252e-16,
          -8.881784197001252e-16,
          -8.881784197001252e-16,
          8.881784197001252e-16,
          -8.881784197001252e-16,
          8.881784197001252e-16,
          -4.440892098500626e-16,
          0,
          -4.440892098500626e-16,
          -4.440892098500626e-16,
          -4.440892098500626e-16,
          -8.881784197001252e-16,
          -8.881784197001252e-16,
          -4.440892098500626e-16,
          -8.881784197001252e-16,
          -8.881784197001252e-16,
          8.881784197001252e-16,
          -1.3322676295501878e-15,
          4.440892098500626e-16,
          -8.881784197001252e-16,
          8.881784197001252e-16,
          -1.7763568394002505e-15,
          0,
          -1.7763568394002505e-15,
          0,
          0,
          -8.881784197001252e-16,
          0,
          0
         ],
         "y": [
          0,
          -0.4803511141199929,
          -0.9607022282399851,
          -1.4410533423599778,
          -1.9214044564799702,
          -2.401755570599963,
          -2.8821066847199552,
          -3.362457798839948,
          -3.8428089129599403,
          -4.323160027079933,
          -4.803511141199925,
          -5.283862255319918,
          -5.7642133694399105,
          -6.244564483559903,
          -6.724915597679899,
          -7.205266711799891,
          -7.685617825919883,
          -8.165968940039877,
          -8.646320054159869,
          -9.126671168279861,
          -9.607022282399853,
          -10.087373396519846,
          -10.56772451063984,
          -11.04807562475983,
          -11.528426738879824,
          -12.008777852999817,
          -12.48912896711981,
          -12.969480081239805,
          -13.449831195359797,
          -13.93018230947979,
          -14.410533423599782,
          -14.890884537719774,
          -15.371235651839767,
          -15.85158676595976,
          -16.331937880079753,
          -16.812288994199744,
          -17.292640108319738,
          -17.77299122243973,
          -18.253342336559722,
          -18.733693450679713,
          -19.214044564799707,
          -19.6943956789197,
          -20.17474679303969,
          -20.655097907159682,
          -21.13544902127968,
          -21.61580013539967,
          -22.09615124951966,
          -22.576502363639655,
          -23.05685347775965,
          -23.53720459187964
         ]
        },
        {
         "mode": "lines",
         "name": "18.02990040562894",
         "type": "scatter",
         "x": [
          0,
          0.04595416795732782,
          0.09190833591465564,
          0.13786250387198346,
          0.18381667182931127,
          0.2297708397866391,
          0.2757250077439669,
          0.32167917570129473,
          0.36763334365862255,
          0.41358751161595037,
          0.4595416795732782,
          0.505495847530606,
          0.5514500154879338,
          0.5974041834452617,
          0.6433583514025895,
          0.6893125193599172,
          0.7352666873172451,
          0.781220855274573,
          0.8271750232319007,
          0.8731291911892285,
          0.9190833591465564,
          0.9650375271038842,
          1.010991695061212,
          1.0569458630185398,
          1.1029000309758676,
          1.1488541989331955,
          1.1948083668905234,
          1.240762534847851,
          1.286716702805179,
          1.3326708707625068,
          1.3786250387198344,
          1.4245792066771623,
          1.4705333746344902,
          1.516487542591818,
          1.562441710549146,
          1.6083958785064736,
          1.6543500464638015,
          1.7003042144211293,
          1.746258382378457,
          1.7922125503357849,
          1.8381667182931127,
          1.8841208862504406,
          1.9300750542077685,
          1.9760292221650961,
          2.021983390122424,
          2.067937558079752,
          2.1138917260370795,
          2.1598458939944076,
          2.2058000619517353,
          2.251754229909063
         ],
         "y": [
          0,
          -0.44105644423569385,
          -0.8789452101424122,
          -1.3136662977201554,
          -1.7452197069689228,
          -2.173605437888715,
          -2.5988234904795315,
          -3.0208738647413726,
          -3.4397565606742386,
          -3.8554715782781286,
          -4.268018917553044,
          -4.677398578498983,
          -5.083610561115948,
          -5.486654865403936,
          -5.886531491362949,
          -6.283240438992985,
          -6.676781708294048,
          -7.067155299266136,
          -7.454361211909246,
          -7.838399446223382,
          -8.219270002208543,
          -8.596972879864728,
          -8.971508079191937,
          -9.342875600190172,
          -9.711075442859432,
          -10.076107607199713,
          -10.437972093211021,
          -10.796668900893353,
          -11.152198030246712,
          -11.504559481271093,
          -11.853753253966497,
          -12.199779348332928,
          -12.542637764370385,
          -12.882328502078865,
          -13.218851561458369,
          -13.552206942508896,
          -13.88239464523045,
          -14.20941466962303,
          -14.53326701568663,
          -14.853951683421258,
          -15.171468672826908,
          -15.485817983903587,
          -15.796999616651288,
          -16.10501357107001,
          -16.409859847159762,
          -16.711538444920535,
          -17.010049364352334,
          -17.30539260545516,
          -17.59756816822901,
          -17.886576052673878
         ]
        }
       ],
       "layout": {
        "autosize": true,
        "template": {
         "data": {
          "bar": [
           {
            "error_x": {
             "color": "#2a3f5f"
            },
            "error_y": {
             "color": "#2a3f5f"
            },
            "marker": {
             "line": {
              "color": "#E5ECF6",
              "width": 0.5
             },
             "pattern": {
              "fillmode": "overlay",
              "size": 10,
              "solidity": 0.2
             }
            },
            "type": "bar"
           }
          ],
          "barpolar": [
           {
            "marker": {
             "line": {
              "color": "#E5ECF6",
              "width": 0.5
             },
             "pattern": {
              "fillmode": "overlay",
              "size": 10,
              "solidity": 0.2
             }
            },
            "type": "barpolar"
           }
          ],
          "carpet": [
           {
            "aaxis": {
             "endlinecolor": "#2a3f5f",
             "gridcolor": "white",
             "linecolor": "white",
             "minorgridcolor": "white",
             "startlinecolor": "#2a3f5f"
            },
            "baxis": {
             "endlinecolor": "#2a3f5f",
             "gridcolor": "white",
             "linecolor": "white",
             "minorgridcolor": "white",
             "startlinecolor": "#2a3f5f"
            },
            "type": "carpet"
           }
          ],
          "choropleth": [
           {
            "colorbar": {
             "outlinewidth": 0,
             "ticks": ""
            },
            "type": "choropleth"
           }
          ],
          "contour": [
           {
            "colorbar": {
             "outlinewidth": 0,
             "ticks": ""
            },
            "colorscale": [
             [
              0,
              "#0d0887"
             ],
             [
              0.1111111111111111,
              "#46039f"
             ],
             [
              0.2222222222222222,
              "#7201a8"
             ],
             [
              0.3333333333333333,
              "#9c179e"
             ],
             [
              0.4444444444444444,
              "#bd3786"
             ],
             [
              0.5555555555555556,
              "#d8576b"
             ],
             [
              0.6666666666666666,
              "#ed7953"
             ],
             [
              0.7777777777777778,
              "#fb9f3a"
             ],
             [
              0.8888888888888888,
              "#fdca26"
             ],
             [
              1,
              "#f0f921"
             ]
            ],
            "type": "contour"
           }
          ],
          "contourcarpet": [
           {
            "colorbar": {
             "outlinewidth": 0,
             "ticks": ""
            },
            "type": "contourcarpet"
           }
          ],
          "heatmap": [
           {
            "colorbar": {
             "outlinewidth": 0,
             "ticks": ""
            },
            "colorscale": [
             [
              0,
              "#0d0887"
             ],
             [
              0.1111111111111111,
              "#46039f"
             ],
             [
              0.2222222222222222,
              "#7201a8"
             ],
             [
              0.3333333333333333,
              "#9c179e"
             ],
             [
              0.4444444444444444,
              "#bd3786"
             ],
             [
              0.5555555555555556,
              "#d8576b"
             ],
             [
              0.6666666666666666,
              "#ed7953"
             ],
             [
              0.7777777777777778,
              "#fb9f3a"
             ],
             [
              0.8888888888888888,
              "#fdca26"
             ],
             [
              1,
              "#f0f921"
             ]
            ],
            "type": "heatmap"
           }
          ],
          "heatmapgl": [
           {
            "colorbar": {
             "outlinewidth": 0,
             "ticks": ""
            },
            "colorscale": [
             [
              0,
              "#0d0887"
             ],
             [
              0.1111111111111111,
              "#46039f"
             ],
             [
              0.2222222222222222,
              "#7201a8"
             ],
             [
              0.3333333333333333,
              "#9c179e"
             ],
             [
              0.4444444444444444,
              "#bd3786"
             ],
             [
              0.5555555555555556,
              "#d8576b"
             ],
             [
              0.6666666666666666,
              "#ed7953"
             ],
             [
              0.7777777777777778,
              "#fb9f3a"
             ],
             [
              0.8888888888888888,
              "#fdca26"
             ],
             [
              1,
              "#f0f921"
             ]
            ],
            "type": "heatmapgl"
           }
          ],
          "histogram": [
           {
            "marker": {
             "pattern": {
              "fillmode": "overlay",
              "size": 10,
              "solidity": 0.2
             }
            },
            "type": "histogram"
           }
          ],
          "histogram2d": [
           {
            "colorbar": {
             "outlinewidth": 0,
             "ticks": ""
            },
            "colorscale": [
             [
              0,
              "#0d0887"
             ],
             [
              0.1111111111111111,
              "#46039f"
             ],
             [
              0.2222222222222222,
              "#7201a8"
             ],
             [
              0.3333333333333333,
              "#9c179e"
             ],
             [
              0.4444444444444444,
              "#bd3786"
             ],
             [
              0.5555555555555556,
              "#d8576b"
             ],
             [
              0.6666666666666666,
              "#ed7953"
             ],
             [
              0.7777777777777778,
              "#fb9f3a"
             ],
             [
              0.8888888888888888,
              "#fdca26"
             ],
             [
              1,
              "#f0f921"
             ]
            ],
            "type": "histogram2d"
           }
          ],
          "histogram2dcontour": [
           {
            "colorbar": {
             "outlinewidth": 0,
             "ticks": ""
            },
            "colorscale": [
             [
              0,
              "#0d0887"
             ],
             [
              0.1111111111111111,
              "#46039f"
             ],
             [
              0.2222222222222222,
              "#7201a8"
             ],
             [
              0.3333333333333333,
              "#9c179e"
             ],
             [
              0.4444444444444444,
              "#bd3786"
             ],
             [
              0.5555555555555556,
              "#d8576b"
             ],
             [
              0.6666666666666666,
              "#ed7953"
             ],
             [
              0.7777777777777778,
              "#fb9f3a"
             ],
             [
              0.8888888888888888,
              "#fdca26"
             ],
             [
              1,
              "#f0f921"
             ]
            ],
            "type": "histogram2dcontour"
           }
          ],
          "mesh3d": [
           {
            "colorbar": {
             "outlinewidth": 0,
             "ticks": ""
            },
            "type": "mesh3d"
           }
          ],
          "parcoords": [
           {
            "line": {
             "colorbar": {
              "outlinewidth": 0,
              "ticks": ""
             }
            },
            "type": "parcoords"
           }
          ],
          "pie": [
           {
            "automargin": true,
            "type": "pie"
           }
          ],
          "scatter": [
           {
            "fillpattern": {
             "fillmode": "overlay",
             "size": 10,
             "solidity": 0.2
            },
            "type": "scatter"
           }
          ],
          "scatter3d": [
           {
            "line": {
             "colorbar": {
              "outlinewidth": 0,
              "ticks": ""
             }
            },
            "marker": {
             "colorbar": {
              "outlinewidth": 0,
              "ticks": ""
             }
            },
            "type": "scatter3d"
           }
          ],
          "scattercarpet": [
           {
            "marker": {
             "colorbar": {
              "outlinewidth": 0,
              "ticks": ""
             }
            },
            "type": "scattercarpet"
           }
          ],
          "scattergeo": [
           {
            "marker": {
             "colorbar": {
              "outlinewidth": 0,
              "ticks": ""
             }
            },
            "type": "scattergeo"
           }
          ],
          "scattergl": [
           {
            "marker": {
             "colorbar": {
              "outlinewidth": 0,
              "ticks": ""
             }
            },
            "type": "scattergl"
           }
          ],
          "scattermapbox": [
           {
            "marker": {
             "colorbar": {
              "outlinewidth": 0,
              "ticks": ""
             }
            },
            "type": "scattermapbox"
           }
          ],
          "scatterpolar": [
           {
            "marker": {
             "colorbar": {
              "outlinewidth": 0,
              "ticks": ""
             }
            },
            "type": "scatterpolar"
           }
          ],
          "scatterpolargl": [
           {
            "marker": {
             "colorbar": {
              "outlinewidth": 0,
              "ticks": ""
             }
            },
            "type": "scatterpolargl"
           }
          ],
          "scatterternary": [
           {
            "marker": {
             "colorbar": {
              "outlinewidth": 0,
              "ticks": ""
             }
            },
            "type": "scatterternary"
           }
          ],
          "surface": [
           {
            "colorbar": {
             "outlinewidth": 0,
             "ticks": ""
            },
            "colorscale": [
             [
              0,
              "#0d0887"
             ],
             [
              0.1111111111111111,
              "#46039f"
             ],
             [
              0.2222222222222222,
              "#7201a8"
             ],
             [
              0.3333333333333333,
              "#9c179e"
             ],
             [
              0.4444444444444444,
              "#bd3786"
             ],
             [
              0.5555555555555556,
              "#d8576b"
             ],
             [
              0.6666666666666666,
              "#ed7953"
             ],
             [
              0.7777777777777778,
              "#fb9f3a"
             ],
             [
              0.8888888888888888,
              "#fdca26"
             ],
             [
              1,
              "#f0f921"
             ]
            ],
            "type": "surface"
           }
          ],
          "table": [
           {
            "cells": {
             "fill": {
              "color": "#EBF0F8"
             },
             "line": {
              "color": "white"
             }
            },
            "header": {
             "fill": {
              "color": "#C8D4E3"
             },
             "line": {
              "color": "white"
             }
            },
            "type": "table"
           }
          ]
         },
         "layout": {
          "annotationdefaults": {
           "arrowcolor": "#2a3f5f",
           "arrowhead": 0,
           "arrowwidth": 1
          },
          "autotypenumbers": "strict",
          "coloraxis": {
           "colorbar": {
            "outlinewidth": 0,
            "ticks": ""
           }
          },
          "colorscale": {
           "diverging": [
            [
             0,
             "#8e0152"
            ],
            [
             0.1,
             "#c51b7d"
            ],
            [
             0.2,
             "#de77ae"
            ],
            [
             0.3,
             "#f1b6da"
            ],
            [
             0.4,
             "#fde0ef"
            ],
            [
             0.5,
             "#f7f7f7"
            ],
            [
             0.6,
             "#e6f5d0"
            ],
            [
             0.7,
             "#b8e186"
            ],
            [
             0.8,
             "#7fbc41"
            ],
            [
             0.9,
             "#4d9221"
            ],
            [
             1,
             "#276419"
            ]
           ],
           "sequential": [
            [
             0,
             "#0d0887"
            ],
            [
             0.1111111111111111,
             "#46039f"
            ],
            [
             0.2222222222222222,
             "#7201a8"
            ],
            [
             0.3333333333333333,
             "#9c179e"
            ],
            [
             0.4444444444444444,
             "#bd3786"
            ],
            [
             0.5555555555555556,
             "#d8576b"
            ],
            [
             0.6666666666666666,
             "#ed7953"
            ],
            [
             0.7777777777777778,
             "#fb9f3a"
            ],
            [
             0.8888888888888888,
             "#fdca26"
            ],
            [
             1,
             "#f0f921"
            ]
           ],
           "sequentialminus": [
            [
             0,
             "#0d0887"
            ],
            [
             0.1111111111111111,
             "#46039f"
            ],
            [
             0.2222222222222222,
             "#7201a8"
            ],
            [
             0.3333333333333333,
             "#9c179e"
            ],
            [
             0.4444444444444444,
             "#bd3786"
            ],
            [
             0.5555555555555556,
             "#d8576b"
            ],
            [
             0.6666666666666666,
             "#ed7953"
            ],
            [
             0.7777777777777778,
             "#fb9f3a"
            ],
            [
             0.8888888888888888,
             "#fdca26"
            ],
            [
             1,
             "#f0f921"
            ]
           ]
          },
          "colorway": [
           "#636efa",
           "#EF553B",
           "#00cc96",
           "#ab63fa",
           "#FFA15A",
           "#19d3f3",
           "#FF6692",
           "#B6E880",
           "#FF97FF",
           "#FECB52"
          ],
          "font": {
           "color": "#2a3f5f"
          },
          "geo": {
           "bgcolor": "white",
           "lakecolor": "white",
           "landcolor": "#E5ECF6",
           "showlakes": true,
           "showland": true,
           "subunitcolor": "white"
          },
          "hoverlabel": {
           "align": "left"
          },
          "hovermode": "closest",
          "mapbox": {
           "style": "light"
          },
          "paper_bgcolor": "white",
          "plot_bgcolor": "#E5ECF6",
          "polar": {
           "angularaxis": {
            "gridcolor": "white",
            "linecolor": "white",
            "ticks": ""
           },
           "bgcolor": "#E5ECF6",
           "radialaxis": {
            "gridcolor": "white",
            "linecolor": "white",
            "ticks": ""
           }
          },
          "scene": {
           "xaxis": {
            "backgroundcolor": "#E5ECF6",
            "gridcolor": "white",
            "gridwidth": 2,
            "linecolor": "white",
            "showbackground": true,
            "ticks": "",
            "zerolinecolor": "white"
           },
           "yaxis": {
            "backgroundcolor": "#E5ECF6",
            "gridcolor": "white",
            "gridwidth": 2,
            "linecolor": "white",
            "showbackground": true,
            "ticks": "",
            "zerolinecolor": "white"
           },
           "zaxis": {
            "backgroundcolor": "#E5ECF6",
            "gridcolor": "white",
            "gridwidth": 2,
            "linecolor": "white",
            "showbackground": true,
            "ticks": "",
            "zerolinecolor": "white"
           }
          },
          "shapedefaults": {
           "line": {
            "color": "#2a3f5f"
           }
          },
          "ternary": {
           "aaxis": {
            "gridcolor": "white",
            "linecolor": "white",
            "ticks": ""
           },
           "baxis": {
            "gridcolor": "white",
            "linecolor": "white",
            "ticks": ""
           },
           "bgcolor": "#E5ECF6",
           "caxis": {
            "gridcolor": "white",
            "linecolor": "white",
            "ticks": ""
           }
          },
          "title": {
           "x": 0.05
          },
          "xaxis": {
           "automargin": true,
           "gridcolor": "white",
           "linecolor": "white",
           "ticks": "",
           "title": {
            "standoff": 15
           },
           "zerolinecolor": "white",
           "zerolinewidth": 2
          },
          "yaxis": {
           "automargin": true,
           "gridcolor": "white",
           "linecolor": "white",
           "ticks": "",
           "title": {
            "standoff": 15
           },
           "zerolinecolor": "white",
           "zerolinewidth": 2
          }
         }
        },
        "xaxis": {
         "autorange": true,
         "range": [
          -1.7763568394002505e-15,
          2.251754229909063
         ],
         "type": "linear"
        },
        "yaxis": {
         "autorange": true,
         "range": [
          -24.844827069206286,
          1.3076224773266467
         ],
         "type": "linear"
        }
       }
      },
      "image/png": "[encoded data removed]",
      "text/html": [
       "<div>                            <div id=\"6af696a4-cb07-491d-97cb-8d8da616127f\" class=\"plotly-graph-div\" style=\"height:525px; width:100%;\"></div>            <script type=\"text/javascript\">                require([\"plotly\"], function(Plotly) {                    window.PLOTLYENV=window.PLOTLYENV || {};                                    if (document.getElementById(\"6af696a4-cb07-491d-97cb-8d8da616127f\")) {                    Plotly.newPlot(                        \"6af696a4-cb07-491d-97cb-8d8da616127f\",                        [{\"mode\":\"lines\",\"name\":\"deangled\",\"x\":[0.0,1.6653345369377348e-15,-1.3877787807814457e-16,1.4988010832439613e-15,-2.7755575615628914e-16,1.3322676295501878e-15,-5.551115123125783e-16,1.2212453270876722e-15,-5.551115123125783e-16,9.992007221626409e-16,-7.771561172376096e-16,8.881784197001252e-16,-1.1102230246251565e-15,8.881784197001252e-16,0.0,-2.220446049250313e-16,-4.440892098500626e-16,-2.220446049250313e-16,-4.440892098500626e-16,-6.661338147750939e-16,-4.440892098500626e-16,-8.881784197001252e-16,-8.881784197001252e-16,-8.881784197001252e-16,8.881784197001252e-16,-8.881784197001252e-16,8.881784197001252e-16,-4.440892098500626e-16,0.0,-4.440892098500626e-16,-4.440892098500626e-16,-4.440892098500626e-16,-8.881784197001252e-16,-8.881784197001252e-16,-4.440892098500626e-16,-8.881784197001252e-16,-8.881784197001252e-16,8.881784197001252e-16,-1.3322676295501878e-15,4.440892098500626e-16,-8.881784197001252e-16,8.881784197001252e-16,-1.7763568394002505e-15,0.0,-1.7763568394002505e-15,0.0,0.0,-8.881784197001252e-16,0.0,0.0],\"y\":[0.0,-0.4803511141199929,-0.9607022282399851,-1.4410533423599778,-1.9214044564799702,-2.401755570599963,-2.8821066847199552,-3.362457798839948,-3.8428089129599403,-4.323160027079933,-4.803511141199925,-5.283862255319918,-5.7642133694399105,-6.244564483559903,-6.724915597679899,-7.205266711799891,-7.685617825919883,-8.165968940039877,-8.646320054159869,-9.126671168279861,-9.607022282399853,-10.087373396519846,-10.56772451063984,-11.04807562475983,-11.528426738879824,-12.008777852999817,-12.48912896711981,-12.969480081239805,-13.449831195359797,-13.93018230947979,-14.410533423599782,-14.890884537719774,-15.371235651839767,-15.85158676595976,-16.331937880079753,-16.812288994199744,-17.292640108319738,-17.77299122243973,-18.253342336559722,-18.733693450679713,-19.214044564799707,-19.6943956789197,-20.17474679303969,-20.655097907159682,-21.13544902127968,-21.61580013539967,-22.09615124951966,-22.576502363639655,-23.05685347775965,-23.53720459187964],\"type\":\"scatter\"},{\"mode\":\"lines\",\"name\":\"18.02990040562894\",\"x\":[0.0,0.04595416795732782,0.09190833591465564,0.13786250387198346,0.18381667182931127,0.2297708397866391,0.2757250077439669,0.32167917570129473,0.36763334365862255,0.41358751161595037,0.4595416795732782,0.505495847530606,0.5514500154879338,0.5974041834452617,0.6433583514025895,0.6893125193599172,0.7352666873172451,0.781220855274573,0.8271750232319007,0.8731291911892285,0.9190833591465564,0.9650375271038842,1.010991695061212,1.0569458630185398,1.1029000309758676,1.1488541989331955,1.1948083668905234,1.240762534847851,1.286716702805179,1.3326708707625068,1.3786250387198344,1.4245792066771623,1.4705333746344902,1.516487542591818,1.562441710549146,1.6083958785064736,1.6543500464638015,1.7003042144211293,1.746258382378457,1.7922125503357849,1.8381667182931127,1.8841208862504406,1.9300750542077685,1.9760292221650961,2.021983390122424,2.067937558079752,2.1138917260370795,2.1598458939944076,2.2058000619517353,2.251754229909063],\"y\":[0.0,-0.44105644423569385,-0.8789452101424122,-1.3136662977201554,-1.7452197069689228,-2.173605437888715,-2.5988234904795315,-3.0208738647413726,-3.4397565606742386,-3.8554715782781286,-4.268018917553044,-4.677398578498983,-5.083610561115948,-5.486654865403936,-5.886531491362949,-6.283240438992985,-6.676781708294048,-7.067155299266136,-7.454361211909246,-7.838399446223382,-8.219270002208543,-8.596972879864728,-8.971508079191937,-9.342875600190172,-9.711075442859432,-10.076107607199713,-10.437972093211021,-10.796668900893353,-11.152198030246712,-11.504559481271093,-11.853753253966497,-12.199779348332928,-12.542637764370385,-12.882328502078865,-13.218851561458369,-13.552206942508896,-13.88239464523045,-14.20941466962303,-14.53326701568663,-14.853951683421258,-15.171468672826908,-15.485817983903587,-15.796999616651288,-16.10501357107001,-16.409859847159762,-16.711538444920535,-17.010049364352334,-17.30539260545516,-17.59756816822901,-17.886576052673878],\"type\":\"scatter\"}],                        {\"template\":{\"data\":{\"barpolar\":[{\"marker\":{\"line\":{\"color\":\"#E5ECF6\",\"width\":0.5},\"pattern\":{\"fillmode\":\"overlay\",\"size\":10,\"solidity\":0.2}},\"type\":\"barpolar\"}],\"bar\":[{\"error_x\":{\"color\":\"#2a3f5f\"},\"error_y\":{\"color\":\"#2a3f5f\"},\"marker\":{\"line\":{\"color\":\"#E5ECF6\",\"width\":0.5},\"pattern\":{\"fillmode\":\"overlay\",\"size\":10,\"solidity\":0.2}},\"type\":\"bar\"}],\"carpet\":[{\"aaxis\":{\"endlinecolor\":\"#2a3f5f\",\"gridcolor\":\"white\",\"linecolor\":\"white\",\"minorgridcolor\":\"white\",\"startlinecolor\":\"#2a3f5f\"},\"baxis\":{\"endlinecolor\":\"#2a3f5f\",\"gridcolor\":\"white\",\"linecolor\":\"white\",\"minorgridcolor\":\"white\",\"startlinecolor\":\"#2a3f5f\"},\"type\":\"carpet\"}],\"choropleth\":[{\"colorbar\":{\"outlinewidth\":0,\"ticks\":\"\"},\"type\":\"choropleth\"}],\"contourcarpet\":[{\"colorbar\":{\"outlinewidth\":0,\"ticks\":\"\"},\"type\":\"contourcarpet\"}],\"contour\":[{\"colorbar\":{\"outlinewidth\":0,\"ticks\":\"\"},\"colorscale\":[[0.0,\"#0d0887\"],[0.1111111111111111,\"#46039f\"],[0.2222222222222222,\"#7201a8\"],[0.3333333333333333,\"#9c179e\"],[0.4444444444444444,\"#bd3786\"],[0.5555555555555556,\"#d8576b\"],[0.6666666666666666,\"#ed7953\"],[0.7777777777777778,\"#fb9f3a\"],[0.8888888888888888,\"#fdca26\"],[1.0,\"#f0f921\"]],\"type\":\"contour\"}],\"heatmapgl\":[{\"colorbar\":{\"outlinewidth\":0,\"ticks\":\"\"},\"colorscale\":[[0.0,\"#0d0887\"],[0.1111111111111111,\"#46039f\"],[0.2222222222222222,\"#7201a8\"],[0.3333333333333333,\"#9c179e\"],[0.4444444444444444,\"#bd3786\"],[0.5555555555555556,\"#d8576b\"],[0.6666666666666666,\"#ed7953\"],[0.7777777777777778,\"#fb9f3a\"],[0.8888888888888888,\"#fdca26\"],[1.0,\"#f0f921\"]],\"type\":\"heatmapgl\"}],\"heatmap\":[{\"colorbar\":{\"outlinewidth\":0,\"ticks\":\"\"},\"colorscale\":[[0.0,\"#0d0887\"],[0.1111111111111111,\"#46039f\"],[0.2222222222222222,\"#7201a8\"],[0.3333333333333333,\"#9c179e\"],[0.4444444444444444,\"#bd3786\"],[0.5555555555555556,\"#d8576b\"],[0.6666666666666666,\"#ed7953\"],[0.7777777777777778,\"#fb9f3a\"],[0.8888888888888888,\"#fdca26\"],[1.0,\"#f0f921\"]],\"type\":\"heatmap\"}],\"histogram2dcontour\":[{\"colorbar\":{\"outlinewidth\":0,\"ticks\":\"\"},\"colorscale\":[[0.0,\"#0d0887\"],[0.1111111111111111,\"#46039f\"],[0.2222222222222222,\"#7201a8\"],[0.3333333333333333,\"#9c179e\"],[0.4444444444444444,\"#bd3786\"],[0.5555555555555556,\"#d8576b\"],[0.6666666666666666,\"#ed7953\"],[0.7777777777777778,\"#fb9f3a\"],[0.8888888888888888,\"#fdca26\"],[1.0,\"#f0f921\"]],\"type\":\"histogram2dcontour\"}],\"histogram2d\":[{\"colorbar\":{\"outlinewidth\":0,\"ticks\":\"\"},\"colorscale\":[[0.0,\"#0d0887\"],[0.1111111111111111,\"#46039f\"],[0.2222222222222222,\"#7201a8\"],[0.3333333333333333,\"#9c179e\"],[0.4444444444444444,\"#bd3786\"],[0.5555555555555556,\"#d8576b\"],[0.6666666666666666,\"#ed7953\"],[0.7777777777777778,\"#fb9f3a\"],[0.8888888888888888,\"#fdca26\"],[1.0,\"#f0f921\"]],\"type\":\"histogram2d\"}],\"histogram\":[{\"marker\":{\"pattern\":{\"fillmode\":\"overlay\",\"size\":10,\"solidity\":0.2}},\"type\":\"histogram\"}],\"mesh3d\":[{\"colorbar\":{\"outlinewidth\":0,\"ticks\":\"\"},\"type\":\"mesh3d\"}],\"parcoords\":[{\"line\":{\"colorbar\":{\"outlinewidth\":0,\"ticks\":\"\"}},\"type\":\"parcoords\"}],\"pie\":[{\"automargin\":true,\"type\":\"pie\"}],\"scatter3d\":[{\"line\":{\"colorbar\":{\"outlinewidth\":0,\"ticks\":\"\"}},\"marker\":{\"colorbar\":{\"outlinewidth\":0,\"ticks\":\"\"}},\"type\":\"scatter3d\"}],\"scattercarpet\":[{\"marker\":{\"colorbar\":{\"outlinewidth\":0,\"ticks\":\"\"}},\"type\":\"scattercarpet\"}],\"scattergeo\":[{\"marker\":{\"colorbar\":{\"outlinewidth\":0,\"ticks\":\"\"}},\"type\":\"scattergeo\"}],\"scattergl\":[{\"marker\":{\"colorbar\":{\"outlinewidth\":0,\"ticks\":\"\"}},\"type\":\"scattergl\"}],\"scattermapbox\":[{\"marker\":{\"colorbar\":{\"outlinewidth\":0,\"ticks\":\"\"}},\"type\":\"scattermapbox\"}],\"scatterpolargl\":[{\"marker\":{\"colorbar\":{\"outlinewidth\":0,\"ticks\":\"\"}},\"type\":\"scatterpolargl\"}],\"scatterpolar\":[{\"marker\":{\"colorbar\":{\"outlinewidth\":0,\"ticks\":\"\"}},\"type\":\"scatterpolar\"}],\"scatter\":[{\"fillpattern\":{\"fillmode\":\"overlay\",\"size\":10,\"solidity\":0.2},\"type\":\"scatter\"}],\"scatterternary\":[{\"marker\":{\"colorbar\":{\"outlinewidth\":0,\"ticks\":\"\"}},\"type\":\"scatterternary\"}],\"surface\":[{\"colorbar\":{\"outlinewidth\":0,\"ticks\":\"\"},\"colorscale\":[[0.0,\"#0d0887\"],[0.1111111111111111,\"#46039f\"],[0.2222222222222222,\"#7201a8\"],[0.3333333333333333,\"#9c179e\"],[0.4444444444444444,\"#bd3786\"],[0.5555555555555556,\"#d8576b\"],[0.6666666666666666,\"#ed7953\"],[0.7777777777777778,\"#fb9f3a\"],[0.8888888888888888,\"#fdca26\"],[1.0,\"#f0f921\"]],\"type\":\"surface\"}],\"table\":[{\"cells\":{\"fill\":{\"color\":\"#EBF0F8\"},\"line\":{\"color\":\"white\"}},\"header\":{\"fill\":{\"color\":\"#C8D4E3\"},\"line\":{\"color\":\"white\"}},\"type\":\"table\"}]},\"layout\":{\"annotationdefaults\":{\"arrowcolor\":\"#2a3f5f\",\"arrowhead\":0,\"arrowwidth\":1},\"autotypenumbers\":\"strict\",\"coloraxis\":{\"colorbar\":{\"outlinewidth\":0,\"ticks\":\"\"}},\"colorscale\":{\"diverging\":[[0,\"#8e0152\"],[0.1,\"#c51b7d\"],[0.2,\"#de77ae\"],[0.3,\"#f1b6da\"],[0.4,\"#fde0ef\"],[0.5,\"#f7f7f7\"],[0.6,\"#e6f5d0\"],[0.7,\"#b8e186\"],[0.8,\"#7fbc41\"],[0.9,\"#4d9221\"],[1,\"#276419\"]],\"sequential\":[[0.0,\"#0d0887\"],[0.1111111111111111,\"#46039f\"],[0.2222222222222222,\"#7201a8\"],[0.3333333333333333,\"#9c179e\"],[0.4444444444444444,\"#bd3786\"],[0.5555555555555556,\"#d8576b\"],[0.6666666666666666,\"#ed7953\"],[0.7777777777777778,\"#fb9f3a\"],[0.8888888888888888,\"#fdca26\"],[1.0,\"#f0f921\"]],\"sequentialminus\":[[0.0,\"#0d0887\"],[0.1111111111111111,\"#46039f\"],[0.2222222222222222,\"#7201a8\"],[0.3333333333333333,\"#9c179e\"],[0.4444444444444444,\"#bd3786\"],[0.5555555555555556,\"#d8576b\"],[0.6666666666666666,\"#ed7953\"],[0.7777777777777778,\"#fb9f3a\"],[0.8888888888888888,\"#fdca26\"],[1.0,\"#f0f921\"]]},\"colorway\":[\"#636efa\",\"#EF553B\",\"#00cc96\",\"#ab63fa\",\"#FFA15A\",\"#19d3f3\",\"#FF6692\",\"#B6E880\",\"#FF97FF\",\"#FECB52\"],\"font\":{\"color\":\"#2a3f5f\"},\"geo\":{\"bgcolor\":\"white\",\"lakecolor\":\"white\",\"landcolor\":\"#E5ECF6\",\"showlakes\":true,\"showland\":true,\"subunitcolor\":\"white\"},\"hoverlabel\":{\"align\":\"left\"},\"hovermode\":\"closest\",\"mapbox\":{\"style\":\"light\"},\"paper_bgcolor\":\"white\",\"plot_bgcolor\":\"#E5ECF6\",\"polar\":{\"angularaxis\":{\"gridcolor\":\"white\",\"linecolor\":\"white\",\"ticks\":\"\"},\"bgcolor\":\"#E5ECF6\",\"radialaxis\":{\"gridcolor\":\"white\",\"linecolor\":\"white\",\"ticks\":\"\"}},\"scene\":{\"xaxis\":{\"backgroundcolor\":\"#E5ECF6\",\"gridcolor\":\"white\",\"gridwidth\":2,\"linecolor\":\"white\",\"showbackground\":true,\"ticks\":\"\",\"zerolinecolor\":\"white\"},\"yaxis\":{\"backgroundcolor\":\"#E5ECF6\",\"gridcolor\":\"white\",\"gridwidth\":2,\"linecolor\":\"white\",\"showbackground\":true,\"ticks\":\"\",\"zerolinecolor\":\"white\"},\"zaxis\":{\"backgroundcolor\":\"#E5ECF6\",\"gridcolor\":\"white\",\"gridwidth\":2,\"linecolor\":\"white\",\"showbackground\":true,\"ticks\":\"\",\"zerolinecolor\":\"white\"}},\"shapedefaults\":{\"line\":{\"color\":\"#2a3f5f\"}},\"ternary\":{\"aaxis\":{\"gridcolor\":\"white\",\"linecolor\":\"white\",\"ticks\":\"\"},\"baxis\":{\"gridcolor\":\"white\",\"linecolor\":\"white\",\"ticks\":\"\"},\"bgcolor\":\"#E5ECF6\",\"caxis\":{\"gridcolor\":\"white\",\"linecolor\":\"white\",\"ticks\":\"\"}},\"title\":{\"x\":0.05},\"xaxis\":{\"automargin\":true,\"gridcolor\":\"white\",\"linecolor\":\"white\",\"ticks\":\"\",\"title\":{\"standoff\":15},\"zerolinecolor\":\"white\",\"zerolinewidth\":2},\"yaxis\":{\"automargin\":true,\"gridcolor\":\"white\",\"linecolor\":\"white\",\"ticks\":\"\",\"title\":{\"standoff\":15},\"zerolinecolor\":\"white\",\"zerolinewidth\":2}}}},                        {\"responsive\": true}                    ).then(function(){\n",
       "                            \n",
       "var gd = document.getElementById('6af696a4-cb07-491d-97cb-8d8da616127f');\n",
       "var x = new MutationObserver(function (mutations, observer) {{\n",
       "        var display = window.getComputedStyle(gd).display;\n",
       "        if (!display || display === 'none') {{\n",
       "            console.log([gd, 'removed!']);\n",
       "            Plotly.purge(gd);\n",
       "            observer.disconnect();\n",
       "        }}\n",
       "}});\n",
       "\n",
       "// Listen for the removal of the full notebook cells\n",
       "var notebookContainer = gd.closest('#notebook-container');\n",
       "if (notebookContainer) {{\n",
       "    x.observe(notebookContainer, {childList: true});\n",
       "}}\n",
       "\n",
       "// Listen for the clearing of the current output cell\n",
       "var outputEl = gd.closest('.output');\n",
       "if (outputEl) {{\n",
       "    x.observe(outputEl, {childList: true});\n",
       "}}\n",
       "\n",
       "                        })                };                });            </script>        </div>"
      ]
     },
     "metadata": {},
     "output_type": "display_data"
    },
    {
     "data": {
      "application/vnd.plotly.v1+json": {
       "config": {
        "linkText": "Export to plot.ly",
        "plotlyServerURL": "https://plot.ly",
        "showLink": false
       },
       "data": [
        {
         "mode": "lines",
         "name": "angled",
         "type": "scatter",
         "x": [
          32,
          31.53061224489796,
          31.06122448979592,
          30.591836734693878,
          30.122448979591837,
          29.653061224489797,
          29.183673469387756,
          28.714285714285715,
          28.244897959183675,
          27.775510204081634,
          27.306122448979593,
          26.836734693877553,
          26.367346938775512,
          25.89795918367347,
          25.428571428571427,
          24.959183673469386,
          24.489795918367346,
          24.020408163265305,
          23.551020408163264,
          23.081632653061224,
          22.612244897959183,
          22.142857142857142,
          21.6734693877551,
          21.20408163265306,
          20.73469387755102,
          20.26530612244898,
          19.79591836734694,
          19.326530612244895,
          18.857142857142854,
          18.387755102040813,
          17.918367346938773,
          17.448979591836732,
          16.97959183673469,
          16.51020408163265,
          16.04081632653061,
          15.57142857142857,
          15.102040816326529,
          14.632653061224488,
          14.163265306122447,
          13.693877551020407,
          13.224489795918366,
          12.755102040816325,
          12.285714285714285,
          11.816326530612244,
          11.346938775510203,
          10.877551020408163,
          10.408163265306122,
          9.938775510204081,
          9.46938775510204,
          9
         ],
         "y": [
          17,
          16.897959183673468,
          16.79591836734694,
          16.693877551020407,
          16.591836734693878,
          16.489795918367346,
          16.387755102040817,
          16.285714285714285,
          16.183673469387756,
          16.081632653061224,
          15.979591836734695,
          15.877551020408163,
          15.775510204081634,
          15.673469387755102,
          15.571428571428571,
          15.46938775510204,
          15.36734693877551,
          15.26530612244898,
          15.16326530612245,
          15.061224489795919,
          14.959183673469388,
          14.857142857142858,
          14.755102040816327,
          14.653061224489797,
          14.551020408163264,
          14.448979591836736,
          14.346938775510203,
          14.244897959183673,
          14.142857142857142,
          14.040816326530612,
          13.938775510204081,
          13.83673469387755,
          13.73469387755102,
          13.63265306122449,
          13.53061224489796,
          13.428571428571429,
          13.326530612244898,
          13.224489795918366,
          13.122448979591837,
          13.020408163265305,
          12.918367346938776,
          12.816326530612244,
          12.714285714285715,
          12.612244897959183,
          12.510204081632654,
          12.408163265306122,
          12.306122448979592,
          12.204081632653061,
          12.10204081632653,
          12
         ]
        },
        {
         "mode": "lines",
         "name": "18.02990040562894",
         "type": "scatter",
         "x": [
          32,
          31.57877209509175,
          31.160639570575086,
          30.745602426450002,
          30.333660662716508,
          29.924814279374598,
          29.519063276424276,
          29.116407653865537,
          28.71684741169838,
          28.32038254992281,
          27.92701306853883,
          27.536738967546434,
          27.14956024694562,
          26.765476906736392,
          26.38448894691875,
          26.006596367492694,
          25.631799168458222,
          25.260097349815336,
          24.891490911564034,
          24.52597985370432,
          24.16356417623619,
          23.804243879159642,
          23.448018962474684,
          23.094889426181307,
          22.744855270279515,
          22.397916494769312,
          22.054073099650697,
          21.713325084923664,
          21.375672450588212,
          21.04111519664435,
          20.709653323092077,
          20.381286829931383,
          20.056015717162275,
          19.73383998478475,
          19.414759632798813,
          19.098774661204466,
          18.785885070001697,
          18.476090859190514,
          18.169392028770922,
          17.865788578742908,
          17.565280509106486,
          17.267867819861642,
          16.97355051100839,
          16.682328582546724,
          16.394202034476642,
          16.109170866798138,
          15.82723507951123,
          15.548394672615895,
          15.272649646112153,
          15
         ],
         "y": [
          17,
          16.861401209669456,
          16.723475328119694,
          16.58622235535071,
          16.449642291362505,
          16.31373513615508,
          16.178500889728436,
          16.04393955208257,
          15.910051123217483,
          15.776835603133176,
          15.644292991829648,
          15.5124232893069,
          15.381226495564931,
          15.25070261060374,
          15.12085163442333,
          14.9916735670237,
          14.86316840840485,
          14.735336158566776,
          14.608176817509484,
          14.481690385232971,
          14.355876861737237,
          14.230736247022282,
          14.106268541088108,
          13.982473743934712,
          13.859351855562096,
          13.736902875970259,
          13.615126805159202,
          13.494023643128925,
          13.373593389879424,
          13.253836045410706,
          13.134751609722766,
          13.016340082815606,
          12.898601464689225,
          12.781535755343624,
          12.665142954778801,
          12.549423062994759,
          12.434376079991496,
          12.320002005769012,
          12.206300840327309,
          12.093272583666383,
          11.980917235786237,
          11.869234796686872,
          11.758225266368283,
          11.647888644830477,
          11.53822493207345,
          11.4292341280972,
          11.32091623290173,
          11.21327124648704,
          11.10629916885313,
          11
         ]
        },
        {
         "mode": "lines",
         "name": "deangled",
         "type": "scatter",
         "x": [
          0,
          1.6653345369377348e-15,
          -1.3877787807814457e-16,
          1.4988010832439613e-15,
          -2.7755575615628914e-16,
          1.3322676295501878e-15,
          -5.551115123125783e-16,
          1.2212453270876722e-15,
          -5.551115123125783e-16,
          9.992007221626409e-16,
          -7.771561172376096e-16,
          8.881784197001252e-16,
          -1.1102230246251565e-15,
          8.881784197001252e-16,
          0,
          -2.220446049250313e-16,
          -4.440892098500626e-16,
          -2.220446049250313e-16,
          -4.440892098500626e-16,
          -6.661338147750939e-16,
          -4.440892098500626e-16,
          -8.881784197001252e-16,
          -8.881784197001252e-16,
          -8.881784197001252e-16,
          8.881784197001252e-16,
          -8.881784197001252e-16,
          8.881784197001252e-16,
          -4.440892098500626e-16,
          0,
          -4.440892098500626e-16,
          -4.440892098500626e-16,
          -4.440892098500626e-16,
          -8.881784197001252e-16,
          -8.881784197001252e-16,
          -4.440892098500626e-16,
          -8.881784197001252e-16,
          -8.881784197001252e-16,
          8.881784197001252e-16,
          -1.3322676295501878e-15,
          4.440892098500626e-16,
          -8.881784197001252e-16,
          8.881784197001252e-16,
          -1.7763568394002505e-15,
          0,
          -1.7763568394002505e-15,
          0,
          0,
          -8.881784197001252e-16,
          0,
          0
         ],
         "y": [
          0,
          -0.4803511141199929,
          -0.9607022282399851,
          -1.4410533423599778,
          -1.9214044564799702,
          -2.401755570599963,
          -2.8821066847199552,
          -3.362457798839948,
          -3.8428089129599403,
          -4.323160027079933,
          -4.803511141199925,
          -5.283862255319918,
          -5.7642133694399105,
          -6.244564483559903,
          -6.724915597679899,
          -7.205266711799891,
          -7.685617825919883,
          -8.165968940039877,
          -8.646320054159869,
          -9.126671168279861,
          -9.607022282399853,
          -10.087373396519846,
          -10.56772451063984,
          -11.04807562475983,
          -11.528426738879824,
          -12.008777852999817,
          -12.48912896711981,
          -12.969480081239805,
          -13.449831195359797,
          -13.93018230947979,
          -14.410533423599782,
          -14.890884537719774,
          -15.371235651839767,
          -15.85158676595976,
          -16.331937880079753,
          -16.812288994199744,
          -17.292640108319738,
          -17.77299122243973,
          -18.253342336559722,
          -18.733693450679713,
          -19.214044564799707,
          -19.6943956789197,
          -20.17474679303969,
          -20.655097907159682,
          -21.13544902127968,
          -21.61580013539967,
          -22.09615124951966,
          -22.576502363639655,
          -23.05685347775965,
          -23.53720459187964
         ]
        },
        {
         "mode": "lines",
         "name": "18.02990040562894",
         "type": "scatter",
         "x": [
          0,
          0.04595416795732782,
          0.09190833591465564,
          0.13786250387198346,
          0.18381667182931127,
          0.2297708397866391,
          0.2757250077439669,
          0.32167917570129473,
          0.36763334365862255,
          0.41358751161595037,
          0.4595416795732782,
          0.505495847530606,
          0.5514500154879338,
          0.5974041834452617,
          0.6433583514025895,
          0.6893125193599172,
          0.7352666873172451,
          0.781220855274573,
          0.8271750232319007,
          0.8731291911892285,
          0.9190833591465564,
          0.9650375271038842,
          1.010991695061212,
          1.0569458630185398,
          1.1029000309758676,
          1.1488541989331955,
          1.1948083668905234,
          1.240762534847851,
          1.286716702805179,
          1.3326708707625068,
          1.3786250387198344,
          1.4245792066771623,
          1.4705333746344902,
          1.516487542591818,
          1.562441710549146,
          1.6083958785064736,
          1.6543500464638015,
          1.7003042144211293,
          1.746258382378457,
          1.7922125503357849,
          1.8381667182931127,
          1.8841208862504406,
          1.9300750542077685,
          1.9760292221650961,
          2.021983390122424,
          2.067937558079752,
          2.1138917260370795,
          2.1598458939944076,
          2.2058000619517353,
          2.251754229909063
         ],
         "y": [
          0,
          -0.44105644423569385,
          -0.8789452101424122,
          -1.3136662977201554,
          -1.7452197069689228,
          -2.173605437888715,
          -2.5988234904795315,
          -3.0208738647413726,
          -3.4397565606742386,
          -3.8554715782781286,
          -4.268018917553044,
          -4.677398578498983,
          -5.083610561115948,
          -5.486654865403936,
          -5.886531491362949,
          -6.283240438992985,
          -6.676781708294048,
          -7.067155299266136,
          -7.454361211909246,
          -7.838399446223382,
          -8.219270002208543,
          -8.596972879864728,
          -8.971508079191937,
          -9.342875600190172,
          -9.711075442859432,
          -10.076107607199713,
          -10.437972093211021,
          -10.796668900893353,
          -11.152198030246712,
          -11.504559481271093,
          -11.853753253966497,
          -12.199779348332928,
          -12.542637764370385,
          -12.882328502078865,
          -13.218851561458369,
          -13.552206942508896,
          -13.88239464523045,
          -14.20941466962303,
          -14.53326701568663,
          -14.853951683421258,
          -15.171468672826908,
          -15.485817983903587,
          -15.796999616651288,
          -16.10501357107001,
          -16.409859847159762,
          -16.711538444920535,
          -17.010049364352334,
          -17.30539260545516,
          -17.59756816822901,
          -17.886576052673878
         ]
        }
       ],
       "layout": {
        "autosize": true,
        "template": {
         "data": {
          "bar": [
           {
            "error_x": {
             "color": "#2a3f5f"
            },
            "error_y": {
             "color": "#2a3f5f"
            },
            "marker": {
             "line": {
              "color": "#E5ECF6",
              "width": 0.5
             },
             "pattern": {
              "fillmode": "overlay",
              "size": 10,
              "solidity": 0.2
             }
            },
            "type": "bar"
           }
          ],
          "barpolar": [
           {
            "marker": {
             "line": {
              "color": "#E5ECF6",
              "width": 0.5
             },
             "pattern": {
              "fillmode": "overlay",
              "size": 10,
              "solidity": 0.2
             }
            },
            "type": "barpolar"
           }
          ],
          "carpet": [
           {
            "aaxis": {
             "endlinecolor": "#2a3f5f",
             "gridcolor": "white",
             "linecolor": "white",
             "minorgridcolor": "white",
             "startlinecolor": "#2a3f5f"
            },
            "baxis": {
             "endlinecolor": "#2a3f5f",
             "gridcolor": "white",
             "linecolor": "white",
             "minorgridcolor": "white",
             "startlinecolor": "#2a3f5f"
            },
            "type": "carpet"
           }
          ],
          "choropleth": [
           {
            "colorbar": {
             "outlinewidth": 0,
             "ticks": ""
            },
            "type": "choropleth"
           }
          ],
          "contour": [
           {
            "colorbar": {
             "outlinewidth": 0,
             "ticks": ""
            },
            "colorscale": [
             [
              0,
              "#0d0887"
             ],
             [
              0.1111111111111111,
              "#46039f"
             ],
             [
              0.2222222222222222,
              "#7201a8"
             ],
             [
              0.3333333333333333,
              "#9c179e"
             ],
             [
              0.4444444444444444,
              "#bd3786"
             ],
             [
              0.5555555555555556,
              "#d8576b"
             ],
             [
              0.6666666666666666,
              "#ed7953"
             ],
             [
              0.7777777777777778,
              "#fb9f3a"
             ],
             [
              0.8888888888888888,
              "#fdca26"
             ],
             [
              1,
              "#f0f921"
             ]
            ],
            "type": "contour"
           }
          ],
          "contourcarpet": [
           {
            "colorbar": {
             "outlinewidth": 0,
             "ticks": ""
            },
            "type": "contourcarpet"
           }
          ],
          "heatmap": [
           {
            "colorbar": {
             "outlinewidth": 0,
             "ticks": ""
            },
            "colorscale": [
             [
              0,
              "#0d0887"
             ],
             [
              0.1111111111111111,
              "#46039f"
             ],
             [
              0.2222222222222222,
              "#7201a8"
             ],
             [
              0.3333333333333333,
              "#9c179e"
             ],
             [
              0.4444444444444444,
              "#bd3786"
             ],
             [
              0.5555555555555556,
              "#d8576b"
             ],
             [
              0.6666666666666666,
              "#ed7953"
             ],
             [
              0.7777777777777778,
              "#fb9f3a"
             ],
             [
              0.8888888888888888,
              "#fdca26"
             ],
             [
              1,
              "#f0f921"
             ]
            ],
            "type": "heatmap"
           }
          ],
          "heatmapgl": [
           {
            "colorbar": {
             "outlinewidth": 0,
             "ticks": ""
            },
            "colorscale": [
             [
              0,
              "#0d0887"
             ],
             [
              0.1111111111111111,
              "#46039f"
             ],
             [
              0.2222222222222222,
              "#7201a8"
             ],
             [
              0.3333333333333333,
              "#9c179e"
             ],
             [
              0.4444444444444444,
              "#bd3786"
             ],
             [
              0.5555555555555556,
              "#d8576b"
             ],
             [
              0.6666666666666666,
              "#ed7953"
             ],
             [
              0.7777777777777778,
              "#fb9f3a"
             ],
             [
              0.8888888888888888,
              "#fdca26"
             ],
             [
              1,
              "#f0f921"
             ]
            ],
            "type": "heatmapgl"
           }
          ],
          "histogram": [
           {
            "marker": {
             "pattern": {
              "fillmode": "overlay",
              "size": 10,
              "solidity": 0.2
             }
            },
            "type": "histogram"
           }
          ],
          "histogram2d": [
           {
            "colorbar": {
             "outlinewidth": 0,
             "ticks": ""
            },
            "colorscale": [
             [
              0,
              "#0d0887"
             ],
             [
              0.1111111111111111,
              "#46039f"
             ],
             [
              0.2222222222222222,
              "#7201a8"
             ],
             [
              0.3333333333333333,
              "#9c179e"
             ],
             [
              0.4444444444444444,
              "#bd3786"
             ],
             [
              0.5555555555555556,
              "#d8576b"
             ],
             [
              0.6666666666666666,
              "#ed7953"
             ],
             [
              0.7777777777777778,
              "#fb9f3a"
             ],
             [
              0.8888888888888888,
              "#fdca26"
             ],
             [
              1,
              "#f0f921"
             ]
            ],
            "type": "histogram2d"
           }
          ],
          "histogram2dcontour": [
           {
            "colorbar": {
             "outlinewidth": 0,
             "ticks": ""
            },
            "colorscale": [
             [
              0,
              "#0d0887"
             ],
             [
              0.1111111111111111,
              "#46039f"
             ],
             [
              0.2222222222222222,
              "#7201a8"
             ],
             [
              0.3333333333333333,
              "#9c179e"
             ],
             [
              0.4444444444444444,
              "#bd3786"
             ],
             [
              0.5555555555555556,
              "#d8576b"
             ],
             [
              0.6666666666666666,
              "#ed7953"
             ],
             [
              0.7777777777777778,
              "#fb9f3a"
             ],
             [
              0.8888888888888888,
              "#fdca26"
             ],
             [
              1,
              "#f0f921"
             ]
            ],
            "type": "histogram2dcontour"
           }
          ],
          "mesh3d": [
           {
            "colorbar": {
             "outlinewidth": 0,
             "ticks": ""
            },
            "type": "mesh3d"
           }
          ],
          "parcoords": [
           {
            "line": {
             "colorbar": {
              "outlinewidth": 0,
              "ticks": ""
             }
            },
            "type": "parcoords"
           }
          ],
          "pie": [
           {
            "automargin": true,
            "type": "pie"
           }
          ],
          "scatter": [
           {
            "fillpattern": {
             "fillmode": "overlay",
             "size": 10,
             "solidity": 0.2
            },
            "type": "scatter"
           }
          ],
          "scatter3d": [
           {
            "line": {
             "colorbar": {
              "outlinewidth": 0,
              "ticks": ""
             }
            },
            "marker": {
             "colorbar": {
              "outlinewidth": 0,
              "ticks": ""
             }
            },
            "type": "scatter3d"
           }
          ],
          "scattercarpet": [
           {
            "marker": {
             "colorbar": {
              "outlinewidth": 0,
              "ticks": ""
             }
            },
            "type": "scattercarpet"
           }
          ],
          "scattergeo": [
           {
            "marker": {
             "colorbar": {
              "outlinewidth": 0,
              "ticks": ""
             }
            },
            "type": "scattergeo"
           }
          ],
          "scattergl": [
           {
            "marker": {
             "colorbar": {
              "outlinewidth": 0,
              "ticks": ""
             }
            },
            "type": "scattergl"
           }
          ],
          "scattermapbox": [
           {
            "marker": {
             "colorbar": {
              "outlinewidth": 0,
              "ticks": ""
             }
            },
            "type": "scattermapbox"
           }
          ],
          "scatterpolar": [
           {
            "marker": {
             "colorbar": {
              "outlinewidth": 0,
              "ticks": ""
             }
            },
            "type": "scatterpolar"
           }
          ],
          "scatterpolargl": [
           {
            "marker": {
             "colorbar": {
              "outlinewidth": 0,
              "ticks": ""
             }
            },
            "type": "scatterpolargl"
           }
          ],
          "scatterternary": [
           {
            "marker": {
             "colorbar": {
              "outlinewidth": 0,
              "ticks": ""
             }
            },
            "type": "scatterternary"
           }
          ],
          "surface": [
           {
            "colorbar": {
             "outlinewidth": 0,
             "ticks": ""
            },
            "colorscale": [
             [
              0,
              "#0d0887"
             ],
             [
              0.1111111111111111,
              "#46039f"
             ],
             [
              0.2222222222222222,
              "#7201a8"
             ],
             [
              0.3333333333333333,
              "#9c179e"
             ],
             [
              0.4444444444444444,
              "#bd3786"
             ],
             [
              0.5555555555555556,
              "#d8576b"
             ],
             [
              0.6666666666666666,
              "#ed7953"
             ],
             [
              0.7777777777777778,
              "#fb9f3a"
             ],
             [
              0.8888888888888888,
              "#fdca26"
             ],
             [
              1,
              "#f0f921"
             ]
            ],
            "type": "surface"
           }
          ],
          "table": [
           {
            "cells": {
             "fill": {
              "color": "#EBF0F8"
             },
             "line": {
              "color": "white"
             }
            },
            "header": {
             "fill": {
              "color": "#C8D4E3"
             },
             "line": {
              "color": "white"
             }
            },
            "type": "table"
           }
          ]
         },
         "layout": {
          "annotationdefaults": {
           "arrowcolor": "#2a3f5f",
           "arrowhead": 0,
           "arrowwidth": 1
          },
          "autotypenumbers": "strict",
          "coloraxis": {
           "colorbar": {
            "outlinewidth": 0,
            "ticks": ""
           }
          },
          "colorscale": {
           "diverging": [
            [
             0,
             "#8e0152"
            ],
            [
             0.1,
             "#c51b7d"
            ],
            [
             0.2,
             "#de77ae"
            ],
            [
             0.3,
             "#f1b6da"
            ],
            [
             0.4,
             "#fde0ef"
            ],
            [
             0.5,
             "#f7f7f7"
            ],
            [
             0.6,
             "#e6f5d0"
            ],
            [
             0.7,
             "#b8e186"
            ],
            [
             0.8,
             "#7fbc41"
            ],
            [
             0.9,
             "#4d9221"
            ],
            [
             1,
             "#276419"
            ]
           ],
           "sequential": [
            [
             0,
             "#0d0887"
            ],
            [
             0.1111111111111111,
             "#46039f"
            ],
            [
             0.2222222222222222,
             "#7201a8"
            ],
            [
             0.3333333333333333,
             "#9c179e"
            ],
            [
             0.4444444444444444,
             "#bd3786"
            ],
            [
             0.5555555555555556,
             "#d8576b"
            ],
            [
             0.6666666666666666,
             "#ed7953"
            ],
            [
             0.7777777777777778,
             "#fb9f3a"
            ],
            [
             0.8888888888888888,
             "#fdca26"
            ],
            [
             1,
             "#f0f921"
            ]
           ],
           "sequentialminus": [
            [
             0,
             "#0d0887"
            ],
            [
             0.1111111111111111,
             "#46039f"
            ],
            [
             0.2222222222222222,
             "#7201a8"
            ],
            [
             0.3333333333333333,
             "#9c179e"
            ],
            [
             0.4444444444444444,
             "#bd3786"
            ],
            [
             0.5555555555555556,
             "#d8576b"
            ],
            [
             0.6666666666666666,
             "#ed7953"
            ],
            [
             0.7777777777777778,
             "#fb9f3a"
            ],
            [
             0.8888888888888888,
             "#fdca26"
            ],
            [
             1,
             "#f0f921"
            ]
           ]
          },
          "colorway": [
           "#636efa",
           "#EF553B",
           "#00cc96",
           "#ab63fa",
           "#FFA15A",
           "#19d3f3",
           "#FF6692",
           "#B6E880",
           "#FF97FF",
           "#FECB52"
          ],
          "font": {
           "color": "#2a3f5f"
          },
          "geo": {
           "bgcolor": "white",
           "lakecolor": "white",
           "landcolor": "#E5ECF6",
           "showlakes": true,
           "showland": true,
           "subunitcolor": "white"
          },
          "hoverlabel": {
           "align": "left"
          },
          "hovermode": "closest",
          "mapbox": {
           "style": "light"
          },
          "paper_bgcolor": "white",
          "plot_bgcolor": "#E5ECF6",
          "polar": {
           "angularaxis": {
            "gridcolor": "white",
            "linecolor": "white",
            "ticks": ""
           },
           "bgcolor": "#E5ECF6",
           "radialaxis": {
            "gridcolor": "white",
            "linecolor": "white",
            "ticks": ""
           }
          },
          "scene": {
           "xaxis": {
            "backgroundcolor": "#E5ECF6",
            "gridcolor": "white",
            "gridwidth": 2,
            "linecolor": "white",
            "showbackground": true,
            "ticks": "",
            "zerolinecolor": "white"
           },
           "yaxis": {
            "backgroundcolor": "#E5ECF6",
            "gridcolor": "white",
            "gridwidth": 2,
            "linecolor": "white",
            "showbackground": true,
            "ticks": "",
            "zerolinecolor": "white"
           },
           "zaxis": {
            "backgroundcolor": "#E5ECF6",
            "gridcolor": "white",
            "gridwidth": 2,
            "linecolor": "white",
            "showbackground": true,
            "ticks": "",
            "zerolinecolor": "white"
           }
          },
          "shapedefaults": {
           "line": {
            "color": "#2a3f5f"
           }
          },
          "ternary": {
           "aaxis": {
            "gridcolor": "white",
            "linecolor": "white",
            "ticks": ""
           },
           "baxis": {
            "gridcolor": "white",
            "linecolor": "white",
            "ticks": ""
           },
           "bgcolor": "#E5ECF6",
           "caxis": {
            "gridcolor": "white",
            "linecolor": "white",
            "ticks": ""
           }
          },
          "title": {
           "x": 0.05
          },
          "xaxis": {
           "automargin": true,
           "gridcolor": "white",
           "linecolor": "white",
           "ticks": "",
           "title": {
            "standoff": 15
           },
           "zerolinecolor": "white",
           "zerolinewidth": 2
          },
          "yaxis": {
           "automargin": true,
           "gridcolor": "white",
           "linecolor": "white",
           "ticks": "",
           "title": {
            "standoff": 15
           },
           "zerolinecolor": "white",
           "zerolinewidth": 2
          }
         }
        },
        "xaxis": {
         "autorange": true,
         "range": [
          -1.7763568394002505e-15,
          32
         ],
         "type": "linear"
        },
        "yaxis": {
         "autorange": true,
         "range": [
          -25.789271513650732,
          19.252066921771092
         ],
         "type": "linear"
        }
       }
      },
      "image/png": "[encoded data removed]",
      "text/html": [
       "<div>                            <div id=\"9db28d21-a96d-4297-9fd4-23d3083d9e5e\" class=\"plotly-graph-div\" style=\"height:525px; width:100%;\"></div>            <script type=\"text/javascript\">                require([\"plotly\"], function(Plotly) {                    window.PLOTLYENV=window.PLOTLYENV || {};                                    if (document.getElementById(\"9db28d21-a96d-4297-9fd4-23d3083d9e5e\")) {                    Plotly.newPlot(                        \"9db28d21-a96d-4297-9fd4-23d3083d9e5e\",                        [{\"mode\":\"lines\",\"name\":\"angled\",\"x\":[32.0,31.53061224489796,31.06122448979592,30.591836734693878,30.122448979591837,29.653061224489797,29.183673469387756,28.714285714285715,28.244897959183675,27.775510204081634,27.306122448979593,26.836734693877553,26.367346938775512,25.89795918367347,25.428571428571427,24.959183673469386,24.489795918367346,24.020408163265305,23.551020408163264,23.081632653061224,22.612244897959183,22.142857142857142,21.6734693877551,21.20408163265306,20.73469387755102,20.26530612244898,19.79591836734694,19.326530612244895,18.857142857142854,18.387755102040813,17.918367346938773,17.448979591836732,16.97959183673469,16.51020408163265,16.04081632653061,15.57142857142857,15.102040816326529,14.632653061224488,14.163265306122447,13.693877551020407,13.224489795918366,12.755102040816325,12.285714285714285,11.816326530612244,11.346938775510203,10.877551020408163,10.408163265306122,9.938775510204081,9.46938775510204,9.0],\"y\":[17.0,16.897959183673468,16.79591836734694,16.693877551020407,16.591836734693878,16.489795918367346,16.387755102040817,16.285714285714285,16.183673469387756,16.081632653061224,15.979591836734695,15.877551020408163,15.775510204081634,15.673469387755102,15.571428571428571,15.46938775510204,15.36734693877551,15.26530612244898,15.16326530612245,15.061224489795919,14.959183673469388,14.857142857142858,14.755102040816327,14.653061224489797,14.551020408163264,14.448979591836736,14.346938775510203,14.244897959183673,14.142857142857142,14.040816326530612,13.938775510204081,13.83673469387755,13.73469387755102,13.63265306122449,13.53061224489796,13.428571428571429,13.326530612244898,13.224489795918366,13.122448979591837,13.020408163265305,12.918367346938776,12.816326530612244,12.714285714285715,12.612244897959183,12.510204081632654,12.408163265306122,12.306122448979592,12.204081632653061,12.10204081632653,12.0],\"type\":\"scatter\"},{\"mode\":\"lines\",\"name\":\"18.02990040562894\",\"x\":[32.0,31.57877209509175,31.160639570575086,30.745602426450002,30.333660662716508,29.924814279374598,29.519063276424276,29.116407653865537,28.71684741169838,28.32038254992281,27.92701306853883,27.536738967546434,27.14956024694562,26.765476906736392,26.38448894691875,26.006596367492694,25.631799168458222,25.260097349815336,24.891490911564034,24.52597985370432,24.16356417623619,23.804243879159642,23.448018962474684,23.094889426181307,22.744855270279515,22.397916494769312,22.054073099650697,21.713325084923664,21.375672450588212,21.04111519664435,20.709653323092077,20.381286829931383,20.056015717162275,19.73383998478475,19.414759632798813,19.098774661204466,18.785885070001697,18.476090859190514,18.169392028770922,17.865788578742908,17.565280509106486,17.267867819861642,16.97355051100839,16.682328582546724,16.394202034476642,16.109170866798138,15.82723507951123,15.548394672615895,15.272649646112153,15.0],\"y\":[17.0,16.861401209669456,16.723475328119694,16.58622235535071,16.449642291362505,16.31373513615508,16.178500889728436,16.04393955208257,15.910051123217483,15.776835603133176,15.644292991829648,15.5124232893069,15.381226495564931,15.25070261060374,15.12085163442333,14.9916735670237,14.86316840840485,14.735336158566776,14.608176817509484,14.481690385232971,14.355876861737237,14.230736247022282,14.106268541088108,13.982473743934712,13.859351855562096,13.736902875970259,13.615126805159202,13.494023643128925,13.373593389879424,13.253836045410706,13.134751609722766,13.016340082815606,12.898601464689225,12.781535755343624,12.665142954778801,12.549423062994759,12.434376079991496,12.320002005769012,12.206300840327309,12.093272583666383,11.980917235786237,11.869234796686872,11.758225266368283,11.647888644830477,11.53822493207345,11.4292341280972,11.32091623290173,11.21327124648704,11.10629916885313,11.0],\"type\":\"scatter\"},{\"mode\":\"lines\",\"name\":\"deangled\",\"x\":[0.0,1.6653345369377348e-15,-1.3877787807814457e-16,1.4988010832439613e-15,-2.7755575615628914e-16,1.3322676295501878e-15,-5.551115123125783e-16,1.2212453270876722e-15,-5.551115123125783e-16,9.992007221626409e-16,-7.771561172376096e-16,8.881784197001252e-16,-1.1102230246251565e-15,8.881784197001252e-16,0.0,-2.220446049250313e-16,-4.440892098500626e-16,-2.220446049250313e-16,-4.440892098500626e-16,-6.661338147750939e-16,-4.440892098500626e-16,-8.881784197001252e-16,-8.881784197001252e-16,-8.881784197001252e-16,8.881784197001252e-16,-8.881784197001252e-16,8.881784197001252e-16,-4.440892098500626e-16,0.0,-4.440892098500626e-16,-4.440892098500626e-16,-4.440892098500626e-16,-8.881784197001252e-16,-8.881784197001252e-16,-4.440892098500626e-16,-8.881784197001252e-16,-8.881784197001252e-16,8.881784197001252e-16,-1.3322676295501878e-15,4.440892098500626e-16,-8.881784197001252e-16,8.881784197001252e-16,-1.7763568394002505e-15,0.0,-1.7763568394002505e-15,0.0,0.0,-8.881784197001252e-16,0.0,0.0],\"y\":[0.0,-0.4803511141199929,-0.9607022282399851,-1.4410533423599778,-1.9214044564799702,-2.401755570599963,-2.8821066847199552,-3.362457798839948,-3.8428089129599403,-4.323160027079933,-4.803511141199925,-5.283862255319918,-5.7642133694399105,-6.244564483559903,-6.724915597679899,-7.205266711799891,-7.685617825919883,-8.165968940039877,-8.646320054159869,-9.126671168279861,-9.607022282399853,-10.087373396519846,-10.56772451063984,-11.04807562475983,-11.528426738879824,-12.008777852999817,-12.48912896711981,-12.969480081239805,-13.449831195359797,-13.93018230947979,-14.410533423599782,-14.890884537719774,-15.371235651839767,-15.85158676595976,-16.331937880079753,-16.812288994199744,-17.292640108319738,-17.77299122243973,-18.253342336559722,-18.733693450679713,-19.214044564799707,-19.6943956789197,-20.17474679303969,-20.655097907159682,-21.13544902127968,-21.61580013539967,-22.09615124951966,-22.576502363639655,-23.05685347775965,-23.53720459187964],\"type\":\"scatter\"},{\"mode\":\"lines\",\"name\":\"18.02990040562894\",\"x\":[0.0,0.04595416795732782,0.09190833591465564,0.13786250387198346,0.18381667182931127,0.2297708397866391,0.2757250077439669,0.32167917570129473,0.36763334365862255,0.41358751161595037,0.4595416795732782,0.505495847530606,0.5514500154879338,0.5974041834452617,0.6433583514025895,0.6893125193599172,0.7352666873172451,0.781220855274573,0.8271750232319007,0.8731291911892285,0.9190833591465564,0.9650375271038842,1.010991695061212,1.0569458630185398,1.1029000309758676,1.1488541989331955,1.1948083668905234,1.240762534847851,1.286716702805179,1.3326708707625068,1.3786250387198344,1.4245792066771623,1.4705333746344902,1.516487542591818,1.562441710549146,1.6083958785064736,1.6543500464638015,1.7003042144211293,1.746258382378457,1.7922125503357849,1.8381667182931127,1.8841208862504406,1.9300750542077685,1.9760292221650961,2.021983390122424,2.067937558079752,2.1138917260370795,2.1598458939944076,2.2058000619517353,2.251754229909063],\"y\":[0.0,-0.44105644423569385,-0.8789452101424122,-1.3136662977201554,-1.7452197069689228,-2.173605437888715,-2.5988234904795315,-3.0208738647413726,-3.4397565606742386,-3.8554715782781286,-4.268018917553044,-4.677398578498983,-5.083610561115948,-5.486654865403936,-5.886531491362949,-6.283240438992985,-6.676781708294048,-7.067155299266136,-7.454361211909246,-7.838399446223382,-8.219270002208543,-8.596972879864728,-8.971508079191937,-9.342875600190172,-9.711075442859432,-10.076107607199713,-10.437972093211021,-10.796668900893353,-11.152198030246712,-11.504559481271093,-11.853753253966497,-12.199779348332928,-12.542637764370385,-12.882328502078865,-13.218851561458369,-13.552206942508896,-13.88239464523045,-14.20941466962303,-14.53326701568663,-14.853951683421258,-15.171468672826908,-15.485817983903587,-15.796999616651288,-16.10501357107001,-16.409859847159762,-16.711538444920535,-17.010049364352334,-17.30539260545516,-17.59756816822901,-17.886576052673878],\"type\":\"scatter\"}],                        {\"template\":{\"data\":{\"barpolar\":[{\"marker\":{\"line\":{\"color\":\"#E5ECF6\",\"width\":0.5},\"pattern\":{\"fillmode\":\"overlay\",\"size\":10,\"solidity\":0.2}},\"type\":\"barpolar\"}],\"bar\":[{\"error_x\":{\"color\":\"#2a3f5f\"},\"error_y\":{\"color\":\"#2a3f5f\"},\"marker\":{\"line\":{\"color\":\"#E5ECF6\",\"width\":0.5},\"pattern\":{\"fillmode\":\"overlay\",\"size\":10,\"solidity\":0.2}},\"type\":\"bar\"}],\"carpet\":[{\"aaxis\":{\"endlinecolor\":\"#2a3f5f\",\"gridcolor\":\"white\",\"linecolor\":\"white\",\"minorgridcolor\":\"white\",\"startlinecolor\":\"#2a3f5f\"},\"baxis\":{\"endlinecolor\":\"#2a3f5f\",\"gridcolor\":\"white\",\"linecolor\":\"white\",\"minorgridcolor\":\"white\",\"startlinecolor\":\"#2a3f5f\"},\"type\":\"carpet\"}],\"choropleth\":[{\"colorbar\":{\"outlinewidth\":0,\"ticks\":\"\"},\"type\":\"choropleth\"}],\"contourcarpet\":[{\"colorbar\":{\"outlinewidth\":0,\"ticks\":\"\"},\"type\":\"contourcarpet\"}],\"contour\":[{\"colorbar\":{\"outlinewidth\":0,\"ticks\":\"\"},\"colorscale\":[[0.0,\"#0d0887\"],[0.1111111111111111,\"#46039f\"],[0.2222222222222222,\"#7201a8\"],[0.3333333333333333,\"#9c179e\"],[0.4444444444444444,\"#bd3786\"],[0.5555555555555556,\"#d8576b\"],[0.6666666666666666,\"#ed7953\"],[0.7777777777777778,\"#fb9f3a\"],[0.8888888888888888,\"#fdca26\"],[1.0,\"#f0f921\"]],\"type\":\"contour\"}],\"heatmapgl\":[{\"colorbar\":{\"outlinewidth\":0,\"ticks\":\"\"},\"colorscale\":[[0.0,\"#0d0887\"],[0.1111111111111111,\"#46039f\"],[0.2222222222222222,\"#7201a8\"],[0.3333333333333333,\"#9c179e\"],[0.4444444444444444,\"#bd3786\"],[0.5555555555555556,\"#d8576b\"],[0.6666666666666666,\"#ed7953\"],[0.7777777777777778,\"#fb9f3a\"],[0.8888888888888888,\"#fdca26\"],[1.0,\"#f0f921\"]],\"type\":\"heatmapgl\"}],\"heatmap\":[{\"colorbar\":{\"outlinewidth\":0,\"ticks\":\"\"},\"colorscale\":[[0.0,\"#0d0887\"],[0.1111111111111111,\"#46039f\"],[0.2222222222222222,\"#7201a8\"],[0.3333333333333333,\"#9c179e\"],[0.4444444444444444,\"#bd3786\"],[0.5555555555555556,\"#d8576b\"],[0.6666666666666666,\"#ed7953\"],[0.7777777777777778,\"#fb9f3a\"],[0.8888888888888888,\"#fdca26\"],[1.0,\"#f0f921\"]],\"type\":\"heatmap\"}],\"histogram2dcontour\":[{\"colorbar\":{\"outlinewidth\":0,\"ticks\":\"\"},\"colorscale\":[[0.0,\"#0d0887\"],[0.1111111111111111,\"#46039f\"],[0.2222222222222222,\"#7201a8\"],[0.3333333333333333,\"#9c179e\"],[0.4444444444444444,\"#bd3786\"],[0.5555555555555556,\"#d8576b\"],[0.6666666666666666,\"#ed7953\"],[0.7777777777777778,\"#fb9f3a\"],[0.8888888888888888,\"#fdca26\"],[1.0,\"#f0f921\"]],\"type\":\"histogram2dcontour\"}],\"histogram2d\":[{\"colorbar\":{\"outlinewidth\":0,\"ticks\":\"\"},\"colorscale\":[[0.0,\"#0d0887\"],[0.1111111111111111,\"#46039f\"],[0.2222222222222222,\"#7201a8\"],[0.3333333333333333,\"#9c179e\"],[0.4444444444444444,\"#bd3786\"],[0.5555555555555556,\"#d8576b\"],[0.6666666666666666,\"#ed7953\"],[0.7777777777777778,\"#fb9f3a\"],[0.8888888888888888,\"#fdca26\"],[1.0,\"#f0f921\"]],\"type\":\"histogram2d\"}],\"histogram\":[{\"marker\":{\"pattern\":{\"fillmode\":\"overlay\",\"size\":10,\"solidity\":0.2}},\"type\":\"histogram\"}],\"mesh3d\":[{\"colorbar\":{\"outlinewidth\":0,\"ticks\":\"\"},\"type\":\"mesh3d\"}],\"parcoords\":[{\"line\":{\"colorbar\":{\"outlinewidth\":0,\"ticks\":\"\"}},\"type\":\"parcoords\"}],\"pie\":[{\"automargin\":true,\"type\":\"pie\"}],\"scatter3d\":[{\"line\":{\"colorbar\":{\"outlinewidth\":0,\"ticks\":\"\"}},\"marker\":{\"colorbar\":{\"outlinewidth\":0,\"ticks\":\"\"}},\"type\":\"scatter3d\"}],\"scattercarpet\":[{\"marker\":{\"colorbar\":{\"outlinewidth\":0,\"ticks\":\"\"}},\"type\":\"scattercarpet\"}],\"scattergeo\":[{\"marker\":{\"colorbar\":{\"outlinewidth\":0,\"ticks\":\"\"}},\"type\":\"scattergeo\"}],\"scattergl\":[{\"marker\":{\"colorbar\":{\"outlinewidth\":0,\"ticks\":\"\"}},\"type\":\"scattergl\"}],\"scattermapbox\":[{\"marker\":{\"colorbar\":{\"outlinewidth\":0,\"ticks\":\"\"}},\"type\":\"scattermapbox\"}],\"scatterpolargl\":[{\"marker\":{\"colorbar\":{\"outlinewidth\":0,\"ticks\":\"\"}},\"type\":\"scatterpolargl\"}],\"scatterpolar\":[{\"marker\":{\"colorbar\":{\"outlinewidth\":0,\"ticks\":\"\"}},\"type\":\"scatterpolar\"}],\"scatter\":[{\"fillpattern\":{\"fillmode\":\"overlay\",\"size\":10,\"solidity\":0.2},\"type\":\"scatter\"}],\"scatterternary\":[{\"marker\":{\"colorbar\":{\"outlinewidth\":0,\"ticks\":\"\"}},\"type\":\"scatterternary\"}],\"surface\":[{\"colorbar\":{\"outlinewidth\":0,\"ticks\":\"\"},\"colorscale\":[[0.0,\"#0d0887\"],[0.1111111111111111,\"#46039f\"],[0.2222222222222222,\"#7201a8\"],[0.3333333333333333,\"#9c179e\"],[0.4444444444444444,\"#bd3786\"],[0.5555555555555556,\"#d8576b\"],[0.6666666666666666,\"#ed7953\"],[0.7777777777777778,\"#fb9f3a\"],[0.8888888888888888,\"#fdca26\"],[1.0,\"#f0f921\"]],\"type\":\"surface\"}],\"table\":[{\"cells\":{\"fill\":{\"color\":\"#EBF0F8\"},\"line\":{\"color\":\"white\"}},\"header\":{\"fill\":{\"color\":\"#C8D4E3\"},\"line\":{\"color\":\"white\"}},\"type\":\"table\"}]},\"layout\":{\"annotationdefaults\":{\"arrowcolor\":\"#2a3f5f\",\"arrowhead\":0,\"arrowwidth\":1},\"autotypenumbers\":\"strict\",\"coloraxis\":{\"colorbar\":{\"outlinewidth\":0,\"ticks\":\"\"}},\"colorscale\":{\"diverging\":[[0,\"#8e0152\"],[0.1,\"#c51b7d\"],[0.2,\"#de77ae\"],[0.3,\"#f1b6da\"],[0.4,\"#fde0ef\"],[0.5,\"#f7f7f7\"],[0.6,\"#e6f5d0\"],[0.7,\"#b8e186\"],[0.8,\"#7fbc41\"],[0.9,\"#4d9221\"],[1,\"#276419\"]],\"sequential\":[[0.0,\"#0d0887\"],[0.1111111111111111,\"#46039f\"],[0.2222222222222222,\"#7201a8\"],[0.3333333333333333,\"#9c179e\"],[0.4444444444444444,\"#bd3786\"],[0.5555555555555556,\"#d8576b\"],[0.6666666666666666,\"#ed7953\"],[0.7777777777777778,\"#fb9f3a\"],[0.8888888888888888,\"#fdca26\"],[1.0,\"#f0f921\"]],\"sequentialminus\":[[0.0,\"#0d0887\"],[0.1111111111111111,\"#46039f\"],[0.2222222222222222,\"#7201a8\"],[0.3333333333333333,\"#9c179e\"],[0.4444444444444444,\"#bd3786\"],[0.5555555555555556,\"#d8576b\"],[0.6666666666666666,\"#ed7953\"],[0.7777777777777778,\"#fb9f3a\"],[0.8888888888888888,\"#fdca26\"],[1.0,\"#f0f921\"]]},\"colorway\":[\"#636efa\",\"#EF553B\",\"#00cc96\",\"#ab63fa\",\"#FFA15A\",\"#19d3f3\",\"#FF6692\",\"#B6E880\",\"#FF97FF\",\"#FECB52\"],\"font\":{\"color\":\"#2a3f5f\"},\"geo\":{\"bgcolor\":\"white\",\"lakecolor\":\"white\",\"landcolor\":\"#E5ECF6\",\"showlakes\":true,\"showland\":true,\"subunitcolor\":\"white\"},\"hoverlabel\":{\"align\":\"left\"},\"hovermode\":\"closest\",\"mapbox\":{\"style\":\"light\"},\"paper_bgcolor\":\"white\",\"plot_bgcolor\":\"#E5ECF6\",\"polar\":{\"angularaxis\":{\"gridcolor\":\"white\",\"linecolor\":\"white\",\"ticks\":\"\"},\"bgcolor\":\"#E5ECF6\",\"radialaxis\":{\"gridcolor\":\"white\",\"linecolor\":\"white\",\"ticks\":\"\"}},\"scene\":{\"xaxis\":{\"backgroundcolor\":\"#E5ECF6\",\"gridcolor\":\"white\",\"gridwidth\":2,\"linecolor\":\"white\",\"showbackground\":true,\"ticks\":\"\",\"zerolinecolor\":\"white\"},\"yaxis\":{\"backgroundcolor\":\"#E5ECF6\",\"gridcolor\":\"white\",\"gridwidth\":2,\"linecolor\":\"white\",\"showbackground\":true,\"ticks\":\"\",\"zerolinecolor\":\"white\"},\"zaxis\":{\"backgroundcolor\":\"#E5ECF6\",\"gridcolor\":\"white\",\"gridwidth\":2,\"linecolor\":\"white\",\"showbackground\":true,\"ticks\":\"\",\"zerolinecolor\":\"white\"}},\"shapedefaults\":{\"line\":{\"color\":\"#2a3f5f\"}},\"ternary\":{\"aaxis\":{\"gridcolor\":\"white\",\"linecolor\":\"white\",\"ticks\":\"\"},\"baxis\":{\"gridcolor\":\"white\",\"linecolor\":\"white\",\"ticks\":\"\"},\"bgcolor\":\"#E5ECF6\",\"caxis\":{\"gridcolor\":\"white\",\"linecolor\":\"white\",\"ticks\":\"\"}},\"title\":{\"x\":0.05},\"xaxis\":{\"automargin\":true,\"gridcolor\":\"white\",\"linecolor\":\"white\",\"ticks\":\"\",\"title\":{\"standoff\":15},\"zerolinecolor\":\"white\",\"zerolinewidth\":2},\"yaxis\":{\"automargin\":true,\"gridcolor\":\"white\",\"linecolor\":\"white\",\"ticks\":\"\",\"title\":{\"standoff\":15},\"zerolinecolor\":\"white\",\"zerolinewidth\":2}}}},                        {\"responsive\": true}                    ).then(function(){\n",
       "                            \n",
       "var gd = document.getElementById('9db28d21-a96d-4297-9fd4-23d3083d9e5e');\n",
       "var x = new MutationObserver(function (mutations, observer) {{\n",
       "        var display = window.getComputedStyle(gd).display;\n",
       "        if (!display || display === 'none') {{\n",
       "            console.log([gd, 'removed!']);\n",
       "            Plotly.purge(gd);\n",
       "            observer.disconnect();\n",
       "        }}\n",
       "}});\n",
       "\n",
       "// Listen for the removal of the full notebook cells\n",
       "var notebookContainer = gd.closest('#notebook-container');\n",
       "if (notebookContainer) {{\n",
       "    x.observe(notebookContainer, {childList: true});\n",
       "}}\n",
       "\n",
       "// Listen for the clearing of the current output cell\n",
       "var outputEl = gd.closest('.output');\n",
       "if (outputEl) {{\n",
       "    x.observe(outputEl, {childList: true});\n",
       "}}\n",
       "\n",
       "                        })                };                });            </script>        </div>"
      ]
     },
     "metadata": {},
     "output_type": "display_data"
    }
   ],
   "source": [
    "a = float(input(\"enter a: \"))\n",
    "b = float(input(\"enter b: \") )\n",
    "c = float(input(\"enter c: \"))\n",
    "d = float(input(\"enter d: \"))\n",
    "G = float(input(\"enter G: \"))\n",
    "al = float(input(\"enter alpha value: \"))\n",
    "main = mainFind(a,b,c,d)\n",
    "theta = main[2]\n",
    "AngledPlot = [main[0]]\n",
    "deAngledPlot = [main[1]]\n",
    "tmax = main[3]\n",
    "numPoints = int(input(\"enter the number of points you would like to do: \"))\n",
    "point=1\n",
    "listOfTs=[[\"lenght\",\"xt\",\"yt\",\"t\"]]\n",
    "RelInfo = [[\"p,q\"],\"length\",[\"txy\"]]\n",
    "while point < (numPoints+1):\n",
    "    p = float(input(\"enter p value for point: \" +str(point)))\n",
    "    q = float(input(\"endter q value for point: \" + str(point)))\n",
    "    ArrayDAC = deAngleCurve(G,al,p,q,theta,a,b) #returns length, txy, dplot, raplot\n",
    "    info= [[p,q], ArrayDAC[0], ArrayDAC[1]]\n",
    "    RelInfo.append(info)\n",
    "    deAngledPlot.append(ArrayDAC[2])\n",
    "    AngledPlot.append(ArrayDAC[3])\n",
    "    point = point +1\n",
    "print(RelInfo)\n",
    "iplot(AngledPlot)\n",
    "iplot(deAngledPlot)\n",
    "iplot(AngledPlot +deAngledPlot)"
   ]
  },
  {
   "cell_type": "code",
   "execution_count": null,
   "id": "28eb1b06-70b0-4f9e-aacb-6c38a5528b9b",
   "metadata": {},
   "outputs": [],
   "source": []
  },
  {
   "cell_type": "code",
   "execution_count": null,
   "id": "26ae7b13-8425-4089-8704-d9b93583cab6",
   "metadata": {},
   "outputs": [],
   "source": []
  },
  {
   "cell_type": "code",
   "execution_count": null,
   "id": "3c3f4c5c-fca9-40dd-977d-7bc89940a805",
   "metadata": {},
   "outputs": [],
   "source": []
  }
 ],
 "metadata": {
  "kernelspec": {
   "display_name": "Python 3 (ipykernel)",
   "language": "python",
   "name": "python3"
  },
  "language_info": {
   "codemirror_mode": {
    "name": "ipython",
    "version": 3
   },
   "file_extension": ".py",
   "mimetype": "text/x-python",
   "name": "python",
   "nbconvert_exporter": "python",
   "pygments_lexer": "ipython3",
   "version": "3.10.9"
  }
 },
 "nbformat": 4,
 "nbformat_minor": 5
}
