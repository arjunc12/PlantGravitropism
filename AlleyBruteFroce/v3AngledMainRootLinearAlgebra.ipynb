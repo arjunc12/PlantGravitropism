{
 "cells": [
  {
   "cell_type": "code",
   "execution_count": 1,
   "id": "8defaecb-47ee-44f6-8300-2549a5fb73d4",
   "metadata": {},
   "outputs": [],
   "source": [
    "import matplotlib.pyplot as plt\n",
    "import numpy as np\n",
    "import pylab\n",
    "import scipy\n",
    "import plotly\n",
    "from plotly import graph_objs as go\n",
    "from plotly.offline import iplot, plot, init_notebook_mode"
   ]
  },
  {
   "cell_type": "code",
   "execution_count": 2,
   "id": "b4f83ddb-384d-41a5-a70b-732d42dd46e4",
   "metadata": {},
   "outputs": [],
   "source": [
    "def findTheta (a,b,c,d):\n",
    "    theta = np.arctan((np.absolute(a-c))/(np.absolute(b-d)))\n",
    "    m = (b-d)/(a-c)\n",
    "    if m > 0:\n",
    "        theta =-theta\n",
    "    return theta"
   ]
  },
  {
   "cell_type": "code",
   "execution_count": 3,
   "id": "af2958aa-4cfc-4a2d-9a85-68581febc49d",
   "metadata": {},
   "outputs": [],
   "source": [
    "def rotateLine(xs,ys,theta,a,b):\n",
    "    nx=[]\n",
    "    ny=[]\n",
    "    R = [[np.cos(theta), -np.sin(theta)],[np.sin(theta), np.cos(theta)]]\n",
    "    for i in range(0,len(xs)):\n",
    "        A =[xs[i]-a,ys[i]-b]\n",
    "        xy=np.array(np.matmul(A,R))\n",
    "        nx.append(xy[0])\n",
    "        ny.append(xy[1])\n",
    "    return(nx, ny)"
   ]
  },
  {
   "cell_type": "code",
   "execution_count": 4,
   "id": "b953c4c3-5726-4dba-9413-1bd8813e2ad0",
   "metadata": {},
   "outputs": [],
   "source": [
    "def mainRootArrays(a,b,c,d):\n",
    "    xs = np.linspace(a,c)\n",
    "    m=(b-d)/(a-c)\n",
    "    ys= m*(xs-a)+b\n",
    "    return(xs,ys)"
   ]
  },
  {
   "cell_type": "code",
   "execution_count": 5,
   "id": "0760757c-cb72-44bb-b2f7-b7eb8de08de3",
   "metadata": {},
   "outputs": [],
   "source": [
    "def findBest(Tmax,G,p,q,a):\n",
    "    t=0\n",
    "    bestLength= 1000000000000.0\n",
    "    bestT = t\n",
    "    while t >= Tmax:\n",
    "        b = (q - G * (p**2) - t)/p\n",
    "        if p>0:\n",
    "            x =np.linspace(0, p, num=50)\n",
    "        elif p < 0:\n",
    "            x =np.linspace(p, 0, num=50)\n",
    "        lot = np.sqrt(1+(2*G*x + ((q-G*(p**2)-t)/p))**2)\n",
    "        y= a*(lot) +(1-a)*(lot - t)\n",
    "        length = scipy.integrate.trapezoid(y,x)\n",
    "        if length < bestLength:\n",
    "            #ploting(Tmax,p,q,bestT,G) #comparing possible lines\n",
    "            bestLength = length\n",
    "            bestT = t\n",
    "        t = t - 0.01 #last \n",
    "    #ploting(Tmax,p,q,bestT,G)\n",
    "    #print(\"length: \" + str(bestLength) +\" t= \" + str(bestT))\n",
    "    return(bestLength,bestT)"
   ]
  },
  {
   "cell_type": "code",
   "execution_count": 6,
   "id": "bb3db6a3-8ae0-488c-8c63-50543710c289",
   "metadata": {},
   "outputs": [],
   "source": [
    "def reAngle(xs, ys, theata, a,b):\n",
    "    nx =[]\n",
    "    ny=[]\n",
    "    R = [[np.cos(theta), -np.sin(theta)],[np.sin(theta), np.cos(theta)]]\n",
    "    inR = np.linalg.inv(R)\n",
    "    ab= [a,b]\n",
    "    for i in range(0, len(xs)):\n",
    "        Ap = [xs[i],ys[i]]\n",
    "        xy=np.array(np.add(np.matmul(Ap,inR),ab))\n",
    "        nx.append(xy[0])\n",
    "        ny.append(xy[1])\n",
    "    return(nx, ny)"
   ]
  },
  {
   "cell_type": "code",
   "execution_count": 7,
   "id": "e0e84750-bc96-4222-b584-03f536fc4340",
   "metadata": {},
   "outputs": [],
   "source": [
    "def plotDeAngle (tmax,G,p,q,t):\n",
    "    x = np.linspace(0,p)\n",
    "    if p <0:\n",
    "        x = np.linspace(p,0)\n",
    "    b=(q - G*(p**2) -t)/p\n",
    "    y=G * x**2 + b*x + t\n",
    "    return (x,y)"
   ]
  },
  {
   "cell_type": "code",
   "execution_count": 8,
   "id": "eae34f48-05f3-44dd-86fc-b9a4ecaff1f9",
   "metadata": {},
   "outputs": [],
   "source": [
    "def mainFind(a,b,c,d):\n",
    "    xy = mainRootArrays(a,b,c,d)\n",
    "    theta = findTheta(a,b,c,d)\n",
    "    nxy = rotateLine(xy[0],xy[1],theta,a,b)\n",
    "    aMain = go.Scatter(x = xy[0], y= xy[1], mode = 'lines', name = \"angled\")\n",
    "    dMain = go.Scatter(x= nxy[0], y = nxy[1], mode = 'lines', name = \"deangled\")\n",
    "    tmax = rotateLine([c],[d], theta, a,b)\n",
    "    tmax = tmax[1][0]\n",
    "    return (aMain,dMain, theta,tmax)"
   ]
  },
  {
   "cell_type": "code",
   "execution_count": 9,
   "id": "e0dd6fbd-109a-4c14-9d7e-4ef393abdc68",
   "metadata": {},
   "outputs": [],
   "source": [
    "def deAngleCurve(G,al,p,q,theta,a,b):\n",
    "    pq = rotateLine([p],[q], theta, a,b)\n",
    "    pn = pq[0][0]\n",
    "    qn = pq[1][0]\n",
    "    best = findBest(tmax, G,pn,qn,al) #returns bestLength and bestT\n",
    "    dPlotA = plotDeAngle(tmax, G, pn ,qn,best[1])\n",
    "    dPlot = go.Scatter(x = dPlotA[0], y = dPlotA[1], mode= 'lines' , name = str(best[0]))\n",
    "    raPlotA = reAngle(dPlotA[0], dPlotA[1],theta,a,b)\n",
    "    raPlot = go.Scatter(x = raPlotA[0], y = raPlotA[1], mode = 'lines', name = str(best[0]))\n",
    "    txy = reAngle([0],[best[1]], theta,a,b)\n",
    "    return(best[0], txy, dPlot,raPlot)"
   ]
  },
  {
   "cell_type": "code",
   "execution_count": null,
   "id": "f56e9dbc-3197-42a8-9ff0-fe1e1423c97d",
   "metadata": {},
   "outputs": [],
   "source": [
    "a = float(input(\"enter a: \"))\n",
    "b = float(input(\"enter b: \") )\n",
    "c = float(input(\"enter c: \"))\n",
    "d = float(input(\"enter d: \"))\n",
    "G = float(input(\"enter G: \"))\n",
    "al = float(input(\"enter alpha value: \"))\n",
    "main = mainFind(a,b,c,d) # returns aMain dMain theta, tmax\n",
    "theta = main[2]\n",
    "AngledPlot = [main[0]]\n",
    "deAngledPlot = [main[1]]\n",
    "tmax = main[3]\n",
    "numPoints = int(input(\"enter the number of points you would like to do: \"))\n",
    "point=1\n",
    "listOfTs=[[\"lenght\",\"xt\",\"yt\",\"t\"]]\n",
    "RelInfo = [[\"p,q\"],\"length\",[\"txy\"]]\n",
    "while point < (numPoints+1):\n",
    "    p = float(input(\"enter p value for point: \" +str(point)))\n",
    "    q = float(input(\"endter q value for point: \" + str(point)))\n",
    "    ArrayDAC = deAngleCurve(G,al,p,q,theta,a,b) #returns length, txy, dplot, raplot\n",
    "    info= [[p,q], ArrayDAC[0], ArrayDAC[1]]\n",
    "    RelInfo.append(info)\n",
    "    deAngledPlot.append(ArrayDAC[2])\n",
    "    AngledPlot.append(ArrayDAC[3])\n",
    "    point = point +1\n",
    "print(RelInfo)\n",
    "iplot(AngledPlot)\n",
    "iplot(deAngledPlot)\n",
    "iplot(AngledPlot +deAngledPlot)"
   ]
  },
  {
   "cell_type": "code",
   "execution_count": null,
   "id": "28eb1b06-70b0-4f9e-aacb-6c38a5528b9b",
   "metadata": {},
   "outputs": [],
   "source": []
  },
  {
   "cell_type": "code",
   "execution_count": null,
   "id": "26ae7b13-8425-4089-8704-d9b93583cab6",
   "metadata": {},
   "outputs": [],
   "source": []
  },
  {
   "cell_type": "code",
   "execution_count": null,
   "id": "3c3f4c5c-fca9-40dd-977d-7bc89940a805",
   "metadata": {},
   "outputs": [],
   "source": []
  }
 ],
 "metadata": {
  "kernelspec": {
   "display_name": "Python 3 (ipykernel)",
   "language": "python",
   "name": "python3"
  },
  "language_info": {
   "codemirror_mode": {
    "name": "ipython",
    "version": 3
   },
   "file_extension": ".py",
   "mimetype": "text/x-python",
   "name": "python",
   "nbconvert_exporter": "python",
   "pygments_lexer": "ipython3",
   "version": "3.10.9"
  }
 },
 "nbformat": 4,
 "nbformat_minor": 5
}
