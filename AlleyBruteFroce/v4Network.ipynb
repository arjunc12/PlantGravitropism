{
 "cells": [
  {
   "cell_type": "code",
   "execution_count": 3,
   "id": "8a174fc9-b7bc-46d4-ba09-044a4287e4b4",
   "metadata": {},
   "outputs": [],
   "source": [
    "#import matplotlib.pyplot as plt\n",
    "import numpy as np\n",
    "import pylab\n",
    "import scipy\n",
    "import plotly\n",
    "from plotly import graph_objs as go\n",
    "from plotly.offline import iplot, plot, init_notebook_mode\n",
    "import networkx as nx\n",
    "# importing librarys"
   ]
  },
  {
   "cell_type": "code",
   "execution_count": 4,
   "id": "1e0d5a03-06f2-4849-8c44-ac09b83235a5",
   "metadata": {},
   "outputs": [],
   "source": [
    "def parseData(file):\n",
    "    import csv\n",
    "    Data =[]\n",
    "    with open(file) as csv_file:\n",
    "        csv_reader = csv.reader(csv_file, delimiter=',')\n",
    "        for lines in csv_reader:\n",
    "           Data.append(lines)\n",
    "        mainRootPoints =[]\n",
    "        c=1\n",
    "        while len(Data[c]) != 1:\n",
    "            point = [float(Data[c][0]),float(Data[c][1])]\n",
    "            mainRootPoints.append(point)\n",
    "            c= c+1\n",
    "        pqs =[]\n",
    "        pq=[]\n",
    "        c=c+1\n",
    "        while c < len(Data):\n",
    "            if len(Data[c]) ==1:\n",
    "                pqs.append(pq)\n",
    "                pq =[]\n",
    "            if len(Data[c]) ==2:\n",
    "                point = [float(Data[c][0]),float(Data[c][1])]\n",
    "                pq.append(point)\n",
    "            c = c+1\n",
    "        pqs.append(pq)\n",
    "    return (mainRootPoints, pqs)\n",
    "#Making the data into readable segments"
   ]
  },
  {
   "cell_type": "code",
   "execution_count": 5,
   "id": "9e90edb4-9701-4fe9-89aa-e8bf2073349d",
   "metadata": {},
   "outputs": [],
   "source": [
    "def readArborFile(fileName):\n",
    "    Array = parseData(fileName)\n",
    "    mainRootPoints = Array[0]\n",
    "    lateralRoots =Array[1]\n",
    "    Plant = nx.Graph()\n",
    "    #adding the mainroot base to graph\n",
    "    Plant.add_node(0)\n",
    "    Plant._node[0]['label']= 'main root base'\n",
    "    Plant._node[0]['coordinate'] = [mainRootPoints[0][0], mainRootPoints[0][1]]\n",
    "    Plant._node[0]['root number']= 0\n",
    "    #constructing the main root\n",
    "    for i in range(1, len(mainRootPoints)):\n",
    "        Plant.add_node(i)\n",
    "        Plant._node[i]['label']= 'main root'\n",
    "        Plant._node[i]['coordinate'] = (mainRootPoints[i][0], mainRootPoints[i][1])\n",
    "        Plant._node[i]['root number']=0\n",
    "        Plant.add_edge(i-1,i)\n",
    "        Plant[i-1][i]['label'] = 'main root'\n",
    "        Plant[i-1][i]['G'] = 0\n",
    "        Plant[i-1][i]['root number']=0\n",
    "    #this way we can have individual labels for points\n",
    "    count = len(mainRootPoints)\n",
    "    rootNumber =1\n",
    "    #constructing the lateral roots\n",
    "    for root in lateralRoots:\n",
    "        # constructing a lateral root\n",
    "        #making the first point\n",
    "        Plant.add_node(count)\n",
    "        Plant._node[count]['label'] = 'lateral root'\n",
    "        Plant._node[count]['coordinate'] = (root[0][0],root[0][1])\n",
    "        Plant._node[count]['root number'] = rootNumber\n",
    "        #making the inside points and edges\n",
    "        for i in range(1,len(root) -1):\n",
    "            c =count +i\n",
    "            Plant.add_node(c)\n",
    "            Plant._node[c]['label'] = 'lateral root'\n",
    "            Plant._node[c]['coordinate'] = (root[i][0],root[i][1])\n",
    "            Plant._node[c]['root number'] = rootNumber\n",
    "            Plant.add_edge(c-1,c)\n",
    "            Plant[c-1][c]['label'] = 'lateral root'\n",
    "            Plant[c-1][c]['G']=0\n",
    "            Plant[c-1][c]['root number'] = rootNumber\n",
    "        #making the root tip\n",
    "        count = count +len(root)-1\n",
    "        Plant.add_node(count)\n",
    "        Plant._node[count]['label'] = 'lateral root tip'\n",
    "        Plant._node[count]['coordinate'] = (root[-1][0],root[-1][1])\n",
    "        Plant._node[count]['root number'] = rootNumber\n",
    "        Plant.add_edge(count-1,count)\n",
    "        Plant[count-1][count]['label'] = 'lateral root'\n",
    "        Plant[count-1][count]['G'] =0\n",
    "        Plant[count-1][count]['root number'] = rootNumber\n",
    "        count = count+1\n",
    "        rootNumber = rootNumber+1\n",
    "    # return a networkX graph of the arbor\n",
    "    return Plant"
   ]
  },
  {
   "cell_type": "code",
   "execution_count": 6,
   "id": "d1244b38-4000-4ae0-95b4-b6b25ffbfd95",
   "metadata": {},
   "outputs": [],
   "source": [
    "def optimalArbor(arbor, G, alpha):\n",
    "    MainRootPoints = []\n",
    "    pqs=[]\n",
    "    Plant = nx.Graph()\n",
    "    c=0\n",
    "    for node in arbor.nodes():\n",
    "        x, y = arbor.nodes[node]['coordinate']\n",
    "        if 'main root base' == arbor.nodes[node]['label']:\n",
    "            MainRootPoints.append([x,y])\n",
    "            Plant.add_node(c)\n",
    "            Plant._node[c]['label'] = arbor.nodes[node]['label']\n",
    "            Plant._node[c]['coordinate'] = arbor.nodes[node]['coordinate']\n",
    "            Plant._node[c]['root number'] =arbor.nodes[node]['root number']\n",
    "            c = c+1\n",
    "        elif 'main root' == arbor.nodes[node]['label']:\n",
    "            MainRootPoints.append([x,y])\n",
    "            Plant.add_node(c)\n",
    "            Plant._node[c]['label'] = arbor.nodes[node]['label']\n",
    "            Plant._node[c]['coordinate'] = arbor.nodes[node]['coordinate']\n",
    "            Plant.add_edge(c-1,c)\n",
    "            Plant[c-1][c]['label'] = 'main root'\n",
    "            Plant[c-1][c]['G'] =0\n",
    "            Plant[c-1][c]['root number'] =0\n",
    "            c = c+1\n",
    "        elif 'lateral root tip' == arbor.nodes[node]['label']:\n",
    "            pqs.append([x,y])\n",
    "            Plant.add_node(c)\n",
    "            Plant._node[c]['label'] = arbor.nodes[node]['label']\n",
    "            Plant._node[c]['coordinate'] = arbor.nodes[node]['coordinate']\n",
    "            c = c+1\n",
    "    rootNumber =1\n",
    "    for pq in pqs:\n",
    "        Array =findMostOptimal(MainRootPoints,G, alpha,pq) \n",
    "        txy =Array[0]\n",
    "        xs=Array[1]\n",
    "        ys=Array[2]\n",
    "        Plant.add_node(c)\n",
    "        Plant._node[c]['label']='optimal'\n",
    "        Plant._node[c]['root number'] = rootNumber\n",
    "        tx = txy[0][0]\n",
    "        ty = txy[1][0]\n",
    "        Plant._node[c]['coordinate'] = [tx,ty]\n",
    "        Plant._node[c]['pq'] = pq\n",
    "        for node in Plant.nodes():\n",
    "            if 'lateral root tip' == Plant.nodes[node]['label']:\n",
    "                if (pq[0],pq[1]) == Plant.nodes[node]['coordinate']:\n",
    "                    Plant.add_edge(c, node)\n",
    "                    Plant[c][node]['label'] ='lateral root'\n",
    "                    Plant[c][node]['root number'] = rootNumber\n",
    "                    Plant[c][node]['G'] = G\n",
    "                    Plant[c][node]['xs'] = xs\n",
    "                    Plant[c][node]['ys']= ys\n",
    "                    break\n",
    "        rootNumber = rootNumber +1\n",
    "        c=c+1\n",
    "    return Plant\n",
    "    # arbor is a networkx graph\n",
    "    # return a networkx graph representing optimal arbor"
   ]
  },
  {
   "cell_type": "code",
   "execution_count": 7,
   "id": "7ac23d89-24f6-47de-994a-53d205e6398f",
   "metadata": {},
   "outputs": [],
   "source": [
    "def findMostOptimal(MainRootPoints,G, al,pq):\n",
    "    p = pq[0]\n",
    "    q = pq[1]\n",
    "    point1 = MainRootPoints[0]\n",
    "    point2 = MainRootPoints[1]\n",
    "    CD = 0\n",
    "    bestDAC = findOptimalInSegment(point1, point2,G,al,pq,CD) \n",
    "    #return length, txy, xs,ys\n",
    "    bestLength = bestDAC[0] \n",
    "    for i in range(2, len(MainRootPoints)):\n",
    "        length = findOptimalInSegment(point1, point2,G,al,pq,CD)[0]\n",
    "        if length < bestLength:\n",
    "            bestDAC = findOptimalInSegment(point1, point2,G,al,pq,CD)\n",
    "            #returns length, txy, xs, ys\n",
    "            bestLength = length\n",
    "        CD = CD +findOptimalInSegment(point1, point2,G,al,pq,CD)[4] \n",
    "        point1 = point2\n",
    "        point2 = MainRootPoints[i]\n",
    "    return (bestDAC[1:])\n",
    "    #returen [txy,xs,ys]"
   ]
  },
  {
   "cell_type": "code",
   "execution_count": 8,
   "id": "5959683d-424f-4802-ba02-92d34f252528",
   "metadata": {},
   "outputs": [],
   "source": [
    "def findOptimalInSegment(point1, point2,G,al,pq,CD):\n",
    "    a =point1[0]\n",
    "    b= point1[1]\n",
    "    c= point2[0]\n",
    "    d = point2[1]\n",
    "    p=pq[0]\n",
    "    q=pq[1]\n",
    "    theta = findTheta (a,b,c,d) \n",
    "    ArrayDAC = deAngleCurve(G,al,p,q,theta,a,b,c,d,CD) \n",
    "    #return length, txy, xs,ys, cd\n",
    "    return (ArrayDAC)\n",
    "    #return length, txy, xs,ys,cd"
   ]
  },
  {
   "cell_type": "code",
   "execution_count": 9,
   "id": "fd82c4d6-3f5b-4e8b-ad16-847b07661ac0",
   "metadata": {},
   "outputs": [],
   "source": [
    "def findTheta (a,b,c,d):\n",
    "    theta = np.arctan((np.absolute(a-c))/(np.absolute(b-d)))\n",
    "    m = (b-d)/(a-c)\n",
    "    if m > 0:\n",
    "        theta =-theta\n",
    "    return theta"
   ]
  },
  {
   "cell_type": "code",
   "execution_count": 10,
   "id": "e99a341b-70cc-4943-8b25-595a6a112c16",
   "metadata": {},
   "outputs": [],
   "source": [
    "def deAngleCurve(G,al,p,q,theta,a,b,c,d,CD):\n",
    "    pq = rotateLine([p],[q], theta, c,d) \n",
    "    #returns pq in this case\n",
    "    pn = pq[0][0]\n",
    "    qn = pq[1][0]\n",
    "    tmax = rotateLine([c],[d], theta, a,b)\n",
    "    tmax = tmax[1][0]\n",
    "    best = findBest(tmax, G,pn,qn,al,CD)\n",
    "    #returns best length and t\n",
    "    t = best[1]\n",
    "    XYPrime = XYDeAngle (tmax,G,pn,qn,t)\n",
    "    #return x,y\n",
    "    txy = reAngle([0],[best[1]], theta,c,d)\n",
    "    XY = reAngle(XYPrime[0], XYPrime[1], theta,c,d)\n",
    "    return(best[0], txy,XY[0],XY[1],CD)\n",
    "    #return length, txy, xs,ys"
   ]
  },
  {
   "cell_type": "code",
   "execution_count": 11,
   "id": "ce2986f3-b38d-4d11-bcc9-f64bd96eefbc",
   "metadata": {},
   "outputs": [],
   "source": [
    "def rotateLine(xs,ys,theta,a,b):\n",
    "    nx=[]\n",
    "    ny=[]\n",
    "    R = [[np.cos(theta), -np.sin(theta)],[np.sin(theta), np.cos(theta)]]\n",
    "    for i in range(0,len(xs)):\n",
    "        A =[xs[i]-a,ys[i]-b]\n",
    "        xy=np.array(np.matmul(A,R))\n",
    "        nx.append(xy[0])\n",
    "        ny.append(xy[1])\n",
    "    return(nx, ny)"
   ]
  },
  {
   "cell_type": "code",
   "execution_count": 12,
   "id": "2718816c-6ed3-4a50-82e4-000b949da47a",
   "metadata": {},
   "outputs": [],
   "source": [
    "def findBest(Tmax,G,p,q,a,CD):\n",
    "    t=0\n",
    "    Tmax = -Tmax\n",
    "    bestLength= 100000000000000000000.0\n",
    "    bestT = t\n",
    "    while t >= Tmax:\n",
    "        b = (q - G * (p**2) - t)/p\n",
    "        if p>0:\n",
    "            x =np.linspace(0, p, num=50)\n",
    "        elif p < 0:\n",
    "            x =np.linspace(p, 0, num=50)\n",
    "        lot = np.sqrt(1+(2*G*x + ((q-G*(p**2)-t)/p))**2)\n",
    "        lot = scipy.integrate.trapezoid(lot,x)\n",
    "        y= a*(lot) +(1-a)*(lot+CD+t)\n",
    "        length = y\n",
    "        if length < bestLength:\n",
    "            bestLength = length\n",
    "            bestT = t\n",
    "        t = t - 0.001 #last \n",
    "    return(bestLength,bestT)"
   ]
  },
  {
   "cell_type": "code",
   "execution_count": 13,
   "id": "47d41338-99ed-41e7-8160-1c5fdf393859",
   "metadata": {},
   "outputs": [],
   "source": [
    "def XYDeAngle (tmax,G,p,q,t):\n",
    "    x = np.linspace(0,p)\n",
    "    if p <0:\n",
    "        x = np.linspace(p,0)\n",
    "    b=(q - G*(p**2) -t)/p\n",
    "    y=G * x**2 + b*x + t\n",
    "    return (x,y)"
   ]
  },
  {
   "cell_type": "code",
   "execution_count": 14,
   "id": "53219964-7fbe-4f16-95a6-8c966cd384bc",
   "metadata": {},
   "outputs": [],
   "source": [
    "def reAngle(xs, ys, theta, a,b):\n",
    "    nx =[]\n",
    "    ny=[]\n",
    "    R = [[np.cos(theta), -np.sin(theta)],[np.sin(theta), np.cos(theta)]]\n",
    "    inR = np.linalg.inv(R)\n",
    "    ab= [a,b]\n",
    "    for i in range(0, len(xs)):\n",
    "        Ap = [xs[i],ys[i]]\n",
    "        App = np.matmul(Ap,inR)\n",
    "        xy=np.array(np.add(App,ab))\n",
    "        nx.append(xy[0])\n",
    "        ny.append(xy[1])\n",
    "    return(nx, ny)"
   ]
  },
  {
   "cell_type": "code",
   "execution_count": 15,
   "id": "38bbdf36-3179-4150-9409-5454b4a118c1",
   "metadata": {},
   "outputs": [],
   "source": [
    "def drawArbor(arbor):\n",
    "    MainXs=[]\n",
    "    MainYs=[]\n",
    "    LateralXs=[]\n",
    "    LateralYs=[]\n",
    "    optX =[]\n",
    "    optY=[]\n",
    "    for node in arbor.nodes():\n",
    "        x, y = arbor.nodes[node]['coordinate']\n",
    "        if 'main root base' == arbor.nodes[node]['label']:\n",
    "            baseX, baseY = x,y\n",
    "        elif 'main root' == arbor.nodes[node]['label']:\n",
    "            MainXs.append(x)\n",
    "            MainYs.append(y)\n",
    "        elif 'optimal' == arbor.nodes[node]['label']:\n",
    "            optX.append(x)\n",
    "            optY.append(y)\n",
    "        else:\n",
    "            LateralXs.append(x)\n",
    "            LateralYs.append(y)\n",
    "    node_mainBase =go.Scatter(x =[baseX], y = [baseY], mode='markers', name= 'main root base')\n",
    "    node_main= go.Scatter(x = MainXs, y = MainYs, mode = 'markers', name = 'main root points')\n",
    "    node_lateral = go.Scatter(x = LateralXs, y =LateralYs, mode = 'markers', name = 'lateral root points')\n",
    "    node_opt = go.Scatter(x=optX, y= optY, mode= 'markers', name = 'optimal connections')\n",
    "    MainXs=[]\n",
    "    MainYs=[]\n",
    "    LateralXs=[]\n",
    "    LateralYs=[]\n",
    "    for edge in arbor.edges():\n",
    "        if 'main root' == arbor.edges[edge]['label']:\n",
    "            x0, y0 = arbor.nodes[edge[0]]['coordinate']\n",
    "            x1, y1 = arbor.nodes[edge[1]]['coordinate']\n",
    "            MainXs.append(x0)\n",
    "            MainXs.append(x1)\n",
    "            MainXs.append(None)\n",
    "            MainYs.append(y0)\n",
    "            MainYs.append(y1)\n",
    "            MainYs.append(None)\n",
    "        elif 0 != arbor.edges[edge]['G']:\n",
    "            xs = arbor.edges[edge]['xs']\n",
    "            ys = arbor.edges[edge]['ys']\n",
    "            for x in xs:\n",
    "                LateralXs.append(x)\n",
    "            LateralXs.append(None)\n",
    "            for y in ys:\n",
    "                LateralYs.append(y)\n",
    "            LateralYs.append(None)\n",
    "        else:\n",
    "            x0, y0 = arbor.nodes[edge[0]]['coordinate']\n",
    "            x1, y1 = arbor.nodes[edge[1]]['coordinate']\n",
    "            LateralXs.append(x0)\n",
    "            LateralXs.append(x1)\n",
    "            LateralXs.append(None)\n",
    "            LateralYs.append(y0)\n",
    "            LateralYs.append(y1)\n",
    "            LateralYs.append(None)\n",
    "    edge_main = go.Scatter(x = MainXs, y =MainYs, mode = 'lines', name ='main root')\n",
    "    edge_lateral = go.Scatter(x = LateralXs, y= LateralYs, mode='lines', name = 'lateral root')\n",
    "    Array = [node_mainBase,node_main, node_opt, node_lateral,edge_main,edge_lateral]\n",
    "    return Array\n",
    "    # arbor is a networkx graph\n",
    "    # draw the arbor in plotly"
   ]
  },
  {
   "cell_type": "code",
   "execution_count": 16,
   "id": "0df43ece-ce79-4864-9853-644e99a0cdd8",
   "metadata": {},
   "outputs": [],
   "source": [
    "def FileDraw(file,G,alpha):\n",
    "    Plant = readArborFile(file)\n",
    "    fig=go.Figure()\n",
    "    array = drawArbor(Plant)\n",
    "    for x in array:\n",
    "        fig.add_trace(x)\n",
    "    print(\"original\")\n",
    "    fig.show()\n",
    "    Plant2 = optimalArbor(Plant, G, alpha)\n",
    "    fig2 = go.Figure(drawArbor(Plant2))\n",
    "    array = drawArbor(Plant2)\n",
    "    for x in array:\n",
    "        fig.add_trace(x)\n",
    "    print(\"optimal given: \", G, \" \", alpha)\n",
    "    fig2.show()\n",
    "    print(\"optimal and original super imposed given: \",G, \", \", alpha )\n",
    "    fig.show()\n"
   ]
  },
  {
   "cell_type": "code",
   "execution_count": 17,
   "id": "c4fbca31-a49e-4cb4-ab97-7eb12804d47c",
   "metadata": {},
   "outputs": [],
   "source": [
    "def supperImpose(file,G,alpha):\n",
    "    Plant = readArborFile(file)\n",
    "    fig=go.Figure()\n",
    "    array = drawArbor(Plant)\n",
    "    for x in array:\n",
    "        fig.add_trace(x)\n",
    "    Plant2 = optimalArbor(Plant, G, alpha)\n",
    "    array = drawArbor(Plant2)\n",
    "    for x in array:\n",
    "        fig.add_trace(x)\n",
    "    print(\"optimal and original super imposed given: G=\",G, \", alpha=\", alpha )\n",
    "    fig.show()"
   ]
  },
  {
   "cell_type": "code",
   "execution_count": 25,
   "id": "07cedf8a-ae23-4312-b61e-03db9dc6f994",
   "metadata": {},
   "outputs": [
    {
     "name": "stdout",
     "output_type": "stream",
     "text": [
      "optimal and original super imposed given: G= -0.5 , alpha= 0\n"
     ]
    },
    {
     "data": {
      "application/vnd.plotly.v1+json": {
       "config": {
        "plotlyServerURL": "https://plot.ly"
       },
       "data": [
        {
         "mode": "markers",
         "name": "main root base",
         "type": "scatter",
         "x": [
          7.014674
         ],
         "y": [
          4.083105
         ]
        },
        {
         "mode": "markers",
         "name": "main root points",
         "type": "scatter",
         "x": [
          7.068931,
          7.097697,
          7.102405,
          7.096509,
          7.078003,
          7.057387,
          7.064473,
          7.056801,
          7.045027,
          7.03578,
          7.053914,
          7.058697,
          7.050602,
          7.021744
         ],
         "y": [
          4.391064,
          4.580238,
          4.699361,
          4.817372,
          4.93411,
          5.050687,
          5.168109,
          5.286132,
          5.443573,
          5.623435,
          5.801408,
          5.991669,
          6.214376,
          6.799064
         ]
        },
        {
         "mode": "markers",
         "name": "optimal connections",
         "type": "scatter",
         "x": [],
         "y": []
        },
        {
         "mode": "markers",
         "name": "lateral root points",
         "type": "scatter",
         "x": [
          7.03248,
          6.921742,
          6.763005,
          7.065898,
          7.312281,
          7.439422,
          7.125593,
          7.182462,
          7.287631
         ],
         "y": [
          4.136673,
          4.219422,
          4.337383,
          4.198863,
          4.231294,
          4.27106,
          4.363359,
          4.368823,
          4.43411
         ]
        },
        {
         "mode": "lines",
         "name": "main root",
         "type": "scatter",
         "x": [
          7.014674,
          7.068931,
          null,
          7.068931,
          7.097697,
          null,
          7.097697,
          7.102405,
          null,
          7.102405,
          7.096509,
          null,
          7.096509,
          7.078003,
          null,
          7.078003,
          7.057387,
          null,
          7.057387,
          7.064473,
          null,
          7.064473,
          7.056801,
          null,
          7.056801,
          7.045027,
          null,
          7.045027,
          7.03578,
          null,
          7.03578,
          7.053914,
          null,
          7.053914,
          7.058697,
          null,
          7.058697,
          7.050602,
          null,
          7.050602,
          7.021744,
          null
         ],
         "y": [
          4.083105,
          4.391064,
          null,
          4.391064,
          4.580238,
          null,
          4.580238,
          4.699361,
          null,
          4.699361,
          4.817372,
          null,
          4.817372,
          4.93411,
          null,
          4.93411,
          5.050687,
          null,
          5.050687,
          5.168109,
          null,
          5.168109,
          5.286132,
          null,
          5.286132,
          5.443573,
          null,
          5.443573,
          5.623435,
          null,
          5.623435,
          5.801408,
          null,
          5.801408,
          5.991669,
          null,
          5.991669,
          6.214376,
          null,
          6.214376,
          6.799064,
          null
         ]
        },
        {
         "mode": "lines",
         "name": "lateral root",
         "type": "scatter",
         "x": [
          7.03248,
          6.921742,
          null,
          6.921742,
          6.763005,
          null,
          7.065898,
          7.312281,
          null,
          7.312281,
          7.439422,
          null,
          7.125593,
          7.182462,
          null,
          7.182462,
          7.287631,
          null
         ],
         "y": [
          4.136673,
          4.219422,
          null,
          4.219422,
          4.337383,
          null,
          4.198863,
          4.231294,
          null,
          4.231294,
          4.27106,
          null,
          4.363359,
          4.368823,
          null,
          4.368823,
          4.43411,
          null
         ]
        },
        {
         "mode": "markers",
         "name": "main root base",
         "type": "scatter",
         "x": [
          7.014674
         ],
         "y": [
          4.083105
         ]
        },
        {
         "mode": "markers",
         "name": "main root points",
         "type": "scatter",
         "x": [
          7.068931,
          7.097697,
          7.102405,
          7.096509,
          7.078003,
          7.057387,
          7.064473,
          7.056801,
          7.045027,
          7.03578,
          7.053914,
          7.058697,
          7.050602,
          7.021744
         ],
         "y": [
          4.391064,
          4.580238,
          4.699361,
          4.817372,
          4.93411,
          5.050687,
          5.168109,
          5.286132,
          5.443573,
          5.623435,
          5.801408,
          5.991669,
          6.214376,
          6.799064
         ]
        },
        {
         "mode": "markers",
         "name": "optimal connections",
         "type": "scatter",
         "x": [
          7.01479581164407,
          7.01479581164407,
          7.068983405404603
         ],
         "y": [
          4.083796394513076,
          4.083796394513076,
          4.391408633943204
         ]
        },
        {
         "mode": "markers",
         "name": "lateral root points",
         "type": "scatter",
         "x": [
          6.763005,
          7.439422,
          7.287631
         ],
         "y": [
          4.337383,
          4.27106,
          4.43411
         ]
        },
        {
         "mode": "lines",
         "name": "main root",
         "type": "scatter",
         "x": [
          7.014674,
          7.068931,
          null,
          7.068931,
          7.097697,
          null,
          7.097697,
          7.102405,
          null,
          7.102405,
          7.096509,
          null,
          7.096509,
          7.078003,
          null,
          7.078003,
          7.057387,
          null,
          7.057387,
          7.064473,
          null,
          7.064473,
          7.056801,
          null,
          7.056801,
          7.045027,
          null,
          7.045027,
          7.03578,
          null,
          7.03578,
          7.053914,
          null,
          7.053914,
          7.058697,
          null,
          7.058697,
          7.050602,
          null,
          7.050602,
          7.021744,
          null
         ],
         "y": [
          4.083105,
          4.391064,
          null,
          4.391064,
          4.580238,
          null,
          4.580238,
          4.699361,
          null,
          4.699361,
          4.817372,
          null,
          4.817372,
          4.93411,
          null,
          4.93411,
          5.050687,
          null,
          5.050687,
          5.168109,
          null,
          5.168109,
          5.286132,
          null,
          5.286132,
          5.443573,
          null,
          5.443573,
          5.623435,
          null,
          5.623435,
          5.801408,
          null,
          5.801408,
          5.991669,
          null,
          5.991669,
          6.214376,
          null,
          6.214376,
          6.799064,
          null
         ]
        },
        {
         "mode": "lines",
         "name": "lateral root",
         "type": "scatter",
         "x": [
          6.763005,
          6.768291439297469,
          6.773571718123908,
          6.778845836479317,
          6.784113794363695,
          6.789375591777043,
          6.79463122871936,
          6.799880705190646,
          6.805124021190902,
          6.810361176720127,
          6.815592171778322,
          6.820817006365486,
          6.82603568048162,
          6.831248194126722,
          6.836454547300795,
          6.841654740003836,
          6.846848772235847,
          6.852036643996828,
          6.857218355286778,
          6.862393906105698,
          6.867563296453587,
          6.872726526330445,
          6.877883595736273,
          6.883034504671071,
          6.888179253134837,
          6.8933178411275735,
          6.898450268649278,
          6.903576535699954,
          6.908696642279598,
          6.913810588388212,
          6.918918374025795,
          6.924019999192348,
          6.92911546388787,
          6.9342047681123615,
          6.939287911865823,
          6.9443648951482535,
          6.949435717959653,
          6.954500380300022,
          6.959558882169361,
          6.964611223567669,
          6.969657404494947,
          6.974697424951194,
          6.979731284936411,
          6.984758984450596,
          6.989780523493751,
          6.994795902065876,
          6.999805120166971,
          7.004808177797035,
          7.009805074956067,
          7.01479581164407,
          null,
          7.01479581164407,
          7.023719657396883,
          7.032632752934109,
          7.041535098255746,
          7.050426693361795,
          7.059307538252256,
          7.068177632927128,
          7.0770369773864115,
          7.085885571630107,
          7.094723415658214,
          7.1035505094707325,
          7.1123668530676625,
          7.121172446449004,
          7.129967289614758,
          7.138751382564922,
          7.1475247252994984,
          7.156287317818487,
          7.165039160121887,
          7.173780252209697,
          7.18251059408192,
          7.191230185738555,
          7.199939027179601,
          7.208637118405059,
          7.217324459414928,
          7.2260010502092085,
          7.234666890787901,
          7.243321981151006,
          7.251966321298521,
          7.2605999112304485,
          7.2692227509467875,
          7.277834840447538,
          7.2864361797327,
          7.295026768802273,
          7.303606607656259,
          7.312175696294656,
          7.320734034717464,
          7.329281622924684,
          7.337818460916315,
          7.346344548692359,
          7.354859886252814,
          7.36336447359768,
          7.371858310726958,
          7.380341397640648,
          7.388813734338749,
          7.397275320821262,
          7.4057261570881865,
          7.4141662431395225,
          7.422595578975271,
          7.43101416459543,
          7.439422,
          null,
          7.068983405404603,
          7.073511708542635,
          7.078037257208587,
          7.0825600514024565,
          7.087080091124244,
          7.09159737637395,
          7.096111907151574,
          7.100623683457116,
          7.105132705290576,
          7.109638972651955,
          7.114142485541252,
          7.118643243958467,
          7.1231412479036,
          7.127636497376651,
          7.132128992377621,
          7.136618732906508,
          7.141105718963314,
          7.145589950548038,
          7.15007142766068,
          7.15455015030124,
          7.159026118469719,
          7.163499332166116,
          7.167969791390431,
          7.172437496142663,
          7.176902446422814,
          7.181364642230884,
          7.185824083566872,
          7.190280770430777,
          7.194734702822601,
          7.199185880742343,
          7.203634304190003,
          7.208079973165582,
          7.212522887669079,
          7.216963047700493,
          7.221400453259826,
          7.225835104347077,
          7.230267000962246,
          7.234696143105333,
          7.239122530776339,
          7.243546163975263,
          7.247967042702105,
          7.252385166956865,
          7.256800536739544,
          7.26121315205014,
          7.265623012888654,
          7.270030119255087,
          7.274434471149438,
          7.2788360685717075,
          7.283234911521895,
          7.287631,
          null
         ],
         "y": [
          4.337383,
          4.333046956989229,
          4.3286759475686285,
          4.3242699717381985,
          4.31982902949794,
          4.315353120847852,
          4.310842245787935,
          4.306296404318188,
          4.301715596438613,
          4.297099822149208,
          4.292449081449974,
          4.28776337434091,
          4.283042700822018,
          4.278287060893296,
          4.273496454554746,
          4.268670881806366,
          4.263810342648156,
          4.258914837080118,
          4.253984365102251,
          4.249018926714554,
          4.244018521917028,
          4.238983150709673,
          4.233912813092489,
          4.228807509065475,
          4.223667238628632,
          4.218492001781961,
          4.213281798525459,
          4.208036628859129,
          4.20275649278297,
          4.197441390296981,
          4.192091321401163,
          4.186706286095516,
          4.18128628438004,
          4.175831316254734,
          4.1703413817196,
          4.164816480774635,
          4.159256613419842,
          4.15366177965522,
          4.148031979480769,
          4.142367212896488,
          4.136667479902378,
          4.13093278049844,
          4.125163114684671,
          4.119358482461074,
          4.113518883827647,
          4.107644318784391,
          4.101734787331306,
          4.0957902894683915,
          4.089810825195649,
          4.083796394513076,
          null,
          4.083796394513076,
          4.089082520369253,
          4.094307628741191,
          4.099471719628889,
          4.104574793032348,
          4.109616848951567,
          4.114597887386546,
          4.119517908337286,
          4.124376911803787,
          4.129174897786047,
          4.133911866284068,
          4.13858781729785,
          4.143202750827392,
          4.147756666872694,
          4.152249565433756,
          4.1566814465105795,
          4.1610523101031625,
          4.165362156211507,
          4.169610984835611,
          4.173798795975475,
          4.1779255896311005,
          4.181991365802486,
          4.185996124489632,
          4.189939865692538,
          4.193822589411205,
          4.197644295645632,
          4.201404984395819,
          4.205104655661767,
          4.208743309443475,
          4.212320945740943,
          4.215837564554173,
          4.219293165883162,
          4.222687749727912,
          4.226021316088422,
          4.229293864964693,
          4.232505396356724,
          4.235655910264516,
          4.238745406688067,
          4.24177388562738,
          4.244741347082452,
          4.247647791053285,
          4.250493217539878,
          4.253277626542232,
          4.2560010180603465,
          4.258663392094221,
          4.261264748643856,
          4.263805087709252,
          4.2662844092904075,
          4.268702713387324,
          4.27106,
          null,
          4.391408633943204,
          4.392714832381753,
          4.394002916570783,
          4.3952728865102975,
          4.3965247422002935,
          4.397758483640773,
          4.398974110831737,
          4.400171623773182,
          4.401351022465111,
          4.402512306907522,
          4.403655477100417,
          4.404780533043794,
          4.405887474737654,
          4.406976302181998,
          4.408047015376824,
          4.409099614322133,
          4.410134099017926,
          4.4111504694642,
          4.412148725660958,
          4.4131288676082,
          4.4140908953059235,
          4.415034808754131,
          4.415960607952821,
          4.416868292901993,
          4.417757863601649,
          4.418629320051788,
          4.419482662252409,
          4.420317890203513,
          4.421135003905102,
          4.421934003357172,
          4.422714888559725,
          4.423477659512762,
          4.424222316216281,
          4.424948858670283,
          4.425657286874769,
          4.426347600829737,
          4.427019800535188,
          4.427673885991122,
          4.428309857197539,
          4.4289277141544385,
          4.4295274568618215,
          4.430109085319687,
          4.4306725995280365,
          4.431217999486868,
          4.4317452851961825,
          4.43225445665598,
          4.432745513866261,
          4.433218456827024,
          4.433673285538271,
          4.43411,
          null
         ]
        }
       ],
       "layout": {
        "autosize": true,
        "template": {
         "data": {
          "bar": [
           {
            "error_x": {
             "color": "#2a3f5f"
            },
            "error_y": {
             "color": "#2a3f5f"
            },
            "marker": {
             "line": {
              "color": "#E5ECF6",
              "width": 0.5
             },
             "pattern": {
              "fillmode": "overlay",
              "size": 10,
              "solidity": 0.2
             }
            },
            "type": "bar"
           }
          ],
          "barpolar": [
           {
            "marker": {
             "line": {
              "color": "#E5ECF6",
              "width": 0.5
             },
             "pattern": {
              "fillmode": "overlay",
              "size": 10,
              "solidity": 0.2
             }
            },
            "type": "barpolar"
           }
          ],
          "carpet": [
           {
            "aaxis": {
             "endlinecolor": "#2a3f5f",
             "gridcolor": "white",
             "linecolor": "white",
             "minorgridcolor": "white",
             "startlinecolor": "#2a3f5f"
            },
            "baxis": {
             "endlinecolor": "#2a3f5f",
             "gridcolor": "white",
             "linecolor": "white",
             "minorgridcolor": "white",
             "startlinecolor": "#2a3f5f"
            },
            "type": "carpet"
           }
          ],
          "choropleth": [
           {
            "colorbar": {
             "outlinewidth": 0,
             "ticks": ""
            },
            "type": "choropleth"
           }
          ],
          "contour": [
           {
            "colorbar": {
             "outlinewidth": 0,
             "ticks": ""
            },
            "colorscale": [
             [
              0,
              "#0d0887"
             ],
             [
              0.1111111111111111,
              "#46039f"
             ],
             [
              0.2222222222222222,
              "#7201a8"
             ],
             [
              0.3333333333333333,
              "#9c179e"
             ],
             [
              0.4444444444444444,
              "#bd3786"
             ],
             [
              0.5555555555555556,
              "#d8576b"
             ],
             [
              0.6666666666666666,
              "#ed7953"
             ],
             [
              0.7777777777777778,
              "#fb9f3a"
             ],
             [
              0.8888888888888888,
              "#fdca26"
             ],
             [
              1,
              "#f0f921"
             ]
            ],
            "type": "contour"
           }
          ],
          "contourcarpet": [
           {
            "colorbar": {
             "outlinewidth": 0,
             "ticks": ""
            },
            "type": "contourcarpet"
           }
          ],
          "heatmap": [
           {
            "colorbar": {
             "outlinewidth": 0,
             "ticks": ""
            },
            "colorscale": [
             [
              0,
              "#0d0887"
             ],
             [
              0.1111111111111111,
              "#46039f"
             ],
             [
              0.2222222222222222,
              "#7201a8"
             ],
             [
              0.3333333333333333,
              "#9c179e"
             ],
             [
              0.4444444444444444,
              "#bd3786"
             ],
             [
              0.5555555555555556,
              "#d8576b"
             ],
             [
              0.6666666666666666,
              "#ed7953"
             ],
             [
              0.7777777777777778,
              "#fb9f3a"
             ],
             [
              0.8888888888888888,
              "#fdca26"
             ],
             [
              1,
              "#f0f921"
             ]
            ],
            "type": "heatmap"
           }
          ],
          "heatmapgl": [
           {
            "colorbar": {
             "outlinewidth": 0,
             "ticks": ""
            },
            "colorscale": [
             [
              0,
              "#0d0887"
             ],
             [
              0.1111111111111111,
              "#46039f"
             ],
             [
              0.2222222222222222,
              "#7201a8"
             ],
             [
              0.3333333333333333,
              "#9c179e"
             ],
             [
              0.4444444444444444,
              "#bd3786"
             ],
             [
              0.5555555555555556,
              "#d8576b"
             ],
             [
              0.6666666666666666,
              "#ed7953"
             ],
             [
              0.7777777777777778,
              "#fb9f3a"
             ],
             [
              0.8888888888888888,
              "#fdca26"
             ],
             [
              1,
              "#f0f921"
             ]
            ],
            "type": "heatmapgl"
           }
          ],
          "histogram": [
           {
            "marker": {
             "pattern": {
              "fillmode": "overlay",
              "size": 10,
              "solidity": 0.2
             }
            },
            "type": "histogram"
           }
          ],
          "histogram2d": [
           {
            "colorbar": {
             "outlinewidth": 0,
             "ticks": ""
            },
            "colorscale": [
             [
              0,
              "#0d0887"
             ],
             [
              0.1111111111111111,
              "#46039f"
             ],
             [
              0.2222222222222222,
              "#7201a8"
             ],
             [
              0.3333333333333333,
              "#9c179e"
             ],
             [
              0.4444444444444444,
              "#bd3786"
             ],
             [
              0.5555555555555556,
              "#d8576b"
             ],
             [
              0.6666666666666666,
              "#ed7953"
             ],
             [
              0.7777777777777778,
              "#fb9f3a"
             ],
             [
              0.8888888888888888,
              "#fdca26"
             ],
             [
              1,
              "#f0f921"
             ]
            ],
            "type": "histogram2d"
           }
          ],
          "histogram2dcontour": [
           {
            "colorbar": {
             "outlinewidth": 0,
             "ticks": ""
            },
            "colorscale": [
             [
              0,
              "#0d0887"
             ],
             [
              0.1111111111111111,
              "#46039f"
             ],
             [
              0.2222222222222222,
              "#7201a8"
             ],
             [
              0.3333333333333333,
              "#9c179e"
             ],
             [
              0.4444444444444444,
              "#bd3786"
             ],
             [
              0.5555555555555556,
              "#d8576b"
             ],
             [
              0.6666666666666666,
              "#ed7953"
             ],
             [
              0.7777777777777778,
              "#fb9f3a"
             ],
             [
              0.8888888888888888,
              "#fdca26"
             ],
             [
              1,
              "#f0f921"
             ]
            ],
            "type": "histogram2dcontour"
           }
          ],
          "mesh3d": [
           {
            "colorbar": {
             "outlinewidth": 0,
             "ticks": ""
            },
            "type": "mesh3d"
           }
          ],
          "parcoords": [
           {
            "line": {
             "colorbar": {
              "outlinewidth": 0,
              "ticks": ""
             }
            },
            "type": "parcoords"
           }
          ],
          "pie": [
           {
            "automargin": true,
            "type": "pie"
           }
          ],
          "scatter": [
           {
            "fillpattern": {
             "fillmode": "overlay",
             "size": 10,
             "solidity": 0.2
            },
            "type": "scatter"
           }
          ],
          "scatter3d": [
           {
            "line": {
             "colorbar": {
              "outlinewidth": 0,
              "ticks": ""
             }
            },
            "marker": {
             "colorbar": {
              "outlinewidth": 0,
              "ticks": ""
             }
            },
            "type": "scatter3d"
           }
          ],
          "scattercarpet": [
           {
            "marker": {
             "colorbar": {
              "outlinewidth": 0,
              "ticks": ""
             }
            },
            "type": "scattercarpet"
           }
          ],
          "scattergeo": [
           {
            "marker": {
             "colorbar": {
              "outlinewidth": 0,
              "ticks": ""
             }
            },
            "type": "scattergeo"
           }
          ],
          "scattergl": [
           {
            "marker": {
             "colorbar": {
              "outlinewidth": 0,
              "ticks": ""
             }
            },
            "type": "scattergl"
           }
          ],
          "scattermapbox": [
           {
            "marker": {
             "colorbar": {
              "outlinewidth": 0,
              "ticks": ""
             }
            },
            "type": "scattermapbox"
           }
          ],
          "scatterpolar": [
           {
            "marker": {
             "colorbar": {
              "outlinewidth": 0,
              "ticks": ""
             }
            },
            "type": "scatterpolar"
           }
          ],
          "scatterpolargl": [
           {
            "marker": {
             "colorbar": {
              "outlinewidth": 0,
              "ticks": ""
             }
            },
            "type": "scatterpolargl"
           }
          ],
          "scatterternary": [
           {
            "marker": {
             "colorbar": {
              "outlinewidth": 0,
              "ticks": ""
             }
            },
            "type": "scatterternary"
           }
          ],
          "surface": [
           {
            "colorbar": {
             "outlinewidth": 0,
             "ticks": ""
            },
            "colorscale": [
             [
              0,
              "#0d0887"
             ],
             [
              0.1111111111111111,
              "#46039f"
             ],
             [
              0.2222222222222222,
              "#7201a8"
             ],
             [
              0.3333333333333333,
              "#9c179e"
             ],
             [
              0.4444444444444444,
              "#bd3786"
             ],
             [
              0.5555555555555556,
              "#d8576b"
             ],
             [
              0.6666666666666666,
              "#ed7953"
             ],
             [
              0.7777777777777778,
              "#fb9f3a"
             ],
             [
              0.8888888888888888,
              "#fdca26"
             ],
             [
              1,
              "#f0f921"
             ]
            ],
            "type": "surface"
           }
          ],
          "table": [
           {
            "cells": {
             "fill": {
              "color": "#EBF0F8"
             },
             "line": {
              "color": "white"
             }
            },
            "header": {
             "fill": {
              "color": "#C8D4E3"
             },
             "line": {
              "color": "white"
             }
            },
            "type": "table"
           }
          ]
         },
         "layout": {
          "annotationdefaults": {
           "arrowcolor": "#2a3f5f",
           "arrowhead": 0,
           "arrowwidth": 1
          },
          "autotypenumbers": "strict",
          "coloraxis": {
           "colorbar": {
            "outlinewidth": 0,
            "ticks": ""
           }
          },
          "colorscale": {
           "diverging": [
            [
             0,
             "#8e0152"
            ],
            [
             0.1,
             "#c51b7d"
            ],
            [
             0.2,
             "#de77ae"
            ],
            [
             0.3,
             "#f1b6da"
            ],
            [
             0.4,
             "#fde0ef"
            ],
            [
             0.5,
             "#f7f7f7"
            ],
            [
             0.6,
             "#e6f5d0"
            ],
            [
             0.7,
             "#b8e186"
            ],
            [
             0.8,
             "#7fbc41"
            ],
            [
             0.9,
             "#4d9221"
            ],
            [
             1,
             "#276419"
            ]
           ],
           "sequential": [
            [
             0,
             "#0d0887"
            ],
            [
             0.1111111111111111,
             "#46039f"
            ],
            [
             0.2222222222222222,
             "#7201a8"
            ],
            [
             0.3333333333333333,
             "#9c179e"
            ],
            [
             0.4444444444444444,
             "#bd3786"
            ],
            [
             0.5555555555555556,
             "#d8576b"
            ],
            [
             0.6666666666666666,
             "#ed7953"
            ],
            [
             0.7777777777777778,
             "#fb9f3a"
            ],
            [
             0.8888888888888888,
             "#fdca26"
            ],
            [
             1,
             "#f0f921"
            ]
           ],
           "sequentialminus": [
            [
             0,
             "#0d0887"
            ],
            [
             0.1111111111111111,
             "#46039f"
            ],
            [
             0.2222222222222222,
             "#7201a8"
            ],
            [
             0.3333333333333333,
             "#9c179e"
            ],
            [
             0.4444444444444444,
             "#bd3786"
            ],
            [
             0.5555555555555556,
             "#d8576b"
            ],
            [
             0.6666666666666666,
             "#ed7953"
            ],
            [
             0.7777777777777778,
             "#fb9f3a"
            ],
            [
             0.8888888888888888,
             "#fdca26"
            ],
            [
             1,
             "#f0f921"
            ]
           ]
          },
          "colorway": [
           "#636efa",
           "#EF553B",
           "#00cc96",
           "#ab63fa",
           "#FFA15A",
           "#19d3f3",
           "#FF6692",
           "#B6E880",
           "#FF97FF",
           "#FECB52"
          ],
          "font": {
           "color": "#2a3f5f"
          },
          "geo": {
           "bgcolor": "white",
           "lakecolor": "white",
           "landcolor": "#E5ECF6",
           "showlakes": true,
           "showland": true,
           "subunitcolor": "white"
          },
          "hoverlabel": {
           "align": "left"
          },
          "hovermode": "closest",
          "mapbox": {
           "style": "light"
          },
          "paper_bgcolor": "white",
          "plot_bgcolor": "#E5ECF6",
          "polar": {
           "angularaxis": {
            "gridcolor": "white",
            "linecolor": "white",
            "ticks": ""
           },
           "bgcolor": "#E5ECF6",
           "radialaxis": {
            "gridcolor": "white",
            "linecolor": "white",
            "ticks": ""
           }
          },
          "scene": {
           "xaxis": {
            "backgroundcolor": "#E5ECF6",
            "gridcolor": "white",
            "gridwidth": 2,
            "linecolor": "white",
            "showbackground": true,
            "ticks": "",
            "zerolinecolor": "white"
           },
           "yaxis": {
            "backgroundcolor": "#E5ECF6",
            "gridcolor": "white",
            "gridwidth": 2,
            "linecolor": "white",
            "showbackground": true,
            "ticks": "",
            "zerolinecolor": "white"
           },
           "zaxis": {
            "backgroundcolor": "#E5ECF6",
            "gridcolor": "white",
            "gridwidth": 2,
            "linecolor": "white",
            "showbackground": true,
            "ticks": "",
            "zerolinecolor": "white"
           }
          },
          "shapedefaults": {
           "line": {
            "color": "#2a3f5f"
           }
          },
          "ternary": {
           "aaxis": {
            "gridcolor": "white",
            "linecolor": "white",
            "ticks": ""
           },
           "baxis": {
            "gridcolor": "white",
            "linecolor": "white",
            "ticks": ""
           },
           "bgcolor": "#E5ECF6",
           "caxis": {
            "gridcolor": "white",
            "linecolor": "white",
            "ticks": ""
           }
          },
          "title": {
           "x": 0.05
          },
          "xaxis": {
           "automargin": true,
           "gridcolor": "white",
           "linecolor": "white",
           "ticks": "",
           "title": {
            "standoff": 15
           },
           "zerolinecolor": "white",
           "zerolinewidth": 2
          },
          "yaxis": {
           "automargin": true,
           "gridcolor": "white",
           "linecolor": "white",
           "ticks": "",
           "title": {
            "standoff": 15
           },
           "zerolinecolor": "white",
           "zerolinewidth": 2
          }
         }
        },
        "xaxis": {
         "autorange": false,
         "range": [
          6.758878805307473,
          7.4401152153167684
         ],
         "type": "linear"
        },
        "yaxis": {
         "autorange": false,
         "range": [
          4.104785794606257,
          4.45519431283711
         ],
         "type": "linear"
        }
       }
      },
      "image/png": "[encoded data removed]",
      "text/html": [
       "<div>                            <div id=\"8fffb040-0448-49f3-be91-02edc23f4a94\" class=\"plotly-graph-div\" style=\"height:525px; width:100%;\"></div>            <script type=\"text/javascript\">                require([\"plotly\"], function(Plotly) {                    window.PLOTLYENV=window.PLOTLYENV || {};                                    if (document.getElementById(\"8fffb040-0448-49f3-be91-02edc23f4a94\")) {                    Plotly.newPlot(                        \"8fffb040-0448-49f3-be91-02edc23f4a94\",                        [{\"mode\":\"markers\",\"name\":\"main root base\",\"x\":[7.014674],\"y\":[4.083105],\"type\":\"scatter\"},{\"mode\":\"markers\",\"name\":\"main root points\",\"x\":[7.068931,7.097697,7.102405,7.096509,7.078003,7.057387,7.064473,7.056801,7.045027,7.03578,7.053914,7.058697,7.050602,7.021744],\"y\":[4.391064,4.580238,4.699361,4.817372,4.93411,5.050687,5.168109,5.286132,5.443573,5.623435,5.801408,5.991669,6.214376,6.799064],\"type\":\"scatter\"},{\"mode\":\"markers\",\"name\":\"optimal connections\",\"x\":[],\"y\":[],\"type\":\"scatter\"},{\"mode\":\"markers\",\"name\":\"lateral root points\",\"x\":[7.03248,6.921742,6.763005,7.065898,7.312281,7.439422,7.125593,7.182462,7.287631],\"y\":[4.136673,4.219422,4.337383,4.198863,4.231294,4.27106,4.363359,4.368823,4.43411],\"type\":\"scatter\"},{\"mode\":\"lines\",\"name\":\"main root\",\"x\":[7.014674,7.068931,null,7.068931,7.097697,null,7.097697,7.102405,null,7.102405,7.096509,null,7.096509,7.078003,null,7.078003,7.057387,null,7.057387,7.064473,null,7.064473,7.056801,null,7.056801,7.045027,null,7.045027,7.03578,null,7.03578,7.053914,null,7.053914,7.058697,null,7.058697,7.050602,null,7.050602,7.021744,null],\"y\":[4.083105,4.391064,null,4.391064,4.580238,null,4.580238,4.699361,null,4.699361,4.817372,null,4.817372,4.93411,null,4.93411,5.050687,null,5.050687,5.168109,null,5.168109,5.286132,null,5.286132,5.443573,null,5.443573,5.623435,null,5.623435,5.801408,null,5.801408,5.991669,null,5.991669,6.214376,null,6.214376,6.799064,null],\"type\":\"scatter\"},{\"mode\":\"lines\",\"name\":\"lateral root\",\"x\":[7.03248,6.921742,null,6.921742,6.763005,null,7.065898,7.312281,null,7.312281,7.439422,null,7.125593,7.182462,null,7.182462,7.287631,null],\"y\":[4.136673,4.219422,null,4.219422,4.337383,null,4.198863,4.231294,null,4.231294,4.27106,null,4.363359,4.368823,null,4.368823,4.43411,null],\"type\":\"scatter\"},{\"mode\":\"markers\",\"name\":\"main root base\",\"x\":[7.014674],\"y\":[4.083105],\"type\":\"scatter\"},{\"mode\":\"markers\",\"name\":\"main root points\",\"x\":[7.068931,7.097697,7.102405,7.096509,7.078003,7.057387,7.064473,7.056801,7.045027,7.03578,7.053914,7.058697,7.050602,7.021744],\"y\":[4.391064,4.580238,4.699361,4.817372,4.93411,5.050687,5.168109,5.286132,5.443573,5.623435,5.801408,5.991669,6.214376,6.799064],\"type\":\"scatter\"},{\"mode\":\"markers\",\"name\":\"optimal connections\",\"x\":[7.01479581164407,7.01479581164407,7.068983405404603],\"y\":[4.083796394513076,4.083796394513076,4.391408633943204],\"type\":\"scatter\"},{\"mode\":\"markers\",\"name\":\"lateral root points\",\"x\":[6.763005,7.439422,7.287631],\"y\":[4.337383,4.27106,4.43411],\"type\":\"scatter\"},{\"mode\":\"lines\",\"name\":\"main root\",\"x\":[7.014674,7.068931,null,7.068931,7.097697,null,7.097697,7.102405,null,7.102405,7.096509,null,7.096509,7.078003,null,7.078003,7.057387,null,7.057387,7.064473,null,7.064473,7.056801,null,7.056801,7.045027,null,7.045027,7.03578,null,7.03578,7.053914,null,7.053914,7.058697,null,7.058697,7.050602,null,7.050602,7.021744,null],\"y\":[4.083105,4.391064,null,4.391064,4.580238,null,4.580238,4.699361,null,4.699361,4.817372,null,4.817372,4.93411,null,4.93411,5.050687,null,5.050687,5.168109,null,5.168109,5.286132,null,5.286132,5.443573,null,5.443573,5.623435,null,5.623435,5.801408,null,5.801408,5.991669,null,5.991669,6.214376,null,6.214376,6.799064,null],\"type\":\"scatter\"},{\"mode\":\"lines\",\"name\":\"lateral root\",\"x\":[6.763005,6.768291439297469,6.773571718123908,6.778845836479317,6.784113794363695,6.789375591777043,6.79463122871936,6.799880705190646,6.805124021190902,6.810361176720127,6.815592171778322,6.820817006365486,6.82603568048162,6.831248194126722,6.836454547300795,6.841654740003836,6.846848772235847,6.852036643996828,6.857218355286778,6.862393906105698,6.867563296453587,6.872726526330445,6.877883595736273,6.883034504671071,6.888179253134837,6.8933178411275735,6.898450268649278,6.903576535699954,6.908696642279598,6.913810588388212,6.918918374025795,6.924019999192348,6.92911546388787,6.9342047681123615,6.939287911865823,6.9443648951482535,6.949435717959653,6.954500380300022,6.959558882169361,6.964611223567669,6.969657404494947,6.974697424951194,6.979731284936411,6.984758984450596,6.989780523493751,6.994795902065876,6.999805120166971,7.004808177797035,7.009805074956067,7.01479581164407,null,7.01479581164407,7.023719657396883,7.032632752934109,7.041535098255746,7.050426693361795,7.059307538252256,7.068177632927128,7.0770369773864115,7.085885571630107,7.094723415658214,7.1035505094707325,7.1123668530676625,7.121172446449004,7.129967289614758,7.138751382564922,7.1475247252994984,7.156287317818487,7.165039160121887,7.173780252209697,7.18251059408192,7.191230185738555,7.199939027179601,7.208637118405059,7.217324459414928,7.2260010502092085,7.234666890787901,7.243321981151006,7.251966321298521,7.2605999112304485,7.2692227509467875,7.277834840447538,7.2864361797327,7.295026768802273,7.303606607656259,7.312175696294656,7.320734034717464,7.329281622924684,7.337818460916315,7.346344548692359,7.354859886252814,7.36336447359768,7.371858310726958,7.380341397640648,7.388813734338749,7.397275320821262,7.4057261570881865,7.4141662431395225,7.422595578975271,7.43101416459543,7.439422,null,7.068983405404603,7.073511708542635,7.078037257208587,7.0825600514024565,7.087080091124244,7.09159737637395,7.096111907151574,7.100623683457116,7.105132705290576,7.109638972651955,7.114142485541252,7.118643243958467,7.1231412479036,7.127636497376651,7.132128992377621,7.136618732906508,7.141105718963314,7.145589950548038,7.15007142766068,7.15455015030124,7.159026118469719,7.163499332166116,7.167969791390431,7.172437496142663,7.176902446422814,7.181364642230884,7.185824083566872,7.190280770430777,7.194734702822601,7.199185880742343,7.203634304190003,7.208079973165582,7.212522887669079,7.216963047700493,7.221400453259826,7.225835104347077,7.230267000962246,7.234696143105333,7.239122530776339,7.243546163975263,7.247967042702105,7.252385166956865,7.256800536739544,7.26121315205014,7.265623012888654,7.270030119255087,7.274434471149438,7.2788360685717075,7.283234911521895,7.287631,null],\"y\":[4.337383,4.333046956989229,4.3286759475686285,4.3242699717381985,4.31982902949794,4.315353120847852,4.310842245787935,4.306296404318188,4.301715596438613,4.297099822149208,4.292449081449974,4.28776337434091,4.283042700822018,4.278287060893296,4.273496454554746,4.268670881806366,4.263810342648156,4.258914837080118,4.253984365102251,4.249018926714554,4.244018521917028,4.238983150709673,4.233912813092489,4.228807509065475,4.223667238628632,4.218492001781961,4.213281798525459,4.208036628859129,4.20275649278297,4.197441390296981,4.192091321401163,4.186706286095516,4.18128628438004,4.175831316254734,4.1703413817196,4.164816480774635,4.159256613419842,4.15366177965522,4.148031979480769,4.142367212896488,4.136667479902378,4.13093278049844,4.125163114684671,4.119358482461074,4.113518883827647,4.107644318784391,4.101734787331306,4.0957902894683915,4.089810825195649,4.083796394513076,null,4.083796394513076,4.089082520369253,4.094307628741191,4.099471719628889,4.104574793032348,4.109616848951567,4.114597887386546,4.119517908337286,4.124376911803787,4.129174897786047,4.133911866284068,4.13858781729785,4.143202750827392,4.147756666872694,4.152249565433756,4.1566814465105795,4.1610523101031625,4.165362156211507,4.169610984835611,4.173798795975475,4.1779255896311005,4.181991365802486,4.185996124489632,4.189939865692538,4.193822589411205,4.197644295645632,4.201404984395819,4.205104655661767,4.208743309443475,4.212320945740943,4.215837564554173,4.219293165883162,4.222687749727912,4.226021316088422,4.229293864964693,4.232505396356724,4.235655910264516,4.238745406688067,4.24177388562738,4.244741347082452,4.247647791053285,4.250493217539878,4.253277626542232,4.2560010180603465,4.258663392094221,4.261264748643856,4.263805087709252,4.2662844092904075,4.268702713387324,4.27106,null,4.391408633943204,4.392714832381753,4.394002916570783,4.3952728865102975,4.3965247422002935,4.397758483640773,4.398974110831737,4.400171623773182,4.401351022465111,4.402512306907522,4.403655477100417,4.404780533043794,4.405887474737654,4.406976302181998,4.408047015376824,4.409099614322133,4.410134099017926,4.4111504694642,4.412148725660958,4.4131288676082,4.4140908953059235,4.415034808754131,4.415960607952821,4.416868292901993,4.417757863601649,4.418629320051788,4.419482662252409,4.420317890203513,4.421135003905102,4.421934003357172,4.422714888559725,4.423477659512762,4.424222316216281,4.424948858670283,4.425657286874769,4.426347600829737,4.427019800535188,4.427673885991122,4.428309857197539,4.4289277141544385,4.4295274568618215,4.430109085319687,4.4306725995280365,4.431217999486868,4.4317452851961825,4.43225445665598,4.432745513866261,4.433218456827024,4.433673285538271,4.43411,null],\"type\":\"scatter\"}],                        {\"template\":{\"data\":{\"histogram2dcontour\":[{\"type\":\"histogram2dcontour\",\"colorbar\":{\"outlinewidth\":0,\"ticks\":\"\"},\"colorscale\":[[0.0,\"#0d0887\"],[0.1111111111111111,\"#46039f\"],[0.2222222222222222,\"#7201a8\"],[0.3333333333333333,\"#9c179e\"],[0.4444444444444444,\"#bd3786\"],[0.5555555555555556,\"#d8576b\"],[0.6666666666666666,\"#ed7953\"],[0.7777777777777778,\"#fb9f3a\"],[0.8888888888888888,\"#fdca26\"],[1.0,\"#f0f921\"]]}],\"choropleth\":[{\"type\":\"choropleth\",\"colorbar\":{\"outlinewidth\":0,\"ticks\":\"\"}}],\"histogram2d\":[{\"type\":\"histogram2d\",\"colorbar\":{\"outlinewidth\":0,\"ticks\":\"\"},\"colorscale\":[[0.0,\"#0d0887\"],[0.1111111111111111,\"#46039f\"],[0.2222222222222222,\"#7201a8\"],[0.3333333333333333,\"#9c179e\"],[0.4444444444444444,\"#bd3786\"],[0.5555555555555556,\"#d8576b\"],[0.6666666666666666,\"#ed7953\"],[0.7777777777777778,\"#fb9f3a\"],[0.8888888888888888,\"#fdca26\"],[1.0,\"#f0f921\"]]}],\"heatmap\":[{\"type\":\"heatmap\",\"colorbar\":{\"outlinewidth\":0,\"ticks\":\"\"},\"colorscale\":[[0.0,\"#0d0887\"],[0.1111111111111111,\"#46039f\"],[0.2222222222222222,\"#7201a8\"],[0.3333333333333333,\"#9c179e\"],[0.4444444444444444,\"#bd3786\"],[0.5555555555555556,\"#d8576b\"],[0.6666666666666666,\"#ed7953\"],[0.7777777777777778,\"#fb9f3a\"],[0.8888888888888888,\"#fdca26\"],[1.0,\"#f0f921\"]]}],\"heatmapgl\":[{\"type\":\"heatmapgl\",\"colorbar\":{\"outlinewidth\":0,\"ticks\":\"\"},\"colorscale\":[[0.0,\"#0d0887\"],[0.1111111111111111,\"#46039f\"],[0.2222222222222222,\"#7201a8\"],[0.3333333333333333,\"#9c179e\"],[0.4444444444444444,\"#bd3786\"],[0.5555555555555556,\"#d8576b\"],[0.6666666666666666,\"#ed7953\"],[0.7777777777777778,\"#fb9f3a\"],[0.8888888888888888,\"#fdca26\"],[1.0,\"#f0f921\"]]}],\"contourcarpet\":[{\"type\":\"contourcarpet\",\"colorbar\":{\"outlinewidth\":0,\"ticks\":\"\"}}],\"contour\":[{\"type\":\"contour\",\"colorbar\":{\"outlinewidth\":0,\"ticks\":\"\"},\"colorscale\":[[0.0,\"#0d0887\"],[0.1111111111111111,\"#46039f\"],[0.2222222222222222,\"#7201a8\"],[0.3333333333333333,\"#9c179e\"],[0.4444444444444444,\"#bd3786\"],[0.5555555555555556,\"#d8576b\"],[0.6666666666666666,\"#ed7953\"],[0.7777777777777778,\"#fb9f3a\"],[0.8888888888888888,\"#fdca26\"],[1.0,\"#f0f921\"]]}],\"surface\":[{\"type\":\"surface\",\"colorbar\":{\"outlinewidth\":0,\"ticks\":\"\"},\"colorscale\":[[0.0,\"#0d0887\"],[0.1111111111111111,\"#46039f\"],[0.2222222222222222,\"#7201a8\"],[0.3333333333333333,\"#9c179e\"],[0.4444444444444444,\"#bd3786\"],[0.5555555555555556,\"#d8576b\"],[0.6666666666666666,\"#ed7953\"],[0.7777777777777778,\"#fb9f3a\"],[0.8888888888888888,\"#fdca26\"],[1.0,\"#f0f921\"]]}],\"mesh3d\":[{\"type\":\"mesh3d\",\"colorbar\":{\"outlinewidth\":0,\"ticks\":\"\"}}],\"scatter\":[{\"fillpattern\":{\"fillmode\":\"overlay\",\"size\":10,\"solidity\":0.2},\"type\":\"scatter\"}],\"parcoords\":[{\"type\":\"parcoords\",\"line\":{\"colorbar\":{\"outlinewidth\":0,\"ticks\":\"\"}}}],\"scatterpolargl\":[{\"type\":\"scatterpolargl\",\"marker\":{\"colorbar\":{\"outlinewidth\":0,\"ticks\":\"\"}}}],\"bar\":[{\"error_x\":{\"color\":\"#2a3f5f\"},\"error_y\":{\"color\":\"#2a3f5f\"},\"marker\":{\"line\":{\"color\":\"#E5ECF6\",\"width\":0.5},\"pattern\":{\"fillmode\":\"overlay\",\"size\":10,\"solidity\":0.2}},\"type\":\"bar\"}],\"scattergeo\":[{\"type\":\"scattergeo\",\"marker\":{\"colorbar\":{\"outlinewidth\":0,\"ticks\":\"\"}}}],\"scatterpolar\":[{\"type\":\"scatterpolar\",\"marker\":{\"colorbar\":{\"outlinewidth\":0,\"ticks\":\"\"}}}],\"histogram\":[{\"marker\":{\"pattern\":{\"fillmode\":\"overlay\",\"size\":10,\"solidity\":0.2}},\"type\":\"histogram\"}],\"scattergl\":[{\"type\":\"scattergl\",\"marker\":{\"colorbar\":{\"outlinewidth\":0,\"ticks\":\"\"}}}],\"scatter3d\":[{\"type\":\"scatter3d\",\"line\":{\"colorbar\":{\"outlinewidth\":0,\"ticks\":\"\"}},\"marker\":{\"colorbar\":{\"outlinewidth\":0,\"ticks\":\"\"}}}],\"scattermapbox\":[{\"type\":\"scattermapbox\",\"marker\":{\"colorbar\":{\"outlinewidth\":0,\"ticks\":\"\"}}}],\"scatterternary\":[{\"type\":\"scatterternary\",\"marker\":{\"colorbar\":{\"outlinewidth\":0,\"ticks\":\"\"}}}],\"scattercarpet\":[{\"type\":\"scattercarpet\",\"marker\":{\"colorbar\":{\"outlinewidth\":0,\"ticks\":\"\"}}}],\"carpet\":[{\"aaxis\":{\"endlinecolor\":\"#2a3f5f\",\"gridcolor\":\"white\",\"linecolor\":\"white\",\"minorgridcolor\":\"white\",\"startlinecolor\":\"#2a3f5f\"},\"baxis\":{\"endlinecolor\":\"#2a3f5f\",\"gridcolor\":\"white\",\"linecolor\":\"white\",\"minorgridcolor\":\"white\",\"startlinecolor\":\"#2a3f5f\"},\"type\":\"carpet\"}],\"table\":[{\"cells\":{\"fill\":{\"color\":\"#EBF0F8\"},\"line\":{\"color\":\"white\"}},\"header\":{\"fill\":{\"color\":\"#C8D4E3\"},\"line\":{\"color\":\"white\"}},\"type\":\"table\"}],\"barpolar\":[{\"marker\":{\"line\":{\"color\":\"#E5ECF6\",\"width\":0.5},\"pattern\":{\"fillmode\":\"overlay\",\"size\":10,\"solidity\":0.2}},\"type\":\"barpolar\"}],\"pie\":[{\"automargin\":true,\"type\":\"pie\"}]},\"layout\":{\"autotypenumbers\":\"strict\",\"colorway\":[\"#636efa\",\"#EF553B\",\"#00cc96\",\"#ab63fa\",\"#FFA15A\",\"#19d3f3\",\"#FF6692\",\"#B6E880\",\"#FF97FF\",\"#FECB52\"],\"font\":{\"color\":\"#2a3f5f\"},\"hovermode\":\"closest\",\"hoverlabel\":{\"align\":\"left\"},\"paper_bgcolor\":\"white\",\"plot_bgcolor\":\"#E5ECF6\",\"polar\":{\"bgcolor\":\"#E5ECF6\",\"angularaxis\":{\"gridcolor\":\"white\",\"linecolor\":\"white\",\"ticks\":\"\"},\"radialaxis\":{\"gridcolor\":\"white\",\"linecolor\":\"white\",\"ticks\":\"\"}},\"ternary\":{\"bgcolor\":\"#E5ECF6\",\"aaxis\":{\"gridcolor\":\"white\",\"linecolor\":\"white\",\"ticks\":\"\"},\"baxis\":{\"gridcolor\":\"white\",\"linecolor\":\"white\",\"ticks\":\"\"},\"caxis\":{\"gridcolor\":\"white\",\"linecolor\":\"white\",\"ticks\":\"\"}},\"coloraxis\":{\"colorbar\":{\"outlinewidth\":0,\"ticks\":\"\"}},\"colorscale\":{\"sequential\":[[0.0,\"#0d0887\"],[0.1111111111111111,\"#46039f\"],[0.2222222222222222,\"#7201a8\"],[0.3333333333333333,\"#9c179e\"],[0.4444444444444444,\"#bd3786\"],[0.5555555555555556,\"#d8576b\"],[0.6666666666666666,\"#ed7953\"],[0.7777777777777778,\"#fb9f3a\"],[0.8888888888888888,\"#fdca26\"],[1.0,\"#f0f921\"]],\"sequentialminus\":[[0.0,\"#0d0887\"],[0.1111111111111111,\"#46039f\"],[0.2222222222222222,\"#7201a8\"],[0.3333333333333333,\"#9c179e\"],[0.4444444444444444,\"#bd3786\"],[0.5555555555555556,\"#d8576b\"],[0.6666666666666666,\"#ed7953\"],[0.7777777777777778,\"#fb9f3a\"],[0.8888888888888888,\"#fdca26\"],[1.0,\"#f0f921\"]],\"diverging\":[[0,\"#8e0152\"],[0.1,\"#c51b7d\"],[0.2,\"#de77ae\"],[0.3,\"#f1b6da\"],[0.4,\"#fde0ef\"],[0.5,\"#f7f7f7\"],[0.6,\"#e6f5d0\"],[0.7,\"#b8e186\"],[0.8,\"#7fbc41\"],[0.9,\"#4d9221\"],[1,\"#276419\"]]},\"xaxis\":{\"gridcolor\":\"white\",\"linecolor\":\"white\",\"ticks\":\"\",\"title\":{\"standoff\":15},\"zerolinecolor\":\"white\",\"automargin\":true,\"zerolinewidth\":2},\"yaxis\":{\"gridcolor\":\"white\",\"linecolor\":\"white\",\"ticks\":\"\",\"title\":{\"standoff\":15},\"zerolinecolor\":\"white\",\"automargin\":true,\"zerolinewidth\":2},\"scene\":{\"xaxis\":{\"backgroundcolor\":\"#E5ECF6\",\"gridcolor\":\"white\",\"linecolor\":\"white\",\"showbackground\":true,\"ticks\":\"\",\"zerolinecolor\":\"white\",\"gridwidth\":2},\"yaxis\":{\"backgroundcolor\":\"#E5ECF6\",\"gridcolor\":\"white\",\"linecolor\":\"white\",\"showbackground\":true,\"ticks\":\"\",\"zerolinecolor\":\"white\",\"gridwidth\":2},\"zaxis\":{\"backgroundcolor\":\"#E5ECF6\",\"gridcolor\":\"white\",\"linecolor\":\"white\",\"showbackground\":true,\"ticks\":\"\",\"zerolinecolor\":\"white\",\"gridwidth\":2}},\"shapedefaults\":{\"line\":{\"color\":\"#2a3f5f\"}},\"annotationdefaults\":{\"arrowcolor\":\"#2a3f5f\",\"arrowhead\":0,\"arrowwidth\":1},\"geo\":{\"bgcolor\":\"white\",\"landcolor\":\"#E5ECF6\",\"subunitcolor\":\"white\",\"showland\":true,\"showlakes\":true,\"lakecolor\":\"white\"},\"title\":{\"x\":0.05},\"mapbox\":{\"style\":\"light\"}}}},                        {\"responsive\": true}                    ).then(function(){\n",
       "                            \n",
       "var gd = document.getElementById('8fffb040-0448-49f3-be91-02edc23f4a94');\n",
       "var x = new MutationObserver(function (mutations, observer) {{\n",
       "        var display = window.getComputedStyle(gd).display;\n",
       "        if (!display || display === 'none') {{\n",
       "            console.log([gd, 'removed!']);\n",
       "            Plotly.purge(gd);\n",
       "            observer.disconnect();\n",
       "        }}\n",
       "}});\n",
       "\n",
       "// Listen for the removal of the full notebook cells\n",
       "var notebookContainer = gd.closest('#notebook-container');\n",
       "if (notebookContainer) {{\n",
       "    x.observe(notebookContainer, {childList: true});\n",
       "}}\n",
       "\n",
       "// Listen for the clearing of the current output cell\n",
       "var outputEl = gd.closest('.output');\n",
       "if (outputEl) {{\n",
       "    x.observe(outputEl, {childList: true});\n",
       "}}\n",
       "\n",
       "                        })                };                });            </script>        </div>"
      ]
     },
     "metadata": {},
     "output_type": "display_data"
    },
    {
     "name": "stdout",
     "output_type": "stream",
     "text": [
      "optimal and original super imposed given: G= 0.5 , alpha= 0.2\n"
     ]
    },
    {
     "data": {
      "application/vnd.plotly.v1+json": {
       "config": {
        "plotlyServerURL": "https://plot.ly"
       },
       "data": [
        {
         "mode": "markers",
         "name": "main root base",
         "type": "scatter",
         "x": [
          7.014674
         ],
         "y": [
          4.083105
         ]
        },
        {
         "mode": "markers",
         "name": "main root points",
         "type": "scatter",
         "x": [
          7.068931,
          7.097697,
          7.102405,
          7.096509,
          7.078003,
          7.057387,
          7.064473,
          7.056801,
          7.045027,
          7.03578,
          7.053914,
          7.058697,
          7.050602,
          7.021744
         ],
         "y": [
          4.391064,
          4.580238,
          4.699361,
          4.817372,
          4.93411,
          5.050687,
          5.168109,
          5.286132,
          5.443573,
          5.623435,
          5.801408,
          5.991669,
          6.214376,
          6.799064
         ]
        },
        {
         "mode": "markers",
         "name": "optimal connections",
         "type": "scatter",
         "x": [],
         "y": []
        },
        {
         "mode": "markers",
         "name": "lateral root points",
         "type": "scatter",
         "x": [
          7.03248,
          6.921742,
          6.763005,
          7.065898,
          7.312281,
          7.439422,
          7.125593,
          7.182462,
          7.287631
         ],
         "y": [
          4.136673,
          4.219422,
          4.337383,
          4.198863,
          4.231294,
          4.27106,
          4.363359,
          4.368823,
          4.43411
         ]
        },
        {
         "mode": "lines",
         "name": "main root",
         "type": "scatter",
         "x": [
          7.014674,
          7.068931,
          null,
          7.068931,
          7.097697,
          null,
          7.097697,
          7.102405,
          null,
          7.102405,
          7.096509,
          null,
          7.096509,
          7.078003,
          null,
          7.078003,
          7.057387,
          null,
          7.057387,
          7.064473,
          null,
          7.064473,
          7.056801,
          null,
          7.056801,
          7.045027,
          null,
          7.045027,
          7.03578,
          null,
          7.03578,
          7.053914,
          null,
          7.053914,
          7.058697,
          null,
          7.058697,
          7.050602,
          null,
          7.050602,
          7.021744,
          null
         ],
         "y": [
          4.083105,
          4.391064,
          null,
          4.391064,
          4.580238,
          null,
          4.580238,
          4.699361,
          null,
          4.699361,
          4.817372,
          null,
          4.817372,
          4.93411,
          null,
          4.93411,
          5.050687,
          null,
          5.050687,
          5.168109,
          null,
          5.168109,
          5.286132,
          null,
          5.286132,
          5.443573,
          null,
          5.443573,
          5.623435,
          null,
          5.623435,
          5.801408,
          null,
          5.801408,
          5.991669,
          null,
          5.991669,
          6.214376,
          null,
          6.214376,
          6.799064,
          null
         ]
        },
        {
         "mode": "lines",
         "name": "lateral root",
         "type": "scatter",
         "x": [
          7.03248,
          6.921742,
          null,
          6.921742,
          6.763005,
          null,
          7.065898,
          7.312281,
          null,
          7.312281,
          7.439422,
          null,
          7.125593,
          7.182462,
          null,
          7.182462,
          7.287631,
          null
         ],
         "y": [
          4.136673,
          4.219422,
          null,
          4.219422,
          4.337383,
          null,
          4.198863,
          4.231294,
          null,
          4.231294,
          4.27106,
          null,
          4.363359,
          4.368823,
          null,
          4.368823,
          4.43411,
          null
         ]
        },
        {
         "mode": "markers",
         "name": "main root base",
         "type": "scatter",
         "x": [
          7.014674
         ],
         "y": [
          4.083105
         ]
        },
        {
         "mode": "markers",
         "name": "main root points",
         "type": "scatter",
         "x": [
          7.068931,
          7.097697,
          7.102405,
          7.096509,
          7.078003,
          7.057387,
          7.064473,
          7.056801,
          7.045027,
          7.03578,
          7.053914,
          7.058697,
          7.050602,
          7.021744
         ],
         "y": [
          4.391064,
          4.580238,
          4.699361,
          4.817372,
          4.93411,
          5.050687,
          5.168109,
          5.286132,
          5.443573,
          5.623435,
          5.801408,
          5.991669,
          6.214376,
          6.799064
         ]
        },
        {
         "mode": "markers",
         "name": "optimal connections",
         "type": "scatter",
         "x": [
          7.01479581164407,
          7.01479581164407,
          7.068983405404603
         ],
         "y": [
          4.083796394513076,
          4.083796394513076,
          4.391408633943204
         ]
        },
        {
         "mode": "markers",
         "name": "lateral root points",
         "type": "scatter",
         "x": [
          6.763005,
          7.439422,
          7.287631
         ],
         "y": [
          4.337383,
          4.27106,
          4.43411
         ]
        },
        {
         "mode": "lines",
         "name": "main root",
         "type": "scatter",
         "x": [
          7.014674,
          7.068931,
          null,
          7.068931,
          7.097697,
          null,
          7.097697,
          7.102405,
          null,
          7.102405,
          7.096509,
          null,
          7.096509,
          7.078003,
          null,
          7.078003,
          7.057387,
          null,
          7.057387,
          7.064473,
          null,
          7.064473,
          7.056801,
          null,
          7.056801,
          7.045027,
          null,
          7.045027,
          7.03578,
          null,
          7.03578,
          7.053914,
          null,
          7.053914,
          7.058697,
          null,
          7.058697,
          7.050602,
          null,
          7.050602,
          7.021744,
          null
         ],
         "y": [
          4.083105,
          4.391064,
          null,
          4.391064,
          4.580238,
          null,
          4.580238,
          4.699361,
          null,
          4.699361,
          4.817372,
          null,
          4.817372,
          4.93411,
          null,
          4.93411,
          5.050687,
          null,
          5.050687,
          5.168109,
          null,
          5.168109,
          5.286132,
          null,
          5.286132,
          5.443573,
          null,
          5.443573,
          5.623435,
          null,
          5.623435,
          5.801408,
          null,
          5.801408,
          5.991669,
          null,
          5.991669,
          6.214376,
          null,
          6.214376,
          6.799064,
          null
         ]
        },
        {
         "mode": "lines",
         "name": "lateral root",
         "type": "scatter",
         "x": [
          6.763005,
          6.767995736688002,
          6.772992633847036,
          6.7779956914770985,
          6.783004909578193,
          6.788020288150318,
          6.793041827193473,
          6.798069526707659,
          6.803103386692875,
          6.808143407149123,
          6.8131895880764,
          6.818241929474708,
          6.823300431344047,
          6.8283650936844165,
          6.833435916495817,
          6.838512899778247,
          6.843596043531708,
          6.8486853477561995,
          6.853780812451721,
          6.858882437618274,
          6.863990223255858,
          6.869104169364471,
          6.8742242759441154,
          6.879350542994791,
          6.884482970516497,
          6.889621558509233,
          6.894766306972999,
          6.899917215907797,
          6.905074285313624,
          6.910237515190483,
          6.915406905538371,
          6.920582456357291,
          6.925764167647241,
          6.930952039408222,
          6.936146071640233,
          6.941346264343275,
          6.946552617517347,
          6.95176513116245,
          6.9569838052785835,
          6.9622086398657475,
          6.9674396349239425,
          6.972676790453168,
          6.977920106453423,
          6.98316958292471,
          6.988425219867026,
          6.993687017280374,
          6.998954975164752,
          7.004229093520161,
          7.0095093723466,
          7.01479581164407,
          null,
          7.01479581164407,
          7.023203647048641,
          7.0316222326688,
          7.0400515685045475,
          7.048491654555884,
          7.0569424908228084,
          7.065404077305321,
          7.073876414003422,
          7.082359500917112,
          7.09085333804639,
          7.099357925391256,
          7.107873262951712,
          7.116399350727755,
          7.124936188719386,
          7.133483776926607,
          7.1420421153494145,
          7.150611203987812,
          7.159191042841797,
          7.167781631911371,
          7.176382971196532,
          7.184995060697283,
          7.193617900413622,
          7.2022514903455495,
          7.210895830493065,
          7.219550920856169,
          7.228216761434862,
          7.236893352229142,
          7.245580693239011,
          7.25427878446447,
          7.262987625905515,
          7.27170721756215,
          7.280437559434373,
          7.2891786515221835,
          7.297930493825583,
          7.306693086344572,
          7.315466429079148,
          7.324250522029313,
          7.3330453651950664,
          7.341850958576408,
          7.3506673021733375,
          7.359494395985856,
          7.368332240013963,
          7.377180834257659,
          7.386040178716942,
          7.394910273391814,
          7.403791118282275,
          7.412682713388324,
          7.421585058709961,
          7.430498154247187,
          7.439422,
          null,
          7.068983405404603,
          7.073379493882708,
          7.077778336832895,
          7.082179934255164,
          7.086584286149515,
          7.090991392515948,
          7.095401253354463,
          7.099813868665059,
          7.104229238447737,
          7.108647362702498,
          7.11306824142934,
          7.117491874628263,
          7.1219182622992685,
          7.126347404442356,
          7.130779301057525,
          7.135213952144777,
          7.13965135770411,
          7.144091517735524,
          7.14853443223902,
          7.152980101214599,
          7.15742852466226,
          7.161879702582001,
          7.166333634973825,
          7.170790321837731,
          7.175249763173719,
          7.1797119589817875,
          7.184176909261939,
          7.188644614014172,
          7.193115073238487,
          7.1975882869348835,
          7.202064255103362,
          7.206542977743922,
          7.211024454856564,
          7.2155086864412885,
          7.2199956724980945,
          7.224485413026982,
          7.228977908027951,
          7.2334731575010025,
          7.2379711614461355,
          7.24247191986335,
          7.246975432752647,
          7.2514817001140255,
          7.255990721947486,
          7.260502498253029,
          7.265017029030653,
          7.269534314280358,
          7.274054354002146,
          7.278577148196016,
          7.283102696861967,
          7.287631,
          null
         ],
         "y": [
          4.337383,
          4.331368569317427,
          4.3253891050446835,
          4.31944460718177,
          4.3135350757286846,
          4.307660510685429,
          4.301820912052002,
          4.296016279828405,
          4.290246614014636,
          4.284511914610698,
          4.278812181616588,
          4.273147415032307,
          4.267517614857856,
          4.261922781093233,
          4.256362913738441,
          4.250838012793476,
          4.245348078258342,
          4.239893110133036,
          4.23447310841756,
          4.229088073111913,
          4.223738004216095,
          4.218422901730106,
          4.213142765653947,
          4.207897595987617,
          4.202687392731115,
          4.197512155884444,
          4.192371885447601,
          4.187266581420587,
          4.182196243803403,
          4.177160872596048,
          4.172160467798522,
          4.167195029410825,
          4.162264557432957,
          4.157369051864919,
          4.15250851270671,
          4.14768293995833,
          4.14289233361978,
          4.138136693691058,
          4.133416020172166,
          4.128730313063102,
          4.124079572363868,
          4.119463798074463,
          4.114882990194888,
          4.110337148725141,
          4.105826273665224,
          4.101350365015136,
          4.0969094227748775,
          4.0925034469444475,
          4.088132437523847,
          4.083796394513076,
          null,
          4.083796394513076,
          4.086153681125753,
          4.088571985222669,
          4.091051306803824,
          4.09359164586922,
          4.096193002418855,
          4.09885537645273,
          4.101578767970844,
          4.104363176973198,
          4.107208603459791,
          4.110115047430624,
          4.113082508885697,
          4.116110987825009,
          4.119200484248561,
          4.122350998156352,
          4.125562529548383,
          4.128835078424654,
          4.132168644785164,
          4.1355632286299135,
          4.1390188299589035,
          4.142535448772132,
          4.146113085069601,
          4.149751738851309,
          4.153451410117257,
          4.157212098867444,
          4.161033805101871,
          4.164916528820538,
          4.168860270023444,
          4.17286502871059,
          4.176930804881976,
          4.181057598537601,
          4.185245409677465,
          4.189494238301569,
          4.193804084409914,
          4.198174948002497,
          4.20260682907932,
          4.207099727640382,
          4.211653643685684,
          4.216268577215226,
          4.220944528229008,
          4.225681496727029,
          4.230479482709289,
          4.23533848617579,
          4.24025850712653,
          4.2452395455615095,
          4.2502816014807285,
          4.255384674884187,
          4.260548765771885,
          4.2657738741438225,
          4.27106,
          null,
          4.391408633943204,
          4.391845348404933,
          4.39230017711618,
          4.392773120076944,
          4.393264177287224,
          4.393773348747022,
          4.394300634456337,
          4.394846034415169,
          4.395409548623517,
          4.395991177081383,
          4.396590919788766,
          4.397208776745666,
          4.397844747952083,
          4.398498833408017,
          4.399171033113468,
          4.399861347068437,
          4.400569775272921,
          4.401296317726924,
          4.402040974430443,
          4.40280374538348,
          4.403584630586033,
          4.404383630038104,
          4.405200743739691,
          4.4060359716907955,
          4.406889313891417,
          4.407760770341556,
          4.408650341041212,
          4.409558025990385,
          4.410483825189075,
          4.411427738637281,
          4.412389766335005,
          4.413369908282246,
          4.414368164479004,
          4.41538453492528,
          4.416419019621071,
          4.41747161856638,
          4.418542331761207,
          4.41963115920555,
          4.420738100899411,
          4.421863156842788,
          4.423006327035683,
          4.424167611478095,
          4.4253470101700225,
          4.426544523111469,
          4.427760150302431,
          4.428993891742911,
          4.430245747432908,
          4.431515717372421,
          4.432803801561453,
          4.43411,
          null
         ]
        }
       ],
       "layout": {
        "autosize": true,
        "template": {
         "data": {
          "bar": [
           {
            "error_x": {
             "color": "#2a3f5f"
            },
            "error_y": {
             "color": "#2a3f5f"
            },
            "marker": {
             "line": {
              "color": "#E5ECF6",
              "width": 0.5
             },
             "pattern": {
              "fillmode": "overlay",
              "size": 10,
              "solidity": 0.2
             }
            },
            "type": "bar"
           }
          ],
          "barpolar": [
           {
            "marker": {
             "line": {
              "color": "#E5ECF6",
              "width": 0.5
             },
             "pattern": {
              "fillmode": "overlay",
              "size": 10,
              "solidity": 0.2
             }
            },
            "type": "barpolar"
           }
          ],
          "carpet": [
           {
            "aaxis": {
             "endlinecolor": "#2a3f5f",
             "gridcolor": "white",
             "linecolor": "white",
             "minorgridcolor": "white",
             "startlinecolor": "#2a3f5f"
            },
            "baxis": {
             "endlinecolor": "#2a3f5f",
             "gridcolor": "white",
             "linecolor": "white",
             "minorgridcolor": "white",
             "startlinecolor": "#2a3f5f"
            },
            "type": "carpet"
           }
          ],
          "choropleth": [
           {
            "colorbar": {
             "outlinewidth": 0,
             "ticks": ""
            },
            "type": "choropleth"
           }
          ],
          "contour": [
           {
            "colorbar": {
             "outlinewidth": 0,
             "ticks": ""
            },
            "colorscale": [
             [
              0,
              "#0d0887"
             ],
             [
              0.1111111111111111,
              "#46039f"
             ],
             [
              0.2222222222222222,
              "#7201a8"
             ],
             [
              0.3333333333333333,
              "#9c179e"
             ],
             [
              0.4444444444444444,
              "#bd3786"
             ],
             [
              0.5555555555555556,
              "#d8576b"
             ],
             [
              0.6666666666666666,
              "#ed7953"
             ],
             [
              0.7777777777777778,
              "#fb9f3a"
             ],
             [
              0.8888888888888888,
              "#fdca26"
             ],
             [
              1,
              "#f0f921"
             ]
            ],
            "type": "contour"
           }
          ],
          "contourcarpet": [
           {
            "colorbar": {
             "outlinewidth": 0,
             "ticks": ""
            },
            "type": "contourcarpet"
           }
          ],
          "heatmap": [
           {
            "colorbar": {
             "outlinewidth": 0,
             "ticks": ""
            },
            "colorscale": [
             [
              0,
              "#0d0887"
             ],
             [
              0.1111111111111111,
              "#46039f"
             ],
             [
              0.2222222222222222,
              "#7201a8"
             ],
             [
              0.3333333333333333,
              "#9c179e"
             ],
             [
              0.4444444444444444,
              "#bd3786"
             ],
             [
              0.5555555555555556,
              "#d8576b"
             ],
             [
              0.6666666666666666,
              "#ed7953"
             ],
             [
              0.7777777777777778,
              "#fb9f3a"
             ],
             [
              0.8888888888888888,
              "#fdca26"
             ],
             [
              1,
              "#f0f921"
             ]
            ],
            "type": "heatmap"
           }
          ],
          "heatmapgl": [
           {
            "colorbar": {
             "outlinewidth": 0,
             "ticks": ""
            },
            "colorscale": [
             [
              0,
              "#0d0887"
             ],
             [
              0.1111111111111111,
              "#46039f"
             ],
             [
              0.2222222222222222,
              "#7201a8"
             ],
             [
              0.3333333333333333,
              "#9c179e"
             ],
             [
              0.4444444444444444,
              "#bd3786"
             ],
             [
              0.5555555555555556,
              "#d8576b"
             ],
             [
              0.6666666666666666,
              "#ed7953"
             ],
             [
              0.7777777777777778,
              "#fb9f3a"
             ],
             [
              0.8888888888888888,
              "#fdca26"
             ],
             [
              1,
              "#f0f921"
             ]
            ],
            "type": "heatmapgl"
           }
          ],
          "histogram": [
           {
            "marker": {
             "pattern": {
              "fillmode": "overlay",
              "size": 10,
              "solidity": 0.2
             }
            },
            "type": "histogram"
           }
          ],
          "histogram2d": [
           {
            "colorbar": {
             "outlinewidth": 0,
             "ticks": ""
            },
            "colorscale": [
             [
              0,
              "#0d0887"
             ],
             [
              0.1111111111111111,
              "#46039f"
             ],
             [
              0.2222222222222222,
              "#7201a8"
             ],
             [
              0.3333333333333333,
              "#9c179e"
             ],
             [
              0.4444444444444444,
              "#bd3786"
             ],
             [
              0.5555555555555556,
              "#d8576b"
             ],
             [
              0.6666666666666666,
              "#ed7953"
             ],
             [
              0.7777777777777778,
              "#fb9f3a"
             ],
             [
              0.8888888888888888,
              "#fdca26"
             ],
             [
              1,
              "#f0f921"
             ]
            ],
            "type": "histogram2d"
           }
          ],
          "histogram2dcontour": [
           {
            "colorbar": {
             "outlinewidth": 0,
             "ticks": ""
            },
            "colorscale": [
             [
              0,
              "#0d0887"
             ],
             [
              0.1111111111111111,
              "#46039f"
             ],
             [
              0.2222222222222222,
              "#7201a8"
             ],
             [
              0.3333333333333333,
              "#9c179e"
             ],
             [
              0.4444444444444444,
              "#bd3786"
             ],
             [
              0.5555555555555556,
              "#d8576b"
             ],
             [
              0.6666666666666666,
              "#ed7953"
             ],
             [
              0.7777777777777778,
              "#fb9f3a"
             ],
             [
              0.8888888888888888,
              "#fdca26"
             ],
             [
              1,
              "#f0f921"
             ]
            ],
            "type": "histogram2dcontour"
           }
          ],
          "mesh3d": [
           {
            "colorbar": {
             "outlinewidth": 0,
             "ticks": ""
            },
            "type": "mesh3d"
           }
          ],
          "parcoords": [
           {
            "line": {
             "colorbar": {
              "outlinewidth": 0,
              "ticks": ""
             }
            },
            "type": "parcoords"
           }
          ],
          "pie": [
           {
            "automargin": true,
            "type": "pie"
           }
          ],
          "scatter": [
           {
            "fillpattern": {
             "fillmode": "overlay",
             "size": 10,
             "solidity": 0.2
            },
            "type": "scatter"
           }
          ],
          "scatter3d": [
           {
            "line": {
             "colorbar": {
              "outlinewidth": 0,
              "ticks": ""
             }
            },
            "marker": {
             "colorbar": {
              "outlinewidth": 0,
              "ticks": ""
             }
            },
            "type": "scatter3d"
           }
          ],
          "scattercarpet": [
           {
            "marker": {
             "colorbar": {
              "outlinewidth": 0,
              "ticks": ""
             }
            },
            "type": "scattercarpet"
           }
          ],
          "scattergeo": [
           {
            "marker": {
             "colorbar": {
              "outlinewidth": 0,
              "ticks": ""
             }
            },
            "type": "scattergeo"
           }
          ],
          "scattergl": [
           {
            "marker": {
             "colorbar": {
              "outlinewidth": 0,
              "ticks": ""
             }
            },
            "type": "scattergl"
           }
          ],
          "scattermapbox": [
           {
            "marker": {
             "colorbar": {
              "outlinewidth": 0,
              "ticks": ""
             }
            },
            "type": "scattermapbox"
           }
          ],
          "scatterpolar": [
           {
            "marker": {
             "colorbar": {
              "outlinewidth": 0,
              "ticks": ""
             }
            },
            "type": "scatterpolar"
           }
          ],
          "scatterpolargl": [
           {
            "marker": {
             "colorbar": {
              "outlinewidth": 0,
              "ticks": ""
             }
            },
            "type": "scatterpolargl"
           }
          ],
          "scatterternary": [
           {
            "marker": {
             "colorbar": {
              "outlinewidth": 0,
              "ticks": ""
             }
            },
            "type": "scatterternary"
           }
          ],
          "surface": [
           {
            "colorbar": {
             "outlinewidth": 0,
             "ticks": ""
            },
            "colorscale": [
             [
              0,
              "#0d0887"
             ],
             [
              0.1111111111111111,
              "#46039f"
             ],
             [
              0.2222222222222222,
              "#7201a8"
             ],
             [
              0.3333333333333333,
              "#9c179e"
             ],
             [
              0.4444444444444444,
              "#bd3786"
             ],
             [
              0.5555555555555556,
              "#d8576b"
             ],
             [
              0.6666666666666666,
              "#ed7953"
             ],
             [
              0.7777777777777778,
              "#fb9f3a"
             ],
             [
              0.8888888888888888,
              "#fdca26"
             ],
             [
              1,
              "#f0f921"
             ]
            ],
            "type": "surface"
           }
          ],
          "table": [
           {
            "cells": {
             "fill": {
              "color": "#EBF0F8"
             },
             "line": {
              "color": "white"
             }
            },
            "header": {
             "fill": {
              "color": "#C8D4E3"
             },
             "line": {
              "color": "white"
             }
            },
            "type": "table"
           }
          ]
         },
         "layout": {
          "annotationdefaults": {
           "arrowcolor": "#2a3f5f",
           "arrowhead": 0,
           "arrowwidth": 1
          },
          "autotypenumbers": "strict",
          "coloraxis": {
           "colorbar": {
            "outlinewidth": 0,
            "ticks": ""
           }
          },
          "colorscale": {
           "diverging": [
            [
             0,
             "#8e0152"
            ],
            [
             0.1,
             "#c51b7d"
            ],
            [
             0.2,
             "#de77ae"
            ],
            [
             0.3,
             "#f1b6da"
            ],
            [
             0.4,
             "#fde0ef"
            ],
            [
             0.5,
             "#f7f7f7"
            ],
            [
             0.6,
             "#e6f5d0"
            ],
            [
             0.7,
             "#b8e186"
            ],
            [
             0.8,
             "#7fbc41"
            ],
            [
             0.9,
             "#4d9221"
            ],
            [
             1,
             "#276419"
            ]
           ],
           "sequential": [
            [
             0,
             "#0d0887"
            ],
            [
             0.1111111111111111,
             "#46039f"
            ],
            [
             0.2222222222222222,
             "#7201a8"
            ],
            [
             0.3333333333333333,
             "#9c179e"
            ],
            [
             0.4444444444444444,
             "#bd3786"
            ],
            [
             0.5555555555555556,
             "#d8576b"
            ],
            [
             0.6666666666666666,
             "#ed7953"
            ],
            [
             0.7777777777777778,
             "#fb9f3a"
            ],
            [
             0.8888888888888888,
             "#fdca26"
            ],
            [
             1,
             "#f0f921"
            ]
           ],
           "sequentialminus": [
            [
             0,
             "#0d0887"
            ],
            [
             0.1111111111111111,
             "#46039f"
            ],
            [
             0.2222222222222222,
             "#7201a8"
            ],
            [
             0.3333333333333333,
             "#9c179e"
            ],
            [
             0.4444444444444444,
             "#bd3786"
            ],
            [
             0.5555555555555556,
             "#d8576b"
            ],
            [
             0.6666666666666666,
             "#ed7953"
            ],
            [
             0.7777777777777778,
             "#fb9f3a"
            ],
            [
             0.8888888888888888,
             "#fdca26"
            ],
            [
             1,
             "#f0f921"
            ]
           ]
          },
          "colorway": [
           "#636efa",
           "#EF553B",
           "#00cc96",
           "#ab63fa",
           "#FFA15A",
           "#19d3f3",
           "#FF6692",
           "#B6E880",
           "#FF97FF",
           "#FECB52"
          ],
          "font": {
           "color": "#2a3f5f"
          },
          "geo": {
           "bgcolor": "white",
           "lakecolor": "white",
           "landcolor": "#E5ECF6",
           "showlakes": true,
           "showland": true,
           "subunitcolor": "white"
          },
          "hoverlabel": {
           "align": "left"
          },
          "hovermode": "closest",
          "mapbox": {
           "style": "light"
          },
          "paper_bgcolor": "white",
          "plot_bgcolor": "#E5ECF6",
          "polar": {
           "angularaxis": {
            "gridcolor": "white",
            "linecolor": "white",
            "ticks": ""
           },
           "bgcolor": "#E5ECF6",
           "radialaxis": {
            "gridcolor": "white",
            "linecolor": "white",
            "ticks": ""
           }
          },
          "scene": {
           "xaxis": {
            "backgroundcolor": "#E5ECF6",
            "gridcolor": "white",
            "gridwidth": 2,
            "linecolor": "white",
            "showbackground": true,
            "ticks": "",
            "zerolinecolor": "white"
           },
           "yaxis": {
            "backgroundcolor": "#E5ECF6",
            "gridcolor": "white",
            "gridwidth": 2,
            "linecolor": "white",
            "showbackground": true,
            "ticks": "",
            "zerolinecolor": "white"
           },
           "zaxis": {
            "backgroundcolor": "#E5ECF6",
            "gridcolor": "white",
            "gridwidth": 2,
            "linecolor": "white",
            "showbackground": true,
            "ticks": "",
            "zerolinecolor": "white"
           }
          },
          "shapedefaults": {
           "line": {
            "color": "#2a3f5f"
           }
          },
          "ternary": {
           "aaxis": {
            "gridcolor": "white",
            "linecolor": "white",
            "ticks": ""
           },
           "baxis": {
            "gridcolor": "white",
            "linecolor": "white",
            "ticks": ""
           },
           "bgcolor": "#E5ECF6",
           "caxis": {
            "gridcolor": "white",
            "linecolor": "white",
            "ticks": ""
           }
          },
          "title": {
           "x": 0.05
          },
          "xaxis": {
           "automargin": true,
           "gridcolor": "white",
           "linecolor": "white",
           "ticks": "",
           "title": {
            "standoff": 15
           },
           "zerolinecolor": "white",
           "zerolinewidth": 2
          },
          "yaxis": {
           "automargin": true,
           "gridcolor": "white",
           "linecolor": "white",
           "ticks": "",
           "title": {
            "standoff": 15
           },
           "zerolinecolor": "white",
           "zerolinewidth": 2
          }
         }
        },
        "xaxis": {
         "autorange": false,
         "range": [
          6.748954208016383,
          7.454792115174567
         ],
         "type": "linear"
        },
        "yaxis": {
         "autorange": false,
         "range": [
          3.9644465970873783,
          4.632449457928803
         ],
         "type": "linear"
        }
       }
      },
      "image/png": "[encoded data removed]",
      "text/html": [
       "<div>                            <div id=\"93ad3c5e-b25a-4387-a04c-5b0794862c5b\" class=\"plotly-graph-div\" style=\"height:525px; width:100%;\"></div>            <script type=\"text/javascript\">                require([\"plotly\"], function(Plotly) {                    window.PLOTLYENV=window.PLOTLYENV || {};                                    if (document.getElementById(\"93ad3c5e-b25a-4387-a04c-5b0794862c5b\")) {                    Plotly.newPlot(                        \"93ad3c5e-b25a-4387-a04c-5b0794862c5b\",                        [{\"mode\":\"markers\",\"name\":\"main root base\",\"x\":[7.014674],\"y\":[4.083105],\"type\":\"scatter\"},{\"mode\":\"markers\",\"name\":\"main root points\",\"x\":[7.068931,7.097697,7.102405,7.096509,7.078003,7.057387,7.064473,7.056801,7.045027,7.03578,7.053914,7.058697,7.050602,7.021744],\"y\":[4.391064,4.580238,4.699361,4.817372,4.93411,5.050687,5.168109,5.286132,5.443573,5.623435,5.801408,5.991669,6.214376,6.799064],\"type\":\"scatter\"},{\"mode\":\"markers\",\"name\":\"optimal connections\",\"x\":[],\"y\":[],\"type\":\"scatter\"},{\"mode\":\"markers\",\"name\":\"lateral root points\",\"x\":[7.03248,6.921742,6.763005,7.065898,7.312281,7.439422,7.125593,7.182462,7.287631],\"y\":[4.136673,4.219422,4.337383,4.198863,4.231294,4.27106,4.363359,4.368823,4.43411],\"type\":\"scatter\"},{\"mode\":\"lines\",\"name\":\"main root\",\"x\":[7.014674,7.068931,null,7.068931,7.097697,null,7.097697,7.102405,null,7.102405,7.096509,null,7.096509,7.078003,null,7.078003,7.057387,null,7.057387,7.064473,null,7.064473,7.056801,null,7.056801,7.045027,null,7.045027,7.03578,null,7.03578,7.053914,null,7.053914,7.058697,null,7.058697,7.050602,null,7.050602,7.021744,null],\"y\":[4.083105,4.391064,null,4.391064,4.580238,null,4.580238,4.699361,null,4.699361,4.817372,null,4.817372,4.93411,null,4.93411,5.050687,null,5.050687,5.168109,null,5.168109,5.286132,null,5.286132,5.443573,null,5.443573,5.623435,null,5.623435,5.801408,null,5.801408,5.991669,null,5.991669,6.214376,null,6.214376,6.799064,null],\"type\":\"scatter\"},{\"mode\":\"lines\",\"name\":\"lateral root\",\"x\":[7.03248,6.921742,null,6.921742,6.763005,null,7.065898,7.312281,null,7.312281,7.439422,null,7.125593,7.182462,null,7.182462,7.287631,null],\"y\":[4.136673,4.219422,null,4.219422,4.337383,null,4.198863,4.231294,null,4.231294,4.27106,null,4.363359,4.368823,null,4.368823,4.43411,null],\"type\":\"scatter\"},{\"mode\":\"markers\",\"name\":\"main root base\",\"x\":[7.014674],\"y\":[4.083105],\"type\":\"scatter\"},{\"mode\":\"markers\",\"name\":\"main root points\",\"x\":[7.068931,7.097697,7.102405,7.096509,7.078003,7.057387,7.064473,7.056801,7.045027,7.03578,7.053914,7.058697,7.050602,7.021744],\"y\":[4.391064,4.580238,4.699361,4.817372,4.93411,5.050687,5.168109,5.286132,5.443573,5.623435,5.801408,5.991669,6.214376,6.799064],\"type\":\"scatter\"},{\"mode\":\"markers\",\"name\":\"optimal connections\",\"x\":[7.01479581164407,7.01479581164407,7.068983405404603],\"y\":[4.083796394513076,4.083796394513076,4.391408633943204],\"type\":\"scatter\"},{\"mode\":\"markers\",\"name\":\"lateral root points\",\"x\":[6.763005,7.439422,7.287631],\"y\":[4.337383,4.27106,4.43411],\"type\":\"scatter\"},{\"mode\":\"lines\",\"name\":\"main root\",\"x\":[7.014674,7.068931,null,7.068931,7.097697,null,7.097697,7.102405,null,7.102405,7.096509,null,7.096509,7.078003,null,7.078003,7.057387,null,7.057387,7.064473,null,7.064473,7.056801,null,7.056801,7.045027,null,7.045027,7.03578,null,7.03578,7.053914,null,7.053914,7.058697,null,7.058697,7.050602,null,7.050602,7.021744,null],\"y\":[4.083105,4.391064,null,4.391064,4.580238,null,4.580238,4.699361,null,4.699361,4.817372,null,4.817372,4.93411,null,4.93411,5.050687,null,5.050687,5.168109,null,5.168109,5.286132,null,5.286132,5.443573,null,5.443573,5.623435,null,5.623435,5.801408,null,5.801408,5.991669,null,5.991669,6.214376,null,6.214376,6.799064,null],\"type\":\"scatter\"},{\"mode\":\"lines\",\"name\":\"lateral root\",\"x\":[6.763005,6.767995736688002,6.772992633847036,6.7779956914770985,6.783004909578193,6.788020288150318,6.793041827193473,6.798069526707659,6.803103386692875,6.808143407149123,6.8131895880764,6.818241929474708,6.823300431344047,6.8283650936844165,6.833435916495817,6.838512899778247,6.843596043531708,6.8486853477561995,6.853780812451721,6.858882437618274,6.863990223255858,6.869104169364471,6.8742242759441154,6.879350542994791,6.884482970516497,6.889621558509233,6.894766306972999,6.899917215907797,6.905074285313624,6.910237515190483,6.915406905538371,6.920582456357291,6.925764167647241,6.930952039408222,6.936146071640233,6.941346264343275,6.946552617517347,6.95176513116245,6.9569838052785835,6.9622086398657475,6.9674396349239425,6.972676790453168,6.977920106453423,6.98316958292471,6.988425219867026,6.993687017280374,6.998954975164752,7.004229093520161,7.0095093723466,7.01479581164407,null,7.01479581164407,7.023203647048641,7.0316222326688,7.0400515685045475,7.048491654555884,7.0569424908228084,7.065404077305321,7.073876414003422,7.082359500917112,7.09085333804639,7.099357925391256,7.107873262951712,7.116399350727755,7.124936188719386,7.133483776926607,7.1420421153494145,7.150611203987812,7.159191042841797,7.167781631911371,7.176382971196532,7.184995060697283,7.193617900413622,7.2022514903455495,7.210895830493065,7.219550920856169,7.228216761434862,7.236893352229142,7.245580693239011,7.25427878446447,7.262987625905515,7.27170721756215,7.280437559434373,7.2891786515221835,7.297930493825583,7.306693086344572,7.315466429079148,7.324250522029313,7.3330453651950664,7.341850958576408,7.3506673021733375,7.359494395985856,7.368332240013963,7.377180834257659,7.386040178716942,7.394910273391814,7.403791118282275,7.412682713388324,7.421585058709961,7.430498154247187,7.439422,null,7.068983405404603,7.073379493882708,7.077778336832895,7.082179934255164,7.086584286149515,7.090991392515948,7.095401253354463,7.099813868665059,7.104229238447737,7.108647362702498,7.11306824142934,7.117491874628263,7.1219182622992685,7.126347404442356,7.130779301057525,7.135213952144777,7.13965135770411,7.144091517735524,7.14853443223902,7.152980101214599,7.15742852466226,7.161879702582001,7.166333634973825,7.170790321837731,7.175249763173719,7.1797119589817875,7.184176909261939,7.188644614014172,7.193115073238487,7.1975882869348835,7.202064255103362,7.206542977743922,7.211024454856564,7.2155086864412885,7.2199956724980945,7.224485413026982,7.228977908027951,7.2334731575010025,7.2379711614461355,7.24247191986335,7.246975432752647,7.2514817001140255,7.255990721947486,7.260502498253029,7.265017029030653,7.269534314280358,7.274054354002146,7.278577148196016,7.283102696861967,7.287631,null],\"y\":[4.337383,4.331368569317427,4.3253891050446835,4.31944460718177,4.3135350757286846,4.307660510685429,4.301820912052002,4.296016279828405,4.290246614014636,4.284511914610698,4.278812181616588,4.273147415032307,4.267517614857856,4.261922781093233,4.256362913738441,4.250838012793476,4.245348078258342,4.239893110133036,4.23447310841756,4.229088073111913,4.223738004216095,4.218422901730106,4.213142765653947,4.207897595987617,4.202687392731115,4.197512155884444,4.192371885447601,4.187266581420587,4.182196243803403,4.177160872596048,4.172160467798522,4.167195029410825,4.162264557432957,4.157369051864919,4.15250851270671,4.14768293995833,4.14289233361978,4.138136693691058,4.133416020172166,4.128730313063102,4.124079572363868,4.119463798074463,4.114882990194888,4.110337148725141,4.105826273665224,4.101350365015136,4.0969094227748775,4.0925034469444475,4.088132437523847,4.083796394513076,null,4.083796394513076,4.086153681125753,4.088571985222669,4.091051306803824,4.09359164586922,4.096193002418855,4.09885537645273,4.101578767970844,4.104363176973198,4.107208603459791,4.110115047430624,4.113082508885697,4.116110987825009,4.119200484248561,4.122350998156352,4.125562529548383,4.128835078424654,4.132168644785164,4.1355632286299135,4.1390188299589035,4.142535448772132,4.146113085069601,4.149751738851309,4.153451410117257,4.157212098867444,4.161033805101871,4.164916528820538,4.168860270023444,4.17286502871059,4.176930804881976,4.181057598537601,4.185245409677465,4.189494238301569,4.193804084409914,4.198174948002497,4.20260682907932,4.207099727640382,4.211653643685684,4.216268577215226,4.220944528229008,4.225681496727029,4.230479482709289,4.23533848617579,4.24025850712653,4.2452395455615095,4.2502816014807285,4.255384674884187,4.260548765771885,4.2657738741438225,4.27106,null,4.391408633943204,4.391845348404933,4.39230017711618,4.392773120076944,4.393264177287224,4.393773348747022,4.394300634456337,4.394846034415169,4.395409548623517,4.395991177081383,4.396590919788766,4.397208776745666,4.397844747952083,4.398498833408017,4.399171033113468,4.399861347068437,4.400569775272921,4.401296317726924,4.402040974430443,4.40280374538348,4.403584630586033,4.404383630038104,4.405200743739691,4.4060359716907955,4.406889313891417,4.407760770341556,4.408650341041212,4.409558025990385,4.410483825189075,4.411427738637281,4.412389766335005,4.413369908282246,4.414368164479004,4.41538453492528,4.416419019621071,4.41747161856638,4.418542331761207,4.41963115920555,4.420738100899411,4.421863156842788,4.423006327035683,4.424167611478095,4.4253470101700225,4.426544523111469,4.427760150302431,4.428993891742911,4.430245747432908,4.431515717372421,4.432803801561453,4.43411,null],\"type\":\"scatter\"}],                        {\"template\":{\"data\":{\"histogram2dcontour\":[{\"type\":\"histogram2dcontour\",\"colorbar\":{\"outlinewidth\":0,\"ticks\":\"\"},\"colorscale\":[[0.0,\"#0d0887\"],[0.1111111111111111,\"#46039f\"],[0.2222222222222222,\"#7201a8\"],[0.3333333333333333,\"#9c179e\"],[0.4444444444444444,\"#bd3786\"],[0.5555555555555556,\"#d8576b\"],[0.6666666666666666,\"#ed7953\"],[0.7777777777777778,\"#fb9f3a\"],[0.8888888888888888,\"#fdca26\"],[1.0,\"#f0f921\"]]}],\"choropleth\":[{\"type\":\"choropleth\",\"colorbar\":{\"outlinewidth\":0,\"ticks\":\"\"}}],\"histogram2d\":[{\"type\":\"histogram2d\",\"colorbar\":{\"outlinewidth\":0,\"ticks\":\"\"},\"colorscale\":[[0.0,\"#0d0887\"],[0.1111111111111111,\"#46039f\"],[0.2222222222222222,\"#7201a8\"],[0.3333333333333333,\"#9c179e\"],[0.4444444444444444,\"#bd3786\"],[0.5555555555555556,\"#d8576b\"],[0.6666666666666666,\"#ed7953\"],[0.7777777777777778,\"#fb9f3a\"],[0.8888888888888888,\"#fdca26\"],[1.0,\"#f0f921\"]]}],\"heatmap\":[{\"type\":\"heatmap\",\"colorbar\":{\"outlinewidth\":0,\"ticks\":\"\"},\"colorscale\":[[0.0,\"#0d0887\"],[0.1111111111111111,\"#46039f\"],[0.2222222222222222,\"#7201a8\"],[0.3333333333333333,\"#9c179e\"],[0.4444444444444444,\"#bd3786\"],[0.5555555555555556,\"#d8576b\"],[0.6666666666666666,\"#ed7953\"],[0.7777777777777778,\"#fb9f3a\"],[0.8888888888888888,\"#fdca26\"],[1.0,\"#f0f921\"]]}],\"heatmapgl\":[{\"type\":\"heatmapgl\",\"colorbar\":{\"outlinewidth\":0,\"ticks\":\"\"},\"colorscale\":[[0.0,\"#0d0887\"],[0.1111111111111111,\"#46039f\"],[0.2222222222222222,\"#7201a8\"],[0.3333333333333333,\"#9c179e\"],[0.4444444444444444,\"#bd3786\"],[0.5555555555555556,\"#d8576b\"],[0.6666666666666666,\"#ed7953\"],[0.7777777777777778,\"#fb9f3a\"],[0.8888888888888888,\"#fdca26\"],[1.0,\"#f0f921\"]]}],\"contourcarpet\":[{\"type\":\"contourcarpet\",\"colorbar\":{\"outlinewidth\":0,\"ticks\":\"\"}}],\"contour\":[{\"type\":\"contour\",\"colorbar\":{\"outlinewidth\":0,\"ticks\":\"\"},\"colorscale\":[[0.0,\"#0d0887\"],[0.1111111111111111,\"#46039f\"],[0.2222222222222222,\"#7201a8\"],[0.3333333333333333,\"#9c179e\"],[0.4444444444444444,\"#bd3786\"],[0.5555555555555556,\"#d8576b\"],[0.6666666666666666,\"#ed7953\"],[0.7777777777777778,\"#fb9f3a\"],[0.8888888888888888,\"#fdca26\"],[1.0,\"#f0f921\"]]}],\"surface\":[{\"type\":\"surface\",\"colorbar\":{\"outlinewidth\":0,\"ticks\":\"\"},\"colorscale\":[[0.0,\"#0d0887\"],[0.1111111111111111,\"#46039f\"],[0.2222222222222222,\"#7201a8\"],[0.3333333333333333,\"#9c179e\"],[0.4444444444444444,\"#bd3786\"],[0.5555555555555556,\"#d8576b\"],[0.6666666666666666,\"#ed7953\"],[0.7777777777777778,\"#fb9f3a\"],[0.8888888888888888,\"#fdca26\"],[1.0,\"#f0f921\"]]}],\"mesh3d\":[{\"type\":\"mesh3d\",\"colorbar\":{\"outlinewidth\":0,\"ticks\":\"\"}}],\"scatter\":[{\"fillpattern\":{\"fillmode\":\"overlay\",\"size\":10,\"solidity\":0.2},\"type\":\"scatter\"}],\"parcoords\":[{\"type\":\"parcoords\",\"line\":{\"colorbar\":{\"outlinewidth\":0,\"ticks\":\"\"}}}],\"scatterpolargl\":[{\"type\":\"scatterpolargl\",\"marker\":{\"colorbar\":{\"outlinewidth\":0,\"ticks\":\"\"}}}],\"bar\":[{\"error_x\":{\"color\":\"#2a3f5f\"},\"error_y\":{\"color\":\"#2a3f5f\"},\"marker\":{\"line\":{\"color\":\"#E5ECF6\",\"width\":0.5},\"pattern\":{\"fillmode\":\"overlay\",\"size\":10,\"solidity\":0.2}},\"type\":\"bar\"}],\"scattergeo\":[{\"type\":\"scattergeo\",\"marker\":{\"colorbar\":{\"outlinewidth\":0,\"ticks\":\"\"}}}],\"scatterpolar\":[{\"type\":\"scatterpolar\",\"marker\":{\"colorbar\":{\"outlinewidth\":0,\"ticks\":\"\"}}}],\"histogram\":[{\"marker\":{\"pattern\":{\"fillmode\":\"overlay\",\"size\":10,\"solidity\":0.2}},\"type\":\"histogram\"}],\"scattergl\":[{\"type\":\"scattergl\",\"marker\":{\"colorbar\":{\"outlinewidth\":0,\"ticks\":\"\"}}}],\"scatter3d\":[{\"type\":\"scatter3d\",\"line\":{\"colorbar\":{\"outlinewidth\":0,\"ticks\":\"\"}},\"marker\":{\"colorbar\":{\"outlinewidth\":0,\"ticks\":\"\"}}}],\"scattermapbox\":[{\"type\":\"scattermapbox\",\"marker\":{\"colorbar\":{\"outlinewidth\":0,\"ticks\":\"\"}}}],\"scatterternary\":[{\"type\":\"scatterternary\",\"marker\":{\"colorbar\":{\"outlinewidth\":0,\"ticks\":\"\"}}}],\"scattercarpet\":[{\"type\":\"scattercarpet\",\"marker\":{\"colorbar\":{\"outlinewidth\":0,\"ticks\":\"\"}}}],\"carpet\":[{\"aaxis\":{\"endlinecolor\":\"#2a3f5f\",\"gridcolor\":\"white\",\"linecolor\":\"white\",\"minorgridcolor\":\"white\",\"startlinecolor\":\"#2a3f5f\"},\"baxis\":{\"endlinecolor\":\"#2a3f5f\",\"gridcolor\":\"white\",\"linecolor\":\"white\",\"minorgridcolor\":\"white\",\"startlinecolor\":\"#2a3f5f\"},\"type\":\"carpet\"}],\"table\":[{\"cells\":{\"fill\":{\"color\":\"#EBF0F8\"},\"line\":{\"color\":\"white\"}},\"header\":{\"fill\":{\"color\":\"#C8D4E3\"},\"line\":{\"color\":\"white\"}},\"type\":\"table\"}],\"barpolar\":[{\"marker\":{\"line\":{\"color\":\"#E5ECF6\",\"width\":0.5},\"pattern\":{\"fillmode\":\"overlay\",\"size\":10,\"solidity\":0.2}},\"type\":\"barpolar\"}],\"pie\":[{\"automargin\":true,\"type\":\"pie\"}]},\"layout\":{\"autotypenumbers\":\"strict\",\"colorway\":[\"#636efa\",\"#EF553B\",\"#00cc96\",\"#ab63fa\",\"#FFA15A\",\"#19d3f3\",\"#FF6692\",\"#B6E880\",\"#FF97FF\",\"#FECB52\"],\"font\":{\"color\":\"#2a3f5f\"},\"hovermode\":\"closest\",\"hoverlabel\":{\"align\":\"left\"},\"paper_bgcolor\":\"white\",\"plot_bgcolor\":\"#E5ECF6\",\"polar\":{\"bgcolor\":\"#E5ECF6\",\"angularaxis\":{\"gridcolor\":\"white\",\"linecolor\":\"white\",\"ticks\":\"\"},\"radialaxis\":{\"gridcolor\":\"white\",\"linecolor\":\"white\",\"ticks\":\"\"}},\"ternary\":{\"bgcolor\":\"#E5ECF6\",\"aaxis\":{\"gridcolor\":\"white\",\"linecolor\":\"white\",\"ticks\":\"\"},\"baxis\":{\"gridcolor\":\"white\",\"linecolor\":\"white\",\"ticks\":\"\"},\"caxis\":{\"gridcolor\":\"white\",\"linecolor\":\"white\",\"ticks\":\"\"}},\"coloraxis\":{\"colorbar\":{\"outlinewidth\":0,\"ticks\":\"\"}},\"colorscale\":{\"sequential\":[[0.0,\"#0d0887\"],[0.1111111111111111,\"#46039f\"],[0.2222222222222222,\"#7201a8\"],[0.3333333333333333,\"#9c179e\"],[0.4444444444444444,\"#bd3786\"],[0.5555555555555556,\"#d8576b\"],[0.6666666666666666,\"#ed7953\"],[0.7777777777777778,\"#fb9f3a\"],[0.8888888888888888,\"#fdca26\"],[1.0,\"#f0f921\"]],\"sequentialminus\":[[0.0,\"#0d0887\"],[0.1111111111111111,\"#46039f\"],[0.2222222222222222,\"#7201a8\"],[0.3333333333333333,\"#9c179e\"],[0.4444444444444444,\"#bd3786\"],[0.5555555555555556,\"#d8576b\"],[0.6666666666666666,\"#ed7953\"],[0.7777777777777778,\"#fb9f3a\"],[0.8888888888888888,\"#fdca26\"],[1.0,\"#f0f921\"]],\"diverging\":[[0,\"#8e0152\"],[0.1,\"#c51b7d\"],[0.2,\"#de77ae\"],[0.3,\"#f1b6da\"],[0.4,\"#fde0ef\"],[0.5,\"#f7f7f7\"],[0.6,\"#e6f5d0\"],[0.7,\"#b8e186\"],[0.8,\"#7fbc41\"],[0.9,\"#4d9221\"],[1,\"#276419\"]]},\"xaxis\":{\"gridcolor\":\"white\",\"linecolor\":\"white\",\"ticks\":\"\",\"title\":{\"standoff\":15},\"zerolinecolor\":\"white\",\"automargin\":true,\"zerolinewidth\":2},\"yaxis\":{\"gridcolor\":\"white\",\"linecolor\":\"white\",\"ticks\":\"\",\"title\":{\"standoff\":15},\"zerolinecolor\":\"white\",\"automargin\":true,\"zerolinewidth\":2},\"scene\":{\"xaxis\":{\"backgroundcolor\":\"#E5ECF6\",\"gridcolor\":\"white\",\"linecolor\":\"white\",\"showbackground\":true,\"ticks\":\"\",\"zerolinecolor\":\"white\",\"gridwidth\":2},\"yaxis\":{\"backgroundcolor\":\"#E5ECF6\",\"gridcolor\":\"white\",\"linecolor\":\"white\",\"showbackground\":true,\"ticks\":\"\",\"zerolinecolor\":\"white\",\"gridwidth\":2},\"zaxis\":{\"backgroundcolor\":\"#E5ECF6\",\"gridcolor\":\"white\",\"linecolor\":\"white\",\"showbackground\":true,\"ticks\":\"\",\"zerolinecolor\":\"white\",\"gridwidth\":2}},\"shapedefaults\":{\"line\":{\"color\":\"#2a3f5f\"}},\"annotationdefaults\":{\"arrowcolor\":\"#2a3f5f\",\"arrowhead\":0,\"arrowwidth\":1},\"geo\":{\"bgcolor\":\"white\",\"landcolor\":\"#E5ECF6\",\"subunitcolor\":\"white\",\"showland\":true,\"showlakes\":true,\"lakecolor\":\"white\"},\"title\":{\"x\":0.05},\"mapbox\":{\"style\":\"light\"}}}},                        {\"responsive\": true}                    ).then(function(){\n",
       "                            \n",
       "var gd = document.getElementById('93ad3c5e-b25a-4387-a04c-5b0794862c5b');\n",
       "var x = new MutationObserver(function (mutations, observer) {{\n",
       "        var display = window.getComputedStyle(gd).display;\n",
       "        if (!display || display === 'none') {{\n",
       "            console.log([gd, 'removed!']);\n",
       "            Plotly.purge(gd);\n",
       "            observer.disconnect();\n",
       "        }}\n",
       "}});\n",
       "\n",
       "// Listen for the removal of the full notebook cells\n",
       "var notebookContainer = gd.closest('#notebook-container');\n",
       "if (notebookContainer) {{\n",
       "    x.observe(notebookContainer, {childList: true});\n",
       "}}\n",
       "\n",
       "// Listen for the clearing of the current output cell\n",
       "var outputEl = gd.closest('.output');\n",
       "if (outputEl) {{\n",
       "    x.observe(outputEl, {childList: true});\n",
       "}}\n",
       "\n",
       "                        })                };                });            </script>        </div>"
      ]
     },
     "metadata": {},
     "output_type": "display_data"
    }
   ],
   "source": []
  },
  {
   "cell_type": "code",
   "execution_count": null,
   "id": "f0bc6559-7363-45e4-a010-42766501f9c4",
   "metadata": {},
   "outputs": [],
   "source": []
  }
 ],
 "metadata": {
  "kernelspec": {
   "display_name": "Python 3 (ipykernel)",
   "language": "python",
   "name": "python3"
  },
  "language_info": {
   "codemirror_mode": {
    "name": "ipython",
    "version": 3
   },
   "file_extension": ".py",
   "mimetype": "text/x-python",
   "name": "python",
   "nbconvert_exporter": "python",
   "pygments_lexer": "ipython3",
   "version": "3.10.11"
  }
 },
 "nbformat": 4,
 "nbformat_minor": 5
}
