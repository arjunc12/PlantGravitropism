{
 "cells": [
  {
   "cell_type": "code",
   "execution_count": 1,
   "id": "20d7bad0-202f-4395-a6bf-059b113b8a69",
   "metadata": {},
   "outputs": [],
   "source": [
    "import matplotlib.pyplot as plt\n",
    "import numpy as np\n",
    "import pylab\n",
    "import scipy\n",
    "import plotly\n",
    "from plotly import graph_objs as go\n",
    "from plotly.offline import iplot, plot, init_notebook_mode"
   ]
  },
  {
   "cell_type": "code",
   "execution_count": 2,
   "id": "ed2a7a2f-3e2b-420c-893a-4102f30eb88d",
   "metadata": {},
   "outputs": [],
   "source": [
    "def parseData(file):\n",
    "    import csv\n",
    "    Data =[]\n",
    "    with open(file) as csv_file:\n",
    "        csv_reader = csv.reader(csv_file, delimiter=',')\n",
    "        for lines in csv_reader:\n",
    "           Data.append(lines)\n",
    "        mainRootPoints =[]\n",
    "        c=1\n",
    "        while len(Data[c]) != 1:\n",
    "            point = [float(Data[c][0]),float(Data[c][1])]\n",
    "            mainRootPoints.append(point)\n",
    "            c= c+1\n",
    "        pqs =[]\n",
    "        pq=[]\n",
    "        c=c+1\n",
    "        while c < len(Data):\n",
    "            if len(Data[c]) ==1:\n",
    "                pqs.append(pq)\n",
    "                pq =[]\n",
    "            if len(Data[c]) ==2:\n",
    "                point = [float(Data[c][0]),float(Data[c][1])]\n",
    "                pq.append(point)\n",
    "            c = c+1\n",
    "        pqs.append(pq)\n",
    "    return (mainRootPoints, pqs)"
   ]
  },
  {
   "cell_type": "code",
   "execution_count": 20,
   "id": "83f6ba87-d58d-4246-a361-d48f5ede51fd",
   "metadata": {},
   "outputs": [],
   "source": [
    "def findTheta (a,b,c,d):\n",
    "    theta = np.arctan((np.absolute(a-c))/(np.absolute(b-d)))\n",
    "    m = (b-d)/(a-c)\n",
    "    if m > 0:\n",
    "        theta =-theta\n",
    "    return theta\n",
    "def rotateLine(xs,ys,theta,a,b):\n",
    "    nx=[]\n",
    "    ny=[]\n",
    "    R = [[np.cos(theta), -np.sin(theta)],[np.sin(theta), np.cos(theta)]]\n",
    "    for i in range(0,len(xs)):\n",
    "        A =[xs[i]-a,ys[i]-b]\n",
    "        xy=np.array(np.matmul(A,R))\n",
    "        nx.append(xy[0])\n",
    "        ny.append(xy[1])\n",
    "    return(nx, ny)\n",
    "def findBest(Tmax,G,p,q,a):\n",
    "    t=0\n",
    "    Tmax = -Tmax\n",
    "    bestLength= 100000000000000000000.0\n",
    "    bestT = t\n",
    "    while t >= Tmax:\n",
    "        b = (q - G * (p**2) - t)/p\n",
    "        if p>0:\n",
    "            x =np.linspace(0, p, num=50)\n",
    "        elif p < 0:\n",
    "            x =np.linspace(p, 0, num=50)\n",
    "        lot = np.sqrt(1+(2*G*x + ((q-G*(p**2)-t)/p))**2)\n",
    "        y= a*(lot) +(1-a)*(lot - t)\n",
    "        length = scipy.integrate.trapezoid(y,x)\n",
    "        #print(length)\n",
    "        if length < bestLength:\n",
    "            #ploting(Tmax,p,q,bestT,G) #comparing possible lines\n",
    "            bestLength = length\n",
    "            bestT = t\n",
    "        t = t - 0.01 #last \n",
    "    #ploting(Tmax,p,q,bestT,G)\n",
    "    #print(\"length: \" + str(bestLength) +\" t= \" + str(bestT))\n",
    "    return(bestLength,bestT)\n",
    "def reAngle(xs, ys, theta, a,b):\n",
    "    nx =[]\n",
    "    ny=[]\n",
    "    R = [[np.cos(theta), -np.sin(theta)],[np.sin(theta), np.cos(theta)]]\n",
    "    inR = np.linalg.inv(R)\n",
    "    ab= [a,b]\n",
    "    for i in range(0, len(xs)):\n",
    "        Ap = [xs[i],ys[i]]\n",
    "        xy=np.array(np.add(np.matmul(Ap,inR),ab))\n",
    "        nx.append(xy[0])\n",
    "        ny.append(xy[1])\n",
    "    return(nx, ny)\n",
    "def deAngleCurve(G,al,p,q,theta,a,b,c,d):\n",
    "    pq = rotateLine([p],[q], theta, a,b)\n",
    "    pn = pq[0][0]\n",
    "    qn = pq[1][0]\n",
    "    tmax = rotateLine([c],[d], theta, a,b)\n",
    "    tmax = tmax[1][0]\n",
    "    best = findBest(tmax, G,pn,qn,al) #returns bestLength and bestT\n",
    "    dPlotA = plotDeAngle(tmax, G, pn ,qn,best[1])\n",
    "    dPlot = go.Scatter(x = dPlotA[0], y = dPlotA[1], mode= 'lines' , name = str(best[0]))\n",
    "    raPlotA = reAngle(dPlotA[0], dPlotA[1],theta,a,b)\n",
    "    raPlot = go.Scatter(x = raPlotA[0], y = raPlotA[1], mode = 'lines', name = str(best[0]))\n",
    "    txy = reAngle([0],[best[1]], theta,a,b)\n",
    "    return(best[0], txy, dPlot,raPlot)\n",
    "def plotDeAngle (tmax,G,p,q,t):\n",
    "    x = np.linspace(0,p)\n",
    "    if p <0:\n",
    "        x = np.linspace(p,0)\n",
    "    b=(q - G*(p**2) -t)/p\n",
    "    y=G * x**2 + b*x + t\n",
    "    return (x,y)"
   ]
  },
  {
   "cell_type": "code",
   "execution_count": 21,
   "id": "86368f3f-5079-4013-ae60-0cc83b4b75c4",
   "metadata": {},
   "outputs": [],
   "source": [
    "def findOptimalInSegment(point1, point2,G,al,pq):\n",
    "    a =point1[0]\n",
    "    b= point1[1]\n",
    "    c= point2[0]\n",
    "    d = point2[1]\n",
    "    p=pq[0]\n",
    "    q=pq[1]\n",
    "    theta = findTheta (a,b,c,d)\n",
    "    ArrayDAC = deAngleCurve(G,al,p,q,theta,a,b,c,d) #returns length, txy, dplot, raplot\n",
    "    return ArrayDAC"
   ]
  },
  {
   "cell_type": "code",
   "execution_count": 22,
   "id": "13aee0b9-2bda-4c60-9638-bf50d6a39a3a",
   "metadata": {},
   "outputs": [],
   "source": [
    "def findMostOptimal(main, G,al,pq):\n",
    "    p = pq[0]\n",
    "    q = pq[1]\n",
    "    point1 = main[0]\n",
    "    point2 = main[1]\n",
    "    bestDAC = findOptimalInSegment(point1, point2,G,al,pq)#returns length, txy, dplot, raplot\n",
    "    bestLength = bestDAC[0]\n",
    "    #print(bestLength)\n",
    "    point1 = point2\n",
    "    for i in range(2, len(main)):\n",
    "        point2 = main[i]\n",
    "        length = findOptimalInSegment(point1, point2,G,al,pq)[0]\n",
    "        if length < bestLength:\n",
    "            bestDAC = findOptimalInSegment(point1, point2,G,al,pq)\n",
    "        point1 = point2\n",
    "    return (bestDAC)"
   ]
  },
  {
   "cell_type": "code",
   "execution_count": 23,
   "id": "384ce58f-4450-4ec6-ad29-d9c799789a9f",
   "metadata": {},
   "outputs": [],
   "source": [
    "def plotPoints(points, name):\n",
    "    xs = []\n",
    "    ys=[]\n",
    "    for i in points:\n",
    "        xs.append(i[0])\n",
    "        ys.append(i[1])\n",
    "    trace1 = go.Scatter(x=xs, y = ys, name = name)\n",
    "    return (trace1)"
   ]
  },
  {
   "cell_type": "code",
   "execution_count": 24,
   "id": "34ad7ebf-9bb8-40b7-896e-f08b9e6bfca5",
   "metadata": {},
   "outputs": [],
   "source": [
    "def plotData(array):\n",
    "    mainRootPoints = array[0]\n",
    "    pqs = array[1]\n",
    "    #print(pqs)\n",
    "    fig = go.Figure()\n",
    "    trace= plotPoints(mainRootPoints, \"main root\")\n",
    "    fig.add_trace(trace)\n",
    "    for pq in pqs:\n",
    "        trace = plotPoints(pq, \"lateral root\")\n",
    "        fig.add_trace(trace)\n",
    "    return (fig)"
   ]
  },
  {
   "cell_type": "code",
   "execution_count": 28,
   "id": "fa1d5ded-0eea-445d-b0d9-36061f18bce5",
   "metadata": {},
   "outputs": [
    {
     "data": {
      "application/vnd.plotly.v1+json": {
       "config": {
        "plotlyServerURL": "https://plot.ly"
       },
       "data": [
        {
         "name": "main root",
         "type": "scatter",
         "x": [
          7.014674,
          7.068931,
          7.097697,
          7.102405,
          7.096509,
          7.078003,
          7.057387,
          7.064473,
          7.056801,
          7.045027,
          7.03578,
          7.053914,
          7.058697,
          7.050602,
          7.021744
         ],
         "y": [
          4.083105,
          4.391064,
          4.580238,
          4.699361,
          4.817372,
          4.93411,
          5.050687,
          5.168109,
          5.286132,
          5.443573,
          5.623435,
          5.801408,
          5.991669,
          6.214376,
          6.799064
         ]
        },
        {
         "name": "lateral root",
         "type": "scatter",
         "x": [
          7.03248,
          6.921742,
          6.763005
         ],
         "y": [
          4.136673,
          4.219422,
          4.337383
         ]
        },
        {
         "name": "lateral root",
         "type": "scatter",
         "x": [
          7.065898,
          7.312281,
          7.439422
         ],
         "y": [
          4.198863,
          4.231294,
          4.27106
         ]
        },
        {
         "name": "lateral root",
         "type": "scatter",
         "x": [
          7.125593,
          7.182462,
          7.287631
         ],
         "y": [
          4.363359,
          4.368823,
          4.43411
         ]
        }
       ],
       "layout": {
        "autosize": true,
        "template": {
         "data": {
          "bar": [
           {
            "error_x": {
             "color": "#2a3f5f"
            },
            "error_y": {
             "color": "#2a3f5f"
            },
            "marker": {
             "line": {
              "color": "#E5ECF6",
              "width": 0.5
             },
             "pattern": {
              "fillmode": "overlay",
              "size": 10,
              "solidity": 0.2
             }
            },
            "type": "bar"
           }
          ],
          "barpolar": [
           {
            "marker": {
             "line": {
              "color": "#E5ECF6",
              "width": 0.5
             },
             "pattern": {
              "fillmode": "overlay",
              "size": 10,
              "solidity": 0.2
             }
            },
            "type": "barpolar"
           }
          ],
          "carpet": [
           {
            "aaxis": {
             "endlinecolor": "#2a3f5f",
             "gridcolor": "white",
             "linecolor": "white",
             "minorgridcolor": "white",
             "startlinecolor": "#2a3f5f"
            },
            "baxis": {
             "endlinecolor": "#2a3f5f",
             "gridcolor": "white",
             "linecolor": "white",
             "minorgridcolor": "white",
             "startlinecolor": "#2a3f5f"
            },
            "type": "carpet"
           }
          ],
          "choropleth": [
           {
            "colorbar": {
             "outlinewidth": 0,
             "ticks": ""
            },
            "type": "choropleth"
           }
          ],
          "contour": [
           {
            "colorbar": {
             "outlinewidth": 0,
             "ticks": ""
            },
            "colorscale": [
             [
              0,
              "#0d0887"
             ],
             [
              0.1111111111111111,
              "#46039f"
             ],
             [
              0.2222222222222222,
              "#7201a8"
             ],
             [
              0.3333333333333333,
              "#9c179e"
             ],
             [
              0.4444444444444444,
              "#bd3786"
             ],
             [
              0.5555555555555556,
              "#d8576b"
             ],
             [
              0.6666666666666666,
              "#ed7953"
             ],
             [
              0.7777777777777778,
              "#fb9f3a"
             ],
             [
              0.8888888888888888,
              "#fdca26"
             ],
             [
              1,
              "#f0f921"
             ]
            ],
            "type": "contour"
           }
          ],
          "contourcarpet": [
           {
            "colorbar": {
             "outlinewidth": 0,
             "ticks": ""
            },
            "type": "contourcarpet"
           }
          ],
          "heatmap": [
           {
            "colorbar": {
             "outlinewidth": 0,
             "ticks": ""
            },
            "colorscale": [
             [
              0,
              "#0d0887"
             ],
             [
              0.1111111111111111,
              "#46039f"
             ],
             [
              0.2222222222222222,
              "#7201a8"
             ],
             [
              0.3333333333333333,
              "#9c179e"
             ],
             [
              0.4444444444444444,
              "#bd3786"
             ],
             [
              0.5555555555555556,
              "#d8576b"
             ],
             [
              0.6666666666666666,
              "#ed7953"
             ],
             [
              0.7777777777777778,
              "#fb9f3a"
             ],
             [
              0.8888888888888888,
              "#fdca26"
             ],
             [
              1,
              "#f0f921"
             ]
            ],
            "type": "heatmap"
           }
          ],
          "heatmapgl": [
           {
            "colorbar": {
             "outlinewidth": 0,
             "ticks": ""
            },
            "colorscale": [
             [
              0,
              "#0d0887"
             ],
             [
              0.1111111111111111,
              "#46039f"
             ],
             [
              0.2222222222222222,
              "#7201a8"
             ],
             [
              0.3333333333333333,
              "#9c179e"
             ],
             [
              0.4444444444444444,
              "#bd3786"
             ],
             [
              0.5555555555555556,
              "#d8576b"
             ],
             [
              0.6666666666666666,
              "#ed7953"
             ],
             [
              0.7777777777777778,
              "#fb9f3a"
             ],
             [
              0.8888888888888888,
              "#fdca26"
             ],
             [
              1,
              "#f0f921"
             ]
            ],
            "type": "heatmapgl"
           }
          ],
          "histogram": [
           {
            "marker": {
             "pattern": {
              "fillmode": "overlay",
              "size": 10,
              "solidity": 0.2
             }
            },
            "type": "histogram"
           }
          ],
          "histogram2d": [
           {
            "colorbar": {
             "outlinewidth": 0,
             "ticks": ""
            },
            "colorscale": [
             [
              0,
              "#0d0887"
             ],
             [
              0.1111111111111111,
              "#46039f"
             ],
             [
              0.2222222222222222,
              "#7201a8"
             ],
             [
              0.3333333333333333,
              "#9c179e"
             ],
             [
              0.4444444444444444,
              "#bd3786"
             ],
             [
              0.5555555555555556,
              "#d8576b"
             ],
             [
              0.6666666666666666,
              "#ed7953"
             ],
             [
              0.7777777777777778,
              "#fb9f3a"
             ],
             [
              0.8888888888888888,
              "#fdca26"
             ],
             [
              1,
              "#f0f921"
             ]
            ],
            "type": "histogram2d"
           }
          ],
          "histogram2dcontour": [
           {
            "colorbar": {
             "outlinewidth": 0,
             "ticks": ""
            },
            "colorscale": [
             [
              0,
              "#0d0887"
             ],
             [
              0.1111111111111111,
              "#46039f"
             ],
             [
              0.2222222222222222,
              "#7201a8"
             ],
             [
              0.3333333333333333,
              "#9c179e"
             ],
             [
              0.4444444444444444,
              "#bd3786"
             ],
             [
              0.5555555555555556,
              "#d8576b"
             ],
             [
              0.6666666666666666,
              "#ed7953"
             ],
             [
              0.7777777777777778,
              "#fb9f3a"
             ],
             [
              0.8888888888888888,
              "#fdca26"
             ],
             [
              1,
              "#f0f921"
             ]
            ],
            "type": "histogram2dcontour"
           }
          ],
          "mesh3d": [
           {
            "colorbar": {
             "outlinewidth": 0,
             "ticks": ""
            },
            "type": "mesh3d"
           }
          ],
          "parcoords": [
           {
            "line": {
             "colorbar": {
              "outlinewidth": 0,
              "ticks": ""
             }
            },
            "type": "parcoords"
           }
          ],
          "pie": [
           {
            "automargin": true,
            "type": "pie"
           }
          ],
          "scatter": [
           {
            "fillpattern": {
             "fillmode": "overlay",
             "size": 10,
             "solidity": 0.2
            },
            "type": "scatter"
           }
          ],
          "scatter3d": [
           {
            "line": {
             "colorbar": {
              "outlinewidth": 0,
              "ticks": ""
             }
            },
            "marker": {
             "colorbar": {
              "outlinewidth": 0,
              "ticks": ""
             }
            },
            "type": "scatter3d"
           }
          ],
          "scattercarpet": [
           {
            "marker": {
             "colorbar": {
              "outlinewidth": 0,
              "ticks": ""
             }
            },
            "type": "scattercarpet"
           }
          ],
          "scattergeo": [
           {
            "marker": {
             "colorbar": {
              "outlinewidth": 0,
              "ticks": ""
             }
            },
            "type": "scattergeo"
           }
          ],
          "scattergl": [
           {
            "marker": {
             "colorbar": {
              "outlinewidth": 0,
              "ticks": ""
             }
            },
            "type": "scattergl"
           }
          ],
          "scattermapbox": [
           {
            "marker": {
             "colorbar": {
              "outlinewidth": 0,
              "ticks": ""
             }
            },
            "type": "scattermapbox"
           }
          ],
          "scatterpolar": [
           {
            "marker": {
             "colorbar": {
              "outlinewidth": 0,
              "ticks": ""
             }
            },
            "type": "scatterpolar"
           }
          ],
          "scatterpolargl": [
           {
            "marker": {
             "colorbar": {
              "outlinewidth": 0,
              "ticks": ""
             }
            },
            "type": "scatterpolargl"
           }
          ],
          "scatterternary": [
           {
            "marker": {
             "colorbar": {
              "outlinewidth": 0,
              "ticks": ""
             }
            },
            "type": "scatterternary"
           }
          ],
          "surface": [
           {
            "colorbar": {
             "outlinewidth": 0,
             "ticks": ""
            },
            "colorscale": [
             [
              0,
              "#0d0887"
             ],
             [
              0.1111111111111111,
              "#46039f"
             ],
             [
              0.2222222222222222,
              "#7201a8"
             ],
             [
              0.3333333333333333,
              "#9c179e"
             ],
             [
              0.4444444444444444,
              "#bd3786"
             ],
             [
              0.5555555555555556,
              "#d8576b"
             ],
             [
              0.6666666666666666,
              "#ed7953"
             ],
             [
              0.7777777777777778,
              "#fb9f3a"
             ],
             [
              0.8888888888888888,
              "#fdca26"
             ],
             [
              1,
              "#f0f921"
             ]
            ],
            "type": "surface"
           }
          ],
          "table": [
           {
            "cells": {
             "fill": {
              "color": "#EBF0F8"
             },
             "line": {
              "color": "white"
             }
            },
            "header": {
             "fill": {
              "color": "#C8D4E3"
             },
             "line": {
              "color": "white"
             }
            },
            "type": "table"
           }
          ]
         },
         "layout": {
          "annotationdefaults": {
           "arrowcolor": "#2a3f5f",
           "arrowhead": 0,
           "arrowwidth": 1
          },
          "autotypenumbers": "strict",
          "coloraxis": {
           "colorbar": {
            "outlinewidth": 0,
            "ticks": ""
           }
          },
          "colorscale": {
           "diverging": [
            [
             0,
             "#8e0152"
            ],
            [
             0.1,
             "#c51b7d"
            ],
            [
             0.2,
             "#de77ae"
            ],
            [
             0.3,
             "#f1b6da"
            ],
            [
             0.4,
             "#fde0ef"
            ],
            [
             0.5,
             "#f7f7f7"
            ],
            [
             0.6,
             "#e6f5d0"
            ],
            [
             0.7,
             "#b8e186"
            ],
            [
             0.8,
             "#7fbc41"
            ],
            [
             0.9,
             "#4d9221"
            ],
            [
             1,
             "#276419"
            ]
           ],
           "sequential": [
            [
             0,
             "#0d0887"
            ],
            [
             0.1111111111111111,
             "#46039f"
            ],
            [
             0.2222222222222222,
             "#7201a8"
            ],
            [
             0.3333333333333333,
             "#9c179e"
            ],
            [
             0.4444444444444444,
             "#bd3786"
            ],
            [
             0.5555555555555556,
             "#d8576b"
            ],
            [
             0.6666666666666666,
             "#ed7953"
            ],
            [
             0.7777777777777778,
             "#fb9f3a"
            ],
            [
             0.8888888888888888,
             "#fdca26"
            ],
            [
             1,
             "#f0f921"
            ]
           ],
           "sequentialminus": [
            [
             0,
             "#0d0887"
            ],
            [
             0.1111111111111111,
             "#46039f"
            ],
            [
             0.2222222222222222,
             "#7201a8"
            ],
            [
             0.3333333333333333,
             "#9c179e"
            ],
            [
             0.4444444444444444,
             "#bd3786"
            ],
            [
             0.5555555555555556,
             "#d8576b"
            ],
            [
             0.6666666666666666,
             "#ed7953"
            ],
            [
             0.7777777777777778,
             "#fb9f3a"
            ],
            [
             0.8888888888888888,
             "#fdca26"
            ],
            [
             1,
             "#f0f921"
            ]
           ]
          },
          "colorway": [
           "#636efa",
           "#EF553B",
           "#00cc96",
           "#ab63fa",
           "#FFA15A",
           "#19d3f3",
           "#FF6692",
           "#B6E880",
           "#FF97FF",
           "#FECB52"
          ],
          "font": {
           "color": "#2a3f5f"
          },
          "geo": {
           "bgcolor": "white",
           "lakecolor": "white",
           "landcolor": "#E5ECF6",
           "showlakes": true,
           "showland": true,
           "subunitcolor": "white"
          },
          "hoverlabel": {
           "align": "left"
          },
          "hovermode": "closest",
          "mapbox": {
           "style": "light"
          },
          "paper_bgcolor": "white",
          "plot_bgcolor": "#E5ECF6",
          "polar": {
           "angularaxis": {
            "gridcolor": "white",
            "linecolor": "white",
            "ticks": ""
           },
           "bgcolor": "#E5ECF6",
           "radialaxis": {
            "gridcolor": "white",
            "linecolor": "white",
            "ticks": ""
           }
          },
          "scene": {
           "xaxis": {
            "backgroundcolor": "#E5ECF6",
            "gridcolor": "white",
            "gridwidth": 2,
            "linecolor": "white",
            "showbackground": true,
            "ticks": "",
            "zerolinecolor": "white"
           },
           "yaxis": {
            "backgroundcolor": "#E5ECF6",
            "gridcolor": "white",
            "gridwidth": 2,
            "linecolor": "white",
            "showbackground": true,
            "ticks": "",
            "zerolinecolor": "white"
           },
           "zaxis": {
            "backgroundcolor": "#E5ECF6",
            "gridcolor": "white",
            "gridwidth": 2,
            "linecolor": "white",
            "showbackground": true,
            "ticks": "",
            "zerolinecolor": "white"
           }
          },
          "shapedefaults": {
           "line": {
            "color": "#2a3f5f"
           }
          },
          "ternary": {
           "aaxis": {
            "gridcolor": "white",
            "linecolor": "white",
            "ticks": ""
           },
           "baxis": {
            "gridcolor": "white",
            "linecolor": "white",
            "ticks": ""
           },
           "bgcolor": "#E5ECF6",
           "caxis": {
            "gridcolor": "white",
            "linecolor": "white",
            "ticks": ""
           }
          },
          "title": {
           "x": 0.05
          },
          "xaxis": {
           "automargin": true,
           "gridcolor": "white",
           "linecolor": "white",
           "ticks": "",
           "title": {
            "standoff": 15
           },
           "zerolinecolor": "white",
           "zerolinewidth": 2
          },
          "yaxis": {
           "automargin": true,
           "gridcolor": "white",
           "linecolor": "white",
           "ticks": "",
           "title": {
            "standoff": 15
           },
           "zerolinecolor": "white",
           "zerolinewidth": 2
          }
         }
        },
        "xaxis": {
         "autorange": true,
         "range": [
          6.720397005531763,
          7.482029994468237
         ],
         "type": "linear"
        },
        "yaxis": {
         "autorange": true,
         "range": [
          3.8589724611650484,
          7.023196538834952
         ],
         "type": "linear"
        }
       }
      },
      "image/png": "[encoded data removed]",
      "text/html": [
       "<div>                            <div id=\"53b872a5-034e-4fae-a05d-13880d166055\" class=\"plotly-graph-div\" style=\"height:525px; width:100%;\"></div>            <script type=\"text/javascript\">                require([\"plotly\"], function(Plotly) {                    window.PLOTLYENV=window.PLOTLYENV || {};                                    if (document.getElementById(\"53b872a5-034e-4fae-a05d-13880d166055\")) {                    Plotly.newPlot(                        \"53b872a5-034e-4fae-a05d-13880d166055\",                        [{\"name\":\"main root\",\"x\":[7.014674,7.068931,7.097697,7.102405,7.096509,7.078003,7.057387,7.064473,7.056801,7.045027,7.03578,7.053914,7.058697,7.050602,7.021744],\"y\":[4.083105,4.391064,4.580238,4.699361,4.817372,4.93411,5.050687,5.168109,5.286132,5.443573,5.623435,5.801408,5.991669,6.214376,6.799064],\"type\":\"scatter\"},{\"name\":\"lateral root\",\"x\":[7.03248,6.921742,6.763005],\"y\":[4.136673,4.219422,4.337383],\"type\":\"scatter\"},{\"name\":\"lateral root\",\"x\":[7.065898,7.312281,7.439422],\"y\":[4.198863,4.231294,4.27106],\"type\":\"scatter\"},{\"name\":\"lateral root\",\"x\":[7.125593,7.182462,7.287631],\"y\":[4.363359,4.368823,4.43411],\"type\":\"scatter\"}],                        {\"template\":{\"data\":{\"histogram2dcontour\":[{\"type\":\"histogram2dcontour\",\"colorbar\":{\"outlinewidth\":0,\"ticks\":\"\"},\"colorscale\":[[0.0,\"#0d0887\"],[0.1111111111111111,\"#46039f\"],[0.2222222222222222,\"#7201a8\"],[0.3333333333333333,\"#9c179e\"],[0.4444444444444444,\"#bd3786\"],[0.5555555555555556,\"#d8576b\"],[0.6666666666666666,\"#ed7953\"],[0.7777777777777778,\"#fb9f3a\"],[0.8888888888888888,\"#fdca26\"],[1.0,\"#f0f921\"]]}],\"choropleth\":[{\"type\":\"choropleth\",\"colorbar\":{\"outlinewidth\":0,\"ticks\":\"\"}}],\"histogram2d\":[{\"type\":\"histogram2d\",\"colorbar\":{\"outlinewidth\":0,\"ticks\":\"\"},\"colorscale\":[[0.0,\"#0d0887\"],[0.1111111111111111,\"#46039f\"],[0.2222222222222222,\"#7201a8\"],[0.3333333333333333,\"#9c179e\"],[0.4444444444444444,\"#bd3786\"],[0.5555555555555556,\"#d8576b\"],[0.6666666666666666,\"#ed7953\"],[0.7777777777777778,\"#fb9f3a\"],[0.8888888888888888,\"#fdca26\"],[1.0,\"#f0f921\"]]}],\"heatmap\":[{\"type\":\"heatmap\",\"colorbar\":{\"outlinewidth\":0,\"ticks\":\"\"},\"colorscale\":[[0.0,\"#0d0887\"],[0.1111111111111111,\"#46039f\"],[0.2222222222222222,\"#7201a8\"],[0.3333333333333333,\"#9c179e\"],[0.4444444444444444,\"#bd3786\"],[0.5555555555555556,\"#d8576b\"],[0.6666666666666666,\"#ed7953\"],[0.7777777777777778,\"#fb9f3a\"],[0.8888888888888888,\"#fdca26\"],[1.0,\"#f0f921\"]]}],\"heatmapgl\":[{\"type\":\"heatmapgl\",\"colorbar\":{\"outlinewidth\":0,\"ticks\":\"\"},\"colorscale\":[[0.0,\"#0d0887\"],[0.1111111111111111,\"#46039f\"],[0.2222222222222222,\"#7201a8\"],[0.3333333333333333,\"#9c179e\"],[0.4444444444444444,\"#bd3786\"],[0.5555555555555556,\"#d8576b\"],[0.6666666666666666,\"#ed7953\"],[0.7777777777777778,\"#fb9f3a\"],[0.8888888888888888,\"#fdca26\"],[1.0,\"#f0f921\"]]}],\"contourcarpet\":[{\"type\":\"contourcarpet\",\"colorbar\":{\"outlinewidth\":0,\"ticks\":\"\"}}],\"contour\":[{\"type\":\"contour\",\"colorbar\":{\"outlinewidth\":0,\"ticks\":\"\"},\"colorscale\":[[0.0,\"#0d0887\"],[0.1111111111111111,\"#46039f\"],[0.2222222222222222,\"#7201a8\"],[0.3333333333333333,\"#9c179e\"],[0.4444444444444444,\"#bd3786\"],[0.5555555555555556,\"#d8576b\"],[0.6666666666666666,\"#ed7953\"],[0.7777777777777778,\"#fb9f3a\"],[0.8888888888888888,\"#fdca26\"],[1.0,\"#f0f921\"]]}],\"surface\":[{\"type\":\"surface\",\"colorbar\":{\"outlinewidth\":0,\"ticks\":\"\"},\"colorscale\":[[0.0,\"#0d0887\"],[0.1111111111111111,\"#46039f\"],[0.2222222222222222,\"#7201a8\"],[0.3333333333333333,\"#9c179e\"],[0.4444444444444444,\"#bd3786\"],[0.5555555555555556,\"#d8576b\"],[0.6666666666666666,\"#ed7953\"],[0.7777777777777778,\"#fb9f3a\"],[0.8888888888888888,\"#fdca26\"],[1.0,\"#f0f921\"]]}],\"mesh3d\":[{\"type\":\"mesh3d\",\"colorbar\":{\"outlinewidth\":0,\"ticks\":\"\"}}],\"scatter\":[{\"fillpattern\":{\"fillmode\":\"overlay\",\"size\":10,\"solidity\":0.2},\"type\":\"scatter\"}],\"parcoords\":[{\"type\":\"parcoords\",\"line\":{\"colorbar\":{\"outlinewidth\":0,\"ticks\":\"\"}}}],\"scatterpolargl\":[{\"type\":\"scatterpolargl\",\"marker\":{\"colorbar\":{\"outlinewidth\":0,\"ticks\":\"\"}}}],\"bar\":[{\"error_x\":{\"color\":\"#2a3f5f\"},\"error_y\":{\"color\":\"#2a3f5f\"},\"marker\":{\"line\":{\"color\":\"#E5ECF6\",\"width\":0.5},\"pattern\":{\"fillmode\":\"overlay\",\"size\":10,\"solidity\":0.2}},\"type\":\"bar\"}],\"scattergeo\":[{\"type\":\"scattergeo\",\"marker\":{\"colorbar\":{\"outlinewidth\":0,\"ticks\":\"\"}}}],\"scatterpolar\":[{\"type\":\"scatterpolar\",\"marker\":{\"colorbar\":{\"outlinewidth\":0,\"ticks\":\"\"}}}],\"histogram\":[{\"marker\":{\"pattern\":{\"fillmode\":\"overlay\",\"size\":10,\"solidity\":0.2}},\"type\":\"histogram\"}],\"scattergl\":[{\"type\":\"scattergl\",\"marker\":{\"colorbar\":{\"outlinewidth\":0,\"ticks\":\"\"}}}],\"scatter3d\":[{\"type\":\"scatter3d\",\"line\":{\"colorbar\":{\"outlinewidth\":0,\"ticks\":\"\"}},\"marker\":{\"colorbar\":{\"outlinewidth\":0,\"ticks\":\"\"}}}],\"scattermapbox\":[{\"type\":\"scattermapbox\",\"marker\":{\"colorbar\":{\"outlinewidth\":0,\"ticks\":\"\"}}}],\"scatterternary\":[{\"type\":\"scatterternary\",\"marker\":{\"colorbar\":{\"outlinewidth\":0,\"ticks\":\"\"}}}],\"scattercarpet\":[{\"type\":\"scattercarpet\",\"marker\":{\"colorbar\":{\"outlinewidth\":0,\"ticks\":\"\"}}}],\"carpet\":[{\"aaxis\":{\"endlinecolor\":\"#2a3f5f\",\"gridcolor\":\"white\",\"linecolor\":\"white\",\"minorgridcolor\":\"white\",\"startlinecolor\":\"#2a3f5f\"},\"baxis\":{\"endlinecolor\":\"#2a3f5f\",\"gridcolor\":\"white\",\"linecolor\":\"white\",\"minorgridcolor\":\"white\",\"startlinecolor\":\"#2a3f5f\"},\"type\":\"carpet\"}],\"table\":[{\"cells\":{\"fill\":{\"color\":\"#EBF0F8\"},\"line\":{\"color\":\"white\"}},\"header\":{\"fill\":{\"color\":\"#C8D4E3\"},\"line\":{\"color\":\"white\"}},\"type\":\"table\"}],\"barpolar\":[{\"marker\":{\"line\":{\"color\":\"#E5ECF6\",\"width\":0.5},\"pattern\":{\"fillmode\":\"overlay\",\"size\":10,\"solidity\":0.2}},\"type\":\"barpolar\"}],\"pie\":[{\"automargin\":true,\"type\":\"pie\"}]},\"layout\":{\"autotypenumbers\":\"strict\",\"colorway\":[\"#636efa\",\"#EF553B\",\"#00cc96\",\"#ab63fa\",\"#FFA15A\",\"#19d3f3\",\"#FF6692\",\"#B6E880\",\"#FF97FF\",\"#FECB52\"],\"font\":{\"color\":\"#2a3f5f\"},\"hovermode\":\"closest\",\"hoverlabel\":{\"align\":\"left\"},\"paper_bgcolor\":\"white\",\"plot_bgcolor\":\"#E5ECF6\",\"polar\":{\"bgcolor\":\"#E5ECF6\",\"angularaxis\":{\"gridcolor\":\"white\",\"linecolor\":\"white\",\"ticks\":\"\"},\"radialaxis\":{\"gridcolor\":\"white\",\"linecolor\":\"white\",\"ticks\":\"\"}},\"ternary\":{\"bgcolor\":\"#E5ECF6\",\"aaxis\":{\"gridcolor\":\"white\",\"linecolor\":\"white\",\"ticks\":\"\"},\"baxis\":{\"gridcolor\":\"white\",\"linecolor\":\"white\",\"ticks\":\"\"},\"caxis\":{\"gridcolor\":\"white\",\"linecolor\":\"white\",\"ticks\":\"\"}},\"coloraxis\":{\"colorbar\":{\"outlinewidth\":0,\"ticks\":\"\"}},\"colorscale\":{\"sequential\":[[0.0,\"#0d0887\"],[0.1111111111111111,\"#46039f\"],[0.2222222222222222,\"#7201a8\"],[0.3333333333333333,\"#9c179e\"],[0.4444444444444444,\"#bd3786\"],[0.5555555555555556,\"#d8576b\"],[0.6666666666666666,\"#ed7953\"],[0.7777777777777778,\"#fb9f3a\"],[0.8888888888888888,\"#fdca26\"],[1.0,\"#f0f921\"]],\"sequentialminus\":[[0.0,\"#0d0887\"],[0.1111111111111111,\"#46039f\"],[0.2222222222222222,\"#7201a8\"],[0.3333333333333333,\"#9c179e\"],[0.4444444444444444,\"#bd3786\"],[0.5555555555555556,\"#d8576b\"],[0.6666666666666666,\"#ed7953\"],[0.7777777777777778,\"#fb9f3a\"],[0.8888888888888888,\"#fdca26\"],[1.0,\"#f0f921\"]],\"diverging\":[[0,\"#8e0152\"],[0.1,\"#c51b7d\"],[0.2,\"#de77ae\"],[0.3,\"#f1b6da\"],[0.4,\"#fde0ef\"],[0.5,\"#f7f7f7\"],[0.6,\"#e6f5d0\"],[0.7,\"#b8e186\"],[0.8,\"#7fbc41\"],[0.9,\"#4d9221\"],[1,\"#276419\"]]},\"xaxis\":{\"gridcolor\":\"white\",\"linecolor\":\"white\",\"ticks\":\"\",\"title\":{\"standoff\":15},\"zerolinecolor\":\"white\",\"automargin\":true,\"zerolinewidth\":2},\"yaxis\":{\"gridcolor\":\"white\",\"linecolor\":\"white\",\"ticks\":\"\",\"title\":{\"standoff\":15},\"zerolinecolor\":\"white\",\"automargin\":true,\"zerolinewidth\":2},\"scene\":{\"xaxis\":{\"backgroundcolor\":\"#E5ECF6\",\"gridcolor\":\"white\",\"linecolor\":\"white\",\"showbackground\":true,\"ticks\":\"\",\"zerolinecolor\":\"white\",\"gridwidth\":2},\"yaxis\":{\"backgroundcolor\":\"#E5ECF6\",\"gridcolor\":\"white\",\"linecolor\":\"white\",\"showbackground\":true,\"ticks\":\"\",\"zerolinecolor\":\"white\",\"gridwidth\":2},\"zaxis\":{\"backgroundcolor\":\"#E5ECF6\",\"gridcolor\":\"white\",\"linecolor\":\"white\",\"showbackground\":true,\"ticks\":\"\",\"zerolinecolor\":\"white\",\"gridwidth\":2}},\"shapedefaults\":{\"line\":{\"color\":\"#2a3f5f\"}},\"annotationdefaults\":{\"arrowcolor\":\"#2a3f5f\",\"arrowhead\":0,\"arrowwidth\":1},\"geo\":{\"bgcolor\":\"white\",\"landcolor\":\"#E5ECF6\",\"subunitcolor\":\"white\",\"showland\":true,\"showlakes\":true,\"lakecolor\":\"white\"},\"title\":{\"x\":0.05},\"mapbox\":{\"style\":\"light\"}}}},                        {\"responsive\": true}                    ).then(function(){\n",
       "                            \n",
       "var gd = document.getElementById('53b872a5-034e-4fae-a05d-13880d166055');\n",
       "var x = new MutationObserver(function (mutations, observer) {{\n",
       "        var display = window.getComputedStyle(gd).display;\n",
       "        if (!display || display === 'none') {{\n",
       "            console.log([gd, 'removed!']);\n",
       "            Plotly.purge(gd);\n",
       "            observer.disconnect();\n",
       "        }}\n",
       "}});\n",
       "\n",
       "// Listen for the removal of the full notebook cells\n",
       "var notebookContainer = gd.closest('#notebook-container');\n",
       "if (notebookContainer) {{\n",
       "    x.observe(notebookContainer, {childList: true});\n",
       "}}\n",
       "\n",
       "// Listen for the clearing of the current output cell\n",
       "var outputEl = gd.closest('.output');\n",
       "if (outputEl) {{\n",
       "    x.observe(outputEl, {childList: true});\n",
       "}}\n",
       "\n",
       "                        })                };                });            </script>        </div>"
      ]
     },
     "metadata": {},
     "output_type": "display_data"
    },
    {
     "data": {
      "application/vnd.plotly.v1+json": {
       "config": {
        "plotlyServerURL": "https://plot.ly"
       },
       "data": [
        {
         "name": "main root",
         "type": "scatter",
         "x": [
          7.014674,
          7.068931,
          7.097697,
          7.102405,
          7.096509,
          7.078003,
          7.057387,
          7.064473,
          7.056801,
          7.045027,
          7.03578,
          7.053914,
          7.058697,
          7.050602,
          7.021744
         ],
         "y": [
          4.083105,
          4.391064,
          4.580238,
          4.699361,
          4.817372,
          4.93411,
          5.050687,
          5.168109,
          5.286132,
          5.443573,
          5.623435,
          5.801408,
          5.991669,
          6.214376,
          6.799064
         ]
        },
        {
         "name": "lateral root",
         "type": "scatter",
         "x": [
          7.03248,
          6.921742,
          6.763005
         ],
         "y": [
          4.136673,
          4.219422,
          4.337383
         ]
        },
        {
         "name": "lateral root",
         "type": "scatter",
         "x": [
          7.065898,
          7.312281,
          7.439422
         ],
         "y": [
          4.198863,
          4.231294,
          4.27106
         ]
        },
        {
         "name": "lateral root",
         "type": "scatter",
         "x": [
          7.125593,
          7.182462,
          7.287631
         ],
         "y": [
          4.363359,
          4.368823,
          4.43411
         ]
        },
        {
         "mode": "lines",
         "name": "0.31060960169400276",
         "type": "scatter",
         "x": [
          6.763005,
          6.768420693811883,
          6.773858091456776,
          6.779317192934677,
          6.784797998245587,
          6.790300507389505,
          6.795824720366431,
          6.801370637176366,
          6.80693825781931,
          6.812527582295262,
          6.8181386106042225,
          6.823771342746191,
          6.829425778721169,
          6.835101918529155,
          6.84079976217015,
          6.846519309644153,
          6.852260560951164,
          6.858023516091184,
          6.863808175064213,
          6.86961453787025,
          6.875442604509296,
          6.881292374981349,
          6.887163849286412,
          6.893057027424483,
          6.898971909395563,
          6.904908495199651,
          6.910866784836747,
          6.916846778306852,
          6.922848475609966,
          6.928871876746088,
          6.934916981715219,
          6.9409837905173575,
          6.947072303152505,
          6.953182519620661,
          6.959314439921826,
          6.965468064055999,
          6.97164339202318,
          6.977840423823371,
          6.984059159456569,
          6.9902995989227765,
          6.996561742221992,
          7.002845589354217,
          7.009151140319449,
          7.0154783951176904,
          7.0218273537489395,
          7.028198016213198,
          7.034590382510465,
          7.04100445264074,
          7.0474402266040235,
          7.053897704400315
         ],
         "y": [
          4.337383,
          4.333035362496611,
          4.328830456026579,
          4.324768280589904,
          4.320848836186586,
          4.317072122816626,
          4.313438140480022,
          4.309946889176775,
          4.306598368906886,
          4.303392579670354,
          4.300329521467178,
          4.2974091942973605,
          4.294631598160899,
          4.291996733057796,
          4.2895045989880485,
          4.28715519595166,
          4.284948523948627,
          4.2828845829789515,
          4.280963373042633,
          4.2791848941396715,
          4.277549146270068,
          4.276056129433821,
          4.27470584363093,
          4.273498288861398,
          4.272433465125222,
          4.271511372422403,
          4.270732010752941,
          4.270095380116837,
          4.2696014805140905,
          4.2692503119447,
          4.269041874408667,
          4.268976167905991,
          4.2690531924366715,
          4.26927294800071,
          4.269635434598105,
          4.270140652228858,
          4.270788600892967,
          4.271579280590434,
          4.272512691321258,
          4.273588833085438,
          4.274807705882976,
          4.276169309713872,
          4.277673644578123,
          4.279320710475733,
          4.281110507406699,
          4.283043035371023,
          4.285118294368703,
          4.287336284399741,
          4.289697005464135,
          4.292200457561887
         ]
        },
        {
         "mode": "lines",
         "name": "0.46673136243388197",
         "type": "scatter",
         "x": [
          7.107893912576261,
          7.114858042640115,
          7.1218139122569415,
          7.12876152142674,
          7.13570087014951,
          7.142631958425252,
          7.149554786253965,
          7.156469353635651,
          7.163375660570308,
          7.170273707057937,
          7.177163493098538,
          7.184045018692111,
          7.190918283838656,
          7.197783288538172,
          7.20464003279066,
          7.211488516596121,
          7.218328739954552,
          7.225160702865956,
          7.231984405330332,
          7.238799847347679,
          7.245607028917998,
          7.25240595004129,
          7.259196610717552,
          7.265979010946787,
          7.2727531507289935,
          7.279519030064172,
          7.286276648952322,
          7.293026007393444,
          7.299767105387538,
          7.306499942934604,
          7.313224520034641,
          7.319940836687651,
          7.3266488928936315,
          7.333348688652585,
          7.340040223964509,
          7.346723498829406,
          7.353398513247274,
          7.360065267218115,
          7.366723760741927,
          7.373373993818711,
          7.380015966448466,
          7.386649678631194,
          7.393275130366893,
          7.399892321655565,
          7.406501252497208,
          7.413101922891823,
          7.419694332839409,
          7.426278482339968,
          7.432854371393498,
          7.439422
         ],
         "y": [
          4.589498031540513,
          4.579031221789484,
          4.568729748472349,
          4.558593611589108,
          4.548622811139763,
          4.538817347124311,
          4.529177219542755,
          4.519702428395092,
          4.510392973681324,
          4.501248855401451,
          4.492270073555472,
          4.483456628143388,
          4.474808519165198,
          4.466325746620903,
          4.458008310510502,
          4.449856210833996,
          4.441869447591384,
          4.434048020782667,
          4.426391930407844,
          4.418901176466915,
          4.411575758959882,
          4.404415677886742,
          4.3974209332474965,
          4.390591525042146,
          4.38392745327069,
          4.377428717933129,
          4.371095319029462,
          4.36492725655969,
          4.358924530523812,
          4.3530871409218275,
          4.347415087753739,
          4.341908371019544,
          4.336566990719245,
          4.331390946852839,
          4.3263802394203275,
          4.321534868421711,
          4.316854833856989,
          4.312340135726162,
          4.3079907740292285,
          4.303806748766189,
          4.299788059937045,
          4.295934707541796,
          4.2922466915804405,
          4.28872401205298,
          4.285366668959414,
          4.2821746622997425,
          4.279147992073965,
          4.276286658282082,
          4.273590660924094,
          4.27106
         ]
        },
        {
         "mode": "lines",
         "name": "0.4355615947021112",
         "type": "scatter",
         "x": [
          7.097158662956166,
          7.101145040793183,
          7.105127285826654,
          7.109105398056579,
          7.113079377482959,
          7.117049224105792,
          7.12101493792508,
          7.124976518940821,
          7.128933967153016,
          7.132887282561667,
          7.13683646516677,
          7.140781514968328,
          7.14472243196634,
          7.148659216160806,
          7.152591867551726,
          7.1565203861391,
          7.160444771922928,
          7.16436502490321,
          7.1682811450799475,
          7.172193132453137,
          7.1761009870227825,
          7.180004708788881,
          7.183904297751433,
          7.187799753910441,
          7.191691077265902,
          7.195578267817816,
          7.199461325566185,
          7.203340250511008,
          7.207215042652286,
          7.211085701990017,
          7.2149522285242025,
          7.2188146222548415,
          7.222672883181936,
          7.226527011305483,
          7.230377006625485,
          7.234222869141941,
          7.238064598854851,
          7.241902195764214,
          7.245735659870032,
          7.249564991172305,
          7.25339018967103,
          7.257211255366211,
          7.261028188257845,
          7.2648409883459335,
          7.268649655630476,
          7.272454190111473,
          7.276254591788923,
          7.280050860662828,
          7.2838429967331875,
          7.287631
         ],
         "y": [
          4.825790746971235,
          4.817236389418363,
          4.808705401570524,
          4.800197783427719,
          4.791713534989947,
          4.7832526562572095,
          4.774815147229505,
          4.766401007906834,
          4.758010238289197,
          4.749642838376594,
          4.741298808169024,
          4.732978147666487,
          4.724680856868985,
          4.716406935776515,
          4.7081563843890795,
          4.699929202706678,
          4.691725390729309,
          4.683544948456975,
          4.675387875889673,
          4.667254173027406,
          4.659143839870172,
          4.651056876417972,
          4.642993282670805,
          4.634953058628672,
          4.626936204291572,
          4.618942719659506,
          4.610972604732474,
          4.603025859510475,
          4.59510248399351,
          4.587202478181578,
          4.57932584207468,
          4.571472575672815,
          4.5636426789759845,
          4.555836151984187,
          4.548052994697423,
          4.540293207115694,
          4.532556789238997,
          4.524843741067334,
          4.517154062600705,
          4.509487753839109,
          4.501844814782547,
          4.494225245431019,
          4.486629045784524,
          4.4790562158430625,
          4.471506755606635,
          4.4639806650752405,
          4.45647794424888,
          4.448998593127554,
          4.44154261171126,
          4.43411
         ]
        }
       ],
       "layout": {
        "autosize": true,
        "template": {
         "data": {
          "bar": [
           {
            "error_x": {
             "color": "#2a3f5f"
            },
            "error_y": {
             "color": "#2a3f5f"
            },
            "marker": {
             "line": {
              "color": "#E5ECF6",
              "width": 0.5
             },
             "pattern": {
              "fillmode": "overlay",
              "size": 10,
              "solidity": 0.2
             }
            },
            "type": "bar"
           }
          ],
          "barpolar": [
           {
            "marker": {
             "line": {
              "color": "#E5ECF6",
              "width": 0.5
             },
             "pattern": {
              "fillmode": "overlay",
              "size": 10,
              "solidity": 0.2
             }
            },
            "type": "barpolar"
           }
          ],
          "carpet": [
           {
            "aaxis": {
             "endlinecolor": "#2a3f5f",
             "gridcolor": "white",
             "linecolor": "white",
             "minorgridcolor": "white",
             "startlinecolor": "#2a3f5f"
            },
            "baxis": {
             "endlinecolor": "#2a3f5f",
             "gridcolor": "white",
             "linecolor": "white",
             "minorgridcolor": "white",
             "startlinecolor": "#2a3f5f"
            },
            "type": "carpet"
           }
          ],
          "choropleth": [
           {
            "colorbar": {
             "outlinewidth": 0,
             "ticks": ""
            },
            "type": "choropleth"
           }
          ],
          "contour": [
           {
            "colorbar": {
             "outlinewidth": 0,
             "ticks": ""
            },
            "colorscale": [
             [
              0,
              "#0d0887"
             ],
             [
              0.1111111111111111,
              "#46039f"
             ],
             [
              0.2222222222222222,
              "#7201a8"
             ],
             [
              0.3333333333333333,
              "#9c179e"
             ],
             [
              0.4444444444444444,
              "#bd3786"
             ],
             [
              0.5555555555555556,
              "#d8576b"
             ],
             [
              0.6666666666666666,
              "#ed7953"
             ],
             [
              0.7777777777777778,
              "#fb9f3a"
             ],
             [
              0.8888888888888888,
              "#fdca26"
             ],
             [
              1,
              "#f0f921"
             ]
            ],
            "type": "contour"
           }
          ],
          "contourcarpet": [
           {
            "colorbar": {
             "outlinewidth": 0,
             "ticks": ""
            },
            "type": "contourcarpet"
           }
          ],
          "heatmap": [
           {
            "colorbar": {
             "outlinewidth": 0,
             "ticks": ""
            },
            "colorscale": [
             [
              0,
              "#0d0887"
             ],
             [
              0.1111111111111111,
              "#46039f"
             ],
             [
              0.2222222222222222,
              "#7201a8"
             ],
             [
              0.3333333333333333,
              "#9c179e"
             ],
             [
              0.4444444444444444,
              "#bd3786"
             ],
             [
              0.5555555555555556,
              "#d8576b"
             ],
             [
              0.6666666666666666,
              "#ed7953"
             ],
             [
              0.7777777777777778,
              "#fb9f3a"
             ],
             [
              0.8888888888888888,
              "#fdca26"
             ],
             [
              1,
              "#f0f921"
             ]
            ],
            "type": "heatmap"
           }
          ],
          "heatmapgl": [
           {
            "colorbar": {
             "outlinewidth": 0,
             "ticks": ""
            },
            "colorscale": [
             [
              0,
              "#0d0887"
             ],
             [
              0.1111111111111111,
              "#46039f"
             ],
             [
              0.2222222222222222,
              "#7201a8"
             ],
             [
              0.3333333333333333,
              "#9c179e"
             ],
             [
              0.4444444444444444,
              "#bd3786"
             ],
             [
              0.5555555555555556,
              "#d8576b"
             ],
             [
              0.6666666666666666,
              "#ed7953"
             ],
             [
              0.7777777777777778,
              "#fb9f3a"
             ],
             [
              0.8888888888888888,
              "#fdca26"
             ],
             [
              1,
              "#f0f921"
             ]
            ],
            "type": "heatmapgl"
           }
          ],
          "histogram": [
           {
            "marker": {
             "pattern": {
              "fillmode": "overlay",
              "size": 10,
              "solidity": 0.2
             }
            },
            "type": "histogram"
           }
          ],
          "histogram2d": [
           {
            "colorbar": {
             "outlinewidth": 0,
             "ticks": ""
            },
            "colorscale": [
             [
              0,
              "#0d0887"
             ],
             [
              0.1111111111111111,
              "#46039f"
             ],
             [
              0.2222222222222222,
              "#7201a8"
             ],
             [
              0.3333333333333333,
              "#9c179e"
             ],
             [
              0.4444444444444444,
              "#bd3786"
             ],
             [
              0.5555555555555556,
              "#d8576b"
             ],
             [
              0.6666666666666666,
              "#ed7953"
             ],
             [
              0.7777777777777778,
              "#fb9f3a"
             ],
             [
              0.8888888888888888,
              "#fdca26"
             ],
             [
              1,
              "#f0f921"
             ]
            ],
            "type": "histogram2d"
           }
          ],
          "histogram2dcontour": [
           {
            "colorbar": {
             "outlinewidth": 0,
             "ticks": ""
            },
            "colorscale": [
             [
              0,
              "#0d0887"
             ],
             [
              0.1111111111111111,
              "#46039f"
             ],
             [
              0.2222222222222222,
              "#7201a8"
             ],
             [
              0.3333333333333333,
              "#9c179e"
             ],
             [
              0.4444444444444444,
              "#bd3786"
             ],
             [
              0.5555555555555556,
              "#d8576b"
             ],
             [
              0.6666666666666666,
              "#ed7953"
             ],
             [
              0.7777777777777778,
              "#fb9f3a"
             ],
             [
              0.8888888888888888,
              "#fdca26"
             ],
             [
              1,
              "#f0f921"
             ]
            ],
            "type": "histogram2dcontour"
           }
          ],
          "mesh3d": [
           {
            "colorbar": {
             "outlinewidth": 0,
             "ticks": ""
            },
            "type": "mesh3d"
           }
          ],
          "parcoords": [
           {
            "line": {
             "colorbar": {
              "outlinewidth": 0,
              "ticks": ""
             }
            },
            "type": "parcoords"
           }
          ],
          "pie": [
           {
            "automargin": true,
            "type": "pie"
           }
          ],
          "scatter": [
           {
            "fillpattern": {
             "fillmode": "overlay",
             "size": 10,
             "solidity": 0.2
            },
            "type": "scatter"
           }
          ],
          "scatter3d": [
           {
            "line": {
             "colorbar": {
              "outlinewidth": 0,
              "ticks": ""
             }
            },
            "marker": {
             "colorbar": {
              "outlinewidth": 0,
              "ticks": ""
             }
            },
            "type": "scatter3d"
           }
          ],
          "scattercarpet": [
           {
            "marker": {
             "colorbar": {
              "outlinewidth": 0,
              "ticks": ""
             }
            },
            "type": "scattercarpet"
           }
          ],
          "scattergeo": [
           {
            "marker": {
             "colorbar": {
              "outlinewidth": 0,
              "ticks": ""
             }
            },
            "type": "scattergeo"
           }
          ],
          "scattergl": [
           {
            "marker": {
             "colorbar": {
              "outlinewidth": 0,
              "ticks": ""
             }
            },
            "type": "scattergl"
           }
          ],
          "scattermapbox": [
           {
            "marker": {
             "colorbar": {
              "outlinewidth": 0,
              "ticks": ""
             }
            },
            "type": "scattermapbox"
           }
          ],
          "scatterpolar": [
           {
            "marker": {
             "colorbar": {
              "outlinewidth": 0,
              "ticks": ""
             }
            },
            "type": "scatterpolar"
           }
          ],
          "scatterpolargl": [
           {
            "marker": {
             "colorbar": {
              "outlinewidth": 0,
              "ticks": ""
             }
            },
            "type": "scatterpolargl"
           }
          ],
          "scatterternary": [
           {
            "marker": {
             "colorbar": {
              "outlinewidth": 0,
              "ticks": ""
             }
            },
            "type": "scatterternary"
           }
          ],
          "surface": [
           {
            "colorbar": {
             "outlinewidth": 0,
             "ticks": ""
            },
            "colorscale": [
             [
              0,
              "#0d0887"
             ],
             [
              0.1111111111111111,
              "#46039f"
             ],
             [
              0.2222222222222222,
              "#7201a8"
             ],
             [
              0.3333333333333333,
              "#9c179e"
             ],
             [
              0.4444444444444444,
              "#bd3786"
             ],
             [
              0.5555555555555556,
              "#d8576b"
             ],
             [
              0.6666666666666666,
              "#ed7953"
             ],
             [
              0.7777777777777778,
              "#fb9f3a"
             ],
             [
              0.8888888888888888,
              "#fdca26"
             ],
             [
              1,
              "#f0f921"
             ]
            ],
            "type": "surface"
           }
          ],
          "table": [
           {
            "cells": {
             "fill": {
              "color": "#EBF0F8"
             },
             "line": {
              "color": "white"
             }
            },
            "header": {
             "fill": {
              "color": "#C8D4E3"
             },
             "line": {
              "color": "white"
             }
            },
            "type": "table"
           }
          ]
         },
         "layout": {
          "annotationdefaults": {
           "arrowcolor": "#2a3f5f",
           "arrowhead": 0,
           "arrowwidth": 1
          },
          "autotypenumbers": "strict",
          "coloraxis": {
           "colorbar": {
            "outlinewidth": 0,
            "ticks": ""
           }
          },
          "colorscale": {
           "diverging": [
            [
             0,
             "#8e0152"
            ],
            [
             0.1,
             "#c51b7d"
            ],
            [
             0.2,
             "#de77ae"
            ],
            [
             0.3,
             "#f1b6da"
            ],
            [
             0.4,
             "#fde0ef"
            ],
            [
             0.5,
             "#f7f7f7"
            ],
            [
             0.6,
             "#e6f5d0"
            ],
            [
             0.7,
             "#b8e186"
            ],
            [
             0.8,
             "#7fbc41"
            ],
            [
             0.9,
             "#4d9221"
            ],
            [
             1,
             "#276419"
            ]
           ],
           "sequential": [
            [
             0,
             "#0d0887"
            ],
            [
             0.1111111111111111,
             "#46039f"
            ],
            [
             0.2222222222222222,
             "#7201a8"
            ],
            [
             0.3333333333333333,
             "#9c179e"
            ],
            [
             0.4444444444444444,
             "#bd3786"
            ],
            [
             0.5555555555555556,
             "#d8576b"
            ],
            [
             0.6666666666666666,
             "#ed7953"
            ],
            [
             0.7777777777777778,
             "#fb9f3a"
            ],
            [
             0.8888888888888888,
             "#fdca26"
            ],
            [
             1,
             "#f0f921"
            ]
           ],
           "sequentialminus": [
            [
             0,
             "#0d0887"
            ],
            [
             0.1111111111111111,
             "#46039f"
            ],
            [
             0.2222222222222222,
             "#7201a8"
            ],
            [
             0.3333333333333333,
             "#9c179e"
            ],
            [
             0.4444444444444444,
             "#bd3786"
            ],
            [
             0.5555555555555556,
             "#d8576b"
            ],
            [
             0.6666666666666666,
             "#ed7953"
            ],
            [
             0.7777777777777778,
             "#fb9f3a"
            ],
            [
             0.8888888888888888,
             "#fdca26"
            ],
            [
             1,
             "#f0f921"
            ]
           ]
          },
          "colorway": [
           "#636efa",
           "#EF553B",
           "#00cc96",
           "#ab63fa",
           "#FFA15A",
           "#19d3f3",
           "#FF6692",
           "#B6E880",
           "#FF97FF",
           "#FECB52"
          ],
          "font": {
           "color": "#2a3f5f"
          },
          "geo": {
           "bgcolor": "white",
           "lakecolor": "white",
           "landcolor": "#E5ECF6",
           "showlakes": true,
           "showland": true,
           "subunitcolor": "white"
          },
          "hoverlabel": {
           "align": "left"
          },
          "hovermode": "closest",
          "mapbox": {
           "style": "light"
          },
          "paper_bgcolor": "white",
          "plot_bgcolor": "#E5ECF6",
          "polar": {
           "angularaxis": {
            "gridcolor": "white",
            "linecolor": "white",
            "ticks": ""
           },
           "bgcolor": "#E5ECF6",
           "radialaxis": {
            "gridcolor": "white",
            "linecolor": "white",
            "ticks": ""
           }
          },
          "scene": {
           "xaxis": {
            "backgroundcolor": "#E5ECF6",
            "gridcolor": "white",
            "gridwidth": 2,
            "linecolor": "white",
            "showbackground": true,
            "ticks": "",
            "zerolinecolor": "white"
           },
           "yaxis": {
            "backgroundcolor": "#E5ECF6",
            "gridcolor": "white",
            "gridwidth": 2,
            "linecolor": "white",
            "showbackground": true,
            "ticks": "",
            "zerolinecolor": "white"
           },
           "zaxis": {
            "backgroundcolor": "#E5ECF6",
            "gridcolor": "white",
            "gridwidth": 2,
            "linecolor": "white",
            "showbackground": true,
            "ticks": "",
            "zerolinecolor": "white"
           }
          },
          "shapedefaults": {
           "line": {
            "color": "#2a3f5f"
           }
          },
          "ternary": {
           "aaxis": {
            "gridcolor": "white",
            "linecolor": "white",
            "ticks": ""
           },
           "baxis": {
            "gridcolor": "white",
            "linecolor": "white",
            "ticks": ""
           },
           "bgcolor": "#E5ECF6",
           "caxis": {
            "gridcolor": "white",
            "linecolor": "white",
            "ticks": ""
           }
          },
          "title": {
           "x": 0.05
          },
          "xaxis": {
           "automargin": true,
           "gridcolor": "white",
           "linecolor": "white",
           "ticks": "",
           "title": {
            "standoff": 15
           },
           "zerolinecolor": "white",
           "zerolinewidth": 2
          },
          "yaxis": {
           "automargin": true,
           "gridcolor": "white",
           "linecolor": "white",
           "ticks": "",
           "title": {
            "standoff": 15
           },
           "zerolinecolor": "white",
           "zerolinewidth": 2
          }
         }
        },
        "xaxis": {
         "autorange": true,
         "range": [
          6.7197290791388715,
          7.482697920861129
         ],
         "type": "linear"
        },
        "yaxis": {
         "autorange": true,
         "range": [
          3.8589724611650484,
          7.023196538834952
         ],
         "type": "linear"
        }
       }
      },
      "image/png": "[encoded data removed]",
      "text/html": [
       "<div>                            <div id=\"1f7d6dd0-a977-435b-bee8-2c8ddd0a4a5a\" class=\"plotly-graph-div\" style=\"height:525px; width:100%;\"></div>            <script type=\"text/javascript\">                require([\"plotly\"], function(Plotly) {                    window.PLOTLYENV=window.PLOTLYENV || {};                                    if (document.getElementById(\"1f7d6dd0-a977-435b-bee8-2c8ddd0a4a5a\")) {                    Plotly.newPlot(                        \"1f7d6dd0-a977-435b-bee8-2c8ddd0a4a5a\",                        [{\"name\":\"main root\",\"x\":[7.014674,7.068931,7.097697,7.102405,7.096509,7.078003,7.057387,7.064473,7.056801,7.045027,7.03578,7.053914,7.058697,7.050602,7.021744],\"y\":[4.083105,4.391064,4.580238,4.699361,4.817372,4.93411,5.050687,5.168109,5.286132,5.443573,5.623435,5.801408,5.991669,6.214376,6.799064],\"type\":\"scatter\"},{\"name\":\"lateral root\",\"x\":[7.03248,6.921742,6.763005],\"y\":[4.136673,4.219422,4.337383],\"type\":\"scatter\"},{\"name\":\"lateral root\",\"x\":[7.065898,7.312281,7.439422],\"y\":[4.198863,4.231294,4.27106],\"type\":\"scatter\"},{\"name\":\"lateral root\",\"x\":[7.125593,7.182462,7.287631],\"y\":[4.363359,4.368823,4.43411],\"type\":\"scatter\"},{\"mode\":\"lines\",\"name\":\"0.31060960169400276\",\"x\":[6.763005,6.768420693811883,6.773858091456776,6.779317192934677,6.784797998245587,6.790300507389505,6.795824720366431,6.801370637176366,6.80693825781931,6.812527582295262,6.8181386106042225,6.823771342746191,6.829425778721169,6.835101918529155,6.84079976217015,6.846519309644153,6.852260560951164,6.858023516091184,6.863808175064213,6.86961453787025,6.875442604509296,6.881292374981349,6.887163849286412,6.893057027424483,6.898971909395563,6.904908495199651,6.910866784836747,6.916846778306852,6.922848475609966,6.928871876746088,6.934916981715219,6.9409837905173575,6.947072303152505,6.953182519620661,6.959314439921826,6.965468064055999,6.97164339202318,6.977840423823371,6.984059159456569,6.9902995989227765,6.996561742221992,7.002845589354217,7.009151140319449,7.0154783951176904,7.0218273537489395,7.028198016213198,7.034590382510465,7.04100445264074,7.0474402266040235,7.053897704400315],\"y\":[4.337383,4.333035362496611,4.328830456026579,4.324768280589904,4.320848836186586,4.317072122816626,4.313438140480022,4.309946889176775,4.306598368906886,4.303392579670354,4.300329521467178,4.2974091942973605,4.294631598160899,4.291996733057796,4.2895045989880485,4.28715519595166,4.284948523948627,4.2828845829789515,4.280963373042633,4.2791848941396715,4.277549146270068,4.276056129433821,4.27470584363093,4.273498288861398,4.272433465125222,4.271511372422403,4.270732010752941,4.270095380116837,4.2696014805140905,4.2692503119447,4.269041874408667,4.268976167905991,4.2690531924366715,4.26927294800071,4.269635434598105,4.270140652228858,4.270788600892967,4.271579280590434,4.272512691321258,4.273588833085438,4.274807705882976,4.276169309713872,4.277673644578123,4.279320710475733,4.281110507406699,4.283043035371023,4.285118294368703,4.287336284399741,4.289697005464135,4.292200457561887],\"type\":\"scatter\"},{\"mode\":\"lines\",\"name\":\"0.46673136243388197\",\"x\":[7.107893912576261,7.114858042640115,7.1218139122569415,7.12876152142674,7.13570087014951,7.142631958425252,7.149554786253965,7.156469353635651,7.163375660570308,7.170273707057937,7.177163493098538,7.184045018692111,7.190918283838656,7.197783288538172,7.20464003279066,7.211488516596121,7.218328739954552,7.225160702865956,7.231984405330332,7.238799847347679,7.245607028917998,7.25240595004129,7.259196610717552,7.265979010946787,7.2727531507289935,7.279519030064172,7.286276648952322,7.293026007393444,7.299767105387538,7.306499942934604,7.313224520034641,7.319940836687651,7.3266488928936315,7.333348688652585,7.340040223964509,7.346723498829406,7.353398513247274,7.360065267218115,7.366723760741927,7.373373993818711,7.380015966448466,7.386649678631194,7.393275130366893,7.399892321655565,7.406501252497208,7.413101922891823,7.419694332839409,7.426278482339968,7.432854371393498,7.439422],\"y\":[4.589498031540513,4.579031221789484,4.568729748472349,4.558593611589108,4.548622811139763,4.538817347124311,4.529177219542755,4.519702428395092,4.510392973681324,4.501248855401451,4.492270073555472,4.483456628143388,4.474808519165198,4.466325746620903,4.458008310510502,4.449856210833996,4.441869447591384,4.434048020782667,4.426391930407844,4.418901176466915,4.411575758959882,4.404415677886742,4.3974209332474965,4.390591525042146,4.38392745327069,4.377428717933129,4.371095319029462,4.36492725655969,4.358924530523812,4.3530871409218275,4.347415087753739,4.341908371019544,4.336566990719245,4.331390946852839,4.3263802394203275,4.321534868421711,4.316854833856989,4.312340135726162,4.3079907740292285,4.303806748766189,4.299788059937045,4.295934707541796,4.2922466915804405,4.28872401205298,4.285366668959414,4.2821746622997425,4.279147992073965,4.276286658282082,4.273590660924094,4.27106],\"type\":\"scatter\"},{\"mode\":\"lines\",\"name\":\"0.4355615947021112\",\"x\":[7.097158662956166,7.101145040793183,7.105127285826654,7.109105398056579,7.113079377482959,7.117049224105792,7.12101493792508,7.124976518940821,7.128933967153016,7.132887282561667,7.13683646516677,7.140781514968328,7.14472243196634,7.148659216160806,7.152591867551726,7.1565203861391,7.160444771922928,7.16436502490321,7.1682811450799475,7.172193132453137,7.1761009870227825,7.180004708788881,7.183904297751433,7.187799753910441,7.191691077265902,7.195578267817816,7.199461325566185,7.203340250511008,7.207215042652286,7.211085701990017,7.2149522285242025,7.2188146222548415,7.222672883181936,7.226527011305483,7.230377006625485,7.234222869141941,7.238064598854851,7.241902195764214,7.245735659870032,7.249564991172305,7.25339018967103,7.257211255366211,7.261028188257845,7.2648409883459335,7.268649655630476,7.272454190111473,7.276254591788923,7.280050860662828,7.2838429967331875,7.287631],\"y\":[4.825790746971235,4.817236389418363,4.808705401570524,4.800197783427719,4.791713534989947,4.7832526562572095,4.774815147229505,4.766401007906834,4.758010238289197,4.749642838376594,4.741298808169024,4.732978147666487,4.724680856868985,4.716406935776515,4.7081563843890795,4.699929202706678,4.691725390729309,4.683544948456975,4.675387875889673,4.667254173027406,4.659143839870172,4.651056876417972,4.642993282670805,4.634953058628672,4.626936204291572,4.618942719659506,4.610972604732474,4.603025859510475,4.59510248399351,4.587202478181578,4.57932584207468,4.571472575672815,4.5636426789759845,4.555836151984187,4.548052994697423,4.540293207115694,4.532556789238997,4.524843741067334,4.517154062600705,4.509487753839109,4.501844814782547,4.494225245431019,4.486629045784524,4.4790562158430625,4.471506755606635,4.4639806650752405,4.45647794424888,4.448998593127554,4.44154261171126,4.43411],\"type\":\"scatter\"}],                        {\"template\":{\"data\":{\"histogram2dcontour\":[{\"type\":\"histogram2dcontour\",\"colorbar\":{\"outlinewidth\":0,\"ticks\":\"\"},\"colorscale\":[[0.0,\"#0d0887\"],[0.1111111111111111,\"#46039f\"],[0.2222222222222222,\"#7201a8\"],[0.3333333333333333,\"#9c179e\"],[0.4444444444444444,\"#bd3786\"],[0.5555555555555556,\"#d8576b\"],[0.6666666666666666,\"#ed7953\"],[0.7777777777777778,\"#fb9f3a\"],[0.8888888888888888,\"#fdca26\"],[1.0,\"#f0f921\"]]}],\"choropleth\":[{\"type\":\"choropleth\",\"colorbar\":{\"outlinewidth\":0,\"ticks\":\"\"}}],\"histogram2d\":[{\"type\":\"histogram2d\",\"colorbar\":{\"outlinewidth\":0,\"ticks\":\"\"},\"colorscale\":[[0.0,\"#0d0887\"],[0.1111111111111111,\"#46039f\"],[0.2222222222222222,\"#7201a8\"],[0.3333333333333333,\"#9c179e\"],[0.4444444444444444,\"#bd3786\"],[0.5555555555555556,\"#d8576b\"],[0.6666666666666666,\"#ed7953\"],[0.7777777777777778,\"#fb9f3a\"],[0.8888888888888888,\"#fdca26\"],[1.0,\"#f0f921\"]]}],\"heatmap\":[{\"type\":\"heatmap\",\"colorbar\":{\"outlinewidth\":0,\"ticks\":\"\"},\"colorscale\":[[0.0,\"#0d0887\"],[0.1111111111111111,\"#46039f\"],[0.2222222222222222,\"#7201a8\"],[0.3333333333333333,\"#9c179e\"],[0.4444444444444444,\"#bd3786\"],[0.5555555555555556,\"#d8576b\"],[0.6666666666666666,\"#ed7953\"],[0.7777777777777778,\"#fb9f3a\"],[0.8888888888888888,\"#fdca26\"],[1.0,\"#f0f921\"]]}],\"heatmapgl\":[{\"type\":\"heatmapgl\",\"colorbar\":{\"outlinewidth\":0,\"ticks\":\"\"},\"colorscale\":[[0.0,\"#0d0887\"],[0.1111111111111111,\"#46039f\"],[0.2222222222222222,\"#7201a8\"],[0.3333333333333333,\"#9c179e\"],[0.4444444444444444,\"#bd3786\"],[0.5555555555555556,\"#d8576b\"],[0.6666666666666666,\"#ed7953\"],[0.7777777777777778,\"#fb9f3a\"],[0.8888888888888888,\"#fdca26\"],[1.0,\"#f0f921\"]]}],\"contourcarpet\":[{\"type\":\"contourcarpet\",\"colorbar\":{\"outlinewidth\":0,\"ticks\":\"\"}}],\"contour\":[{\"type\":\"contour\",\"colorbar\":{\"outlinewidth\":0,\"ticks\":\"\"},\"colorscale\":[[0.0,\"#0d0887\"],[0.1111111111111111,\"#46039f\"],[0.2222222222222222,\"#7201a8\"],[0.3333333333333333,\"#9c179e\"],[0.4444444444444444,\"#bd3786\"],[0.5555555555555556,\"#d8576b\"],[0.6666666666666666,\"#ed7953\"],[0.7777777777777778,\"#fb9f3a\"],[0.8888888888888888,\"#fdca26\"],[1.0,\"#f0f921\"]]}],\"surface\":[{\"type\":\"surface\",\"colorbar\":{\"outlinewidth\":0,\"ticks\":\"\"},\"colorscale\":[[0.0,\"#0d0887\"],[0.1111111111111111,\"#46039f\"],[0.2222222222222222,\"#7201a8\"],[0.3333333333333333,\"#9c179e\"],[0.4444444444444444,\"#bd3786\"],[0.5555555555555556,\"#d8576b\"],[0.6666666666666666,\"#ed7953\"],[0.7777777777777778,\"#fb9f3a\"],[0.8888888888888888,\"#fdca26\"],[1.0,\"#f0f921\"]]}],\"mesh3d\":[{\"type\":\"mesh3d\",\"colorbar\":{\"outlinewidth\":0,\"ticks\":\"\"}}],\"scatter\":[{\"fillpattern\":{\"fillmode\":\"overlay\",\"size\":10,\"solidity\":0.2},\"type\":\"scatter\"}],\"parcoords\":[{\"type\":\"parcoords\",\"line\":{\"colorbar\":{\"outlinewidth\":0,\"ticks\":\"\"}}}],\"scatterpolargl\":[{\"type\":\"scatterpolargl\",\"marker\":{\"colorbar\":{\"outlinewidth\":0,\"ticks\":\"\"}}}],\"bar\":[{\"error_x\":{\"color\":\"#2a3f5f\"},\"error_y\":{\"color\":\"#2a3f5f\"},\"marker\":{\"line\":{\"color\":\"#E5ECF6\",\"width\":0.5},\"pattern\":{\"fillmode\":\"overlay\",\"size\":10,\"solidity\":0.2}},\"type\":\"bar\"}],\"scattergeo\":[{\"type\":\"scattergeo\",\"marker\":{\"colorbar\":{\"outlinewidth\":0,\"ticks\":\"\"}}}],\"scatterpolar\":[{\"type\":\"scatterpolar\",\"marker\":{\"colorbar\":{\"outlinewidth\":0,\"ticks\":\"\"}}}],\"histogram\":[{\"marker\":{\"pattern\":{\"fillmode\":\"overlay\",\"size\":10,\"solidity\":0.2}},\"type\":\"histogram\"}],\"scattergl\":[{\"type\":\"scattergl\",\"marker\":{\"colorbar\":{\"outlinewidth\":0,\"ticks\":\"\"}}}],\"scatter3d\":[{\"type\":\"scatter3d\",\"line\":{\"colorbar\":{\"outlinewidth\":0,\"ticks\":\"\"}},\"marker\":{\"colorbar\":{\"outlinewidth\":0,\"ticks\":\"\"}}}],\"scattermapbox\":[{\"type\":\"scattermapbox\",\"marker\":{\"colorbar\":{\"outlinewidth\":0,\"ticks\":\"\"}}}],\"scatterternary\":[{\"type\":\"scatterternary\",\"marker\":{\"colorbar\":{\"outlinewidth\":0,\"ticks\":\"\"}}}],\"scattercarpet\":[{\"type\":\"scattercarpet\",\"marker\":{\"colorbar\":{\"outlinewidth\":0,\"ticks\":\"\"}}}],\"carpet\":[{\"aaxis\":{\"endlinecolor\":\"#2a3f5f\",\"gridcolor\":\"white\",\"linecolor\":\"white\",\"minorgridcolor\":\"white\",\"startlinecolor\":\"#2a3f5f\"},\"baxis\":{\"endlinecolor\":\"#2a3f5f\",\"gridcolor\":\"white\",\"linecolor\":\"white\",\"minorgridcolor\":\"white\",\"startlinecolor\":\"#2a3f5f\"},\"type\":\"carpet\"}],\"table\":[{\"cells\":{\"fill\":{\"color\":\"#EBF0F8\"},\"line\":{\"color\":\"white\"}},\"header\":{\"fill\":{\"color\":\"#C8D4E3\"},\"line\":{\"color\":\"white\"}},\"type\":\"table\"}],\"barpolar\":[{\"marker\":{\"line\":{\"color\":\"#E5ECF6\",\"width\":0.5},\"pattern\":{\"fillmode\":\"overlay\",\"size\":10,\"solidity\":0.2}},\"type\":\"barpolar\"}],\"pie\":[{\"automargin\":true,\"type\":\"pie\"}]},\"layout\":{\"autotypenumbers\":\"strict\",\"colorway\":[\"#636efa\",\"#EF553B\",\"#00cc96\",\"#ab63fa\",\"#FFA15A\",\"#19d3f3\",\"#FF6692\",\"#B6E880\",\"#FF97FF\",\"#FECB52\"],\"font\":{\"color\":\"#2a3f5f\"},\"hovermode\":\"closest\",\"hoverlabel\":{\"align\":\"left\"},\"paper_bgcolor\":\"white\",\"plot_bgcolor\":\"#E5ECF6\",\"polar\":{\"bgcolor\":\"#E5ECF6\",\"angularaxis\":{\"gridcolor\":\"white\",\"linecolor\":\"white\",\"ticks\":\"\"},\"radialaxis\":{\"gridcolor\":\"white\",\"linecolor\":\"white\",\"ticks\":\"\"}},\"ternary\":{\"bgcolor\":\"#E5ECF6\",\"aaxis\":{\"gridcolor\":\"white\",\"linecolor\":\"white\",\"ticks\":\"\"},\"baxis\":{\"gridcolor\":\"white\",\"linecolor\":\"white\",\"ticks\":\"\"},\"caxis\":{\"gridcolor\":\"white\",\"linecolor\":\"white\",\"ticks\":\"\"}},\"coloraxis\":{\"colorbar\":{\"outlinewidth\":0,\"ticks\":\"\"}},\"colorscale\":{\"sequential\":[[0.0,\"#0d0887\"],[0.1111111111111111,\"#46039f\"],[0.2222222222222222,\"#7201a8\"],[0.3333333333333333,\"#9c179e\"],[0.4444444444444444,\"#bd3786\"],[0.5555555555555556,\"#d8576b\"],[0.6666666666666666,\"#ed7953\"],[0.7777777777777778,\"#fb9f3a\"],[0.8888888888888888,\"#fdca26\"],[1.0,\"#f0f921\"]],\"sequentialminus\":[[0.0,\"#0d0887\"],[0.1111111111111111,\"#46039f\"],[0.2222222222222222,\"#7201a8\"],[0.3333333333333333,\"#9c179e\"],[0.4444444444444444,\"#bd3786\"],[0.5555555555555556,\"#d8576b\"],[0.6666666666666666,\"#ed7953\"],[0.7777777777777778,\"#fb9f3a\"],[0.8888888888888888,\"#fdca26\"],[1.0,\"#f0f921\"]],\"diverging\":[[0,\"#8e0152\"],[0.1,\"#c51b7d\"],[0.2,\"#de77ae\"],[0.3,\"#f1b6da\"],[0.4,\"#fde0ef\"],[0.5,\"#f7f7f7\"],[0.6,\"#e6f5d0\"],[0.7,\"#b8e186\"],[0.8,\"#7fbc41\"],[0.9,\"#4d9221\"],[1,\"#276419\"]]},\"xaxis\":{\"gridcolor\":\"white\",\"linecolor\":\"white\",\"ticks\":\"\",\"title\":{\"standoff\":15},\"zerolinecolor\":\"white\",\"automargin\":true,\"zerolinewidth\":2},\"yaxis\":{\"gridcolor\":\"white\",\"linecolor\":\"white\",\"ticks\":\"\",\"title\":{\"standoff\":15},\"zerolinecolor\":\"white\",\"automargin\":true,\"zerolinewidth\":2},\"scene\":{\"xaxis\":{\"backgroundcolor\":\"#E5ECF6\",\"gridcolor\":\"white\",\"linecolor\":\"white\",\"showbackground\":true,\"ticks\":\"\",\"zerolinecolor\":\"white\",\"gridwidth\":2},\"yaxis\":{\"backgroundcolor\":\"#E5ECF6\",\"gridcolor\":\"white\",\"linecolor\":\"white\",\"showbackground\":true,\"ticks\":\"\",\"zerolinecolor\":\"white\",\"gridwidth\":2},\"zaxis\":{\"backgroundcolor\":\"#E5ECF6\",\"gridcolor\":\"white\",\"linecolor\":\"white\",\"showbackground\":true,\"ticks\":\"\",\"zerolinecolor\":\"white\",\"gridwidth\":2}},\"shapedefaults\":{\"line\":{\"color\":\"#2a3f5f\"}},\"annotationdefaults\":{\"arrowcolor\":\"#2a3f5f\",\"arrowhead\":0,\"arrowwidth\":1},\"geo\":{\"bgcolor\":\"white\",\"landcolor\":\"#E5ECF6\",\"subunitcolor\":\"white\",\"showland\":true,\"showlakes\":true,\"lakecolor\":\"white\"},\"title\":{\"x\":0.05},\"mapbox\":{\"style\":\"light\"}}}},                        {\"responsive\": true}                    ).then(function(){\n",
       "                            \n",
       "var gd = document.getElementById('1f7d6dd0-a977-435b-bee8-2c8ddd0a4a5a');\n",
       "var x = new MutationObserver(function (mutations, observer) {{\n",
       "        var display = window.getComputedStyle(gd).display;\n",
       "        if (!display || display === 'none') {{\n",
       "            console.log([gd, 'removed!']);\n",
       "            Plotly.purge(gd);\n",
       "            observer.disconnect();\n",
       "        }}\n",
       "}});\n",
       "\n",
       "// Listen for the removal of the full notebook cells\n",
       "var notebookContainer = gd.closest('#notebook-container');\n",
       "if (notebookContainer) {{\n",
       "    x.observe(notebookContainer, {childList: true});\n",
       "}}\n",
       "\n",
       "// Listen for the clearing of the current output cell\n",
       "var outputEl = gd.closest('.output');\n",
       "if (outputEl) {{\n",
       "    x.observe(outputEl, {childList: true});\n",
       "}}\n",
       "\n",
       "                        })                };                });            </script>        </div>"
      ]
     },
     "metadata": {},
     "output_type": "display_data"
    },
    {
     "data": {
      "application/vnd.plotly.v1+json": {
       "config": {
        "plotlyServerURL": "https://plot.ly"
       },
       "data": [
        {
         "name": "main root",
         "type": "scatter",
         "x": [
          7.014674,
          7.068931,
          7.097697,
          7.102405,
          7.096509,
          7.078003,
          7.057387,
          7.064473,
          7.056801,
          7.045027,
          7.03578,
          7.053914,
          7.058697,
          7.050602,
          7.021744
         ],
         "y": [
          4.083105,
          4.391064,
          4.580238,
          4.699361,
          4.817372,
          4.93411,
          5.050687,
          5.168109,
          5.286132,
          5.443573,
          5.623435,
          5.801408,
          5.991669,
          6.214376,
          6.799064
         ]
        },
        {
         "mode": "lines",
         "name": "0.31060960169400276",
         "type": "scatter",
         "x": [
          6.763005,
          6.768420693811883,
          6.773858091456776,
          6.779317192934677,
          6.784797998245587,
          6.790300507389505,
          6.795824720366431,
          6.801370637176366,
          6.80693825781931,
          6.812527582295262,
          6.8181386106042225,
          6.823771342746191,
          6.829425778721169,
          6.835101918529155,
          6.84079976217015,
          6.846519309644153,
          6.852260560951164,
          6.858023516091184,
          6.863808175064213,
          6.86961453787025,
          6.875442604509296,
          6.881292374981349,
          6.887163849286412,
          6.893057027424483,
          6.898971909395563,
          6.904908495199651,
          6.910866784836747,
          6.916846778306852,
          6.922848475609966,
          6.928871876746088,
          6.934916981715219,
          6.9409837905173575,
          6.947072303152505,
          6.953182519620661,
          6.959314439921826,
          6.965468064055999,
          6.97164339202318,
          6.977840423823371,
          6.984059159456569,
          6.9902995989227765,
          6.996561742221992,
          7.002845589354217,
          7.009151140319449,
          7.0154783951176904,
          7.0218273537489395,
          7.028198016213198,
          7.034590382510465,
          7.04100445264074,
          7.0474402266040235,
          7.053897704400315
         ],
         "y": [
          4.337383,
          4.333035362496611,
          4.328830456026579,
          4.324768280589904,
          4.320848836186586,
          4.317072122816626,
          4.313438140480022,
          4.309946889176775,
          4.306598368906886,
          4.303392579670354,
          4.300329521467178,
          4.2974091942973605,
          4.294631598160899,
          4.291996733057796,
          4.2895045989880485,
          4.28715519595166,
          4.284948523948627,
          4.2828845829789515,
          4.280963373042633,
          4.2791848941396715,
          4.277549146270068,
          4.276056129433821,
          4.27470584363093,
          4.273498288861398,
          4.272433465125222,
          4.271511372422403,
          4.270732010752941,
          4.270095380116837,
          4.2696014805140905,
          4.2692503119447,
          4.269041874408667,
          4.268976167905991,
          4.2690531924366715,
          4.26927294800071,
          4.269635434598105,
          4.270140652228858,
          4.270788600892967,
          4.271579280590434,
          4.272512691321258,
          4.273588833085438,
          4.274807705882976,
          4.276169309713872,
          4.277673644578123,
          4.279320710475733,
          4.281110507406699,
          4.283043035371023,
          4.285118294368703,
          4.287336284399741,
          4.289697005464135,
          4.292200457561887
         ]
        },
        {
         "mode": "lines",
         "name": "0.46673136243388197",
         "type": "scatter",
         "x": [
          7.107893912576261,
          7.114858042640115,
          7.1218139122569415,
          7.12876152142674,
          7.13570087014951,
          7.142631958425252,
          7.149554786253965,
          7.156469353635651,
          7.163375660570308,
          7.170273707057937,
          7.177163493098538,
          7.184045018692111,
          7.190918283838656,
          7.197783288538172,
          7.20464003279066,
          7.211488516596121,
          7.218328739954552,
          7.225160702865956,
          7.231984405330332,
          7.238799847347679,
          7.245607028917998,
          7.25240595004129,
          7.259196610717552,
          7.265979010946787,
          7.2727531507289935,
          7.279519030064172,
          7.286276648952322,
          7.293026007393444,
          7.299767105387538,
          7.306499942934604,
          7.313224520034641,
          7.319940836687651,
          7.3266488928936315,
          7.333348688652585,
          7.340040223964509,
          7.346723498829406,
          7.353398513247274,
          7.360065267218115,
          7.366723760741927,
          7.373373993818711,
          7.380015966448466,
          7.386649678631194,
          7.393275130366893,
          7.399892321655565,
          7.406501252497208,
          7.413101922891823,
          7.419694332839409,
          7.426278482339968,
          7.432854371393498,
          7.439422
         ],
         "y": [
          4.589498031540513,
          4.579031221789484,
          4.568729748472349,
          4.558593611589108,
          4.548622811139763,
          4.538817347124311,
          4.529177219542755,
          4.519702428395092,
          4.510392973681324,
          4.501248855401451,
          4.492270073555472,
          4.483456628143388,
          4.474808519165198,
          4.466325746620903,
          4.458008310510502,
          4.449856210833996,
          4.441869447591384,
          4.434048020782667,
          4.426391930407844,
          4.418901176466915,
          4.411575758959882,
          4.404415677886742,
          4.3974209332474965,
          4.390591525042146,
          4.38392745327069,
          4.377428717933129,
          4.371095319029462,
          4.36492725655969,
          4.358924530523812,
          4.3530871409218275,
          4.347415087753739,
          4.341908371019544,
          4.336566990719245,
          4.331390946852839,
          4.3263802394203275,
          4.321534868421711,
          4.316854833856989,
          4.312340135726162,
          4.3079907740292285,
          4.303806748766189,
          4.299788059937045,
          4.295934707541796,
          4.2922466915804405,
          4.28872401205298,
          4.285366668959414,
          4.2821746622997425,
          4.279147992073965,
          4.276286658282082,
          4.273590660924094,
          4.27106
         ]
        },
        {
         "mode": "lines",
         "name": "0.4355615947021112",
         "type": "scatter",
         "x": [
          7.097158662956166,
          7.101145040793183,
          7.105127285826654,
          7.109105398056579,
          7.113079377482959,
          7.117049224105792,
          7.12101493792508,
          7.124976518940821,
          7.128933967153016,
          7.132887282561667,
          7.13683646516677,
          7.140781514968328,
          7.14472243196634,
          7.148659216160806,
          7.152591867551726,
          7.1565203861391,
          7.160444771922928,
          7.16436502490321,
          7.1682811450799475,
          7.172193132453137,
          7.1761009870227825,
          7.180004708788881,
          7.183904297751433,
          7.187799753910441,
          7.191691077265902,
          7.195578267817816,
          7.199461325566185,
          7.203340250511008,
          7.207215042652286,
          7.211085701990017,
          7.2149522285242025,
          7.2188146222548415,
          7.222672883181936,
          7.226527011305483,
          7.230377006625485,
          7.234222869141941,
          7.238064598854851,
          7.241902195764214,
          7.245735659870032,
          7.249564991172305,
          7.25339018967103,
          7.257211255366211,
          7.261028188257845,
          7.2648409883459335,
          7.268649655630476,
          7.272454190111473,
          7.276254591788923,
          7.280050860662828,
          7.2838429967331875,
          7.287631
         ],
         "y": [
          4.825790746971235,
          4.817236389418363,
          4.808705401570524,
          4.800197783427719,
          4.791713534989947,
          4.7832526562572095,
          4.774815147229505,
          4.766401007906834,
          4.758010238289197,
          4.749642838376594,
          4.741298808169024,
          4.732978147666487,
          4.724680856868985,
          4.716406935776515,
          4.7081563843890795,
          4.699929202706678,
          4.691725390729309,
          4.683544948456975,
          4.675387875889673,
          4.667254173027406,
          4.659143839870172,
          4.651056876417972,
          4.642993282670805,
          4.634953058628672,
          4.626936204291572,
          4.618942719659506,
          4.610972604732474,
          4.603025859510475,
          4.59510248399351,
          4.587202478181578,
          4.57932584207468,
          4.571472575672815,
          4.5636426789759845,
          4.555836151984187,
          4.548052994697423,
          4.540293207115694,
          4.532556789238997,
          4.524843741067334,
          4.517154062600705,
          4.509487753839109,
          4.501844814782547,
          4.494225245431019,
          4.486629045784524,
          4.4790562158430625,
          4.471506755606635,
          4.4639806650752405,
          4.45647794424888,
          4.448998593127554,
          4.44154261171126,
          4.43411
         ]
        }
       ],
       "layout": {
        "autosize": true,
        "template": {
         "data": {
          "bar": [
           {
            "error_x": {
             "color": "#2a3f5f"
            },
            "error_y": {
             "color": "#2a3f5f"
            },
            "marker": {
             "line": {
              "color": "#E5ECF6",
              "width": 0.5
             },
             "pattern": {
              "fillmode": "overlay",
              "size": 10,
              "solidity": 0.2
             }
            },
            "type": "bar"
           }
          ],
          "barpolar": [
           {
            "marker": {
             "line": {
              "color": "#E5ECF6",
              "width": 0.5
             },
             "pattern": {
              "fillmode": "overlay",
              "size": 10,
              "solidity": 0.2
             }
            },
            "type": "barpolar"
           }
          ],
          "carpet": [
           {
            "aaxis": {
             "endlinecolor": "#2a3f5f",
             "gridcolor": "white",
             "linecolor": "white",
             "minorgridcolor": "white",
             "startlinecolor": "#2a3f5f"
            },
            "baxis": {
             "endlinecolor": "#2a3f5f",
             "gridcolor": "white",
             "linecolor": "white",
             "minorgridcolor": "white",
             "startlinecolor": "#2a3f5f"
            },
            "type": "carpet"
           }
          ],
          "choropleth": [
           {
            "colorbar": {
             "outlinewidth": 0,
             "ticks": ""
            },
            "type": "choropleth"
           }
          ],
          "contour": [
           {
            "colorbar": {
             "outlinewidth": 0,
             "ticks": ""
            },
            "colorscale": [
             [
              0,
              "#0d0887"
             ],
             [
              0.1111111111111111,
              "#46039f"
             ],
             [
              0.2222222222222222,
              "#7201a8"
             ],
             [
              0.3333333333333333,
              "#9c179e"
             ],
             [
              0.4444444444444444,
              "#bd3786"
             ],
             [
              0.5555555555555556,
              "#d8576b"
             ],
             [
              0.6666666666666666,
              "#ed7953"
             ],
             [
              0.7777777777777778,
              "#fb9f3a"
             ],
             [
              0.8888888888888888,
              "#fdca26"
             ],
             [
              1,
              "#f0f921"
             ]
            ],
            "type": "contour"
           }
          ],
          "contourcarpet": [
           {
            "colorbar": {
             "outlinewidth": 0,
             "ticks": ""
            },
            "type": "contourcarpet"
           }
          ],
          "heatmap": [
           {
            "colorbar": {
             "outlinewidth": 0,
             "ticks": ""
            },
            "colorscale": [
             [
              0,
              "#0d0887"
             ],
             [
              0.1111111111111111,
              "#46039f"
             ],
             [
              0.2222222222222222,
              "#7201a8"
             ],
             [
              0.3333333333333333,
              "#9c179e"
             ],
             [
              0.4444444444444444,
              "#bd3786"
             ],
             [
              0.5555555555555556,
              "#d8576b"
             ],
             [
              0.6666666666666666,
              "#ed7953"
             ],
             [
              0.7777777777777778,
              "#fb9f3a"
             ],
             [
              0.8888888888888888,
              "#fdca26"
             ],
             [
              1,
              "#f0f921"
             ]
            ],
            "type": "heatmap"
           }
          ],
          "heatmapgl": [
           {
            "colorbar": {
             "outlinewidth": 0,
             "ticks": ""
            },
            "colorscale": [
             [
              0,
              "#0d0887"
             ],
             [
              0.1111111111111111,
              "#46039f"
             ],
             [
              0.2222222222222222,
              "#7201a8"
             ],
             [
              0.3333333333333333,
              "#9c179e"
             ],
             [
              0.4444444444444444,
              "#bd3786"
             ],
             [
              0.5555555555555556,
              "#d8576b"
             ],
             [
              0.6666666666666666,
              "#ed7953"
             ],
             [
              0.7777777777777778,
              "#fb9f3a"
             ],
             [
              0.8888888888888888,
              "#fdca26"
             ],
             [
              1,
              "#f0f921"
             ]
            ],
            "type": "heatmapgl"
           }
          ],
          "histogram": [
           {
            "marker": {
             "pattern": {
              "fillmode": "overlay",
              "size": 10,
              "solidity": 0.2
             }
            },
            "type": "histogram"
           }
          ],
          "histogram2d": [
           {
            "colorbar": {
             "outlinewidth": 0,
             "ticks": ""
            },
            "colorscale": [
             [
              0,
              "#0d0887"
             ],
             [
              0.1111111111111111,
              "#46039f"
             ],
             [
              0.2222222222222222,
              "#7201a8"
             ],
             [
              0.3333333333333333,
              "#9c179e"
             ],
             [
              0.4444444444444444,
              "#bd3786"
             ],
             [
              0.5555555555555556,
              "#d8576b"
             ],
             [
              0.6666666666666666,
              "#ed7953"
             ],
             [
              0.7777777777777778,
              "#fb9f3a"
             ],
             [
              0.8888888888888888,
              "#fdca26"
             ],
             [
              1,
              "#f0f921"
             ]
            ],
            "type": "histogram2d"
           }
          ],
          "histogram2dcontour": [
           {
            "colorbar": {
             "outlinewidth": 0,
             "ticks": ""
            },
            "colorscale": [
             [
              0,
              "#0d0887"
             ],
             [
              0.1111111111111111,
              "#46039f"
             ],
             [
              0.2222222222222222,
              "#7201a8"
             ],
             [
              0.3333333333333333,
              "#9c179e"
             ],
             [
              0.4444444444444444,
              "#bd3786"
             ],
             [
              0.5555555555555556,
              "#d8576b"
             ],
             [
              0.6666666666666666,
              "#ed7953"
             ],
             [
              0.7777777777777778,
              "#fb9f3a"
             ],
             [
              0.8888888888888888,
              "#fdca26"
             ],
             [
              1,
              "#f0f921"
             ]
            ],
            "type": "histogram2dcontour"
           }
          ],
          "mesh3d": [
           {
            "colorbar": {
             "outlinewidth": 0,
             "ticks": ""
            },
            "type": "mesh3d"
           }
          ],
          "parcoords": [
           {
            "line": {
             "colorbar": {
              "outlinewidth": 0,
              "ticks": ""
             }
            },
            "type": "parcoords"
           }
          ],
          "pie": [
           {
            "automargin": true,
            "type": "pie"
           }
          ],
          "scatter": [
           {
            "fillpattern": {
             "fillmode": "overlay",
             "size": 10,
             "solidity": 0.2
            },
            "type": "scatter"
           }
          ],
          "scatter3d": [
           {
            "line": {
             "colorbar": {
              "outlinewidth": 0,
              "ticks": ""
             }
            },
            "marker": {
             "colorbar": {
              "outlinewidth": 0,
              "ticks": ""
             }
            },
            "type": "scatter3d"
           }
          ],
          "scattercarpet": [
           {
            "marker": {
             "colorbar": {
              "outlinewidth": 0,
              "ticks": ""
             }
            },
            "type": "scattercarpet"
           }
          ],
          "scattergeo": [
           {
            "marker": {
             "colorbar": {
              "outlinewidth": 0,
              "ticks": ""
             }
            },
            "type": "scattergeo"
           }
          ],
          "scattergl": [
           {
            "marker": {
             "colorbar": {
              "outlinewidth": 0,
              "ticks": ""
             }
            },
            "type": "scattergl"
           }
          ],
          "scattermapbox": [
           {
            "marker": {
             "colorbar": {
              "outlinewidth": 0,
              "ticks": ""
             }
            },
            "type": "scattermapbox"
           }
          ],
          "scatterpolar": [
           {
            "marker": {
             "colorbar": {
              "outlinewidth": 0,
              "ticks": ""
             }
            },
            "type": "scatterpolar"
           }
          ],
          "scatterpolargl": [
           {
            "marker": {
             "colorbar": {
              "outlinewidth": 0,
              "ticks": ""
             }
            },
            "type": "scatterpolargl"
           }
          ],
          "scatterternary": [
           {
            "marker": {
             "colorbar": {
              "outlinewidth": 0,
              "ticks": ""
             }
            },
            "type": "scatterternary"
           }
          ],
          "surface": [
           {
            "colorbar": {
             "outlinewidth": 0,
             "ticks": ""
            },
            "colorscale": [
             [
              0,
              "#0d0887"
             ],
             [
              0.1111111111111111,
              "#46039f"
             ],
             [
              0.2222222222222222,
              "#7201a8"
             ],
             [
              0.3333333333333333,
              "#9c179e"
             ],
             [
              0.4444444444444444,
              "#bd3786"
             ],
             [
              0.5555555555555556,
              "#d8576b"
             ],
             [
              0.6666666666666666,
              "#ed7953"
             ],
             [
              0.7777777777777778,
              "#fb9f3a"
             ],
             [
              0.8888888888888888,
              "#fdca26"
             ],
             [
              1,
              "#f0f921"
             ]
            ],
            "type": "surface"
           }
          ],
          "table": [
           {
            "cells": {
             "fill": {
              "color": "#EBF0F8"
             },
             "line": {
              "color": "white"
             }
            },
            "header": {
             "fill": {
              "color": "#C8D4E3"
             },
             "line": {
              "color": "white"
             }
            },
            "type": "table"
           }
          ]
         },
         "layout": {
          "annotationdefaults": {
           "arrowcolor": "#2a3f5f",
           "arrowhead": 0,
           "arrowwidth": 1
          },
          "autotypenumbers": "strict",
          "coloraxis": {
           "colorbar": {
            "outlinewidth": 0,
            "ticks": ""
           }
          },
          "colorscale": {
           "diverging": [
            [
             0,
             "#8e0152"
            ],
            [
             0.1,
             "#c51b7d"
            ],
            [
             0.2,
             "#de77ae"
            ],
            [
             0.3,
             "#f1b6da"
            ],
            [
             0.4,
             "#fde0ef"
            ],
            [
             0.5,
             "#f7f7f7"
            ],
            [
             0.6,
             "#e6f5d0"
            ],
            [
             0.7,
             "#b8e186"
            ],
            [
             0.8,
             "#7fbc41"
            ],
            [
             0.9,
             "#4d9221"
            ],
            [
             1,
             "#276419"
            ]
           ],
           "sequential": [
            [
             0,
             "#0d0887"
            ],
            [
             0.1111111111111111,
             "#46039f"
            ],
            [
             0.2222222222222222,
             "#7201a8"
            ],
            [
             0.3333333333333333,
             "#9c179e"
            ],
            [
             0.4444444444444444,
             "#bd3786"
            ],
            [
             0.5555555555555556,
             "#d8576b"
            ],
            [
             0.6666666666666666,
             "#ed7953"
            ],
            [
             0.7777777777777778,
             "#fb9f3a"
            ],
            [
             0.8888888888888888,
             "#fdca26"
            ],
            [
             1,
             "#f0f921"
            ]
           ],
           "sequentialminus": [
            [
             0,
             "#0d0887"
            ],
            [
             0.1111111111111111,
             "#46039f"
            ],
            [
             0.2222222222222222,
             "#7201a8"
            ],
            [
             0.3333333333333333,
             "#9c179e"
            ],
            [
             0.4444444444444444,
             "#bd3786"
            ],
            [
             0.5555555555555556,
             "#d8576b"
            ],
            [
             0.6666666666666666,
             "#ed7953"
            ],
            [
             0.7777777777777778,
             "#fb9f3a"
            ],
            [
             0.8888888888888888,
             "#fdca26"
            ],
            [
             1,
             "#f0f921"
            ]
           ]
          },
          "colorway": [
           "#636efa",
           "#EF553B",
           "#00cc96",
           "#ab63fa",
           "#FFA15A",
           "#19d3f3",
           "#FF6692",
           "#B6E880",
           "#FF97FF",
           "#FECB52"
          ],
          "font": {
           "color": "#2a3f5f"
          },
          "geo": {
           "bgcolor": "white",
           "lakecolor": "white",
           "landcolor": "#E5ECF6",
           "showlakes": true,
           "showland": true,
           "subunitcolor": "white"
          },
          "hoverlabel": {
           "align": "left"
          },
          "hovermode": "closest",
          "mapbox": {
           "style": "light"
          },
          "paper_bgcolor": "white",
          "plot_bgcolor": "#E5ECF6",
          "polar": {
           "angularaxis": {
            "gridcolor": "white",
            "linecolor": "white",
            "ticks": ""
           },
           "bgcolor": "#E5ECF6",
           "radialaxis": {
            "gridcolor": "white",
            "linecolor": "white",
            "ticks": ""
           }
          },
          "scene": {
           "xaxis": {
            "backgroundcolor": "#E5ECF6",
            "gridcolor": "white",
            "gridwidth": 2,
            "linecolor": "white",
            "showbackground": true,
            "ticks": "",
            "zerolinecolor": "white"
           },
           "yaxis": {
            "backgroundcolor": "#E5ECF6",
            "gridcolor": "white",
            "gridwidth": 2,
            "linecolor": "white",
            "showbackground": true,
            "ticks": "",
            "zerolinecolor": "white"
           },
           "zaxis": {
            "backgroundcolor": "#E5ECF6",
            "gridcolor": "white",
            "gridwidth": 2,
            "linecolor": "white",
            "showbackground": true,
            "ticks": "",
            "zerolinecolor": "white"
           }
          },
          "shapedefaults": {
           "line": {
            "color": "#2a3f5f"
           }
          },
          "ternary": {
           "aaxis": {
            "gridcolor": "white",
            "linecolor": "white",
            "ticks": ""
           },
           "baxis": {
            "gridcolor": "white",
            "linecolor": "white",
            "ticks": ""
           },
           "bgcolor": "#E5ECF6",
           "caxis": {
            "gridcolor": "white",
            "linecolor": "white",
            "ticks": ""
           }
          },
          "title": {
           "x": 0.05
          },
          "xaxis": {
           "automargin": true,
           "gridcolor": "white",
           "linecolor": "white",
           "ticks": "",
           "title": {
            "standoff": 15
           },
           "zerolinecolor": "white",
           "zerolinewidth": 2
          },
          "yaxis": {
           "automargin": true,
           "gridcolor": "white",
           "linecolor": "white",
           "ticks": "",
           "title": {
            "standoff": 15
           },
           "zerolinecolor": "white",
           "zerolinewidth": 2
          }
         }
        },
        "xaxis": {
         "autorange": true,
         "range": [
          6.763005,
          7.439422
         ],
         "type": "linear"
        },
        "yaxis": {
         "autorange": true,
         "range": [
          3.8589724611650484,
          7.023196538834952
         ],
         "type": "linear"
        }
       }
      },
      "image/png": "[encoded data removed]",
      "text/html": [
       "<div>                            <div id=\"09bf0634-c3da-4664-bf11-5f938532ab24\" class=\"plotly-graph-div\" style=\"height:525px; width:100%;\"></div>            <script type=\"text/javascript\">                require([\"plotly\"], function(Plotly) {                    window.PLOTLYENV=window.PLOTLYENV || {};                                    if (document.getElementById(\"09bf0634-c3da-4664-bf11-5f938532ab24\")) {                    Plotly.newPlot(                        \"09bf0634-c3da-4664-bf11-5f938532ab24\",                        [{\"name\":\"main root\",\"x\":[7.014674,7.068931,7.097697,7.102405,7.096509,7.078003,7.057387,7.064473,7.056801,7.045027,7.03578,7.053914,7.058697,7.050602,7.021744],\"y\":[4.083105,4.391064,4.580238,4.699361,4.817372,4.93411,5.050687,5.168109,5.286132,5.443573,5.623435,5.801408,5.991669,6.214376,6.799064],\"type\":\"scatter\"},{\"mode\":\"lines\",\"name\":\"0.31060960169400276\",\"x\":[6.763005,6.768420693811883,6.773858091456776,6.779317192934677,6.784797998245587,6.790300507389505,6.795824720366431,6.801370637176366,6.80693825781931,6.812527582295262,6.8181386106042225,6.823771342746191,6.829425778721169,6.835101918529155,6.84079976217015,6.846519309644153,6.852260560951164,6.858023516091184,6.863808175064213,6.86961453787025,6.875442604509296,6.881292374981349,6.887163849286412,6.893057027424483,6.898971909395563,6.904908495199651,6.910866784836747,6.916846778306852,6.922848475609966,6.928871876746088,6.934916981715219,6.9409837905173575,6.947072303152505,6.953182519620661,6.959314439921826,6.965468064055999,6.97164339202318,6.977840423823371,6.984059159456569,6.9902995989227765,6.996561742221992,7.002845589354217,7.009151140319449,7.0154783951176904,7.0218273537489395,7.028198016213198,7.034590382510465,7.04100445264074,7.0474402266040235,7.053897704400315],\"y\":[4.337383,4.333035362496611,4.328830456026579,4.324768280589904,4.320848836186586,4.317072122816626,4.313438140480022,4.309946889176775,4.306598368906886,4.303392579670354,4.300329521467178,4.2974091942973605,4.294631598160899,4.291996733057796,4.2895045989880485,4.28715519595166,4.284948523948627,4.2828845829789515,4.280963373042633,4.2791848941396715,4.277549146270068,4.276056129433821,4.27470584363093,4.273498288861398,4.272433465125222,4.271511372422403,4.270732010752941,4.270095380116837,4.2696014805140905,4.2692503119447,4.269041874408667,4.268976167905991,4.2690531924366715,4.26927294800071,4.269635434598105,4.270140652228858,4.270788600892967,4.271579280590434,4.272512691321258,4.273588833085438,4.274807705882976,4.276169309713872,4.277673644578123,4.279320710475733,4.281110507406699,4.283043035371023,4.285118294368703,4.287336284399741,4.289697005464135,4.292200457561887],\"type\":\"scatter\"},{\"mode\":\"lines\",\"name\":\"0.46673136243388197\",\"x\":[7.107893912576261,7.114858042640115,7.1218139122569415,7.12876152142674,7.13570087014951,7.142631958425252,7.149554786253965,7.156469353635651,7.163375660570308,7.170273707057937,7.177163493098538,7.184045018692111,7.190918283838656,7.197783288538172,7.20464003279066,7.211488516596121,7.218328739954552,7.225160702865956,7.231984405330332,7.238799847347679,7.245607028917998,7.25240595004129,7.259196610717552,7.265979010946787,7.2727531507289935,7.279519030064172,7.286276648952322,7.293026007393444,7.299767105387538,7.306499942934604,7.313224520034641,7.319940836687651,7.3266488928936315,7.333348688652585,7.340040223964509,7.346723498829406,7.353398513247274,7.360065267218115,7.366723760741927,7.373373993818711,7.380015966448466,7.386649678631194,7.393275130366893,7.399892321655565,7.406501252497208,7.413101922891823,7.419694332839409,7.426278482339968,7.432854371393498,7.439422],\"y\":[4.589498031540513,4.579031221789484,4.568729748472349,4.558593611589108,4.548622811139763,4.538817347124311,4.529177219542755,4.519702428395092,4.510392973681324,4.501248855401451,4.492270073555472,4.483456628143388,4.474808519165198,4.466325746620903,4.458008310510502,4.449856210833996,4.441869447591384,4.434048020782667,4.426391930407844,4.418901176466915,4.411575758959882,4.404415677886742,4.3974209332474965,4.390591525042146,4.38392745327069,4.377428717933129,4.371095319029462,4.36492725655969,4.358924530523812,4.3530871409218275,4.347415087753739,4.341908371019544,4.336566990719245,4.331390946852839,4.3263802394203275,4.321534868421711,4.316854833856989,4.312340135726162,4.3079907740292285,4.303806748766189,4.299788059937045,4.295934707541796,4.2922466915804405,4.28872401205298,4.285366668959414,4.2821746622997425,4.279147992073965,4.276286658282082,4.273590660924094,4.27106],\"type\":\"scatter\"},{\"mode\":\"lines\",\"name\":\"0.4355615947021112\",\"x\":[7.097158662956166,7.101145040793183,7.105127285826654,7.109105398056579,7.113079377482959,7.117049224105792,7.12101493792508,7.124976518940821,7.128933967153016,7.132887282561667,7.13683646516677,7.140781514968328,7.14472243196634,7.148659216160806,7.152591867551726,7.1565203861391,7.160444771922928,7.16436502490321,7.1682811450799475,7.172193132453137,7.1761009870227825,7.180004708788881,7.183904297751433,7.187799753910441,7.191691077265902,7.195578267817816,7.199461325566185,7.203340250511008,7.207215042652286,7.211085701990017,7.2149522285242025,7.2188146222548415,7.222672883181936,7.226527011305483,7.230377006625485,7.234222869141941,7.238064598854851,7.241902195764214,7.245735659870032,7.249564991172305,7.25339018967103,7.257211255366211,7.261028188257845,7.2648409883459335,7.268649655630476,7.272454190111473,7.276254591788923,7.280050860662828,7.2838429967331875,7.287631],\"y\":[4.825790746971235,4.817236389418363,4.808705401570524,4.800197783427719,4.791713534989947,4.7832526562572095,4.774815147229505,4.766401007906834,4.758010238289197,4.749642838376594,4.741298808169024,4.732978147666487,4.724680856868985,4.716406935776515,4.7081563843890795,4.699929202706678,4.691725390729309,4.683544948456975,4.675387875889673,4.667254173027406,4.659143839870172,4.651056876417972,4.642993282670805,4.634953058628672,4.626936204291572,4.618942719659506,4.610972604732474,4.603025859510475,4.59510248399351,4.587202478181578,4.57932584207468,4.571472575672815,4.5636426789759845,4.555836151984187,4.548052994697423,4.540293207115694,4.532556789238997,4.524843741067334,4.517154062600705,4.509487753839109,4.501844814782547,4.494225245431019,4.486629045784524,4.4790562158430625,4.471506755606635,4.4639806650752405,4.45647794424888,4.448998593127554,4.44154261171126,4.43411],\"type\":\"scatter\"}],                        {\"template\":{\"data\":{\"histogram2dcontour\":[{\"type\":\"histogram2dcontour\",\"colorbar\":{\"outlinewidth\":0,\"ticks\":\"\"},\"colorscale\":[[0.0,\"#0d0887\"],[0.1111111111111111,\"#46039f\"],[0.2222222222222222,\"#7201a8\"],[0.3333333333333333,\"#9c179e\"],[0.4444444444444444,\"#bd3786\"],[0.5555555555555556,\"#d8576b\"],[0.6666666666666666,\"#ed7953\"],[0.7777777777777778,\"#fb9f3a\"],[0.8888888888888888,\"#fdca26\"],[1.0,\"#f0f921\"]]}],\"choropleth\":[{\"type\":\"choropleth\",\"colorbar\":{\"outlinewidth\":0,\"ticks\":\"\"}}],\"histogram2d\":[{\"type\":\"histogram2d\",\"colorbar\":{\"outlinewidth\":0,\"ticks\":\"\"},\"colorscale\":[[0.0,\"#0d0887\"],[0.1111111111111111,\"#46039f\"],[0.2222222222222222,\"#7201a8\"],[0.3333333333333333,\"#9c179e\"],[0.4444444444444444,\"#bd3786\"],[0.5555555555555556,\"#d8576b\"],[0.6666666666666666,\"#ed7953\"],[0.7777777777777778,\"#fb9f3a\"],[0.8888888888888888,\"#fdca26\"],[1.0,\"#f0f921\"]]}],\"heatmap\":[{\"type\":\"heatmap\",\"colorbar\":{\"outlinewidth\":0,\"ticks\":\"\"},\"colorscale\":[[0.0,\"#0d0887\"],[0.1111111111111111,\"#46039f\"],[0.2222222222222222,\"#7201a8\"],[0.3333333333333333,\"#9c179e\"],[0.4444444444444444,\"#bd3786\"],[0.5555555555555556,\"#d8576b\"],[0.6666666666666666,\"#ed7953\"],[0.7777777777777778,\"#fb9f3a\"],[0.8888888888888888,\"#fdca26\"],[1.0,\"#f0f921\"]]}],\"heatmapgl\":[{\"type\":\"heatmapgl\",\"colorbar\":{\"outlinewidth\":0,\"ticks\":\"\"},\"colorscale\":[[0.0,\"#0d0887\"],[0.1111111111111111,\"#46039f\"],[0.2222222222222222,\"#7201a8\"],[0.3333333333333333,\"#9c179e\"],[0.4444444444444444,\"#bd3786\"],[0.5555555555555556,\"#d8576b\"],[0.6666666666666666,\"#ed7953\"],[0.7777777777777778,\"#fb9f3a\"],[0.8888888888888888,\"#fdca26\"],[1.0,\"#f0f921\"]]}],\"contourcarpet\":[{\"type\":\"contourcarpet\",\"colorbar\":{\"outlinewidth\":0,\"ticks\":\"\"}}],\"contour\":[{\"type\":\"contour\",\"colorbar\":{\"outlinewidth\":0,\"ticks\":\"\"},\"colorscale\":[[0.0,\"#0d0887\"],[0.1111111111111111,\"#46039f\"],[0.2222222222222222,\"#7201a8\"],[0.3333333333333333,\"#9c179e\"],[0.4444444444444444,\"#bd3786\"],[0.5555555555555556,\"#d8576b\"],[0.6666666666666666,\"#ed7953\"],[0.7777777777777778,\"#fb9f3a\"],[0.8888888888888888,\"#fdca26\"],[1.0,\"#f0f921\"]]}],\"surface\":[{\"type\":\"surface\",\"colorbar\":{\"outlinewidth\":0,\"ticks\":\"\"},\"colorscale\":[[0.0,\"#0d0887\"],[0.1111111111111111,\"#46039f\"],[0.2222222222222222,\"#7201a8\"],[0.3333333333333333,\"#9c179e\"],[0.4444444444444444,\"#bd3786\"],[0.5555555555555556,\"#d8576b\"],[0.6666666666666666,\"#ed7953\"],[0.7777777777777778,\"#fb9f3a\"],[0.8888888888888888,\"#fdca26\"],[1.0,\"#f0f921\"]]}],\"mesh3d\":[{\"type\":\"mesh3d\",\"colorbar\":{\"outlinewidth\":0,\"ticks\":\"\"}}],\"scatter\":[{\"fillpattern\":{\"fillmode\":\"overlay\",\"size\":10,\"solidity\":0.2},\"type\":\"scatter\"}],\"parcoords\":[{\"type\":\"parcoords\",\"line\":{\"colorbar\":{\"outlinewidth\":0,\"ticks\":\"\"}}}],\"scatterpolargl\":[{\"type\":\"scatterpolargl\",\"marker\":{\"colorbar\":{\"outlinewidth\":0,\"ticks\":\"\"}}}],\"bar\":[{\"error_x\":{\"color\":\"#2a3f5f\"},\"error_y\":{\"color\":\"#2a3f5f\"},\"marker\":{\"line\":{\"color\":\"#E5ECF6\",\"width\":0.5},\"pattern\":{\"fillmode\":\"overlay\",\"size\":10,\"solidity\":0.2}},\"type\":\"bar\"}],\"scattergeo\":[{\"type\":\"scattergeo\",\"marker\":{\"colorbar\":{\"outlinewidth\":0,\"ticks\":\"\"}}}],\"scatterpolar\":[{\"type\":\"scatterpolar\",\"marker\":{\"colorbar\":{\"outlinewidth\":0,\"ticks\":\"\"}}}],\"histogram\":[{\"marker\":{\"pattern\":{\"fillmode\":\"overlay\",\"size\":10,\"solidity\":0.2}},\"type\":\"histogram\"}],\"scattergl\":[{\"type\":\"scattergl\",\"marker\":{\"colorbar\":{\"outlinewidth\":0,\"ticks\":\"\"}}}],\"scatter3d\":[{\"type\":\"scatter3d\",\"line\":{\"colorbar\":{\"outlinewidth\":0,\"ticks\":\"\"}},\"marker\":{\"colorbar\":{\"outlinewidth\":0,\"ticks\":\"\"}}}],\"scattermapbox\":[{\"type\":\"scattermapbox\",\"marker\":{\"colorbar\":{\"outlinewidth\":0,\"ticks\":\"\"}}}],\"scatterternary\":[{\"type\":\"scatterternary\",\"marker\":{\"colorbar\":{\"outlinewidth\":0,\"ticks\":\"\"}}}],\"scattercarpet\":[{\"type\":\"scattercarpet\",\"marker\":{\"colorbar\":{\"outlinewidth\":0,\"ticks\":\"\"}}}],\"carpet\":[{\"aaxis\":{\"endlinecolor\":\"#2a3f5f\",\"gridcolor\":\"white\",\"linecolor\":\"white\",\"minorgridcolor\":\"white\",\"startlinecolor\":\"#2a3f5f\"},\"baxis\":{\"endlinecolor\":\"#2a3f5f\",\"gridcolor\":\"white\",\"linecolor\":\"white\",\"minorgridcolor\":\"white\",\"startlinecolor\":\"#2a3f5f\"},\"type\":\"carpet\"}],\"table\":[{\"cells\":{\"fill\":{\"color\":\"#EBF0F8\"},\"line\":{\"color\":\"white\"}},\"header\":{\"fill\":{\"color\":\"#C8D4E3\"},\"line\":{\"color\":\"white\"}},\"type\":\"table\"}],\"barpolar\":[{\"marker\":{\"line\":{\"color\":\"#E5ECF6\",\"width\":0.5},\"pattern\":{\"fillmode\":\"overlay\",\"size\":10,\"solidity\":0.2}},\"type\":\"barpolar\"}],\"pie\":[{\"automargin\":true,\"type\":\"pie\"}]},\"layout\":{\"autotypenumbers\":\"strict\",\"colorway\":[\"#636efa\",\"#EF553B\",\"#00cc96\",\"#ab63fa\",\"#FFA15A\",\"#19d3f3\",\"#FF6692\",\"#B6E880\",\"#FF97FF\",\"#FECB52\"],\"font\":{\"color\":\"#2a3f5f\"},\"hovermode\":\"closest\",\"hoverlabel\":{\"align\":\"left\"},\"paper_bgcolor\":\"white\",\"plot_bgcolor\":\"#E5ECF6\",\"polar\":{\"bgcolor\":\"#E5ECF6\",\"angularaxis\":{\"gridcolor\":\"white\",\"linecolor\":\"white\",\"ticks\":\"\"},\"radialaxis\":{\"gridcolor\":\"white\",\"linecolor\":\"white\",\"ticks\":\"\"}},\"ternary\":{\"bgcolor\":\"#E5ECF6\",\"aaxis\":{\"gridcolor\":\"white\",\"linecolor\":\"white\",\"ticks\":\"\"},\"baxis\":{\"gridcolor\":\"white\",\"linecolor\":\"white\",\"ticks\":\"\"},\"caxis\":{\"gridcolor\":\"white\",\"linecolor\":\"white\",\"ticks\":\"\"}},\"coloraxis\":{\"colorbar\":{\"outlinewidth\":0,\"ticks\":\"\"}},\"colorscale\":{\"sequential\":[[0.0,\"#0d0887\"],[0.1111111111111111,\"#46039f\"],[0.2222222222222222,\"#7201a8\"],[0.3333333333333333,\"#9c179e\"],[0.4444444444444444,\"#bd3786\"],[0.5555555555555556,\"#d8576b\"],[0.6666666666666666,\"#ed7953\"],[0.7777777777777778,\"#fb9f3a\"],[0.8888888888888888,\"#fdca26\"],[1.0,\"#f0f921\"]],\"sequentialminus\":[[0.0,\"#0d0887\"],[0.1111111111111111,\"#46039f\"],[0.2222222222222222,\"#7201a8\"],[0.3333333333333333,\"#9c179e\"],[0.4444444444444444,\"#bd3786\"],[0.5555555555555556,\"#d8576b\"],[0.6666666666666666,\"#ed7953\"],[0.7777777777777778,\"#fb9f3a\"],[0.8888888888888888,\"#fdca26\"],[1.0,\"#f0f921\"]],\"diverging\":[[0,\"#8e0152\"],[0.1,\"#c51b7d\"],[0.2,\"#de77ae\"],[0.3,\"#f1b6da\"],[0.4,\"#fde0ef\"],[0.5,\"#f7f7f7\"],[0.6,\"#e6f5d0\"],[0.7,\"#b8e186\"],[0.8,\"#7fbc41\"],[0.9,\"#4d9221\"],[1,\"#276419\"]]},\"xaxis\":{\"gridcolor\":\"white\",\"linecolor\":\"white\",\"ticks\":\"\",\"title\":{\"standoff\":15},\"zerolinecolor\":\"white\",\"automargin\":true,\"zerolinewidth\":2},\"yaxis\":{\"gridcolor\":\"white\",\"linecolor\":\"white\",\"ticks\":\"\",\"title\":{\"standoff\":15},\"zerolinecolor\":\"white\",\"automargin\":true,\"zerolinewidth\":2},\"scene\":{\"xaxis\":{\"backgroundcolor\":\"#E5ECF6\",\"gridcolor\":\"white\",\"linecolor\":\"white\",\"showbackground\":true,\"ticks\":\"\",\"zerolinecolor\":\"white\",\"gridwidth\":2},\"yaxis\":{\"backgroundcolor\":\"#E5ECF6\",\"gridcolor\":\"white\",\"linecolor\":\"white\",\"showbackground\":true,\"ticks\":\"\",\"zerolinecolor\":\"white\",\"gridwidth\":2},\"zaxis\":{\"backgroundcolor\":\"#E5ECF6\",\"gridcolor\":\"white\",\"linecolor\":\"white\",\"showbackground\":true,\"ticks\":\"\",\"zerolinecolor\":\"white\",\"gridwidth\":2}},\"shapedefaults\":{\"line\":{\"color\":\"#2a3f5f\"}},\"annotationdefaults\":{\"arrowcolor\":\"#2a3f5f\",\"arrowhead\":0,\"arrowwidth\":1},\"geo\":{\"bgcolor\":\"white\",\"landcolor\":\"#E5ECF6\",\"subunitcolor\":\"white\",\"showland\":true,\"showlakes\":true,\"lakecolor\":\"white\"},\"title\":{\"x\":0.05},\"mapbox\":{\"style\":\"light\"}}}},                        {\"responsive\": true}                    ).then(function(){\n",
       "                            \n",
       "var gd = document.getElementById('09bf0634-c3da-4664-bf11-5f938532ab24');\n",
       "var x = new MutationObserver(function (mutations, observer) {{\n",
       "        var display = window.getComputedStyle(gd).display;\n",
       "        if (!display || display === 'none') {{\n",
       "            console.log([gd, 'removed!']);\n",
       "            Plotly.purge(gd);\n",
       "            observer.disconnect();\n",
       "        }}\n",
       "}});\n",
       "\n",
       "// Listen for the removal of the full notebook cells\n",
       "var notebookContainer = gd.closest('#notebook-container');\n",
       "if (notebookContainer) {{\n",
       "    x.observe(notebookContainer, {childList: true});\n",
       "}}\n",
       "\n",
       "// Listen for the clearing of the current output cell\n",
       "var outputEl = gd.closest('.output');\n",
       "if (outputEl) {{\n",
       "    x.observe(outputEl, {childList: true});\n",
       "}}\n",
       "\n",
       "                        })                };                });            </script>        </div>"
      ]
     },
     "metadata": {},
     "output_type": "display_data"
    },
    {
     "name": "stdout",
     "output_type": "stream",
     "text": [
      "[['pq', 'length', 'txy'], [[6.763005, 4.337383], 0.31060960169400276, ([7.053897704400315], [4.292200457561887])], [[7.439422, 4.27106], 0.46673136243388197, ([7.107893912576261], [4.589498031540513])], [[7.287631, 4.43411], 0.4355615947021112, ([7.097158662956166], [4.825790746971235])]]\n"
     ]
    }
   ],
   "source": [
    "array = parseData('084_4_C_day1.csv')\n",
    "fig = plotData(array)\n",
    "fig.show()\n",
    "fig2 = go.Figure()\n",
    "G= 2\n",
    "al =1\n",
    "latteralRoots = array[1]\n",
    "MainRootPoints = array[0]\n",
    "trace= plotPoints(MainRootPoints, \"main root\")\n",
    "fig2.add_trace(trace)\n",
    "pqs =[]\n",
    "Info = [[\"pq\", \"length\", \"txy\"]]\n",
    "for root in latteralRoots:\n",
    "    pqs.append(root[-1])\n",
    "for pq in pqs:\n",
    "    DAC = findMostOptimal(MainRootPoints, G,al,pq) #returns length, txy, dplot, raplot\n",
    "    array =[pq, DAC[0], DAC[1]]\n",
    "    Info.append(array)\n",
    "    fig.add_trace(DAC[3])\n",
    "    fig2.add_trace(DAC[3])\n",
    "fig.show()\n",
    "fig2.show()\n",
    "print(Info)"
   ]
  },
  {
   "cell_type": "code",
   "execution_count": null,
   "id": "25a3bade-fee2-4344-8165-400113fa7e9a",
   "metadata": {},
   "outputs": [],
   "source": []
  },
  {
   "cell_type": "code",
   "execution_count": null,
   "id": "adc57939-ee0a-43bf-abcb-5cace1f31a30",
   "metadata": {},
   "outputs": [],
   "source": []
  }
 ],
 "metadata": {
  "kernelspec": {
   "display_name": "Python 3 (ipykernel)",
   "language": "python",
   "name": "python3"
  },
  "language_info": {
   "codemirror_mode": {
    "name": "ipython",
    "version": 3
   },
   "file_extension": ".py",
   "mimetype": "text/x-python",
   "name": "python",
   "nbconvert_exporter": "python",
   "pygments_lexer": "ipython3",
   "version": "3.11.3"
  }
 },
 "nbformat": 4,
 "nbformat_minor": 5
}
