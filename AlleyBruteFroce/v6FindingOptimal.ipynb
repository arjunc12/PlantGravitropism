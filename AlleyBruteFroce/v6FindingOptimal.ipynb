{
 "cells": [
  {
   "cell_type": "code",
   "execution_count": 21,
   "id": "93a18f48-20bc-429f-aa8f-44e16c80d7a2",
   "metadata": {},
   "outputs": [],
   "source": [
    "import matplotlib.pyplot as plt\n",
    "import numpy as np\n",
    "import pylab\n",
    "import scipy\n",
    "import plotly\n",
    "from plotly import graph_objs as go\n",
    "from plotly.offline import iplot, plot, init_notebook_mode\n",
    "# importing librarys"
   ]
  },
  {
   "cell_type": "code",
   "execution_count": 25,
   "id": "224af383-ad0b-4fb8-85a4-ebce2e57bbc1",
   "metadata": {},
   "outputs": [],
   "source": [
    "def parseData(file):\n",
    "    import csv\n",
    "    Data =[]\n",
    "    with open(file) as csv_file:\n",
    "        csv_reader = csv.reader(csv_file, delimiter=',')\n",
    "        for lines in csv_reader:\n",
    "           Data.append(lines)\n",
    "        mainRootPoints =[]\n",
    "        c=1\n",
    "        while len(Data[c]) != 1:\n",
    "            point = [float(Data[c][0]),float(Data[c][1])]\n",
    "            mainRootPoints.append(point)\n",
    "            c= c+1\n",
    "        pqs =[]\n",
    "        pq=[]\n",
    "        c=c+1\n",
    "        while c < len(Data):\n",
    "            if len(Data[c]) ==1:\n",
    "                pqs.append(pq)\n",
    "                pq =[]\n",
    "            if len(Data[c]) ==2:\n",
    "                point = [float(Data[c][0]),float(Data[c][1])]\n",
    "                pq.append(point)\n",
    "            c = c+1\n",
    "        pqs.append(pq)\n",
    "    return (mainRootPoints, pqs)\n",
    "#Making the data into readable segments"
   ]
  },
  {
   "cell_type": "code",
   "execution_count": 26,
   "id": "313a8c9f-2ce8-4547-b6ac-b63aa05cae4e",
   "metadata": {},
   "outputs": [],
   "source": [
    "def plotData(array):\n",
    "    mainRootPoints = array[0]\n",
    "    pqs = array[1]\n",
    "    #print(pqs)\n",
    "    fig = go.Figure()\n",
    "    trace= plotPoints(mainRootPoints, \"main root\")#cell[4]\n",
    "    fig.add_trace(trace)\n",
    "    for pq in pqs:\n",
    "        trace = plotPoints(pq, \"lateral root\") #cell[4]\n",
    "        fig.add_trace(trace)\n",
    "    return (fig)"
   ]
  },
  {
   "cell_type": "code",
   "execution_count": 27,
   "id": "f2b16194-8637-45f1-9f75-aad292a7ab22",
   "metadata": {},
   "outputs": [],
   "source": [
    "def plotPoints(points, name):\n",
    "    xs = []\n",
    "    ys=[]\n",
    "    for i in points:\n",
    "        xs.append(i[0])\n",
    "        ys.append(i[1])\n",
    "    trace1 = go.Scatter(x=xs, y = ys, name = name)\n",
    "    return (trace1)"
   ]
  },
  {
   "cell_type": "code",
   "execution_count": 28,
   "id": "928dd725-4b99-4055-867c-15ce91f84a94",
   "metadata": {},
   "outputs": [],
   "source": [
    "def findMostOptimal(main, G,al,pq):\n",
    "    p = pq[0]\n",
    "    q = pq[1]\n",
    "    point1 = main[0]\n",
    "    point2 = main[1]\n",
    "    CD = 0\n",
    "    bestDAC = findOptimalInSegment(point1, point2,G,al,pq,CD)# cell[6]\n",
    "    #returns length, txy, dplot, raplot\n",
    "    bestLength = bestDAC[0] \n",
    "    for i in range(2, len(main)):\n",
    "        length = findOptimalInSegment(point1, point2,G,al,pq,CD)[0]\n",
    "        if length < bestLength:\n",
    "            bestDAC = findOptimalInSegment(point1, point2,G,al,pq,CD)\n",
    "            #returns length, txy, dplot, raplot,tmax\n",
    "            bestLength = length\n",
    "        CD = CD +findOptimalInSegment(point1, point2,G,al,pq,CD)[4] \n",
    "        point1 = point2\n",
    "        point2 = main[i]\n",
    "    return (bestDAC)"
   ]
  },
  {
   "cell_type": "code",
   "execution_count": 29,
   "id": "e60e55e4-c406-402d-8140-12a4ee7bca0c",
   "metadata": {},
   "outputs": [],
   "source": [
    "def findOptimalInSegment(point1, point2,G,al,pq,CD):\n",
    "    a =point1[0]\n",
    "    b= point1[1]\n",
    "    c= point2[0]\n",
    "    d = point2[1]\n",
    "    p=pq[0]\n",
    "    q=pq[1]\n",
    "    theta = findTheta (a,b,c,d) # cell[7]\n",
    "    ArrayDAC = deAngleCurve(G,al,p,q,theta,a,b,c,d,CD) #cell[8]\n",
    "    #returns length, txy, dplot, raplot,tmax\n",
    "    return ArrayDAC"
   ]
  },
  {
   "cell_type": "code",
   "execution_count": 30,
   "id": "6cabefa6-f678-4c2e-8ea5-6bf5c35d69a0",
   "metadata": {},
   "outputs": [],
   "source": [
    "def findTheta (a,b,c,d):\n",
    "    theta = np.arctan((np.absolute(a-c))/(np.absolute(b-d)))\n",
    "    m = (b-d)/(a-c)\n",
    "    if m > 0:\n",
    "        theta =-theta\n",
    "    return theta"
   ]
  },
  {
   "cell_type": "code",
   "execution_count": 31,
   "id": "aaaae831-8da6-4b2a-b0da-e7a46b43fd48",
   "metadata": {},
   "outputs": [],
   "source": [
    "def deAngleCurve(G,al,p,q,theta,a,b,c,d,CD):\n",
    "    pq = rotateLine([p],[q], theta, c,d)#cell[9]\n",
    "    pn = pq[0][0]\n",
    "    qn = pq[1][0]\n",
    "    tmax = rotateLine([c],[d], theta, a,b)#cell[9]\n",
    "    tmax = tmax[1][0]\n",
    "    best = findBest(tmax, G,pn,qn,al,CD)#cell[10]\n",
    "    #returns bestLength and bestT\n",
    "    dPlotA = plotDeAngle(tmax, G, pn ,qn,best[1])#cell[11]\n",
    "    dPlot = go.Scatter(x = dPlotA[0], y = dPlotA[1], mode= 'lines' , name = str(best[0]))\n",
    "    raPlotA = reAngle(dPlotA[0], dPlotA[1],theta,c,d) #cell[12]\n",
    "    raPlot = go.Scatter(x = raPlotA[0], y = raPlotA[1], mode = 'lines', name = str(best[0]))\n",
    "    txy = reAngle([0],[best[1]], theta,c,d) #cell[12]\n",
    "    return(best[0], txy, dPlot,raPlot,tmax)"
   ]
  },
  {
   "cell_type": "code",
   "execution_count": 32,
   "id": "91456346-0020-46bc-ba0f-fe3e3951d5ea",
   "metadata": {},
   "outputs": [],
   "source": [
    "def rotateLine(xs,ys,theta,a,b):\n",
    "    nx=[]\n",
    "    ny=[]\n",
    "    R = [[np.cos(theta), -np.sin(theta)],[np.sin(theta), np.cos(theta)]]\n",
    "    for i in range(0,len(xs)):\n",
    "        A =[xs[i]-a,ys[i]-b]\n",
    "        xy=np.array(np.matmul(A,R))\n",
    "        nx.append(xy[0])\n",
    "        ny.append(xy[1])\n",
    "    return(nx, ny)"
   ]
  },
  {
   "cell_type": "code",
   "execution_count": 33,
   "id": "943c3d1e-ba77-4679-8436-b1eef6a496cd",
   "metadata": {},
   "outputs": [],
   "source": [
    "def findBest(Tmax,G,p,q,a,CD):\n",
    "    t=0\n",
    "    Tmax = -Tmax\n",
    "    bestLength= 100000000000000000000.0\n",
    "    bestT = t\n",
    "    while t >= Tmax:\n",
    "        b = (q - G * (p**2) - t)/p\n",
    "        if p>0:\n",
    "            x =np.linspace(0, p, num=50)\n",
    "        elif p < 0:\n",
    "            x =np.linspace(p, 0, num=50)\n",
    "        lot = np.sqrt(1+(2*G*x + ((q-G*(p**2)-t)/p))**2)\n",
    "        lot = scipy.integrate.trapezoid(lot,x)\n",
    "        y= a*(lot) +(1-a)*(lot+CD+t)\n",
    "        length = y\n",
    "        if length < bestLength:\n",
    "            bestLength = length\n",
    "            bestT = t\n",
    "        t = t - 0.001 #last \n",
    "    #print(\"length: \" + str(bestLength) +\" t= \" + str(bestT))\n",
    "    return(bestLength,bestT)"
   ]
  },
  {
   "cell_type": "code",
   "execution_count": 34,
   "id": "1aa6e7d6-e83d-4dfe-b416-61df1d12bcbf",
   "metadata": {},
   "outputs": [],
   "source": [
    "def plotDeAngle (tmax,G,p,q,t):\n",
    "    x = np.linspace(0,p)\n",
    "    if p <0:\n",
    "        x = np.linspace(p,0)\n",
    "    b=(q - G*(p**2) -t)/p\n",
    "    y=G * x**2 + b*x + t\n",
    "    return (x,y)"
   ]
  },
  {
   "cell_type": "code",
   "execution_count": 35,
   "id": "d4923f00-0ab8-4c86-b095-4684f8232b1c",
   "metadata": {},
   "outputs": [],
   "source": [
    "def reAngle(xs, ys, theta, a,b):\n",
    "    nx =[]\n",
    "    ny=[]\n",
    "    R = [[np.cos(theta), -np.sin(theta)],[np.sin(theta), np.cos(theta)]]\n",
    "    inR = np.linalg.inv(R)\n",
    "    ab= [a,b]\n",
    "    for i in range(0, len(xs)):\n",
    "        Ap = [xs[i],ys[i]]\n",
    "        App = np.matmul(Ap,inR)\n",
    "        xy=np.array(np.add(App,ab))\n",
    "        nx.append(xy[0])\n",
    "        ny.append(xy[1])\n",
    "    return(nx, ny)"
   ]
  },
  {
   "cell_type": "code",
   "execution_count": 36,
   "id": "b178a563-e1aa-4190-9e58-746e99d1366c",
   "metadata": {},
   "outputs": [
    {
     "data": {
      "application/vnd.plotly.v1+json": {
       "config": {
        "plotlyServerURL": "https://plot.ly"
       },
       "data": [
        {
         "name": "main root",
         "type": "scatter",
         "x": [
          7.014674,
          7.068931,
          7.097697,
          7.102405,
          7.096509,
          7.078003,
          7.057387,
          7.064473,
          7.056801,
          7.045027,
          7.03578,
          7.053914,
          7.058697,
          7.050602,
          7.021744
         ],
         "y": [
          4.083105,
          4.391064,
          4.580238,
          4.699361,
          4.817372,
          4.93411,
          5.050687,
          5.168109,
          5.286132,
          5.443573,
          5.623435,
          5.801408,
          5.991669,
          6.214376,
          6.799064
         ]
        },
        {
         "name": "lateral root",
         "type": "scatter",
         "x": [
          7.03248,
          6.921742,
          6.763005
         ],
         "y": [
          4.136673,
          4.219422,
          4.337383
         ]
        },
        {
         "name": "lateral root",
         "type": "scatter",
         "x": [
          7.065898,
          7.312281,
          7.439422
         ],
         "y": [
          4.198863,
          4.231294,
          4.27106
         ]
        },
        {
         "name": "lateral root",
         "type": "scatter",
         "x": [
          7.125593,
          7.182462,
          7.287631
         ],
         "y": [
          4.363359,
          4.368823,
          4.43411
         ]
        }
       ],
       "layout": {
        "autosize": true,
        "template": {
         "data": {
          "bar": [
           {
            "error_x": {
             "color": "#2a3f5f"
            },
            "error_y": {
             "color": "#2a3f5f"
            },
            "marker": {
             "line": {
              "color": "#E5ECF6",
              "width": 0.5
             },
             "pattern": {
              "fillmode": "overlay",
              "size": 10,
              "solidity": 0.2
             }
            },
            "type": "bar"
           }
          ],
          "barpolar": [
           {
            "marker": {
             "line": {
              "color": "#E5ECF6",
              "width": 0.5
             },
             "pattern": {
              "fillmode": "overlay",
              "size": 10,
              "solidity": 0.2
             }
            },
            "type": "barpolar"
           }
          ],
          "carpet": [
           {
            "aaxis": {
             "endlinecolor": "#2a3f5f",
             "gridcolor": "white",
             "linecolor": "white",
             "minorgridcolor": "white",
             "startlinecolor": "#2a3f5f"
            },
            "baxis": {
             "endlinecolor": "#2a3f5f",
             "gridcolor": "white",
             "linecolor": "white",
             "minorgridcolor": "white",
             "startlinecolor": "#2a3f5f"
            },
            "type": "carpet"
           }
          ],
          "choropleth": [
           {
            "colorbar": {
             "outlinewidth": 0,
             "ticks": ""
            },
            "type": "choropleth"
           }
          ],
          "contour": [
           {
            "colorbar": {
             "outlinewidth": 0,
             "ticks": ""
            },
            "colorscale": [
             [
              0,
              "#0d0887"
             ],
             [
              0.1111111111111111,
              "#46039f"
             ],
             [
              0.2222222222222222,
              "#7201a8"
             ],
             [
              0.3333333333333333,
              "#9c179e"
             ],
             [
              0.4444444444444444,
              "#bd3786"
             ],
             [
              0.5555555555555556,
              "#d8576b"
             ],
             [
              0.6666666666666666,
              "#ed7953"
             ],
             [
              0.7777777777777778,
              "#fb9f3a"
             ],
             [
              0.8888888888888888,
              "#fdca26"
             ],
             [
              1,
              "#f0f921"
             ]
            ],
            "type": "contour"
           }
          ],
          "contourcarpet": [
           {
            "colorbar": {
             "outlinewidth": 0,
             "ticks": ""
            },
            "type": "contourcarpet"
           }
          ],
          "heatmap": [
           {
            "colorbar": {
             "outlinewidth": 0,
             "ticks": ""
            },
            "colorscale": [
             [
              0,
              "#0d0887"
             ],
             [
              0.1111111111111111,
              "#46039f"
             ],
             [
              0.2222222222222222,
              "#7201a8"
             ],
             [
              0.3333333333333333,
              "#9c179e"
             ],
             [
              0.4444444444444444,
              "#bd3786"
             ],
             [
              0.5555555555555556,
              "#d8576b"
             ],
             [
              0.6666666666666666,
              "#ed7953"
             ],
             [
              0.7777777777777778,
              "#fb9f3a"
             ],
             [
              0.8888888888888888,
              "#fdca26"
             ],
             [
              1,
              "#f0f921"
             ]
            ],
            "type": "heatmap"
           }
          ],
          "heatmapgl": [
           {
            "colorbar": {
             "outlinewidth": 0,
             "ticks": ""
            },
            "colorscale": [
             [
              0,
              "#0d0887"
             ],
             [
              0.1111111111111111,
              "#46039f"
             ],
             [
              0.2222222222222222,
              "#7201a8"
             ],
             [
              0.3333333333333333,
              "#9c179e"
             ],
             [
              0.4444444444444444,
              "#bd3786"
             ],
             [
              0.5555555555555556,
              "#d8576b"
             ],
             [
              0.6666666666666666,
              "#ed7953"
             ],
             [
              0.7777777777777778,
              "#fb9f3a"
             ],
             [
              0.8888888888888888,
              "#fdca26"
             ],
             [
              1,
              "#f0f921"
             ]
            ],
            "type": "heatmapgl"
           }
          ],
          "histogram": [
           {
            "marker": {
             "pattern": {
              "fillmode": "overlay",
              "size": 10,
              "solidity": 0.2
             }
            },
            "type": "histogram"
           }
          ],
          "histogram2d": [
           {
            "colorbar": {
             "outlinewidth": 0,
             "ticks": ""
            },
            "colorscale": [
             [
              0,
              "#0d0887"
             ],
             [
              0.1111111111111111,
              "#46039f"
             ],
             [
              0.2222222222222222,
              "#7201a8"
             ],
             [
              0.3333333333333333,
              "#9c179e"
             ],
             [
              0.4444444444444444,
              "#bd3786"
             ],
             [
              0.5555555555555556,
              "#d8576b"
             ],
             [
              0.6666666666666666,
              "#ed7953"
             ],
             [
              0.7777777777777778,
              "#fb9f3a"
             ],
             [
              0.8888888888888888,
              "#fdca26"
             ],
             [
              1,
              "#f0f921"
             ]
            ],
            "type": "histogram2d"
           }
          ],
          "histogram2dcontour": [
           {
            "colorbar": {
             "outlinewidth": 0,
             "ticks": ""
            },
            "colorscale": [
             [
              0,
              "#0d0887"
             ],
             [
              0.1111111111111111,
              "#46039f"
             ],
             [
              0.2222222222222222,
              "#7201a8"
             ],
             [
              0.3333333333333333,
              "#9c179e"
             ],
             [
              0.4444444444444444,
              "#bd3786"
             ],
             [
              0.5555555555555556,
              "#d8576b"
             ],
             [
              0.6666666666666666,
              "#ed7953"
             ],
             [
              0.7777777777777778,
              "#fb9f3a"
             ],
             [
              0.8888888888888888,
              "#fdca26"
             ],
             [
              1,
              "#f0f921"
             ]
            ],
            "type": "histogram2dcontour"
           }
          ],
          "mesh3d": [
           {
            "colorbar": {
             "outlinewidth": 0,
             "ticks": ""
            },
            "type": "mesh3d"
           }
          ],
          "parcoords": [
           {
            "line": {
             "colorbar": {
              "outlinewidth": 0,
              "ticks": ""
             }
            },
            "type": "parcoords"
           }
          ],
          "pie": [
           {
            "automargin": true,
            "type": "pie"
           }
          ],
          "scatter": [
           {
            "fillpattern": {
             "fillmode": "overlay",
             "size": 10,
             "solidity": 0.2
            },
            "type": "scatter"
           }
          ],
          "scatter3d": [
           {
            "line": {
             "colorbar": {
              "outlinewidth": 0,
              "ticks": ""
             }
            },
            "marker": {
             "colorbar": {
              "outlinewidth": 0,
              "ticks": ""
             }
            },
            "type": "scatter3d"
           }
          ],
          "scattercarpet": [
           {
            "marker": {
             "colorbar": {
              "outlinewidth": 0,
              "ticks": ""
             }
            },
            "type": "scattercarpet"
           }
          ],
          "scattergeo": [
           {
            "marker": {
             "colorbar": {
              "outlinewidth": 0,
              "ticks": ""
             }
            },
            "type": "scattergeo"
           }
          ],
          "scattergl": [
           {
            "marker": {
             "colorbar": {
              "outlinewidth": 0,
              "ticks": ""
             }
            },
            "type": "scattergl"
           }
          ],
          "scattermapbox": [
           {
            "marker": {
             "colorbar": {
              "outlinewidth": 0,
              "ticks": ""
             }
            },
            "type": "scattermapbox"
           }
          ],
          "scatterpolar": [
           {
            "marker": {
             "colorbar": {
              "outlinewidth": 0,
              "ticks": ""
             }
            },
            "type": "scatterpolar"
           }
          ],
          "scatterpolargl": [
           {
            "marker": {
             "colorbar": {
              "outlinewidth": 0,
              "ticks": ""
             }
            },
            "type": "scatterpolargl"
           }
          ],
          "scatterternary": [
           {
            "marker": {
             "colorbar": {
              "outlinewidth": 0,
              "ticks": ""
             }
            },
            "type": "scatterternary"
           }
          ],
          "surface": [
           {
            "colorbar": {
             "outlinewidth": 0,
             "ticks": ""
            },
            "colorscale": [
             [
              0,
              "#0d0887"
             ],
             [
              0.1111111111111111,
              "#46039f"
             ],
             [
              0.2222222222222222,
              "#7201a8"
             ],
             [
              0.3333333333333333,
              "#9c179e"
             ],
             [
              0.4444444444444444,
              "#bd3786"
             ],
             [
              0.5555555555555556,
              "#d8576b"
             ],
             [
              0.6666666666666666,
              "#ed7953"
             ],
             [
              0.7777777777777778,
              "#fb9f3a"
             ],
             [
              0.8888888888888888,
              "#fdca26"
             ],
             [
              1,
              "#f0f921"
             ]
            ],
            "type": "surface"
           }
          ],
          "table": [
           {
            "cells": {
             "fill": {
              "color": "#EBF0F8"
             },
             "line": {
              "color": "white"
             }
            },
            "header": {
             "fill": {
              "color": "#C8D4E3"
             },
             "line": {
              "color": "white"
             }
            },
            "type": "table"
           }
          ]
         },
         "layout": {
          "annotationdefaults": {
           "arrowcolor": "#2a3f5f",
           "arrowhead": 0,
           "arrowwidth": 1
          },
          "autotypenumbers": "strict",
          "coloraxis": {
           "colorbar": {
            "outlinewidth": 0,
            "ticks": ""
           }
          },
          "colorscale": {
           "diverging": [
            [
             0,
             "#8e0152"
            ],
            [
             0.1,
             "#c51b7d"
            ],
            [
             0.2,
             "#de77ae"
            ],
            [
             0.3,
             "#f1b6da"
            ],
            [
             0.4,
             "#fde0ef"
            ],
            [
             0.5,
             "#f7f7f7"
            ],
            [
             0.6,
             "#e6f5d0"
            ],
            [
             0.7,
             "#b8e186"
            ],
            [
             0.8,
             "#7fbc41"
            ],
            [
             0.9,
             "#4d9221"
            ],
            [
             1,
             "#276419"
            ]
           ],
           "sequential": [
            [
             0,
             "#0d0887"
            ],
            [
             0.1111111111111111,
             "#46039f"
            ],
            [
             0.2222222222222222,
             "#7201a8"
            ],
            [
             0.3333333333333333,
             "#9c179e"
            ],
            [
             0.4444444444444444,
             "#bd3786"
            ],
            [
             0.5555555555555556,
             "#d8576b"
            ],
            [
             0.6666666666666666,
             "#ed7953"
            ],
            [
             0.7777777777777778,
             "#fb9f3a"
            ],
            [
             0.8888888888888888,
             "#fdca26"
            ],
            [
             1,
             "#f0f921"
            ]
           ],
           "sequentialminus": [
            [
             0,
             "#0d0887"
            ],
            [
             0.1111111111111111,
             "#46039f"
            ],
            [
             0.2222222222222222,
             "#7201a8"
            ],
            [
             0.3333333333333333,
             "#9c179e"
            ],
            [
             0.4444444444444444,
             "#bd3786"
            ],
            [
             0.5555555555555556,
             "#d8576b"
            ],
            [
             0.6666666666666666,
             "#ed7953"
            ],
            [
             0.7777777777777778,
             "#fb9f3a"
            ],
            [
             0.8888888888888888,
             "#fdca26"
            ],
            [
             1,
             "#f0f921"
            ]
           ]
          },
          "colorway": [
           "#636efa",
           "#EF553B",
           "#00cc96",
           "#ab63fa",
           "#FFA15A",
           "#19d3f3",
           "#FF6692",
           "#B6E880",
           "#FF97FF",
           "#FECB52"
          ],
          "font": {
           "color": "#2a3f5f"
          },
          "geo": {
           "bgcolor": "white",
           "lakecolor": "white",
           "landcolor": "#E5ECF6",
           "showlakes": true,
           "showland": true,
           "subunitcolor": "white"
          },
          "hoverlabel": {
           "align": "left"
          },
          "hovermode": "closest",
          "mapbox": {
           "style": "light"
          },
          "paper_bgcolor": "white",
          "plot_bgcolor": "#E5ECF6",
          "polar": {
           "angularaxis": {
            "gridcolor": "white",
            "linecolor": "white",
            "ticks": ""
           },
           "bgcolor": "#E5ECF6",
           "radialaxis": {
            "gridcolor": "white",
            "linecolor": "white",
            "ticks": ""
           }
          },
          "scene": {
           "xaxis": {
            "backgroundcolor": "#E5ECF6",
            "gridcolor": "white",
            "gridwidth": 2,
            "linecolor": "white",
            "showbackground": true,
            "ticks": "",
            "zerolinecolor": "white"
           },
           "yaxis": {
            "backgroundcolor": "#E5ECF6",
            "gridcolor": "white",
            "gridwidth": 2,
            "linecolor": "white",
            "showbackground": true,
            "ticks": "",
            "zerolinecolor": "white"
           },
           "zaxis": {
            "backgroundcolor": "#E5ECF6",
            "gridcolor": "white",
            "gridwidth": 2,
            "linecolor": "white",
            "showbackground": true,
            "ticks": "",
            "zerolinecolor": "white"
           }
          },
          "shapedefaults": {
           "line": {
            "color": "#2a3f5f"
           }
          },
          "ternary": {
           "aaxis": {
            "gridcolor": "white",
            "linecolor": "white",
            "ticks": ""
           },
           "baxis": {
            "gridcolor": "white",
            "linecolor": "white",
            "ticks": ""
           },
           "bgcolor": "#E5ECF6",
           "caxis": {
            "gridcolor": "white",
            "linecolor": "white",
            "ticks": ""
           }
          },
          "title": {
           "x": 0.05
          },
          "xaxis": {
           "automargin": true,
           "gridcolor": "white",
           "linecolor": "white",
           "ticks": "",
           "title": {
            "standoff": 15
           },
           "zerolinecolor": "white",
           "zerolinewidth": 2
          },
          "yaxis": {
           "automargin": true,
           "gridcolor": "white",
           "linecolor": "white",
           "ticks": "",
           "title": {
            "standoff": 15
           },
           "zerolinecolor": "white",
           "zerolinewidth": 2
          }
         }
        },
        "xaxis": {
         "autorange": true,
         "range": [
          6.720397005531763,
          7.482029994468237
         ],
         "type": "linear"
        },
        "yaxis": {
         "autorange": true,
         "range": [
          3.8589724611650484,
          7.023196538834952
         ],
         "type": "linear"
        }
       }
      },
      "image/png": "[encoded data removed]",
      "text/html": [
       "<div>                            <div id=\"86bc3347-50ef-4a24-9694-79119415d0f9\" class=\"plotly-graph-div\" style=\"height:525px; width:100%;\"></div>            <script type=\"text/javascript\">                require([\"plotly\"], function(Plotly) {                    window.PLOTLYENV=window.PLOTLYENV || {};                                    if (document.getElementById(\"86bc3347-50ef-4a24-9694-79119415d0f9\")) {                    Plotly.newPlot(                        \"86bc3347-50ef-4a24-9694-79119415d0f9\",                        [{\"name\":\"main root\",\"x\":[7.014674,7.068931,7.097697,7.102405,7.096509,7.078003,7.057387,7.064473,7.056801,7.045027,7.03578,7.053914,7.058697,7.050602,7.021744],\"y\":[4.083105,4.391064,4.580238,4.699361,4.817372,4.93411,5.050687,5.168109,5.286132,5.443573,5.623435,5.801408,5.991669,6.214376,6.799064],\"type\":\"scatter\"},{\"name\":\"lateral root\",\"x\":[7.03248,6.921742,6.763005],\"y\":[4.136673,4.219422,4.337383],\"type\":\"scatter\"},{\"name\":\"lateral root\",\"x\":[7.065898,7.312281,7.439422],\"y\":[4.198863,4.231294,4.27106],\"type\":\"scatter\"},{\"name\":\"lateral root\",\"x\":[7.125593,7.182462,7.287631],\"y\":[4.363359,4.368823,4.43411],\"type\":\"scatter\"}],                        {\"template\":{\"data\":{\"histogram2dcontour\":[{\"type\":\"histogram2dcontour\",\"colorbar\":{\"outlinewidth\":0,\"ticks\":\"\"},\"colorscale\":[[0.0,\"#0d0887\"],[0.1111111111111111,\"#46039f\"],[0.2222222222222222,\"#7201a8\"],[0.3333333333333333,\"#9c179e\"],[0.4444444444444444,\"#bd3786\"],[0.5555555555555556,\"#d8576b\"],[0.6666666666666666,\"#ed7953\"],[0.7777777777777778,\"#fb9f3a\"],[0.8888888888888888,\"#fdca26\"],[1.0,\"#f0f921\"]]}],\"choropleth\":[{\"type\":\"choropleth\",\"colorbar\":{\"outlinewidth\":0,\"ticks\":\"\"}}],\"histogram2d\":[{\"type\":\"histogram2d\",\"colorbar\":{\"outlinewidth\":0,\"ticks\":\"\"},\"colorscale\":[[0.0,\"#0d0887\"],[0.1111111111111111,\"#46039f\"],[0.2222222222222222,\"#7201a8\"],[0.3333333333333333,\"#9c179e\"],[0.4444444444444444,\"#bd3786\"],[0.5555555555555556,\"#d8576b\"],[0.6666666666666666,\"#ed7953\"],[0.7777777777777778,\"#fb9f3a\"],[0.8888888888888888,\"#fdca26\"],[1.0,\"#f0f921\"]]}],\"heatmap\":[{\"type\":\"heatmap\",\"colorbar\":{\"outlinewidth\":0,\"ticks\":\"\"},\"colorscale\":[[0.0,\"#0d0887\"],[0.1111111111111111,\"#46039f\"],[0.2222222222222222,\"#7201a8\"],[0.3333333333333333,\"#9c179e\"],[0.4444444444444444,\"#bd3786\"],[0.5555555555555556,\"#d8576b\"],[0.6666666666666666,\"#ed7953\"],[0.7777777777777778,\"#fb9f3a\"],[0.8888888888888888,\"#fdca26\"],[1.0,\"#f0f921\"]]}],\"heatmapgl\":[{\"type\":\"heatmapgl\",\"colorbar\":{\"outlinewidth\":0,\"ticks\":\"\"},\"colorscale\":[[0.0,\"#0d0887\"],[0.1111111111111111,\"#46039f\"],[0.2222222222222222,\"#7201a8\"],[0.3333333333333333,\"#9c179e\"],[0.4444444444444444,\"#bd3786\"],[0.5555555555555556,\"#d8576b\"],[0.6666666666666666,\"#ed7953\"],[0.7777777777777778,\"#fb9f3a\"],[0.8888888888888888,\"#fdca26\"],[1.0,\"#f0f921\"]]}],\"contourcarpet\":[{\"type\":\"contourcarpet\",\"colorbar\":{\"outlinewidth\":0,\"ticks\":\"\"}}],\"contour\":[{\"type\":\"contour\",\"colorbar\":{\"outlinewidth\":0,\"ticks\":\"\"},\"colorscale\":[[0.0,\"#0d0887\"],[0.1111111111111111,\"#46039f\"],[0.2222222222222222,\"#7201a8\"],[0.3333333333333333,\"#9c179e\"],[0.4444444444444444,\"#bd3786\"],[0.5555555555555556,\"#d8576b\"],[0.6666666666666666,\"#ed7953\"],[0.7777777777777778,\"#fb9f3a\"],[0.8888888888888888,\"#fdca26\"],[1.0,\"#f0f921\"]]}],\"surface\":[{\"type\":\"surface\",\"colorbar\":{\"outlinewidth\":0,\"ticks\":\"\"},\"colorscale\":[[0.0,\"#0d0887\"],[0.1111111111111111,\"#46039f\"],[0.2222222222222222,\"#7201a8\"],[0.3333333333333333,\"#9c179e\"],[0.4444444444444444,\"#bd3786\"],[0.5555555555555556,\"#d8576b\"],[0.6666666666666666,\"#ed7953\"],[0.7777777777777778,\"#fb9f3a\"],[0.8888888888888888,\"#fdca26\"],[1.0,\"#f0f921\"]]}],\"mesh3d\":[{\"type\":\"mesh3d\",\"colorbar\":{\"outlinewidth\":0,\"ticks\":\"\"}}],\"scatter\":[{\"fillpattern\":{\"fillmode\":\"overlay\",\"size\":10,\"solidity\":0.2},\"type\":\"scatter\"}],\"parcoords\":[{\"type\":\"parcoords\",\"line\":{\"colorbar\":{\"outlinewidth\":0,\"ticks\":\"\"}}}],\"scatterpolargl\":[{\"type\":\"scatterpolargl\",\"marker\":{\"colorbar\":{\"outlinewidth\":0,\"ticks\":\"\"}}}],\"bar\":[{\"error_x\":{\"color\":\"#2a3f5f\"},\"error_y\":{\"color\":\"#2a3f5f\"},\"marker\":{\"line\":{\"color\":\"#E5ECF6\",\"width\":0.5},\"pattern\":{\"fillmode\":\"overlay\",\"size\":10,\"solidity\":0.2}},\"type\":\"bar\"}],\"scattergeo\":[{\"type\":\"scattergeo\",\"marker\":{\"colorbar\":{\"outlinewidth\":0,\"ticks\":\"\"}}}],\"scatterpolar\":[{\"type\":\"scatterpolar\",\"marker\":{\"colorbar\":{\"outlinewidth\":0,\"ticks\":\"\"}}}],\"histogram\":[{\"marker\":{\"pattern\":{\"fillmode\":\"overlay\",\"size\":10,\"solidity\":0.2}},\"type\":\"histogram\"}],\"scattergl\":[{\"type\":\"scattergl\",\"marker\":{\"colorbar\":{\"outlinewidth\":0,\"ticks\":\"\"}}}],\"scatter3d\":[{\"type\":\"scatter3d\",\"line\":{\"colorbar\":{\"outlinewidth\":0,\"ticks\":\"\"}},\"marker\":{\"colorbar\":{\"outlinewidth\":0,\"ticks\":\"\"}}}],\"scattermapbox\":[{\"type\":\"scattermapbox\",\"marker\":{\"colorbar\":{\"outlinewidth\":0,\"ticks\":\"\"}}}],\"scatterternary\":[{\"type\":\"scatterternary\",\"marker\":{\"colorbar\":{\"outlinewidth\":0,\"ticks\":\"\"}}}],\"scattercarpet\":[{\"type\":\"scattercarpet\",\"marker\":{\"colorbar\":{\"outlinewidth\":0,\"ticks\":\"\"}}}],\"carpet\":[{\"aaxis\":{\"endlinecolor\":\"#2a3f5f\",\"gridcolor\":\"white\",\"linecolor\":\"white\",\"minorgridcolor\":\"white\",\"startlinecolor\":\"#2a3f5f\"},\"baxis\":{\"endlinecolor\":\"#2a3f5f\",\"gridcolor\":\"white\",\"linecolor\":\"white\",\"minorgridcolor\":\"white\",\"startlinecolor\":\"#2a3f5f\"},\"type\":\"carpet\"}],\"table\":[{\"cells\":{\"fill\":{\"color\":\"#EBF0F8\"},\"line\":{\"color\":\"white\"}},\"header\":{\"fill\":{\"color\":\"#C8D4E3\"},\"line\":{\"color\":\"white\"}},\"type\":\"table\"}],\"barpolar\":[{\"marker\":{\"line\":{\"color\":\"#E5ECF6\",\"width\":0.5},\"pattern\":{\"fillmode\":\"overlay\",\"size\":10,\"solidity\":0.2}},\"type\":\"barpolar\"}],\"pie\":[{\"automargin\":true,\"type\":\"pie\"}]},\"layout\":{\"autotypenumbers\":\"strict\",\"colorway\":[\"#636efa\",\"#EF553B\",\"#00cc96\",\"#ab63fa\",\"#FFA15A\",\"#19d3f3\",\"#FF6692\",\"#B6E880\",\"#FF97FF\",\"#FECB52\"],\"font\":{\"color\":\"#2a3f5f\"},\"hovermode\":\"closest\",\"hoverlabel\":{\"align\":\"left\"},\"paper_bgcolor\":\"white\",\"plot_bgcolor\":\"#E5ECF6\",\"polar\":{\"bgcolor\":\"#E5ECF6\",\"angularaxis\":{\"gridcolor\":\"white\",\"linecolor\":\"white\",\"ticks\":\"\"},\"radialaxis\":{\"gridcolor\":\"white\",\"linecolor\":\"white\",\"ticks\":\"\"}},\"ternary\":{\"bgcolor\":\"#E5ECF6\",\"aaxis\":{\"gridcolor\":\"white\",\"linecolor\":\"white\",\"ticks\":\"\"},\"baxis\":{\"gridcolor\":\"white\",\"linecolor\":\"white\",\"ticks\":\"\"},\"caxis\":{\"gridcolor\":\"white\",\"linecolor\":\"white\",\"ticks\":\"\"}},\"coloraxis\":{\"colorbar\":{\"outlinewidth\":0,\"ticks\":\"\"}},\"colorscale\":{\"sequential\":[[0.0,\"#0d0887\"],[0.1111111111111111,\"#46039f\"],[0.2222222222222222,\"#7201a8\"],[0.3333333333333333,\"#9c179e\"],[0.4444444444444444,\"#bd3786\"],[0.5555555555555556,\"#d8576b\"],[0.6666666666666666,\"#ed7953\"],[0.7777777777777778,\"#fb9f3a\"],[0.8888888888888888,\"#fdca26\"],[1.0,\"#f0f921\"]],\"sequentialminus\":[[0.0,\"#0d0887\"],[0.1111111111111111,\"#46039f\"],[0.2222222222222222,\"#7201a8\"],[0.3333333333333333,\"#9c179e\"],[0.4444444444444444,\"#bd3786\"],[0.5555555555555556,\"#d8576b\"],[0.6666666666666666,\"#ed7953\"],[0.7777777777777778,\"#fb9f3a\"],[0.8888888888888888,\"#fdca26\"],[1.0,\"#f0f921\"]],\"diverging\":[[0,\"#8e0152\"],[0.1,\"#c51b7d\"],[0.2,\"#de77ae\"],[0.3,\"#f1b6da\"],[0.4,\"#fde0ef\"],[0.5,\"#f7f7f7\"],[0.6,\"#e6f5d0\"],[0.7,\"#b8e186\"],[0.8,\"#7fbc41\"],[0.9,\"#4d9221\"],[1,\"#276419\"]]},\"xaxis\":{\"gridcolor\":\"white\",\"linecolor\":\"white\",\"ticks\":\"\",\"title\":{\"standoff\":15},\"zerolinecolor\":\"white\",\"automargin\":true,\"zerolinewidth\":2},\"yaxis\":{\"gridcolor\":\"white\",\"linecolor\":\"white\",\"ticks\":\"\",\"title\":{\"standoff\":15},\"zerolinecolor\":\"white\",\"automargin\":true,\"zerolinewidth\":2},\"scene\":{\"xaxis\":{\"backgroundcolor\":\"#E5ECF6\",\"gridcolor\":\"white\",\"linecolor\":\"white\",\"showbackground\":true,\"ticks\":\"\",\"zerolinecolor\":\"white\",\"gridwidth\":2},\"yaxis\":{\"backgroundcolor\":\"#E5ECF6\",\"gridcolor\":\"white\",\"linecolor\":\"white\",\"showbackground\":true,\"ticks\":\"\",\"zerolinecolor\":\"white\",\"gridwidth\":2},\"zaxis\":{\"backgroundcolor\":\"#E5ECF6\",\"gridcolor\":\"white\",\"linecolor\":\"white\",\"showbackground\":true,\"ticks\":\"\",\"zerolinecolor\":\"white\",\"gridwidth\":2}},\"shapedefaults\":{\"line\":{\"color\":\"#2a3f5f\"}},\"annotationdefaults\":{\"arrowcolor\":\"#2a3f5f\",\"arrowhead\":0,\"arrowwidth\":1},\"geo\":{\"bgcolor\":\"white\",\"landcolor\":\"#E5ECF6\",\"subunitcolor\":\"white\",\"showland\":true,\"showlakes\":true,\"lakecolor\":\"white\"},\"title\":{\"x\":0.05},\"mapbox\":{\"style\":\"light\"}}}},                        {\"responsive\": true}                    ).then(function(){\n",
       "                            \n",
       "var gd = document.getElementById('86bc3347-50ef-4a24-9694-79119415d0f9');\n",
       "var x = new MutationObserver(function (mutations, observer) {{\n",
       "        var display = window.getComputedStyle(gd).display;\n",
       "        if (!display || display === 'none') {{\n",
       "            console.log([gd, 'removed!']);\n",
       "            Plotly.purge(gd);\n",
       "            observer.disconnect();\n",
       "        }}\n",
       "}});\n",
       "\n",
       "// Listen for the removal of the full notebook cells\n",
       "var notebookContainer = gd.closest('#notebook-container');\n",
       "if (notebookContainer) {{\n",
       "    x.observe(notebookContainer, {childList: true});\n",
       "}}\n",
       "\n",
       "// Listen for the clearing of the current output cell\n",
       "var outputEl = gd.closest('.output');\n",
       "if (outputEl) {{\n",
       "    x.observe(outputEl, {childList: true});\n",
       "}}\n",
       "\n",
       "                        })                };                });            </script>        </div>"
      ]
     },
     "metadata": {},
     "output_type": "display_data"
    },
    {
     "data": {
      "application/vnd.plotly.v1+json": {
       "config": {
        "plotlyServerURL": "https://plot.ly"
       },
       "data": [
        {
         "name": "main root",
         "type": "scatter",
         "x": [
          7.014674,
          7.068931,
          7.097697,
          7.102405,
          7.096509,
          7.078003,
          7.057387,
          7.064473,
          7.056801,
          7.045027,
          7.03578,
          7.053914,
          7.058697,
          7.050602,
          7.021744
         ],
         "y": [
          4.083105,
          4.391064,
          4.580238,
          4.699361,
          4.817372,
          4.93411,
          5.050687,
          5.168109,
          5.286132,
          5.443573,
          5.623435,
          5.801408,
          5.991669,
          6.214376,
          6.799064
         ]
        },
        {
         "name": "lateral root",
         "type": "scatter",
         "x": [
          7.03248,
          6.921742,
          6.763005
         ],
         "y": [
          4.136673,
          4.219422,
          4.337383
         ]
        },
        {
         "name": "lateral root",
         "type": "scatter",
         "x": [
          7.065898,
          7.312281,
          7.439422
         ],
         "y": [
          4.198863,
          4.231294,
          4.27106
         ]
        },
        {
         "name": "lateral root",
         "type": "scatter",
         "x": [
          7.125593,
          7.182462,
          7.287631
         ],
         "y": [
          4.363359,
          4.368823,
          4.43411
         ]
        },
        {
         "mode": "lines",
         "name": "0.2605480071596323",
         "type": "scatter",
         "x": [
          6.763005,
          6.767909826286618,
          6.772839294457359,
          6.777793404512223,
          6.782772156451209,
          6.787775550274317,
          6.792803585981547,
          6.797856263572899,
          6.8029335830483735,
          6.8080355444079705,
          6.81316214765169,
          6.818313392779531,
          6.823489279791495,
          6.828689808687582,
          6.83391497946779,
          6.83916479213212,
          6.844439246680573,
          6.849738343113148,
          6.855062081429845,
          6.860410461630665,
          6.865783483715607,
          6.871181147684672,
          6.876603453537857,
          6.882050401275166,
          6.887521990896597,
          6.893018222402151,
          6.8985390957918264,
          6.904084611065624,
          6.909654768223544,
          6.915249567265587,
          6.920869008191751,
          6.926513091002038,
          6.932181815696447,
          6.937875182274979,
          6.943593190737633,
          6.949335841084409,
          6.955103133315307,
          6.960895067430328,
          6.966711643429471,
          6.972552861312735,
          6.978418721080123,
          6.984309222731633,
          6.990224366267264,
          6.996164151687019,
          7.002128578990895,
          7.008117648178894,
          7.014131359251015,
          7.020169712207258,
          7.026232707047623,
          7.032320343772112
         ],
         "y": [
          4.337383,
          4.330880947788414,
          4.324518761216143,
          4.31829644028319,
          4.312213984989554,
          4.306271395335234,
          4.300468671320231,
          4.294805812944545,
          4.289282820208175,
          4.283899693111122,
          4.278656431653387,
          4.273553035834968,
          4.268589505655865,
          4.26376584111608,
          4.259082042215612,
          4.254538108954459,
          4.2501340413326245,
          4.245869839350106,
          4.2417455030069044,
          4.23776103230302,
          4.2339164272384515,
          4.230211687813201,
          4.226646814027266,
          4.223221805880648,
          4.219936663373347,
          4.2167913865053634,
          4.2137859752766955,
          4.210920429687345,
          4.208194749737312,
          4.205608935426595,
          4.203162986755195,
          4.200856903723111,
          4.198690686330345,
          4.196664334576894,
          4.194777848462762,
          4.193031227987945,
          4.191424473152446,
          4.189957583956263,
          4.188630560399397,
          4.187443402481848,
          4.186396110203615,
          4.185488683564699,
          4.184721122565101,
          4.184093427204819,
          4.1836055974838535,
          4.183257633402205,
          4.183049534959873,
          4.1829813021568585,
          4.18305293499316,
          4.1832644334687785
         ]
        },
        {
         "mode": "lines",
         "name": "0.3827049606990956",
         "type": "scatter",
         "x": [
          7.033361405086648,
          7.040616335306761,
          7.047914266389228,
          7.055255198334047,
          7.06263913114122,
          7.070066064810748,
          7.077535999342628,
          7.085048934736863,
          7.09260487099345,
          7.100203808112392,
          7.107845746093687,
          7.115530684937336,
          7.123258624643338,
          7.131029565211693,
          7.138843506642403,
          7.146700448935466,
          7.154600392090883,
          7.162543336108653,
          7.170529280988776,
          7.178558226731254,
          7.186630173336085,
          7.19474512080327,
          7.202903069132808,
          7.2111040183247,
          7.219347968378945,
          7.227634919295545,
          7.235964871074497,
          7.244337823715803,
          7.252753777219463,
          7.261212731585476,
          7.269714686813844,
          7.278259642904564,
          7.286847599857638,
          7.295478557673066,
          7.304152516350848,
          7.312869475890983,
          7.321629436293471,
          7.330432397558313,
          7.339278359685509,
          7.348167322675058,
          7.357099286526962,
          7.366074251241218,
          7.375092216817828,
          7.384153183256792,
          7.393257150558109,
          7.402404118721781,
          7.4115940877478055,
          7.420827057636183,
          7.430103028386915,
          7.439422
         ],
         "y": [
          4.189173425881989,
          4.184986901968824,
          4.181044447992618,
          4.177346063953371,
          4.173891749851081,
          4.170681505685749,
          4.167715331457377,
          4.164993227165962,
          4.162515192811507,
          4.160281228394009,
          4.15829133391347,
          4.15654550936989,
          4.155043754763267,
          4.153786070093604,
          4.152772455360898,
          4.152002910565151,
          4.151477435706362,
          4.151196030784532,
          4.15115869579966,
          4.1513654307517465,
          4.1518162356407915,
          4.152511110466795,
          4.153450055229757,
          4.154633069929677,
          4.156060154566556,
          4.1577313091403925,
          4.159646533651188,
          4.161805828098942,
          4.1642091924836535,
          4.166856626805324,
          4.169748131063954,
          4.172883705259541,
          4.176263349392086,
          4.179887063461591,
          4.1837548474680535,
          4.187866701411474,
          4.192222625291854,
          4.1968226191091915,
          4.201666682863488,
          4.206754816554742,
          4.212087020182955,
          4.217663293748127,
          4.223483637250257,
          4.229548050689345,
          4.235856534065391,
          4.242409087378396,
          4.24920571062836,
          4.256246403815282,
          4.263531166939162,
          4.27106
         ]
        },
        {
         "mode": "lines",
         "name": "0.22772216562729203",
         "type": "scatter",
         "x": [
          7.068931,
          7.073094369092347,
          7.0772702338602675,
          7.081458594303762,
          7.085659450422831,
          7.089872802217474,
          7.094098649687691,
          7.098336992833482,
          7.102587831654846,
          7.1068511661517855,
          7.111126996324298,
          7.115415322172384,
          7.119716143696045,
          7.124029460895279,
          7.128355273770088,
          7.132693582320471,
          7.137044386546428,
          7.141407686447958,
          7.145783482025063,
          7.150171773277742,
          7.1545725602059935,
          7.1589858428098205,
          7.163411621089221,
          7.167849895044196,
          7.172300664674744,
          7.176763929980867,
          7.181239690962562,
          7.185727947619833,
          7.190228699952677,
          7.194741947961096,
          7.199267691645089,
          7.203805931004655,
          7.208356666039795,
          7.21291989675051,
          7.217495623136798,
          7.22208384519866,
          7.2266845629360965,
          7.231297776349106,
          7.235923485437691,
          7.240561690201849,
          7.245212390641581,
          7.249875586756887,
          7.254551278547767,
          7.259239466014222,
          7.26394014915625,
          7.268653327973852,
          7.273379002467028,
          7.278117172635778,
          7.282867838480102,
          7.287631
         ],
         "y": [
          4.391064,
          4.390240299514515,
          4.389487523624088,
          4.388805672328719,
          4.38819474562841,
          4.387654743523158,
          4.387185666012965,
          4.386787513097831,
          4.386460284777755,
          4.386203981052738,
          4.386018601922779,
          4.385904147387878,
          4.385860617448037,
          4.385888012103253,
          4.385986331353528,
          4.3861555751988615,
          4.3863957436392536,
          4.386706836674704,
          4.387088854305213,
          4.387541796530781,
          4.388065663351406,
          4.38866045476709,
          4.389326170777833,
          4.390062811383635,
          4.390870376584495,
          4.391748866380413,
          4.39269828077139,
          4.393718619757426,
          4.394809883338519,
          4.395972071514672,
          4.397205184285882,
          4.3985092216521515,
          4.399884183613479,
          4.401330070169866,
          4.40284688132131,
          4.404434617067814,
          4.406093277409376,
          4.407822862345996,
          4.409623371877674,
          4.411494806004412,
          4.413437164726207,
          4.415450448043061,
          4.417534655954974,
          4.4196897884619455,
          4.421915845563975,
          4.424212827261063,
          4.42658073355321,
          4.429019564440415,
          4.431529319922678,
          4.43411
         ]
        }
       ],
       "layout": {
        "autosize": true,
        "template": {
         "data": {
          "bar": [
           {
            "error_x": {
             "color": "#2a3f5f"
            },
            "error_y": {
             "color": "#2a3f5f"
            },
            "marker": {
             "line": {
              "color": "#E5ECF6",
              "width": 0.5
             },
             "pattern": {
              "fillmode": "overlay",
              "size": 10,
              "solidity": 0.2
             }
            },
            "type": "bar"
           }
          ],
          "barpolar": [
           {
            "marker": {
             "line": {
              "color": "#E5ECF6",
              "width": 0.5
             },
             "pattern": {
              "fillmode": "overlay",
              "size": 10,
              "solidity": 0.2
             }
            },
            "type": "barpolar"
           }
          ],
          "carpet": [
           {
            "aaxis": {
             "endlinecolor": "#2a3f5f",
             "gridcolor": "white",
             "linecolor": "white",
             "minorgridcolor": "white",
             "startlinecolor": "#2a3f5f"
            },
            "baxis": {
             "endlinecolor": "#2a3f5f",
             "gridcolor": "white",
             "linecolor": "white",
             "minorgridcolor": "white",
             "startlinecolor": "#2a3f5f"
            },
            "type": "carpet"
           }
          ],
          "choropleth": [
           {
            "colorbar": {
             "outlinewidth": 0,
             "ticks": ""
            },
            "type": "choropleth"
           }
          ],
          "contour": [
           {
            "colorbar": {
             "outlinewidth": 0,
             "ticks": ""
            },
            "colorscale": [
             [
              0,
              "#0d0887"
             ],
             [
              0.1111111111111111,
              "#46039f"
             ],
             [
              0.2222222222222222,
              "#7201a8"
             ],
             [
              0.3333333333333333,
              "#9c179e"
             ],
             [
              0.4444444444444444,
              "#bd3786"
             ],
             [
              0.5555555555555556,
              "#d8576b"
             ],
             [
              0.6666666666666666,
              "#ed7953"
             ],
             [
              0.7777777777777778,
              "#fb9f3a"
             ],
             [
              0.8888888888888888,
              "#fdca26"
             ],
             [
              1,
              "#f0f921"
             ]
            ],
            "type": "contour"
           }
          ],
          "contourcarpet": [
           {
            "colorbar": {
             "outlinewidth": 0,
             "ticks": ""
            },
            "type": "contourcarpet"
           }
          ],
          "heatmap": [
           {
            "colorbar": {
             "outlinewidth": 0,
             "ticks": ""
            },
            "colorscale": [
             [
              0,
              "#0d0887"
             ],
             [
              0.1111111111111111,
              "#46039f"
             ],
             [
              0.2222222222222222,
              "#7201a8"
             ],
             [
              0.3333333333333333,
              "#9c179e"
             ],
             [
              0.4444444444444444,
              "#bd3786"
             ],
             [
              0.5555555555555556,
              "#d8576b"
             ],
             [
              0.6666666666666666,
              "#ed7953"
             ],
             [
              0.7777777777777778,
              "#fb9f3a"
             ],
             [
              0.8888888888888888,
              "#fdca26"
             ],
             [
              1,
              "#f0f921"
             ]
            ],
            "type": "heatmap"
           }
          ],
          "heatmapgl": [
           {
            "colorbar": {
             "outlinewidth": 0,
             "ticks": ""
            },
            "colorscale": [
             [
              0,
              "#0d0887"
             ],
             [
              0.1111111111111111,
              "#46039f"
             ],
             [
              0.2222222222222222,
              "#7201a8"
             ],
             [
              0.3333333333333333,
              "#9c179e"
             ],
             [
              0.4444444444444444,
              "#bd3786"
             ],
             [
              0.5555555555555556,
              "#d8576b"
             ],
             [
              0.6666666666666666,
              "#ed7953"
             ],
             [
              0.7777777777777778,
              "#fb9f3a"
             ],
             [
              0.8888888888888888,
              "#fdca26"
             ],
             [
              1,
              "#f0f921"
             ]
            ],
            "type": "heatmapgl"
           }
          ],
          "histogram": [
           {
            "marker": {
             "pattern": {
              "fillmode": "overlay",
              "size": 10,
              "solidity": 0.2
             }
            },
            "type": "histogram"
           }
          ],
          "histogram2d": [
           {
            "colorbar": {
             "outlinewidth": 0,
             "ticks": ""
            },
            "colorscale": [
             [
              0,
              "#0d0887"
             ],
             [
              0.1111111111111111,
              "#46039f"
             ],
             [
              0.2222222222222222,
              "#7201a8"
             ],
             [
              0.3333333333333333,
              "#9c179e"
             ],
             [
              0.4444444444444444,
              "#bd3786"
             ],
             [
              0.5555555555555556,
              "#d8576b"
             ],
             [
              0.6666666666666666,
              "#ed7953"
             ],
             [
              0.7777777777777778,
              "#fb9f3a"
             ],
             [
              0.8888888888888888,
              "#fdca26"
             ],
             [
              1,
              "#f0f921"
             ]
            ],
            "type": "histogram2d"
           }
          ],
          "histogram2dcontour": [
           {
            "colorbar": {
             "outlinewidth": 0,
             "ticks": ""
            },
            "colorscale": [
             [
              0,
              "#0d0887"
             ],
             [
              0.1111111111111111,
              "#46039f"
             ],
             [
              0.2222222222222222,
              "#7201a8"
             ],
             [
              0.3333333333333333,
              "#9c179e"
             ],
             [
              0.4444444444444444,
              "#bd3786"
             ],
             [
              0.5555555555555556,
              "#d8576b"
             ],
             [
              0.6666666666666666,
              "#ed7953"
             ],
             [
              0.7777777777777778,
              "#fb9f3a"
             ],
             [
              0.8888888888888888,
              "#fdca26"
             ],
             [
              1,
              "#f0f921"
             ]
            ],
            "type": "histogram2dcontour"
           }
          ],
          "mesh3d": [
           {
            "colorbar": {
             "outlinewidth": 0,
             "ticks": ""
            },
            "type": "mesh3d"
           }
          ],
          "parcoords": [
           {
            "line": {
             "colorbar": {
              "outlinewidth": 0,
              "ticks": ""
             }
            },
            "type": "parcoords"
           }
          ],
          "pie": [
           {
            "automargin": true,
            "type": "pie"
           }
          ],
          "scatter": [
           {
            "fillpattern": {
             "fillmode": "overlay",
             "size": 10,
             "solidity": 0.2
            },
            "type": "scatter"
           }
          ],
          "scatter3d": [
           {
            "line": {
             "colorbar": {
              "outlinewidth": 0,
              "ticks": ""
             }
            },
            "marker": {
             "colorbar": {
              "outlinewidth": 0,
              "ticks": ""
             }
            },
            "type": "scatter3d"
           }
          ],
          "scattercarpet": [
           {
            "marker": {
             "colorbar": {
              "outlinewidth": 0,
              "ticks": ""
             }
            },
            "type": "scattercarpet"
           }
          ],
          "scattergeo": [
           {
            "marker": {
             "colorbar": {
              "outlinewidth": 0,
              "ticks": ""
             }
            },
            "type": "scattergeo"
           }
          ],
          "scattergl": [
           {
            "marker": {
             "colorbar": {
              "outlinewidth": 0,
              "ticks": ""
             }
            },
            "type": "scattergl"
           }
          ],
          "scattermapbox": [
           {
            "marker": {
             "colorbar": {
              "outlinewidth": 0,
              "ticks": ""
             }
            },
            "type": "scattermapbox"
           }
          ],
          "scatterpolar": [
           {
            "marker": {
             "colorbar": {
              "outlinewidth": 0,
              "ticks": ""
             }
            },
            "type": "scatterpolar"
           }
          ],
          "scatterpolargl": [
           {
            "marker": {
             "colorbar": {
              "outlinewidth": 0,
              "ticks": ""
             }
            },
            "type": "scatterpolargl"
           }
          ],
          "scatterternary": [
           {
            "marker": {
             "colorbar": {
              "outlinewidth": 0,
              "ticks": ""
             }
            },
            "type": "scatterternary"
           }
          ],
          "surface": [
           {
            "colorbar": {
             "outlinewidth": 0,
             "ticks": ""
            },
            "colorscale": [
             [
              0,
              "#0d0887"
             ],
             [
              0.1111111111111111,
              "#46039f"
             ],
             [
              0.2222222222222222,
              "#7201a8"
             ],
             [
              0.3333333333333333,
              "#9c179e"
             ],
             [
              0.4444444444444444,
              "#bd3786"
             ],
             [
              0.5555555555555556,
              "#d8576b"
             ],
             [
              0.6666666666666666,
              "#ed7953"
             ],
             [
              0.7777777777777778,
              "#fb9f3a"
             ],
             [
              0.8888888888888888,
              "#fdca26"
             ],
             [
              1,
              "#f0f921"
             ]
            ],
            "type": "surface"
           }
          ],
          "table": [
           {
            "cells": {
             "fill": {
              "color": "#EBF0F8"
             },
             "line": {
              "color": "white"
             }
            },
            "header": {
             "fill": {
              "color": "#C8D4E3"
             },
             "line": {
              "color": "white"
             }
            },
            "type": "table"
           }
          ]
         },
         "layout": {
          "annotationdefaults": {
           "arrowcolor": "#2a3f5f",
           "arrowhead": 0,
           "arrowwidth": 1
          },
          "autotypenumbers": "strict",
          "coloraxis": {
           "colorbar": {
            "outlinewidth": 0,
            "ticks": ""
           }
          },
          "colorscale": {
           "diverging": [
            [
             0,
             "#8e0152"
            ],
            [
             0.1,
             "#c51b7d"
            ],
            [
             0.2,
             "#de77ae"
            ],
            [
             0.3,
             "#f1b6da"
            ],
            [
             0.4,
             "#fde0ef"
            ],
            [
             0.5,
             "#f7f7f7"
            ],
            [
             0.6,
             "#e6f5d0"
            ],
            [
             0.7,
             "#b8e186"
            ],
            [
             0.8,
             "#7fbc41"
            ],
            [
             0.9,
             "#4d9221"
            ],
            [
             1,
             "#276419"
            ]
           ],
           "sequential": [
            [
             0,
             "#0d0887"
            ],
            [
             0.1111111111111111,
             "#46039f"
            ],
            [
             0.2222222222222222,
             "#7201a8"
            ],
            [
             0.3333333333333333,
             "#9c179e"
            ],
            [
             0.4444444444444444,
             "#bd3786"
            ],
            [
             0.5555555555555556,
             "#d8576b"
            ],
            [
             0.6666666666666666,
             "#ed7953"
            ],
            [
             0.7777777777777778,
             "#fb9f3a"
            ],
            [
             0.8888888888888888,
             "#fdca26"
            ],
            [
             1,
             "#f0f921"
            ]
           ],
           "sequentialminus": [
            [
             0,
             "#0d0887"
            ],
            [
             0.1111111111111111,
             "#46039f"
            ],
            [
             0.2222222222222222,
             "#7201a8"
            ],
            [
             0.3333333333333333,
             "#9c179e"
            ],
            [
             0.4444444444444444,
             "#bd3786"
            ],
            [
             0.5555555555555556,
             "#d8576b"
            ],
            [
             0.6666666666666666,
             "#ed7953"
            ],
            [
             0.7777777777777778,
             "#fb9f3a"
            ],
            [
             0.8888888888888888,
             "#fdca26"
            ],
            [
             1,
             "#f0f921"
            ]
           ]
          },
          "colorway": [
           "#636efa",
           "#EF553B",
           "#00cc96",
           "#ab63fa",
           "#FFA15A",
           "#19d3f3",
           "#FF6692",
           "#B6E880",
           "#FF97FF",
           "#FECB52"
          ],
          "font": {
           "color": "#2a3f5f"
          },
          "geo": {
           "bgcolor": "white",
           "lakecolor": "white",
           "landcolor": "#E5ECF6",
           "showlakes": true,
           "showland": true,
           "subunitcolor": "white"
          },
          "hoverlabel": {
           "align": "left"
          },
          "hovermode": "closest",
          "mapbox": {
           "style": "light"
          },
          "paper_bgcolor": "white",
          "plot_bgcolor": "#E5ECF6",
          "polar": {
           "angularaxis": {
            "gridcolor": "white",
            "linecolor": "white",
            "ticks": ""
           },
           "bgcolor": "#E5ECF6",
           "radialaxis": {
            "gridcolor": "white",
            "linecolor": "white",
            "ticks": ""
           }
          },
          "scene": {
           "xaxis": {
            "backgroundcolor": "#E5ECF6",
            "gridcolor": "white",
            "gridwidth": 2,
            "linecolor": "white",
            "showbackground": true,
            "ticks": "",
            "zerolinecolor": "white"
           },
           "yaxis": {
            "backgroundcolor": "#E5ECF6",
            "gridcolor": "white",
            "gridwidth": 2,
            "linecolor": "white",
            "showbackground": true,
            "ticks": "",
            "zerolinecolor": "white"
           },
           "zaxis": {
            "backgroundcolor": "#E5ECF6",
            "gridcolor": "white",
            "gridwidth": 2,
            "linecolor": "white",
            "showbackground": true,
            "ticks": "",
            "zerolinecolor": "white"
           }
          },
          "shapedefaults": {
           "line": {
            "color": "#2a3f5f"
           }
          },
          "ternary": {
           "aaxis": {
            "gridcolor": "white",
            "linecolor": "white",
            "ticks": ""
           },
           "baxis": {
            "gridcolor": "white",
            "linecolor": "white",
            "ticks": ""
           },
           "bgcolor": "#E5ECF6",
           "caxis": {
            "gridcolor": "white",
            "linecolor": "white",
            "ticks": ""
           }
          },
          "title": {
           "x": 0.05
          },
          "xaxis": {
           "automargin": true,
           "gridcolor": "white",
           "linecolor": "white",
           "ticks": "",
           "title": {
            "standoff": 15
           },
           "zerolinecolor": "white",
           "zerolinewidth": 2
          },
          "yaxis": {
           "automargin": true,
           "gridcolor": "white",
           "linecolor": "white",
           "ticks": "",
           "title": {
            "standoff": 15
           },
           "zerolinecolor": "white",
           "zerolinewidth": 2
          }
         }
        },
        "xaxis": {
         "autorange": true,
         "range": [
          6.7197290791388715,
          7.482697920861129
         ],
         "type": "linear"
        },
        "yaxis": {
         "autorange": true,
         "range": [
          3.8589724611650484,
          7.023196538834952
         ],
         "type": "linear"
        }
       }
      },
      "image/png": "[encoded data removed]",
      "text/html": [
       "<div>                            <div id=\"c004ebd9-65a8-4295-8603-607111b2fbd3\" class=\"plotly-graph-div\" style=\"height:525px; width:100%;\"></div>            <script type=\"text/javascript\">                require([\"plotly\"], function(Plotly) {                    window.PLOTLYENV=window.PLOTLYENV || {};                                    if (document.getElementById(\"c004ebd9-65a8-4295-8603-607111b2fbd3\")) {                    Plotly.newPlot(                        \"c004ebd9-65a8-4295-8603-607111b2fbd3\",                        [{\"name\":\"main root\",\"x\":[7.014674,7.068931,7.097697,7.102405,7.096509,7.078003,7.057387,7.064473,7.056801,7.045027,7.03578,7.053914,7.058697,7.050602,7.021744],\"y\":[4.083105,4.391064,4.580238,4.699361,4.817372,4.93411,5.050687,5.168109,5.286132,5.443573,5.623435,5.801408,5.991669,6.214376,6.799064],\"type\":\"scatter\"},{\"name\":\"lateral root\",\"x\":[7.03248,6.921742,6.763005],\"y\":[4.136673,4.219422,4.337383],\"type\":\"scatter\"},{\"name\":\"lateral root\",\"x\":[7.065898,7.312281,7.439422],\"y\":[4.198863,4.231294,4.27106],\"type\":\"scatter\"},{\"name\":\"lateral root\",\"x\":[7.125593,7.182462,7.287631],\"y\":[4.363359,4.368823,4.43411],\"type\":\"scatter\"},{\"mode\":\"lines\",\"name\":\"0.2605480071596323\",\"x\":[6.763005,6.767909826286618,6.772839294457359,6.777793404512223,6.782772156451209,6.787775550274317,6.792803585981547,6.797856263572899,6.8029335830483735,6.8080355444079705,6.81316214765169,6.818313392779531,6.823489279791495,6.828689808687582,6.83391497946779,6.83916479213212,6.844439246680573,6.849738343113148,6.855062081429845,6.860410461630665,6.865783483715607,6.871181147684672,6.876603453537857,6.882050401275166,6.887521990896597,6.893018222402151,6.8985390957918264,6.904084611065624,6.909654768223544,6.915249567265587,6.920869008191751,6.926513091002038,6.932181815696447,6.937875182274979,6.943593190737633,6.949335841084409,6.955103133315307,6.960895067430328,6.966711643429471,6.972552861312735,6.978418721080123,6.984309222731633,6.990224366267264,6.996164151687019,7.002128578990895,7.008117648178894,7.014131359251015,7.020169712207258,7.026232707047623,7.032320343772112],\"y\":[4.337383,4.330880947788414,4.324518761216143,4.31829644028319,4.312213984989554,4.306271395335234,4.300468671320231,4.294805812944545,4.289282820208175,4.283899693111122,4.278656431653387,4.273553035834968,4.268589505655865,4.26376584111608,4.259082042215612,4.254538108954459,4.2501340413326245,4.245869839350106,4.2417455030069044,4.23776103230302,4.2339164272384515,4.230211687813201,4.226646814027266,4.223221805880648,4.219936663373347,4.2167913865053634,4.2137859752766955,4.210920429687345,4.208194749737312,4.205608935426595,4.203162986755195,4.200856903723111,4.198690686330345,4.196664334576894,4.194777848462762,4.193031227987945,4.191424473152446,4.189957583956263,4.188630560399397,4.187443402481848,4.186396110203615,4.185488683564699,4.184721122565101,4.184093427204819,4.1836055974838535,4.183257633402205,4.183049534959873,4.1829813021568585,4.18305293499316,4.1832644334687785],\"type\":\"scatter\"},{\"mode\":\"lines\",\"name\":\"0.3827049606990956\",\"x\":[7.033361405086648,7.040616335306761,7.047914266389228,7.055255198334047,7.06263913114122,7.070066064810748,7.077535999342628,7.085048934736863,7.09260487099345,7.100203808112392,7.107845746093687,7.115530684937336,7.123258624643338,7.131029565211693,7.138843506642403,7.146700448935466,7.154600392090883,7.162543336108653,7.170529280988776,7.178558226731254,7.186630173336085,7.19474512080327,7.202903069132808,7.2111040183247,7.219347968378945,7.227634919295545,7.235964871074497,7.244337823715803,7.252753777219463,7.261212731585476,7.269714686813844,7.278259642904564,7.286847599857638,7.295478557673066,7.304152516350848,7.312869475890983,7.321629436293471,7.330432397558313,7.339278359685509,7.348167322675058,7.357099286526962,7.366074251241218,7.375092216817828,7.384153183256792,7.393257150558109,7.402404118721781,7.4115940877478055,7.420827057636183,7.430103028386915,7.439422],\"y\":[4.189173425881989,4.184986901968824,4.181044447992618,4.177346063953371,4.173891749851081,4.170681505685749,4.167715331457377,4.164993227165962,4.162515192811507,4.160281228394009,4.15829133391347,4.15654550936989,4.155043754763267,4.153786070093604,4.152772455360898,4.152002910565151,4.151477435706362,4.151196030784532,4.15115869579966,4.1513654307517465,4.1518162356407915,4.152511110466795,4.153450055229757,4.154633069929677,4.156060154566556,4.1577313091403925,4.159646533651188,4.161805828098942,4.1642091924836535,4.166856626805324,4.169748131063954,4.172883705259541,4.176263349392086,4.179887063461591,4.1837548474680535,4.187866701411474,4.192222625291854,4.1968226191091915,4.201666682863488,4.206754816554742,4.212087020182955,4.217663293748127,4.223483637250257,4.229548050689345,4.235856534065391,4.242409087378396,4.24920571062836,4.256246403815282,4.263531166939162,4.27106],\"type\":\"scatter\"},{\"mode\":\"lines\",\"name\":\"0.22772216562729203\",\"x\":[7.068931,7.073094369092347,7.0772702338602675,7.081458594303762,7.085659450422831,7.089872802217474,7.094098649687691,7.098336992833482,7.102587831654846,7.1068511661517855,7.111126996324298,7.115415322172384,7.119716143696045,7.124029460895279,7.128355273770088,7.132693582320471,7.137044386546428,7.141407686447958,7.145783482025063,7.150171773277742,7.1545725602059935,7.1589858428098205,7.163411621089221,7.167849895044196,7.172300664674744,7.176763929980867,7.181239690962562,7.185727947619833,7.190228699952677,7.194741947961096,7.199267691645089,7.203805931004655,7.208356666039795,7.21291989675051,7.217495623136798,7.22208384519866,7.2266845629360965,7.231297776349106,7.235923485437691,7.240561690201849,7.245212390641581,7.249875586756887,7.254551278547767,7.259239466014222,7.26394014915625,7.268653327973852,7.273379002467028,7.278117172635778,7.282867838480102,7.287631],\"y\":[4.391064,4.390240299514515,4.389487523624088,4.388805672328719,4.38819474562841,4.387654743523158,4.387185666012965,4.386787513097831,4.386460284777755,4.386203981052738,4.386018601922779,4.385904147387878,4.385860617448037,4.385888012103253,4.385986331353528,4.3861555751988615,4.3863957436392536,4.386706836674704,4.387088854305213,4.387541796530781,4.388065663351406,4.38866045476709,4.389326170777833,4.390062811383635,4.390870376584495,4.391748866380413,4.39269828077139,4.393718619757426,4.394809883338519,4.395972071514672,4.397205184285882,4.3985092216521515,4.399884183613479,4.401330070169866,4.40284688132131,4.404434617067814,4.406093277409376,4.407822862345996,4.409623371877674,4.411494806004412,4.413437164726207,4.415450448043061,4.417534655954974,4.4196897884619455,4.421915845563975,4.424212827261063,4.42658073355321,4.429019564440415,4.431529319922678,4.43411],\"type\":\"scatter\"}],                        {\"template\":{\"data\":{\"histogram2dcontour\":[{\"type\":\"histogram2dcontour\",\"colorbar\":{\"outlinewidth\":0,\"ticks\":\"\"},\"colorscale\":[[0.0,\"#0d0887\"],[0.1111111111111111,\"#46039f\"],[0.2222222222222222,\"#7201a8\"],[0.3333333333333333,\"#9c179e\"],[0.4444444444444444,\"#bd3786\"],[0.5555555555555556,\"#d8576b\"],[0.6666666666666666,\"#ed7953\"],[0.7777777777777778,\"#fb9f3a\"],[0.8888888888888888,\"#fdca26\"],[1.0,\"#f0f921\"]]}],\"choropleth\":[{\"type\":\"choropleth\",\"colorbar\":{\"outlinewidth\":0,\"ticks\":\"\"}}],\"histogram2d\":[{\"type\":\"histogram2d\",\"colorbar\":{\"outlinewidth\":0,\"ticks\":\"\"},\"colorscale\":[[0.0,\"#0d0887\"],[0.1111111111111111,\"#46039f\"],[0.2222222222222222,\"#7201a8\"],[0.3333333333333333,\"#9c179e\"],[0.4444444444444444,\"#bd3786\"],[0.5555555555555556,\"#d8576b\"],[0.6666666666666666,\"#ed7953\"],[0.7777777777777778,\"#fb9f3a\"],[0.8888888888888888,\"#fdca26\"],[1.0,\"#f0f921\"]]}],\"heatmap\":[{\"type\":\"heatmap\",\"colorbar\":{\"outlinewidth\":0,\"ticks\":\"\"},\"colorscale\":[[0.0,\"#0d0887\"],[0.1111111111111111,\"#46039f\"],[0.2222222222222222,\"#7201a8\"],[0.3333333333333333,\"#9c179e\"],[0.4444444444444444,\"#bd3786\"],[0.5555555555555556,\"#d8576b\"],[0.6666666666666666,\"#ed7953\"],[0.7777777777777778,\"#fb9f3a\"],[0.8888888888888888,\"#fdca26\"],[1.0,\"#f0f921\"]]}],\"heatmapgl\":[{\"type\":\"heatmapgl\",\"colorbar\":{\"outlinewidth\":0,\"ticks\":\"\"},\"colorscale\":[[0.0,\"#0d0887\"],[0.1111111111111111,\"#46039f\"],[0.2222222222222222,\"#7201a8\"],[0.3333333333333333,\"#9c179e\"],[0.4444444444444444,\"#bd3786\"],[0.5555555555555556,\"#d8576b\"],[0.6666666666666666,\"#ed7953\"],[0.7777777777777778,\"#fb9f3a\"],[0.8888888888888888,\"#fdca26\"],[1.0,\"#f0f921\"]]}],\"contourcarpet\":[{\"type\":\"contourcarpet\",\"colorbar\":{\"outlinewidth\":0,\"ticks\":\"\"}}],\"contour\":[{\"type\":\"contour\",\"colorbar\":{\"outlinewidth\":0,\"ticks\":\"\"},\"colorscale\":[[0.0,\"#0d0887\"],[0.1111111111111111,\"#46039f\"],[0.2222222222222222,\"#7201a8\"],[0.3333333333333333,\"#9c179e\"],[0.4444444444444444,\"#bd3786\"],[0.5555555555555556,\"#d8576b\"],[0.6666666666666666,\"#ed7953\"],[0.7777777777777778,\"#fb9f3a\"],[0.8888888888888888,\"#fdca26\"],[1.0,\"#f0f921\"]]}],\"surface\":[{\"type\":\"surface\",\"colorbar\":{\"outlinewidth\":0,\"ticks\":\"\"},\"colorscale\":[[0.0,\"#0d0887\"],[0.1111111111111111,\"#46039f\"],[0.2222222222222222,\"#7201a8\"],[0.3333333333333333,\"#9c179e\"],[0.4444444444444444,\"#bd3786\"],[0.5555555555555556,\"#d8576b\"],[0.6666666666666666,\"#ed7953\"],[0.7777777777777778,\"#fb9f3a\"],[0.8888888888888888,\"#fdca26\"],[1.0,\"#f0f921\"]]}],\"mesh3d\":[{\"type\":\"mesh3d\",\"colorbar\":{\"outlinewidth\":0,\"ticks\":\"\"}}],\"scatter\":[{\"fillpattern\":{\"fillmode\":\"overlay\",\"size\":10,\"solidity\":0.2},\"type\":\"scatter\"}],\"parcoords\":[{\"type\":\"parcoords\",\"line\":{\"colorbar\":{\"outlinewidth\":0,\"ticks\":\"\"}}}],\"scatterpolargl\":[{\"type\":\"scatterpolargl\",\"marker\":{\"colorbar\":{\"outlinewidth\":0,\"ticks\":\"\"}}}],\"bar\":[{\"error_x\":{\"color\":\"#2a3f5f\"},\"error_y\":{\"color\":\"#2a3f5f\"},\"marker\":{\"line\":{\"color\":\"#E5ECF6\",\"width\":0.5},\"pattern\":{\"fillmode\":\"overlay\",\"size\":10,\"solidity\":0.2}},\"type\":\"bar\"}],\"scattergeo\":[{\"type\":\"scattergeo\",\"marker\":{\"colorbar\":{\"outlinewidth\":0,\"ticks\":\"\"}}}],\"scatterpolar\":[{\"type\":\"scatterpolar\",\"marker\":{\"colorbar\":{\"outlinewidth\":0,\"ticks\":\"\"}}}],\"histogram\":[{\"marker\":{\"pattern\":{\"fillmode\":\"overlay\",\"size\":10,\"solidity\":0.2}},\"type\":\"histogram\"}],\"scattergl\":[{\"type\":\"scattergl\",\"marker\":{\"colorbar\":{\"outlinewidth\":0,\"ticks\":\"\"}}}],\"scatter3d\":[{\"type\":\"scatter3d\",\"line\":{\"colorbar\":{\"outlinewidth\":0,\"ticks\":\"\"}},\"marker\":{\"colorbar\":{\"outlinewidth\":0,\"ticks\":\"\"}}}],\"scattermapbox\":[{\"type\":\"scattermapbox\",\"marker\":{\"colorbar\":{\"outlinewidth\":0,\"ticks\":\"\"}}}],\"scatterternary\":[{\"type\":\"scatterternary\",\"marker\":{\"colorbar\":{\"outlinewidth\":0,\"ticks\":\"\"}}}],\"scattercarpet\":[{\"type\":\"scattercarpet\",\"marker\":{\"colorbar\":{\"outlinewidth\":0,\"ticks\":\"\"}}}],\"carpet\":[{\"aaxis\":{\"endlinecolor\":\"#2a3f5f\",\"gridcolor\":\"white\",\"linecolor\":\"white\",\"minorgridcolor\":\"white\",\"startlinecolor\":\"#2a3f5f\"},\"baxis\":{\"endlinecolor\":\"#2a3f5f\",\"gridcolor\":\"white\",\"linecolor\":\"white\",\"minorgridcolor\":\"white\",\"startlinecolor\":\"#2a3f5f\"},\"type\":\"carpet\"}],\"table\":[{\"cells\":{\"fill\":{\"color\":\"#EBF0F8\"},\"line\":{\"color\":\"white\"}},\"header\":{\"fill\":{\"color\":\"#C8D4E3\"},\"line\":{\"color\":\"white\"}},\"type\":\"table\"}],\"barpolar\":[{\"marker\":{\"line\":{\"color\":\"#E5ECF6\",\"width\":0.5},\"pattern\":{\"fillmode\":\"overlay\",\"size\":10,\"solidity\":0.2}},\"type\":\"barpolar\"}],\"pie\":[{\"automargin\":true,\"type\":\"pie\"}]},\"layout\":{\"autotypenumbers\":\"strict\",\"colorway\":[\"#636efa\",\"#EF553B\",\"#00cc96\",\"#ab63fa\",\"#FFA15A\",\"#19d3f3\",\"#FF6692\",\"#B6E880\",\"#FF97FF\",\"#FECB52\"],\"font\":{\"color\":\"#2a3f5f\"},\"hovermode\":\"closest\",\"hoverlabel\":{\"align\":\"left\"},\"paper_bgcolor\":\"white\",\"plot_bgcolor\":\"#E5ECF6\",\"polar\":{\"bgcolor\":\"#E5ECF6\",\"angularaxis\":{\"gridcolor\":\"white\",\"linecolor\":\"white\",\"ticks\":\"\"},\"radialaxis\":{\"gridcolor\":\"white\",\"linecolor\":\"white\",\"ticks\":\"\"}},\"ternary\":{\"bgcolor\":\"#E5ECF6\",\"aaxis\":{\"gridcolor\":\"white\",\"linecolor\":\"white\",\"ticks\":\"\"},\"baxis\":{\"gridcolor\":\"white\",\"linecolor\":\"white\",\"ticks\":\"\"},\"caxis\":{\"gridcolor\":\"white\",\"linecolor\":\"white\",\"ticks\":\"\"}},\"coloraxis\":{\"colorbar\":{\"outlinewidth\":0,\"ticks\":\"\"}},\"colorscale\":{\"sequential\":[[0.0,\"#0d0887\"],[0.1111111111111111,\"#46039f\"],[0.2222222222222222,\"#7201a8\"],[0.3333333333333333,\"#9c179e\"],[0.4444444444444444,\"#bd3786\"],[0.5555555555555556,\"#d8576b\"],[0.6666666666666666,\"#ed7953\"],[0.7777777777777778,\"#fb9f3a\"],[0.8888888888888888,\"#fdca26\"],[1.0,\"#f0f921\"]],\"sequentialminus\":[[0.0,\"#0d0887\"],[0.1111111111111111,\"#46039f\"],[0.2222222222222222,\"#7201a8\"],[0.3333333333333333,\"#9c179e\"],[0.4444444444444444,\"#bd3786\"],[0.5555555555555556,\"#d8576b\"],[0.6666666666666666,\"#ed7953\"],[0.7777777777777778,\"#fb9f3a\"],[0.8888888888888888,\"#fdca26\"],[1.0,\"#f0f921\"]],\"diverging\":[[0,\"#8e0152\"],[0.1,\"#c51b7d\"],[0.2,\"#de77ae\"],[0.3,\"#f1b6da\"],[0.4,\"#fde0ef\"],[0.5,\"#f7f7f7\"],[0.6,\"#e6f5d0\"],[0.7,\"#b8e186\"],[0.8,\"#7fbc41\"],[0.9,\"#4d9221\"],[1,\"#276419\"]]},\"xaxis\":{\"gridcolor\":\"white\",\"linecolor\":\"white\",\"ticks\":\"\",\"title\":{\"standoff\":15},\"zerolinecolor\":\"white\",\"automargin\":true,\"zerolinewidth\":2},\"yaxis\":{\"gridcolor\":\"white\",\"linecolor\":\"white\",\"ticks\":\"\",\"title\":{\"standoff\":15},\"zerolinecolor\":\"white\",\"automargin\":true,\"zerolinewidth\":2},\"scene\":{\"xaxis\":{\"backgroundcolor\":\"#E5ECF6\",\"gridcolor\":\"white\",\"linecolor\":\"white\",\"showbackground\":true,\"ticks\":\"\",\"zerolinecolor\":\"white\",\"gridwidth\":2},\"yaxis\":{\"backgroundcolor\":\"#E5ECF6\",\"gridcolor\":\"white\",\"linecolor\":\"white\",\"showbackground\":true,\"ticks\":\"\",\"zerolinecolor\":\"white\",\"gridwidth\":2},\"zaxis\":{\"backgroundcolor\":\"#E5ECF6\",\"gridcolor\":\"white\",\"linecolor\":\"white\",\"showbackground\":true,\"ticks\":\"\",\"zerolinecolor\":\"white\",\"gridwidth\":2}},\"shapedefaults\":{\"line\":{\"color\":\"#2a3f5f\"}},\"annotationdefaults\":{\"arrowcolor\":\"#2a3f5f\",\"arrowhead\":0,\"arrowwidth\":1},\"geo\":{\"bgcolor\":\"white\",\"landcolor\":\"#E5ECF6\",\"subunitcolor\":\"white\",\"showland\":true,\"showlakes\":true,\"lakecolor\":\"white\"},\"title\":{\"x\":0.05},\"mapbox\":{\"style\":\"light\"}}}},                        {\"responsive\": true}                    ).then(function(){\n",
       "                            \n",
       "var gd = document.getElementById('c004ebd9-65a8-4295-8603-607111b2fbd3');\n",
       "var x = new MutationObserver(function (mutations, observer) {{\n",
       "        var display = window.getComputedStyle(gd).display;\n",
       "        if (!display || display === 'none') {{\n",
       "            console.log([gd, 'removed!']);\n",
       "            Plotly.purge(gd);\n",
       "            observer.disconnect();\n",
       "        }}\n",
       "}});\n",
       "\n",
       "// Listen for the removal of the full notebook cells\n",
       "var notebookContainer = gd.closest('#notebook-container');\n",
       "if (notebookContainer) {{\n",
       "    x.observe(notebookContainer, {childList: true});\n",
       "}}\n",
       "\n",
       "// Listen for the clearing of the current output cell\n",
       "var outputEl = gd.closest('.output');\n",
       "if (outputEl) {{\n",
       "    x.observe(outputEl, {childList: true});\n",
       "}}\n",
       "\n",
       "                        })                };                });            </script>        </div>"
      ]
     },
     "metadata": {},
     "output_type": "display_data"
    },
    {
     "data": {
      "application/vnd.plotly.v1+json": {
       "config": {
        "plotlyServerURL": "https://plot.ly"
       },
       "data": [
        {
         "name": "main root",
         "type": "scatter",
         "x": [
          7.014674,
          7.068931,
          7.097697,
          7.102405,
          7.096509,
          7.078003,
          7.057387,
          7.064473,
          7.056801,
          7.045027,
          7.03578,
          7.053914,
          7.058697,
          7.050602,
          7.021744
         ],
         "y": [
          4.083105,
          4.391064,
          4.580238,
          4.699361,
          4.817372,
          4.93411,
          5.050687,
          5.168109,
          5.286132,
          5.443573,
          5.623435,
          5.801408,
          5.991669,
          6.214376,
          6.799064
         ]
        },
        {
         "mode": "lines",
         "name": "0.2605480071596323",
         "type": "scatter",
         "x": [
          6.763005,
          6.767909826286618,
          6.772839294457359,
          6.777793404512223,
          6.782772156451209,
          6.787775550274317,
          6.792803585981547,
          6.797856263572899,
          6.8029335830483735,
          6.8080355444079705,
          6.81316214765169,
          6.818313392779531,
          6.823489279791495,
          6.828689808687582,
          6.83391497946779,
          6.83916479213212,
          6.844439246680573,
          6.849738343113148,
          6.855062081429845,
          6.860410461630665,
          6.865783483715607,
          6.871181147684672,
          6.876603453537857,
          6.882050401275166,
          6.887521990896597,
          6.893018222402151,
          6.8985390957918264,
          6.904084611065624,
          6.909654768223544,
          6.915249567265587,
          6.920869008191751,
          6.926513091002038,
          6.932181815696447,
          6.937875182274979,
          6.943593190737633,
          6.949335841084409,
          6.955103133315307,
          6.960895067430328,
          6.966711643429471,
          6.972552861312735,
          6.978418721080123,
          6.984309222731633,
          6.990224366267264,
          6.996164151687019,
          7.002128578990895,
          7.008117648178894,
          7.014131359251015,
          7.020169712207258,
          7.026232707047623,
          7.032320343772112
         ],
         "y": [
          4.337383,
          4.330880947788414,
          4.324518761216143,
          4.31829644028319,
          4.312213984989554,
          4.306271395335234,
          4.300468671320231,
          4.294805812944545,
          4.289282820208175,
          4.283899693111122,
          4.278656431653387,
          4.273553035834968,
          4.268589505655865,
          4.26376584111608,
          4.259082042215612,
          4.254538108954459,
          4.2501340413326245,
          4.245869839350106,
          4.2417455030069044,
          4.23776103230302,
          4.2339164272384515,
          4.230211687813201,
          4.226646814027266,
          4.223221805880648,
          4.219936663373347,
          4.2167913865053634,
          4.2137859752766955,
          4.210920429687345,
          4.208194749737312,
          4.205608935426595,
          4.203162986755195,
          4.200856903723111,
          4.198690686330345,
          4.196664334576894,
          4.194777848462762,
          4.193031227987945,
          4.191424473152446,
          4.189957583956263,
          4.188630560399397,
          4.187443402481848,
          4.186396110203615,
          4.185488683564699,
          4.184721122565101,
          4.184093427204819,
          4.1836055974838535,
          4.183257633402205,
          4.183049534959873,
          4.1829813021568585,
          4.18305293499316,
          4.1832644334687785
         ]
        },
        {
         "mode": "lines",
         "name": "0.3827049606990956",
         "type": "scatter",
         "x": [
          7.033361405086648,
          7.040616335306761,
          7.047914266389228,
          7.055255198334047,
          7.06263913114122,
          7.070066064810748,
          7.077535999342628,
          7.085048934736863,
          7.09260487099345,
          7.100203808112392,
          7.107845746093687,
          7.115530684937336,
          7.123258624643338,
          7.131029565211693,
          7.138843506642403,
          7.146700448935466,
          7.154600392090883,
          7.162543336108653,
          7.170529280988776,
          7.178558226731254,
          7.186630173336085,
          7.19474512080327,
          7.202903069132808,
          7.2111040183247,
          7.219347968378945,
          7.227634919295545,
          7.235964871074497,
          7.244337823715803,
          7.252753777219463,
          7.261212731585476,
          7.269714686813844,
          7.278259642904564,
          7.286847599857638,
          7.295478557673066,
          7.304152516350848,
          7.312869475890983,
          7.321629436293471,
          7.330432397558313,
          7.339278359685509,
          7.348167322675058,
          7.357099286526962,
          7.366074251241218,
          7.375092216817828,
          7.384153183256792,
          7.393257150558109,
          7.402404118721781,
          7.4115940877478055,
          7.420827057636183,
          7.430103028386915,
          7.439422
         ],
         "y": [
          4.189173425881989,
          4.184986901968824,
          4.181044447992618,
          4.177346063953371,
          4.173891749851081,
          4.170681505685749,
          4.167715331457377,
          4.164993227165962,
          4.162515192811507,
          4.160281228394009,
          4.15829133391347,
          4.15654550936989,
          4.155043754763267,
          4.153786070093604,
          4.152772455360898,
          4.152002910565151,
          4.151477435706362,
          4.151196030784532,
          4.15115869579966,
          4.1513654307517465,
          4.1518162356407915,
          4.152511110466795,
          4.153450055229757,
          4.154633069929677,
          4.156060154566556,
          4.1577313091403925,
          4.159646533651188,
          4.161805828098942,
          4.1642091924836535,
          4.166856626805324,
          4.169748131063954,
          4.172883705259541,
          4.176263349392086,
          4.179887063461591,
          4.1837548474680535,
          4.187866701411474,
          4.192222625291854,
          4.1968226191091915,
          4.201666682863488,
          4.206754816554742,
          4.212087020182955,
          4.217663293748127,
          4.223483637250257,
          4.229548050689345,
          4.235856534065391,
          4.242409087378396,
          4.24920571062836,
          4.256246403815282,
          4.263531166939162,
          4.27106
         ]
        },
        {
         "mode": "lines",
         "name": "0.22772216562729203",
         "type": "scatter",
         "x": [
          7.068931,
          7.073094369092347,
          7.0772702338602675,
          7.081458594303762,
          7.085659450422831,
          7.089872802217474,
          7.094098649687691,
          7.098336992833482,
          7.102587831654846,
          7.1068511661517855,
          7.111126996324298,
          7.115415322172384,
          7.119716143696045,
          7.124029460895279,
          7.128355273770088,
          7.132693582320471,
          7.137044386546428,
          7.141407686447958,
          7.145783482025063,
          7.150171773277742,
          7.1545725602059935,
          7.1589858428098205,
          7.163411621089221,
          7.167849895044196,
          7.172300664674744,
          7.176763929980867,
          7.181239690962562,
          7.185727947619833,
          7.190228699952677,
          7.194741947961096,
          7.199267691645089,
          7.203805931004655,
          7.208356666039795,
          7.21291989675051,
          7.217495623136798,
          7.22208384519866,
          7.2266845629360965,
          7.231297776349106,
          7.235923485437691,
          7.240561690201849,
          7.245212390641581,
          7.249875586756887,
          7.254551278547767,
          7.259239466014222,
          7.26394014915625,
          7.268653327973852,
          7.273379002467028,
          7.278117172635778,
          7.282867838480102,
          7.287631
         ],
         "y": [
          4.391064,
          4.390240299514515,
          4.389487523624088,
          4.388805672328719,
          4.38819474562841,
          4.387654743523158,
          4.387185666012965,
          4.386787513097831,
          4.386460284777755,
          4.386203981052738,
          4.386018601922779,
          4.385904147387878,
          4.385860617448037,
          4.385888012103253,
          4.385986331353528,
          4.3861555751988615,
          4.3863957436392536,
          4.386706836674704,
          4.387088854305213,
          4.387541796530781,
          4.388065663351406,
          4.38866045476709,
          4.389326170777833,
          4.390062811383635,
          4.390870376584495,
          4.391748866380413,
          4.39269828077139,
          4.393718619757426,
          4.394809883338519,
          4.395972071514672,
          4.397205184285882,
          4.3985092216521515,
          4.399884183613479,
          4.401330070169866,
          4.40284688132131,
          4.404434617067814,
          4.406093277409376,
          4.407822862345996,
          4.409623371877674,
          4.411494806004412,
          4.413437164726207,
          4.415450448043061,
          4.417534655954974,
          4.4196897884619455,
          4.421915845563975,
          4.424212827261063,
          4.42658073355321,
          4.429019564440415,
          4.431529319922678,
          4.43411
         ]
        }
       ],
       "layout": {
        "autosize": true,
        "template": {
         "data": {
          "bar": [
           {
            "error_x": {
             "color": "#2a3f5f"
            },
            "error_y": {
             "color": "#2a3f5f"
            },
            "marker": {
             "line": {
              "color": "#E5ECF6",
              "width": 0.5
             },
             "pattern": {
              "fillmode": "overlay",
              "size": 10,
              "solidity": 0.2
             }
            },
            "type": "bar"
           }
          ],
          "barpolar": [
           {
            "marker": {
             "line": {
              "color": "#E5ECF6",
              "width": 0.5
             },
             "pattern": {
              "fillmode": "overlay",
              "size": 10,
              "solidity": 0.2
             }
            },
            "type": "barpolar"
           }
          ],
          "carpet": [
           {
            "aaxis": {
             "endlinecolor": "#2a3f5f",
             "gridcolor": "white",
             "linecolor": "white",
             "minorgridcolor": "white",
             "startlinecolor": "#2a3f5f"
            },
            "baxis": {
             "endlinecolor": "#2a3f5f",
             "gridcolor": "white",
             "linecolor": "white",
             "minorgridcolor": "white",
             "startlinecolor": "#2a3f5f"
            },
            "type": "carpet"
           }
          ],
          "choropleth": [
           {
            "colorbar": {
             "outlinewidth": 0,
             "ticks": ""
            },
            "type": "choropleth"
           }
          ],
          "contour": [
           {
            "colorbar": {
             "outlinewidth": 0,
             "ticks": ""
            },
            "colorscale": [
             [
              0,
              "#0d0887"
             ],
             [
              0.1111111111111111,
              "#46039f"
             ],
             [
              0.2222222222222222,
              "#7201a8"
             ],
             [
              0.3333333333333333,
              "#9c179e"
             ],
             [
              0.4444444444444444,
              "#bd3786"
             ],
             [
              0.5555555555555556,
              "#d8576b"
             ],
             [
              0.6666666666666666,
              "#ed7953"
             ],
             [
              0.7777777777777778,
              "#fb9f3a"
             ],
             [
              0.8888888888888888,
              "#fdca26"
             ],
             [
              1,
              "#f0f921"
             ]
            ],
            "type": "contour"
           }
          ],
          "contourcarpet": [
           {
            "colorbar": {
             "outlinewidth": 0,
             "ticks": ""
            },
            "type": "contourcarpet"
           }
          ],
          "heatmap": [
           {
            "colorbar": {
             "outlinewidth": 0,
             "ticks": ""
            },
            "colorscale": [
             [
              0,
              "#0d0887"
             ],
             [
              0.1111111111111111,
              "#46039f"
             ],
             [
              0.2222222222222222,
              "#7201a8"
             ],
             [
              0.3333333333333333,
              "#9c179e"
             ],
             [
              0.4444444444444444,
              "#bd3786"
             ],
             [
              0.5555555555555556,
              "#d8576b"
             ],
             [
              0.6666666666666666,
              "#ed7953"
             ],
             [
              0.7777777777777778,
              "#fb9f3a"
             ],
             [
              0.8888888888888888,
              "#fdca26"
             ],
             [
              1,
              "#f0f921"
             ]
            ],
            "type": "heatmap"
           }
          ],
          "heatmapgl": [
           {
            "colorbar": {
             "outlinewidth": 0,
             "ticks": ""
            },
            "colorscale": [
             [
              0,
              "#0d0887"
             ],
             [
              0.1111111111111111,
              "#46039f"
             ],
             [
              0.2222222222222222,
              "#7201a8"
             ],
             [
              0.3333333333333333,
              "#9c179e"
             ],
             [
              0.4444444444444444,
              "#bd3786"
             ],
             [
              0.5555555555555556,
              "#d8576b"
             ],
             [
              0.6666666666666666,
              "#ed7953"
             ],
             [
              0.7777777777777778,
              "#fb9f3a"
             ],
             [
              0.8888888888888888,
              "#fdca26"
             ],
             [
              1,
              "#f0f921"
             ]
            ],
            "type": "heatmapgl"
           }
          ],
          "histogram": [
           {
            "marker": {
             "pattern": {
              "fillmode": "overlay",
              "size": 10,
              "solidity": 0.2
             }
            },
            "type": "histogram"
           }
          ],
          "histogram2d": [
           {
            "colorbar": {
             "outlinewidth": 0,
             "ticks": ""
            },
            "colorscale": [
             [
              0,
              "#0d0887"
             ],
             [
              0.1111111111111111,
              "#46039f"
             ],
             [
              0.2222222222222222,
              "#7201a8"
             ],
             [
              0.3333333333333333,
              "#9c179e"
             ],
             [
              0.4444444444444444,
              "#bd3786"
             ],
             [
              0.5555555555555556,
              "#d8576b"
             ],
             [
              0.6666666666666666,
              "#ed7953"
             ],
             [
              0.7777777777777778,
              "#fb9f3a"
             ],
             [
              0.8888888888888888,
              "#fdca26"
             ],
             [
              1,
              "#f0f921"
             ]
            ],
            "type": "histogram2d"
           }
          ],
          "histogram2dcontour": [
           {
            "colorbar": {
             "outlinewidth": 0,
             "ticks": ""
            },
            "colorscale": [
             [
              0,
              "#0d0887"
             ],
             [
              0.1111111111111111,
              "#46039f"
             ],
             [
              0.2222222222222222,
              "#7201a8"
             ],
             [
              0.3333333333333333,
              "#9c179e"
             ],
             [
              0.4444444444444444,
              "#bd3786"
             ],
             [
              0.5555555555555556,
              "#d8576b"
             ],
             [
              0.6666666666666666,
              "#ed7953"
             ],
             [
              0.7777777777777778,
              "#fb9f3a"
             ],
             [
              0.8888888888888888,
              "#fdca26"
             ],
             [
              1,
              "#f0f921"
             ]
            ],
            "type": "histogram2dcontour"
           }
          ],
          "mesh3d": [
           {
            "colorbar": {
             "outlinewidth": 0,
             "ticks": ""
            },
            "type": "mesh3d"
           }
          ],
          "parcoords": [
           {
            "line": {
             "colorbar": {
              "outlinewidth": 0,
              "ticks": ""
             }
            },
            "type": "parcoords"
           }
          ],
          "pie": [
           {
            "automargin": true,
            "type": "pie"
           }
          ],
          "scatter": [
           {
            "fillpattern": {
             "fillmode": "overlay",
             "size": 10,
             "solidity": 0.2
            },
            "type": "scatter"
           }
          ],
          "scatter3d": [
           {
            "line": {
             "colorbar": {
              "outlinewidth": 0,
              "ticks": ""
             }
            },
            "marker": {
             "colorbar": {
              "outlinewidth": 0,
              "ticks": ""
             }
            },
            "type": "scatter3d"
           }
          ],
          "scattercarpet": [
           {
            "marker": {
             "colorbar": {
              "outlinewidth": 0,
              "ticks": ""
             }
            },
            "type": "scattercarpet"
           }
          ],
          "scattergeo": [
           {
            "marker": {
             "colorbar": {
              "outlinewidth": 0,
              "ticks": ""
             }
            },
            "type": "scattergeo"
           }
          ],
          "scattergl": [
           {
            "marker": {
             "colorbar": {
              "outlinewidth": 0,
              "ticks": ""
             }
            },
            "type": "scattergl"
           }
          ],
          "scattermapbox": [
           {
            "marker": {
             "colorbar": {
              "outlinewidth": 0,
              "ticks": ""
             }
            },
            "type": "scattermapbox"
           }
          ],
          "scatterpolar": [
           {
            "marker": {
             "colorbar": {
              "outlinewidth": 0,
              "ticks": ""
             }
            },
            "type": "scatterpolar"
           }
          ],
          "scatterpolargl": [
           {
            "marker": {
             "colorbar": {
              "outlinewidth": 0,
              "ticks": ""
             }
            },
            "type": "scatterpolargl"
           }
          ],
          "scatterternary": [
           {
            "marker": {
             "colorbar": {
              "outlinewidth": 0,
              "ticks": ""
             }
            },
            "type": "scatterternary"
           }
          ],
          "surface": [
           {
            "colorbar": {
             "outlinewidth": 0,
             "ticks": ""
            },
            "colorscale": [
             [
              0,
              "#0d0887"
             ],
             [
              0.1111111111111111,
              "#46039f"
             ],
             [
              0.2222222222222222,
              "#7201a8"
             ],
             [
              0.3333333333333333,
              "#9c179e"
             ],
             [
              0.4444444444444444,
              "#bd3786"
             ],
             [
              0.5555555555555556,
              "#d8576b"
             ],
             [
              0.6666666666666666,
              "#ed7953"
             ],
             [
              0.7777777777777778,
              "#fb9f3a"
             ],
             [
              0.8888888888888888,
              "#fdca26"
             ],
             [
              1,
              "#f0f921"
             ]
            ],
            "type": "surface"
           }
          ],
          "table": [
           {
            "cells": {
             "fill": {
              "color": "#EBF0F8"
             },
             "line": {
              "color": "white"
             }
            },
            "header": {
             "fill": {
              "color": "#C8D4E3"
             },
             "line": {
              "color": "white"
             }
            },
            "type": "table"
           }
          ]
         },
         "layout": {
          "annotationdefaults": {
           "arrowcolor": "#2a3f5f",
           "arrowhead": 0,
           "arrowwidth": 1
          },
          "autotypenumbers": "strict",
          "coloraxis": {
           "colorbar": {
            "outlinewidth": 0,
            "ticks": ""
           }
          },
          "colorscale": {
           "diverging": [
            [
             0,
             "#8e0152"
            ],
            [
             0.1,
             "#c51b7d"
            ],
            [
             0.2,
             "#de77ae"
            ],
            [
             0.3,
             "#f1b6da"
            ],
            [
             0.4,
             "#fde0ef"
            ],
            [
             0.5,
             "#f7f7f7"
            ],
            [
             0.6,
             "#e6f5d0"
            ],
            [
             0.7,
             "#b8e186"
            ],
            [
             0.8,
             "#7fbc41"
            ],
            [
             0.9,
             "#4d9221"
            ],
            [
             1,
             "#276419"
            ]
           ],
           "sequential": [
            [
             0,
             "#0d0887"
            ],
            [
             0.1111111111111111,
             "#46039f"
            ],
            [
             0.2222222222222222,
             "#7201a8"
            ],
            [
             0.3333333333333333,
             "#9c179e"
            ],
            [
             0.4444444444444444,
             "#bd3786"
            ],
            [
             0.5555555555555556,
             "#d8576b"
            ],
            [
             0.6666666666666666,
             "#ed7953"
            ],
            [
             0.7777777777777778,
             "#fb9f3a"
            ],
            [
             0.8888888888888888,
             "#fdca26"
            ],
            [
             1,
             "#f0f921"
            ]
           ],
           "sequentialminus": [
            [
             0,
             "#0d0887"
            ],
            [
             0.1111111111111111,
             "#46039f"
            ],
            [
             0.2222222222222222,
             "#7201a8"
            ],
            [
             0.3333333333333333,
             "#9c179e"
            ],
            [
             0.4444444444444444,
             "#bd3786"
            ],
            [
             0.5555555555555556,
             "#d8576b"
            ],
            [
             0.6666666666666666,
             "#ed7953"
            ],
            [
             0.7777777777777778,
             "#fb9f3a"
            ],
            [
             0.8888888888888888,
             "#fdca26"
            ],
            [
             1,
             "#f0f921"
            ]
           ]
          },
          "colorway": [
           "#636efa",
           "#EF553B",
           "#00cc96",
           "#ab63fa",
           "#FFA15A",
           "#19d3f3",
           "#FF6692",
           "#B6E880",
           "#FF97FF",
           "#FECB52"
          ],
          "font": {
           "color": "#2a3f5f"
          },
          "geo": {
           "bgcolor": "white",
           "lakecolor": "white",
           "landcolor": "#E5ECF6",
           "showlakes": true,
           "showland": true,
           "subunitcolor": "white"
          },
          "hoverlabel": {
           "align": "left"
          },
          "hovermode": "closest",
          "mapbox": {
           "style": "light"
          },
          "paper_bgcolor": "white",
          "plot_bgcolor": "#E5ECF6",
          "polar": {
           "angularaxis": {
            "gridcolor": "white",
            "linecolor": "white",
            "ticks": ""
           },
           "bgcolor": "#E5ECF6",
           "radialaxis": {
            "gridcolor": "white",
            "linecolor": "white",
            "ticks": ""
           }
          },
          "scene": {
           "xaxis": {
            "backgroundcolor": "#E5ECF6",
            "gridcolor": "white",
            "gridwidth": 2,
            "linecolor": "white",
            "showbackground": true,
            "ticks": "",
            "zerolinecolor": "white"
           },
           "yaxis": {
            "backgroundcolor": "#E5ECF6",
            "gridcolor": "white",
            "gridwidth": 2,
            "linecolor": "white",
            "showbackground": true,
            "ticks": "",
            "zerolinecolor": "white"
           },
           "zaxis": {
            "backgroundcolor": "#E5ECF6",
            "gridcolor": "white",
            "gridwidth": 2,
            "linecolor": "white",
            "showbackground": true,
            "ticks": "",
            "zerolinecolor": "white"
           }
          },
          "shapedefaults": {
           "line": {
            "color": "#2a3f5f"
           }
          },
          "ternary": {
           "aaxis": {
            "gridcolor": "white",
            "linecolor": "white",
            "ticks": ""
           },
           "baxis": {
            "gridcolor": "white",
            "linecolor": "white",
            "ticks": ""
           },
           "bgcolor": "#E5ECF6",
           "caxis": {
            "gridcolor": "white",
            "linecolor": "white",
            "ticks": ""
           }
          },
          "title": {
           "x": 0.05
          },
          "xaxis": {
           "automargin": true,
           "gridcolor": "white",
           "linecolor": "white",
           "ticks": "",
           "title": {
            "standoff": 15
           },
           "zerolinecolor": "white",
           "zerolinewidth": 2
          },
          "yaxis": {
           "automargin": true,
           "gridcolor": "white",
           "linecolor": "white",
           "ticks": "",
           "title": {
            "standoff": 15
           },
           "zerolinecolor": "white",
           "zerolinewidth": 2
          }
         }
        },
        "xaxis": {
         "autorange": true,
         "range": [
          6.763005,
          7.439422
         ],
         "type": "linear"
        },
        "yaxis": {
         "autorange": true,
         "range": [
          3.8589724611650484,
          7.023196538834952
         ],
         "type": "linear"
        }
       }
      },
      "image/png": "[encoded data removed]",
      "text/html": [
       "<div>                            <div id=\"5c6f256d-b6c3-41b1-84b3-962150f90c8f\" class=\"plotly-graph-div\" style=\"height:525px; width:100%;\"></div>            <script type=\"text/javascript\">                require([\"plotly\"], function(Plotly) {                    window.PLOTLYENV=window.PLOTLYENV || {};                                    if (document.getElementById(\"5c6f256d-b6c3-41b1-84b3-962150f90c8f\")) {                    Plotly.newPlot(                        \"5c6f256d-b6c3-41b1-84b3-962150f90c8f\",                        [{\"name\":\"main root\",\"x\":[7.014674,7.068931,7.097697,7.102405,7.096509,7.078003,7.057387,7.064473,7.056801,7.045027,7.03578,7.053914,7.058697,7.050602,7.021744],\"y\":[4.083105,4.391064,4.580238,4.699361,4.817372,4.93411,5.050687,5.168109,5.286132,5.443573,5.623435,5.801408,5.991669,6.214376,6.799064],\"type\":\"scatter\"},{\"mode\":\"lines\",\"name\":\"0.2605480071596323\",\"x\":[6.763005,6.767909826286618,6.772839294457359,6.777793404512223,6.782772156451209,6.787775550274317,6.792803585981547,6.797856263572899,6.8029335830483735,6.8080355444079705,6.81316214765169,6.818313392779531,6.823489279791495,6.828689808687582,6.83391497946779,6.83916479213212,6.844439246680573,6.849738343113148,6.855062081429845,6.860410461630665,6.865783483715607,6.871181147684672,6.876603453537857,6.882050401275166,6.887521990896597,6.893018222402151,6.8985390957918264,6.904084611065624,6.909654768223544,6.915249567265587,6.920869008191751,6.926513091002038,6.932181815696447,6.937875182274979,6.943593190737633,6.949335841084409,6.955103133315307,6.960895067430328,6.966711643429471,6.972552861312735,6.978418721080123,6.984309222731633,6.990224366267264,6.996164151687019,7.002128578990895,7.008117648178894,7.014131359251015,7.020169712207258,7.026232707047623,7.032320343772112],\"y\":[4.337383,4.330880947788414,4.324518761216143,4.31829644028319,4.312213984989554,4.306271395335234,4.300468671320231,4.294805812944545,4.289282820208175,4.283899693111122,4.278656431653387,4.273553035834968,4.268589505655865,4.26376584111608,4.259082042215612,4.254538108954459,4.2501340413326245,4.245869839350106,4.2417455030069044,4.23776103230302,4.2339164272384515,4.230211687813201,4.226646814027266,4.223221805880648,4.219936663373347,4.2167913865053634,4.2137859752766955,4.210920429687345,4.208194749737312,4.205608935426595,4.203162986755195,4.200856903723111,4.198690686330345,4.196664334576894,4.194777848462762,4.193031227987945,4.191424473152446,4.189957583956263,4.188630560399397,4.187443402481848,4.186396110203615,4.185488683564699,4.184721122565101,4.184093427204819,4.1836055974838535,4.183257633402205,4.183049534959873,4.1829813021568585,4.18305293499316,4.1832644334687785],\"type\":\"scatter\"},{\"mode\":\"lines\",\"name\":\"0.3827049606990956\",\"x\":[7.033361405086648,7.040616335306761,7.047914266389228,7.055255198334047,7.06263913114122,7.070066064810748,7.077535999342628,7.085048934736863,7.09260487099345,7.100203808112392,7.107845746093687,7.115530684937336,7.123258624643338,7.131029565211693,7.138843506642403,7.146700448935466,7.154600392090883,7.162543336108653,7.170529280988776,7.178558226731254,7.186630173336085,7.19474512080327,7.202903069132808,7.2111040183247,7.219347968378945,7.227634919295545,7.235964871074497,7.244337823715803,7.252753777219463,7.261212731585476,7.269714686813844,7.278259642904564,7.286847599857638,7.295478557673066,7.304152516350848,7.312869475890983,7.321629436293471,7.330432397558313,7.339278359685509,7.348167322675058,7.357099286526962,7.366074251241218,7.375092216817828,7.384153183256792,7.393257150558109,7.402404118721781,7.4115940877478055,7.420827057636183,7.430103028386915,7.439422],\"y\":[4.189173425881989,4.184986901968824,4.181044447992618,4.177346063953371,4.173891749851081,4.170681505685749,4.167715331457377,4.164993227165962,4.162515192811507,4.160281228394009,4.15829133391347,4.15654550936989,4.155043754763267,4.153786070093604,4.152772455360898,4.152002910565151,4.151477435706362,4.151196030784532,4.15115869579966,4.1513654307517465,4.1518162356407915,4.152511110466795,4.153450055229757,4.154633069929677,4.156060154566556,4.1577313091403925,4.159646533651188,4.161805828098942,4.1642091924836535,4.166856626805324,4.169748131063954,4.172883705259541,4.176263349392086,4.179887063461591,4.1837548474680535,4.187866701411474,4.192222625291854,4.1968226191091915,4.201666682863488,4.206754816554742,4.212087020182955,4.217663293748127,4.223483637250257,4.229548050689345,4.235856534065391,4.242409087378396,4.24920571062836,4.256246403815282,4.263531166939162,4.27106],\"type\":\"scatter\"},{\"mode\":\"lines\",\"name\":\"0.22772216562729203\",\"x\":[7.068931,7.073094369092347,7.0772702338602675,7.081458594303762,7.085659450422831,7.089872802217474,7.094098649687691,7.098336992833482,7.102587831654846,7.1068511661517855,7.111126996324298,7.115415322172384,7.119716143696045,7.124029460895279,7.128355273770088,7.132693582320471,7.137044386546428,7.141407686447958,7.145783482025063,7.150171773277742,7.1545725602059935,7.1589858428098205,7.163411621089221,7.167849895044196,7.172300664674744,7.176763929980867,7.181239690962562,7.185727947619833,7.190228699952677,7.194741947961096,7.199267691645089,7.203805931004655,7.208356666039795,7.21291989675051,7.217495623136798,7.22208384519866,7.2266845629360965,7.231297776349106,7.235923485437691,7.240561690201849,7.245212390641581,7.249875586756887,7.254551278547767,7.259239466014222,7.26394014915625,7.268653327973852,7.273379002467028,7.278117172635778,7.282867838480102,7.287631],\"y\":[4.391064,4.390240299514515,4.389487523624088,4.388805672328719,4.38819474562841,4.387654743523158,4.387185666012965,4.386787513097831,4.386460284777755,4.386203981052738,4.386018601922779,4.385904147387878,4.385860617448037,4.385888012103253,4.385986331353528,4.3861555751988615,4.3863957436392536,4.386706836674704,4.387088854305213,4.387541796530781,4.388065663351406,4.38866045476709,4.389326170777833,4.390062811383635,4.390870376584495,4.391748866380413,4.39269828077139,4.393718619757426,4.394809883338519,4.395972071514672,4.397205184285882,4.3985092216521515,4.399884183613479,4.401330070169866,4.40284688132131,4.404434617067814,4.406093277409376,4.407822862345996,4.409623371877674,4.411494806004412,4.413437164726207,4.415450448043061,4.417534655954974,4.4196897884619455,4.421915845563975,4.424212827261063,4.42658073355321,4.429019564440415,4.431529319922678,4.43411],\"type\":\"scatter\"}],                        {\"template\":{\"data\":{\"histogram2dcontour\":[{\"type\":\"histogram2dcontour\",\"colorbar\":{\"outlinewidth\":0,\"ticks\":\"\"},\"colorscale\":[[0.0,\"#0d0887\"],[0.1111111111111111,\"#46039f\"],[0.2222222222222222,\"#7201a8\"],[0.3333333333333333,\"#9c179e\"],[0.4444444444444444,\"#bd3786\"],[0.5555555555555556,\"#d8576b\"],[0.6666666666666666,\"#ed7953\"],[0.7777777777777778,\"#fb9f3a\"],[0.8888888888888888,\"#fdca26\"],[1.0,\"#f0f921\"]]}],\"choropleth\":[{\"type\":\"choropleth\",\"colorbar\":{\"outlinewidth\":0,\"ticks\":\"\"}}],\"histogram2d\":[{\"type\":\"histogram2d\",\"colorbar\":{\"outlinewidth\":0,\"ticks\":\"\"},\"colorscale\":[[0.0,\"#0d0887\"],[0.1111111111111111,\"#46039f\"],[0.2222222222222222,\"#7201a8\"],[0.3333333333333333,\"#9c179e\"],[0.4444444444444444,\"#bd3786\"],[0.5555555555555556,\"#d8576b\"],[0.6666666666666666,\"#ed7953\"],[0.7777777777777778,\"#fb9f3a\"],[0.8888888888888888,\"#fdca26\"],[1.0,\"#f0f921\"]]}],\"heatmap\":[{\"type\":\"heatmap\",\"colorbar\":{\"outlinewidth\":0,\"ticks\":\"\"},\"colorscale\":[[0.0,\"#0d0887\"],[0.1111111111111111,\"#46039f\"],[0.2222222222222222,\"#7201a8\"],[0.3333333333333333,\"#9c179e\"],[0.4444444444444444,\"#bd3786\"],[0.5555555555555556,\"#d8576b\"],[0.6666666666666666,\"#ed7953\"],[0.7777777777777778,\"#fb9f3a\"],[0.8888888888888888,\"#fdca26\"],[1.0,\"#f0f921\"]]}],\"heatmapgl\":[{\"type\":\"heatmapgl\",\"colorbar\":{\"outlinewidth\":0,\"ticks\":\"\"},\"colorscale\":[[0.0,\"#0d0887\"],[0.1111111111111111,\"#46039f\"],[0.2222222222222222,\"#7201a8\"],[0.3333333333333333,\"#9c179e\"],[0.4444444444444444,\"#bd3786\"],[0.5555555555555556,\"#d8576b\"],[0.6666666666666666,\"#ed7953\"],[0.7777777777777778,\"#fb9f3a\"],[0.8888888888888888,\"#fdca26\"],[1.0,\"#f0f921\"]]}],\"contourcarpet\":[{\"type\":\"contourcarpet\",\"colorbar\":{\"outlinewidth\":0,\"ticks\":\"\"}}],\"contour\":[{\"type\":\"contour\",\"colorbar\":{\"outlinewidth\":0,\"ticks\":\"\"},\"colorscale\":[[0.0,\"#0d0887\"],[0.1111111111111111,\"#46039f\"],[0.2222222222222222,\"#7201a8\"],[0.3333333333333333,\"#9c179e\"],[0.4444444444444444,\"#bd3786\"],[0.5555555555555556,\"#d8576b\"],[0.6666666666666666,\"#ed7953\"],[0.7777777777777778,\"#fb9f3a\"],[0.8888888888888888,\"#fdca26\"],[1.0,\"#f0f921\"]]}],\"surface\":[{\"type\":\"surface\",\"colorbar\":{\"outlinewidth\":0,\"ticks\":\"\"},\"colorscale\":[[0.0,\"#0d0887\"],[0.1111111111111111,\"#46039f\"],[0.2222222222222222,\"#7201a8\"],[0.3333333333333333,\"#9c179e\"],[0.4444444444444444,\"#bd3786\"],[0.5555555555555556,\"#d8576b\"],[0.6666666666666666,\"#ed7953\"],[0.7777777777777778,\"#fb9f3a\"],[0.8888888888888888,\"#fdca26\"],[1.0,\"#f0f921\"]]}],\"mesh3d\":[{\"type\":\"mesh3d\",\"colorbar\":{\"outlinewidth\":0,\"ticks\":\"\"}}],\"scatter\":[{\"fillpattern\":{\"fillmode\":\"overlay\",\"size\":10,\"solidity\":0.2},\"type\":\"scatter\"}],\"parcoords\":[{\"type\":\"parcoords\",\"line\":{\"colorbar\":{\"outlinewidth\":0,\"ticks\":\"\"}}}],\"scatterpolargl\":[{\"type\":\"scatterpolargl\",\"marker\":{\"colorbar\":{\"outlinewidth\":0,\"ticks\":\"\"}}}],\"bar\":[{\"error_x\":{\"color\":\"#2a3f5f\"},\"error_y\":{\"color\":\"#2a3f5f\"},\"marker\":{\"line\":{\"color\":\"#E5ECF6\",\"width\":0.5},\"pattern\":{\"fillmode\":\"overlay\",\"size\":10,\"solidity\":0.2}},\"type\":\"bar\"}],\"scattergeo\":[{\"type\":\"scattergeo\",\"marker\":{\"colorbar\":{\"outlinewidth\":0,\"ticks\":\"\"}}}],\"scatterpolar\":[{\"type\":\"scatterpolar\",\"marker\":{\"colorbar\":{\"outlinewidth\":0,\"ticks\":\"\"}}}],\"histogram\":[{\"marker\":{\"pattern\":{\"fillmode\":\"overlay\",\"size\":10,\"solidity\":0.2}},\"type\":\"histogram\"}],\"scattergl\":[{\"type\":\"scattergl\",\"marker\":{\"colorbar\":{\"outlinewidth\":0,\"ticks\":\"\"}}}],\"scatter3d\":[{\"type\":\"scatter3d\",\"line\":{\"colorbar\":{\"outlinewidth\":0,\"ticks\":\"\"}},\"marker\":{\"colorbar\":{\"outlinewidth\":0,\"ticks\":\"\"}}}],\"scattermapbox\":[{\"type\":\"scattermapbox\",\"marker\":{\"colorbar\":{\"outlinewidth\":0,\"ticks\":\"\"}}}],\"scatterternary\":[{\"type\":\"scatterternary\",\"marker\":{\"colorbar\":{\"outlinewidth\":0,\"ticks\":\"\"}}}],\"scattercarpet\":[{\"type\":\"scattercarpet\",\"marker\":{\"colorbar\":{\"outlinewidth\":0,\"ticks\":\"\"}}}],\"carpet\":[{\"aaxis\":{\"endlinecolor\":\"#2a3f5f\",\"gridcolor\":\"white\",\"linecolor\":\"white\",\"minorgridcolor\":\"white\",\"startlinecolor\":\"#2a3f5f\"},\"baxis\":{\"endlinecolor\":\"#2a3f5f\",\"gridcolor\":\"white\",\"linecolor\":\"white\",\"minorgridcolor\":\"white\",\"startlinecolor\":\"#2a3f5f\"},\"type\":\"carpet\"}],\"table\":[{\"cells\":{\"fill\":{\"color\":\"#EBF0F8\"},\"line\":{\"color\":\"white\"}},\"header\":{\"fill\":{\"color\":\"#C8D4E3\"},\"line\":{\"color\":\"white\"}},\"type\":\"table\"}],\"barpolar\":[{\"marker\":{\"line\":{\"color\":\"#E5ECF6\",\"width\":0.5},\"pattern\":{\"fillmode\":\"overlay\",\"size\":10,\"solidity\":0.2}},\"type\":\"barpolar\"}],\"pie\":[{\"automargin\":true,\"type\":\"pie\"}]},\"layout\":{\"autotypenumbers\":\"strict\",\"colorway\":[\"#636efa\",\"#EF553B\",\"#00cc96\",\"#ab63fa\",\"#FFA15A\",\"#19d3f3\",\"#FF6692\",\"#B6E880\",\"#FF97FF\",\"#FECB52\"],\"font\":{\"color\":\"#2a3f5f\"},\"hovermode\":\"closest\",\"hoverlabel\":{\"align\":\"left\"},\"paper_bgcolor\":\"white\",\"plot_bgcolor\":\"#E5ECF6\",\"polar\":{\"bgcolor\":\"#E5ECF6\",\"angularaxis\":{\"gridcolor\":\"white\",\"linecolor\":\"white\",\"ticks\":\"\"},\"radialaxis\":{\"gridcolor\":\"white\",\"linecolor\":\"white\",\"ticks\":\"\"}},\"ternary\":{\"bgcolor\":\"#E5ECF6\",\"aaxis\":{\"gridcolor\":\"white\",\"linecolor\":\"white\",\"ticks\":\"\"},\"baxis\":{\"gridcolor\":\"white\",\"linecolor\":\"white\",\"ticks\":\"\"},\"caxis\":{\"gridcolor\":\"white\",\"linecolor\":\"white\",\"ticks\":\"\"}},\"coloraxis\":{\"colorbar\":{\"outlinewidth\":0,\"ticks\":\"\"}},\"colorscale\":{\"sequential\":[[0.0,\"#0d0887\"],[0.1111111111111111,\"#46039f\"],[0.2222222222222222,\"#7201a8\"],[0.3333333333333333,\"#9c179e\"],[0.4444444444444444,\"#bd3786\"],[0.5555555555555556,\"#d8576b\"],[0.6666666666666666,\"#ed7953\"],[0.7777777777777778,\"#fb9f3a\"],[0.8888888888888888,\"#fdca26\"],[1.0,\"#f0f921\"]],\"sequentialminus\":[[0.0,\"#0d0887\"],[0.1111111111111111,\"#46039f\"],[0.2222222222222222,\"#7201a8\"],[0.3333333333333333,\"#9c179e\"],[0.4444444444444444,\"#bd3786\"],[0.5555555555555556,\"#d8576b\"],[0.6666666666666666,\"#ed7953\"],[0.7777777777777778,\"#fb9f3a\"],[0.8888888888888888,\"#fdca26\"],[1.0,\"#f0f921\"]],\"diverging\":[[0,\"#8e0152\"],[0.1,\"#c51b7d\"],[0.2,\"#de77ae\"],[0.3,\"#f1b6da\"],[0.4,\"#fde0ef\"],[0.5,\"#f7f7f7\"],[0.6,\"#e6f5d0\"],[0.7,\"#b8e186\"],[0.8,\"#7fbc41\"],[0.9,\"#4d9221\"],[1,\"#276419\"]]},\"xaxis\":{\"gridcolor\":\"white\",\"linecolor\":\"white\",\"ticks\":\"\",\"title\":{\"standoff\":15},\"zerolinecolor\":\"white\",\"automargin\":true,\"zerolinewidth\":2},\"yaxis\":{\"gridcolor\":\"white\",\"linecolor\":\"white\",\"ticks\":\"\",\"title\":{\"standoff\":15},\"zerolinecolor\":\"white\",\"automargin\":true,\"zerolinewidth\":2},\"scene\":{\"xaxis\":{\"backgroundcolor\":\"#E5ECF6\",\"gridcolor\":\"white\",\"linecolor\":\"white\",\"showbackground\":true,\"ticks\":\"\",\"zerolinecolor\":\"white\",\"gridwidth\":2},\"yaxis\":{\"backgroundcolor\":\"#E5ECF6\",\"gridcolor\":\"white\",\"linecolor\":\"white\",\"showbackground\":true,\"ticks\":\"\",\"zerolinecolor\":\"white\",\"gridwidth\":2},\"zaxis\":{\"backgroundcolor\":\"#E5ECF6\",\"gridcolor\":\"white\",\"linecolor\":\"white\",\"showbackground\":true,\"ticks\":\"\",\"zerolinecolor\":\"white\",\"gridwidth\":2}},\"shapedefaults\":{\"line\":{\"color\":\"#2a3f5f\"}},\"annotationdefaults\":{\"arrowcolor\":\"#2a3f5f\",\"arrowhead\":0,\"arrowwidth\":1},\"geo\":{\"bgcolor\":\"white\",\"landcolor\":\"#E5ECF6\",\"subunitcolor\":\"white\",\"showland\":true,\"showlakes\":true,\"lakecolor\":\"white\"},\"title\":{\"x\":0.05},\"mapbox\":{\"style\":\"light\"}}}},                        {\"responsive\": true}                    ).then(function(){\n",
       "                            \n",
       "var gd = document.getElementById('5c6f256d-b6c3-41b1-84b3-962150f90c8f');\n",
       "var x = new MutationObserver(function (mutations, observer) {{\n",
       "        var display = window.getComputedStyle(gd).display;\n",
       "        if (!display || display === 'none') {{\n",
       "            console.log([gd, 'removed!']);\n",
       "            Plotly.purge(gd);\n",
       "            observer.disconnect();\n",
       "        }}\n",
       "}});\n",
       "\n",
       "// Listen for the removal of the full notebook cells\n",
       "var notebookContainer = gd.closest('#notebook-container');\n",
       "if (notebookContainer) {{\n",
       "    x.observe(notebookContainer, {childList: true});\n",
       "}}\n",
       "\n",
       "// Listen for the clearing of the current output cell\n",
       "var outputEl = gd.closest('.output');\n",
       "if (outputEl) {{\n",
       "    x.observe(outputEl, {childList: true});\n",
       "}}\n",
       "\n",
       "                        })                };                });            </script>        </div>"
      ]
     },
     "metadata": {},
     "output_type": "display_data"
    },
    {
     "data": {
      "application/vnd.plotly.v1+json": {
       "config": {
        "plotlyServerURL": "https://plot.ly"
       },
       "data": [
        {
         "mode": "lines",
         "name": "0.2605480071596323",
         "type": "scatter",
         "x": [
          -0.2919715334296734,
          -0.2860129307066189,
          -0.2800543279835643,
          -0.27409572526050974,
          -0.2681371225374552,
          -0.2621785198144006,
          -0.25621991709134606,
          -0.2502613143682915,
          -0.24430271164523693,
          -0.23834410892218238,
          -0.23238550619912782,
          -0.22642690347607325,
          -0.2204683007530187,
          -0.21450969802996414,
          -0.20855109530690957,
          -0.20259249258385503,
          -0.19663388986080046,
          -0.1906752871377459,
          -0.18471668441469136,
          -0.1787580816916368,
          -0.17279947896858222,
          -0.16684087624552768,
          -0.1608822735224731,
          -0.15492367079941854,
          -0.148965068076364,
          -0.14300646535330944,
          -0.13704786263025487,
          -0.1310892599072003,
          -0.12513065718414576,
          -0.11917205446109119,
          -0.11321345173803662,
          -0.10725484901498208,
          -0.10129624629192752,
          -0.09533764356887295,
          -0.08937904084581841,
          -0.08342043812276384,
          -0.07746183539970927,
          -0.07150323267665473,
          -0.06554462995360016,
          -0.059586027230545596,
          -0.05362742450749103,
          -0.04766882178443649,
          -0.04171021906138195,
          -0.03575161633832735,
          -0.029793013615272812,
          -0.023834410892218272,
          -0.017875808169163676,
          -0.011917205446109136,
          -0.005958602723054596,
          0
         ],
         "y": [
          -0.10594805757410242,
          -0.1115004496219422,
          -0.11691082188413726,
          -0.12217917436068751,
          -0.127305507051593,
          -0.13228981995685374,
          -0.13713211307646966,
          -0.14183238641044082,
          -0.14639063995876725,
          -0.15080687372144885,
          -0.15508108769848572,
          -0.15921328188987782,
          -0.1632034562956251,
          -0.16705161091572762,
          -0.1707577457501854,
          -0.1743218607989984,
          -0.17774395606216659,
          -0.18102403153969004,
          -0.1841620872315687,
          -0.1871581231378026,
          -0.19001213925839175,
          -0.19272413559333607,
          -0.19529411214263567,
          -0.19772206890629046,
          -0.2000080058843005,
          -0.20215192307666577,
          -0.20415382048338626,
          -0.20601369810446196,
          -0.2077315559398929,
          -0.20930739398967907,
          -0.21074121225382048,
          -0.2120330107323171,
          -0.21318278942516894,
          -0.21419054833237602,
          -0.21505628745393834,
          -0.21578000678985587,
          -0.21636170634012863,
          -0.2168013861047566,
          -0.2170990460837398,
          -0.21725468627707825,
          -0.21726830668477193,
          -0.2171399073068208,
          -0.21686948814322496,
          -0.21645704919398429,
          -0.21590259045909888,
          -0.21520611193856867,
          -0.2143676136323937,
          -0.21338709554057397,
          -0.21226455766310945,
          -0.21100000000000016
         ]
        },
        {
         "mode": "lines",
         "name": "0.3827049606990956",
         "type": "scatter",
         "x": [
          0,
          0.007871292619565746,
          0.015742585239131492,
          0.023613877858697237,
          0.031485170478262985,
          0.03935646309782873,
          0.04722775571739447,
          0.05509904833696022,
          0.06297034095652597,
          0.07084163357609172,
          0.07871292619565746,
          0.08658421881522321,
          0.09445551143478895,
          0.1023268040543547,
          0.11019809667392044,
          0.11806938929348619,
          0.12594068191305194,
          0.13381197453261767,
          0.14168326715218343,
          0.14955455977174917,
          0.15742585239131493,
          0.16529714501088066,
          0.17316843763044643,
          0.18103973025001216,
          0.1889110228695779,
          0.19678231548914366,
          0.2046536081087094,
          0.21252490072827515,
          0.22039619334784089,
          0.22826748596740665,
          0.23613877858697238,
          0.24401007120653814,
          0.2518813638261039,
          0.25975265644566964,
          0.26762394906523534,
          0.2754952416848011,
          0.28336653430436687,
          0.29123782692393263,
          0.29910911954349834,
          0.3069804121630641,
          0.31485170478262986,
          0.32272299740219557,
          0.33059429002176133,
          0.3384655826413271,
          0.34633687526089285,
          0.35420816788045856,
          0.3620794605000243,
          0.3699507531195901,
          0.3778220457391558,
          0.38569333835872155
         ],
         "y": [
          -0.20500000000000015,
          -0.207864218474798,
          -0.2104806079595845,
          -0.21284916845435972,
          -0.2149698999591236,
          -0.21684280247387616,
          -0.2184678759986174,
          -0.21984512053334732,
          -0.22097453607806591,
          -0.22185612263277318,
          -0.22248988019746915,
          -0.22287580877215377,
          -0.2230139083568271,
          -0.2229041789514891,
          -0.22254662055613977,
          -0.2219412331707791,
          -0.22108801679540713,
          -0.21998697143002385,
          -0.21863809707462925,
          -0.21704139372922332,
          -0.21519686139380606,
          -0.2131045000683775,
          -0.21076430975293758,
          -0.20817629044748637,
          -0.20534044215202385,
          -0.20225676486655,
          -0.1989252585910648,
          -0.19534592332556833,
          -0.1915187590700605,
          -0.18744376582454136,
          -0.1831209435890109,
          -0.17855029236346912,
          -0.173731812147916,
          -0.16866550294235158,
          -0.1633513647467759,
          -0.15778939756118882,
          -0.1519796013855904,
          -0.1459219762199807,
          -0.1396165220643597,
          -0.13306323891872734,
          -0.12626212678308366,
          -0.11921318565742871,
          -0.11191641554176238,
          -0.10437181643608476,
          -0.09657938834039576,
          -0.08853913125469554,
          -0.08025104517898393,
          -0.071715130113261,
          -0.06293138605752682,
          -0.05389981301178126
         ]
        },
        {
         "mode": "lines",
         "name": "0.22772216562729203",
         "type": "scatter",
         "x": [
          0,
          0.00424313984837918,
          0.00848627969675836,
          0.012729419545137542,
          0.01697255939351672,
          0.0212156992418959,
          0.025458839090275083,
          0.029701978938654262,
          0.03394511878703344,
          0.03818825863541262,
          0.0424313984837918,
          0.04667453833217098,
          0.050917678180550166,
          0.055160818028929345,
          0.059403957877308525,
          0.0636470977256877,
          0.06789023757406688,
          0.07213337742244606,
          0.07637651727082524,
          0.08061965711920442,
          0.0848627969675836,
          0.08910593681596278,
          0.09334907666434196,
          0.09759221651272114,
          0.10183535636110033,
          0.10607849620947951,
          0.11032163605785869,
          0.11456477590623787,
          0.11880791575461705,
          0.12305105560299623,
          0.1272941954513754,
          0.1315373352997546,
          0.13578047514813377,
          0.14002361499651295,
          0.14426675484489213,
          0.1485098946932713,
          0.15275303454165048,
          0.15699617439002966,
          0.16123931423840884,
          0.16548245408678802,
          0.1697255939351672,
          0.17396873378354638,
          0.17821187363192556,
          0.18245501348030474,
          0.18669815332868392,
          0.1909412931770631,
          0.19518443302544228,
          0.19942757287382146,
          0.20367071272220066,
          0.20791385257057984
         ],
         "y": [
          0,
          -8.8819569884731e-05,
          -0.00010562219667784882,
          -5.040788037935344e-05,
          7.682337901075502e-05,
          0.0002760715814924767,
          0.0005473367270658118,
          0.0008906188157307598,
          0.0013059178474873207,
          0.0017932338223354948,
          0.0023525667402752824,
          0.002983916601306683,
          0.003687283405429698,
          0.004462667152644325,
          0.005310067842950565,
          0.006229485476348419,
          0.007220920052837884,
          0.008284371572418965,
          0.009419840035091656,
          0.010627325440855963,
          0.011906827789711881,
          0.013258347081659414,
          0.014681883316698558,
          0.016177436494829316,
          0.017745006616051696,
          0.019384593680365676,
          0.021096197687771278,
          0.02287981863826849,
          0.02473545653185731,
          0.02666311136853775,
          0.028662783148309803,
          0.030734471871173466,
          0.03287817753712874,
          0.035093900146175624,
          0.03738163969831414,
          0.03974139619354425,
          0.04217316963186597,
          0.044676960013279324,
          0.047252767337784274,
          0.04990059160538085,
          0.05262043281606903,
          0.05541229096984882,
          0.05827616606672024,
          0.06121205810668326,
          0.06421996708973789,
          0.06729989301588413,
          0.070451835885122,
          0.07367579569745147,
          0.07697177245287258,
          0.08033976615138529
         ]
        }
       ],
       "layout": {
        "autosize": true,
        "template": {
         "data": {
          "bar": [
           {
            "error_x": {
             "color": "#2a3f5f"
            },
            "error_y": {
             "color": "#2a3f5f"
            },
            "marker": {
             "line": {
              "color": "#E5ECF6",
              "width": 0.5
             },
             "pattern": {
              "fillmode": "overlay",
              "size": 10,
              "solidity": 0.2
             }
            },
            "type": "bar"
           }
          ],
          "barpolar": [
           {
            "marker": {
             "line": {
              "color": "#E5ECF6",
              "width": 0.5
             },
             "pattern": {
              "fillmode": "overlay",
              "size": 10,
              "solidity": 0.2
             }
            },
            "type": "barpolar"
           }
          ],
          "carpet": [
           {
            "aaxis": {
             "endlinecolor": "#2a3f5f",
             "gridcolor": "white",
             "linecolor": "white",
             "minorgridcolor": "white",
             "startlinecolor": "#2a3f5f"
            },
            "baxis": {
             "endlinecolor": "#2a3f5f",
             "gridcolor": "white",
             "linecolor": "white",
             "minorgridcolor": "white",
             "startlinecolor": "#2a3f5f"
            },
            "type": "carpet"
           }
          ],
          "choropleth": [
           {
            "colorbar": {
             "outlinewidth": 0,
             "ticks": ""
            },
            "type": "choropleth"
           }
          ],
          "contour": [
           {
            "colorbar": {
             "outlinewidth": 0,
             "ticks": ""
            },
            "colorscale": [
             [
              0,
              "#0d0887"
             ],
             [
              0.1111111111111111,
              "#46039f"
             ],
             [
              0.2222222222222222,
              "#7201a8"
             ],
             [
              0.3333333333333333,
              "#9c179e"
             ],
             [
              0.4444444444444444,
              "#bd3786"
             ],
             [
              0.5555555555555556,
              "#d8576b"
             ],
             [
              0.6666666666666666,
              "#ed7953"
             ],
             [
              0.7777777777777778,
              "#fb9f3a"
             ],
             [
              0.8888888888888888,
              "#fdca26"
             ],
             [
              1,
              "#f0f921"
             ]
            ],
            "type": "contour"
           }
          ],
          "contourcarpet": [
           {
            "colorbar": {
             "outlinewidth": 0,
             "ticks": ""
            },
            "type": "contourcarpet"
           }
          ],
          "heatmap": [
           {
            "colorbar": {
             "outlinewidth": 0,
             "ticks": ""
            },
            "colorscale": [
             [
              0,
              "#0d0887"
             ],
             [
              0.1111111111111111,
              "#46039f"
             ],
             [
              0.2222222222222222,
              "#7201a8"
             ],
             [
              0.3333333333333333,
              "#9c179e"
             ],
             [
              0.4444444444444444,
              "#bd3786"
             ],
             [
              0.5555555555555556,
              "#d8576b"
             ],
             [
              0.6666666666666666,
              "#ed7953"
             ],
             [
              0.7777777777777778,
              "#fb9f3a"
             ],
             [
              0.8888888888888888,
              "#fdca26"
             ],
             [
              1,
              "#f0f921"
             ]
            ],
            "type": "heatmap"
           }
          ],
          "heatmapgl": [
           {
            "colorbar": {
             "outlinewidth": 0,
             "ticks": ""
            },
            "colorscale": [
             [
              0,
              "#0d0887"
             ],
             [
              0.1111111111111111,
              "#46039f"
             ],
             [
              0.2222222222222222,
              "#7201a8"
             ],
             [
              0.3333333333333333,
              "#9c179e"
             ],
             [
              0.4444444444444444,
              "#bd3786"
             ],
             [
              0.5555555555555556,
              "#d8576b"
             ],
             [
              0.6666666666666666,
              "#ed7953"
             ],
             [
              0.7777777777777778,
              "#fb9f3a"
             ],
             [
              0.8888888888888888,
              "#fdca26"
             ],
             [
              1,
              "#f0f921"
             ]
            ],
            "type": "heatmapgl"
           }
          ],
          "histogram": [
           {
            "marker": {
             "pattern": {
              "fillmode": "overlay",
              "size": 10,
              "solidity": 0.2
             }
            },
            "type": "histogram"
           }
          ],
          "histogram2d": [
           {
            "colorbar": {
             "outlinewidth": 0,
             "ticks": ""
            },
            "colorscale": [
             [
              0,
              "#0d0887"
             ],
             [
              0.1111111111111111,
              "#46039f"
             ],
             [
              0.2222222222222222,
              "#7201a8"
             ],
             [
              0.3333333333333333,
              "#9c179e"
             ],
             [
              0.4444444444444444,
              "#bd3786"
             ],
             [
              0.5555555555555556,
              "#d8576b"
             ],
             [
              0.6666666666666666,
              "#ed7953"
             ],
             [
              0.7777777777777778,
              "#fb9f3a"
             ],
             [
              0.8888888888888888,
              "#fdca26"
             ],
             [
              1,
              "#f0f921"
             ]
            ],
            "type": "histogram2d"
           }
          ],
          "histogram2dcontour": [
           {
            "colorbar": {
             "outlinewidth": 0,
             "ticks": ""
            },
            "colorscale": [
             [
              0,
              "#0d0887"
             ],
             [
              0.1111111111111111,
              "#46039f"
             ],
             [
              0.2222222222222222,
              "#7201a8"
             ],
             [
              0.3333333333333333,
              "#9c179e"
             ],
             [
              0.4444444444444444,
              "#bd3786"
             ],
             [
              0.5555555555555556,
              "#d8576b"
             ],
             [
              0.6666666666666666,
              "#ed7953"
             ],
             [
              0.7777777777777778,
              "#fb9f3a"
             ],
             [
              0.8888888888888888,
              "#fdca26"
             ],
             [
              1,
              "#f0f921"
             ]
            ],
            "type": "histogram2dcontour"
           }
          ],
          "mesh3d": [
           {
            "colorbar": {
             "outlinewidth": 0,
             "ticks": ""
            },
            "type": "mesh3d"
           }
          ],
          "parcoords": [
           {
            "line": {
             "colorbar": {
              "outlinewidth": 0,
              "ticks": ""
             }
            },
            "type": "parcoords"
           }
          ],
          "pie": [
           {
            "automargin": true,
            "type": "pie"
           }
          ],
          "scatter": [
           {
            "fillpattern": {
             "fillmode": "overlay",
             "size": 10,
             "solidity": 0.2
            },
            "type": "scatter"
           }
          ],
          "scatter3d": [
           {
            "line": {
             "colorbar": {
              "outlinewidth": 0,
              "ticks": ""
             }
            },
            "marker": {
             "colorbar": {
              "outlinewidth": 0,
              "ticks": ""
             }
            },
            "type": "scatter3d"
           }
          ],
          "scattercarpet": [
           {
            "marker": {
             "colorbar": {
              "outlinewidth": 0,
              "ticks": ""
             }
            },
            "type": "scattercarpet"
           }
          ],
          "scattergeo": [
           {
            "marker": {
             "colorbar": {
              "outlinewidth": 0,
              "ticks": ""
             }
            },
            "type": "scattergeo"
           }
          ],
          "scattergl": [
           {
            "marker": {
             "colorbar": {
              "outlinewidth": 0,
              "ticks": ""
             }
            },
            "type": "scattergl"
           }
          ],
          "scattermapbox": [
           {
            "marker": {
             "colorbar": {
              "outlinewidth": 0,
              "ticks": ""
             }
            },
            "type": "scattermapbox"
           }
          ],
          "scatterpolar": [
           {
            "marker": {
             "colorbar": {
              "outlinewidth": 0,
              "ticks": ""
             }
            },
            "type": "scatterpolar"
           }
          ],
          "scatterpolargl": [
           {
            "marker": {
             "colorbar": {
              "outlinewidth": 0,
              "ticks": ""
             }
            },
            "type": "scatterpolargl"
           }
          ],
          "scatterternary": [
           {
            "marker": {
             "colorbar": {
              "outlinewidth": 0,
              "ticks": ""
             }
            },
            "type": "scatterternary"
           }
          ],
          "surface": [
           {
            "colorbar": {
             "outlinewidth": 0,
             "ticks": ""
            },
            "colorscale": [
             [
              0,
              "#0d0887"
             ],
             [
              0.1111111111111111,
              "#46039f"
             ],
             [
              0.2222222222222222,
              "#7201a8"
             ],
             [
              0.3333333333333333,
              "#9c179e"
             ],
             [
              0.4444444444444444,
              "#bd3786"
             ],
             [
              0.5555555555555556,
              "#d8576b"
             ],
             [
              0.6666666666666666,
              "#ed7953"
             ],
             [
              0.7777777777777778,
              "#fb9f3a"
             ],
             [
              0.8888888888888888,
              "#fdca26"
             ],
             [
              1,
              "#f0f921"
             ]
            ],
            "type": "surface"
           }
          ],
          "table": [
           {
            "cells": {
             "fill": {
              "color": "#EBF0F8"
             },
             "line": {
              "color": "white"
             }
            },
            "header": {
             "fill": {
              "color": "#C8D4E3"
             },
             "line": {
              "color": "white"
             }
            },
            "type": "table"
           }
          ]
         },
         "layout": {
          "annotationdefaults": {
           "arrowcolor": "#2a3f5f",
           "arrowhead": 0,
           "arrowwidth": 1
          },
          "autotypenumbers": "strict",
          "coloraxis": {
           "colorbar": {
            "outlinewidth": 0,
            "ticks": ""
           }
          },
          "colorscale": {
           "diverging": [
            [
             0,
             "#8e0152"
            ],
            [
             0.1,
             "#c51b7d"
            ],
            [
             0.2,
             "#de77ae"
            ],
            [
             0.3,
             "#f1b6da"
            ],
            [
             0.4,
             "#fde0ef"
            ],
            [
             0.5,
             "#f7f7f7"
            ],
            [
             0.6,
             "#e6f5d0"
            ],
            [
             0.7,
             "#b8e186"
            ],
            [
             0.8,
             "#7fbc41"
            ],
            [
             0.9,
             "#4d9221"
            ],
            [
             1,
             "#276419"
            ]
           ],
           "sequential": [
            [
             0,
             "#0d0887"
            ],
            [
             0.1111111111111111,
             "#46039f"
            ],
            [
             0.2222222222222222,
             "#7201a8"
            ],
            [
             0.3333333333333333,
             "#9c179e"
            ],
            [
             0.4444444444444444,
             "#bd3786"
            ],
            [
             0.5555555555555556,
             "#d8576b"
            ],
            [
             0.6666666666666666,
             "#ed7953"
            ],
            [
             0.7777777777777778,
             "#fb9f3a"
            ],
            [
             0.8888888888888888,
             "#fdca26"
            ],
            [
             1,
             "#f0f921"
            ]
           ],
           "sequentialminus": [
            [
             0,
             "#0d0887"
            ],
            [
             0.1111111111111111,
             "#46039f"
            ],
            [
             0.2222222222222222,
             "#7201a8"
            ],
            [
             0.3333333333333333,
             "#9c179e"
            ],
            [
             0.4444444444444444,
             "#bd3786"
            ],
            [
             0.5555555555555556,
             "#d8576b"
            ],
            [
             0.6666666666666666,
             "#ed7953"
            ],
            [
             0.7777777777777778,
             "#fb9f3a"
            ],
            [
             0.8888888888888888,
             "#fdca26"
            ],
            [
             1,
             "#f0f921"
            ]
           ]
          },
          "colorway": [
           "#636efa",
           "#EF553B",
           "#00cc96",
           "#ab63fa",
           "#FFA15A",
           "#19d3f3",
           "#FF6692",
           "#B6E880",
           "#FF97FF",
           "#FECB52"
          ],
          "font": {
           "color": "#2a3f5f"
          },
          "geo": {
           "bgcolor": "white",
           "lakecolor": "white",
           "landcolor": "#E5ECF6",
           "showlakes": true,
           "showland": true,
           "subunitcolor": "white"
          },
          "hoverlabel": {
           "align": "left"
          },
          "hovermode": "closest",
          "mapbox": {
           "style": "light"
          },
          "paper_bgcolor": "white",
          "plot_bgcolor": "#E5ECF6",
          "polar": {
           "angularaxis": {
            "gridcolor": "white",
            "linecolor": "white",
            "ticks": ""
           },
           "bgcolor": "#E5ECF6",
           "radialaxis": {
            "gridcolor": "white",
            "linecolor": "white",
            "ticks": ""
           }
          },
          "scene": {
           "xaxis": {
            "backgroundcolor": "#E5ECF6",
            "gridcolor": "white",
            "gridwidth": 2,
            "linecolor": "white",
            "showbackground": true,
            "ticks": "",
            "zerolinecolor": "white"
           },
           "yaxis": {
            "backgroundcolor": "#E5ECF6",
            "gridcolor": "white",
            "gridwidth": 2,
            "linecolor": "white",
            "showbackground": true,
            "ticks": "",
            "zerolinecolor": "white"
           },
           "zaxis": {
            "backgroundcolor": "#E5ECF6",
            "gridcolor": "white",
            "gridwidth": 2,
            "linecolor": "white",
            "showbackground": true,
            "ticks": "",
            "zerolinecolor": "white"
           }
          },
          "shapedefaults": {
           "line": {
            "color": "#2a3f5f"
           }
          },
          "ternary": {
           "aaxis": {
            "gridcolor": "white",
            "linecolor": "white",
            "ticks": ""
           },
           "baxis": {
            "gridcolor": "white",
            "linecolor": "white",
            "ticks": ""
           },
           "bgcolor": "#E5ECF6",
           "caxis": {
            "gridcolor": "white",
            "linecolor": "white",
            "ticks": ""
           }
          },
          "title": {
           "x": 0.05
          },
          "xaxis": {
           "automargin": true,
           "gridcolor": "white",
           "linecolor": "white",
           "ticks": "",
           "title": {
            "standoff": 15
           },
           "zerolinecolor": "white",
           "zerolinewidth": 2
          },
          "yaxis": {
           "automargin": true,
           "gridcolor": "white",
           "linecolor": "white",
           "ticks": "",
           "title": {
            "standoff": 15
           },
           "zerolinecolor": "white",
           "zerolinewidth": 2
          }
         }
        },
        "xaxis": {
         "autorange": true,
         "range": [
          -0.2919715334296734,
          0.38569333835872155
         ],
         "type": "linear"
        },
        "yaxis": {
         "autorange": true,
         "range": [
          -0.23986689027395003,
          0.0971927480685082
         ],
         "type": "linear"
        }
       }
      },
      "image/png": "[encoded data removed]",
      "text/html": [
       "<div>                            <div id=\"f08c4399-1162-4222-a5e3-24c07f88b08e\" class=\"plotly-graph-div\" style=\"height:525px; width:100%;\"></div>            <script type=\"text/javascript\">                require([\"plotly\"], function(Plotly) {                    window.PLOTLYENV=window.PLOTLYENV || {};                                    if (document.getElementById(\"f08c4399-1162-4222-a5e3-24c07f88b08e\")) {                    Plotly.newPlot(                        \"f08c4399-1162-4222-a5e3-24c07f88b08e\",                        [{\"mode\":\"lines\",\"name\":\"0.2605480071596323\",\"x\":[-0.2919715334296734,-0.2860129307066189,-0.2800543279835643,-0.27409572526050974,-0.2681371225374552,-0.2621785198144006,-0.25621991709134606,-0.2502613143682915,-0.24430271164523693,-0.23834410892218238,-0.23238550619912782,-0.22642690347607325,-0.2204683007530187,-0.21450969802996414,-0.20855109530690957,-0.20259249258385503,-0.19663388986080046,-0.1906752871377459,-0.18471668441469136,-0.1787580816916368,-0.17279947896858222,-0.16684087624552768,-0.1608822735224731,-0.15492367079941854,-0.148965068076364,-0.14300646535330944,-0.13704786263025487,-0.1310892599072003,-0.12513065718414576,-0.11917205446109119,-0.11321345173803662,-0.10725484901498208,-0.10129624629192752,-0.09533764356887295,-0.08937904084581841,-0.08342043812276384,-0.07746183539970927,-0.07150323267665473,-0.06554462995360016,-0.059586027230545596,-0.05362742450749103,-0.04766882178443649,-0.04171021906138195,-0.03575161633832735,-0.029793013615272812,-0.023834410892218272,-0.017875808169163676,-0.011917205446109136,-0.005958602723054596,0.0],\"y\":[-0.10594805757410242,-0.1115004496219422,-0.11691082188413726,-0.12217917436068751,-0.127305507051593,-0.13228981995685374,-0.13713211307646966,-0.14183238641044082,-0.14639063995876725,-0.15080687372144885,-0.15508108769848572,-0.15921328188987782,-0.1632034562956251,-0.16705161091572762,-0.1707577457501854,-0.1743218607989984,-0.17774395606216659,-0.18102403153969004,-0.1841620872315687,-0.1871581231378026,-0.19001213925839175,-0.19272413559333607,-0.19529411214263567,-0.19772206890629046,-0.2000080058843005,-0.20215192307666577,-0.20415382048338626,-0.20601369810446196,-0.2077315559398929,-0.20930739398967907,-0.21074121225382048,-0.2120330107323171,-0.21318278942516894,-0.21419054833237602,-0.21505628745393834,-0.21578000678985587,-0.21636170634012863,-0.2168013861047566,-0.2170990460837398,-0.21725468627707825,-0.21726830668477193,-0.2171399073068208,-0.21686948814322496,-0.21645704919398429,-0.21590259045909888,-0.21520611193856867,-0.2143676136323937,-0.21338709554057397,-0.21226455766310945,-0.21100000000000016],\"type\":\"scatter\"},{\"mode\":\"lines\",\"name\":\"0.3827049606990956\",\"x\":[0.0,0.007871292619565746,0.015742585239131492,0.023613877858697237,0.031485170478262985,0.03935646309782873,0.04722775571739447,0.05509904833696022,0.06297034095652597,0.07084163357609172,0.07871292619565746,0.08658421881522321,0.09445551143478895,0.1023268040543547,0.11019809667392044,0.11806938929348619,0.12594068191305194,0.13381197453261767,0.14168326715218343,0.14955455977174917,0.15742585239131493,0.16529714501088066,0.17316843763044643,0.18103973025001216,0.1889110228695779,0.19678231548914366,0.2046536081087094,0.21252490072827515,0.22039619334784089,0.22826748596740665,0.23613877858697238,0.24401007120653814,0.2518813638261039,0.25975265644566964,0.26762394906523534,0.2754952416848011,0.28336653430436687,0.29123782692393263,0.29910911954349834,0.3069804121630641,0.31485170478262986,0.32272299740219557,0.33059429002176133,0.3384655826413271,0.34633687526089285,0.35420816788045856,0.3620794605000243,0.3699507531195901,0.3778220457391558,0.38569333835872155],\"y\":[-0.20500000000000015,-0.207864218474798,-0.2104806079595845,-0.21284916845435972,-0.2149698999591236,-0.21684280247387616,-0.2184678759986174,-0.21984512053334732,-0.22097453607806591,-0.22185612263277318,-0.22248988019746915,-0.22287580877215377,-0.2230139083568271,-0.2229041789514891,-0.22254662055613977,-0.2219412331707791,-0.22108801679540713,-0.21998697143002385,-0.21863809707462925,-0.21704139372922332,-0.21519686139380606,-0.2131045000683775,-0.21076430975293758,-0.20817629044748637,-0.20534044215202385,-0.20225676486655,-0.1989252585910648,-0.19534592332556833,-0.1915187590700605,-0.18744376582454136,-0.1831209435890109,-0.17855029236346912,-0.173731812147916,-0.16866550294235158,-0.1633513647467759,-0.15778939756118882,-0.1519796013855904,-0.1459219762199807,-0.1396165220643597,-0.13306323891872734,-0.12626212678308366,-0.11921318565742871,-0.11191641554176238,-0.10437181643608476,-0.09657938834039576,-0.08853913125469554,-0.08025104517898393,-0.071715130113261,-0.06293138605752682,-0.05389981301178126],\"type\":\"scatter\"},{\"mode\":\"lines\",\"name\":\"0.22772216562729203\",\"x\":[0.0,0.00424313984837918,0.00848627969675836,0.012729419545137542,0.01697255939351672,0.0212156992418959,0.025458839090275083,0.029701978938654262,0.03394511878703344,0.03818825863541262,0.0424313984837918,0.04667453833217098,0.050917678180550166,0.055160818028929345,0.059403957877308525,0.0636470977256877,0.06789023757406688,0.07213337742244606,0.07637651727082524,0.08061965711920442,0.0848627969675836,0.08910593681596278,0.09334907666434196,0.09759221651272114,0.10183535636110033,0.10607849620947951,0.11032163605785869,0.11456477590623787,0.11880791575461705,0.12305105560299623,0.1272941954513754,0.1315373352997546,0.13578047514813377,0.14002361499651295,0.14426675484489213,0.1485098946932713,0.15275303454165048,0.15699617439002966,0.16123931423840884,0.16548245408678802,0.1697255939351672,0.17396873378354638,0.17821187363192556,0.18245501348030474,0.18669815332868392,0.1909412931770631,0.19518443302544228,0.19942757287382146,0.20367071272220066,0.20791385257057984],\"y\":[0.0,-8.8819569884731e-05,-0.00010562219667784882,-5.040788037935344e-05,7.682337901075502e-05,0.0002760715814924767,0.0005473367270658118,0.0008906188157307598,0.0013059178474873207,0.0017932338223354948,0.0023525667402752824,0.002983916601306683,0.003687283405429698,0.004462667152644325,0.005310067842950565,0.006229485476348419,0.007220920052837884,0.008284371572418965,0.009419840035091656,0.010627325440855963,0.011906827789711881,0.013258347081659414,0.014681883316698558,0.016177436494829316,0.017745006616051696,0.019384593680365676,0.021096197687771278,0.02287981863826849,0.02473545653185731,0.02666311136853775,0.028662783148309803,0.030734471871173466,0.03287817753712874,0.035093900146175624,0.03738163969831414,0.03974139619354425,0.04217316963186597,0.044676960013279324,0.047252767337784274,0.04990059160538085,0.05262043281606903,0.05541229096984882,0.05827616606672024,0.06121205810668326,0.06421996708973789,0.06729989301588413,0.070451835885122,0.07367579569745147,0.07697177245287258,0.08033976615138529],\"type\":\"scatter\"}],                        {\"template\":{\"data\":{\"histogram2dcontour\":[{\"type\":\"histogram2dcontour\",\"colorbar\":{\"outlinewidth\":0,\"ticks\":\"\"},\"colorscale\":[[0.0,\"#0d0887\"],[0.1111111111111111,\"#46039f\"],[0.2222222222222222,\"#7201a8\"],[0.3333333333333333,\"#9c179e\"],[0.4444444444444444,\"#bd3786\"],[0.5555555555555556,\"#d8576b\"],[0.6666666666666666,\"#ed7953\"],[0.7777777777777778,\"#fb9f3a\"],[0.8888888888888888,\"#fdca26\"],[1.0,\"#f0f921\"]]}],\"choropleth\":[{\"type\":\"choropleth\",\"colorbar\":{\"outlinewidth\":0,\"ticks\":\"\"}}],\"histogram2d\":[{\"type\":\"histogram2d\",\"colorbar\":{\"outlinewidth\":0,\"ticks\":\"\"},\"colorscale\":[[0.0,\"#0d0887\"],[0.1111111111111111,\"#46039f\"],[0.2222222222222222,\"#7201a8\"],[0.3333333333333333,\"#9c179e\"],[0.4444444444444444,\"#bd3786\"],[0.5555555555555556,\"#d8576b\"],[0.6666666666666666,\"#ed7953\"],[0.7777777777777778,\"#fb9f3a\"],[0.8888888888888888,\"#fdca26\"],[1.0,\"#f0f921\"]]}],\"heatmap\":[{\"type\":\"heatmap\",\"colorbar\":{\"outlinewidth\":0,\"ticks\":\"\"},\"colorscale\":[[0.0,\"#0d0887\"],[0.1111111111111111,\"#46039f\"],[0.2222222222222222,\"#7201a8\"],[0.3333333333333333,\"#9c179e\"],[0.4444444444444444,\"#bd3786\"],[0.5555555555555556,\"#d8576b\"],[0.6666666666666666,\"#ed7953\"],[0.7777777777777778,\"#fb9f3a\"],[0.8888888888888888,\"#fdca26\"],[1.0,\"#f0f921\"]]}],\"heatmapgl\":[{\"type\":\"heatmapgl\",\"colorbar\":{\"outlinewidth\":0,\"ticks\":\"\"},\"colorscale\":[[0.0,\"#0d0887\"],[0.1111111111111111,\"#46039f\"],[0.2222222222222222,\"#7201a8\"],[0.3333333333333333,\"#9c179e\"],[0.4444444444444444,\"#bd3786\"],[0.5555555555555556,\"#d8576b\"],[0.6666666666666666,\"#ed7953\"],[0.7777777777777778,\"#fb9f3a\"],[0.8888888888888888,\"#fdca26\"],[1.0,\"#f0f921\"]]}],\"contourcarpet\":[{\"type\":\"contourcarpet\",\"colorbar\":{\"outlinewidth\":0,\"ticks\":\"\"}}],\"contour\":[{\"type\":\"contour\",\"colorbar\":{\"outlinewidth\":0,\"ticks\":\"\"},\"colorscale\":[[0.0,\"#0d0887\"],[0.1111111111111111,\"#46039f\"],[0.2222222222222222,\"#7201a8\"],[0.3333333333333333,\"#9c179e\"],[0.4444444444444444,\"#bd3786\"],[0.5555555555555556,\"#d8576b\"],[0.6666666666666666,\"#ed7953\"],[0.7777777777777778,\"#fb9f3a\"],[0.8888888888888888,\"#fdca26\"],[1.0,\"#f0f921\"]]}],\"surface\":[{\"type\":\"surface\",\"colorbar\":{\"outlinewidth\":0,\"ticks\":\"\"},\"colorscale\":[[0.0,\"#0d0887\"],[0.1111111111111111,\"#46039f\"],[0.2222222222222222,\"#7201a8\"],[0.3333333333333333,\"#9c179e\"],[0.4444444444444444,\"#bd3786\"],[0.5555555555555556,\"#d8576b\"],[0.6666666666666666,\"#ed7953\"],[0.7777777777777778,\"#fb9f3a\"],[0.8888888888888888,\"#fdca26\"],[1.0,\"#f0f921\"]]}],\"mesh3d\":[{\"type\":\"mesh3d\",\"colorbar\":{\"outlinewidth\":0,\"ticks\":\"\"}}],\"scatter\":[{\"fillpattern\":{\"fillmode\":\"overlay\",\"size\":10,\"solidity\":0.2},\"type\":\"scatter\"}],\"parcoords\":[{\"type\":\"parcoords\",\"line\":{\"colorbar\":{\"outlinewidth\":0,\"ticks\":\"\"}}}],\"scatterpolargl\":[{\"type\":\"scatterpolargl\",\"marker\":{\"colorbar\":{\"outlinewidth\":0,\"ticks\":\"\"}}}],\"bar\":[{\"error_x\":{\"color\":\"#2a3f5f\"},\"error_y\":{\"color\":\"#2a3f5f\"},\"marker\":{\"line\":{\"color\":\"#E5ECF6\",\"width\":0.5},\"pattern\":{\"fillmode\":\"overlay\",\"size\":10,\"solidity\":0.2}},\"type\":\"bar\"}],\"scattergeo\":[{\"type\":\"scattergeo\",\"marker\":{\"colorbar\":{\"outlinewidth\":0,\"ticks\":\"\"}}}],\"scatterpolar\":[{\"type\":\"scatterpolar\",\"marker\":{\"colorbar\":{\"outlinewidth\":0,\"ticks\":\"\"}}}],\"histogram\":[{\"marker\":{\"pattern\":{\"fillmode\":\"overlay\",\"size\":10,\"solidity\":0.2}},\"type\":\"histogram\"}],\"scattergl\":[{\"type\":\"scattergl\",\"marker\":{\"colorbar\":{\"outlinewidth\":0,\"ticks\":\"\"}}}],\"scatter3d\":[{\"type\":\"scatter3d\",\"line\":{\"colorbar\":{\"outlinewidth\":0,\"ticks\":\"\"}},\"marker\":{\"colorbar\":{\"outlinewidth\":0,\"ticks\":\"\"}}}],\"scattermapbox\":[{\"type\":\"scattermapbox\",\"marker\":{\"colorbar\":{\"outlinewidth\":0,\"ticks\":\"\"}}}],\"scatterternary\":[{\"type\":\"scatterternary\",\"marker\":{\"colorbar\":{\"outlinewidth\":0,\"ticks\":\"\"}}}],\"scattercarpet\":[{\"type\":\"scattercarpet\",\"marker\":{\"colorbar\":{\"outlinewidth\":0,\"ticks\":\"\"}}}],\"carpet\":[{\"aaxis\":{\"endlinecolor\":\"#2a3f5f\",\"gridcolor\":\"white\",\"linecolor\":\"white\",\"minorgridcolor\":\"white\",\"startlinecolor\":\"#2a3f5f\"},\"baxis\":{\"endlinecolor\":\"#2a3f5f\",\"gridcolor\":\"white\",\"linecolor\":\"white\",\"minorgridcolor\":\"white\",\"startlinecolor\":\"#2a3f5f\"},\"type\":\"carpet\"}],\"table\":[{\"cells\":{\"fill\":{\"color\":\"#EBF0F8\"},\"line\":{\"color\":\"white\"}},\"header\":{\"fill\":{\"color\":\"#C8D4E3\"},\"line\":{\"color\":\"white\"}},\"type\":\"table\"}],\"barpolar\":[{\"marker\":{\"line\":{\"color\":\"#E5ECF6\",\"width\":0.5},\"pattern\":{\"fillmode\":\"overlay\",\"size\":10,\"solidity\":0.2}},\"type\":\"barpolar\"}],\"pie\":[{\"automargin\":true,\"type\":\"pie\"}]},\"layout\":{\"autotypenumbers\":\"strict\",\"colorway\":[\"#636efa\",\"#EF553B\",\"#00cc96\",\"#ab63fa\",\"#FFA15A\",\"#19d3f3\",\"#FF6692\",\"#B6E880\",\"#FF97FF\",\"#FECB52\"],\"font\":{\"color\":\"#2a3f5f\"},\"hovermode\":\"closest\",\"hoverlabel\":{\"align\":\"left\"},\"paper_bgcolor\":\"white\",\"plot_bgcolor\":\"#E5ECF6\",\"polar\":{\"bgcolor\":\"#E5ECF6\",\"angularaxis\":{\"gridcolor\":\"white\",\"linecolor\":\"white\",\"ticks\":\"\"},\"radialaxis\":{\"gridcolor\":\"white\",\"linecolor\":\"white\",\"ticks\":\"\"}},\"ternary\":{\"bgcolor\":\"#E5ECF6\",\"aaxis\":{\"gridcolor\":\"white\",\"linecolor\":\"white\",\"ticks\":\"\"},\"baxis\":{\"gridcolor\":\"white\",\"linecolor\":\"white\",\"ticks\":\"\"},\"caxis\":{\"gridcolor\":\"white\",\"linecolor\":\"white\",\"ticks\":\"\"}},\"coloraxis\":{\"colorbar\":{\"outlinewidth\":0,\"ticks\":\"\"}},\"colorscale\":{\"sequential\":[[0.0,\"#0d0887\"],[0.1111111111111111,\"#46039f\"],[0.2222222222222222,\"#7201a8\"],[0.3333333333333333,\"#9c179e\"],[0.4444444444444444,\"#bd3786\"],[0.5555555555555556,\"#d8576b\"],[0.6666666666666666,\"#ed7953\"],[0.7777777777777778,\"#fb9f3a\"],[0.8888888888888888,\"#fdca26\"],[1.0,\"#f0f921\"]],\"sequentialminus\":[[0.0,\"#0d0887\"],[0.1111111111111111,\"#46039f\"],[0.2222222222222222,\"#7201a8\"],[0.3333333333333333,\"#9c179e\"],[0.4444444444444444,\"#bd3786\"],[0.5555555555555556,\"#d8576b\"],[0.6666666666666666,\"#ed7953\"],[0.7777777777777778,\"#fb9f3a\"],[0.8888888888888888,\"#fdca26\"],[1.0,\"#f0f921\"]],\"diverging\":[[0,\"#8e0152\"],[0.1,\"#c51b7d\"],[0.2,\"#de77ae\"],[0.3,\"#f1b6da\"],[0.4,\"#fde0ef\"],[0.5,\"#f7f7f7\"],[0.6,\"#e6f5d0\"],[0.7,\"#b8e186\"],[0.8,\"#7fbc41\"],[0.9,\"#4d9221\"],[1,\"#276419\"]]},\"xaxis\":{\"gridcolor\":\"white\",\"linecolor\":\"white\",\"ticks\":\"\",\"title\":{\"standoff\":15},\"zerolinecolor\":\"white\",\"automargin\":true,\"zerolinewidth\":2},\"yaxis\":{\"gridcolor\":\"white\",\"linecolor\":\"white\",\"ticks\":\"\",\"title\":{\"standoff\":15},\"zerolinecolor\":\"white\",\"automargin\":true,\"zerolinewidth\":2},\"scene\":{\"xaxis\":{\"backgroundcolor\":\"#E5ECF6\",\"gridcolor\":\"white\",\"linecolor\":\"white\",\"showbackground\":true,\"ticks\":\"\",\"zerolinecolor\":\"white\",\"gridwidth\":2},\"yaxis\":{\"backgroundcolor\":\"#E5ECF6\",\"gridcolor\":\"white\",\"linecolor\":\"white\",\"showbackground\":true,\"ticks\":\"\",\"zerolinecolor\":\"white\",\"gridwidth\":2},\"zaxis\":{\"backgroundcolor\":\"#E5ECF6\",\"gridcolor\":\"white\",\"linecolor\":\"white\",\"showbackground\":true,\"ticks\":\"\",\"zerolinecolor\":\"white\",\"gridwidth\":2}},\"shapedefaults\":{\"line\":{\"color\":\"#2a3f5f\"}},\"annotationdefaults\":{\"arrowcolor\":\"#2a3f5f\",\"arrowhead\":0,\"arrowwidth\":1},\"geo\":{\"bgcolor\":\"white\",\"landcolor\":\"#E5ECF6\",\"subunitcolor\":\"white\",\"showland\":true,\"showlakes\":true,\"lakecolor\":\"white\"},\"title\":{\"x\":0.05},\"mapbox\":{\"style\":\"light\"}}}},                        {\"responsive\": true}                    ).then(function(){\n",
       "                            \n",
       "var gd = document.getElementById('f08c4399-1162-4222-a5e3-24c07f88b08e');\n",
       "var x = new MutationObserver(function (mutations, observer) {{\n",
       "        var display = window.getComputedStyle(gd).display;\n",
       "        if (!display || display === 'none') {{\n",
       "            console.log([gd, 'removed!']);\n",
       "            Plotly.purge(gd);\n",
       "            observer.disconnect();\n",
       "        }}\n",
       "}});\n",
       "\n",
       "// Listen for the removal of the full notebook cells\n",
       "var notebookContainer = gd.closest('#notebook-container');\n",
       "if (notebookContainer) {{\n",
       "    x.observe(notebookContainer, {childList: true});\n",
       "}}\n",
       "\n",
       "// Listen for the clearing of the current output cell\n",
       "var outputEl = gd.closest('.output');\n",
       "if (outputEl) {{\n",
       "    x.observe(outputEl, {childList: true});\n",
       "}}\n",
       "\n",
       "                        })                };                });            </script>        </div>"
      ]
     },
     "metadata": {},
     "output_type": "display_data"
    }
   ],
   "source": [
    "array = parseData('084_4_C_day1.csv') #using cell[2]\n",
    "#returns [mainrootpoints, lateralRoot points]\n",
    "fig = plotData(array) #cell[3]\n",
    "fig.show()\n",
    "fig2 = go.Figure()\n",
    "fig3 =go.Figure()\n",
    "G= 2\n",
    "al =.7\n",
    "latteralRoots = array[1]\n",
    "MainRootPoints = array[0]\n",
    "trace= plotPoints(MainRootPoints, \"main root\") #cell[4]\n",
    "fig2.add_trace(trace)\n",
    "pqs =[]\n",
    "Info = [[\"pq\", \"length\", \"txy\"]]\n",
    "for root in latteralRoots:\n",
    "    pqs.append(root[-1]) #takes the root tip point of each lateral root segment\n",
    "for pq in pqs:\n",
    "    DAC = findMostOptimal(MainRootPoints, G,al,pq) #cell[5]\n",
    "    #returns length, txy, dplot, raplot\n",
    "    array =[pq, DAC[0], DAC[1]]\n",
    "    Info.append(array)\n",
    "    fig.add_trace(DAC[3])\n",
    "    fig2.add_trace(DAC[3])\n",
    "    fig3.add_trace(DAC[2])\n",
    "fig.show()\n",
    "fig2.show()\n",
    "fig3.show()\n",
    "#print(Info)"
   ]
  },
  {
   "cell_type": "code",
   "execution_count": 37,
   "id": "d35d6f9d-0ae8-4a85-9bc1-fb9cdf5023e9",
   "metadata": {},
   "outputs": [],
   "source": [
    "def readArborFile(fileName):\n",
    "    # return a networkX graph of the arbor\n",
    "    pass"
   ]
  },
  {
   "cell_type": "code",
   "execution_count": 39,
   "id": "db817c61-964d-4a65-9b70-2152024227a0",
   "metadata": {},
   "outputs": [],
   "source": [
    "def optimalArbor(arbor, G, alpha):\n",
    "    pass\n",
    "    # arbor is a networkx graph\n",
    "    # return a networkx graph representing optimal arbor"
   ]
  },
  {
   "cell_type": "code",
   "execution_count": 40,
   "id": "3fe414da-d8a3-44e2-b7eb-4daa70c355a4",
   "metadata": {},
   "outputs": [],
   "source": [
    "def drawArbor(arbor):\n",
    "    pass\n",
    "    # arbor is a networkx graph\n",
    "    # draw the arbor in plotly"
   ]
  },
  {
   "cell_type": "code",
   "execution_count": 41,
   "id": "d962f579-a80a-46ce-8e1c-ff53ca86ed49",
   "metadata": {},
   "outputs": [],
   "source": [
    "x = 2"
   ]
  },
  {
   "cell_type": "code",
   "execution_count": 42,
   "id": "8b4a8d91-8374-4515-b5be-db46efb97dd6",
   "metadata": {},
   "outputs": [
    {
     "data": {
      "application/vnd.plotly.v1+json": {
       "config": {
        "plotlyServerURL": "https://plot.ly"
       },
       "data": [
        {
         "type": "scatter",
         "x": [
          0,
          0.10204081632653061,
          0.20408163265306123,
          0.30612244897959184,
          0.40816326530612246,
          0.5102040816326531,
          0.6122448979591837,
          0.7142857142857143,
          0.8163265306122449,
          0.9183673469387755,
          1.0204081632653061,
          1.1224489795918369,
          1.2244897959183674,
          1.3265306122448979,
          1.4285714285714286,
          1.5306122448979593,
          1.6326530612244898,
          1.7346938775510203,
          1.836734693877551,
          1.9387755102040818,
          2.0408163265306123,
          2.142857142857143,
          2.2448979591836737,
          2.3469387755102042,
          2.4489795918367347,
          2.5510204081632653,
          2.6530612244897958,
          2.7551020408163267,
          2.857142857142857,
          2.9591836734693877,
          3.0612244897959187,
          3.163265306122449,
          3.2653061224489797,
          3.36734693877551,
          3.4693877551020407,
          3.5714285714285716,
          3.673469387755102,
          3.7755102040816326,
          3.8775510204081636,
          3.979591836734694,
          4.081632653061225,
          4.183673469387755,
          4.285714285714286,
          4.387755102040816,
          4.4897959183673475,
          4.591836734693878,
          4.6938775510204085,
          4.795918367346939,
          4.8979591836734695,
          5
         ],
         "y": [
          3,
          3.510204081632653,
          4.020408163265306,
          4.530612244897959,
          5.040816326530612,
          5.551020408163265,
          6.061224489795919,
          6.571428571428571,
          7.081632653061225,
          7.591836734693878,
          8.10204081632653,
          8.612244897959185,
          9.122448979591837,
          9.63265306122449,
          10.142857142857142,
          10.653061224489797,
          11.16326530612245,
          11.673469387755102,
          12.183673469387756,
          12.693877551020408,
          13.204081632653061,
          13.714285714285714,
          14.22448979591837,
          14.73469387755102,
          15.244897959183675,
          15.755102040816325,
          16.26530612244898,
          16.775510204081634,
          17.285714285714285,
          17.79591836734694,
          18.306122448979593,
          18.816326530612244,
          19.3265306122449,
          19.836734693877553,
          20.346938775510203,
          20.857142857142858,
          21.367346938775512,
          21.877551020408163,
          22.387755102040817,
          22.89795918367347,
          23.408163265306122,
          23.918367346938776,
          24.428571428571427,
          24.93877551020408,
          25.44897959183674,
          25.95918367346939,
          26.46938775510204,
          26.979591836734695,
          27.48979591836735,
          28
         ]
        }
       ],
       "layout": {
        "autosize": true,
        "template": {
         "data": {
          "bar": [
           {
            "error_x": {
             "color": "#2a3f5f"
            },
            "error_y": {
             "color": "#2a3f5f"
            },
            "marker": {
             "line": {
              "color": "#E5ECF6",
              "width": 0.5
             },
             "pattern": {
              "fillmode": "overlay",
              "size": 10,
              "solidity": 0.2
             }
            },
            "type": "bar"
           }
          ],
          "barpolar": [
           {
            "marker": {
             "line": {
              "color": "#E5ECF6",
              "width": 0.5
             },
             "pattern": {
              "fillmode": "overlay",
              "size": 10,
              "solidity": 0.2
             }
            },
            "type": "barpolar"
           }
          ],
          "carpet": [
           {
            "aaxis": {
             "endlinecolor": "#2a3f5f",
             "gridcolor": "white",
             "linecolor": "white",
             "minorgridcolor": "white",
             "startlinecolor": "#2a3f5f"
            },
            "baxis": {
             "endlinecolor": "#2a3f5f",
             "gridcolor": "white",
             "linecolor": "white",
             "minorgridcolor": "white",
             "startlinecolor": "#2a3f5f"
            },
            "type": "carpet"
           }
          ],
          "choropleth": [
           {
            "colorbar": {
             "outlinewidth": 0,
             "ticks": ""
            },
            "type": "choropleth"
           }
          ],
          "contour": [
           {
            "colorbar": {
             "outlinewidth": 0,
             "ticks": ""
            },
            "colorscale": [
             [
              0,
              "#0d0887"
             ],
             [
              0.1111111111111111,
              "#46039f"
             ],
             [
              0.2222222222222222,
              "#7201a8"
             ],
             [
              0.3333333333333333,
              "#9c179e"
             ],
             [
              0.4444444444444444,
              "#bd3786"
             ],
             [
              0.5555555555555556,
              "#d8576b"
             ],
             [
              0.6666666666666666,
              "#ed7953"
             ],
             [
              0.7777777777777778,
              "#fb9f3a"
             ],
             [
              0.8888888888888888,
              "#fdca26"
             ],
             [
              1,
              "#f0f921"
             ]
            ],
            "type": "contour"
           }
          ],
          "contourcarpet": [
           {
            "colorbar": {
             "outlinewidth": 0,
             "ticks": ""
            },
            "type": "contourcarpet"
           }
          ],
          "heatmap": [
           {
            "colorbar": {
             "outlinewidth": 0,
             "ticks": ""
            },
            "colorscale": [
             [
              0,
              "#0d0887"
             ],
             [
              0.1111111111111111,
              "#46039f"
             ],
             [
              0.2222222222222222,
              "#7201a8"
             ],
             [
              0.3333333333333333,
              "#9c179e"
             ],
             [
              0.4444444444444444,
              "#bd3786"
             ],
             [
              0.5555555555555556,
              "#d8576b"
             ],
             [
              0.6666666666666666,
              "#ed7953"
             ],
             [
              0.7777777777777778,
              "#fb9f3a"
             ],
             [
              0.8888888888888888,
              "#fdca26"
             ],
             [
              1,
              "#f0f921"
             ]
            ],
            "type": "heatmap"
           }
          ],
          "heatmapgl": [
           {
            "colorbar": {
             "outlinewidth": 0,
             "ticks": ""
            },
            "colorscale": [
             [
              0,
              "#0d0887"
             ],
             [
              0.1111111111111111,
              "#46039f"
             ],
             [
              0.2222222222222222,
              "#7201a8"
             ],
             [
              0.3333333333333333,
              "#9c179e"
             ],
             [
              0.4444444444444444,
              "#bd3786"
             ],
             [
              0.5555555555555556,
              "#d8576b"
             ],
             [
              0.6666666666666666,
              "#ed7953"
             ],
             [
              0.7777777777777778,
              "#fb9f3a"
             ],
             [
              0.8888888888888888,
              "#fdca26"
             ],
             [
              1,
              "#f0f921"
             ]
            ],
            "type": "heatmapgl"
           }
          ],
          "histogram": [
           {
            "marker": {
             "pattern": {
              "fillmode": "overlay",
              "size": 10,
              "solidity": 0.2
             }
            },
            "type": "histogram"
           }
          ],
          "histogram2d": [
           {
            "colorbar": {
             "outlinewidth": 0,
             "ticks": ""
            },
            "colorscale": [
             [
              0,
              "#0d0887"
             ],
             [
              0.1111111111111111,
              "#46039f"
             ],
             [
              0.2222222222222222,
              "#7201a8"
             ],
             [
              0.3333333333333333,
              "#9c179e"
             ],
             [
              0.4444444444444444,
              "#bd3786"
             ],
             [
              0.5555555555555556,
              "#d8576b"
             ],
             [
              0.6666666666666666,
              "#ed7953"
             ],
             [
              0.7777777777777778,
              "#fb9f3a"
             ],
             [
              0.8888888888888888,
              "#fdca26"
             ],
             [
              1,
              "#f0f921"
             ]
            ],
            "type": "histogram2d"
           }
          ],
          "histogram2dcontour": [
           {
            "colorbar": {
             "outlinewidth": 0,
             "ticks": ""
            },
            "colorscale": [
             [
              0,
              "#0d0887"
             ],
             [
              0.1111111111111111,
              "#46039f"
             ],
             [
              0.2222222222222222,
              "#7201a8"
             ],
             [
              0.3333333333333333,
              "#9c179e"
             ],
             [
              0.4444444444444444,
              "#bd3786"
             ],
             [
              0.5555555555555556,
              "#d8576b"
             ],
             [
              0.6666666666666666,
              "#ed7953"
             ],
             [
              0.7777777777777778,
              "#fb9f3a"
             ],
             [
              0.8888888888888888,
              "#fdca26"
             ],
             [
              1,
              "#f0f921"
             ]
            ],
            "type": "histogram2dcontour"
           }
          ],
          "mesh3d": [
           {
            "colorbar": {
             "outlinewidth": 0,
             "ticks": ""
            },
            "type": "mesh3d"
           }
          ],
          "parcoords": [
           {
            "line": {
             "colorbar": {
              "outlinewidth": 0,
              "ticks": ""
             }
            },
            "type": "parcoords"
           }
          ],
          "pie": [
           {
            "automargin": true,
            "type": "pie"
           }
          ],
          "scatter": [
           {
            "fillpattern": {
             "fillmode": "overlay",
             "size": 10,
             "solidity": 0.2
            },
            "type": "scatter"
           }
          ],
          "scatter3d": [
           {
            "line": {
             "colorbar": {
              "outlinewidth": 0,
              "ticks": ""
             }
            },
            "marker": {
             "colorbar": {
              "outlinewidth": 0,
              "ticks": ""
             }
            },
            "type": "scatter3d"
           }
          ],
          "scattercarpet": [
           {
            "marker": {
             "colorbar": {
              "outlinewidth": 0,
              "ticks": ""
             }
            },
            "type": "scattercarpet"
           }
          ],
          "scattergeo": [
           {
            "marker": {
             "colorbar": {
              "outlinewidth": 0,
              "ticks": ""
             }
            },
            "type": "scattergeo"
           }
          ],
          "scattergl": [
           {
            "marker": {
             "colorbar": {
              "outlinewidth": 0,
              "ticks": ""
             }
            },
            "type": "scattergl"
           }
          ],
          "scattermapbox": [
           {
            "marker": {
             "colorbar": {
              "outlinewidth": 0,
              "ticks": ""
             }
            },
            "type": "scattermapbox"
           }
          ],
          "scatterpolar": [
           {
            "marker": {
             "colorbar": {
              "outlinewidth": 0,
              "ticks": ""
             }
            },
            "type": "scatterpolar"
           }
          ],
          "scatterpolargl": [
           {
            "marker": {
             "colorbar": {
              "outlinewidth": 0,
              "ticks": ""
             }
            },
            "type": "scatterpolargl"
           }
          ],
          "scatterternary": [
           {
            "marker": {
             "colorbar": {
              "outlinewidth": 0,
              "ticks": ""
             }
            },
            "type": "scatterternary"
           }
          ],
          "surface": [
           {
            "colorbar": {
             "outlinewidth": 0,
             "ticks": ""
            },
            "colorscale": [
             [
              0,
              "#0d0887"
             ],
             [
              0.1111111111111111,
              "#46039f"
             ],
             [
              0.2222222222222222,
              "#7201a8"
             ],
             [
              0.3333333333333333,
              "#9c179e"
             ],
             [
              0.4444444444444444,
              "#bd3786"
             ],
             [
              0.5555555555555556,
              "#d8576b"
             ],
             [
              0.6666666666666666,
              "#ed7953"
             ],
             [
              0.7777777777777778,
              "#fb9f3a"
             ],
             [
              0.8888888888888888,
              "#fdca26"
             ],
             [
              1,
              "#f0f921"
             ]
            ],
            "type": "surface"
           }
          ],
          "table": [
           {
            "cells": {
             "fill": {
              "color": "#EBF0F8"
             },
             "line": {
              "color": "white"
             }
            },
            "header": {
             "fill": {
              "color": "#C8D4E3"
             },
             "line": {
              "color": "white"
             }
            },
            "type": "table"
           }
          ]
         },
         "layout": {
          "annotationdefaults": {
           "arrowcolor": "#2a3f5f",
           "arrowhead": 0,
           "arrowwidth": 1
          },
          "autotypenumbers": "strict",
          "coloraxis": {
           "colorbar": {
            "outlinewidth": 0,
            "ticks": ""
           }
          },
          "colorscale": {
           "diverging": [
            [
             0,
             "#8e0152"
            ],
            [
             0.1,
             "#c51b7d"
            ],
            [
             0.2,
             "#de77ae"
            ],
            [
             0.3,
             "#f1b6da"
            ],
            [
             0.4,
             "#fde0ef"
            ],
            [
             0.5,
             "#f7f7f7"
            ],
            [
             0.6,
             "#e6f5d0"
            ],
            [
             0.7,
             "#b8e186"
            ],
            [
             0.8,
             "#7fbc41"
            ],
            [
             0.9,
             "#4d9221"
            ],
            [
             1,
             "#276419"
            ]
           ],
           "sequential": [
            [
             0,
             "#0d0887"
            ],
            [
             0.1111111111111111,
             "#46039f"
            ],
            [
             0.2222222222222222,
             "#7201a8"
            ],
            [
             0.3333333333333333,
             "#9c179e"
            ],
            [
             0.4444444444444444,
             "#bd3786"
            ],
            [
             0.5555555555555556,
             "#d8576b"
            ],
            [
             0.6666666666666666,
             "#ed7953"
            ],
            [
             0.7777777777777778,
             "#fb9f3a"
            ],
            [
             0.8888888888888888,
             "#fdca26"
            ],
            [
             1,
             "#f0f921"
            ]
           ],
           "sequentialminus": [
            [
             0,
             "#0d0887"
            ],
            [
             0.1111111111111111,
             "#46039f"
            ],
            [
             0.2222222222222222,
             "#7201a8"
            ],
            [
             0.3333333333333333,
             "#9c179e"
            ],
            [
             0.4444444444444444,
             "#bd3786"
            ],
            [
             0.5555555555555556,
             "#d8576b"
            ],
            [
             0.6666666666666666,
             "#ed7953"
            ],
            [
             0.7777777777777778,
             "#fb9f3a"
            ],
            [
             0.8888888888888888,
             "#fdca26"
            ],
            [
             1,
             "#f0f921"
            ]
           ]
          },
          "colorway": [
           "#636efa",
           "#EF553B",
           "#00cc96",
           "#ab63fa",
           "#FFA15A",
           "#19d3f3",
           "#FF6692",
           "#B6E880",
           "#FF97FF",
           "#FECB52"
          ],
          "font": {
           "color": "#2a3f5f"
          },
          "geo": {
           "bgcolor": "white",
           "lakecolor": "white",
           "landcolor": "#E5ECF6",
           "showlakes": true,
           "showland": true,
           "subunitcolor": "white"
          },
          "hoverlabel": {
           "align": "left"
          },
          "hovermode": "closest",
          "mapbox": {
           "style": "light"
          },
          "paper_bgcolor": "white",
          "plot_bgcolor": "#E5ECF6",
          "polar": {
           "angularaxis": {
            "gridcolor": "white",
            "linecolor": "white",
            "ticks": ""
           },
           "bgcolor": "#E5ECF6",
           "radialaxis": {
            "gridcolor": "white",
            "linecolor": "white",
            "ticks": ""
           }
          },
          "scene": {
           "xaxis": {
            "backgroundcolor": "#E5ECF6",
            "gridcolor": "white",
            "gridwidth": 2,
            "linecolor": "white",
            "showbackground": true,
            "ticks": "",
            "zerolinecolor": "white"
           },
           "yaxis": {
            "backgroundcolor": "#E5ECF6",
            "gridcolor": "white",
            "gridwidth": 2,
            "linecolor": "white",
            "showbackground": true,
            "ticks": "",
            "zerolinecolor": "white"
           },
           "zaxis": {
            "backgroundcolor": "#E5ECF6",
            "gridcolor": "white",
            "gridwidth": 2,
            "linecolor": "white",
            "showbackground": true,
            "ticks": "",
            "zerolinecolor": "white"
           }
          },
          "shapedefaults": {
           "line": {
            "color": "#2a3f5f"
           }
          },
          "ternary": {
           "aaxis": {
            "gridcolor": "white",
            "linecolor": "white",
            "ticks": ""
           },
           "baxis": {
            "gridcolor": "white",
            "linecolor": "white",
            "ticks": ""
           },
           "bgcolor": "#E5ECF6",
           "caxis": {
            "gridcolor": "white",
            "linecolor": "white",
            "ticks": ""
           }
          },
          "title": {
           "x": 0.05
          },
          "xaxis": {
           "automargin": true,
           "gridcolor": "white",
           "linecolor": "white",
           "ticks": "",
           "title": {
            "standoff": 15
           },
           "zerolinecolor": "white",
           "zerolinewidth": 2
          },
          "yaxis": {
           "automargin": true,
           "gridcolor": "white",
           "linecolor": "white",
           "ticks": "",
           "title": {
            "standoff": 15
           },
           "zerolinecolor": "white",
           "zerolinewidth": 2
          }
         }
        },
        "xaxis": {
         "autorange": true,
         "range": [
          0,
          5
         ],
         "type": "linear"
        },
        "yaxis": {
         "autorange": true,
         "range": [
          1.6111111111111112,
          29.38888888888889
         ],
         "type": "linear"
        }
       }
      },
      "image/png": "[encoded data removed]",
      "text/html": [
       "<div>                            <div id=\"349f6a50-f50e-416f-b24e-5686cca7558e\" class=\"plotly-graph-div\" style=\"height:525px; width:100%;\"></div>            <script type=\"text/javascript\">                require([\"plotly\"], function(Plotly) {                    window.PLOTLYENV=window.PLOTLYENV || {};                                    if (document.getElementById(\"349f6a50-f50e-416f-b24e-5686cca7558e\")) {                    Plotly.newPlot(                        \"349f6a50-f50e-416f-b24e-5686cca7558e\",                        [{\"x\":[0.0,0.10204081632653061,0.20408163265306123,0.30612244897959184,0.40816326530612246,0.5102040816326531,0.6122448979591837,0.7142857142857143,0.8163265306122449,0.9183673469387755,1.0204081632653061,1.1224489795918369,1.2244897959183674,1.3265306122448979,1.4285714285714286,1.5306122448979593,1.6326530612244898,1.7346938775510203,1.836734693877551,1.9387755102040818,2.0408163265306123,2.142857142857143,2.2448979591836737,2.3469387755102042,2.4489795918367347,2.5510204081632653,2.6530612244897958,2.7551020408163267,2.857142857142857,2.9591836734693877,3.0612244897959187,3.163265306122449,3.2653061224489797,3.36734693877551,3.4693877551020407,3.5714285714285716,3.673469387755102,3.7755102040816326,3.8775510204081636,3.979591836734694,4.081632653061225,4.183673469387755,4.285714285714286,4.387755102040816,4.4897959183673475,4.591836734693878,4.6938775510204085,4.795918367346939,4.8979591836734695,5.0],\"y\":[3.0,3.510204081632653,4.020408163265306,4.530612244897959,5.040816326530612,5.551020408163265,6.061224489795919,6.571428571428571,7.081632653061225,7.591836734693878,8.10204081632653,8.612244897959185,9.122448979591837,9.63265306122449,10.142857142857142,10.653061224489797,11.16326530612245,11.673469387755102,12.183673469387756,12.693877551020408,13.204081632653061,13.714285714285714,14.22448979591837,14.73469387755102,15.244897959183675,15.755102040816325,16.26530612244898,16.775510204081634,17.285714285714285,17.79591836734694,18.306122448979593,18.816326530612244,19.3265306122449,19.836734693877553,20.346938775510203,20.857142857142858,21.367346938775512,21.877551020408163,22.387755102040817,22.89795918367347,23.408163265306122,23.918367346938776,24.428571428571427,24.93877551020408,25.44897959183674,25.95918367346939,26.46938775510204,26.979591836734695,27.48979591836735,28.0],\"type\":\"scatter\"}],                        {\"template\":{\"data\":{\"histogram2dcontour\":[{\"type\":\"histogram2dcontour\",\"colorbar\":{\"outlinewidth\":0,\"ticks\":\"\"},\"colorscale\":[[0.0,\"#0d0887\"],[0.1111111111111111,\"#46039f\"],[0.2222222222222222,\"#7201a8\"],[0.3333333333333333,\"#9c179e\"],[0.4444444444444444,\"#bd3786\"],[0.5555555555555556,\"#d8576b\"],[0.6666666666666666,\"#ed7953\"],[0.7777777777777778,\"#fb9f3a\"],[0.8888888888888888,\"#fdca26\"],[1.0,\"#f0f921\"]]}],\"choropleth\":[{\"type\":\"choropleth\",\"colorbar\":{\"outlinewidth\":0,\"ticks\":\"\"}}],\"histogram2d\":[{\"type\":\"histogram2d\",\"colorbar\":{\"outlinewidth\":0,\"ticks\":\"\"},\"colorscale\":[[0.0,\"#0d0887\"],[0.1111111111111111,\"#46039f\"],[0.2222222222222222,\"#7201a8\"],[0.3333333333333333,\"#9c179e\"],[0.4444444444444444,\"#bd3786\"],[0.5555555555555556,\"#d8576b\"],[0.6666666666666666,\"#ed7953\"],[0.7777777777777778,\"#fb9f3a\"],[0.8888888888888888,\"#fdca26\"],[1.0,\"#f0f921\"]]}],\"heatmap\":[{\"type\":\"heatmap\",\"colorbar\":{\"outlinewidth\":0,\"ticks\":\"\"},\"colorscale\":[[0.0,\"#0d0887\"],[0.1111111111111111,\"#46039f\"],[0.2222222222222222,\"#7201a8\"],[0.3333333333333333,\"#9c179e\"],[0.4444444444444444,\"#bd3786\"],[0.5555555555555556,\"#d8576b\"],[0.6666666666666666,\"#ed7953\"],[0.7777777777777778,\"#fb9f3a\"],[0.8888888888888888,\"#fdca26\"],[1.0,\"#f0f921\"]]}],\"heatmapgl\":[{\"type\":\"heatmapgl\",\"colorbar\":{\"outlinewidth\":0,\"ticks\":\"\"},\"colorscale\":[[0.0,\"#0d0887\"],[0.1111111111111111,\"#46039f\"],[0.2222222222222222,\"#7201a8\"],[0.3333333333333333,\"#9c179e\"],[0.4444444444444444,\"#bd3786\"],[0.5555555555555556,\"#d8576b\"],[0.6666666666666666,\"#ed7953\"],[0.7777777777777778,\"#fb9f3a\"],[0.8888888888888888,\"#fdca26\"],[1.0,\"#f0f921\"]]}],\"contourcarpet\":[{\"type\":\"contourcarpet\",\"colorbar\":{\"outlinewidth\":0,\"ticks\":\"\"}}],\"contour\":[{\"type\":\"contour\",\"colorbar\":{\"outlinewidth\":0,\"ticks\":\"\"},\"colorscale\":[[0.0,\"#0d0887\"],[0.1111111111111111,\"#46039f\"],[0.2222222222222222,\"#7201a8\"],[0.3333333333333333,\"#9c179e\"],[0.4444444444444444,\"#bd3786\"],[0.5555555555555556,\"#d8576b\"],[0.6666666666666666,\"#ed7953\"],[0.7777777777777778,\"#fb9f3a\"],[0.8888888888888888,\"#fdca26\"],[1.0,\"#f0f921\"]]}],\"surface\":[{\"type\":\"surface\",\"colorbar\":{\"outlinewidth\":0,\"ticks\":\"\"},\"colorscale\":[[0.0,\"#0d0887\"],[0.1111111111111111,\"#46039f\"],[0.2222222222222222,\"#7201a8\"],[0.3333333333333333,\"#9c179e\"],[0.4444444444444444,\"#bd3786\"],[0.5555555555555556,\"#d8576b\"],[0.6666666666666666,\"#ed7953\"],[0.7777777777777778,\"#fb9f3a\"],[0.8888888888888888,\"#fdca26\"],[1.0,\"#f0f921\"]]}],\"mesh3d\":[{\"type\":\"mesh3d\",\"colorbar\":{\"outlinewidth\":0,\"ticks\":\"\"}}],\"scatter\":[{\"fillpattern\":{\"fillmode\":\"overlay\",\"size\":10,\"solidity\":0.2},\"type\":\"scatter\"}],\"parcoords\":[{\"type\":\"parcoords\",\"line\":{\"colorbar\":{\"outlinewidth\":0,\"ticks\":\"\"}}}],\"scatterpolargl\":[{\"type\":\"scatterpolargl\",\"marker\":{\"colorbar\":{\"outlinewidth\":0,\"ticks\":\"\"}}}],\"bar\":[{\"error_x\":{\"color\":\"#2a3f5f\"},\"error_y\":{\"color\":\"#2a3f5f\"},\"marker\":{\"line\":{\"color\":\"#E5ECF6\",\"width\":0.5},\"pattern\":{\"fillmode\":\"overlay\",\"size\":10,\"solidity\":0.2}},\"type\":\"bar\"}],\"scattergeo\":[{\"type\":\"scattergeo\",\"marker\":{\"colorbar\":{\"outlinewidth\":0,\"ticks\":\"\"}}}],\"scatterpolar\":[{\"type\":\"scatterpolar\",\"marker\":{\"colorbar\":{\"outlinewidth\":0,\"ticks\":\"\"}}}],\"histogram\":[{\"marker\":{\"pattern\":{\"fillmode\":\"overlay\",\"size\":10,\"solidity\":0.2}},\"type\":\"histogram\"}],\"scattergl\":[{\"type\":\"scattergl\",\"marker\":{\"colorbar\":{\"outlinewidth\":0,\"ticks\":\"\"}}}],\"scatter3d\":[{\"type\":\"scatter3d\",\"line\":{\"colorbar\":{\"outlinewidth\":0,\"ticks\":\"\"}},\"marker\":{\"colorbar\":{\"outlinewidth\":0,\"ticks\":\"\"}}}],\"scattermapbox\":[{\"type\":\"scattermapbox\",\"marker\":{\"colorbar\":{\"outlinewidth\":0,\"ticks\":\"\"}}}],\"scatterternary\":[{\"type\":\"scatterternary\",\"marker\":{\"colorbar\":{\"outlinewidth\":0,\"ticks\":\"\"}}}],\"scattercarpet\":[{\"type\":\"scattercarpet\",\"marker\":{\"colorbar\":{\"outlinewidth\":0,\"ticks\":\"\"}}}],\"carpet\":[{\"aaxis\":{\"endlinecolor\":\"#2a3f5f\",\"gridcolor\":\"white\",\"linecolor\":\"white\",\"minorgridcolor\":\"white\",\"startlinecolor\":\"#2a3f5f\"},\"baxis\":{\"endlinecolor\":\"#2a3f5f\",\"gridcolor\":\"white\",\"linecolor\":\"white\",\"minorgridcolor\":\"white\",\"startlinecolor\":\"#2a3f5f\"},\"type\":\"carpet\"}],\"table\":[{\"cells\":{\"fill\":{\"color\":\"#EBF0F8\"},\"line\":{\"color\":\"white\"}},\"header\":{\"fill\":{\"color\":\"#C8D4E3\"},\"line\":{\"color\":\"white\"}},\"type\":\"table\"}],\"barpolar\":[{\"marker\":{\"line\":{\"color\":\"#E5ECF6\",\"width\":0.5},\"pattern\":{\"fillmode\":\"overlay\",\"size\":10,\"solidity\":0.2}},\"type\":\"barpolar\"}],\"pie\":[{\"automargin\":true,\"type\":\"pie\"}]},\"layout\":{\"autotypenumbers\":\"strict\",\"colorway\":[\"#636efa\",\"#EF553B\",\"#00cc96\",\"#ab63fa\",\"#FFA15A\",\"#19d3f3\",\"#FF6692\",\"#B6E880\",\"#FF97FF\",\"#FECB52\"],\"font\":{\"color\":\"#2a3f5f\"},\"hovermode\":\"closest\",\"hoverlabel\":{\"align\":\"left\"},\"paper_bgcolor\":\"white\",\"plot_bgcolor\":\"#E5ECF6\",\"polar\":{\"bgcolor\":\"#E5ECF6\",\"angularaxis\":{\"gridcolor\":\"white\",\"linecolor\":\"white\",\"ticks\":\"\"},\"radialaxis\":{\"gridcolor\":\"white\",\"linecolor\":\"white\",\"ticks\":\"\"}},\"ternary\":{\"bgcolor\":\"#E5ECF6\",\"aaxis\":{\"gridcolor\":\"white\",\"linecolor\":\"white\",\"ticks\":\"\"},\"baxis\":{\"gridcolor\":\"white\",\"linecolor\":\"white\",\"ticks\":\"\"},\"caxis\":{\"gridcolor\":\"white\",\"linecolor\":\"white\",\"ticks\":\"\"}},\"coloraxis\":{\"colorbar\":{\"outlinewidth\":0,\"ticks\":\"\"}},\"colorscale\":{\"sequential\":[[0.0,\"#0d0887\"],[0.1111111111111111,\"#46039f\"],[0.2222222222222222,\"#7201a8\"],[0.3333333333333333,\"#9c179e\"],[0.4444444444444444,\"#bd3786\"],[0.5555555555555556,\"#d8576b\"],[0.6666666666666666,\"#ed7953\"],[0.7777777777777778,\"#fb9f3a\"],[0.8888888888888888,\"#fdca26\"],[1.0,\"#f0f921\"]],\"sequentialminus\":[[0.0,\"#0d0887\"],[0.1111111111111111,\"#46039f\"],[0.2222222222222222,\"#7201a8\"],[0.3333333333333333,\"#9c179e\"],[0.4444444444444444,\"#bd3786\"],[0.5555555555555556,\"#d8576b\"],[0.6666666666666666,\"#ed7953\"],[0.7777777777777778,\"#fb9f3a\"],[0.8888888888888888,\"#fdca26\"],[1.0,\"#f0f921\"]],\"diverging\":[[0,\"#8e0152\"],[0.1,\"#c51b7d\"],[0.2,\"#de77ae\"],[0.3,\"#f1b6da\"],[0.4,\"#fde0ef\"],[0.5,\"#f7f7f7\"],[0.6,\"#e6f5d0\"],[0.7,\"#b8e186\"],[0.8,\"#7fbc41\"],[0.9,\"#4d9221\"],[1,\"#276419\"]]},\"xaxis\":{\"gridcolor\":\"white\",\"linecolor\":\"white\",\"ticks\":\"\",\"title\":{\"standoff\":15},\"zerolinecolor\":\"white\",\"automargin\":true,\"zerolinewidth\":2},\"yaxis\":{\"gridcolor\":\"white\",\"linecolor\":\"white\",\"ticks\":\"\",\"title\":{\"standoff\":15},\"zerolinecolor\":\"white\",\"automargin\":true,\"zerolinewidth\":2},\"scene\":{\"xaxis\":{\"backgroundcolor\":\"#E5ECF6\",\"gridcolor\":\"white\",\"linecolor\":\"white\",\"showbackground\":true,\"ticks\":\"\",\"zerolinecolor\":\"white\",\"gridwidth\":2},\"yaxis\":{\"backgroundcolor\":\"#E5ECF6\",\"gridcolor\":\"white\",\"linecolor\":\"white\",\"showbackground\":true,\"ticks\":\"\",\"zerolinecolor\":\"white\",\"gridwidth\":2},\"zaxis\":{\"backgroundcolor\":\"#E5ECF6\",\"gridcolor\":\"white\",\"linecolor\":\"white\",\"showbackground\":true,\"ticks\":\"\",\"zerolinecolor\":\"white\",\"gridwidth\":2}},\"shapedefaults\":{\"line\":{\"color\":\"#2a3f5f\"}},\"annotationdefaults\":{\"arrowcolor\":\"#2a3f5f\",\"arrowhead\":0,\"arrowwidth\":1},\"geo\":{\"bgcolor\":\"white\",\"landcolor\":\"#E5ECF6\",\"subunitcolor\":\"white\",\"showland\":true,\"showlakes\":true,\"lakecolor\":\"white\"},\"title\":{\"x\":0.05},\"mapbox\":{\"style\":\"light\"}}}},                        {\"responsive\": true}                    ).then(function(){\n",
       "                            \n",
       "var gd = document.getElementById('349f6a50-f50e-416f-b24e-5686cca7558e');\n",
       "var x = new MutationObserver(function (mutations, observer) {{\n",
       "        var display = window.getComputedStyle(gd).display;\n",
       "        if (!display || display === 'none') {{\n",
       "            console.log([gd, 'removed!']);\n",
       "            Plotly.purge(gd);\n",
       "            observer.disconnect();\n",
       "        }}\n",
       "}});\n",
       "\n",
       "// Listen for the removal of the full notebook cells\n",
       "var notebookContainer = gd.closest('#notebook-container');\n",
       "if (notebookContainer) {{\n",
       "    x.observe(notebookContainer, {childList: true});\n",
       "}}\n",
       "\n",
       "// Listen for the clearing of the current output cell\n",
       "var outputEl = gd.closest('.output');\n",
       "if (outputEl) {{\n",
       "    x.observe(outputEl, {childList: true});\n",
       "}}\n",
       "\n",
       "                        })                };                });            </script>        </div>"
      ]
     },
     "metadata": {},
     "output_type": "display_data"
    }
   ],
   "source": [
    "x = np.linspace(0,5)\n",
    "y = 5*x+3\n",
    "trace = go.Scatter(x = x, y =y)\n",
    "fig4 = go.Figure(trace)\n",
    "fig4.show()\n"
   ]
  },
  {
   "cell_type": "code",
   "execution_count": null,
   "id": "29f94dd6-6c5d-4024-82f5-84a630fffb41",
   "metadata": {},
   "outputs": [],
   "source": []
  }
 ],
 "metadata": {
  "kernelspec": {
   "display_name": "Python 3 (ipykernel)",
   "language": "python",
   "name": "python3"
  },
  "language_info": {
   "codemirror_mode": {
    "name": "ipython",
    "version": 3
   },
   "file_extension": ".py",
   "mimetype": "text/x-python",
   "name": "python",
   "nbconvert_exporter": "python",
   "pygments_lexer": "ipython3",
   "version": "3.11.3"
  }
 },
 "nbformat": 4,
 "nbformat_minor": 5
}
