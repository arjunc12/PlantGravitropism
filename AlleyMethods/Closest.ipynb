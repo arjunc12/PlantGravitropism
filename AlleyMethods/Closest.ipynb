{
 "cells": [
  {
   "cell_type": "code",
   "execution_count": null,
   "id": "24cfc90e-8a24-455d-b11c-a0074bb87aa3",
   "metadata": {},
   "outputs": [],
   "source": [
    "#Use PointbestDiffernce(Plant) to find best G and alpha using point differnce\n",
    "    #input: networkx arbor\n",
    "    #output:\n",
    "        #closest optimal networkx arbor\n",
    "        #Closest G\n",
    "        #closest alpha\n",
    "        \n",
    "#Use ClosestEuclid(originalPlant) to find best G and alpha using point diffence\n",
    "    #input: netowrkx arbor\n",
    "    #output:\n",
    "        #front: networkx object of all nodes with coordinates (conduction delay, wiring cost) for diffent Gs and alphas\n",
    "        #orignal plant\n",
    "        #the best euclid distance\n",
    "        #bestNodeArray\n",
    "            #the cordinate which is (conducton delay, wiringcost)\n",
    "            #the best G value\n",
    "            #best alpha value\n",
    "        #x: conduction delay\n",
    "        #y:wiring cost"
   ]
  },
  {
   "cell_type": "code",
   "execution_count": 5,
   "id": "9caf6267-43f1-431c-894e-f81dde358523",
   "metadata": {
    "tags": []
   },
   "outputs": [],
   "source": [
    "import numpy as np\n",
    "%run NetworkxConverstion.ipynb\n",
    "%run WringCostAndConductionDelay.ipynb"
   ]
  },
  {
   "cell_type": "code",
   "execution_count": 2,
   "id": "bf4f0d26-8298-4eda-abda-7698c86ee106",
   "metadata": {
    "tags": []
   },
   "outputs": [],
   "source": [
    "#point by point best differnce"
   ]
  },
  {
   "cell_type": "code",
   "execution_count": 3,
   "id": "11f3e97c-0f75-4745-a752-af5327d43ecb",
   "metadata": {
    "tags": []
   },
   "outputs": [],
   "source": [
    "#find best G and alpha using point differnce\n",
    "    #input: networx arbor\n",
    "    #output:\n",
    "        #closest optimal networkx arbor\n",
    "        #Closest G\n",
    "        #closest alpha\n",
    "def PointbestDiffernce(Plant):\n",
    "    Grange = np.arange(-2,2.1,.1)\n",
    "    bestG = -2\n",
    "    aRange = np.arange(0,1.1,.1)\n",
    "    bestA =0\n",
    "    Plant2 = optimalArbor(Plant, bestG, bestA)\n",
    "    bestDif = pointDif(Plant,Plant2)\n",
    "    for G in Grange:\n",
    "        for alpha in aRange:\n",
    "            Plant2 = optimalArbor(Plant, G, alpha)\n",
    "            dif = findDiffernce(Plant,Plant2,bestDif)\n",
    "            if dif < bestDif:\n",
    "                bestDif = dif\n",
    "                bestA = alpha\n",
    "                bestG =G\n",
    "        print(G)#for me to see if it is still working\n",
    "    bestPlant = optimalArbor(Plant,bestG, bestA)\n",
    "    return(bestPlant,bestG, bestA)"
   ]
  },
  {
   "cell_type": "code",
   "execution_count": 4,
   "id": "b8815724-39cb-4dba-a2e8-3a73f47b25b3",
   "metadata": {
    "tags": []
   },
   "outputs": [],
   "source": [
    "#saves a little time in that it bales if the current dif is too large\n",
    "#basicly the same as pointDif\n",
    "def findDiffernce(PlantOg,PlantNew,bestDif):\n",
    "    dif =0.0\n",
    "    for node in PlantOg.nodes():\n",
    "        if PlantOg.nodes[node]['label'] != 'lateral root':\n",
    "            if PlantOg.nodes[node]['label'] != 'lateral root tip':\n",
    "                if PlantOg.nodes[node]['label'] != 'lateral root base':\n",
    "                    continue\n",
    "        rootNumber = PlantOg.nodes[node]['root number']\n",
    "        if rootNumber ==0:\n",
    "            continue\n",
    "        ox,oy = PlantOg.nodes[node]['coordinate']\n",
    "        for edge in PlantNew.edges():\n",
    "            if PlantNew.edges[edge]['label'] != 'lateral root':\n",
    "                continue\n",
    "            elif PlantNew.edges[edge]['root number'] != rootNumber:\n",
    "                continue\n",
    "            nxs = PlantNew.edges[edge]['xs']\n",
    "            nys = PlantNew.edges[edge]['ys']\n",
    "            bestDx = np.absolute(nxs[0]-ox)\n",
    "            besti = 0\n",
    "            for i in range(1, len(nxs)):\n",
    "                dx = np.absolute(nxs[i] -ox)\n",
    "                if dx < bestDx:\n",
    "                    bestDx = dx\n",
    "                    besti = i\n",
    "            dy = np.absolute(nys[besti] -oy)\n",
    "            dif = dif + dy \n",
    "            if dif > bestDif:\n",
    "                break\n",
    "        if dif> bestDif:\n",
    "            break\n",
    "    return(dif)"
   ]
  },
  {
   "cell_type": "code",
   "execution_count": 6,
   "id": "26b20b20-98b7-4806-93a8-abd14e78a859",
   "metadata": {
    "tags": []
   },
   "outputs": [],
   "source": [
    "#Euclid Distance"
   ]
  },
  {
   "cell_type": "code",
   "execution_count": 7,
   "id": "27d0b958-1c05-4ab5-8e6e-3e23698d6a21",
   "metadata": {
    "tags": []
   },
   "outputs": [],
   "source": [
    "#finds best G and alpha using point diffence\n",
    "    #input: netowrkx arbor\n",
    "    #output:\n",
    "        #front: networkx object of all nodes with coordinates (conduction delay, wiring cost) for diffent Gs and alphas\n",
    "        #orignal plant\n",
    "        #the best euclid distance\n",
    "        #bestNodeArray\n",
    "            #the cordinate which is (conducton delay, wiringcost)\n",
    "            #the best G value\n",
    "            #best alpha value\n",
    "        #x: conduction delay\n",
    "        #y:wiring cost\n",
    "def ClosestEuclid(originalPlant):\n",
    "    Grange = np.arange(-2,2.1,.1)\n",
    "    Arange = np.arange(0,1.1,.1)\n",
    "    front = nx.Graph()\n",
    "    cds=[]\n",
    "    wcs=[]\n",
    "    c =0\n",
    "    y = calculateWC(originalPlant)\n",
    "    x = calculateCD(originalPlant)\n",
    "    bestDis = 10**20000\n",
    "    for G in Grange:\n",
    "        print(G) #just to see how long it takes\n",
    "        for a in Arange:\n",
    "            newplant = optimalArbor(originalPlant, G, a)\n",
    "            cd =calculateWC(newplant)\n",
    "            wc = calculateCD(newplant)\n",
    "            cds.append(cd)\n",
    "            wcs.append(wc)\n",
    "            front.add_node(c)\n",
    "            front._node[c]['coordinate']=(cd,wc)\n",
    "            front._node[c]['G'] =G\n",
    "            front._node[c]['alpha'] =a\n",
    "            c+=1\n",
    "            dis = np.sqrt((x-cd)**2 +(y-wc)**2)\n",
    "            if dis < bestDis:\n",
    "                bestDis = dis\n",
    "                bestNode = c\n",
    "    bestNodeArray = [front._node[bestNode]['coordinate'], front._node[bestNode]['G'],front._node[bestNode]['alpha']]\n",
    "    return(front, originalPlant, bestDis,bestNodeArray, x,y)\n",
    "    #front: networkx object of all nodes with coordinates (conduction delay, wiring cost) for diffent Gs and alphas\n",
    "    #orignal plant\n",
    "    #the best euclid distance\n",
    "    #bestNodeArray\n",
    "        #the cordinate which is (conducton delay, wiringcost)\n",
    "        #the best G value\n",
    "        #best alpha value\n",
    "    #x: conduction delay\n",
    "    #y:wiring cost\n",
    "        "
   ]
  },
  {
   "cell_type": "code",
   "execution_count": null,
   "id": "cfb541d6-ab6d-4045-8f60-20aa74e2f114",
   "metadata": {},
   "outputs": [],
   "source": []
  }
 ],
 "metadata": {
  "kernelspec": {
   "display_name": "Python 3 (ipykernel)",
   "language": "python",
   "name": "python3"
  },
  "language_info": {
   "codemirror_mode": {
    "name": "ipython",
    "version": 3
   },
   "file_extension": ".py",
   "mimetype": "text/x-python",
   "name": "python",
   "nbconvert_exporter": "python",
   "pygments_lexer": "ipython3",
   "version": "3.10.11"
  }
 },
 "nbformat": 4,
 "nbformat_minor": 5
}
