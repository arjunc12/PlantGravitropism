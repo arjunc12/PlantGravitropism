{
 "cells": [
  {
   "cell_type": "code",
   "execution_count": null,
   "id": "24cfc90e-8a24-455d-b11c-a0074bb87aa3",
   "metadata": {},
   "outputs": [],
   "source": [
    "#Use PointbestDiffernce(Plant) to find best G and alpha using point differnce\n",
    "    #input: networkx arbor\n",
    "    #output:\n",
    "        #closest optimal networkx arbor\n",
    "        #Closest G\n",
    "        #closest alpha\n",
    "        \n",
    "#Use ClosestEuclid(originalPlant) to find best G and alpha using euclidan distance \n",
    "    #input: netowrkx arbor for plant\n",
    "    #output:\n",
    "        #front: networkx object of all nodes with coordinates (conduction delay, wiring cost) for diffent Gs and alphas\n",
    "        #orignal plant\n",
    "        #the best euclid distance\n",
    "        #bestNodeArray\n",
    "            #the cordinate which is (conducton delay, wiringcost)\n",
    "            #the best G value\n",
    "            #best alpha value\n",
    "        #x: conduction delay\n",
    "        #y:wiring cost\n",
    "        \n",
    "#Use ClosEuclid(ogPlant,front) to find best G and alpha using Eucliding distance given a pareto front\n",
    "    #input:\n",
    "        #ogPlant: networkx object plant arbor with connected latteral roots\n",
    "        #front: networx object that is the paeto front\n",
    "    #output:\n",
    "        # G is the best G value\n",
    "        # alpha is the best alpha value\n",
    "        # bestDis the distance for the Euclidan distsnce\n",
    "        #bestCD the conduction delay value that is the closest\n",
    "        #bestWC the wiring cost value that is the closest\n",
    "        \n",
    "#Use ClosestScaling(ogPlant,front) to find the best G and alpha using scaling distance method given a pareto fron\n",
    "     #input:\n",
    "        #ogPlant: networkx object plant arbor with connected latteral roots\n",
    "        #front: networx object that is the paeto front\n",
    "     #output:\n",
    "        # G is the best G value\n",
    "        # alpha is the best alpha value\n",
    "        # bestDis the distance for the Euclidan distsnce\n",
    "        #bestCD the conduction delay value that is the closest\n",
    "        #bestWC the wiring cost value that is the closest\n",
    "#Use PointbestDiffernceAndFront(Plant) to find best G and alpha using point differnce\n",
    "    #input: networx arbor\n",
    "    #output:\n",
    "        #closest optimal networkx arbor using point diffence method\n",
    "        #Closest G\n",
    "        #closest alpha\n",
    "        #pareto front as Networkx object\n",
    "    #this way you can kill two birds with one stone \n",
    "        #ie contsruct the peato front while looking for the best arbor using the point differnce method"
   ]
  },
  {
   "cell_type": "code",
   "execution_count": 11,
   "id": "9caf6267-43f1-431c-894e-f81dde358523",
   "metadata": {
    "tags": []
   },
   "outputs": [],
   "source": [
    "import numpy as np\n",
    "%run 'NetworkxConverstion.ipynb'\n",
    "%run 'WringCostAndConductionDelay.ipynb'\n",
    "%run 'Front.ipynb'\n",
    "%run 'Distances.ipynb'"
   ]
  },
  {
   "cell_type": "code",
   "execution_count": 9,
   "id": "bf4f0d26-8298-4eda-abda-7698c86ee106",
   "metadata": {
    "tags": []
   },
   "outputs": [],
   "source": [
    "#point by point best differnce"
   ]
  },
  {
   "cell_type": "code",
   "execution_count": 10,
   "id": "11f3e97c-0f75-4745-a752-af5327d43ecb",
   "metadata": {
    "tags": []
   },
   "outputs": [],
   "source": [
    "#find best G and alpha using point differnce\n",
    "    #input: networx arbor\n",
    "    #output:\n",
    "        #closest optimal networkx arbor\n",
    "        #Closest G\n",
    "        #closest alpha\n",
    "def PointbestDiffernce(Plant):\n",
    "    Grange = np.arange(-2,2.1,.1)\n",
    "    bestG = -2\n",
    "    aRange = np.arange(0,1.1,.1)\n",
    "    bestA =0\n",
    "    Plant2 = optimalArbor(Plant, bestG, bestA)\n",
    "    bestDif = pointDif(Plant,Plant2)\n",
    "    for G in Grange:\n",
    "        for alpha in aRange:\n",
    "            Plant2 = optimalArbor(Plant, G, alpha)\n",
    "            dif = findDiffernce(Plant,Plant2,bestDif)\n",
    "            if dif < bestDif:\n",
    "                bestDif = dif\n",
    "                bestA = alpha\n",
    "                bestG =G\n",
    "        print(G)#for me to see if it is still working\n",
    "    bestPlant = optimalArbor(Plant,bestG, bestA)\n",
    "    return(bestPlant,bestG, bestA)"
   ]
  },
  {
   "cell_type": "code",
   "execution_count": 4,
   "id": "b8815724-39cb-4dba-a2e8-3a73f47b25b3",
   "metadata": {
    "tags": []
   },
   "outputs": [],
   "source": [
    "#saves a little time in that it bales if the current dif is too large\n",
    "#basicly the same as pointDif\n",
    "def findDiffernce(PlantOg,PlantNew,bestDif):\n",
    "    dif =0.0\n",
    "    for node in PlantOg.nodes():\n",
    "        if PlantOg.nodes[node]['label'] != 'lateral root':\n",
    "            if PlantOg.nodes[node]['label'] != 'lateral root tip':\n",
    "                if PlantOg.nodes[node]['label'] != 'lateral root base':\n",
    "                    continue\n",
    "        rootNumber = PlantOg.nodes[node]['root number']\n",
    "        if rootNumber ==0:\n",
    "            continue\n",
    "        ox,oy = PlantOg.nodes[node]['coordinate']\n",
    "        for edge in PlantNew.edges():\n",
    "            if PlantNew.edges[edge]['label'] != 'lateral root':\n",
    "                continue\n",
    "            elif PlantNew.edges[edge]['root number'] != rootNumber:\n",
    "                continue\n",
    "            nxs = PlantNew.edges[edge]['xs']\n",
    "            nys = PlantNew.edges[edge]['ys']\n",
    "            bestDx = np.absolute(nxs[0]-ox)\n",
    "            besti = 0\n",
    "            for i in range(1, len(nxs)):\n",
    "                dx = np.absolute(nxs[i] -ox)\n",
    "                if dx < bestDx:\n",
    "                    bestDx = dx\n",
    "                    besti = i\n",
    "            dy = np.absolute(nys[besti] -oy)\n",
    "            dif = dif + dy \n",
    "            if dif > bestDif:\n",
    "                break\n",
    "        if dif> bestDif:\n",
    "            break\n",
    "    return(dif)"
   ]
  },
  {
   "cell_type": "code",
   "execution_count": 6,
   "id": "26b20b20-98b7-4806-93a8-abd14e78a859",
   "metadata": {
    "tags": []
   },
   "outputs": [],
   "source": [
    "#Euclid Distance"
   ]
  },
  {
   "cell_type": "code",
   "execution_count": 7,
   "id": "27d0b958-1c05-4ab5-8e6e-3e23698d6a21",
   "metadata": {
    "tags": []
   },
   "outputs": [],
   "source": [
    "#finds best G and alpha using point diffence\n",
    "    #input: netowrkx arbor with the connections to mainroot\n",
    "    #output:\n",
    "        #front: networkx object of all nodes with coordinates (conduction delay, wiring cost) for diffent Gs and alphas\n",
    "        #orignal plant\n",
    "        #the best euclid distance\n",
    "        #bestNodeArray\n",
    "            #the cordinate which is (conducton delay, wiringcost)\n",
    "            #the best G value\n",
    "            #best alpha value\n",
    "        #CD: conduction delay\n",
    "        #WC:wiring cost\n",
    "def ClosestEuclid(originalPlant):\n",
    "    Grange = np.arange(-2,2.1,.1)\n",
    "    Arange = np.arange(0,1.1,.1)\n",
    "    front = nx.Graph()\n",
    "    cds=[]\n",
    "    wcs=[]\n",
    "    c =0\n",
    "    WC = calculateWC(originalPlant)\n",
    "    CD = calculateCD(originalPlant)\n",
    "    bestDis = 10**20000\n",
    "    for G in Grange:\n",
    "        print(G) #just to see how long it takes\n",
    "        for a in Arange:\n",
    "            newplant = optimalArbor(originalPlant, G, a)\n",
    "            wc =calculateWC(newplant)\n",
    "            cd = calculateCD(newplant)\n",
    "            cds.append(cd)\n",
    "            wcs.append(wc)\n",
    "            front.add_node(c)\n",
    "            front._node[c]['coordinate']=(cd,wc)\n",
    "            front._node[c]['G'] =G\n",
    "            front._node[c]['alpha'] =a\n",
    "            c+=1\n",
    "            dis = np.sqrt((x-cd)**2 +(y-wc)**2)\n",
    "            if dis < bestDis:\n",
    "                bestDis = dis\n",
    "                bestNode = c\n",
    "    bestNodeArray = [front._node[bestNode]['coordinate'], front._node[bestNode]['G'],front._node[bestNode]['alpha']]\n",
    "    return(front, originalPlant, bestDis,bestNodeArray,CD,WC)\n",
    "    #front: networkx object of all nodes with coordinates (conduction delay, wiring cost) for diffent Gs and alphas\n",
    "    #orignal plant\n",
    "    #the best euclid distance\n",
    "    #bestNodeArray\n",
    "        #the cordinate which is (conducton delay, wiringcost)\n",
    "        #the best G value\n",
    "        #best alpha value\n",
    "    #CD: conduction delay\n",
    "    #WC:wiring cost\n",
    "        "
   ]
  },
  {
   "cell_type": "code",
   "execution_count": 1,
   "id": "cfb541d6-ab6d-4045-8f60-20aa74e2f114",
   "metadata": {},
   "outputs": [],
   "source": [
    "#Euclid distance version 2 the better one"
   ]
  },
  {
   "cell_type": "code",
   "execution_count": 2,
   "id": "8c670df9-5746-488b-a122-1b05ee84b47b",
   "metadata": {
    "tags": []
   },
   "outputs": [],
   "source": [
    "#Use ClosEuclid(ogPlant,front) to find best G and alpha using Eucliding distance given a pareto front\n",
    "    #input:\n",
    "        #ogPlant: networkx object plant arbor with connected latteral roots\n",
    "        #front: networx object that is the paeto front\n",
    "    #output:\n",
    "        # G is the best G value\n",
    "        # alpha is the best alpha value\n",
    "        # bestDis the distance for the Euclidan distsnce\n",
    "        #bestCD the conduction delay value that is the closest\n",
    "        #bestWC the wiring cost value that is the closest\n",
    "def ClosEuclid(ogPlant,front):\n",
    "    WC = calculateWC(ogPlant)\n",
    "    CD = calculateCD(ogPlant)\n",
    "    bestDis = 10**20000\n",
    "    for node in front.nodes():\n",
    "        cd,wc = front.nodes[node]['coordinate']\n",
    "        dis = np.sqrt((CD-cd)**2 +(WC-wc)**2)\n",
    "        if dis < bestDis:\n",
    "            bestDis = dis\n",
    "            G = front.nodes[node]['G']\n",
    "            alpha = front.nodes[node]['alpha']\n",
    "            bestCD, bestWC = front.nodes[node]['coordinate']\n",
    "    return(G,alpha,bestDis, bestCD, bestWC)"
   ]
  },
  {
   "cell_type": "code",
   "execution_count": 3,
   "id": "eb4621e1-3a0b-435b-b8aa-2e4613a93645",
   "metadata": {
    "tags": []
   },
   "outputs": [],
   "source": [
    "#Scaling distance"
   ]
  },
  {
   "cell_type": "code",
   "execution_count": 4,
   "id": "40ddf079-eba4-4c01-95e7-e789347a26ee",
   "metadata": {
    "tags": []
   },
   "outputs": [],
   "source": [
    "#Use ClosestScaling(ogPlant,front) to find the best G and alpha using scaling distance method given a pareto fron\n",
    "     #input:\n",
    "        #ogPlant: networkx object plant arbor with connected latteral roots\n",
    "        #front: networx object that is the paeto front\n",
    "     #output:\n",
    "        # G is the best G value\n",
    "        # alpha is the best alpha value\n",
    "        # bestDis the distance for the Euclidan distsnce\n",
    "        #bestCD the conduction delay value that is the closest\n",
    "        #bestWC the wiring cost value that is the closest\n",
    "def ClosestScaling(ogPlant,front):\n",
    "    WC = calculateWC(ogPlant)\n",
    "    CD = calculateCD(ogPlant)\n",
    "    bestDis = 10**20000\n",
    "    for node in front.nodes():\n",
    "        cd,wc = front.nodes[node]['coordinate']\n",
    "        dis = max((WC/wc),(CD/cd))\n",
    "        if dis < bestDis:\n",
    "            bestDis = dis\n",
    "            G = front.nodes[node]['G']\n",
    "            alpha = front.nodes[node]['alpha']\n",
    "            bestCD, bestWC = front.nodes[node]['coordinate']\n",
    "    return (G,alpha, bestDis,bestCD, bestWC)"
   ]
  },
  {
   "cell_type": "code",
   "execution_count": 5,
   "id": "62f43efd-e8eb-4349-8c45-f7b17de90865",
   "metadata": {
    "tags": []
   },
   "outputs": [],
   "source": [
    "# now both making a front and finding the best point differnce"
   ]
  },
  {
   "cell_type": "code",
   "execution_count": 6,
   "id": "4482294c-50f0-4cbf-a883-c9d8016f09d0",
   "metadata": {
    "tags": []
   },
   "outputs": [],
   "source": [
    "#Use PointbestDiffernceAndFront(Plant) to find best G and alpha using point differnce\n",
    "    #input: networx arbor\n",
    "    #output:\n",
    "        #closest optimal networkx arbor using point diffence method\n",
    "        #Closest G\n",
    "        #closest alpha\n",
    "        #pareto front as Networkx object\n",
    "    #this way you can kill two birds with one stone \n",
    "        #ie contsruct the peato front while looking for the best arbor using the point differnce method\n",
    "def PointbestDiffernceAndFront(Plant):\n",
    "    Grange = np.arange(-4,2.2,.2)\n",
    "    bestG = -2\n",
    "    aRange = np.arange(0,1.1,.1)\n",
    "    bestA =0\n",
    "    front = nx.Graph()\n",
    "    c=0\n",
    "    Plant2 = optimalArbor(Plant, bestG, bestA)\n",
    "    cd =calculateCD(Plant2)\n",
    "    wc = calculateWC(Plant2)\n",
    "    bestCD, bestWC = cd, wc\n",
    "    front.add_node(c)\n",
    "    front._node[c]['coordinate']=(cd,wc)\n",
    "    front._node[c]['G'] =bestG\n",
    "    front._node[c]['alpha'] =bestA\n",
    "    c+=1\n",
    "    bestDif = pointDif(Plant,Plant2)\n",
    "    for G in Grange:\n",
    "        for alpha in aRange:\n",
    "            Plant2 = optimalArbor(Plant, G, alpha)\n",
    "            cd =calculateCD(Plant2)\n",
    "            wc = calculateWC(Plant2)\n",
    "            front.add_node(c)\n",
    "            front._node[c]['coordinate']=(cd,wc)\n",
    "            front._node[c]['G'] =G\n",
    "            front._node[c]['alpha'] =alpha\n",
    "            c+=1\n",
    "            dif = findDiffernce(Plant,Plant2,bestDif)\n",
    "            if dif < bestDif:\n",
    "                bestDif = dif\n",
    "                bestA = alpha\n",
    "                bestG =G\n",
    "                bestCD, bestWC = cd, wc\n",
    "        print(G)#for me to see if it is still working\n",
    "    bestPlant = optimalArbor(Plant,bestG, bestA)\n",
    "    return(bestPlant,bestG, bestA, front, bestCD, bestWC)"
   ]
  },
  {
   "cell_type": "code",
   "execution_count": null,
   "id": "188a2a91-ef29-4e38-aaae-7e07cc4600b9",
   "metadata": {},
   "outputs": [],
   "source": []
  }
 ],
 "metadata": {
  "kernelspec": {
   "display_name": "Python 3 (ipykernel)",
   "language": "python",
   "name": "python3"
  },
  "language_info": {
   "codemirror_mode": {
    "name": "ipython",
    "version": 3
   },
   "file_extension": ".py",
   "mimetype": "text/x-python",
   "name": "python",
   "nbconvert_exporter": "python",
   "pygments_lexer": "ipython3",
   "version": "3.10.11"
  }
 },
 "nbformat": 4,
 "nbformat_minor": 5
}
