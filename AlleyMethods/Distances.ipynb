{
 "cells": [
  {
   "cell_type": "code",
   "execution_count": 1,
   "id": "a4dd1fe6-112d-4388-924e-f2b0bb96149b",
   "metadata": {
    "tags": []
   },
   "outputs": [],
   "source": [
    "#Use euclidDis(plant1, plant2) to calculate euclidean distance of cost vectors\n",
    "    #input: two networx arbors\n",
    "    #output: euclidian distance of the cost vectors\n",
    "    \n",
    "#Use pointDif(plant1,plant2) to calculate point differnce of two arbors\n",
    "    #input: two networx arbors\n",
    "    #output: point differnce of the two plants"
   ]
  },
  {
   "cell_type": "code",
   "execution_count": 2,
   "id": "b0f2ce94-34c8-4d02-a88d-d26a37f78063",
   "metadata": {
    "tags": []
   },
   "outputs": [],
   "source": [
    "import numpy as np\n",
    "import os\n",
    "%run WringCostAndConductionDelay.ipynb"
   ]
  },
  {
   "cell_type": "code",
   "execution_count": 3,
   "id": "c85821d3-81a9-4cd3-9c1b-836520503b59",
   "metadata": {
    "tags": []
   },
   "outputs": [],
   "source": [
    "#calculates the euclidean distance of cost vectors\n",
    "    #input: two networx arbors\n",
    "    #output: euclidian distance of the cost vectors\n",
    "def euclidDis(plant1, plant2):\n",
    "    wc1 = calculateWC(plant1)\n",
    "    cd1 = calculateCD(plant1)\n",
    "    wc2 = calculateWC(plant2)\n",
    "    cd2 = calculateCD(plant2)\n",
    "    euDis = np.sqrt((wc1-wc2)**2 +(cd1-cd2)**2)\n",
    "    return(euDis)"
   ]
  },
  {
   "cell_type": "code",
   "execution_count": 4,
   "id": "6f16c8e5-b56c-4961-a090-1cca7f55a7ac",
   "metadata": {
    "tags": []
   },
   "outputs": [],
   "source": [
    "#calculates the point differnce of two arbors\n",
    "    #input: two networx arbors\n",
    "    #output: point differnce of the two plants\n",
    "def pointDif(plant1,plant2):\n",
    "    diffence =0.0\n",
    "    for node in plant1.nodes():\n",
    "        if plant1.nodes[node]['label'] != 'lateral root':\n",
    "            if plant1.nodes[node]['label'] != 'lateral root tip':\n",
    "                continue\n",
    "        rootNumber = plant1.nodes[node]['root number']\n",
    "        if rootNumber ==0:\n",
    "            continue\n",
    "        ox,oy = plant1.nodes[node]['coordinate']\n",
    "        for edge in plant2.edges():\n",
    "            if plant2.edges[edge]['label'] != 'lateral root':\n",
    "                continue\n",
    "            nxs = plant2.edges[edge]['xs']\n",
    "            nys = plant2.edges[edge]['ys']\n",
    "            bestDx = np.absolute(nxs[0]-ox)\n",
    "            besti = 0\n",
    "            for i in range(1, len(nxs)):\n",
    "                dx = np.absolute(nxs[besti] -ox)\n",
    "                if dx < bestDx:\n",
    "                    bestDx = dx\n",
    "                    besti = i\n",
    "            dy = np.absolute(nys[i] -oy)\n",
    "            diffence = diffence +dy \n",
    "    return(diffence)"
   ]
  },
  {
   "cell_type": "code",
   "execution_count": null,
   "id": "52fe2e87-938e-4609-a03d-7d90d5ac9a2a",
   "metadata": {},
   "outputs": [],
   "source": []
  }
 ],
 "metadata": {
  "kernelspec": {
   "display_name": "Python 3 (ipykernel)",
   "language": "python",
   "name": "python3"
  },
  "language_info": {
   "codemirror_mode": {
    "name": "ipython",
    "version": 3
   },
   "file_extension": ".py",
   "mimetype": "text/x-python",
   "name": "python",
   "nbconvert_exporter": "python",
   "pygments_lexer": "ipython3",
   "version": "3.10.11"
  }
 },
 "nbformat": 4,
 "nbformat_minor": 5
}
