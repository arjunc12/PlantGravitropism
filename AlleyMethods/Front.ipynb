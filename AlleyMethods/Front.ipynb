{
 "cells": [
  {
   "cell_type": "code",
   "execution_count": 5,
   "id": "c62b3cb9-7ab1-4c95-a491-f54d6d7aa5ff",
   "metadata": {
    "tags": []
   },
   "outputs": [],
   "source": [
    "#import matplotlib.pyplot as plt\n",
    "import numpy as np\n",
    "import pylab\n",
    "import scipy\n",
    "import plotly\n",
    "from plotly import graph_objs as go\n",
    "from plotly.offline import iplot, plot, init_notebook_mode\n",
    "import networkx as nx\n",
    "import os\n",
    "# importing librarys\n",
    "%run 'WringCostAndConductionDelay.ipynb'\n",
    "%run 'NetworkxConverstion.ipynb'"
   ]
  },
  {
   "cell_type": "code",
   "execution_count": 6,
   "id": "6af9c6c2-4a2e-43af-a503-d6e0d34e82e6",
   "metadata": {
    "tags": []
   },
   "outputs": [],
   "source": [
    "path = os.path.realpath(\"Front.ipynb\")\n",
    "dir = os.path.dirname(path)\n",
    "dir = dir.replace(\"AlleyMethods\", \"AlleyBruteFroce\")\n",
    "os.chdir(dir)\n",
    "file = 'arbors/011_1_C_day3.csv'\n",
    "ogPlant = connectedArbor(file)\n",
    "dir = dir.replace(\"AlleyBruteFroce\", \"AlleyMethods\")\n",
    "os.chdir(dir)"
   ]
  },
  {
   "cell_type": "code",
   "execution_count": 7,
   "id": "4ce3593a-863f-4a6c-8b86-471609f9bf21",
   "metadata": {
    "tags": []
   },
   "outputs": [],
   "source": [
    "#input: networx object of og plant with connection to the main root\n",
    "#output:\n",
    "    #Array of traces for plotly\n",
    "    #a networkx object that is the pareto front with \n",
    "        #coordinate = (cd,wc)\n",
    "        #G\n",
    "        #alpha\n",
    "def makeFront(ogPlant):\n",
    "    Grange = np.arange(-2,2.1,.1)\n",
    "    Arange = np.arange(0,1.1,.1)\n",
    "    front = nx.Graph()\n",
    "    WC = calculateWC(ogPlant)\n",
    "    CD = calculateCD(ogPlant)\n",
    "    bestDis = 10**20000\n",
    "    c=0\n",
    "    ArrayofTraces=[]\n",
    "    array =go.Scatter(x=[CD],y=[WC], mode='markers', name= 'Original')\n",
    "    for G in Grange:\n",
    "        print(G)\n",
    "        cds=[]\n",
    "        wcs=[]\n",
    "        for a in Arange:\n",
    "            newplant = optimalArbor(ogPlant, G, a)\n",
    "            cd =calculateCD(newplant)\n",
    "            wc = calculateWC(newplant)\n",
    "            cds.append(cd)\n",
    "            wcs.append(wc)\n",
    "            front.add_node(c)\n",
    "            front._node[c]['coordinate']=(cd,wc)\n",
    "            front._node[c]['G'] =G\n",
    "            front._node[c]['alpha'] =a\n",
    "            c+=1\n",
    "        array = go.Scatter(x = cds,y=wcs, mode = 'markers', name = str(G))\n",
    "        ArrayofTraces.append(array)\n",
    "    return(ArrayofTraces, front)"
   ]
  },
  {
   "cell_type": "code",
   "execution_count": null,
   "id": "ec578227-edaa-4742-84e7-5c2ff4e93287",
   "metadata": {
    "tags": []
   },
   "outputs": [
    {
     "name": "stdout",
     "output_type": "stream",
     "text": [
      "-2.0\n"
     ]
    }
   ],
   "source": [
    "Array =makeFront(ogPlant)\n",
    "ArrayofTraces =Array[0]\n",
    "fig = go.Figure()\n",
    "for x in ArrayofTraces:\n",
    "    fig.add_trace(x)\n",
    "fig.show()"
   ]
  },
  {
   "cell_type": "code",
   "execution_count": null,
   "id": "033207e7-4bdf-4e9c-bf8e-4612b341de7c",
   "metadata": {},
   "outputs": [],
   "source": []
  }
 ],
 "metadata": {
  "kernelspec": {
   "display_name": "Python 3 (ipykernel)",
   "language": "python",
   "name": "python3"
  },
  "language_info": {
   "codemirror_mode": {
    "name": "ipython",
    "version": 3
   },
   "file_extension": ".py",
   "mimetype": "text/x-python",
   "name": "python",
   "nbconvert_exporter": "python",
   "pygments_lexer": "ipython3",
   "version": "3.10.11"
  }
 },
 "nbformat": 4,
 "nbformat_minor": 5
}
