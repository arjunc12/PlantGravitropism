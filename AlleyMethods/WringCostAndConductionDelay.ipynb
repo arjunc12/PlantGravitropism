{
 "cells": [
  {
   "cell_type": "code",
   "execution_count": null,
   "id": "2c387af5-b285-47b2-894b-cc3b2ec2e1ec",
   "metadata": {},
   "outputs": [],
   "source": [
    "#Use calculateWC(plant) to calculate wirng cost\n",
    "## takes networx object as input\n",
    "### make sure the object has lateral roots connected to main root\n",
    "\n",
    "# Use calculateCD(plant) to calculate wiring cost\n",
    "##takes networx object as input\n",
    "### make sure the object has lateral roots connected to main root\n",
    "\n",
    "#Will work for both optimal and given arbors"
   ]
  },
  {
   "cell_type": "code",
   "execution_count": 1,
   "id": "88f526ca-8c42-4214-b359-0a1d486a6b57",
   "metadata": {
    "tags": []
   },
   "outputs": [],
   "source": [
    "import numpy as np"
   ]
  },
  {
   "cell_type": "code",
   "execution_count": 4,
   "id": "19547598-e507-446d-9aff-f7e2e7cf4577",
   "metadata": {
    "tags": []
   },
   "outputs": [],
   "source": [
    "#takes networx arbor  \n",
    "#returns calculates wiring cost\n",
    "def calculateWC(plant):\n",
    "    wc =0\n",
    "    for edge in plant.edges():\n",
    "        wc = wc + plant.edges[edge]['length']\n",
    "    return(wc)\n"
   ]
  },
  {
   "cell_type": "code",
   "execution_count": 5,
   "id": "787dcbdf-10c8-4a1f-8412-2dffe9000b3a",
   "metadata": {
    "tags": []
   },
   "outputs": [],
   "source": [
    "#takes networkx arbor\n",
    "#returns conduction delay\n",
    "def calculateCD(plant):\n",
    "    mainRootNodes =[]\n",
    "    numOfLatRoots =0\n",
    "    for node in plant.nodes():\n",
    "        if plant.nodes[node]['label'] == 'main root':\n",
    "            mainRootNodes.append(node)\n",
    "        elif plant.nodes[node]['label'] == 'main root base':\n",
    "            mainRootNodes.append(node)\n",
    "        elif plant.nodes[node]['label'] == 'connection':\n",
    "            if numOfLatRoots < plant.nodes[node]['root number']:\n",
    "                numOfLatRoots = plant.nodes[node]['root number']\n",
    "    cd =0\n",
    "    for i in range (1, numOfLatRoots +1):\n",
    "        cdForRoot =0\n",
    "        for edge in plant.edges():\n",
    "            if plant.edges[edge]['root number'] != i:\n",
    "                continue\n",
    "            cdForRoot += plant.edges[edge]['length']\n",
    "        for node in plant.nodes():\n",
    "            if plant.nodes[node]['label']!= 'connection':\n",
    "                continue\n",
    "            if plant.nodes[node]['root number'] == i:\n",
    "                cx,cy = plant.nodes[node]['coordinate']\n",
    "                break\n",
    "        countMainRoot = False\n",
    "        for j in range(0,len(mainRootNodes)-1):\n",
    "            if countMainRoot:\n",
    "                cdForRoot += plant[mainRootNodes[j]][mainRootNodes[j+1]]['length']\n",
    "                continue\n",
    "            m1x,m1y = plant.nodes[mainRootNodes[j]]['coordinate']\n",
    "            m2x, m2y = plant.nodes[mainRootNodes[j+1]]['coordinate']\n",
    "            if m1y <= cy:\n",
    "                if m2y >= cy:\n",
    "                    countMainRoot =True\n",
    "                    length = np.sqrt((m2x -cx)**2 +(m2y-cy)**2)\n",
    "                    cdForRoot += length\n",
    "                    continue \n",
    "        cd +=cdForRoot\n",
    "    return(cd)  \n",
    "#takes networkx arbor\n",
    "#returns conduction delay\n"
   ]
  },
  {
   "cell_type": "code",
   "execution_count": null,
   "id": "cbb43bb4-0a1e-41a6-a63b-a0032e026010",
   "metadata": {},
   "outputs": [],
   "source": []
  }
 ],
 "metadata": {
  "kernelspec": {
   "display_name": "Python 3 (ipykernel)",
   "language": "python",
   "name": "python3"
  },
  "language_info": {
   "codemirror_mode": {
    "name": "ipython",
    "version": 3
   },
   "file_extension": ".py",
   "mimetype": "text/x-python",
   "name": "python",
   "nbconvert_exporter": "python",
   "pygments_lexer": "ipython3",
   "version": "3.10.11"
  }
 },
 "nbformat": 4,
 "nbformat_minor": 5
}
