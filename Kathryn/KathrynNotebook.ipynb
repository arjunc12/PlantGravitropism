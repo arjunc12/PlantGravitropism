{
 "cells": [
  {
   "cell_type": "code",
   "execution_count": 3,
   "id": "24709e54-a159-4728-937d-29e81fe99eeb",
   "metadata": {},
   "outputs": [],
   "source": [
    "import scipy"
   ]
  },
  {
   "cell_type": "code",
   "execution_count": 1,
   "id": "562edae4-1631-483f-9b20-1eacfcad34bb",
   "metadata": {},
   "outputs": [],
   "source": [
    "import pylab"
   ]
  },
  {
   "cell_type": "code",
   "execution_count": 13,
   "id": "c4111af2-e828-47b2-8fda-d9e524c8d3b9",
   "metadata": {},
   "outputs": [],
   "source": [
    "import matplotlib.pyplot as plt"
   ]
  },
  {
   "cell_type": "code",
   "execution_count": 17,
   "id": "0f8a70e7",
   "metadata": {},
   "outputs": [],
   "source": [
    "import plotly.express as px\n",
    "import matplotlib.pyplot as plt\n",
    "import numpy as np"
   ]
  },
  {
   "cell_type": "code",
   "execution_count": 5,
   "id": "f675418a",
   "metadata": {},
   "outputs": [],
   "source": [
    "from scipy import optimize"
   ]
  },
  {
   "cell_type": "code",
   "execution_count": 18,
   "id": "fe6c8c2b",
   "metadata": {},
   "outputs": [],
   "source": [
    "def outer_func(G,p,q):\n",
    "    \n",
    "    def b(t):\n",
    "        return (q-G*p**2-t)/p\n",
    "    def c(p):\n",
    "        return (-1)/p\n",
    "    def d(p):\n",
    "        return 2*G*p\n",
    "    def e(t):\n",
    "        return 2*G*p+((q-G*p**2-t)/p)\n",
    "    def f(t):\n",
    "        return 1+(2*G*p+((q-G*p**2-t)/p))**2\n",
    "    def g(t):\n",
    "        return 1+((q-G*p**2-t)/p)**2\n",
    "    \n",
    "        \n",
    "    \n",
    "    def func1(t):\n",
    "        return c(p)*(f(t)**(1/2) \\\n",
    "                      +(e(t)**2)*(f(t)**(-1/2)))\n",
    "    def func2(t):\n",
    "        return ((f(t)**(1/2)+e(t))**(-1))*(c(p)*(1+e(t)*(f(t)**(-1/2))))\n",
    "    def func3(t):\n",
    "        return (g(t))**(1/2)-(g(t))**(-1/2)*b(t)**2\n",
    "    def func4(t):\n",
    "        return c(p)*(((g(t))**(1/2)+b(t))**(-1)*(1+(e(t))*(f(t))**(-1/2)))\n",
    "    \n",
    "    def messyDeriv(t):\n",
    "        return (1/(4*G))*(func1(t)+func2(t)+func3(t)+func4(t))\n",
    "    \n",
    "    \n",
    "    def f1(t):\n",
    "        return c(p)*((1/2)*((1+2*c(p)*e(t))**(-1/2)) + 2*c(p)*e(t)*(1+(e(t))**2)**(-1/2) - c(p)*(e(t)**3)*(1+e(t)**3)**(-3/2))\n",
    "        \n",
    "    def f2(t):\n",
    "        return (-c(p)*(e(t) + (1 + e(t)**2)**(1/2))**(-2) - c(p)*e(t)*(1 + e(t)**2)**(-1/2)) * (c(p)*(1 + e(t)*(1 + e(t)**2)**(-1/2))) + ((c(p)**2)*((1 + e(t)**2)**(-1/2) - (e(t)**2)*(1+e(t)**2)**(-3/2))) * (e(t) + (1+e(t)**2)**(1/2))**(-1)\n",
    "        \n",
    "    def f3(t):\n",
    "        return c(p)*b(t)*(1 + b(t)**2)**(-1/2)\n",
    "        \n",
    "    def f4(t):\n",
    "        return -2*c(p)*b(t)*(1 + b(t)**2)**(-1/2) + c(p)*b(t)**3*(1+b(t)**2)**(-3/2)\n",
    "    \n",
    "    def f5(t):\n",
    "        return (b(t) + (1 + b(t)**2)**(1/2))**(-1) * (c(p)*((1 + e(t)**2)**(-1/2) - (e(t)**2)*(1+e(t)**2)**(-3/2))) + ((-(c(p))**2)*b(t)*(b(t) + (1 + b(t)**2)**(1/2))**(-2)*(1+b(t)**2)**(-1/2)) * (1 + e(t)*(1+e(t)**2)**(-1/2))\n",
    "    \n",
    "    def messierDerivPrime(t):\n",
    "        return (1/(4*G))*(f1(t)+f2(t)+f3(t)+f4(t)+f5(t))\n",
    "            \n",
    "    \n",
    "    #solBisect=optimize.root_scalar(messyDeriv, bracket=[3,4], method='bisect')\n",
    "    solNewton=optimize.root_scalar(messyDeriv, x0=-7, fprime=messierDerivPrime, rtol=0.01, method='newton')\n",
    "    #solSecant=optimize.root_scalar(messyDeriv, bracket=[0,4], method='secant')\n",
    "    #solBrent=optimize.root_scalar(messyDeriv, bracket=[0,4], method='brentq')\n",
    "    \n",
    "    #print(solBisect)\n",
    "    print(solNewton)\n",
    "    #print(solSecant)\n",
    "    #print(solBrent)\n",
    "    "
   ]
  },
  {
   "cell_type": "code",
   "execution_count": 19,
   "id": "684470be",
   "metadata": {},
   "outputs": [
    {
     "name": "stdout",
     "output_type": "stream",
     "text": [
      "      converged: True\n",
      "           flag: 'converged'\n",
      " function_calls: 6\n",
      "     iterations: 3\n",
      "           root: (-10.056051430324795-0.04622483475582288j)\n"
     ]
    }
   ],
   "source": [
    "outer_func(-10,0.1,-10)"
   ]
  },
  {
   "cell_type": "code",
   "execution_count": 24,
   "id": "9373a2bd",
   "metadata": {},
   "outputs": [
    {
     "name": "stdout",
     "output_type": "stream",
     "text": [
      "[-0.26794919 -0.26794919]\n"
     ]
    }
   ],
   "source": [
    "import numpy as np\n",
    "from scipy import optimize\n",
    "\n",
    "def function1(x):\n",
    "    return x**2 + 4*x + 1\n",
    "\n",
    "sol = optimize.root(function1, [0,0], method='hybr')\n",
    "print(sol.x)\n"
   ]
  },
  {
   "cell_type": "code",
   "execution_count": 103,
   "id": "76fbaec5",
   "metadata": {},
   "outputs": [],
   "source": [
    "# https://www.desmos.com/calculator/uk0k1aanby \n",
    "    # graph of L'(t)\n",
    "# https://www.desmos.com/calculator/uk0k1aanby \n",
    "    #graph of L''(t)"
   ]
  },
  {
   "cell_type": "code",
   "execution_count": 15,
   "id": "c7542eec",
   "metadata": {},
   "outputs": [],
   "source": [
    "import networkx as NX"
   ]
  },
  {
   "cell_type": "code",
   "execution_count": 16,
   "id": "a6aeb618",
   "metadata": {},
   "outputs": [
    {
     "data": {
      "text/plain": [
       "<module 'networkx' from 'C:\\\\Users\\\\kaltm\\\\anaconda4\\\\envs\\\\PlantGravitropism\\\\Lib\\\\site-packages\\\\networkx\\\\__init__.py'>"
      ]
     },
     "execution_count": 16,
     "metadata": {},
     "output_type": "execute_result"
    }
   ],
   "source": [
    "NX"
   ]
  },
  {
   "cell_type": "code",
   "execution_count": null,
   "id": "fd7cd6b6",
   "metadata": {},
   "outputs": [],
   "source": []
  }
 ],
 "metadata": {
  "kernelspec": {
   "display_name": "Python 3 (ipykernel)",
   "language": "python",
   "name": "python3"
  },
  "language_info": {
   "codemirror_mode": {
    "name": "ipython",
    "version": 3
   },
   "file_extension": ".py",
   "mimetype": "text/x-python",
   "name": "python",
   "nbconvert_exporter": "python",
   "pygments_lexer": "ipython3",
   "version": "3.11.3"
  }
 },
 "nbformat": 4,
 "nbformat_minor": 5
}
