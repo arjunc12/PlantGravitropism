{
 "cells": [
  {
   "cell_type": "code",
   "execution_count": 3,
   "id": "24709e54-a159-4728-937d-29e81fe99eeb",
   "metadata": {},
   "outputs": [],
   "source": [
    "import scipy"
   ]
  },
  {
   "cell_type": "code",
   "execution_count": 1,
   "id": "562edae4-1631-483f-9b20-1eacfcad34bb",
   "metadata": {},
   "outputs": [],
   "source": [
    "import pylab"
   ]
  },
  {
   "cell_type": "code",
   "execution_count": 13,
   "id": "c4111af2-e828-47b2-8fda-d9e524c8d3b9",
   "metadata": {},
   "outputs": [],
   "source": [
    "import matplotlib.pyplot as plt"
   ]
  },
  {
   "cell_type": "code",
   "execution_count": 28,
   "id": "0f8a70e7",
   "metadata": {},
   "outputs": [],
   "source": [
    "import plotly.express as px\n",
    "import matplotlib.pyplot as plt\n",
    "import numpy as np"
   ]
  },
  {
   "cell_type": "code",
   "execution_count": 3,
   "id": "f675418a",
   "metadata": {},
   "outputs": [],
   "source": [
    "from scipy import optimize"
   ]
  },
  {
   "cell_type": "code",
   "execution_count": 17,
   "id": "fe6c8c2b",
   "metadata": {},
   "outputs": [],
   "source": [
    "def outer_func(G,p,q):\n",
    "    \n",
    "    def b(t):\n",
    "        return (q-G*p**2-t)/p\n",
    "    def c(p):\n",
    "        return (-1)/p\n",
    "    def d(p):\n",
    "        return 2*G*p\n",
    "    def e(t):\n",
    "        return 2*G*p+((q-G*p**2-t)/p)\n",
    "    def f(t):\n",
    "        return 1+(2*G*p+((q-G*p**2-t)/p))**2\n",
    "    def g(t):\n",
    "        return 1+((q-G*p**2-t)/p)**2\n",
    "    \n",
    "        \n",
    "    \n",
    "    def func1(t):\n",
    "        return c(p)*(f(t)**(1/2) \\\n",
    "                      +(e(t)**2)*(f(t)**(-1/2)))\n",
    "    def func2(t):\n",
    "        return ((f(t)**(1/2)+e(t))**(-1))*(c(p)*(1+e(t)*(f(t)**(-1/2))))\n",
    "    def func3(t):\n",
    "        return (g(t))**(1/2)-(g(t))**(-1/2)*b(t)**2\n",
    "    def func4(t):\n",
    "        return c(p)*(((g(t))**(1/2)+b(t))**(-1)*(1+(e(t))*(f(t))**(-1/2)))\n",
    "    \n",
    "    def messyDeriv(t):\n",
    "        return (1/(4*G))*(func1(t)+func2(t)+func3(t)+func4(t))\n",
    "    \n",
    "    \n",
    "    def f1(t):\n",
    "        return c(p)*((1/2)*((1+2*c(p)*e(t))**(-1/2)) + 2*c(p)*e(t)*(1+(e(t))**2)**(-1/2) - c(p)*(e(t)**3)*(1+e(t)**3)**(-3/2))\n",
    "        \n",
    "    def f2(t):\n",
    "        return (-c(p)*(e(t) + (1 + e(t)**2)**(1/2))**(-2) - c(p)*e(t)*(1 + e(t)**2)**(-1/2)) * (c(p)*(1 + e(t)*(1 + e(t)**2)**(-1/2))) + ((c(p)**2)*((1 + e(t)**2)**(-1/2) - (e(t)**2)*(1+e(t)**2)**(-3/2))) * (e(t) + (1+e(t)**2)**(1/2))**(-1)\n",
    "        \n",
    "    def f3(t):\n",
    "        return c(p)*b(t)*(1 + b(t)**2)**(-1/2)\n",
    "        \n",
    "    def f4(t):\n",
    "        return -2*c(p)*b(t)*(1 + b(t)**2)**(-1/2) + c(p)*b(t)**3*(1+b(t)**2)**(-3/2)\n",
    "    \n",
    "    def f5(t):\n",
    "        return (b(t) + (1 + b(t)**2)**(1/2))**(-1) * (c(p)*((1 + e(t)**2)**(-1/2) - (e(t)**2)*(1+e(t)**2)**(-3/2))) + ((-(c(p))**2)*b(t)*(b(t) + (1 + b(t)**2)**(1/2))**(-2)*(1+b(t)**2)**(-1/2)) * (1 + e(t)*(1+e(t)**2)**(-1/2))\n",
    "    \n",
    "    def messierDerivPrime(t):\n",
    "        return (1/(4*G))*(f1(t)+f2(t)+f3(t)+f4(t)+f5(t))\n",
    "            \n",
    "    \n",
    "    #solBisect=optimize.root_scalar(messyDeriv, bracket=[3,4], method='bisect')\n",
    "    #solNewton=optimize.root_scalar(messyDeriv, x0=1, fprime=messierDerivPrime, method='newton')\n",
    "    #solSecant=optimize.root_scalar(messyDeriv, bracket=[0,4], method='secant')\n",
    "    solBrent=optimize.root_scalar(messyDeriv, bracket=[0,4], method='brentq')\n",
    "    \n",
    "    #print(solBisect)\n",
    "    #print(solNewton)\n",
    "    #print(solSecant)\n",
    "    print(solBrent)\n",
    "    "
   ]
  },
  {
   "cell_type": "code",
   "execution_count": 18,
   "id": "684470be",
   "metadata": {},
   "outputs": [
    {
     "ename": "ValueError",
     "evalue": "f(a) and f(b) must have different signs",
     "output_type": "error",
     "traceback": [
      "\u001b[1;31m---------------------------------------------------------------------------\u001b[0m",
      "\u001b[1;31mValueError\u001b[0m                                Traceback (most recent call last)",
      "Cell \u001b[1;32mIn[18], line 1\u001b[0m\n\u001b[1;32m----> 1\u001b[0m outer_func(\u001b[38;5;241m0.3\u001b[39m,\u001b[38;5;241m0.5\u001b[39m,\u001b[38;5;241m-\u001b[39m\u001b[38;5;241m3\u001b[39m)\n",
      "Cell \u001b[1;32mIn[17], line 54\u001b[0m, in \u001b[0;36mouter_func\u001b[1;34m(G, p, q)\u001b[0m\n\u001b[0;32m     48\u001b[0m     \u001b[38;5;28;01mreturn\u001b[39;00m (\u001b[38;5;241m1\u001b[39m\u001b[38;5;241m/\u001b[39m(\u001b[38;5;241m4\u001b[39m\u001b[38;5;241m*\u001b[39mG))\u001b[38;5;241m*\u001b[39m(f1(t)\u001b[38;5;241m+\u001b[39mf2(t)\u001b[38;5;241m+\u001b[39mf3(t)\u001b[38;5;241m+\u001b[39mf4(t)\u001b[38;5;241m+\u001b[39mf5(t))\n\u001b[0;32m     51\u001b[0m \u001b[38;5;66;03m#solBisect=optimize.root_scalar(messyDeriv, bracket=[3,4], method='bisect')\u001b[39;00m\n\u001b[0;32m     52\u001b[0m \u001b[38;5;66;03m#solNewton=optimize.root_scalar(messyDeriv, x0=1, fprime=messierDerivPrime, method='newton')\u001b[39;00m\n\u001b[0;32m     53\u001b[0m \u001b[38;5;66;03m#solSecant=optimize.root_scalar(messyDeriv, bracket=[0,4], method='secant')\u001b[39;00m\n\u001b[1;32m---> 54\u001b[0m solBrent\u001b[38;5;241m=\u001b[39moptimize\u001b[38;5;241m.\u001b[39mroot_scalar(messyDeriv, bracket\u001b[38;5;241m=\u001b[39m[\u001b[38;5;241m0\u001b[39m,\u001b[38;5;241m4\u001b[39m], method\u001b[38;5;241m=\u001b[39m\u001b[38;5;124m'\u001b[39m\u001b[38;5;124mbrentq\u001b[39m\u001b[38;5;124m'\u001b[39m)\n\u001b[0;32m     56\u001b[0m \u001b[38;5;66;03m#print(solBisect)\u001b[39;00m\n\u001b[0;32m     57\u001b[0m \u001b[38;5;66;03m#print(solNewton)\u001b[39;00m\n\u001b[0;32m     58\u001b[0m \u001b[38;5;66;03m#print(solSecant)\u001b[39;00m\n\u001b[0;32m     59\u001b[0m \u001b[38;5;28mprint\u001b[39m(solBrent)\n",
      "File \u001b[1;32m~\\anaconda4\\envs\\PlantGravitropism\\Lib\\site-packages\\scipy\\optimize\\_root_scalar.py:275\u001b[0m, in \u001b[0;36mroot_scalar\u001b[1;34m(f, args, method, bracket, fprime, fprime2, x0, x1, xtol, rtol, maxiter, options)\u001b[0m\n\u001b[0;32m    272\u001b[0m         \u001b[38;5;28;01mraise\u001b[39;00m \u001b[38;5;167;01mValueError\u001b[39;00m(\u001b[38;5;124m'\u001b[39m\u001b[38;5;124mBracket needed for \u001b[39m\u001b[38;5;132;01m%s\u001b[39;00m\u001b[38;5;124m'\u001b[39m \u001b[38;5;241m%\u001b[39m method)\n\u001b[0;32m    274\u001b[0m     a, b \u001b[38;5;241m=\u001b[39m bracket[:\u001b[38;5;241m2\u001b[39m]\n\u001b[1;32m--> 275\u001b[0m     r, sol \u001b[38;5;241m=\u001b[39m methodc(f, a, b, args\u001b[38;5;241m=\u001b[39margs, \u001b[38;5;241m*\u001b[39m\u001b[38;5;241m*\u001b[39mkwargs)\n\u001b[0;32m    276\u001b[0m \u001b[38;5;28;01melif\u001b[39;00m meth \u001b[38;5;129;01min\u001b[39;00m [\u001b[38;5;124m'\u001b[39m\u001b[38;5;124msecant\u001b[39m\u001b[38;5;124m'\u001b[39m]:\n\u001b[0;32m    277\u001b[0m     \u001b[38;5;28;01mif\u001b[39;00m x0 \u001b[38;5;129;01mis\u001b[39;00m \u001b[38;5;28;01mNone\u001b[39;00m:\n",
      "File \u001b[1;32m~\\anaconda4\\envs\\PlantGravitropism\\Lib\\site-packages\\scipy\\optimize\\_zeros_py.py:784\u001b[0m, in \u001b[0;36mbrentq\u001b[1;34m(f, a, b, args, xtol, rtol, maxiter, full_output, disp)\u001b[0m\n\u001b[0;32m    782\u001b[0m \u001b[38;5;28;01mif\u001b[39;00m rtol \u001b[38;5;241m<\u001b[39m _rtol:\n\u001b[0;32m    783\u001b[0m     \u001b[38;5;28;01mraise\u001b[39;00m \u001b[38;5;167;01mValueError\u001b[39;00m(\u001b[38;5;124m\"\u001b[39m\u001b[38;5;124mrtol too small (\u001b[39m\u001b[38;5;132;01m%g\u001b[39;00m\u001b[38;5;124m < \u001b[39m\u001b[38;5;132;01m%g\u001b[39;00m\u001b[38;5;124m)\u001b[39m\u001b[38;5;124m\"\u001b[39m \u001b[38;5;241m%\u001b[39m (rtol, _rtol))\n\u001b[1;32m--> 784\u001b[0m r \u001b[38;5;241m=\u001b[39m _zeros\u001b[38;5;241m.\u001b[39m_brentq(f, a, b, xtol, rtol, maxiter, args, full_output, disp)\n\u001b[0;32m    785\u001b[0m \u001b[38;5;28;01mreturn\u001b[39;00m results_c(full_output, r)\n",
      "\u001b[1;31mValueError\u001b[0m: f(a) and f(b) must have different signs"
     ]
    }
   ],
   "source": [
    "outer_func(0.3,0.5,-3)"
   ]
  },
  {
   "cell_type": "code",
   "execution_count": 56,
   "id": "9373a2bd",
   "metadata": {},
   "outputs": [
    {
     "name": "stdout",
     "output_type": "stream",
     "text": [
      "[-0.26794919 -0.26794919]\n"
     ]
    }
   ],
   "source": [
    "import numpy as np\n",
    "from scipy import optimize\n",
    "\n",
    "def function1(x):\n",
    "    return x**2 + 4*x + 1\n",
    "\n",
    "sol = optimize.root(function1, [0,0], method='hybr')\n",
    "print(sol.x)\n"
   ]
  },
  {
   "cell_type": "code",
   "execution_count": 103,
   "id": "76fbaec5",
   "metadata": {},
   "outputs": [],
   "source": [
    "# https://www.desmos.com/calculator/uk0k1aanby\n",
    "    "
   ]
  },
  {
   "cell_type": "code",
   "execution_count": null,
   "id": "c7542eec",
   "metadata": {},
   "outputs": [],
   "source": []
  }
 ],
 "metadata": {
  "kernelspec": {
   "display_name": "Python 3 (ipykernel)",
   "language": "python",
   "name": "python3"
  },
  "language_info": {
   "codemirror_mode": {
    "name": "ipython",
    "version": 3
   },
   "file_extension": ".py",
   "mimetype": "text/x-python",
   "name": "python",
   "nbconvert_exporter": "python",
   "pygments_lexer": "ipython3",
   "version": "3.11.3"
  }
 },
 "nbformat": 4,
 "nbformat_minor": 5
}
