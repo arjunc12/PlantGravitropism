{
 "cells": [
  {
   "cell_type": "code",
   "execution_count": 3,
   "id": "24709e54-a159-4728-937d-29e81fe99eeb",
   "metadata": {},
   "outputs": [],
   "source": [
    "import scipy"
   ]
  },
  {
   "cell_type": "code",
   "execution_count": 1,
   "id": "562edae4-1631-483f-9b20-1eacfcad34bb",
   "metadata": {},
   "outputs": [],
   "source": [
    "import pylab"
   ]
  },
  {
   "cell_type": "code",
   "execution_count": 13,
   "id": "c4111af2-e828-47b2-8fda-d9e524c8d3b9",
   "metadata": {},
   "outputs": [],
   "source": [
    "import matplotlib.pyplot as plt"
   ]
  },
  {
   "cell_type": "code",
   "execution_count": 28,
   "id": "0f8a70e7",
   "metadata": {},
   "outputs": [],
   "source": [
    "import plotly.express as px\n",
    "import matplotlib.pyplot as plt\n",
    "import numpy as np"
   ]
  },
  {
   "cell_type": "code",
   "execution_count": 9,
   "id": "f675418a",
   "metadata": {},
   "outputs": [],
   "source": [
    "from scipy import optimize"
   ]
  },
  {
   "cell_type": "code",
   "execution_count": 100,
   "id": "fe6c8c2b",
   "metadata": {},
   "outputs": [],
   "source": [
    "def outer_func(G,p,q):\n",
    "    \n",
    "    def b(t):\n",
    "        return (q-G*p**2-t)/p\n",
    "    def c(p):\n",
    "        return (-1)/p\n",
    "    def d(p):\n",
    "        return 2*G*p\n",
    "    def e(t):\n",
    "        return 2*G*p+((q-G*p**2-t)/p)\n",
    "    def f(t):\n",
    "        return 1+(2*G*p+((q-G*p**2-t)/p))**2\n",
    "    def g(t):\n",
    "        return 1+((q-G*p**2-t)/p)**2\n",
    "    \n",
    "        \n",
    "    \n",
    "    def func1(t):\n",
    "        return c(p)*(f(t)**(1/2) \\\n",
    "                      +(e(t)**2)*(f(t)**(-1/2)))\n",
    "    def func2(t):\n",
    "        return ((f(t)**(1/2)+e(t))**(-1))*(c(p)*(1+e(t)*(f(t)**(-1/2))))\n",
    "    def func3(t):\n",
    "        return (g(t))**(1/2)-(g(t))**(-1/2)*b(t)**2\n",
    "    def func4(t):\n",
    "        return c(p)*(((g(t))**(1/2)+b(t))**(-1)*(1+(e(t))*(f(t))**(-1/2)))\n",
    "    \n",
    "    def messyDeriv(t):\n",
    "        return (1/(4*G))*(func1(t)+func2(t)+func3(t)+func4(t))\n",
    "    \n",
    "    \n",
    "    def f1(t):\n",
    "        return c(p)*((1/2)*((1+2*c(p)*e(t))**(-1/2)) + 2*c(p)*e(t)*(1+(e(t))**2)**(-1/2) - c(p)*(e(t)**3)*(1+e(t)**3)**(-3/2))\n",
    "        \n",
    "    def f2(t):\n",
    "        return (-c(p)*(e(t) + (1 + e(t)**2)**(1/2))**(-2) - c(p)*e(t)*(1 + e(t)**2)**(-1/2)) * (c(p)*(1 + e(t)*(1 + e(t)**2)**(-1/2))) + ((c(p)**2)*((1 + e(t)**2)**(-1/2) - (e(t)**2)*(1+e(t)**2)**(-3/2))) * (e(t) + (1+e(t)**2)**(1/2))**(-1)\n",
    "        \n",
    "    def f3(t):\n",
    "        return c(p)*b(t)*(1 + b(t)**2)**(-1/2)\n",
    "        \n",
    "    def f4(t):\n",
    "        return -2*c(p)*b(t)*(1 + b(t)**2)**(-1/2) + c(p)*b(t)**3*(1+b(t)**2)**(-3/2)\n",
    "    \n",
    "    def f5(t):\n",
    "        return (b(t) + (1 + b(t)**2)**(1/2))**(-1) * (c(p)*((1 + e(t)**2)**(-1/2) - (e(t)**2)*(1+e(t)**2)**(-3/2))) + ((-(c(p))**2)*b(t)*(b(t) + (1 + b(t)**2)**(1/2))**(-2)*(1+b(t)**2)**(-1/2)) * (1 + e(t)*(1+e(t)**2)**(-1/2))\n",
    "    \n",
    "    def messierDerivPrime(t):\n",
    "        return (1/(4*G))*(f1(t)+f2(t)+f3(t)+f4(t)+f5(t))\n",
    "            \n",
    "    \n",
    "    sol=optimize.root_scalar(messyDeriv, x0=1, fprime=messierDerivPrime, method='newton')\n",
    "    print(sol)"
   ]
  },
  {
   "cell_type": "code",
   "execution_count": 101,
   "id": "684470be",
   "metadata": {},
   "outputs": [
    {
     "ename": "OverflowError",
     "evalue": "complex exponentiation",
     "output_type": "error",
     "traceback": [
      "\u001b[1;31m---------------------------------------------------------------------------\u001b[0m",
      "\u001b[1;31mOverflowError\u001b[0m                             Traceback (most recent call last)",
      "Cell \u001b[1;32mIn[101], line 1\u001b[0m\n\u001b[1;32m----> 1\u001b[0m outer_func(\u001b[38;5;241m0.3\u001b[39m,\u001b[38;5;241m0.5\u001b[39m,\u001b[38;5;241m-\u001b[39m\u001b[38;5;241m3\u001b[39m)\n",
      "Cell \u001b[1;32mIn[100], line 51\u001b[0m, in \u001b[0;36mouter_func\u001b[1;34m(G, p, q)\u001b[0m\n\u001b[0;32m     47\u001b[0m \u001b[38;5;28;01mdef\u001b[39;00m \u001b[38;5;21mmessierDerivPrime\u001b[39m(t):\n\u001b[0;32m     48\u001b[0m     \u001b[38;5;28;01mreturn\u001b[39;00m (\u001b[38;5;241m1\u001b[39m\u001b[38;5;241m/\u001b[39m(\u001b[38;5;241m4\u001b[39m\u001b[38;5;241m*\u001b[39mG))\u001b[38;5;241m*\u001b[39m(f1(t)\u001b[38;5;241m+\u001b[39mf2(t)\u001b[38;5;241m+\u001b[39mf3(t)\u001b[38;5;241m+\u001b[39mf4(t)\u001b[38;5;241m+\u001b[39mf5(t))\n\u001b[1;32m---> 51\u001b[0m sol\u001b[38;5;241m=\u001b[39moptimize\u001b[38;5;241m.\u001b[39mroot_scalar(messyDeriv, x0\u001b[38;5;241m=\u001b[39m\u001b[38;5;241m1\u001b[39m, fprime\u001b[38;5;241m=\u001b[39mmessierDerivPrime, method\u001b[38;5;241m=\u001b[39m\u001b[38;5;124m'\u001b[39m\u001b[38;5;124mnewton\u001b[39m\u001b[38;5;124m'\u001b[39m)\n\u001b[0;32m     52\u001b[0m \u001b[38;5;28mprint\u001b[39m(sol)\n",
      "File \u001b[1;32m~\\anaconda4\\envs\\PlantGravitropism\\Lib\\site-packages\\scipy\\optimize\\_root_scalar.py:292\u001b[0m, in \u001b[0;36mroot_scalar\u001b[1;34m(f, args, method, bracket, fprime, fprime2, x0, x1, xtol, rtol, maxiter, options)\u001b[0m\n\u001b[0;32m    290\u001b[0m     \u001b[38;5;28;01mif\u001b[39;00m \u001b[38;5;124m'\u001b[39m\u001b[38;5;124mxtol\u001b[39m\u001b[38;5;124m'\u001b[39m \u001b[38;5;129;01min\u001b[39;00m kwargs:\n\u001b[0;32m    291\u001b[0m         kwargs[\u001b[38;5;124m'\u001b[39m\u001b[38;5;124mtol\u001b[39m\u001b[38;5;124m'\u001b[39m] \u001b[38;5;241m=\u001b[39m kwargs\u001b[38;5;241m.\u001b[39mpop(\u001b[38;5;124m'\u001b[39m\u001b[38;5;124mxtol\u001b[39m\u001b[38;5;124m'\u001b[39m)\n\u001b[1;32m--> 292\u001b[0m     r, sol \u001b[38;5;241m=\u001b[39m methodc(f, x0, args\u001b[38;5;241m=\u001b[39margs, fprime\u001b[38;5;241m=\u001b[39mfprime, fprime2\u001b[38;5;241m=\u001b[39m\u001b[38;5;28;01mNone\u001b[39;00m,\n\u001b[0;32m    293\u001b[0m                      \u001b[38;5;241m*\u001b[39m\u001b[38;5;241m*\u001b[39mkwargs)\n\u001b[0;32m    294\u001b[0m \u001b[38;5;28;01melif\u001b[39;00m meth \u001b[38;5;129;01min\u001b[39;00m [\u001b[38;5;124m'\u001b[39m\u001b[38;5;124mhalley\u001b[39m\u001b[38;5;124m'\u001b[39m]:\n\u001b[0;32m    295\u001b[0m     \u001b[38;5;28;01mif\u001b[39;00m x0 \u001b[38;5;129;01mis\u001b[39;00m \u001b[38;5;28;01mNone\u001b[39;00m:\n",
      "File \u001b[1;32m~\\anaconda4\\envs\\PlantGravitropism\\Lib\\site-packages\\scipy\\optimize\\_zeros_py.py:294\u001b[0m, in \u001b[0;36mnewton\u001b[1;34m(func, x0, fprime, args, tol, maxiter, fprime2, x1, rtol, full_output, disp)\u001b[0m\n\u001b[0;32m    291\u001b[0m \u001b[38;5;28;01mif\u001b[39;00m fval \u001b[38;5;241m==\u001b[39m \u001b[38;5;241m0\u001b[39m:\n\u001b[0;32m    292\u001b[0m     \u001b[38;5;28;01mreturn\u001b[39;00m _results_select(\n\u001b[0;32m    293\u001b[0m         full_output, (p0, funcalls, itr, _ECONVERGED))\n\u001b[1;32m--> 294\u001b[0m fder \u001b[38;5;241m=\u001b[39m fprime(p0, \u001b[38;5;241m*\u001b[39margs)\n\u001b[0;32m    295\u001b[0m funcalls \u001b[38;5;241m+\u001b[39m\u001b[38;5;241m=\u001b[39m \u001b[38;5;241m1\u001b[39m\n\u001b[0;32m    296\u001b[0m \u001b[38;5;28;01mif\u001b[39;00m fder \u001b[38;5;241m==\u001b[39m \u001b[38;5;241m0\u001b[39m:\n",
      "Cell \u001b[1;32mIn[100], line 48\u001b[0m, in \u001b[0;36mouter_func.<locals>.messierDerivPrime\u001b[1;34m(t)\u001b[0m\n\u001b[0;32m     47\u001b[0m \u001b[38;5;28;01mdef\u001b[39;00m \u001b[38;5;21mmessierDerivPrime\u001b[39m(t):\n\u001b[1;32m---> 48\u001b[0m     \u001b[38;5;28;01mreturn\u001b[39;00m (\u001b[38;5;241m1\u001b[39m\u001b[38;5;241m/\u001b[39m(\u001b[38;5;241m4\u001b[39m\u001b[38;5;241m*\u001b[39mG))\u001b[38;5;241m*\u001b[39m(f1(t)\u001b[38;5;241m+\u001b[39mf2(t)\u001b[38;5;241m+\u001b[39mf3(t)\u001b[38;5;241m+\u001b[39mf4(t)\u001b[38;5;241m+\u001b[39mf5(t))\n",
      "Cell \u001b[1;32mIn[100], line 33\u001b[0m, in \u001b[0;36mouter_func.<locals>.f1\u001b[1;34m(t)\u001b[0m\n\u001b[0;32m     32\u001b[0m \u001b[38;5;28;01mdef\u001b[39;00m \u001b[38;5;21mf1\u001b[39m(t):\n\u001b[1;32m---> 33\u001b[0m     \u001b[38;5;28;01mreturn\u001b[39;00m c(p)\u001b[38;5;241m*\u001b[39m((\u001b[38;5;241m1\u001b[39m\u001b[38;5;241m/\u001b[39m\u001b[38;5;241m2\u001b[39m)\u001b[38;5;241m*\u001b[39m((\u001b[38;5;241m1\u001b[39m\u001b[38;5;241m+\u001b[39m\u001b[38;5;241m2\u001b[39m\u001b[38;5;241m*\u001b[39mc(p)\u001b[38;5;241m*\u001b[39me(t))\u001b[38;5;241m*\u001b[39m\u001b[38;5;241m*\u001b[39m(\u001b[38;5;241m-\u001b[39m\u001b[38;5;241m1\u001b[39m\u001b[38;5;241m/\u001b[39m\u001b[38;5;241m2\u001b[39m)) \u001b[38;5;241m+\u001b[39m \u001b[38;5;241m2\u001b[39m\u001b[38;5;241m*\u001b[39mc(p)\u001b[38;5;241m*\u001b[39me(t)\u001b[38;5;241m*\u001b[39m(\u001b[38;5;241m1\u001b[39m\u001b[38;5;241m+\u001b[39m(e(t))\u001b[38;5;241m*\u001b[39m\u001b[38;5;241m*\u001b[39m\u001b[38;5;241m2\u001b[39m)\u001b[38;5;241m*\u001b[39m\u001b[38;5;241m*\u001b[39m(\u001b[38;5;241m-\u001b[39m\u001b[38;5;241m1\u001b[39m\u001b[38;5;241m/\u001b[39m\u001b[38;5;241m2\u001b[39m) \u001b[38;5;241m-\u001b[39m c(p)\u001b[38;5;241m*\u001b[39m(e(t)\u001b[38;5;241m*\u001b[39m\u001b[38;5;241m*\u001b[39m\u001b[38;5;241m3\u001b[39m)\u001b[38;5;241m*\u001b[39m(\u001b[38;5;241m1\u001b[39m\u001b[38;5;241m+\u001b[39me(t)\u001b[38;5;241m*\u001b[39m\u001b[38;5;241m*\u001b[39m\u001b[38;5;241m3\u001b[39m)\u001b[38;5;241m*\u001b[39m\u001b[38;5;241m*\u001b[39m(\u001b[38;5;241m-\u001b[39m\u001b[38;5;241m3\u001b[39m\u001b[38;5;241m/\u001b[39m\u001b[38;5;241m2\u001b[39m))\n",
      "\u001b[1;31mOverflowError\u001b[0m: complex exponentiation"
     ]
    }
   ],
   "source": [
    "outer_func(0.3,0.5,-3)"
   ]
  },
  {
   "cell_type": "code",
   "execution_count": 56,
   "id": "9373a2bd",
   "metadata": {},
   "outputs": [
    {
     "name": "stdout",
     "output_type": "stream",
     "text": [
      "[-0.26794919 -0.26794919]\n"
     ]
    }
   ],
   "source": [
    "import numpy as np\n",
    "from scipy import optimize\n",
    "\n",
    "def function1(x):\n",
    "    return x**2 + 4*x + 1\n",
    "\n",
    "sol = optimize.root(function1, [0,0], method='hybr')\n",
    "print(sol.x)\n"
   ]
  },
  {
   "cell_type": "code",
   "execution_count": 102,
   "id": "76fbaec5",
   "metadata": {},
   "outputs": [
    {
     "ename": "SyntaxError",
     "evalue": "invalid syntax (2572600452.py, line 1)",
     "output_type": "error",
     "traceback": [
      "\u001b[1;36m  Cell \u001b[1;32mIn[102], line 1\u001b[1;36m\u001b[0m\n\u001b[1;33m    https://www.desmos.com/calculator/uk0k1aanby\u001b[0m\n\u001b[1;37m          ^\u001b[0m\n\u001b[1;31mSyntaxError\u001b[0m\u001b[1;31m:\u001b[0m invalid syntax\n"
     ]
    }
   ],
   "source": [
    "https://www.desmos.com/calculator/uk0k1aanby\n",
    "    "
   ]
  },
  {
   "cell_type": "code",
   "execution_count": null,
   "id": "e6928425",
   "metadata": {},
   "outputs": [],
   "source": []
  }
 ],
 "metadata": {
  "kernelspec": {
   "display_name": "Python 3 (ipykernel)",
   "language": "python",
   "name": "python3"
  },
  "language_info": {
   "codemirror_mode": {
    "name": "ipython",
    "version": 3
   },
   "file_extension": ".py",
   "mimetype": "text/x-python",
   "name": "python",
   "nbconvert_exporter": "python",
   "pygments_lexer": "ipython3",
   "version": "3.11.3"
  }
 },
 "nbformat": 4,
 "nbformat_minor": 5
}
